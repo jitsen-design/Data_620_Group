{
 "cells": [
  {
   "cell_type": "markdown",
   "metadata": {},
   "source": [
    "## Data 620 Final Project Proposal\n",
    "### A Comparison of Two Novels\n",
    "Jit Seneviratne and Sheryl Piechocki  \n",
    "July 11, 2020\n",
    "\n",
    "\n",
    "**Data**  \n",
    "The data used in this project is the texts of two classic books, <u>Pride and Prejudice</u> by Jane Austen and <u>Oliver Twist</u> by Charles Dickens.  The text of both of these books is available on the Project Gutenberg website. \n",
    "\n",
    "Sources: \n",
    "* [Pride and Prejudice](https://www.gutenberg.org/files/1342/1342-0.txt)\n",
    "* [Oliver Twist](http://www.gutenberg.org/cache/epub/730/pg730.txt)\n",
    "\n",
    "**Analysis**  \n",
    "We plan to compare the two novels for character centrality, count of unique words, keywords, and character closeness using Word2Vec word vectors. We also hope to look at sentiment analysis for the two novels. The sentiment polarity in Oliver Twist should show up as more negative than Pride and Prejudice. \n",
    "  \n",
    "**Plan**  \n",
    "1. Our plan is to read in the text of both novels, clean them by removing punctuation and stop words, and split them by chapters.  \n",
    "2. A bipartite graph of chapters and characters will be created, along with the character projection graph in order to compare degree centralities of characters.  \n",
    "3. We will also determine the count of unique words and top words in each novel.  \n",
    "4. Next, we will also look at character vector similarity using Word2Vec.\n",
    "5. Finally, we will look at sentiment analysis at a sentence level for each chapter and compare the two novels for their general sentiment.\n",
    "\n",
    "**Work in Progress**\n",
    "Here is our work thus far. We have one file for each novel.\n",
    "\n",
    "* [Oliver Twist](https://github.com/jitsen-design/Data_620_Group/blob/master/Final_Project/final_project_jit2-OT.ipynb)\n",
    "* [Pride and Prejudice](https://github.com/jitsen-design/Data_620_Group/blob/master/Final_Project/final_project_jit2-PP.ipynb)\n"
   ]
  },
  {
   "cell_type": "code",
   "execution_count": null,
   "metadata": {},
   "outputs": [],
   "source": []
  }
 ],
 "metadata": {
  "kernelspec": {
   "display_name": "ml-env",
   "language": "python",
   "name": "ml-env"
  },
  "language_info": {
   "codemirror_mode": {
    "name": "ipython",
    "version": 3
   },
   "file_extension": ".py",
   "mimetype": "text/x-python",
   "name": "python",
   "nbconvert_exporter": "python",
   "pygments_lexer": "ipython3",
   "version": "3.7.7"
  },
  "toc": {
   "base_numbering": 1,
   "nav_menu": {},
   "number_sections": true,
   "sideBar": true,
   "skip_h1_title": false,
   "title_cell": "Table of Contents",
   "title_sidebar": "Contents",
   "toc_cell": false,
   "toc_position": {},
   "toc_section_display": true,
   "toc_window_display": false
  }
 },
 "nbformat": 4,
 "nbformat_minor": 4
}
