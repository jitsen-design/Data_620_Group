{
 "cells": [
  {
   "cell_type": "markdown",
   "metadata": {},
   "source": [
    "## Data 620 Final Project Proposal\n",
    "### A Comparison of Two Novels\n",
    "Jit Seneviratne and Sheryl Piechocki  \n",
    "July 11, 2020\n",
    "\n",
    "\n",
    "**Data**  \n",
    "The data used in this project is the texts of two classic books, <u>Pride and Prejudice</u> by Jane Austen and <u>Oliver Twist</u> by Charles Dickens.  The text of both of these books is available on the Project Gutenberg website. \n",
    "\n",
    "Sources: https://www.gutenberg.org/files/1342/1342-0.txt, http://www.gutenberg.org/cache/epub/730/pg730.txt\n",
    "\n",
    "**Analysis**  \n",
    "We plan to compare the two novels for character centrality, count of unique words, keywords, and word to vec word vector closeness.  \n",
    "  \n",
    "**Plan**  \n",
    "Our plan is to read in the text of both novels, clean them by removing punctuation and stop words, and split them by chapters.  A bipartite graph of chapters and characters will be created, along with the character projection graph in order to compare degree centralities of characters.  We will determine the count of unique words and top words in each novel.  We will also look at character vector similarity using word2vec\n"
   ]
  },
  {
   "cell_type": "code",
   "execution_count": null,
   "metadata": {},
   "outputs": [],
   "source": []
  }
 ],
 "metadata": {
  "kernelspec": {
   "display_name": "Python 3.7.4 64-bit ('base': conda)",
   "language": "python",
   "name": "python37464bitbaseconda0f2540ca00c14c548fd578f4a6b1a719"
  },
  "language_info": {
   "codemirror_mode": {
    "name": "ipython",
    "version": 3
   },
   "file_extension": ".py",
   "mimetype": "text/x-python",
   "name": "python",
   "nbconvert_exporter": "python",
   "pygments_lexer": "ipython3",
   "version": "3.7.6"
  }
 },
 "nbformat": 4,
 "nbformat_minor": 4
}
