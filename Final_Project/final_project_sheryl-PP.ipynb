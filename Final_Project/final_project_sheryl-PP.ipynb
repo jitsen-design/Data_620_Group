{
 "cells": [
  {
   "cell_type": "markdown",
   "metadata": {},
   "source": [
    "### Import modules and libraries for use"
   ]
  },
  {
   "cell_type": "code",
   "execution_count": 1,
   "metadata": {
    "ExecuteTime": {
     "end_time": "2020-07-09T14:49:55.650399Z",
     "start_time": "2020-07-09T14:49:54.151426Z"
    }
   },
   "outputs": [
    {
     "data": {
      "text/html": [
       "        <script type=\"text/javascript\">\n",
       "        window.PlotlyConfig = {MathJaxConfig: 'local'};\n",
       "        if (window.MathJax) {MathJax.Hub.Config({SVG: {font: \"STIX-Web\"}});}\n",
       "        if (typeof require !== 'undefined') {\n",
       "        require.undef(\"plotly\");\n",
       "        requirejs.config({\n",
       "            paths: {\n",
       "                'plotly': ['https://cdn.plot.ly/plotly-latest.min']\n",
       "            }\n",
       "        });\n",
       "        require(['plotly'], function(Plotly) {\n",
       "            window._Plotly = Plotly;\n",
       "        });\n",
       "        }\n",
       "        </script>\n",
       "        "
      ]
     },
     "metadata": {},
     "output_type": "display_data"
    }
   ],
   "source": [
    "import nltk\n",
    "import urllib\n",
    "import pandas as pd\n",
    "from nltk.corpus import wordnet\n",
    "from nltk.tokenize import sent_tokenize, word_tokenize \n",
    "from nltk.stem import WordNetLemmatizer\n",
    "from nltk.tag import pos_tag\n",
    "from textblob import TextBlob\n",
    "from nltk.util import ngrams\n",
    "from collections import Counter\n",
    "from operator import itemgetter\n",
    "from nltk.corpus import stopwords\n",
    "from sklearn.feature_extraction.text import CountVectorizer\n",
    "from scipy.sparse.linalg import svds\n",
    "from sklearn.feature_extraction.text import TfidfVectorizer\n",
    "from sklearn.decomposition import NMF, LatentDirichletAllocation\n",
    "import os\n",
    "import re\n",
    "from sklearn.manifold import TSNE\n",
    "from collections import defaultdict\n",
    "from nltk.corpus import stopwords\n",
    "from sklearn.manifold import TSNE\n",
    "import gensim\n",
    "import string\n",
    "from gensim import corpora\n",
    "import networkx as nx\n",
    "import matplotlib.pyplot as plt\n",
    "from plotly.offline import iplot, plot\n",
    "import plotly.graph_objs as go\n",
    "import numpy as np\n",
    "from plotly.offline import init_notebook_mode, plot, iplot\n",
    "init_notebook_mode(connected=True)"
   ]
  },
  {
   "cell_type": "code",
   "execution_count": 2,
   "metadata": {
    "ExecuteTime": {
     "end_time": "2020-07-09T14:49:56.374403Z",
     "start_time": "2020-07-09T14:49:55.652996Z"
    }
   },
   "outputs": [],
   "source": [
    "pride = urllib.request.urlopen('https://www.gutenberg.org/files/1342/1342-0.txt').read()\n",
    "pride_lines = pride.decode('utf8')"
   ]
  },
  {
   "cell_type": "code",
   "execution_count": 3,
   "metadata": {
    "ExecuteTime": {
     "end_time": "2020-07-09T14:49:56.386301Z",
     "start_time": "2020-07-09T14:49:56.378339Z"
    }
   },
   "outputs": [],
   "source": [
    "def find_chapters(book):\n",
    "    chapters = {}\n",
    "    i = 0\n",
    "    b = 0\n",
    "    for x in range(1, 62):\n",
    "        i = book.find(\"Chapter\", + b)\n",
    "        b = book.find(\"Chapter\", i + 1)\n",
    "        chapters['Chapter {}'.format(x)] = book[i:b]\n",
    "    return chapters"
   ]
  },
  {
   "cell_type": "code",
   "execution_count": 4,
   "metadata": {
    "ExecuteTime": {
     "end_time": "2020-07-09T14:49:56.403459Z",
     "start_time": "2020-07-09T14:49:56.388663Z"
    }
   },
   "outputs": [],
   "source": [
    "stop = stopwords.words('english') + ['mr',\n",
    "                                     'mrs',\n",
    "                                     'miss', \n",
    "                                     'say',\n",
    "                                     'have', \n",
    "                                     'might',\n",
    "                                     'thought',\n",
    "                                     'would', \n",
    "                                     'could', \n",
    "                                     'make', \n",
    "                                     'much',\n",
    "                                     'dear',\n",
    "                                     'must',\n",
    "                                     'know',\n",
    "                                     'one',\n",
    "                                     'good',\n",
    "                                     'every',\n",
    "                                     'towards',\n",
    "                                     'give',\n",
    "                                     'come',\n",
    "                                     'go',\n",
    "                                     'elizabeth', \n",
    "                                     'darcy', \n",
    "                                     'bingley', \n",
    "                                     'catherine',\n",
    "                                     'mrbennet', \n",
    "                                     'mrsbennet', \n",
    "                                     'lydia',\n",
    "                                     'wickham',\n",
    "                                     'caroline',\n",
    "                                     'jane',\n",
    "                                     'collins',\n",
    "                                     'charlotte',\n",
    "                                     'kitty',\n",
    "                                     'mary',\n",
    "                                     'fitzwilliam',\n",
    "                                     'mrgardiner',\n",
    "                                     'mrsgardiner',\n",
    "                                     'georgiana',\n",
    "                                     'well',\n",
    "                                     'see',\n",
    "                                     'think',\n",
    "                                     'though',\n",
    "                                     'never',\n",
    "                                     'always',\n",
    "                                     'although',\n",
    "                                     'may',\n",
    "                                     'soon',\n",
    "                                     'wish',\n",
    "                                     'take',\n",
    "                                     'great',\n",
    "                                     'nothing',\n",
    "                                     'something',\n",
    "                                     'young',\n",
    "                                     'look',\n",
    "                                     'even',\n",
    "                                     'cannot',\n",
    "                                     'many',\n",
    "                                     'few',\n",
    "                                     'even',\n",
    "                                     'however',\n",
    "                                     'like',\n",
    "                                     'lucas'\n",
    "                                     'ever',\n",
    "                                     'feel',\n",
    "                                     'shall',\n",
    "                                     'hope',\n",
    "                                     'sure',\n",
    "                                     'yes',\n",
    "                                     'no',\n",
    "                                     'oh',\n",
    "                                     'two',\n",
    "                                     'three',\n",
    "                                     'first',\n",
    "                                     'second',\n",
    "                                     'third',\n",
    "                                     'with',\n",
    "                                     'without',\n",
    "                                     'use',\n",
    "                                     'quite']\n",
    "\n",
    "def get_wordnet_pos(treebank_tag):\n",
    "    if treebank_tag.startswith('J'):\n",
    "        return wordnet.ADJ\n",
    "    elif treebank_tag.startswith('V'):\n",
    "        return wordnet.VERB\n",
    "    elif treebank_tag.startswith('N'):\n",
    "        return wordnet.NOUN\n",
    "    elif treebank_tag.startswith('R'):\n",
    "        return wordnet.ADV\n",
    "    else:\n",
    "        return 'n'\n",
    "    \n",
    "def lemmatize_word(word):\n",
    "    lemmatizer = WordNetLemmatizer()\n",
    "    try:\n",
    "        tag = get_wordnet_pos(nltk.pos_tag([word])[0][1])\n",
    "        return lemmatizer.lemmatize(word, pos=tag)\n",
    "    except:\n",
    "        pass"
   ]
  },
  {
   "cell_type": "code",
   "execution_count": 5,
   "metadata": {
    "ExecuteTime": {
     "end_time": "2020-07-09T14:49:56.414076Z",
     "start_time": "2020-07-09T14:49:56.405620Z"
    }
   },
   "outputs": [],
   "source": [
    "def all_sentences(corpus,\n",
    "                  include_stop=True):\n",
    "    vocab = []\n",
    "    \n",
    "    text = corpus.replace('Fitzwilliam Darcy','Darcy')\\\n",
    "                 .replace('Fitzwilliam', 'Darcy')\\\n",
    "                 .replace('Lizzy','Elizabeth')\\\n",
    "                 .replace('LIZZY','Elizabeth')\\\n",
    "                 .replace('Mrs. Collins', 'Charlotte')\\\n",
    "                 .replace('Charlotte Lucas', 'Charlotte')\\\n",
    "                 .replace('Mr. Bennet', 'MrBennet')\\\n",
    "                 .replace('Mrs. Bennet', 'MrsBennet')\\\n",
    "                 .replace('Mr. Gardiner', 'MrGardiner')\\\n",
    "                 .replace('Mrs. Gardiner', 'MrsGardiner')\\\n",
    "    \n",
    "    for line in sent_tokenize(text):\n",
    "        line= re.sub('[%s]|Chapter' % re.escape(string.punctuation), '', line)\n",
    "        line = re.sub('[^a-zA-Z\\ ]', '', line)\n",
    "        line = line.lower()\n",
    "        line = line.split()\n",
    "        if include_stop:\n",
    "            line = [lemmatize_word(x) for x in line if lemmatize_word(x) not in stop]\n",
    "        else:\n",
    "            line = [lemmatize_word(x) for x in line]\n",
    "        vocab.append(line)\n",
    "    return vocab"
   ]
  },
  {
   "cell_type": "markdown",
   "metadata": {},
   "source": [
    "### Function to get word frequencies"
   ]
  },
  {
   "cell_type": "code",
   "execution_count": 6,
   "metadata": {
    "ExecuteTime": {
     "end_time": "2020-07-09T14:49:56.421613Z",
     "start_time": "2020-07-09T14:49:56.416827Z"
    }
   },
   "outputs": [],
   "source": [
    "def get_frequecies(corpus):\n",
    "    dictionary = corpora.Dictionary(corpus)\n",
    "    # You can check the mapping by caling 'token2id' attribute.\n",
    "    id_map = dictionary.token2id\n",
    "    count_map = dictionary.dfs\n",
    "    word_count = {}\n",
    "    for word, id_ in id_map.items():\n",
    "        word_count[word] = count_map[id_]\n",
    "    sorted_corpus = sorted([(x,y) \n",
    "                           for x,y in word_count.items()], \n",
    "                           key=lambda x: x[1], reverse=True)\n",
    "    return sorted_corpus"
   ]
  },
  {
   "cell_type": "markdown",
   "metadata": {},
   "source": [
    "### Top Keywords in Full Corpus"
   ]
  },
  {
   "cell_type": "code",
   "execution_count": 7,
   "metadata": {
    "ExecuteTime": {
     "end_time": "2020-07-09T14:50:21.299728Z",
     "start_time": "2020-07-09T14:49:56.423388Z"
    }
   },
   "outputs": [
    {
     "data": {
      "text/plain": [
       "[('sister', 286),\n",
       " ('lady', 252),\n",
       " ('time', 217),\n",
       " ('little', 182),\n",
       " ('day', 159),\n",
       " ('friend', 158),\n",
       " ('family', 156),\n",
       " ('man', 145),\n",
       " ('manner', 137),\n",
       " ('reply', 132),\n",
       " ('mother', 132),\n",
       " ('daughter', 131),\n",
       " ('father', 129),\n",
       " ('believe', 128),\n",
       " ('ever', 127),\n",
       " ('last', 122),\n",
       " ('letter', 121),\n",
       " ('walk', 119),\n",
       " ('room', 117),\n",
       " ('u', 116),\n",
       " ('long', 115),\n",
       " ('away', 115),\n",
       " ('talk', 110),\n",
       " ('house', 109),\n",
       " ('return', 108),\n",
       " ('bennet', 108),\n",
       " ('receive', 108),\n",
       " ('seem', 106),\n",
       " ('way', 104),\n",
       " ('answer', 102),\n",
       " ('enough', 101),\n",
       " ('saw', 99),\n",
       " ('love', 96),\n",
       " ('felt', 96),\n",
       " ('pleasure', 95),\n",
       " ('cry', 94),\n",
       " ('attention', 94),\n",
       " ('subject', 93),\n",
       " ('speak', 93),\n",
       " ('indeed', 92),\n",
       " ('till', 91),\n",
       " ('mean', 90),\n",
       " ('add', 90),\n",
       " ('begin', 88),\n",
       " ('really', 88),\n",
       " ('longbourn', 88),\n",
       " ('often', 87),\n",
       " ('suppose', 87),\n",
       " ('feeling', 85),\n",
       " ('place', 85),\n",
       " ('call', 85),\n",
       " ('ask', 85),\n",
       " ('heard', 84),\n",
       " ('get', 83),\n",
       " ('part', 83),\n",
       " ('expect', 83),\n",
       " ('want', 82),\n",
       " ('aunt', 81),\n",
       " ('morning', 80),\n",
       " ('turn', 80),\n",
       " ('moment', 80),\n",
       " ('write', 80),\n",
       " ('girl', 79),\n",
       " ('whole', 79),\n",
       " ('happy', 79),\n",
       " ('anything', 78),\n",
       " ('leave', 78),\n",
       " ('far', 78),\n",
       " ('woman', 77),\n",
       " ('let', 76),\n",
       " ('tell', 76),\n",
       " ('word', 76),\n",
       " ('brother', 76),\n",
       " ('perhaps', 75),\n",
       " ('less', 75),\n",
       " ('gentleman', 75),\n",
       " ('opinion', 74),\n",
       " ('therefore', 73),\n",
       " ('sir', 73),\n",
       " ('upon', 73),\n",
       " ('present', 73),\n",
       " ('lucas', 72),\n",
       " ('find', 72),\n",
       " ('yet', 72),\n",
       " ('happiness', 72),\n",
       " ('netherfield', 71),\n",
       " ('still', 71),\n",
       " ('uncle', 71),\n",
       " ('next', 70),\n",
       " ('appear', 70),\n",
       " ('thing', 69),\n",
       " ('certainly', 69),\n",
       " ('assure', 69),\n",
       " ('consider', 68),\n",
       " ('party', 68),\n",
       " ('hear', 68),\n",
       " ('follow', 67),\n",
       " ('smile', 67),\n",
       " ('found', 67),\n",
       " ('eye', 66),\n",
       " ('told', 65),\n",
       " ('left', 65),\n",
       " ('world', 65),\n",
       " ('home', 65),\n",
       " ('marriage', 65),\n",
       " ('least', 64),\n",
       " ('mention', 64),\n",
       " ('visit', 63),\n",
       " ('character', 63),\n",
       " ('dance', 63),\n",
       " ('town', 63),\n",
       " ('acquaintance', 62),\n",
       " ('kind', 62),\n",
       " ('affection', 62),\n",
       " ('colonel', 62),\n",
       " ('married', 61),\n",
       " ('idea', 61),\n",
       " ('conversation', 61),\n",
       " ('pass', 61),\n",
       " ('allow', 61),\n",
       " ('together', 61),\n",
       " ('immediately', 60),\n",
       " ('year', 60),\n",
       " ('marry', 59),\n",
       " ('life', 59),\n",
       " ('person', 59),\n",
       " ('point', 59),\n",
       " ('mind', 58),\n",
       " ('since', 58),\n",
       " ('knew', 58),\n",
       " ('another', 58),\n",
       " ('express', 58),\n",
       " ('almost', 58),\n",
       " ('side', 58),\n",
       " ('enter', 57),\n",
       " ('either', 57),\n",
       " ('cousin', 57),\n",
       " ('object', 57),\n",
       " ('settle', 56),\n",
       " ('reason', 56),\n",
       " ('behaviour', 55),\n",
       " ('rather', 55),\n",
       " ('meryton', 55),\n",
       " ('possible', 55),\n",
       " ('dare', 54),\n",
       " ('honour', 53),\n",
       " ('bingleys', 53),\n",
       " ('able', 53),\n",
       " ('others', 52),\n",
       " ('husband', 52),\n",
       " ('london', 52),\n",
       " ('regard', 52),\n",
       " ('general', 51),\n",
       " ('continued', 51),\n",
       " ('join', 51),\n",
       " ('occasion', 50),\n",
       " ('understand', 50),\n",
       " ('certain', 50),\n",
       " ('whose', 50),\n",
       " ('hour', 50),\n",
       " ('pemberley', 50),\n",
       " ('observe', 49),\n",
       " ('course', 49),\n",
       " ('people', 49),\n",
       " ('carriage', 49),\n",
       " ('civility', 49),\n",
       " ('wife', 48),\n",
       " ('engage', 48),\n",
       " ('spirit', 48),\n",
       " ('power', 48),\n",
       " ('whether', 48),\n",
       " ('darcys', 48),\n",
       " ('doubt', 48),\n",
       " ('week', 47),\n",
       " ('determine', 47),\n",
       " ('minute', 47),\n",
       " ('particular', 47),\n",
       " ('wonder', 47),\n",
       " ('perfectly', 47),\n",
       " ('ill', 46),\n",
       " ('hardly', 46),\n",
       " ('rosings', 46),\n",
       " ('half', 45),\n",
       " ('address', 45),\n",
       " ('heart', 45),\n",
       " ('circumstance', 45),\n",
       " ('everything', 45),\n",
       " ('scarcely', 45),\n",
       " ('fear', 44),\n",
       " ('care', 44),\n",
       " ('stay', 44),\n",
       " ('longer', 44),\n",
       " ('ought', 43),\n",
       " ('account', 43),\n",
       " ('business', 43),\n",
       " ('else', 43),\n",
       " ('persuade', 43),\n",
       " ('agreeable', 43),\n",
       " ('near', 43),\n",
       " ('convince', 43),\n",
       " ('listen', 43),\n",
       " ('short', 43),\n",
       " ('endeavour', 43),\n",
       " ('respect', 42),\n",
       " ('advantage', 42),\n",
       " ('back', 42),\n",
       " ('ladyship', 42),\n",
       " ('spoke', 41),\n",
       " ('remain', 41),\n",
       " ('offer', 41),\n",
       " ('fortune', 40),\n",
       " ('name', 40),\n",
       " ('oblige', 40),\n",
       " ('lose', 40),\n",
       " ('compliment', 40),\n",
       " ('help', 40),\n",
       " ('interest', 40),\n",
       " ('right', 40),\n",
       " ('best', 39),\n",
       " ('william', 39),\n",
       " ('impossible', 39),\n",
       " ('promise', 39),\n",
       " ('read', 39),\n",
       " ('rest', 39),\n",
       " ('door', 39),\n",
       " ('hertfordshire', 39),\n",
       " ('met', 39),\n",
       " ('former', 39),\n",
       " ('prevent', 39),\n",
       " ('resolve', 39),\n",
       " ('likely', 38),\n",
       " ('child', 38),\n",
       " ('pleased', 38),\n",
       " ('sat', 38),\n",
       " ('situation', 38),\n",
       " ('pride', 38),\n",
       " ('attend', 38),\n",
       " ('neither', 38),\n",
       " ('country', 38),\n",
       " ('concern', 38),\n",
       " ('case', 37),\n",
       " ('poor', 37),\n",
       " ('ball', 37),\n",
       " ('afraid', 37),\n",
       " ('question', 37),\n",
       " ('brought', 37),\n",
       " ('officer', 37),\n",
       " ('connection', 37),\n",
       " ('sort', 37),\n",
       " ('happen', 37),\n",
       " ('de', 37),\n",
       " ('matter', 36),\n",
       " ('beyond', 36),\n",
       " ('laugh', 36),\n",
       " ('forster', 36),\n",
       " ('change', 36),\n",
       " ('handsome', 35),\n",
       " ('glad', 35),\n",
       " ('form', 35),\n",
       " ('dinner', 35),\n",
       " ('comfort', 35),\n",
       " ('sit', 35),\n",
       " ('please', 35),\n",
       " ('surprise', 35),\n",
       " ('sense', 35),\n",
       " ('silence', 35),\n",
       " ('put', 35),\n",
       " ('relation', 35),\n",
       " ('invitation', 34),\n",
       " ('early', 34),\n",
       " ('ten', 34),\n",
       " ('everybody', 34),\n",
       " ('also', 34),\n",
       " ('small', 34),\n",
       " ('night', 34),\n",
       " ('expression', 34),\n",
       " ('hand', 34),\n",
       " ('surprised', 34),\n",
       " ('try', 34),\n",
       " ('usual', 34),\n",
       " ('thousand', 33),\n",
       " ('merely', 33),\n",
       " ('live', 33),\n",
       " ('wait', 33),\n",
       " ('within', 33),\n",
       " ('amiable', 33),\n",
       " ('deal', 33),\n",
       " ('different', 33),\n",
       " ('head', 33),\n",
       " ('remember', 33),\n",
       " ('open', 33),\n",
       " ('bad', 33),\n",
       " ('appearance', 33),\n",
       " ('whatever', 33),\n",
       " ('end', 32),\n",
       " ('fine', 32),\n",
       " ('men', 32),\n",
       " ('meet', 32),\n",
       " ('niece', 32),\n",
       " ('keep', 32),\n",
       " ('sensible', 32),\n",
       " ('sorry', 32),\n",
       " ('afterwards', 32),\n",
       " ('imagine', 32),\n",
       " ('air', 32),\n",
       " ('particularly', 32),\n",
       " ('admire', 32),\n",
       " ('satisfied', 32),\n",
       " ('lead', 32),\n",
       " ('society', 32),\n",
       " ('repeat', 32),\n",
       " ('length', 32),\n",
       " ('set', 32),\n",
       " ('inquiry', 32),\n",
       " ('engagement', 32),\n",
       " ('pain', 32),\n",
       " ('bourgh', 32),\n",
       " ('wickhams', 32),\n",
       " ('view', 31),\n",
       " ('equal', 31),\n",
       " ('sometimes', 31),\n",
       " ('necessary', 31),\n",
       " ('real', 31),\n",
       " ('instantly', 31),\n",
       " ('large', 30),\n",
       " ('five', 30),\n",
       " ('fancy', 30),\n",
       " ('intend', 30),\n",
       " ('astonishment', 30),\n",
       " ('countenance', 30),\n",
       " ('hurst', 30),\n",
       " ('consequence', 30),\n",
       " ('opportunity', 30),\n",
       " ('notice', 30),\n",
       " ('table', 30),\n",
       " ('forward', 30),\n",
       " ('acknowledge', 29),\n",
       " ('four', 29),\n",
       " ('servant', 29),\n",
       " ('design', 29),\n",
       " ('high', 29),\n",
       " ('depend', 29),\n",
       " ('news', 29),\n",
       " ('kindness', 29),\n",
       " ('arrival', 29),\n",
       " ('bring', 29),\n",
       " ('charm', 29),\n",
       " ('alone', 29),\n",
       " ('face', 29),\n",
       " ('reach', 29),\n",
       " ('attempt', 29),\n",
       " ('month', 29),\n",
       " ('neighbourhood', 28),\n",
       " ('beauty', 28),\n",
       " ('desire', 28),\n",
       " ('delight', 28),\n",
       " ('highly', 28),\n",
       " ('meant', 28),\n",
       " ('janes', 28),\n",
       " ('become', 28),\n",
       " ('force', 28),\n",
       " ('exactly', 28),\n",
       " ('increase', 28),\n",
       " ('satisfaction', 28),\n",
       " ('fix', 27),\n",
       " ('information', 27),\n",
       " ('acquaint', 27),\n",
       " ('book', 27),\n",
       " ('already', 27),\n",
       " ('credit', 27),\n",
       " ('event', 27),\n",
       " ('beg', 27),\n",
       " ('attachment', 27),\n",
       " ('show', 27),\n",
       " ('phillips', 27),\n",
       " ('bear', 27),\n",
       " ('master', 27),\n",
       " ('truth', 26),\n",
       " ('temper', 26),\n",
       " ('disposition', 26),\n",
       " ('anxious', 26),\n",
       " ('true', 26),\n",
       " ('silent', 26),\n",
       " ('pray', 26),\n",
       " ('scheme', 26),\n",
       " ('wholly', 26),\n",
       " ('prove', 26),\n",
       " ('absence', 26),\n",
       " ('objection', 25),\n",
       " ('send', 25),\n",
       " ('among', 25),\n",
       " ('sake', 25),\n",
       " ('stand', 25),\n",
       " ('admiration', 25),\n",
       " ('expectation', 25),\n",
       " ('praise', 25),\n",
       " ('quit', 25),\n",
       " ('favour', 25),\n",
       " ('easily', 25),\n",
       " ('except', 25),\n",
       " ('approach', 25),\n",
       " ('thus', 25),\n",
       " ('strong', 25),\n",
       " ('conduct', 25),\n",
       " ('exceedingly', 25),\n",
       " ('affair', 25),\n",
       " ('ago', 25),\n",
       " ('money', 25),\n",
       " ('visitor', 25),\n",
       " ('hearing', 24),\n",
       " ('declare', 24),\n",
       " ('derbyshire', 24),\n",
       " ('estate', 24),\n",
       " ('hop', 24),\n",
       " ('pretty', 24),\n",
       " ('curiosity', 24),\n",
       " ('anyone', 24),\n",
       " ('entirely', 24),\n",
       " ('play', 24),\n",
       " ('work', 24),\n",
       " ('pause', 24),\n",
       " ('meeting', 24),\n",
       " ('trust', 24),\n",
       " ('hunsford', 24),\n",
       " ('term', 24),\n",
       " ('living', 24),\n",
       " ('regret', 24),\n",
       " ('match', 24),\n",
       " ('delighted', 23),\n",
       " ('recommend', 23),\n",
       " ('introduce', 23),\n",
       " ('fortnight', 23),\n",
       " ('new', 23),\n",
       " ('step', 23),\n",
       " ('easy', 23),\n",
       " ('dislike', 23),\n",
       " ('several', 23),\n",
       " ('inquire', 23),\n",
       " ('anybody', 23),\n",
       " ('pound', 23),\n",
       " ('importance', 23),\n",
       " ('nature', 23),\n",
       " ('perceive', 23),\n",
       " ('degree', 23),\n",
       " ('companion', 23),\n",
       " ('serious', 23),\n",
       " ('probably', 23),\n",
       " ('hurry', 23),\n",
       " ('gardiner', 23),\n",
       " ('inclination', 23),\n",
       " ('favourite', 23),\n",
       " ('assurance', 23),\n",
       " ('seat', 23),\n",
       " ('frequently', 23),\n",
       " ('state', 23),\n",
       " ('nephew', 23),\n",
       " ('cause', 23),\n",
       " ('recollect', 23),\n",
       " ('brighton', 23),\n",
       " ('park', 22),\n",
       " ('humour', 22),\n",
       " ('suffer', 22),\n",
       " ('spent', 22),\n",
       " ('library', 22),\n",
       " ('company', 22),\n",
       " ('proud', 22),\n",
       " ('gratify', 22),\n",
       " ('natural', 22),\n",
       " ('spite', 22),\n",
       " ('remove', 22),\n",
       " ('directly', 22),\n",
       " ('gratitude', 22),\n",
       " ('refuse', 22),\n",
       " ('regiment', 22),\n",
       " ('breakfast', 22),\n",
       " ('latter', 22),\n",
       " ('voice', 22),\n",
       " ('trouble', 22),\n",
       " ('thank', 22),\n",
       " ('especially', 22),\n",
       " ('need', 22),\n",
       " ('fair', 22),\n",
       " ('distress', 22),\n",
       " ('agree', 21),\n",
       " ('flatter', 21),\n",
       " ('pleasant', 21),\n",
       " ('accept', 21),\n",
       " ('neighbour', 21),\n",
       " ('window', 21),\n",
       " ('instead', 21),\n",
       " ('slight', 21),\n",
       " ('eliza', 21),\n",
       " ('conceal', 21),\n",
       " ('intention', 21),\n",
       " ('avoid', 21),\n",
       " ('order', 21),\n",
       " ('comprehend', 21),\n",
       " ('madam', 21),\n",
       " ('proceed', 21),\n",
       " ('effect', 21),\n",
       " ('evil', 21),\n",
       " ('journey', 21),\n",
       " ('share', 20),\n",
       " ('knowledge', 20),\n",
       " ('chance', 20),\n",
       " ('equally', 20),\n",
       " ('eldest', 20),\n",
       " ('partner', 20),\n",
       " ('mistaken', 20),\n",
       " ('invite', 20),\n",
       " ('excuse', 20),\n",
       " ('whenever', 20),\n",
       " ('proper', 20),\n",
       " ('ready', 20),\n",
       " ('alarm', 20),\n",
       " ('late', 20),\n",
       " ('inform', 20),\n",
       " ('sent', 20),\n",
       " ('run', 20),\n",
       " ('colour', 20),\n",
       " ('rejoice', 20),\n",
       " ('welcome', 20),\n",
       " ('full', 20),\n",
       " ('confess', 20),\n",
       " ('occur', 20),\n",
       " ('forget', 19),\n",
       " ('reflection', 19),\n",
       " ('choose', 19),\n",
       " ('delightful', 19),\n",
       " ('drew', 19),\n",
       " ('maria', 19),\n",
       " ('common', 19),\n",
       " ('vain', 19),\n",
       " ('cold', 19),\n",
       " ('resolution', 19),\n",
       " ('affected', 19),\n",
       " ('proposal', 19),\n",
       " ('prevail', 19),\n",
       " ('recollection', 19),\n",
       " ('street', 19),\n",
       " ('blame', 19),\n",
       " ('none', 18),\n",
       " ('paid', 18),\n",
       " ('act', 18),\n",
       " ('excellent', 18),\n",
       " ('intelligence', 18),\n",
       " ('lively', 18),\n",
       " ('plan', 18),\n",
       " ('resentment', 18),\n",
       " ('unless', 18),\n",
       " ('superior', 18),\n",
       " ('mile', 18),\n",
       " ('light', 18),\n",
       " ('sentiment', 18),\n",
       " ('danger', 18),\n",
       " ('require', 18),\n",
       " ('anxiety', 18),\n",
       " ('apply', 18),\n",
       " ('esteem', 18),\n",
       " ('health', 18),\n",
       " ('prospect', 18),\n",
       " ('direct', 18),\n",
       " ('watch', 18),\n",
       " ('explain', 18),\n",
       " ('loss', 18),\n",
       " ('concerned', 18),\n",
       " ('stair', 18),\n",
       " ('summer', 18),\n",
       " ('deceive', 18),\n",
       " ('disappointment', 18),\n",
       " ('scene', 18),\n",
       " ('fall', 17),\n",
       " ('line', 17),\n",
       " ('sight', 17),\n",
       " ('arrive', 17),\n",
       " ('angry', 17),\n",
       " ('round', 17),\n",
       " ('stranger', 17),\n",
       " ('likewise', 17),\n",
       " ('dispose', 17),\n",
       " ('observation', 17),\n",
       " ('civil', 17),\n",
       " ('absolutely', 17),\n",
       " ('purpose', 17),\n",
       " ('vanity', 17),\n",
       " ('secure', 17),\n",
       " ('success', 17),\n",
       " ('felicity', 17),\n",
       " ('bow', 17),\n",
       " ('move', 17),\n",
       " ('politeness', 17),\n",
       " ('indifference', 17),\n",
       " ('dearest', 17),\n",
       " ('hint', 17),\n",
       " ('motive', 17),\n",
       " ('drawingroom', 17),\n",
       " ('deserve', 17),\n",
       " ('direction', 17),\n",
       " ('recover', 17),\n",
       " ('carry', 17),\n",
       " ('kept', 17),\n",
       " ('ground', 17),\n",
       " ('son', 17),\n",
       " ('affectionate', 17),\n",
       " ('rise', 17),\n",
       " ('encourage', 17),\n",
       " ('extraordinary', 16),\n",
       " ('consent', 16),\n",
       " ('ignorant', 16),\n",
       " ('reserve', 16),\n",
       " ('suddenly', 16),\n",
       " ('escape', 16),\n",
       " ('report', 16),\n",
       " ('fond', 16),\n",
       " ('admit', 16),\n",
       " ('decide', 16),\n",
       " ('discover', 16),\n",
       " ('nobody', 16),\n",
       " ('dress', 16),\n",
       " ('interrupt', 16),\n",
       " ('related', 16),\n",
       " ('perfect', 16),\n",
       " ('chose', 16),\n",
       " ('period', 16),\n",
       " ('composure', 16),\n",
       " ('generally', 16),\n",
       " ('guard', 16),\n",
       " ('pas', 16),\n",
       " ('suspect', 16),\n",
       " ('request', 16),\n",
       " ('conclude', 16),\n",
       " ('duty', 16),\n",
       " ('dine', 16),\n",
       " ('accepted', 16),\n",
       " ('readily', 16),\n",
       " ('spoken', 16),\n",
       " ('tone', 16),\n",
       " ('housekeeper', 16),\n",
       " ('gain', 16),\n",
       " ('conviction', 16),\n",
       " ('relate', 16),\n",
       " ('saturday', 16),\n",
       " ('pardon', 16),\n",
       " ('parsonage', 16),\n",
       " ('produce', 16),\n",
       " ('capable', 16),\n",
       " ('connect', 16),\n",
       " ('ashamed', 16),\n",
       " ('single', 15),\n",
       " ('old', 15),\n",
       " ('consideration', 15),\n",
       " ('contain', 15),\n",
       " ('conjecture', 15),\n",
       " ('extremely', 15),\n",
       " ('fortunate', 15),\n",
       " ('grieve', 15),\n",
       " ('close', 15),\n",
       " ('beautiful', 15),\n",
       " ('creature', 15),\n",
       " ('tolerable', 15),\n",
       " ('advice', 15),\n",
       " ('seek', 15),\n",
       " ('shock', 15),\n",
       " ('worth', 15),\n",
       " ('ease', 15),\n",
       " ('folly', 15),\n",
       " ('fact', 15),\n",
       " ('age', 15),\n",
       " ('render', 15),\n",
       " ('offend', 15),\n",
       " ('mine', 15),\n",
       " ('influence', 15),\n",
       " ('evident', 15),\n",
       " ('study', 15),\n",
       " ('succeed', 15),\n",
       " ('pay', 15),\n",
       " ('wrong', 15),\n",
       " ('winter', 15),\n",
       " ('astonish', 15),\n",
       " ('speech', 15),\n",
       " ('otherwise', 15),\n",
       " ('chief', 15),\n",
       " ('justice', 15),\n",
       " ('excite', 15),\n",
       " ('earnest', 15),\n",
       " ('future', 15),\n",
       " ('owe', 15),\n",
       " ('misery', 15),\n",
       " ('farther', 15),\n",
       " ('belief', 15),\n",
       " ('compassion', 14),\n",
       " ('unable', 14),\n",
       " ('amusement', 14),\n",
       " ('tomorrow', 14),\n",
       " ('disagreeable', 14),\n",
       " ('pronounce', 14),\n",
       " ('behind', 14),\n",
       " ('twice', 14),\n",
       " ('struck', 14),\n",
       " ('thanks', 14),\n",
       " ('choice', 14),\n",
       " ('greatly', 14),\n",
       " ('intimate', 14),\n",
       " ('tolerably', 14),\n",
       " ('din', 14),\n",
       " ('eagerly', 14),\n",
       " ('taste', 14),\n",
       " ('bestow', 14),\n",
       " ('distance', 14),\n",
       " ('amuse', 14),\n",
       " ('learn', 14),\n",
       " ('aware', 14),\n",
       " ('enjoyment', 14),\n",
       " ('picture', 14),\n",
       " ('reading', 14),\n",
       " ('afford', 14),\n",
       " ('content', 14),\n",
       " ('expose', 14),\n",
       " ('finish', 14),\n",
       " ('quarter', 14),\n",
       " ('kent', 14),\n",
       " ('humble', 14),\n",
       " ('indifferent', 14),\n",
       " ('debt', 14),\n",
       " ('console', 14),\n",
       " ('wedding', 14),\n",
       " ('apprehension', 14),\n",
       " ('road', 14),\n",
       " ('heaven', 13),\n",
       " ('venture', 13),\n",
       " ('meaning', 13),\n",
       " ('neglect', 13),\n",
       " ('assistance', 13),\n",
       " ('principal', 13),\n",
       " ('learnt', 13),\n",
       " ('elegant', 13),\n",
       " ('protest', 13),\n",
       " ('respectable', 13),\n",
       " ('spend', 13),\n",
       " ('opening', 13),\n",
       " ('grow', 13),\n",
       " ('value', 13),\n",
       " ('suspicion', 13),\n",
       " ('leisure', 13),\n",
       " ('sooner', 13),\n",
       " ('stood', 13),\n",
       " ('frequent', 13),\n",
       " ('yesterday', 13),\n",
       " ('whisper', 13),\n",
       " ('low', 13),\n",
       " ('possibility', 13),\n",
       " ('relief', 13),\n",
       " ('partiality', 13),\n",
       " ('comparison', 13),\n",
       " ('congratulation', 13),\n",
       " ('hill', 13),\n",
       " ('grateful', 13),\n",
       " ('exclaim', 13),\n",
       " ('assist', 13),\n",
       " ('understood', 13),\n",
       " ('eager', 13),\n",
       " ('painful', 13),\n",
       " ('disgrace', 13),\n",
       " ('attach', 13),\n",
       " ('stop', 13),\n",
       " ('anger', 13),\n",
       " ('marked', 13),\n",
       " ('seriously', 13),\n",
       " ('distressed', 13),\n",
       " ('unhappy', 13),\n",
       " ('sentence', 13),\n",
       " ('reasonable', 13),\n",
       " ('pretend', 12),\n",
       " ('silly', 12),\n",
       " ('tear', 12),\n",
       " ('actually', 12),\n",
       " ('joy', 12),\n",
       " ('favourable', 12),\n",
       " ('entertain', 12),\n",
       " ('etc', 12),\n",
       " ('entrance', 12),\n",
       " ('noble', 12),\n",
       " ('occasionally', 12),\n",
       " ('amongst', 12),\n",
       " ('enjoy', 12),\n",
       " ('disappointed', 12),\n",
       " ('steady', 12),\n",
       " ('rich', 12),\n",
       " ('arise', 12),\n",
       " ('represent', 12),\n",
       " ('deny', 12),\n",
       " ('entail', 12),\n",
       " ('contempt', 12),\n",
       " ('besides', 12),\n",
       " ('treat', 12),\n",
       " ('advise', 12),\n",
       " ('clothes', 12),\n",
       " ('boast', 12),\n",
       " ('remark', 12),\n",
       " ('judge', 12),\n",
       " ('pity', 12),\n",
       " ('profession', 12),\n",
       " ('ran', 12),\n",
       " ('tuesday', 12),\n",
       " ('communication', 12),\n",
       " ('lately', 12),\n",
       " ('lord', 12),\n",
       " ('false', 12),\n",
       " ('prepare', 12),\n",
       " ('garden', 12),\n",
       " ('naturally', 12),\n",
       " ('relationship', 12),\n",
       " ('shire', 12),\n",
       " ('comfortable', 12),\n",
       " ('constant', 12),\n",
       " ('satisfy', 12),\n",
       " ('dread', 12),\n",
       " ('immediate', 12),\n",
       " ('shortly', 12),\n",
       " ('interference', 12),\n",
       " ('probable', 12),\n",
       " ('elder', 12),\n",
       " ('chaise', 11),\n",
       " ('difficult', 11),\n",
       " ('assembly', 11),\n",
       " ('employ', 11),\n",
       " ('mamma', 11),\n",
       " ('introduction', 11),\n",
       " ('hate', 11),\n",
       " ('tempt', 11),\n",
       " ('excessively', 11),\n",
       " ('suit', 11),\n",
       " ('difference', 11),\n",
       " ('judgement', 11),\n",
       " ('private', 11),\n",
       " ('rank', 11),\n",
       " ('provide', 11),\n",
       " ('fail', 11),\n",
       " ('forgive', 11),\n",
       " ('mortify', 11),\n",
       " ('due', 11),\n",
       " ('public', 11),\n",
       " ('continue', 11),\n",
       " ('vexation', 11),\n",
       " ('caught', 11),\n",
       " ('provoke', 11),\n",
       " ('instrument', 11),\n",
       " ('entreaty', 11),\n",
       " ('hard', 11),\n",
       " ('application', 11),\n",
       " ('passing', 11),\n",
       " ('desirable', 11),\n",
       " ('mrsbennets', 11),\n",
       " ('aloud', 11),\n",
       " ('trifle', 11),\n",
       " ('cross', 11),\n",
       " ('wild', 11),\n",
       " ('music', 11),\n",
       " ('supper', 11),\n",
       " ('accompany', 11),\n",
       " ('triumph', 11),\n",
       " ('overcome', 11),\n",
       " ('earnestly', 11),\n",
       " ('confusion', 11),\n",
       " ('opposite', 11),\n",
       " ('tea', 11),\n",
       " ('confidence', 11),\n",
       " ('education', 11),\n",
       " ('shook', 11),\n",
       " ('delicacy', 11),\n",
       " ('moreover', 11),\n",
       " ('apologise', 11),\n",
       " ('instance', 11),\n",
       " ('hall', 11),\n",
       " ('lane', 11),\n",
       " ('separate', 11),\n",
       " ('denny', 11),\n",
       " ('income', 11),\n",
       " ('forgotten', 11),\n",
       " ('claim', 11),\n",
       " ('dreadful', 11),\n",
       " ('necessity', 11),\n",
       " ('imprudent', 11),\n",
       " ('pursue', 11),\n",
       " ('courage', 11),\n",
       " ('drove', 11),\n",
       " ('support', 11),\n",
       " ('throw', 10),\n",
       " ('preference', 10),\n",
       " ('insufficient', 10),\n",
       " ('unlucky', 10),\n",
       " ('horse', 10),\n",
       " ('consequently', 10),\n",
       " ('quiet', 10),\n",
       " ('six', 10),\n",
       " ('feature', 10),\n",
       " ('violent', 10),\n",
       " ('press', 10),\n",
       " ('distinguish', 10),\n",
       " ('accomplish', 10),\n",
       " ('complete', 10),\n",
       " ('fault', 10),\n",
       " ('habit', 10),\n",
       " ('memory', 10),\n",
       " ('purchase', 10),\n",
       " ('unwilling', 10),\n",
       " ('attentive', 10),\n",
       " ('contrary', 10),\n",
       " ('lodge', 10),\n",
       " ('misfortune', 10),\n",
       " ('remarkably', 10),\n",
       " ('argument', 10),\n",
       " ('probability', 10),\n",
       " ('consolation', 10),\n",
       " ('encouragement', 10),\n",
       " ('undoubtedly', 10),\n",
       " ('partial', 10),\n",
       " ('clear', 10),\n",
       " ('strange', 10),\n",
       " ('glance', 10),\n",
       " ('plain', 10),\n",
       " ('supply', 10),\n",
       " ('coach', 10),\n",
       " ('die', 10),\n",
       " ('examine', 10),\n",
       " ('inclined', 10),\n",
       " ('heartily', 10),\n",
       " ('benefit', 10),\n",
       " ('improvement', 10),\n",
       " ('chiefly', 10),\n",
       " ('important', 10),\n",
       " ('apology', 10),\n",
       " ('perform', 10),\n",
       " ('remind', 10),\n",
       " ('shame', 10),\n",
       " ('merit', 10),\n",
       " ('intimacy', 10),\n",
       " ('reject', 10),\n",
       " ('explanation', 10),\n",
       " ('wise', 10),\n",
       " ('scruple', 10),\n",
       " ('church', 10),\n",
       " ('prepared', 10),\n",
       " ('interruption', 10),\n",
       " ('generous', 10),\n",
       " ('notion', 10),\n",
       " ('utmost', 10),\n",
       " ('attribute', 10),\n",
       " ('relieve', 10),\n",
       " ('employment', 10),\n",
       " ('behave', 10),\n",
       " ('virtue', 10),\n",
       " ('sincere', 10),\n",
       " ('awkward', 10),\n",
       " ('amazement', 10),\n",
       " ('embarrassment', 10),\n",
       " ('happiest', 10),\n",
       " ('secrecy', 10),\n",
       " ('goodness', 10),\n",
       " ('wood', 10),\n",
       " ('reynolds', 10),\n",
       " ('possession', 9),\n",
       " ('monday', 9),\n",
       " ('mistake', 9),\n",
       " ('quick', 9),\n",
       " ('tease', 9),\n",
       " ('mrbennets', 9),\n",
       " ('draw', 9),\n",
       " ('fashion', 9),\n",
       " ('disgust', 9),\n",
       " ('figure', 9),\n",
       " ('save', 9),\n",
       " ('uncommonly', 9),\n",
       " ('story', 9),\n",
       " ('raise', 9),\n",
       " ('gown', 9),\n",
       " ('blind', 9),\n",
       " ('friendship', 9),\n",
       " ('commendation', 9),\n",
       " ('valuable', 9),\n",
       " ('lip', 9),\n",
       " ('sound', 9),\n",
       " ('entreat', 9),\n",
       " ('grave', 9),\n",
       " ('persuasion', 9),\n",
       " ('note', 9),\n",
       " ('quarrel', 9),\n",
       " ('today', 9),\n",
       " ('fit', 9),\n",
       " ('insist', 9),\n",
       " ('exertion', 9),\n",
       " ('along', 9),\n",
       " ('prefer', 9),\n",
       " ('expense', 9),\n",
       " ('patience', 9),\n",
       " ('describe', 9),\n",
       " ('elegance', 9),\n",
       " ('comply', 9),\n",
       " ('repeatedly', 9),\n",
       " ('sunday', 9),\n",
       " ...]"
      ]
     },
     "execution_count": 7,
     "metadata": {},
     "output_type": "execute_result"
    }
   ],
   "source": [
    "full_corpus = all_sentences(pride_lines[2229:-19175])\n",
    "frequencies = get_frequecies(full_corpus)\n",
    "frequencies"
   ]
  },
  {
   "cell_type": "markdown",
   "metadata": {},
   "source": [
    "### Total Unique Words"
   ]
  },
  {
   "cell_type": "code",
   "execution_count": 8,
   "metadata": {
    "ExecuteTime": {
     "end_time": "2020-07-09T14:50:21.305882Z",
     "start_time": "2020-07-09T14:50:21.302598Z"
    }
   },
   "outputs": [
    {
     "data": {
      "text/plain": [
       "4971"
      ]
     },
     "execution_count": 8,
     "metadata": {},
     "output_type": "execute_result"
    }
   ],
   "source": [
    "len(frequencies)"
   ]
  },
  {
   "cell_type": "markdown",
   "metadata": {},
   "source": [
    "### Top Keywords in Each Chapter"
   ]
  },
  {
   "cell_type": "code",
   "execution_count": 9,
   "metadata": {
    "ExecuteTime": {
     "end_time": "2020-07-09T14:50:42.294452Z",
     "start_time": "2020-07-09T14:50:21.308096Z"
    }
   },
   "outputs": [
    {
     "name": "stdout",
     "output_type": "stream",
     "text": [
      "Chapter 1 [('visit', 5), ('man', 4), ('single', 4), ('wife', 4), ('girl', 4)]\n",
      "Chapter 2 [('visit', 4), ('acquaintance', 4), ('till', 3), ('wife', 3), ('long', 3)]\n",
      "Chapter 3 [('dance', 14), ('lady', 8), ('room', 8), ('sister', 7), ('handsome', 6)]\n",
      "Chapter 4 [('sister', 5), ('people', 4), ('house', 4), ('man', 3), ('character', 3)]\n",
      "Chapter 5 [('lucas', 7), ('seem', 4), ('believe', 4), ('pride', 4), ('bennet', 3)]\n",
      "Chapter 6 [('dance', 10), ('sir', 8), ('lucas', 7), ('lady', 6), ('sister', 6)]\n",
      "Chapter 7 [('mother', 7), ('meryton', 7), ('father', 6), ('officer', 6), ('sister', 5)]\n",
      "Chapter 8 [('sister', 14), ('lady', 7), ('accomplish', 7), ('bennet', 6), ('hurst', 5)]\n",
      "Chapter 9 [('country', 9), ('mother', 8), ('sister', 5), ('girl', 5), ('netherfield', 5)]\n",
      "Chapter 10 [('letter', 8), ('write', 8), ('friend', 6), ('hurst', 5), ('cry', 5)]\n",
      "Chapter 11 [('laugh', 6), ('hurst', 6), ('book', 6), ('conversation', 5), ('room', 5)]\n",
      "Chapter 12 [('netherfield', 4), ('carriage', 3), ('day', 3), ('morning', 3), ('sister', 3)]\n",
      "Chapter 13 [('daughter', 7), ('letter', 7), ('family', 6), ('man', 6), ('mean', 5)]\n",
      "Chapter 14 [('lady', 13), ('little', 5), ('observe', 4), ('book', 4), ('seem', 3)]\n",
      "Chapter 15 [('lady', 6), ('walk', 6), ('return', 6), ('daughter', 5), ('civility', 5)]\n",
      "Chapter 16 [('man', 11), ('lady', 10), ('phillips', 9), ('manner', 9), ('father', 9)]\n",
      "Chapter 17 [('dance', 6), ('ball', 5), ('invitation', 4), ('netherfield', 4), ('bingleys', 3)]\n",
      "Chapter 18 [('dance', 15), ('sister', 15), ('lady', 14), ('talk', 13), ('time', 13)]\n",
      "Chapter 19 [('honour', 7), ('assure', 6), ('feeling', 5), ('time', 5), ('address', 5)]\n",
      "Chapter 20 [('talk', 7), ('reply', 6), ('enter', 5), ('daughter', 5), ('upon', 5)]\n",
      "Chapter 21 [('sister', 8), ('friend', 7), ('return', 7), ('brother', 7), ('leave', 6)]\n",
      "Chapter 22 [('lucas', 9), ('time', 6), ('return', 6), ('lady', 6), ('day', 5)]\n",
      "Chapter 23 [('lucas', 8), ('daughter', 6), ('sir', 6), ('happiness', 6), ('day', 6)]\n",
      "Chapter 24 [('sister', 9), ('happiness', 6), ('time', 5), ('little', 5), ('day', 5)]\n",
      "Chapter 25 [('sister', 8), ('love', 6), ('longbourn', 5), ('man', 5), ('part', 5)]\n",
      "Chapter 26 [('aunt', 7), ('letter', 7), ('sister', 7), ('love', 6), ('visit', 6)]\n",
      "Chapter 27 [('girl', 5), ('little', 4), ('time', 4), ('aunt', 4), ('sorry', 3)]\n",
      "Chapter 28 [('lady', 10), ('garden', 7), ('house', 7), ('rosings', 5), ('gate', 4)]\n",
      "Chapter 29 [('lady', 25), ('sir', 9), ('ladyship', 8), ('de', 7), ('manner', 6)]\n",
      "Chapter 30 [('family', 5), ('lady', 5), ('room', 5), ('rosings', 5), ('week', 4)]\n",
      "Chapter 31 [('lady', 12), ('colonel', 8), ('music', 6), ('hear', 6), ('play', 6)]\n",
      "Chapter 32 [('friend', 9), ('seem', 7), ('family', 5), ('call', 5), ('lady', 4)]\n",
      "Chapter 33 [('suppose', 7), ('walk', 6), ('little', 6), ('lady', 6), ('colonel', 5)]\n",
      "Chapter 34 [('feeling', 8), ('room', 5), ('manner', 5), ('moment', 5), ('receive', 4)]\n",
      "Chapter 35 [('sister', 15), ('father', 10), ('last', 8), ('letter', 7), ('believe', 7)]\n",
      "Chapter 36 [('read', 7), ('letter', 6), ('sister', 5), ('remember', 5), ('power', 4)]\n",
      "Chapter 37 [('lady', 9), ('rosings', 5), ('daughter', 5), ('last', 5), ('mother', 5)]\n",
      "Chapter 38 [('lady', 5), ('kindness', 4), ('leave', 4), ('thanks', 4), ('u', 4)]\n",
      "Chapter 39 [('u', 8), ('get', 6), ('home', 6), ('fun', 6), ('way', 5)]\n",
      "Chapter 40 [('sister', 7), ('feeling', 4), ('sorry', 4), ('believe', 4), ('speak', 4)]\n",
      "Chapter 41 [('brighton', 8), ('little', 7), ('forster', 6), ('saw', 6), ('add', 5)]\n",
      "Chapter 42 [('little', 6), ('place', 6), ('disappointment', 5), ('pemberley', 5), ('family', 4)]\n",
      "Chapter 43 [('walk', 16), ('master', 13), ('time', 11), ('aunt', 11), ('little', 10)]\n",
      "Chapter 44 [('manner', 8), ('long', 8), ('sister', 7), ('day', 6), ('little', 6)]\n",
      "Chapter 45 [('house', 6), ('saw', 6), ('talk', 5), ('bingleys', 4), ('fear', 4)]\n",
      "Chapter 46 [('letter', 10), ('write', 8), ('colonel', 8), ('u', 8), ('ill', 7)]\n",
      "Chapter 47 [('colonel', 10), ('forster', 9), ('u', 9), ('reply', 8), ('till', 8)]\n",
      "Chapter 48 [('letter', 9), ('family', 7), ('time', 7), ('day', 6), ('away', 6)]\n",
      "Chapter 49 [('cry', 10), ('married', 10), ('father', 9), ('write', 9), ('uncle', 8)]\n",
      "Chapter 50 [('daughter', 11), ('marriage', 8), ('husband', 6), ('little', 6), ('receive', 6)]\n",
      "Chapter 51 [('sister', 10), ('time', 8), ('away', 7), ('married', 7), ('room', 5)]\n",
      "Chapter 52 [('uncle', 10), ('time', 9), ('receive', 7), ('sister', 7), ('town', 7)]\n",
      "Chapter 53 [('sister', 12), ('time', 8), ('daughter', 8), ('day', 7), ('year', 7)]\n",
      "Chapter 54 [('ever', 6), ('pleasure', 5), ('sister', 5), ('time', 5), ('gentleman', 5)]\n",
      "Chapter 55 [('sister', 12), ('happy', 10), ('mother', 9), ('time', 8), ('ever', 7)]\n",
      "Chapter 56 [('lady', 15), ('bennet', 13), ('ladyship', 12), ('nephew', 10), ('family', 8)]\n",
      "Chapter 57 [('lady', 8), ('letter', 7), ('marriage', 5), ('father', 5), ('report', 4)]\n",
      "Chapter 58 [('believe', 8), ('time', 6), ('sister', 6), ('reply', 6), ('felt', 6)]\n",
      "Chapter 59 [('love', 9), ('really', 7), ('walk', 6), ('happy', 6), ('mother', 6)]\n",
      "Chapter 60 [('lady', 7), ('love', 6), ('begin', 5), ('write', 5), ('ever', 4)]\n",
      "Chapter 61 [('sister', 6), ('pemberley', 5), ('marriage', 5), ('visit', 4), ('affection', 4)]\n"
     ]
    }
   ],
   "source": [
    "text = find_chapters(pride_lines[2229:-19175])\n",
    "for chapter in ['Chapter {}'.format(x) for x in range(1, 62)]:\n",
    "    corpus = all_sentences(text[chapter])\n",
    "    print('{}'.format(chapter), get_frequecies(corpus)[:5])"
   ]
  },
  {
   "cell_type": "markdown",
   "metadata": {},
   "source": [
    "### Get edgelist from text characters and chapters"
   ]
  },
  {
   "cell_type": "code",
   "execution_count": 10,
   "metadata": {
    "ExecuteTime": {
     "end_time": "2020-07-09T14:50:42.608659Z",
     "start_time": "2020-07-09T14:50:42.296011Z"
    }
   },
   "outputs": [
    {
     "name": "stdout",
     "output_type": "stream",
     "text": [
      "Chapter 1 Elizabeth 3\n",
      "Chapter 1 Darcy 0\n",
      "Chapter 1 Bingley 4\n",
      "Chapter 1 Catherine 0\n",
      "Chapter 1 MrBennet 6\n",
      "Chapter 1 MrsBennet 0\n",
      "Chapter 1 Lydia 1\n",
      "Chapter 1 Wickham 0\n",
      "Chapter 1 Caroline 0\n",
      "Chapter 1 Jane 1\n",
      "Chapter 1 Collins 0\n",
      "Chapter 1 Charlotte 0\n",
      "Chapter 1 Kitty 0\n",
      "Chapter 1 Mary 0\n",
      "Chapter 1 Maria 0\n",
      "Chapter 1 MrGardiner 0\n",
      "Chapter 1 MrsGardiner 0\n",
      "Chapter 1 Georgiana 0\n",
      "Chapter 2 Elizabeth 3\n",
      "Chapter 2 Darcy 0\n",
      "Chapter 2 Bingley 7\n",
      "Chapter 2 Catherine 0\n",
      "Chapter 2 MrBennet 5\n",
      "Chapter 2 MrsBennet 3\n",
      "Chapter 2 Lydia 2\n",
      "Chapter 2 Wickham 0\n",
      "Chapter 2 Caroline 0\n",
      "Chapter 2 Jane 0\n",
      "Chapter 2 Collins 0\n",
      "Chapter 2 Charlotte 0\n",
      "Chapter 2 Kitty 4\n",
      "Chapter 2 Mary 3\n",
      "Chapter 2 Maria 0\n",
      "Chapter 2 MrGardiner 0\n",
      "Chapter 2 MrsGardiner 0\n",
      "Chapter 2 Georgiana 0\n",
      "Chapter 3 Elizabeth 6\n",
      "Chapter 3 Darcy 7\n",
      "Chapter 3 Bingley 16\n",
      "Chapter 3 Catherine 1\n",
      "Chapter 3 MrBennet 4\n",
      "Chapter 3 MrsBennet 6\n",
      "Chapter 3 Lydia 1\n",
      "Chapter 3 Wickham 0\n",
      "Chapter 3 Caroline 0\n",
      "Chapter 3 Jane 5\n",
      "Chapter 3 Collins 0\n",
      "Chapter 3 Charlotte 0\n",
      "Chapter 3 Kitty 0\n",
      "Chapter 3 Mary 1\n",
      "Chapter 3 Maria 1\n",
      "Chapter 3 MrGardiner 0\n",
      "Chapter 3 MrsGardiner 0\n",
      "Chapter 3 Georgiana 0\n",
      "Chapter 4 Elizabeth 4\n",
      "Chapter 4 Darcy 7\n",
      "Chapter 4 Bingley 11\n",
      "Chapter 4 Catherine 0\n",
      "Chapter 4 MrBennet 0\n",
      "Chapter 4 MrsBennet 0\n",
      "Chapter 4 Lydia 0\n",
      "Chapter 4 Wickham 0\n",
      "Chapter 4 Caroline 0\n",
      "Chapter 4 Jane 1\n",
      "Chapter 4 Collins 0\n",
      "Chapter 4 Charlotte 0\n",
      "Chapter 4 Kitty 0\n",
      "Chapter 4 Mary 0\n",
      "Chapter 4 Maria 0\n",
      "Chapter 4 MrGardiner 0\n",
      "Chapter 4 MrsGardiner 0\n",
      "Chapter 4 Georgiana 0\n",
      "Chapter 5 Elizabeth 4\n",
      "Chapter 5 Darcy 3\n",
      "Chapter 5 Bingley 2\n",
      "Chapter 5 Catherine 0\n",
      "Chapter 5 MrBennet 0\n",
      "Chapter 5 MrsBennet 3\n",
      "Chapter 5 Lydia 0\n",
      "Chapter 5 Wickham 0\n",
      "Chapter 5 Caroline 0\n",
      "Chapter 5 Jane 3\n",
      "Chapter 5 Collins 0\n",
      "Chapter 5 Charlotte 2\n",
      "Chapter 5 Kitty 0\n",
      "Chapter 5 Mary 1\n",
      "Chapter 5 Maria 0\n",
      "Chapter 5 MrGardiner 0\n",
      "Chapter 5 MrsGardiner 0\n",
      "Chapter 5 Georgiana 0\n",
      "Chapter 6 Elizabeth 11\n",
      "Chapter 6 Darcy 14\n",
      "Chapter 6 Bingley 8\n",
      "Chapter 6 Catherine 0\n",
      "Chapter 6 MrBennet 0\n",
      "Chapter 6 MrsBennet 0\n",
      "Chapter 6 Lydia 0\n",
      "Chapter 6 Wickham 0\n",
      "Chapter 6 Caroline 0\n",
      "Chapter 6 Jane 9\n",
      "Chapter 6 Collins 0\n",
      "Chapter 6 Charlotte 4\n",
      "Chapter 6 Kitty 0\n",
      "Chapter 6 Mary 3\n",
      "Chapter 6 Maria 0\n",
      "Chapter 6 MrGardiner 0\n",
      "Chapter 6 MrsGardiner 0\n",
      "Chapter 6 Georgiana 0\n",
      "Chapter 7 Elizabeth 15\n",
      "Chapter 7 Darcy 1\n",
      "Chapter 7 Bingley 8\n",
      "Chapter 7 Catherine 3\n",
      "Chapter 7 MrBennet 5\n",
      "Chapter 7 MrsBennet 5\n",
      "Chapter 7 Lydia 6\n",
      "Chapter 7 Wickham 0\n",
      "Chapter 7 Caroline 0\n",
      "Chapter 7 Jane 12\n",
      "Chapter 7 Collins 0\n",
      "Chapter 7 Charlotte 0\n",
      "Chapter 7 Kitty 0\n",
      "Chapter 7 Mary 1\n",
      "Chapter 7 Maria 0\n",
      "Chapter 7 MrGardiner 0\n",
      "Chapter 7 MrsGardiner 0\n",
      "Chapter 7 Georgiana 0\n",
      "Chapter 8 Elizabeth 14\n",
      "Chapter 8 Darcy 10\n",
      "Chapter 8 Bingley 21\n",
      "Chapter 8 Catherine 0\n",
      "Chapter 8 MrBennet 0\n",
      "Chapter 8 MrsBennet 0\n",
      "Chapter 8 Lydia 0\n",
      "Chapter 8 Wickham 0\n",
      "Chapter 8 Caroline 1\n",
      "Chapter 8 Jane 5\n",
      "Chapter 8 Collins 0\n",
      "Chapter 8 Charlotte 0\n",
      "Chapter 8 Kitty 0\n",
      "Chapter 8 Mary 0\n",
      "Chapter 8 Maria 0\n",
      "Chapter 8 MrGardiner 0\n",
      "Chapter 8 MrsGardiner 0\n",
      "Chapter 8 Georgiana 0\n",
      "Chapter 9 Elizabeth 10\n",
      "Chapter 9 Darcy 8\n",
      "Chapter 9 Bingley 16\n",
      "Chapter 9 Catherine 0\n",
      "Chapter 9 MrBennet 0\n",
      "Chapter 9 MrsBennet 9\n",
      "Chapter 9 Lydia 2\n",
      "Chapter 9 Wickham 0\n",
      "Chapter 9 Caroline 0\n",
      "Chapter 9 Jane 8\n",
      "Chapter 9 Collins 0\n",
      "Chapter 9 Charlotte 3\n",
      "Chapter 9 Kitty 0\n",
      "Chapter 9 Mary 0\n",
      "Chapter 9 Maria 0\n",
      "Chapter 9 MrGardiner 0\n",
      "Chapter 9 MrsGardiner 0\n",
      "Chapter 9 Georgiana 0\n",
      "Chapter 10 Elizabeth 16\n",
      "Chapter 10 Darcy 21\n",
      "Chapter 10 Bingley 18\n",
      "Chapter 10 Catherine 0\n",
      "Chapter 10 MrBennet 0\n",
      "Chapter 10 MrsBennet 1\n",
      "Chapter 10 Lydia 0\n",
      "Chapter 10 Wickham 0\n",
      "Chapter 10 Caroline 1\n",
      "Chapter 10 Jane 2\n",
      "Chapter 10 Collins 0\n",
      "Chapter 10 Charlotte 0\n",
      "Chapter 10 Kitty 0\n",
      "Chapter 10 Mary 0\n",
      "Chapter 10 Maria 0\n",
      "Chapter 10 MrGardiner 0\n",
      "Chapter 10 MrsGardiner 0\n",
      "Chapter 10 Georgiana 0\n",
      "Chapter 11 Elizabeth 13\n",
      "Chapter 11 Darcy 14\n",
      "Chapter 11 Bingley 11\n",
      "Chapter 11 Catherine 0\n",
      "Chapter 11 MrBennet 0\n",
      "Chapter 11 MrsBennet 0\n",
      "Chapter 11 Lydia 0\n",
      "Chapter 11 Wickham 0\n",
      "Chapter 11 Caroline 1\n",
      "Chapter 11 Jane 1\n",
      "Chapter 11 Collins 0\n",
      "Chapter 11 Charlotte 0\n",
      "Chapter 11 Kitty 0\n",
      "Chapter 11 Mary 0\n",
      "Chapter 11 Maria 0\n",
      "Chapter 11 MrGardiner 0\n",
      "Chapter 11 MrsGardiner 0\n",
      "Chapter 11 Georgiana 0\n",
      "Chapter 12 Elizabeth 7\n",
      "Chapter 12 Darcy 1\n",
      "Chapter 12 Bingley 5\n",
      "Chapter 12 Catherine 1\n",
      "Chapter 12 MrBennet 0\n",
      "Chapter 12 MrsBennet 1\n",
      "Chapter 12 Lydia 1\n",
      "Chapter 12 Wickham 0\n",
      "Chapter 12 Caroline 0\n",
      "Chapter 12 Jane 7\n",
      "Chapter 12 Collins 0\n",
      "Chapter 12 Charlotte 0\n",
      "Chapter 12 Kitty 0\n",
      "Chapter 12 Mary 1\n",
      "Chapter 12 Maria 0\n",
      "Chapter 12 MrGardiner 0\n",
      "Chapter 12 MrsGardiner 0\n",
      "Chapter 12 Georgiana 0\n",
      "Chapter 13 Elizabeth 2\n",
      "Chapter 13 Darcy 0\n",
      "Chapter 13 Bingley 3\n",
      "Chapter 13 Catherine 5\n",
      "Chapter 13 MrBennet 4\n",
      "Chapter 13 MrsBennet 7\n",
      "Chapter 13 Lydia 2\n",
      "Chapter 13 Wickham 0\n",
      "Chapter 13 Caroline 0\n",
      "Chapter 13 Jane 2\n",
      "Chapter 13 Collins 6\n",
      "Chapter 13 Charlotte 1\n",
      "Chapter 13 Kitty 0\n",
      "Chapter 13 Mary 1\n",
      "Chapter 13 Maria 0\n",
      "Chapter 13 MrGardiner 0\n",
      "Chapter 13 MrsGardiner 0\n",
      "Chapter 13 Georgiana 0\n",
      "Chapter 14 Elizabeth 1\n",
      "Chapter 14 Darcy 0\n",
      "Chapter 14 Bingley 0\n",
      "Chapter 14 Catherine 6\n",
      "Chapter 14 MrBennet 8\n",
      "Chapter 14 MrsBennet 3\n",
      "Chapter 14 Lydia 4\n",
      "Chapter 14 Wickham 0\n",
      "Chapter 14 Caroline 0\n",
      "Chapter 14 Jane 0\n",
      "Chapter 14 Collins 4\n",
      "Chapter 14 Charlotte 0\n",
      "Chapter 14 Kitty 1\n",
      "Chapter 14 Mary 0\n",
      "Chapter 14 Maria 0\n",
      "Chapter 14 MrGardiner 0\n",
      "Chapter 14 MrsGardiner 0\n",
      "Chapter 14 Georgiana 0\n",
      "Chapter 15 Elizabeth 6\n",
      "Chapter 15 Darcy 3\n",
      "Chapter 15 Bingley 3\n",
      "Chapter 15 Catherine 2\n",
      "Chapter 15 MrBennet 3\n",
      "Chapter 15 MrsBennet 3\n",
      "Chapter 15 Lydia 5\n",
      "Chapter 15 Wickham 5\n",
      "Chapter 15 Caroline 0\n",
      "Chapter 15 Jane 6\n",
      "Chapter 15 Collins 9\n",
      "Chapter 15 Charlotte 0\n",
      "Chapter 15 Kitty 2\n",
      "Chapter 15 Mary 1\n",
      "Chapter 15 Maria 0\n",
      "Chapter 15 MrGardiner 0\n",
      "Chapter 15 MrsGardiner 0\n",
      "Chapter 15 Georgiana 0\n",
      "Chapter 16 Elizabeth 18\n",
      "Chapter 16 Darcy 21\n",
      "Chapter 16 Bingley 4\n",
      "Chapter 16 Catherine 7\n",
      "Chapter 16 MrBennet 0\n",
      "Chapter 16 MrsBennet 1\n",
      "Chapter 16 Lydia 4\n",
      "Chapter 16 Wickham 19\n",
      "Chapter 16 Caroline 0\n",
      "Chapter 16 Jane 0\n",
      "Chapter 16 Collins 9\n",
      "Chapter 16 Charlotte 0\n",
      "Chapter 16 Kitty 0\n",
      "Chapter 16 Mary 0\n",
      "Chapter 16 Maria 0\n",
      "Chapter 16 MrGardiner 0\n",
      "Chapter 16 MrsGardiner 0\n",
      "Chapter 16 Georgiana 0\n",
      "Chapter 17 Elizabeth 10\n",
      "Chapter 17 Darcy 4\n",
      "Chapter 17 Bingley 6\n",
      "Chapter 17 Catherine 2\n",
      "Chapter 17 MrBennet 0\n",
      "Chapter 17 MrsBennet 3\n",
      "Chapter 17 Lydia 2\n",
      "Chapter 17 Wickham 8\n",
      "Chapter 17 Caroline 0\n",
      "Chapter 17 Jane 6\n",
      "Chapter 17 Collins 4\n",
      "Chapter 17 Charlotte 0\n",
      "Chapter 17 Kitty 1\n",
      "Chapter 17 Mary 1\n",
      "Chapter 17 Maria 0\n",
      "Chapter 17 MrGardiner 0\n",
      "Chapter 17 MrsGardiner 0\n",
      "Chapter 17 Georgiana 0\n",
      "Chapter 18 Elizabeth 26\n",
      "Chapter 18 Darcy 41\n",
      "Chapter 18 Bingley 24\n",
      "Chapter 18 Catherine 5\n",
      "Chapter 18 MrBennet 1\n",
      "Chapter 18 MrsBennet 7\n",
      "Chapter 18 Lydia 3\n",
      "Chapter 18 Wickham 17\n",
      "Chapter 18 Caroline 0\n",
      "Chapter 18 Jane 12\n",
      "Chapter 18 Collins 12\n",
      "Chapter 18 Charlotte 4\n",
      "Chapter 18 Kitty 0\n",
      "Chapter 18 Mary 7\n",
      "Chapter 18 Maria 0\n",
      "Chapter 18 MrGardiner 0\n",
      "Chapter 18 MrsGardiner 0\n",
      "Chapter 18 Georgiana 0\n",
      "Chapter 19 Elizabeth 14\n",
      "Chapter 19 Darcy 0\n",
      "Chapter 19 Bingley 0\n",
      "Chapter 19 Catherine 3\n",
      "Chapter 19 MrBennet 0\n",
      "Chapter 19 MrsBennet 3\n",
      "Chapter 19 Lydia 0\n",
      "Chapter 19 Wickham 0\n",
      "Chapter 19 Caroline 0\n",
      "Chapter 19 Jane 0\n",
      "Chapter 19 Collins 11\n",
      "Chapter 19 Charlotte 0\n",
      "Chapter 19 Kitty 2\n",
      "Chapter 19 Mary 0\n",
      "Chapter 19 Maria 0\n",
      "Chapter 19 MrGardiner 0\n",
      "Chapter 19 MrsGardiner 0\n",
      "Chapter 19 Georgiana 0\n",
      "Chapter 20 Elizabeth 19\n",
      "Chapter 20 Darcy 0\n",
      "Chapter 20 Bingley 0\n",
      "Chapter 20 Catherine 0\n",
      "Chapter 20 MrBennet 4\n",
      "Chapter 20 MrsBennet 10\n",
      "Chapter 20 Lydia 2\n",
      "Chapter 20 Wickham 0\n",
      "Chapter 20 Caroline 0\n",
      "Chapter 20 Jane 4\n",
      "Chapter 20 Collins 16\n",
      "Chapter 20 Charlotte 4\n",
      "Chapter 20 Kitty 2\n",
      "Chapter 20 Mary 0\n",
      "Chapter 20 Maria 0\n",
      "Chapter 20 MrGardiner 0\n",
      "Chapter 20 MrsGardiner 0\n",
      "Chapter 20 Georgiana 0\n",
      "Chapter 21 Elizabeth 9\n",
      "Chapter 21 Darcy 7\n",
      "Chapter 21 Bingley 11\n",
      "Chapter 21 Catherine 0\n",
      "Chapter 21 MrBennet 0\n",
      "Chapter 21 MrsBennet 2\n",
      "Chapter 21 Lydia 0\n",
      "Chapter 21 Wickham 3\n",
      "Chapter 21 Caroline 5\n",
      "Chapter 21 Jane 13\n",
      "Chapter 21 Collins 2\n",
      "Chapter 21 Charlotte 0\n",
      "Chapter 21 Kitty 0\n",
      "Chapter 21 Mary 0\n",
      "Chapter 21 Maria 0\n",
      "Chapter 21 MrGardiner 0\n",
      "Chapter 21 MrsGardiner 0\n",
      "Chapter 21 Georgiana 1\n",
      "Chapter 22 Elizabeth 10\n",
      "Chapter 22 Darcy 0\n",
      "Chapter 22 Bingley 0\n",
      "Chapter 22 Catherine 1\n",
      "Chapter 22 MrBennet 2\n",
      "Chapter 22 MrsBennet 2\n",
      "Chapter 22 Lydia 0\n",
      "Chapter 22 Wickham 0\n",
      "Chapter 22 Caroline 0\n",
      "Chapter 22 Jane 0\n",
      "Chapter 22 Collins 15\n",
      "Chapter 22 Charlotte 11\n",
      "Chapter 22 Kitty 0\n",
      "Chapter 22 Mary 1\n",
      "Chapter 22 Maria 0\n",
      "Chapter 22 MrGardiner 0\n",
      "Chapter 22 MrsGardiner 0\n",
      "Chapter 22 Georgiana 0\n",
      "Chapter 23 Elizabeth 12\n",
      "Chapter 23 Darcy 1\n",
      "Chapter 23 Bingley 4\n",
      "Chapter 23 Catherine 1\n",
      "Chapter 23 MrBennet 5\n",
      "Chapter 23 MrsBennet 9\n",
      "Chapter 23 Lydia 2\n",
      "Chapter 23 Wickham 0\n",
      "Chapter 23 Caroline 1\n",
      "Chapter 23 Jane 8\n",
      "Chapter 23 Collins 9\n",
      "Chapter 23 Charlotte 7\n",
      "Chapter 23 Kitty 1\n",
      "Chapter 23 Mary 0\n",
      "Chapter 23 Maria 0\n",
      "Chapter 23 MrGardiner 0\n",
      "Chapter 23 MrsGardiner 0\n",
      "Chapter 23 Georgiana 0\n",
      "Chapter 24 Elizabeth 12\n",
      "Chapter 24 Darcy 7\n",
      "Chapter 24 Bingley 5\n",
      "Chapter 24 Catherine 0\n",
      "Chapter 24 MrBennet 2\n",
      "Chapter 24 MrsBennet 3\n",
      "Chapter 24 Lydia 0\n",
      "Chapter 24 Wickham 2\n",
      "Chapter 24 Caroline 2\n",
      "Chapter 24 Jane 13\n",
      "Chapter 24 Collins 2\n",
      "Chapter 24 Charlotte 4\n",
      "Chapter 24 Kitty 0\n",
      "Chapter 24 Mary 0\n",
      "Chapter 24 Maria 0\n",
      "Chapter 24 MrGardiner 0\n",
      "Chapter 24 MrsGardiner 0\n",
      "Chapter 24 Georgiana 0\n",
      "Chapter 25 Elizabeth 9\n",
      "Chapter 25 Darcy 6\n",
      "Chapter 25 Bingley 6\n",
      "Chapter 25 Catherine 0\n",
      "Chapter 25 MrBennet 0\n",
      "Chapter 25 MrsBennet 3\n",
      "Chapter 25 Lydia 0\n",
      "Chapter 25 Wickham 4\n",
      "Chapter 25 Caroline 1\n",
      "Chapter 25 Jane 9\n",
      "Chapter 25 Collins 2\n",
      "Chapter 25 Charlotte 1\n",
      "Chapter 25 Kitty 0\n",
      "Chapter 25 Mary 0\n",
      "Chapter 25 Maria 0\n",
      "Chapter 25 MrGardiner 1\n",
      "Chapter 25 MrsGardiner 7\n",
      "Chapter 25 Georgiana 0\n",
      "Chapter 26 Elizabeth 19\n",
      "Chapter 26 Darcy 5\n",
      "Chapter 26 Bingley 6\n",
      "Chapter 26 Catherine 2\n",
      "Chapter 26 MrBennet 0\n",
      "Chapter 26 MrsBennet 0\n",
      "Chapter 26 Lydia 1\n",
      "Chapter 26 Wickham 4\n",
      "Chapter 26 Caroline 4\n",
      "Chapter 26 Jane 7\n",
      "Chapter 26 Collins 2\n",
      "Chapter 26 Charlotte 5\n",
      "Chapter 26 Kitty 1\n",
      "Chapter 26 Mary 0\n",
      "Chapter 26 Maria 2\n",
      "Chapter 26 MrGardiner 0\n",
      "Chapter 26 MrsGardiner 3\n",
      "Chapter 26 Georgiana 0\n",
      "Chapter 27 Elizabeth 10\n",
      "Chapter 27 Darcy 0\n",
      "Chapter 27 Bingley 1\n",
      "Chapter 27 Catherine 1\n",
      "Chapter 27 MrBennet 0\n",
      "Chapter 27 MrsBennet 0\n",
      "Chapter 27 Lydia 0\n",
      "Chapter 27 Wickham 2\n",
      "Chapter 27 Caroline 0\n",
      "Chapter 27 Jane 4\n",
      "Chapter 27 Collins 1\n",
      "Chapter 27 Charlotte 3\n",
      "Chapter 27 Kitty 0\n",
      "Chapter 27 Mary 0\n",
      "Chapter 27 Maria 1\n",
      "Chapter 27 MrGardiner 1\n",
      "Chapter 27 MrsGardiner 2\n",
      "Chapter 27 Georgiana 0\n",
      "Chapter 28 Elizabeth 13\n",
      "Chapter 28 Darcy 0\n",
      "Chapter 28 Bingley 0\n",
      "Chapter 28 Catherine 5\n",
      "Chapter 28 MrBennet 0\n",
      "Chapter 28 MrsBennet 0\n",
      "Chapter 28 Lydia 0\n",
      "Chapter 28 Wickham 0\n",
      "Chapter 28 Caroline 0\n",
      "Chapter 28 Jane 0\n",
      "Chapter 28 Collins 9\n",
      "Chapter 28 Charlotte 15\n",
      "Chapter 28 Kitty 0\n",
      "Chapter 28 Mary 0\n",
      "Chapter 28 Maria 4\n",
      "Chapter 28 MrGardiner 0\n",
      "Chapter 28 MrsGardiner 0\n",
      "Chapter 28 Georgiana 0\n",
      "Chapter 29 Elizabeth 14\n",
      "Chapter 29 Darcy 1\n",
      "Chapter 29 Bingley 0\n",
      "Chapter 29 Catherine 20\n",
      "Chapter 29 MrBennet 0\n",
      "Chapter 29 MrsBennet 0\n",
      "Chapter 29 Lydia 0\n",
      "Chapter 29 Wickham 1\n",
      "Chapter 29 Caroline 0\n",
      "Chapter 29 Jane 0\n",
      "Chapter 29 Collins 11\n",
      "Chapter 29 Charlotte 9\n",
      "Chapter 29 Kitty 0\n",
      "Chapter 29 Mary 0\n",
      "Chapter 29 Maria 5\n",
      "Chapter 29 MrGardiner 0\n",
      "Chapter 29 MrsGardiner 0\n",
      "Chapter 29 Georgiana 0\n",
      "Chapter 30 Elizabeth 9\n",
      "Chapter 30 Darcy 7\n",
      "Chapter 30 Bingley 2\n",
      "Chapter 30 Catherine 4\n",
      "Chapter 30 MrBennet 0\n",
      "Chapter 30 MrsBennet 0\n",
      "Chapter 30 Lydia 0\n",
      "Chapter 30 Wickham 0\n",
      "Chapter 30 Caroline 0\n",
      "Chapter 30 Jane 1\n",
      "Chapter 30 Collins 8\n",
      "Chapter 30 Charlotte 8\n",
      "Chapter 30 Kitty 0\n",
      "Chapter 30 Mary 0\n",
      "Chapter 30 Maria 0\n",
      "Chapter 30 MrGardiner 0\n",
      "Chapter 30 MrsGardiner 0\n",
      "Chapter 30 Georgiana 0\n",
      "Chapter 31 Elizabeth 10\n",
      "Chapter 31 Darcy 24\n",
      "Chapter 31 Bingley 1\n",
      "Chapter 31 Catherine 8\n",
      "Chapter 31 MrBennet 0\n",
      "Chapter 31 MrsBennet 0\n",
      "Chapter 31 Lydia 0\n",
      "Chapter 31 Wickham 0\n",
      "Chapter 31 Caroline 0\n",
      "Chapter 31 Jane 0\n",
      "Chapter 31 Collins 0\n",
      "Chapter 31 Charlotte 2\n",
      "Chapter 31 Kitty 0\n",
      "Chapter 31 Mary 0\n",
      "Chapter 31 Maria 0\n",
      "Chapter 31 MrGardiner 0\n",
      "Chapter 31 MrsGardiner 0\n",
      "Chapter 31 Georgiana 1\n",
      "Chapter 32 Elizabeth 10\n",
      "Chapter 32 Darcy 12\n",
      "Chapter 32 Bingley 3\n",
      "Chapter 32 Catherine 3\n",
      "Chapter 32 MrBennet 0\n",
      "Chapter 32 MrsBennet 0\n",
      "Chapter 32 Lydia 0\n",
      "Chapter 32 Wickham 1\n",
      "Chapter 32 Caroline 0\n",
      "Chapter 32 Jane 2\n",
      "Chapter 32 Collins 3\n",
      "Chapter 32 Charlotte 8\n",
      "Chapter 32 Kitty 0\n",
      "Chapter 32 Mary 0\n",
      "Chapter 32 Maria 1\n",
      "Chapter 32 MrGardiner 0\n",
      "Chapter 32 MrsGardiner 0\n",
      "Chapter 32 Georgiana 0\n",
      "Chapter 33 Elizabeth 4\n",
      "Chapter 33 Darcy 26\n",
      "Chapter 33 Bingley 9\n",
      "Chapter 33 Catherine 1\n",
      "Chapter 33 MrBennet 0\n",
      "Chapter 33 MrsBennet 0\n",
      "Chapter 33 Lydia 0\n",
      "Chapter 33 Wickham 0\n",
      "Chapter 33 Caroline 0\n",
      "Chapter 33 Jane 5\n",
      "Chapter 33 Collins 1\n",
      "Chapter 33 Charlotte 2\n",
      "Chapter 33 Kitty 0\n",
      "Chapter 33 Mary 0\n",
      "Chapter 33 Maria 0\n",
      "Chapter 33 MrGardiner 0\n",
      "Chapter 33 MrsGardiner 0\n",
      "Chapter 33 Georgiana 0\n",
      "Chapter 34 Elizabeth 9\n",
      "Chapter 34 Darcy 13\n",
      "Chapter 34 Bingley 0\n",
      "Chapter 34 Catherine 1\n",
      "Chapter 34 MrBennet 0\n",
      "Chapter 34 MrsBennet 0\n",
      "Chapter 34 Lydia 0\n",
      "Chapter 34 Wickham 2\n",
      "Chapter 34 Caroline 0\n",
      "Chapter 34 Jane 3\n",
      "Chapter 34 Collins 0\n",
      "Chapter 34 Charlotte 1\n",
      "Chapter 34 Kitty 0\n",
      "Chapter 34 Mary 0\n",
      "Chapter 34 Maria 0\n",
      "Chapter 34 MrGardiner 0\n",
      "Chapter 34 MrsGardiner 0\n",
      "Chapter 34 Georgiana 0\n",
      "Chapter 35 Elizabeth 2\n",
      "Chapter 35 Darcy 6\n",
      "Chapter 35 Bingley 5\n",
      "Chapter 35 Catherine 0\n",
      "Chapter 35 MrBennet 0\n",
      "Chapter 35 MrsBennet 0\n",
      "Chapter 35 Lydia 0\n",
      "Chapter 35 Wickham 12\n",
      "Chapter 35 Caroline 0\n",
      "Chapter 35 Jane 0\n",
      "Chapter 35 Collins 0\n",
      "Chapter 35 Charlotte 0\n",
      "Chapter 35 Kitty 0\n",
      "Chapter 35 Mary 0\n",
      "Chapter 35 Maria 0\n",
      "Chapter 35 MrGardiner 0\n",
      "Chapter 35 MrsGardiner 0\n",
      "Chapter 35 Georgiana 2\n",
      "Chapter 36 Elizabeth 2\n",
      "Chapter 36 Darcy 18\n",
      "Chapter 36 Bingley 3\n",
      "Chapter 36 Catherine 0\n",
      "Chapter 36 MrBennet 0\n",
      "Chapter 36 MrsBennet 0\n",
      "Chapter 36 Lydia 0\n",
      "Chapter 36 Wickham 9\n",
      "Chapter 36 Caroline 0\n",
      "Chapter 36 Jane 6\n",
      "Chapter 36 Collins 0\n",
      "Chapter 36 Charlotte 1\n",
      "Chapter 36 Kitty 0\n",
      "Chapter 36 Mary 0\n",
      "Chapter 36 Maria 0\n",
      "Chapter 36 MrGardiner 0\n",
      "Chapter 36 MrsGardiner 0\n",
      "Chapter 36 Georgiana 0\n",
      "Chapter 37 Elizabeth 4\n",
      "Chapter 37 Darcy 5\n",
      "Chapter 37 Bingley 1\n",
      "Chapter 37 Catherine 9\n",
      "Chapter 37 MrBennet 0\n",
      "Chapter 37 MrsBennet 0\n",
      "Chapter 37 Lydia 3\n",
      "Chapter 37 Wickham 1\n",
      "Chapter 37 Caroline 0\n",
      "Chapter 37 Jane 4\n",
      "Chapter 37 Collins 3\n",
      "Chapter 37 Charlotte 3\n",
      "Chapter 37 Kitty 0\n",
      "Chapter 37 Mary 0\n",
      "Chapter 37 Maria 1\n",
      "Chapter 37 MrGardiner 0\n",
      "Chapter 37 MrsGardiner 0\n",
      "Chapter 37 Georgiana 1\n",
      "Chapter 38 Elizabeth 10\n",
      "Chapter 38 Darcy 1\n",
      "Chapter 38 Bingley 1\n",
      "Chapter 38 Catherine 2\n",
      "Chapter 38 MrBennet 0\n",
      "Chapter 38 MrsBennet 0\n",
      "Chapter 38 Lydia 0\n",
      "Chapter 38 Wickham 0\n",
      "Chapter 38 Caroline 0\n",
      "Chapter 38 Jane 3\n",
      "Chapter 38 Collins 4\n",
      "Chapter 38 Charlotte 4\n",
      "Chapter 38 Kitty 0\n",
      "Chapter 38 Mary 0\n",
      "Chapter 38 Maria 2\n",
      "Chapter 38 MrGardiner 1\n",
      "Chapter 38 MrsGardiner 1\n",
      "Chapter 38 Georgiana 0\n",
      "Chapter 39 Elizabeth 11\n",
      "Chapter 39 Darcy 0\n",
      "Chapter 39 Bingley 0\n",
      "Chapter 39 Catherine 0\n",
      "Chapter 39 MrBennet 1\n",
      "Chapter 39 MrsBennet 1\n",
      "Chapter 39 Lydia 11\n",
      "Chapter 39 Wickham 6\n",
      "Chapter 39 Caroline 0\n",
      "Chapter 39 Jane 5\n",
      "Chapter 39 Collins 1\n",
      "Chapter 39 Charlotte 0\n",
      "Chapter 39 Kitty 7\n",
      "Chapter 39 Mary 5\n",
      "Chapter 39 Maria 2\n",
      "Chapter 39 MrGardiner 0\n",
      "Chapter 39 MrsGardiner 0\n",
      "Chapter 39 Georgiana 0\n",
      "Chapter 40 Elizabeth 10\n",
      "Chapter 40 Darcy 10\n",
      "Chapter 40 Bingley 2\n",
      "Chapter 40 Catherine 0\n",
      "Chapter 40 MrBennet 0\n",
      "Chapter 40 MrsBennet 1\n",
      "Chapter 40 Lydia 0\n",
      "Chapter 40 Wickham 7\n",
      "Chapter 40 Caroline 0\n",
      "Chapter 40 Jane 9\n",
      "Chapter 40 Collins 1\n",
      "Chapter 40 Charlotte 1\n",
      "Chapter 40 Kitty 0\n",
      "Chapter 40 Mary 0\n",
      "Chapter 40 Maria 0\n",
      "Chapter 40 MrGardiner 0\n",
      "Chapter 40 MrsGardiner 0\n",
      "Chapter 40 Georgiana 0\n",
      "Chapter 41 Elizabeth 12\n",
      "Chapter 41 Darcy 5\n",
      "Chapter 41 Bingley 0\n",
      "Chapter 41 Catherine 0\n",
      "Chapter 41 MrBennet 2\n",
      "Chapter 41 MrsBennet 3\n",
      "Chapter 41 Lydia 21\n",
      "Chapter 41 Wickham 4\n",
      "Chapter 41 Caroline 0\n",
      "Chapter 41 Jane 2\n",
      "Chapter 41 Collins 0\n",
      "Chapter 41 Charlotte 0\n",
      "Chapter 41 Kitty 6\n",
      "Chapter 41 Mary 0\n",
      "Chapter 41 Maria 0\n",
      "Chapter 41 MrGardiner 0\n",
      "Chapter 41 MrsGardiner 0\n",
      "Chapter 41 Georgiana 0\n",
      "Chapter 42 Elizabeth 10\n",
      "Chapter 42 Darcy 1\n",
      "Chapter 42 Bingley 0\n",
      "Chapter 42 Catherine 0\n",
      "Chapter 42 MrBennet 1\n",
      "Chapter 42 MrsBennet 1\n",
      "Chapter 42 Lydia 1\n",
      "Chapter 42 Wickham 2\n",
      "Chapter 42 Caroline 0\n",
      "Chapter 42 Jane 2\n",
      "Chapter 42 Collins 0\n",
      "Chapter 42 Charlotte 0\n",
      "Chapter 42 Kitty 5\n",
      "Chapter 42 Mary 0\n",
      "Chapter 42 Maria 0\n",
      "Chapter 42 MrGardiner 2\n",
      "Chapter 42 MrsGardiner 6\n",
      "Chapter 42 Georgiana 0\n",
      "Chapter 43 Elizabeth 42\n",
      "Chapter 43 Darcy 17\n"
     ]
    },
    {
     "name": "stdout",
     "output_type": "stream",
     "text": [
      "Chapter 43 Bingley 2\n",
      "Chapter 43 Catherine 0\n",
      "Chapter 43 MrBennet 0\n",
      "Chapter 43 MrsBennet 0\n",
      "Chapter 43 Lydia 0\n",
      "Chapter 43 Wickham 7\n",
      "Chapter 43 Caroline 0\n",
      "Chapter 43 Jane 0\n",
      "Chapter 43 Collins 0\n",
      "Chapter 43 Charlotte 0\n",
      "Chapter 43 Kitty 0\n",
      "Chapter 43 Mary 0\n",
      "Chapter 43 Maria 0\n",
      "Chapter 43 MrGardiner 5\n",
      "Chapter 43 MrsGardiner 10\n",
      "Chapter 43 Georgiana 0\n",
      "Chapter 44 Elizabeth 14\n",
      "Chapter 44 Darcy 17\n",
      "Chapter 44 Bingley 6\n",
      "Chapter 44 Catherine 0\n",
      "Chapter 44 MrBennet 0\n",
      "Chapter 44 MrsBennet 0\n",
      "Chapter 44 Lydia 0\n",
      "Chapter 44 Wickham 1\n",
      "Chapter 44 Caroline 0\n",
      "Chapter 44 Jane 2\n",
      "Chapter 44 Collins 0\n",
      "Chapter 44 Charlotte 0\n",
      "Chapter 44 Kitty 0\n",
      "Chapter 44 Mary 0\n",
      "Chapter 44 Maria 0\n",
      "Chapter 44 MrGardiner 1\n",
      "Chapter 44 MrsGardiner 4\n",
      "Chapter 44 Georgiana 1\n",
      "Chapter 45 Elizabeth 18\n",
      "Chapter 45 Darcy 17\n",
      "Chapter 45 Bingley 14\n",
      "Chapter 45 Catherine 0\n",
      "Chapter 45 MrBennet 0\n",
      "Chapter 45 MrsBennet 0\n",
      "Chapter 45 Lydia 0\n",
      "Chapter 45 Wickham 2\n",
      "Chapter 45 Caroline 0\n",
      "Chapter 45 Jane 0\n",
      "Chapter 45 Collins 0\n",
      "Chapter 45 Charlotte 0\n",
      "Chapter 45 Kitty 0\n",
      "Chapter 45 Mary 0\n",
      "Chapter 45 Maria 0\n",
      "Chapter 45 MrGardiner 1\n",
      "Chapter 45 MrsGardiner 5\n",
      "Chapter 45 Georgiana 5\n",
      "Chapter 46 Elizabeth 17\n",
      "Chapter 46 Darcy 9\n",
      "Chapter 46 Bingley 0\n",
      "Chapter 46 Catherine 0\n",
      "Chapter 46 MrBennet 0\n",
      "Chapter 46 MrsBennet 0\n",
      "Chapter 46 Lydia 16\n",
      "Chapter 46 Wickham 6\n",
      "Chapter 46 Caroline 0\n",
      "Chapter 46 Jane 7\n",
      "Chapter 46 Collins 0\n",
      "Chapter 46 Charlotte 0\n",
      "Chapter 46 Kitty 2\n",
      "Chapter 46 Mary 0\n",
      "Chapter 46 Maria 0\n",
      "Chapter 46 MrGardiner 3\n",
      "Chapter 46 MrsGardiner 3\n",
      "Chapter 46 Georgiana 0\n",
      "Chapter 47 Elizabeth 20\n",
      "Chapter 47 Darcy 4\n",
      "Chapter 47 Bingley 0\n",
      "Chapter 47 Catherine 0\n",
      "Chapter 47 MrBennet 3\n",
      "Chapter 47 MrsBennet 2\n",
      "Chapter 47 Lydia 16\n",
      "Chapter 47 Wickham 11\n",
      "Chapter 47 Caroline 0\n",
      "Chapter 47 Jane 16\n",
      "Chapter 47 Collins 1\n",
      "Chapter 47 Charlotte 0\n",
      "Chapter 47 Kitty 6\n",
      "Chapter 47 Mary 6\n",
      "Chapter 47 Maria 0\n",
      "Chapter 47 MrGardiner 3\n",
      "Chapter 47 MrsGardiner 2\n",
      "Chapter 47 Georgiana 0\n",
      "Chapter 48 Elizabeth 11\n",
      "Chapter 48 Darcy 1\n",
      "Chapter 48 Bingley 0\n",
      "Chapter 48 Catherine 2\n",
      "Chapter 48 MrBennet 7\n",
      "Chapter 48 MrsBennet 2\n",
      "Chapter 48 Lydia 5\n",
      "Chapter 48 Wickham 4\n",
      "Chapter 48 Caroline 0\n",
      "Chapter 48 Jane 3\n",
      "Chapter 48 Collins 2\n",
      "Chapter 48 Charlotte 2\n",
      "Chapter 48 Kitty 5\n",
      "Chapter 48 Mary 0\n",
      "Chapter 48 Maria 0\n",
      "Chapter 48 MrGardiner 7\n",
      "Chapter 48 MrsGardiner 3\n",
      "Chapter 48 Georgiana 0\n",
      "Chapter 49 Elizabeth 14\n",
      "Chapter 49 Darcy 0\n",
      "Chapter 49 Bingley 0\n",
      "Chapter 49 Catherine 0\n",
      "Chapter 49 MrBennet 2\n",
      "Chapter 49 MrsBennet 2\n",
      "Chapter 49 Lydia 8\n",
      "Chapter 49 Wickham 8\n",
      "Chapter 49 Caroline 0\n",
      "Chapter 49 Jane 11\n",
      "Chapter 49 Collins 0\n",
      "Chapter 49 Charlotte 0\n",
      "Chapter 49 Kitty 3\n",
      "Chapter 49 Mary 1\n",
      "Chapter 49 Maria 0\n",
      "Chapter 49 MrGardiner 3\n",
      "Chapter 49 MrsGardiner 0\n",
      "Chapter 49 Georgiana 0\n",
      "Chapter 50 Elizabeth 3\n",
      "Chapter 50 Darcy 2\n",
      "Chapter 50 Bingley 0\n",
      "Chapter 50 Catherine 0\n",
      "Chapter 50 MrBennet 7\n",
      "Chapter 50 MrsBennet 7\n",
      "Chapter 50 Lydia 10\n",
      "Chapter 50 Wickham 8\n",
      "Chapter 50 Caroline 0\n",
      "Chapter 50 Jane 2\n",
      "Chapter 50 Collins 0\n",
      "Chapter 50 Charlotte 0\n",
      "Chapter 50 Kitty 0\n",
      "Chapter 50 Mary 0\n",
      "Chapter 50 Maria 0\n",
      "Chapter 50 MrGardiner 2\n",
      "Chapter 50 MrsGardiner 0\n",
      "Chapter 50 Georgiana 0\n",
      "Chapter 51 Elizabeth 16\n",
      "Chapter 51 Darcy 3\n",
      "Chapter 51 Bingley 0\n",
      "Chapter 51 Catherine 0\n",
      "Chapter 51 MrBennet 1\n",
      "Chapter 51 MrsBennet 2\n",
      "Chapter 51 Lydia 16\n",
      "Chapter 51 Wickham 12\n",
      "Chapter 51 Caroline 0\n",
      "Chapter 51 Jane 7\n",
      "Chapter 51 Collins 0\n",
      "Chapter 51 Charlotte 0\n",
      "Chapter 51 Kitty 0\n",
      "Chapter 51 Mary 0\n",
      "Chapter 51 Maria 0\n",
      "Chapter 51 MrGardiner 0\n",
      "Chapter 51 MrsGardiner 0\n",
      "Chapter 51 Georgiana 0\n",
      "Chapter 52 Elizabeth 9\n",
      "Chapter 52 Darcy 10\n",
      "Chapter 52 Bingley 0\n",
      "Chapter 52 Catherine 0\n",
      "Chapter 52 MrBennet 1\n",
      "Chapter 52 MrsBennet 1\n",
      "Chapter 52 Lydia 8\n",
      "Chapter 52 Wickham 16\n",
      "Chapter 52 Caroline 0\n",
      "Chapter 52 Jane 3\n",
      "Chapter 52 Collins 0\n",
      "Chapter 52 Charlotte 0\n",
      "Chapter 52 Kitty 0\n",
      "Chapter 52 Mary 0\n",
      "Chapter 52 Maria 0\n",
      "Chapter 52 MrGardiner 1\n",
      "Chapter 52 MrsGardiner 0\n",
      "Chapter 52 Georgiana 0\n",
      "Chapter 53 Elizabeth 16\n",
      "Chapter 53 Darcy 7\n",
      "Chapter 53 Bingley 15\n",
      "Chapter 53 Catherine 0\n",
      "Chapter 53 MrBennet 2\n",
      "Chapter 53 MrsBennet 8\n",
      "Chapter 53 Lydia 4\n",
      "Chapter 53 Wickham 3\n",
      "Chapter 53 Caroline 0\n",
      "Chapter 53 Jane 12\n",
      "Chapter 53 Collins 0\n",
      "Chapter 53 Charlotte 0\n",
      "Chapter 53 Kitty 2\n",
      "Chapter 53 Mary 0\n",
      "Chapter 53 Maria 0\n",
      "Chapter 53 MrGardiner 0\n",
      "Chapter 53 MrsGardiner 2\n",
      "Chapter 53 Georgiana 0\n",
      "Chapter 54 Elizabeth 14\n",
      "Chapter 54 Darcy 5\n",
      "Chapter 54 Bingley 4\n",
      "Chapter 54 Catherine 0\n",
      "Chapter 54 MrBennet 0\n",
      "Chapter 54 MrsBennet 3\n",
      "Chapter 54 Lydia 0\n",
      "Chapter 54 Wickham 0\n",
      "Chapter 54 Caroline 0\n",
      "Chapter 54 Jane 5\n",
      "Chapter 54 Collins 0\n",
      "Chapter 54 Charlotte 0\n",
      "Chapter 54 Kitty 0\n",
      "Chapter 54 Mary 0\n",
      "Chapter 54 Maria 0\n",
      "Chapter 54 MrGardiner 0\n",
      "Chapter 54 MrsGardiner 0\n",
      "Chapter 54 Georgiana 0\n",
      "Chapter 55 Elizabeth 23\n",
      "Chapter 55 Darcy 1\n",
      "Chapter 55 Bingley 14\n",
      "Chapter 55 Catherine 1\n",
      "Chapter 55 MrBennet 4\n",
      "Chapter 55 MrsBennet 9\n",
      "Chapter 55 Lydia 2\n",
      "Chapter 55 Wickham 1\n",
      "Chapter 55 Caroline 0\n",
      "Chapter 55 Jane 19\n",
      "Chapter 55 Collins 1\n",
      "Chapter 55 Charlotte 0\n",
      "Chapter 55 Kitty 9\n",
      "Chapter 55 Mary 2\n",
      "Chapter 55 Maria 0\n",
      "Chapter 55 MrGardiner 0\n",
      "Chapter 55 MrsGardiner 0\n",
      "Chapter 55 Georgiana 0\n",
      "Chapter 56 Elizabeth 21\n",
      "Chapter 56 Darcy 6\n",
      "Chapter 56 Bingley 2\n",
      "Chapter 56 Catherine 14\n",
      "Chapter 56 MrBennet 0\n",
      "Chapter 56 MrsBennet 5\n",
      "Chapter 56 Lydia 0\n",
      "Chapter 56 Wickham 0\n",
      "Chapter 56 Caroline 0\n",
      "Chapter 56 Jane 1\n",
      "Chapter 56 Collins 1\n",
      "Chapter 56 Charlotte 2\n",
      "Chapter 56 Kitty 1\n",
      "Chapter 56 Mary 0\n",
      "Chapter 56 Maria 0\n",
      "Chapter 56 MrGardiner 0\n",
      "Chapter 56 MrsGardiner 0\n",
      "Chapter 56 Georgiana 0\n",
      "Chapter 57 Elizabeth 17\n",
      "Chapter 57 Darcy 4\n",
      "Chapter 57 Bingley 2\n",
      "Chapter 57 Catherine 7\n",
      "Chapter 57 MrBennet 0\n",
      "Chapter 57 MrsBennet 0\n",
      "Chapter 57 Lydia 1\n",
      "Chapter 57 Wickham 1\n",
      "Chapter 57 Caroline 0\n",
      "Chapter 57 Jane 1\n",
      "Chapter 57 Collins 5\n",
      "Chapter 57 Charlotte 2\n",
      "Chapter 57 Kitty 0\n",
      "Chapter 57 Mary 0\n",
      "Chapter 57 Maria 0\n",
      "Chapter 57 MrGardiner 0\n",
      "Chapter 57 MrsGardiner 0\n",
      "Chapter 57 Georgiana 0\n",
      "Chapter 58 Elizabeth 14\n",
      "Chapter 58 Darcy 8\n",
      "Chapter 58 Bingley 7\n",
      "Chapter 58 Catherine 2\n",
      "Chapter 58 MrBennet 0\n",
      "Chapter 58 MrsBennet 2\n",
      "Chapter 58 Lydia 1\n",
      "Chapter 58 Wickham 0\n",
      "Chapter 58 Caroline 0\n",
      "Chapter 58 Jane 3\n",
      "Chapter 58 Collins 0\n",
      "Chapter 58 Charlotte 0\n",
      "Chapter 58 Kitty 4\n",
      "Chapter 58 Mary 1\n",
      "Chapter 58 Maria 1\n",
      "Chapter 58 MrGardiner 0\n",
      "Chapter 58 MrsGardiner 1\n",
      "Chapter 58 Georgiana 1\n",
      "Chapter 59 Elizabeth 30\n",
      "Chapter 59 Darcy 15\n",
      "Chapter 59 Bingley 9\n",
      "Chapter 59 Catherine 0\n",
      "Chapter 59 MrBennet 3\n",
      "Chapter 59 MrsBennet 6\n",
      "Chapter 59 Lydia 2\n",
      "Chapter 59 Wickham 1\n",
      "Chapter 59 Caroline 0\n",
      "Chapter 59 Jane 11\n",
      "Chapter 59 Collins 1\n",
      "Chapter 59 Charlotte 0\n",
      "Chapter 59 Kitty 6\n",
      "Chapter 59 Mary 1\n",
      "Chapter 59 Maria 0\n",
      "Chapter 59 MrGardiner 0\n",
      "Chapter 59 MrsGardiner 0\n",
      "Chapter 59 Georgiana 0\n",
      "Chapter 60 Elizabeth 7\n",
      "Chapter 60 Darcy 7\n",
      "Chapter 60 Bingley 3\n",
      "Chapter 60 Catherine 6\n",
      "Chapter 60 MrBennet 1\n",
      "Chapter 60 MrsBennet 0\n",
      "Chapter 60 Lydia 1\n",
      "Chapter 60 Wickham 0\n",
      "Chapter 60 Caroline 0\n",
      "Chapter 60 Jane 5\n",
      "Chapter 60 Collins 3\n",
      "Chapter 60 Charlotte 1\n",
      "Chapter 60 Kitty 0\n",
      "Chapter 60 Mary 0\n",
      "Chapter 60 Maria 0\n",
      "Chapter 60 MrGardiner 0\n",
      "Chapter 60 MrsGardiner 0\n",
      "Chapter 60 Georgiana 0\n",
      "Chapter 61 Elizabeth 12\n",
      "Chapter 61 Darcy 9\n",
      "Chapter 61 Bingley 5\n",
      "Chapter 61 Catherine 1\n",
      "Chapter 61 MrBennet 1\n",
      "Chapter 61 MrsBennet 0\n",
      "Chapter 61 Lydia 6\n",
      "Chapter 61 Wickham 4\n",
      "Chapter 61 Caroline 0\n",
      "Chapter 61 Jane 3\n",
      "Chapter 61 Collins 0\n",
      "Chapter 61 Charlotte 0\n",
      "Chapter 61 Kitty 1\n",
      "Chapter 61 Mary 2\n",
      "Chapter 61 Maria 0\n",
      "Chapter 61 MrGardiner 0\n",
      "Chapter 61 MrsGardiner 0\n",
      "Chapter 61 Georgiana 3\n"
     ]
    }
   ],
   "source": [
    "edge_list = []\n",
    "for chapter in ['Chapter {}'.format(x) for x in range(1, 62)]:\n",
    "    text[chapter] = text[chapter].replace('Fitzwilliam Darcy','Darcy')\\\n",
    "                                 .replace('Fitzwilliam', 'Darcy')\\\n",
    "                                 .replace('Lizzy','Elizabeth')\\\n",
    "                                 .replace('Mrs. Collins', 'Charlotte')\\\n",
    "                                 .replace('Mr. Bennet', 'MrBennet')\\\n",
    "                                 .replace('Mrs. Bennet', 'MrsBennet')\\\n",
    "                                 .replace('Mr. Gardiner', 'MrGardiner')\\\n",
    "                                 .replace('Mrs. Gardiner', 'MrsGardiner')\n",
    "    for name in ['Elizabeth', \n",
    "                 'Darcy', \n",
    "                 'Bingley', \n",
    "                 'Catherine',\n",
    "                 'MrBennet', \n",
    "                 'MrsBennet',\n",
    "                 'Lydia',\n",
    "                 'Wickham',\n",
    "                 'Caroline',\n",
    "                 'Jane',\n",
    "                 'Collins',\n",
    "                 'Charlotte',\n",
    "                 'Kitty',\n",
    "                 'Mary',\n",
    "                 'Maria',\n",
    "                 'MrGardiner',\n",
    "                 'MrsGardiner',\n",
    "                 'Georgiana']:\n",
    "        print(chapter, name, len(re.findall(name, text[chapter])))\n",
    "        edge_list.append((chapter, name, len(re.findall(name, text[chapter]))))\n",
    "\n",
    "data_df = pd.DataFrame(edge_list)\n",
    "data_df.columns = ['Chapter', 'Character', 'Weight']\n",
    "data_df = data_df[data_df['Weight']>0]"
   ]
  },
  {
   "cell_type": "markdown",
   "metadata": {},
   "source": [
    "### Build graph"
   ]
  },
  {
   "cell_type": "code",
   "execution_count": 11,
   "metadata": {
    "ExecuteTime": {
     "end_time": "2020-07-09T14:50:42.670990Z",
     "start_time": "2020-07-09T14:50:42.610086Z"
    }
   },
   "outputs": [],
   "source": [
    "B = nx.Graph()\n",
    "\n",
    "B.add_nodes_from(data_df['Chapter'],\n",
    "                 bipartite=0)\n",
    "B.add_nodes_from(data_df['Character'],\n",
    "                 bipartite=1)\n",
    "\n",
    "B.add_weighted_edges_from(\n",
    "    [(row['Chapter'], \n",
    "      row['Character'],\n",
    "      row['Weight']) for idx, row in data_df.iterrows()])"
   ]
  },
  {
   "cell_type": "markdown",
   "metadata": {},
   "source": [
    "### Get character projection"
   ]
  },
  {
   "cell_type": "code",
   "execution_count": 12,
   "metadata": {
    "ExecuteTime": {
     "end_time": "2020-07-09T14:50:42.679252Z",
     "start_time": "2020-07-09T14:50:42.672846Z"
    }
   },
   "outputs": [],
   "source": [
    "character_filter = {n for n, d in B.nodes(data=True) if d['bipartite']==1}\n",
    "\n",
    "# project bipartite graph onto character nodes keeping number of co-occurences, weighted degree\n",
    "B_character = nx.bipartite.weighted_projected_graph(B, character_filter)"
   ]
  },
  {
   "cell_type": "code",
   "execution_count": 14,
   "metadata": {
    "ExecuteTime": {
     "end_time": "2020-07-09T14:50:42.965106Z",
     "start_time": "2020-07-09T14:50:42.681224Z"
    },
    "scrolled": false
   },
   "outputs": [
    {
     "data": {
      "image/png": "[encoded data removed]",
      "text/plain": [
       "<Figure size 1080x1080 with 1 Axes>"
      ]
     },
     "metadata": {},
     "output_type": "display_data"
    }
   ],
   "source": [
    "plt.figure(figsize=(15,15));\n",
    "pos = nx.spring_layout(B_character, iterations = 50);\n",
    "edges = B_character.edges()\n",
    "weights = [(B_character[u][v]['weight']/20)**2 for u,v in edges]\n",
    "nx.draw_networkx_nodes(B_character, pos, node_color='lightblue', node_size=500);\n",
    "nx.draw_networkx_edges(B_character, pos,  edge_color='gray', width=weights);\n",
    "nx.draw_networkx_labels(B_character, pos, font_size=8, font_color ='blue');"
   ]
  },
  {
   "cell_type": "markdown",
   "metadata": {},
   "source": [
    "### Character degree centrality"
   ]
  },
  {
   "cell_type": "code",
   "execution_count": 34,
   "metadata": {},
   "outputs": [
    {
     "name": "stdout",
     "output_type": "stream",
     "text": [
      "Character Degree Centrality \n",
      "-----------------------------------------------\n",
      "Elizabeth - Degree Centrality: 0.782\n",
      "Jane - Degree Centrality: 0.641\n",
      "Darcy - Degree Centrality: 0.641\n",
      "Bingley - Degree Centrality: 0.564\n",
      "MrsBennet - Degree Centrality: 0.462\n"
     ]
    }
   ],
   "source": [
    "char_deg_cent = {k:v for k,v in dict(nx.degree_centrality(B)).items()}\n",
    "print('Character Degree Centrality ')\n",
    "print('-----------------------------------------------')\n",
    "for character, cdegree in sorted([(x,y) \n",
    "              for x,y in char_deg_cent.items()], \n",
    "              key=lambda x: x[1], reverse=True)[:5]:\n",
    "    print('{} -'.format(character), 'Degree Centrality:',round(cdegree,3))"
   ]
  },
  {
   "cell_type": "markdown",
   "metadata": {},
   "source": [
    "### Character betweenness centrality"
   ]
  },
  {
   "cell_type": "code",
   "execution_count": 35,
   "metadata": {},
   "outputs": [
    {
     "name": "stdout",
     "output_type": "stream",
     "text": [
      "Character Betweenness Centrality \n",
      "-----------------------------------------------\n",
      "Elizabeth - Betweenness Centrality: 0.195\n",
      "Darcy - Betweenness Centrality: 0.112\n",
      "Jane - Betweenness Centrality: 0.107\n",
      "Bingley - Betweenness Centrality: 0.087\n",
      "MrsBennet - Betweenness Centrality: 0.05\n"
     ]
    }
   ],
   "source": [
    "b_bet_cent = {k:v for k,v in dict(nx.betweenness_centrality(B)).items()}\n",
    "print('Character Betweenness Centrality ')\n",
    "print('-----------------------------------------------')\n",
    "for character, cdegree in sorted([(x,y) \n",
    "              for x,y in b_bet_cent.items()], \n",
    "              key=lambda x: x[1], reverse=True)[:5]:\n",
    "    print('{} -'.format(character), 'Betweenness Centrality:',round(cdegree,3))"
   ]
  },
  {
   "cell_type": "markdown",
   "metadata": {},
   "source": [
    "### Create function for NMF and LDA Topic Modeling"
   ]
  },
  {
   "cell_type": "code",
   "execution_count": 14,
   "metadata": {
    "ExecuteTime": {
     "end_time": "2020-07-09T14:50:42.975371Z",
     "start_time": "2020-07-09T14:50:42.966835Z"
    }
   },
   "outputs": [],
   "source": [
    "def NMF_LDA(text):\n",
    "    maxdf = .4\n",
    "    mindf = 5\n",
    "    no_top_words = 10\n",
    "    no_topics = 3\n",
    "\n",
    "    tfidf_vectorizer1 = TfidfVectorizer(ngram_range=(1, 1),\n",
    "                                        max_df=maxdf, \n",
    "                                        min_df=mindf, \n",
    "                                        stop_words=stop)\n",
    "    tfidf1 = tfidf_vectorizer1.fit_transform(text)\n",
    "    tfidf_feature_names1 = tfidf_vectorizer1.get_feature_names()\n",
    "\n",
    "    ct_vectorizer1 = CountVectorizer(ngram_range=(1, 1),\n",
    "        max_df=maxdf, min_df=mindf, stop_words=stop)\n",
    "    ct1 = ct_vectorizer1.fit_transform(text)\n",
    "    tf_feature_names1 = ct_vectorizer1.get_feature_names()\n",
    "\n",
    "    # Run NMF\n",
    "    nmf1 = NMF(n_components=no_topics,\n",
    "               max_iter=300)\n",
    "    nmf1.fit_transform(tfidf1)\n",
    "\n",
    "    # Run LDA\n",
    "    lda1 = LatentDirichletAllocation(n_components=no_topics, \n",
    "                                     max_iter=10,\n",
    "                                     learning_method='online', \n",
    "                                     learning_offset=50.,\n",
    "                                     random_state=0).fit(ct1)\n",
    "    def display_topics(model, feature_names, no_top_words, model_used):\n",
    "        topic_dict={}\n",
    "        for topic_idx, topic in enumerate(model.components_):\n",
    "            topic_dict[\"Topic:{}\".format(topic_idx+1)]=\" \".join(set([feature_names[i].title()\n",
    "            for i in topic.argsort()[:-no_top_words - 1:-1]]))\n",
    "        return pd.DataFrame.from_dict(topic_dict,\n",
    "                                      orient='index')\\\n",
    "                                      .reset_index()\\\n",
    "                                      .rename(columns={'index':'Topic',\n",
    "                                                       0:'Top Words'})\n",
    "    \n",
    "    return display_topics(nmf1, \n",
    "                          tfidf_feature_names1, \n",
    "                          no_top_words, \n",
    "                          \"NMF\"),\\\n",
    "           display_topics(lda1, \n",
    "                          tf_feature_names1, \n",
    "                          no_top_words, \"LDA\")"
   ]
  },
  {
   "cell_type": "markdown",
   "metadata": {},
   "source": [
    "### Turn lists back into sentences"
   ]
  },
  {
   "cell_type": "code",
   "execution_count": 15,
   "metadata": {
    "ExecuteTime": {
     "end_time": "2020-07-09T14:50:42.983796Z",
     "start_time": "2020-07-09T14:50:42.977321Z"
    }
   },
   "outputs": [],
   "source": [
    "topic_corpus =  [' '.join(x) for x in full_corpus]"
   ]
  },
  {
   "cell_type": "markdown",
   "metadata": {},
   "source": [
    "### Get NMF and LDA topics"
   ]
  },
  {
   "cell_type": "code",
   "execution_count": 16,
   "metadata": {
    "ExecuteTime": {
     "end_time": "2020-07-09T14:50:50.369224Z",
     "start_time": "2020-07-09T14:50:42.986225Z"
    }
   },
   "outputs": [],
   "source": [
    "NMF_LDA_Tuple = NMF_LDA(topic_corpus)"
   ]
  },
  {
   "cell_type": "markdown",
   "metadata": {},
   "source": [
    "### NMF topics"
   ]
  },
  {
   "cell_type": "code",
   "execution_count": 17,
   "metadata": {
    "ExecuteTime": {
     "end_time": "2020-07-09T14:50:50.376446Z",
     "start_time": "2020-07-09T14:50:50.371452Z"
    }
   },
   "outputs": [
    {
     "data": {
      "text/plain": [
       "['Time Letter Away Long Lady Walk Little Last Day Daughter',\n",
       " 'Mother Wedding Pleasure Answer Compliment Write Sister Join Account Help',\n",
       " 'Believe Love Friend Mean Indeed Reply Ever Man Really Cry']"
      ]
     },
     "execution_count": 17,
     "metadata": {},
     "output_type": "execute_result"
    }
   ],
   "source": [
    "NMF_LDA_Tuple[0]['Top Words'].tolist()"
   ]
  },
  {
   "cell_type": "markdown",
   "metadata": {},
   "source": [
    "### LDA topics"
   ]
  },
  {
   "cell_type": "code",
   "execution_count": 18,
   "metadata": {
    "ExecuteTime": {
     "end_time": "2020-07-09T14:50:50.383523Z",
     "start_time": "2020-07-09T14:50:50.378438Z"
    }
   },
   "outputs": [
    {
     "data": {
      "text/plain": [
       "['Expect Mother Want Way Believe Friend Turn Sister Man Moment',\n",
       " 'Speak Time Letter Write Lady Room Walk Reply Day Seem',\n",
       " 'House Father Saw Pleasure Receive Sister Felt Little Ever Family']"
      ]
     },
     "execution_count": 18,
     "metadata": {},
     "output_type": "execute_result"
    }
   ],
   "source": [
    "NMF_LDA_Tuple[1]['Top Words'].tolist()"
   ]
  },
  {
   "cell_type": "markdown",
   "metadata": {},
   "source": [
    "### Plot W2V with TSNE"
   ]
  },
  {
   "cell_type": "code",
   "execution_count": 19,
   "metadata": {
    "ExecuteTime": {
     "end_time": "2020-07-09T14:50:50.391373Z",
     "start_time": "2020-07-09T14:50:50.385246Z"
    }
   },
   "outputs": [],
   "source": [
    "def W2V(nlp_list):\n",
    "    \n",
    "    model = gensim.models.Word2Vec(nlp_list,\n",
    "                                   size=100,\n",
    "                                   window=10,\n",
    "                                   min_count=3,\n",
    "                                   workers=2)\n",
    "\n",
    "\n",
    "    labels = []\n",
    "    tokens = []\n",
    "\n",
    "    for word in model.wv.vocab:\n",
    "        tokens.append(model[word])\n",
    "        labels.append(word)\n",
    "        \n",
    "    tsne_model = TSNE(perplexity=30, \n",
    "                      n_components=2, \n",
    "                      init='pca', \n",
    "                      n_iter=250, \n",
    "                      angle=.8)\n",
    "    \n",
    "    new_values = tsne_model.fit_transform(tokens)\n",
    "    \n",
    "    x = []\n",
    "    y = []\n",
    "    for value in new_values:\n",
    "        x.append(value[0])\n",
    "        y.append(value[1])\n",
    "        \n",
    "    df = pd.DataFrame([x, y, labels]).T\n",
    "    df.columns = ['x','y','label']\n",
    "        \n",
    "    return df"
   ]
  },
  {
   "cell_type": "code",
   "execution_count": 20,
   "metadata": {
    "ExecuteTime": {
     "end_time": "2020-07-09T14:51:08.374919Z",
     "start_time": "2020-07-09T14:50:50.392982Z"
    }
   },
   "outputs": [
    {
     "name": "stderr",
     "output_type": "stream",
     "text": [
      "C:\\Users\\spiec\\Anaconda3\\lib\\site-packages\\ipykernel_launcher.py:14: DeprecationWarning:\n",
      "\n",
      "Call to deprecated `__getitem__` (Method will be removed in 4.0.0, use self.wv.__getitem__() instead).\n",
      "\n"
     ]
    }
   ],
   "source": [
    "full_corpus = all_sentences(pride_lines[2229:-19175], include_stop=False)\n",
    "w2v_df = W2V(full_corpus)"
   ]
  },
  {
   "cell_type": "code",
   "execution_count": 23,
   "metadata": {
    "ExecuteTime": {
     "end_time": "2020-07-09T14:51:08.521608Z",
     "start_time": "2020-07-09T14:51:08.376829Z"
    }
   },
   "outputs": [
    {
     "data": {
      "application/vnd.plotly.v1+json": {
       "config": {
        "plotlyServerURL": "https://plot.ly"
       },
       "data": [
        {
         "hoverinfo": "text",
         "mode": "markers+text",
         "text": [
          "mrbennet",
          "bingley",
          "elizabeth",
          "jane",
          "lydia",
          "mrsbennet",
          "kitty",
          "mary",
          "darcy",
          "catherine",
          "maria",
          "charlotte",
          "caroline",
          "collins",
          "wickham",
          "georgiana",
          "mrgardiner",
          "mrsgardiner"
         ],
         "textfont": {
          "size": 8
         },
         "textposition": [
          "bottom right",
          "bottom left",
          "top right",
          "bottom right",
          "bottom left",
          "bottom left",
          "bottom left",
          "bottom left",
          "top right",
          "top left",
          "top right",
          "bottom right",
          "bottom right",
          "bottom right",
          "bottom left",
          "top left",
          "bottom left",
          "bottom right"
         ],
         "type": "scatter",
         "x": [
          7.8730316162109375,
          8.343660354614258,
          8.483652114868164,
          8.35439682006836,
          8.507024765014648,
          8.316242218017578,
          7.800589561462402,
          6.355336666107178,
          8.327027320861816,
          8.141216278076172,
          3.880270004272461,
          8.295574188232422,
          3.3059823513031006,
          8.340814590454102,
          8.323262214660645,
          2.0882527828216553,
          4.565602779388428,
          5.025156497955322
         ],
         "y": [
          0.19435188174247742,
          -0.5615395903587341,
          -0.8143364787101746,
          -0.5858117938041687,
          -0.8424540758132935,
          -0.5251970887184143,
          0.3188282251358032,
          1.6235425472259521,
          -0.5314528346061707,
          -0.22316515445709229,
          -0.0790557861328125,
          -0.48133379220962524,
          -1.6803057193756104,
          -0.5623969435691833,
          -0.5245816707611084,
          -2.43943452835083,
          1.320266604423523,
          1.6416447162628174
         ]
        }
       ],
       "layout": {
        "height": 800,
        "hovermode": "closest",
        "paper_bgcolor": "white",
        "plot_bgcolor": "white",
        "template": {
         "data": {
          "bar": [
           {
            "error_x": {
             "color": "#2a3f5f"
            },
            "error_y": {
             "color": "#2a3f5f"
            },
            "marker": {
             "line": {
              "color": "#E5ECF6",
              "width": 0.5
             }
            },
            "type": "bar"
           }
          ],
          "barpolar": [
           {
            "marker": {
             "line": {
              "color": "#E5ECF6",
              "width": 0.5
             }
            },
            "type": "barpolar"
           }
          ],
          "carpet": [
           {
            "aaxis": {
             "endlinecolor": "#2a3f5f",
             "gridcolor": "white",
             "linecolor": "white",
             "minorgridcolor": "white",
             "startlinecolor": "#2a3f5f"
            },
            "baxis": {
             "endlinecolor": "#2a3f5f",
             "gridcolor": "white",
             "linecolor": "white",
             "minorgridcolor": "white",
             "startlinecolor": "#2a3f5f"
            },
            "type": "carpet"
           }
          ],
          "choropleth": [
           {
            "colorbar": {
             "outlinewidth": 0,
             "ticks": ""
            },
            "type": "choropleth"
           }
          ],
          "contour": [
           {
            "colorbar": {
             "outlinewidth": 0,
             "ticks": ""
            },
            "colorscale": [
             [
              0,
              "#0d0887"
             ],
             [
              0.1111111111111111,
              "#46039f"
             ],
             [
              0.2222222222222222,
              "#7201a8"
             ],
             [
              0.3333333333333333,
              "#9c179e"
             ],
             [
              0.4444444444444444,
              "#bd3786"
             ],
             [
              0.5555555555555556,
              "#d8576b"
             ],
             [
              0.6666666666666666,
              "#ed7953"
             ],
             [
              0.7777777777777778,
              "#fb9f3a"
             ],
             [
              0.8888888888888888,
              "#fdca26"
             ],
             [
              1,
              "#f0f921"
             ]
            ],
            "type": "contour"
           }
          ],
          "contourcarpet": [
           {
            "colorbar": {
             "outlinewidth": 0,
             "ticks": ""
            },
            "type": "contourcarpet"
           }
          ],
          "heatmap": [
           {
            "colorbar": {
             "outlinewidth": 0,
             "ticks": ""
            },
            "colorscale": [
             [
              0,
              "#0d0887"
             ],
             [
              0.1111111111111111,
              "#46039f"
             ],
             [
              0.2222222222222222,
              "#7201a8"
             ],
             [
              0.3333333333333333,
              "#9c179e"
             ],
             [
              0.4444444444444444,
              "#bd3786"
             ],
             [
              0.5555555555555556,
              "#d8576b"
             ],
             [
              0.6666666666666666,
              "#ed7953"
             ],
             [
              0.7777777777777778,
              "#fb9f3a"
             ],
             [
              0.8888888888888888,
              "#fdca26"
             ],
             [
              1,
              "#f0f921"
             ]
            ],
            "type": "heatmap"
           }
          ],
          "heatmapgl": [
           {
            "colorbar": {
             "outlinewidth": 0,
             "ticks": ""
            },
            "colorscale": [
             [
              0,
              "#0d0887"
             ],
             [
              0.1111111111111111,
              "#46039f"
             ],
             [
              0.2222222222222222,
              "#7201a8"
             ],
             [
              0.3333333333333333,
              "#9c179e"
             ],
             [
              0.4444444444444444,
              "#bd3786"
             ],
             [
              0.5555555555555556,
              "#d8576b"
             ],
             [
              0.6666666666666666,
              "#ed7953"
             ],
             [
              0.7777777777777778,
              "#fb9f3a"
             ],
             [
              0.8888888888888888,
              "#fdca26"
             ],
             [
              1,
              "#f0f921"
             ]
            ],
            "type": "heatmapgl"
           }
          ],
          "histogram": [
           {
            "marker": {
             "colorbar": {
              "outlinewidth": 0,
              "ticks": ""
             }
            },
            "type": "histogram"
           }
          ],
          "histogram2d": [
           {
            "colorbar": {
             "outlinewidth": 0,
             "ticks": ""
            },
            "colorscale": [
             [
              0,
              "#0d0887"
             ],
             [
              0.1111111111111111,
              "#46039f"
             ],
             [
              0.2222222222222222,
              "#7201a8"
             ],
             [
              0.3333333333333333,
              "#9c179e"
             ],
             [
              0.4444444444444444,
              "#bd3786"
             ],
             [
              0.5555555555555556,
              "#d8576b"
             ],
             [
              0.6666666666666666,
              "#ed7953"
             ],
             [
              0.7777777777777778,
              "#fb9f3a"
             ],
             [
              0.8888888888888888,
              "#fdca26"
             ],
             [
              1,
              "#f0f921"
             ]
            ],
            "type": "histogram2d"
           }
          ],
          "histogram2dcontour": [
           {
            "colorbar": {
             "outlinewidth": 0,
             "ticks": ""
            },
            "colorscale": [
             [
              0,
              "#0d0887"
             ],
             [
              0.1111111111111111,
              "#46039f"
             ],
             [
              0.2222222222222222,
              "#7201a8"
             ],
             [
              0.3333333333333333,
              "#9c179e"
             ],
             [
              0.4444444444444444,
              "#bd3786"
             ],
             [
              0.5555555555555556,
              "#d8576b"
             ],
             [
              0.6666666666666666,
              "#ed7953"
             ],
             [
              0.7777777777777778,
              "#fb9f3a"
             ],
             [
              0.8888888888888888,
              "#fdca26"
             ],
             [
              1,
              "#f0f921"
             ]
            ],
            "type": "histogram2dcontour"
           }
          ],
          "mesh3d": [
           {
            "colorbar": {
             "outlinewidth": 0,
             "ticks": ""
            },
            "type": "mesh3d"
           }
          ],
          "parcoords": [
           {
            "line": {
             "colorbar": {
              "outlinewidth": 0,
              "ticks": ""
             }
            },
            "type": "parcoords"
           }
          ],
          "pie": [
           {
            "automargin": true,
            "type": "pie"
           }
          ],
          "scatter": [
           {
            "marker": {
             "colorbar": {
              "outlinewidth": 0,
              "ticks": ""
             }
            },
            "type": "scatter"
           }
          ],
          "scatter3d": [
           {
            "line": {
             "colorbar": {
              "outlinewidth": 0,
              "ticks": ""
             }
            },
            "marker": {
             "colorbar": {
              "outlinewidth": 0,
              "ticks": ""
             }
            },
            "type": "scatter3d"
           }
          ],
          "scattercarpet": [
           {
            "marker": {
             "colorbar": {
              "outlinewidth": 0,
              "ticks": ""
             }
            },
            "type": "scattercarpet"
           }
          ],
          "scattergeo": [
           {
            "marker": {
             "colorbar": {
              "outlinewidth": 0,
              "ticks": ""
             }
            },
            "type": "scattergeo"
           }
          ],
          "scattergl": [
           {
            "marker": {
             "colorbar": {
              "outlinewidth": 0,
              "ticks": ""
             }
            },
            "type": "scattergl"
           }
          ],
          "scattermapbox": [
           {
            "marker": {
             "colorbar": {
              "outlinewidth": 0,
              "ticks": ""
             }
            },
            "type": "scattermapbox"
           }
          ],
          "scatterpolar": [
           {
            "marker": {
             "colorbar": {
              "outlinewidth": 0,
              "ticks": ""
             }
            },
            "type": "scatterpolar"
           }
          ],
          "scatterpolargl": [
           {
            "marker": {
             "colorbar": {
              "outlinewidth": 0,
              "ticks": ""
             }
            },
            "type": "scatterpolargl"
           }
          ],
          "scatterternary": [
           {
            "marker": {
             "colorbar": {
              "outlinewidth": 0,
              "ticks": ""
             }
            },
            "type": "scatterternary"
           }
          ],
          "surface": [
           {
            "colorbar": {
             "outlinewidth": 0,
             "ticks": ""
            },
            "colorscale": [
             [
              0,
              "#0d0887"
             ],
             [
              0.1111111111111111,
              "#46039f"
             ],
             [
              0.2222222222222222,
              "#7201a8"
             ],
             [
              0.3333333333333333,
              "#9c179e"
             ],
             [
              0.4444444444444444,
              "#bd3786"
             ],
             [
              0.5555555555555556,
              "#d8576b"
             ],
             [
              0.6666666666666666,
              "#ed7953"
             ],
             [
              0.7777777777777778,
              "#fb9f3a"
             ],
             [
              0.8888888888888888,
              "#fdca26"
             ],
             [
              1,
              "#f0f921"
             ]
            ],
            "type": "surface"
           }
          ],
          "table": [
           {
            "cells": {
             "fill": {
              "color": "#EBF0F8"
             },
             "line": {
              "color": "white"
             }
            },
            "header": {
             "fill": {
              "color": "#C8D4E3"
             },
             "line": {
              "color": "white"
             }
            },
            "type": "table"
           }
          ]
         },
         "layout": {
          "annotationdefaults": {
           "arrowcolor": "#2a3f5f",
           "arrowhead": 0,
           "arrowwidth": 1
          },
          "coloraxis": {
           "colorbar": {
            "outlinewidth": 0,
            "ticks": ""
           }
          },
          "colorscale": {
           "diverging": [
            [
             0,
             "#8e0152"
            ],
            [
             0.1,
             "#c51b7d"
            ],
            [
             0.2,
             "#de77ae"
            ],
            [
             0.3,
             "#f1b6da"
            ],
            [
             0.4,
             "#fde0ef"
            ],
            [
             0.5,
             "#f7f7f7"
            ],
            [
             0.6,
             "#e6f5d0"
            ],
            [
             0.7,
             "#b8e186"
            ],
            [
             0.8,
             "#7fbc41"
            ],
            [
             0.9,
             "#4d9221"
            ],
            [
             1,
             "#276419"
            ]
           ],
           "sequential": [
            [
             0,
             "#0d0887"
            ],
            [
             0.1111111111111111,
             "#46039f"
            ],
            [
             0.2222222222222222,
             "#7201a8"
            ],
            [
             0.3333333333333333,
             "#9c179e"
            ],
            [
             0.4444444444444444,
             "#bd3786"
            ],
            [
             0.5555555555555556,
             "#d8576b"
            ],
            [
             0.6666666666666666,
             "#ed7953"
            ],
            [
             0.7777777777777778,
             "#fb9f3a"
            ],
            [
             0.8888888888888888,
             "#fdca26"
            ],
            [
             1,
             "#f0f921"
            ]
           ],
           "sequentialminus": [
            [
             0,
             "#0d0887"
            ],
            [
             0.1111111111111111,
             "#46039f"
            ],
            [
             0.2222222222222222,
             "#7201a8"
            ],
            [
             0.3333333333333333,
             "#9c179e"
            ],
            [
             0.4444444444444444,
             "#bd3786"
            ],
            [
             0.5555555555555556,
             "#d8576b"
            ],
            [
             0.6666666666666666,
             "#ed7953"
            ],
            [
             0.7777777777777778,
             "#fb9f3a"
            ],
            [
             0.8888888888888888,
             "#fdca26"
            ],
            [
             1,
             "#f0f921"
            ]
           ]
          },
          "colorway": [
           "#636efa",
           "#EF553B",
           "#00cc96",
           "#ab63fa",
           "#FFA15A",
           "#19d3f3",
           "#FF6692",
           "#B6E880",
           "#FF97FF",
           "#FECB52"
          ],
          "font": {
           "color": "#2a3f5f"
          },
          "geo": {
           "bgcolor": "white",
           "lakecolor": "white",
           "landcolor": "#E5ECF6",
           "showlakes": true,
           "showland": true,
           "subunitcolor": "white"
          },
          "hoverlabel": {
           "align": "left"
          },
          "hovermode": "closest",
          "mapbox": {
           "style": "light"
          },
          "paper_bgcolor": "white",
          "plot_bgcolor": "#E5ECF6",
          "polar": {
           "angularaxis": {
            "gridcolor": "white",
            "linecolor": "white",
            "ticks": ""
           },
           "bgcolor": "#E5ECF6",
           "radialaxis": {
            "gridcolor": "white",
            "linecolor": "white",
            "ticks": ""
           }
          },
          "scene": {
           "xaxis": {
            "backgroundcolor": "#E5ECF6",
            "gridcolor": "white",
            "gridwidth": 2,
            "linecolor": "white",
            "showbackground": true,
            "ticks": "",
            "zerolinecolor": "white"
           },
           "yaxis": {
            "backgroundcolor": "#E5ECF6",
            "gridcolor": "white",
            "gridwidth": 2,
            "linecolor": "white",
            "showbackground": true,
            "ticks": "",
            "zerolinecolor": "white"
           },
           "zaxis": {
            "backgroundcolor": "#E5ECF6",
            "gridcolor": "white",
            "gridwidth": 2,
            "linecolor": "white",
            "showbackground": true,
            "ticks": "",
            "zerolinecolor": "white"
           }
          },
          "shapedefaults": {
           "line": {
            "color": "#2a3f5f"
           }
          },
          "ternary": {
           "aaxis": {
            "gridcolor": "white",
            "linecolor": "white",
            "ticks": ""
           },
           "baxis": {
            "gridcolor": "white",
            "linecolor": "white",
            "ticks": ""
           },
           "bgcolor": "#E5ECF6",
           "caxis": {
            "gridcolor": "white",
            "linecolor": "white",
            "ticks": ""
           }
          },
          "title": {
           "x": 0.05
          },
          "xaxis": {
           "automargin": true,
           "gridcolor": "white",
           "linecolor": "white",
           "ticks": "",
           "title": {
            "standoff": 15
           },
           "zerolinecolor": "white",
           "zerolinewidth": 2
          },
          "yaxis": {
           "automargin": true,
           "gridcolor": "white",
           "linecolor": "white",
           "ticks": "",
           "title": {
            "standoff": 15
           },
           "zerolinecolor": "white",
           "zerolinewidth": 2
          }
         }
        },
        "title": {
         "text": "Word2Vec Name Vector Similarity"
        },
        "width": 800
       }
      },
      "text/html": [
       "<div>\n",
       "        \n",
       "        \n",
       "            <div id=\"7a5797e9-d498-45ce-a144-f049b20f8cf8\" class=\"plotly-graph-div\" style=\"height:800px; width:800px;\"></div>\n",
       "            <script type=\"text/javascript\">\n",
       "                require([\"plotly\"], function(Plotly) {\n",
       "                    window.PLOTLYENV=window.PLOTLYENV || {};\n",
       "                    \n",
       "                if (document.getElementById(\"7a5797e9-d498-45ce-a144-f049b20f8cf8\")) {\n",
       "                    Plotly.newPlot(\n",
       "                        '7a5797e9-d498-45ce-a144-f049b20f8cf8',\n",
       "                        [{\"hoverinfo\": \"text\", \"mode\": \"markers+text\", \"text\": [\"mrbennet\", \"bingley\", \"elizabeth\", \"jane\", \"lydia\", \"mrsbennet\", \"kitty\", \"mary\", \"darcy\", \"catherine\", \"maria\", \"charlotte\", \"caroline\", \"collins\", \"wickham\", \"georgiana\", \"mrgardiner\", \"mrsgardiner\"], \"textfont\": {\"size\": 8}, \"textposition\": [\"bottom right\", \"bottom left\", \"top right\", \"bottom right\", \"bottom left\", \"bottom left\", \"bottom left\", \"bottom left\", \"top right\", \"top left\", \"top right\", \"bottom right\", \"bottom right\", \"bottom right\", \"bottom left\", \"top left\", \"bottom left\", \"bottom right\"], \"type\": \"scatter\", \"x\": [7.8730316162109375, 8.343660354614258, 8.483652114868164, 8.35439682006836, 8.507024765014648, 8.316242218017578, 7.800589561462402, 6.355336666107178, 8.327027320861816, 8.141216278076172, 3.880270004272461, 8.295574188232422, 3.3059823513031006, 8.340814590454102, 8.323262214660645, 2.0882527828216553, 4.565602779388428, 5.025156497955322], \"y\": [0.19435188174247742, -0.5615395903587341, -0.8143364787101746, -0.5858117938041687, -0.8424540758132935, -0.5251970887184143, 0.3188282251358032, 1.6235425472259521, -0.5314528346061707, -0.22316515445709229, -0.0790557861328125, -0.48133379220962524, -1.6803057193756104, -0.5623969435691833, -0.5245816707611084, -2.43943452835083, 1.320266604423523, 1.6416447162628174]}],\n",
       "                        {\"height\": 800, \"hovermode\": \"closest\", \"paper_bgcolor\": \"white\", \"plot_bgcolor\": \"white\", \"template\": {\"data\": {\"bar\": [{\"error_x\": {\"color\": \"#2a3f5f\"}, \"error_y\": {\"color\": \"#2a3f5f\"}, \"marker\": {\"line\": {\"color\": \"#E5ECF6\", \"width\": 0.5}}, \"type\": \"bar\"}], \"barpolar\": [{\"marker\": {\"line\": {\"color\": \"#E5ECF6\", \"width\": 0.5}}, \"type\": \"barpolar\"}], \"carpet\": [{\"aaxis\": {\"endlinecolor\": \"#2a3f5f\", \"gridcolor\": \"white\", \"linecolor\": \"white\", \"minorgridcolor\": \"white\", \"startlinecolor\": \"#2a3f5f\"}, \"baxis\": {\"endlinecolor\": \"#2a3f5f\", \"gridcolor\": \"white\", \"linecolor\": \"white\", \"minorgridcolor\": \"white\", \"startlinecolor\": \"#2a3f5f\"}, \"type\": \"carpet\"}], \"choropleth\": [{\"colorbar\": {\"outlinewidth\": 0, \"ticks\": \"\"}, \"type\": \"choropleth\"}], \"contour\": [{\"colorbar\": {\"outlinewidth\": 0, \"ticks\": \"\"}, \"colorscale\": [[0.0, \"#0d0887\"], [0.1111111111111111, \"#46039f\"], [0.2222222222222222, \"#7201a8\"], [0.3333333333333333, \"#9c179e\"], [0.4444444444444444, \"#bd3786\"], [0.5555555555555556, \"#d8576b\"], [0.6666666666666666, \"#ed7953\"], [0.7777777777777778, \"#fb9f3a\"], [0.8888888888888888, \"#fdca26\"], [1.0, \"#f0f921\"]], \"type\": \"contour\"}], \"contourcarpet\": [{\"colorbar\": {\"outlinewidth\": 0, \"ticks\": \"\"}, \"type\": \"contourcarpet\"}], \"heatmap\": [{\"colorbar\": {\"outlinewidth\": 0, \"ticks\": \"\"}, \"colorscale\": [[0.0, \"#0d0887\"], [0.1111111111111111, \"#46039f\"], [0.2222222222222222, \"#7201a8\"], [0.3333333333333333, \"#9c179e\"], [0.4444444444444444, \"#bd3786\"], [0.5555555555555556, \"#d8576b\"], [0.6666666666666666, \"#ed7953\"], [0.7777777777777778, \"#fb9f3a\"], [0.8888888888888888, \"#fdca26\"], [1.0, \"#f0f921\"]], \"type\": \"heatmap\"}], \"heatmapgl\": [{\"colorbar\": {\"outlinewidth\": 0, \"ticks\": \"\"}, \"colorscale\": [[0.0, \"#0d0887\"], [0.1111111111111111, \"#46039f\"], [0.2222222222222222, \"#7201a8\"], [0.3333333333333333, \"#9c179e\"], [0.4444444444444444, \"#bd3786\"], [0.5555555555555556, \"#d8576b\"], [0.6666666666666666, \"#ed7953\"], [0.7777777777777778, \"#fb9f3a\"], [0.8888888888888888, \"#fdca26\"], [1.0, \"#f0f921\"]], \"type\": \"heatmapgl\"}], \"histogram\": [{\"marker\": {\"colorbar\": {\"outlinewidth\": 0, \"ticks\": \"\"}}, \"type\": \"histogram\"}], \"histogram2d\": [{\"colorbar\": {\"outlinewidth\": 0, \"ticks\": \"\"}, \"colorscale\": [[0.0, \"#0d0887\"], [0.1111111111111111, \"#46039f\"], [0.2222222222222222, \"#7201a8\"], [0.3333333333333333, \"#9c179e\"], [0.4444444444444444, \"#bd3786\"], [0.5555555555555556, \"#d8576b\"], [0.6666666666666666, \"#ed7953\"], [0.7777777777777778, \"#fb9f3a\"], [0.8888888888888888, \"#fdca26\"], [1.0, \"#f0f921\"]], \"type\": \"histogram2d\"}], \"histogram2dcontour\": [{\"colorbar\": {\"outlinewidth\": 0, \"ticks\": \"\"}, \"colorscale\": [[0.0, \"#0d0887\"], [0.1111111111111111, \"#46039f\"], [0.2222222222222222, \"#7201a8\"], [0.3333333333333333, \"#9c179e\"], [0.4444444444444444, \"#bd3786\"], [0.5555555555555556, \"#d8576b\"], [0.6666666666666666, \"#ed7953\"], [0.7777777777777778, \"#fb9f3a\"], [0.8888888888888888, \"#fdca26\"], [1.0, \"#f0f921\"]], \"type\": \"histogram2dcontour\"}], \"mesh3d\": [{\"colorbar\": {\"outlinewidth\": 0, \"ticks\": \"\"}, \"type\": \"mesh3d\"}], \"parcoords\": [{\"line\": {\"colorbar\": {\"outlinewidth\": 0, \"ticks\": \"\"}}, \"type\": \"parcoords\"}], \"pie\": [{\"automargin\": true, \"type\": \"pie\"}], \"scatter\": [{\"marker\": {\"colorbar\": {\"outlinewidth\": 0, \"ticks\": \"\"}}, \"type\": \"scatter\"}], \"scatter3d\": [{\"line\": {\"colorbar\": {\"outlinewidth\": 0, \"ticks\": \"\"}}, \"marker\": {\"colorbar\": {\"outlinewidth\": 0, \"ticks\": \"\"}}, \"type\": \"scatter3d\"}], \"scattercarpet\": [{\"marker\": {\"colorbar\": {\"outlinewidth\": 0, \"ticks\": \"\"}}, \"type\": \"scattercarpet\"}], \"scattergeo\": [{\"marker\": {\"colorbar\": {\"outlinewidth\": 0, \"ticks\": \"\"}}, \"type\": \"scattergeo\"}], \"scattergl\": [{\"marker\": {\"colorbar\": {\"outlinewidth\": 0, \"ticks\": \"\"}}, \"type\": \"scattergl\"}], \"scattermapbox\": [{\"marker\": {\"colorbar\": {\"outlinewidth\": 0, \"ticks\": \"\"}}, \"type\": \"scattermapbox\"}], \"scatterpolar\": [{\"marker\": {\"colorbar\": {\"outlinewidth\": 0, \"ticks\": \"\"}}, \"type\": \"scatterpolar\"}], \"scatterpolargl\": [{\"marker\": {\"colorbar\": {\"outlinewidth\": 0, \"ticks\": \"\"}}, \"type\": \"scatterpolargl\"}], \"scatterternary\": [{\"marker\": {\"colorbar\": {\"outlinewidth\": 0, \"ticks\": \"\"}}, \"type\": \"scatterternary\"}], \"surface\": [{\"colorbar\": {\"outlinewidth\": 0, \"ticks\": \"\"}, \"colorscale\": [[0.0, \"#0d0887\"], [0.1111111111111111, \"#46039f\"], [0.2222222222222222, \"#7201a8\"], [0.3333333333333333, \"#9c179e\"], [0.4444444444444444, \"#bd3786\"], [0.5555555555555556, \"#d8576b\"], [0.6666666666666666, \"#ed7953\"], [0.7777777777777778, \"#fb9f3a\"], [0.8888888888888888, \"#fdca26\"], [1.0, \"#f0f921\"]], \"type\": \"surface\"}], \"table\": [{\"cells\": {\"fill\": {\"color\": \"#EBF0F8\"}, \"line\": {\"color\": \"white\"}}, \"header\": {\"fill\": {\"color\": \"#C8D4E3\"}, \"line\": {\"color\": \"white\"}}, \"type\": \"table\"}]}, \"layout\": {\"annotationdefaults\": {\"arrowcolor\": \"#2a3f5f\", \"arrowhead\": 0, \"arrowwidth\": 1}, \"coloraxis\": {\"colorbar\": {\"outlinewidth\": 0, \"ticks\": \"\"}}, \"colorscale\": {\"diverging\": [[0, \"#8e0152\"], [0.1, \"#c51b7d\"], [0.2, \"#de77ae\"], [0.3, \"#f1b6da\"], [0.4, \"#fde0ef\"], [0.5, \"#f7f7f7\"], [0.6, \"#e6f5d0\"], [0.7, \"#b8e186\"], [0.8, \"#7fbc41\"], [0.9, \"#4d9221\"], [1, \"#276419\"]], \"sequential\": [[0.0, \"#0d0887\"], [0.1111111111111111, \"#46039f\"], [0.2222222222222222, \"#7201a8\"], [0.3333333333333333, \"#9c179e\"], [0.4444444444444444, \"#bd3786\"], [0.5555555555555556, \"#d8576b\"], [0.6666666666666666, \"#ed7953\"], [0.7777777777777778, \"#fb9f3a\"], [0.8888888888888888, \"#fdca26\"], [1.0, \"#f0f921\"]], \"sequentialminus\": [[0.0, \"#0d0887\"], [0.1111111111111111, \"#46039f\"], [0.2222222222222222, \"#7201a8\"], [0.3333333333333333, \"#9c179e\"], [0.4444444444444444, \"#bd3786\"], [0.5555555555555556, \"#d8576b\"], [0.6666666666666666, \"#ed7953\"], [0.7777777777777778, \"#fb9f3a\"], [0.8888888888888888, \"#fdca26\"], [1.0, \"#f0f921\"]]}, \"colorway\": [\"#636efa\", \"#EF553B\", \"#00cc96\", \"#ab63fa\", \"#FFA15A\", \"#19d3f3\", \"#FF6692\", \"#B6E880\", \"#FF97FF\", \"#FECB52\"], \"font\": {\"color\": \"#2a3f5f\"}, \"geo\": {\"bgcolor\": \"white\", \"lakecolor\": \"white\", \"landcolor\": \"#E5ECF6\", \"showlakes\": true, \"showland\": true, \"subunitcolor\": \"white\"}, \"hoverlabel\": {\"align\": \"left\"}, \"hovermode\": \"closest\", \"mapbox\": {\"style\": \"light\"}, \"paper_bgcolor\": \"white\", \"plot_bgcolor\": \"#E5ECF6\", \"polar\": {\"angularaxis\": {\"gridcolor\": \"white\", \"linecolor\": \"white\", \"ticks\": \"\"}, \"bgcolor\": \"#E5ECF6\", \"radialaxis\": {\"gridcolor\": \"white\", \"linecolor\": \"white\", \"ticks\": \"\"}}, \"scene\": {\"xaxis\": {\"backgroundcolor\": \"#E5ECF6\", \"gridcolor\": \"white\", \"gridwidth\": 2, \"linecolor\": \"white\", \"showbackground\": true, \"ticks\": \"\", \"zerolinecolor\": \"white\"}, \"yaxis\": {\"backgroundcolor\": \"#E5ECF6\", \"gridcolor\": \"white\", \"gridwidth\": 2, \"linecolor\": \"white\", \"showbackground\": true, \"ticks\": \"\", \"zerolinecolor\": \"white\"}, \"zaxis\": {\"backgroundcolor\": \"#E5ECF6\", \"gridcolor\": \"white\", \"gridwidth\": 2, \"linecolor\": \"white\", \"showbackground\": true, \"ticks\": \"\", \"zerolinecolor\": \"white\"}}, \"shapedefaults\": {\"line\": {\"color\": \"#2a3f5f\"}}, \"ternary\": {\"aaxis\": {\"gridcolor\": \"white\", \"linecolor\": \"white\", \"ticks\": \"\"}, \"baxis\": {\"gridcolor\": \"white\", \"linecolor\": \"white\", \"ticks\": \"\"}, \"bgcolor\": \"#E5ECF6\", \"caxis\": {\"gridcolor\": \"white\", \"linecolor\": \"white\", \"ticks\": \"\"}}, \"title\": {\"x\": 0.05}, \"xaxis\": {\"automargin\": true, \"gridcolor\": \"white\", \"linecolor\": \"white\", \"ticks\": \"\", \"title\": {\"standoff\": 15}, \"zerolinecolor\": \"white\", \"zerolinewidth\": 2}, \"yaxis\": {\"automargin\": true, \"gridcolor\": \"white\", \"linecolor\": \"white\", \"ticks\": \"\", \"title\": {\"standoff\": 15}, \"zerolinecolor\": \"white\", \"zerolinewidth\": 2}}}, \"title\": {\"text\": \"Word2Vec Name Vector Similarity\"}, \"width\": 800},\n",
       "                        {\"responsive\": true}\n",
       "                    ).then(function(){\n",
       "                            \n",
       "var gd = document.getElementById('7a5797e9-d498-45ce-a144-f049b20f8cf8');\n",
       "var x = new MutationObserver(function (mutations, observer) {{\n",
       "        var display = window.getComputedStyle(gd).display;\n",
       "        if (!display || display === 'none') {{\n",
       "            console.log([gd, 'removed!']);\n",
       "            Plotly.purge(gd);\n",
       "            observer.disconnect();\n",
       "        }}\n",
       "}});\n",
       "\n",
       "// Listen for the removal of the full notebook cells\n",
       "var notebookContainer = gd.closest('#notebook-container');\n",
       "if (notebookContainer) {{\n",
       "    x.observe(notebookContainer, {childList: true});\n",
       "}}\n",
       "\n",
       "// Listen for the clearing of the current output cell\n",
       "var outputEl = gd.closest('.output');\n",
       "if (outputEl) {{\n",
       "    x.observe(outputEl, {childList: true});\n",
       "}}\n",
       "\n",
       "                        })\n",
       "                };\n",
       "                });\n",
       "            </script>\n",
       "        </div>"
      ]
     },
     "metadata": {},
     "output_type": "display_data"
    }
   ],
   "source": [
    "character_list = ['Elizabeth', \n",
    "                  'Darcy', \n",
    "                  'Bingley', \n",
    "                  'Catherine',\n",
    "                  'MrBennet', \n",
    "                  'MrsBennet',\n",
    "                  'Lydia',\n",
    "                  'Wickham',\n",
    "                  'Caroline',\n",
    "                  'Jane',\n",
    "                  'Collins',\n",
    "                  'Charlotte',\n",
    "                  'Kitty',\n",
    "                  'Mary',\n",
    "                  'Maria',\n",
    "                  'Fitzwilliam',\n",
    "                  'MrGardiner',\n",
    "                  'MrsGardiner',\n",
    "                  'Georgiana']\n",
    "\n",
    "character_list = [x.lower() for x in character_list]\n",
    "\n",
    "df = w2v_df[w2v_df['label'].isin(character_list)]\n",
    "\n",
    "\n",
    "text_pos = [x for x in np.random.choice(['top left', \n",
    "                                         'bottom left',\n",
    "                                         'top right',\n",
    "                                         'bottom right'], \n",
    "                                          len(df),\n",
    "                                          p=[.2,.3,.3,.2])]\n",
    "\n",
    "\n",
    "trace = go.Scatter(x=df['x'],\n",
    "                   y=df['y'],\n",
    "                   mode='markers+text', \n",
    "                   textposition=text_pos,\n",
    "                   text=df['label'],\n",
    "                   textfont=dict(size=8),\n",
    "                   hoverinfo='text')\n",
    "\n",
    "\n",
    "\n",
    "fig = go.Figure([trace])\n",
    "\n",
    "fig.update_layout(go.Layout(\n",
    "    title='Word2Vec Name Vector Similarity',\n",
    "    ),\n",
    "    hovermode='closest',\n",
    "    plot_bgcolor='white',\n",
    "    paper_bgcolor='white',\n",
    "    width=800,\n",
    "    height=800\n",
    ")\n"
   ]
  },
  {
   "cell_type": "code",
   "execution_count": null,
   "metadata": {},
   "outputs": [],
   "source": []
  }
 ],
 "metadata": {
  "kernelspec": {
   "display_name": "Python 3.7.4 64-bit ('base': conda)",
   "language": "python",
   "name": "python37464bitbaseconda0f2540ca00c14c548fd578f4a6b1a719"
  },
  "language_info": {
   "codemirror_mode": {
    "name": "ipython",
    "version": 3
   },
   "file_extension": ".py",
   "mimetype": "text/x-python",
   "name": "python",
   "nbconvert_exporter": "python",
   "pygments_lexer": "ipython3",
   "version": "3.7.6"
  },
  "toc": {
   "base_numbering": 1,
   "nav_menu": {},
   "number_sections": true,
   "sideBar": true,
   "skip_h1_title": false,
   "title_cell": "Table of Contents",
   "title_sidebar": "Contents",
   "toc_cell": false,
   "toc_position": {},
   "toc_section_display": true,
   "toc_window_display": false
  }
 },
 "nbformat": 4,
 "nbformat_minor": 2
}
