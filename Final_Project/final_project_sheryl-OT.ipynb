{
 "cells": [
  {
   "cell_type": "markdown",
   "metadata": {},
   "source": [
    "### Import moduels and libraries for use"
   ]
  },
  {
   "cell_type": "code",
   "execution_count": 1,
   "metadata": {
    "ExecuteTime": {
     "end_time": "2020-07-08T16:36:34.630436Z",
     "start_time": "2020-07-08T16:36:31.287315Z"
    }
   },
   "outputs": [],
   "source": [
    "import nltk\n",
    "import urllib\n",
    "import pandas as pd\n",
    "from nltk.corpus import wordnet\n",
    "from nltk.tokenize import sent_tokenize, word_tokenize \n",
    "from nltk.stem import WordNetLemmatizer\n",
    "from nltk.tag import pos_tag\n",
    "from textblob import TextBlob\n",
    "from nltk.util import ngrams\n",
    "from collections import Counter\n",
    "from operator import itemgetter\n",
    "from nltk.corpus import stopwords\n",
    "from sklearn.feature_extraction.text import CountVectorizer\n",
    "from scipy.sparse.linalg import svds\n",
    "from sklearn.feature_extraction.text import TfidfVectorizer\n",
    "from sklearn.decomposition import NMF, LatentDirichletAllocation\n",
    "import os\n",
    "import re\n",
    "from sklearn.manifold import TSNE\n",
    "from collections import defaultdict\n",
    "from nltk.corpus import stopwords\n",
    "import gensim\n",
    "from sklearn.manifold import TSNE\n",
    "import gensim\n",
    "import string\n",
    "from gensim import corpora\n",
    "import networkx as nx\n",
    "import matplotlib.pyplot as plt\n",
    "from plotly.offline import iplot, plot\n",
    "import plotly.graph_objs as go\n",
    "import numpy as np"
   ]
  },
  {
   "cell_type": "code",
   "execution_count": 2,
   "metadata": {
    "ExecuteTime": {
     "end_time": "2020-07-08T16:36:41.827599Z",
     "start_time": "2020-07-08T16:36:41.262937Z"
    }
   },
   "outputs": [],
   "source": [
    "oliver = urllib.request.urlopen('http://www.gutenberg.org/cache/epub/730/pg730.txt').read()\n",
    "oliver_lines = oliver.decode('utf8')"
   ]
  },
  {
   "cell_type": "code",
   "execution_count": 16,
   "metadata": {
    "ExecuteTime": {
     "end_time": "2020-07-08T16:36:52.775626Z",
     "start_time": "2020-07-08T16:36:52.771324Z"
    }
   },
   "outputs": [],
   "source": [
    "def find_chapters(book):\n",
    "    chapters = {}\n",
    "    i = 0\n",
    "    b = 0\n",
    "    for x in range(1, 54):\n",
    "        i = book.find(\"CHAPTER \", + b)\n",
    "        b = book.find(\"CHAPTER \", i + 1)\n",
    "        chapters['Chapter {}'.format(x)] = book[i:b]\n",
    "    return chapters"
   ]
  },
  {
   "cell_type": "code",
   "execution_count": 17,
   "metadata": {
    "ExecuteTime": {
     "end_time": "2020-07-08T20:58:34.849329Z",
     "start_time": "2020-07-08T20:58:34.831789Z"
    }
   },
   "outputs": [],
   "source": [
    "stop = stopwords.words('english') + ['mr',\n",
    "                                     'mrs',\n",
    "                                     'miss', \n",
    "                                     'say',\n",
    "                                     'have', \n",
    "                                     'might',\n",
    "                                     'thought',\n",
    "                                     'would', \n",
    "                                     'could', \n",
    "                                     'make', \n",
    "                                     'much',\n",
    "                                     'dear',\n",
    "                                     'must',\n",
    "                                     'know',\n",
    "                                     'one',\n",
    "                                     'good',\n",
    "                                     'every',\n",
    "                                     'towards',\n",
    "                                     'give',\n",
    "                                     'come',\n",
    "                                     'go',\n",
    "                                     'well',\n",
    "                                     'see',\n",
    "                                     'think',\n",
    "                                     'though',\n",
    "                                     'never',\n",
    "                                     'always',\n",
    "                                     'although',\n",
    "                                     'may',\n",
    "                                     'soon',\n",
    "                                     'wish',\n",
    "                                     'take',\n",
    "                                     'great',\n",
    "                                     'nothing',\n",
    "                                     'something',\n",
    "                                     'young',\n",
    "                                     'look',\n",
    "                                     'even',\n",
    "                                     'cannot',\n",
    "                                     'many',\n",
    "                                     'few',\n",
    "                                     'even',\n",
    "                                     'however',\n",
    "                                     'like',\n",
    "                                     'lucas'\n",
    "                                     'ever',\n",
    "                                     'feel',\n",
    "                                     'shall',\n",
    "                                     'hope',\n",
    "                                     'sure',\n",
    "                                     'yes',\n",
    "                                     'no',\n",
    "                                     'oh',\n",
    "                                     'two',\n",
    "                                     'three',\n",
    "                                     'first',\n",
    "                                     'second',\n",
    "                                     'third',\n",
    "                                     'with',\n",
    "                                     'without',\n",
    "                                     'use',\n",
    "                                     'quite',\n",
    "                                     'dont',\n",
    "                                     'oliver',\n",
    "                                     'fagin',\n",
    "                                     'nancy',\n",
    "                                     'bill',\n",
    "                                     'dodger',\n",
    "                                     'mrbrownlow',\n",
    "                                     'mrbumble',\n",
    "                                     'charley',\n",
    "                                     'dodger',\n",
    "                                     'mrsowerberry',\n",
    "                                     'mrssowerberry',\n",
    "                                     'noah',\n",
    "                                     'charlotte',\n",
    "                                     'sikes']\n",
    "\n",
    "def get_wordnet_pos(treebank_tag):\n",
    "    if treebank_tag.startswith('J'):\n",
    "        return wordnet.ADJ\n",
    "    elif treebank_tag.startswith('V'):\n",
    "        return wordnet.VERB\n",
    "    elif treebank_tag.startswith('N'):\n",
    "        return wordnet.NOUN\n",
    "    elif treebank_tag.startswith('R'):\n",
    "        return wordnet.ADV\n",
    "    else:\n",
    "        return 'n'\n",
    "    \n",
    "def lemmatize_word(word):\n",
    "    lemmatizer = WordNetLemmatizer()\n",
    "    try:\n",
    "        tag = get_wordnet_pos(nltk.pos_tag([word])[0][1])\n",
    "        return lemmatizer.lemmatize(word, pos=tag)\n",
    "    except:\n",
    "        pass"
   ]
  },
  {
   "cell_type": "markdown",
   "metadata": {},
   "source": [
    "### Split corpus into sentences, clean and lemmatize"
   ]
  },
  {
   "cell_type": "code",
   "execution_count": 18,
   "metadata": {
    "ExecuteTime": {
     "end_time": "2020-07-08T20:58:36.651723Z",
     "start_time": "2020-07-08T20:58:36.644246Z"
    }
   },
   "outputs": [],
   "source": [
    "def all_sentences(corpus,\n",
    "                  include_stop=True):\n",
    "    vocab = []\n",
    "    \n",
    "    text = corpus.replace('Oliver Twist', 'Oliver')\\\n",
    "                 .replace('Bill Sikes', 'Bill')\\\n",
    "                 .replace('Mr. Brownlow', 'MrBrownlow')\\\n",
    "                 .replace('Mr. Bumble', 'MrBumble')\\\n",
    "                 .replace('Charley Bates', 'Charley')\\\n",
    "                 .replace('Artful Dodger', 'Dodger')\\\n",
    "                 .replace('Mr. Sowerberry', 'MrSowerberry')\\\n",
    "                 .replace('Mrs. Sowerberry', 'MrsSowerberry')\\\n",
    "                 .replace('Noah Claypole', 'Noah')\n",
    "    \n",
    "    for line in sent_tokenize(text):\n",
    "        line= re.sub('[%s]|Chapter' % re.escape(string.punctuation), '', line)\n",
    "        line = re.sub('[^a-zA-Z\\ ]', '', line)\n",
    "        line = line.lower()\n",
    "        line = line.split()\n",
    "        if include_stop:\n",
    "            line = [lemmatize_word(x) for x in line if lemmatize_word(x) not in stop]\n",
    "        else:\n",
    "            line = [lemmatize_word(x) for x in line]\n",
    "        vocab.append(line)\n",
    "    return vocab"
   ]
  },
  {
   "cell_type": "markdown",
   "metadata": {},
   "source": [
    "### Function to get word frequencies"
   ]
  },
  {
   "cell_type": "code",
   "execution_count": 19,
   "metadata": {
    "ExecuteTime": {
     "end_time": "2020-07-08T18:43:05.033636Z",
     "start_time": "2020-07-08T18:43:05.028792Z"
    }
   },
   "outputs": [],
   "source": [
    "def get_frequecies(corpus):\n",
    "    dictionary = corpora.Dictionary(corpus)\n",
    "    # You can check the mapping by caling 'token2id' attribute.\n",
    "    id_map = dictionary.token2id\n",
    "    count_map = dictionary.dfs\n",
    "    word_count = {}\n",
    "    for word, id_ in id_map.items():\n",
    "        word_count[word] = count_map[id_]\n",
    "    sorted_corpus = sorted([(x,y) \n",
    "                           for x,y in word_count.items()], \n",
    "                           key=lambda x: x[1], reverse=True)\n",
    "    return sorted_corpus"
   ]
  },
  {
   "cell_type": "markdown",
   "metadata": {},
   "source": [
    "### Top Keywords in Full Corpus"
   ]
  },
  {
   "cell_type": "code",
   "execution_count": 20,
   "metadata": {
    "ExecuteTime": {
     "end_time": "2020-07-08T20:59:13.744185Z",
     "start_time": "2020-07-08T20:58:42.810510Z"
    }
   },
   "outputs": [
    {
     "data": {
      "text/plain": [
       "[('reply', 500),\n",
       " ('upon', 388),\n",
       " ('old', 378),\n",
       " ('man', 339),\n",
       " ('boy', 322),\n",
       " ('time', 310),\n",
       " ('jew', 292),\n",
       " ('gentleman', 291),\n",
       " ('hand', 283),\n",
       " ('cry', 229),\n",
       " ('lady', 228),\n",
       " ('little', 227),\n",
       " ('eye', 226),\n",
       " ('get', 220),\n",
       " ('head', 215),\n",
       " ('turn', 212),\n",
       " ('girl', 212),\n",
       " ('back', 208),\n",
       " ('rise', 195),\n",
       " ('sir', 193),\n",
       " ('way', 190),\n",
       " ('door', 186),\n",
       " ('word', 172),\n",
       " ('face', 165),\n",
       " ('away', 165),\n",
       " ('room', 157),\n",
       " ('woman', 152),\n",
       " ('day', 144),\n",
       " ('night', 136),\n",
       " ('ask', 132),\n",
       " ('round', 129),\n",
       " ('place', 127),\n",
       " ('long', 126),\n",
       " ('tell', 126),\n",
       " ('monk', 123),\n",
       " ('child', 122),\n",
       " ('let', 122),\n",
       " ('house', 119),\n",
       " ('walk', 118),\n",
       " ('inquire', 118),\n",
       " ('seem', 118),\n",
       " ('voice', 114),\n",
       " ('put', 113),\n",
       " ('stop', 112),\n",
       " ('mind', 111),\n",
       " ('friend', 111),\n",
       " ('return', 110),\n",
       " ('doctor', 109),\n",
       " ('left', 107),\n",
       " ('mean', 106),\n",
       " ('another', 105),\n",
       " ('ill', 101),\n",
       " ('open', 100),\n",
       " ('master', 99),\n",
       " ('rejoin', 99),\n",
       " ('light', 99),\n",
       " ('life', 98),\n",
       " ('giles', 96),\n",
       " ('want', 95),\n",
       " ('thats', 95),\n",
       " ('hear', 95),\n",
       " ('street', 94),\n",
       " ('heart', 93),\n",
       " ('men', 90),\n",
       " ('enough', 89),\n",
       " ('u', 88),\n",
       " ('heard', 87),\n",
       " ('thing', 86),\n",
       " ('name', 84),\n",
       " ('lay', 84),\n",
       " ('last', 83),\n",
       " ('poor', 83),\n",
       " ('still', 83),\n",
       " ('indeed', 83),\n",
       " ('keep', 83),\n",
       " ('die', 82),\n",
       " ('ha', 82),\n",
       " ('dog', 82),\n",
       " ('maylie', 82),\n",
       " ('sat', 80),\n",
       " ('people', 80),\n",
       " ('close', 80),\n",
       " ('morning', 80),\n",
       " ('speak', 80),\n",
       " ('moment', 79),\n",
       " ('table', 79),\n",
       " ('right', 78),\n",
       " ('beadle', 77),\n",
       " ('follow', 75),\n",
       " ('chair', 73),\n",
       " ('call', 73),\n",
       " ('far', 73),\n",
       " ('arm', 72),\n",
       " ('fire', 71),\n",
       " ('ever', 71),\n",
       " ('dark', 71),\n",
       " ('maam', 71),\n",
       " ('matter', 70),\n",
       " ('point', 70),\n",
       " ('saw', 70),\n",
       " ('minute', 69),\n",
       " ('raise', 69),\n",
       " ('low', 69),\n",
       " ('side', 69),\n",
       " ('begin', 68),\n",
       " ('foot', 68),\n",
       " ('bad', 68),\n",
       " ('small', 67),\n",
       " ('rather', 67),\n",
       " ('tear', 66),\n",
       " ('new', 65),\n",
       " ('air', 65),\n",
       " ('em', 64),\n",
       " ('brought', 64),\n",
       " ('part', 64),\n",
       " ('home', 64),\n",
       " ('show', 63),\n",
       " ('pass', 62),\n",
       " ('window', 62),\n",
       " ('short', 62),\n",
       " ('observe', 60),\n",
       " ('manner', 60),\n",
       " ('anything', 59),\n",
       " ('appear', 58),\n",
       " ('cold', 58),\n",
       " ('hour', 58),\n",
       " ('till', 58),\n",
       " ('run', 57),\n",
       " ('course', 57),\n",
       " ('chapter', 56),\n",
       " ('lead', 56),\n",
       " ('whats', 56),\n",
       " ('fear', 56),\n",
       " ('remain', 55),\n",
       " ('yet', 55),\n",
       " ('mother', 55),\n",
       " ('drew', 55),\n",
       " ('hold', 55),\n",
       " ('step', 55),\n",
       " ('exclaim', 55),\n",
       " ('hat', 54),\n",
       " ('knew', 54),\n",
       " ('mann', 54),\n",
       " ('suppose', 54),\n",
       " ('almost', 54),\n",
       " ('sound', 54),\n",
       " ('spoke', 53),\n",
       " ('dead', 53),\n",
       " ('fell', 53),\n",
       " ('stood', 53),\n",
       " ('find', 53),\n",
       " ('smile', 53),\n",
       " ('leave', 53),\n",
       " ('behind', 53),\n",
       " ('cant', 53),\n",
       " ('full', 53),\n",
       " ('length', 53),\n",
       " ('whisper', 53),\n",
       " ('together', 53),\n",
       " ('yer', 53),\n",
       " ('help', 53),\n",
       " ('watch', 53),\n",
       " ('bates', 53),\n",
       " ('talk', 52),\n",
       " ('glance', 52),\n",
       " ('end', 52),\n",
       " ('near', 52),\n",
       " ('love', 52),\n",
       " ('told', 52),\n",
       " ('grimwig', 52),\n",
       " ('corney', 52),\n",
       " ('laugh', 51),\n",
       " ('wont', 51),\n",
       " ('person', 51),\n",
       " ('toby', 51),\n",
       " ('brittle', 51),\n",
       " ('carry', 50),\n",
       " ('silence', 50),\n",
       " ('strong', 50),\n",
       " ('harry', 50),\n",
       " ('whether', 49),\n",
       " ('pocket', 49),\n",
       " ('death', 49),\n",
       " ('im', 49),\n",
       " ('answer', 49),\n",
       " ('felt', 49),\n",
       " ('ground', 49),\n",
       " ('lose', 49),\n",
       " ('matron', 49),\n",
       " ('next', 48),\n",
       " ('set', 48),\n",
       " ('bed', 48),\n",
       " ('half', 48),\n",
       " ('youre', 48),\n",
       " ('year', 48),\n",
       " ('alone', 48),\n",
       " ('change', 48),\n",
       " ('along', 47),\n",
       " ('companion', 47),\n",
       " ('white', 47),\n",
       " ('stand', 47),\n",
       " ('among', 47),\n",
       " ('corner', 46),\n",
       " ('bumble', 46),\n",
       " ('large', 46),\n",
       " ('start', 46),\n",
       " ('ah', 45),\n",
       " ('kind', 45),\n",
       " ('draw', 45),\n",
       " ('reach', 45),\n",
       " ('crowd', 45),\n",
       " ('nobody', 44),\n",
       " ('deal', 44),\n",
       " ('wall', 44),\n",
       " ('hurry', 44),\n",
       " ('book', 44),\n",
       " ('london', 44),\n",
       " ('best', 43),\n",
       " ('sit', 43),\n",
       " ('care', 43),\n",
       " ('nod', 43),\n",
       " ('appearance', 43),\n",
       " ('ofthe', 42),\n",
       " ('within', 42),\n",
       " ('found', 42),\n",
       " ('question', 42),\n",
       " ('drop', 42),\n",
       " ('listen', 42),\n",
       " ('instant', 42),\n",
       " ('become', 42),\n",
       " ('lie', 41),\n",
       " ('hard', 41),\n",
       " ('perhaps', 41),\n",
       " ('sleep', 41),\n",
       " ('heavy', 41),\n",
       " ('pace', 41),\n",
       " ('ear', 41),\n",
       " ('stranger', 40),\n",
       " ('work', 40),\n",
       " ('undertaker', 40),\n",
       " ('happy', 40),\n",
       " ('noise', 40),\n",
       " ('town', 39),\n",
       " ('floor', 39),\n",
       " ('sight', 39),\n",
       " ('held', 39),\n",
       " ('thus', 39),\n",
       " ('tonight', 39),\n",
       " ('losberne', 39),\n",
       " ('business', 38),\n",
       " ('fall', 38),\n",
       " ('spirit', 38),\n",
       " ('seat', 38),\n",
       " ('enter', 38),\n",
       " ('demand', 38),\n",
       " ('whose', 37),\n",
       " ('pound', 37),\n",
       " ('deep', 37),\n",
       " ('candle', 37),\n",
       " ('wait', 37),\n",
       " ('thief', 37),\n",
       " ('add', 36),\n",
       " ('kept', 36),\n",
       " ('forth', 36),\n",
       " ('tremble', 36),\n",
       " ('didnt', 36),\n",
       " ('shoulder', 36),\n",
       " ('object', 36),\n",
       " ('lip', 36),\n",
       " ('world', 35),\n",
       " ('send', 35),\n",
       " ('pause', 35),\n",
       " ('order', 35),\n",
       " ('board', 35),\n",
       " ('fellow', 35),\n",
       " ('already', 35),\n",
       " ('forward', 35),\n",
       " ('force', 35),\n",
       " ('road', 35),\n",
       " ('hastily', 35),\n",
       " ('loud', 34),\n",
       " ('power', 34),\n",
       " ('inthe', 34),\n",
       " ('state', 34),\n",
       " ('rouse', 34),\n",
       " ('eh', 34),\n",
       " ('whole', 34),\n",
       " ('fang', 34),\n",
       " ('live', 33),\n",
       " ('tone', 33),\n",
       " ('waistcoat', 33),\n",
       " ('afraid', 33),\n",
       " ('purpose', 33),\n",
       " ('remark', 33),\n",
       " ('fix', 33),\n",
       " ('blather', 33),\n",
       " ('repeat', 32),\n",
       " ('workhouse', 32),\n",
       " ('pale', 32),\n",
       " ('bless', 32),\n",
       " ('body', 32),\n",
       " ('shake', 32),\n",
       " ('week', 32),\n",
       " ('nature', 32),\n",
       " ('officer', 32),\n",
       " ('water', 32),\n",
       " ('often', 32),\n",
       " ('try', 32),\n",
       " ('stair', 32),\n",
       " ('hair', 32),\n",
       " ('god', 32),\n",
       " ('quiet', 32),\n",
       " ('suddenly', 32),\n",
       " ('bolter', 32),\n",
       " ('bear', 31),\n",
       " ('fact', 31),\n",
       " ('interpose', 31),\n",
       " ('shook', 31),\n",
       " ('none', 31),\n",
       " ('countenance', 31),\n",
       " ('high', 31),\n",
       " ('cause', 31),\n",
       " ('youll', 31),\n",
       " ('address', 31),\n",
       " ('pretty', 31),\n",
       " ('shop', 31),\n",
       " ('strange', 31),\n",
       " ('reason', 31),\n",
       " ('others', 31),\n",
       " ('proceed', 30),\n",
       " ('wouldnt', 30),\n",
       " ('growl', 30),\n",
       " ('breath', 30),\n",
       " ('couldnt', 30),\n",
       " ('knee', 30),\n",
       " ('present', 30),\n",
       " ('ive', 30),\n",
       " ('move', 30),\n",
       " ('fill', 30),\n",
       " ('spot', 30),\n",
       " ('conversation', 30),\n",
       " ('truth', 30),\n",
       " ('crackit', 30),\n",
       " ('pauper', 29),\n",
       " ('glass', 29),\n",
       " ('blood', 29),\n",
       " ('ten', 29),\n",
       " ('interest', 29),\n",
       " ('accompany', 29),\n",
       " ('coat', 29),\n",
       " ('attention', 29),\n",
       " ('consider', 29),\n",
       " ('paper', 29),\n",
       " ('bring', 29),\n",
       " ('struck', 29),\n",
       " ('fast', 29),\n",
       " ('ran', 29),\n",
       " ('throw', 29),\n",
       " ('chitling', 29),\n",
       " ('office', 28),\n",
       " ('distance', 28),\n",
       " ('form', 28),\n",
       " ('eat', 28),\n",
       " ('circumstance', 28),\n",
       " ('rest', 28),\n",
       " ('direction', 28),\n",
       " ('blow', 28),\n",
       " ('outside', 28),\n",
       " ('devil', 28),\n",
       " ('claypole', 28),\n",
       " ('heaven', 28),\n",
       " ('barney', 28),\n",
       " ('common', 27),\n",
       " ('trouble', 27),\n",
       " ('effect', 27),\n",
       " ('case', 27),\n",
       " ('besides', 27),\n",
       " ('lock', 27),\n",
       " ('leg', 27),\n",
       " ('view', 27),\n",
       " ('occasion', 27),\n",
       " ('five', 27),\n",
       " ('knock', 27),\n",
       " ('shut', 27),\n",
       " ('wonder', 27),\n",
       " ('mrbumbles', 27),\n",
       " ('grow', 27),\n",
       " ('mutter', 27),\n",
       " ('silent', 27),\n",
       " ('afterwards', 27),\n",
       " ('pursue', 27),\n",
       " ('money', 27),\n",
       " ('softly', 27),\n",
       " ('country', 26),\n",
       " ('render', 26),\n",
       " ('receive', 26),\n",
       " ('upstairs', 26),\n",
       " ('ready', 26),\n",
       " ('cast', 26),\n",
       " ('wot', 26),\n",
       " ('save', 26),\n",
       " ('thrust', 26),\n",
       " ('pull', 26),\n",
       " ('expression', 26),\n",
       " ('black', 26),\n",
       " ('resume', 26),\n",
       " ('subject', 26),\n",
       " ('cover', 26),\n",
       " ('mouth', 26),\n",
       " ('neither', 26),\n",
       " ('company', 26),\n",
       " ('field', 26),\n",
       " ('believe', 26),\n",
       " ('past', 26),\n",
       " ('parish', 25),\n",
       " ('produce', 25),\n",
       " ('month', 25),\n",
       " ('able', 25),\n",
       " ('either', 25),\n",
       " ('glad', 25),\n",
       " ('youve', 25),\n",
       " ('caught', 25),\n",
       " ('scarcely', 25),\n",
       " ('hush', 25),\n",
       " ('father', 25),\n",
       " ('catch', 25),\n",
       " ('read', 25),\n",
       " ('gentle', 25),\n",
       " ('particular', 25),\n",
       " ('regard', 25),\n",
       " ('laid', 25),\n",
       " ('true', 25),\n",
       " ('scene', 25),\n",
       " ('cut', 25),\n",
       " ('key', 25),\n",
       " ('quickly', 25),\n",
       " ('ago', 25),\n",
       " ('murder', 25),\n",
       " ('need', 24),\n",
       " ('possible', 24),\n",
       " ('couple', 24),\n",
       " ('expect', 24),\n",
       " ('struggle', 24),\n",
       " ('story', 24),\n",
       " ('gate', 24),\n",
       " ('suffer', 24),\n",
       " ('touch', 24),\n",
       " ('red', 24),\n",
       " ('threw', 24),\n",
       " ('opposite', 24),\n",
       " ('cross', 24),\n",
       " ('creature', 24),\n",
       " ('position', 24),\n",
       " ('recover', 24),\n",
       " ('robber', 24),\n",
       " ('certain', 23),\n",
       " ('notice', 23),\n",
       " ('less', 23),\n",
       " ('burst', 23),\n",
       " ('nearly', 23),\n",
       " ('tomorrow', 23),\n",
       " ('number', 23),\n",
       " ('stone', 23),\n",
       " ('slowly', 23),\n",
       " ('since', 23),\n",
       " ('handkerchief', 23),\n",
       " ('across', 23),\n",
       " ('else', 23),\n",
       " ('hell', 23),\n",
       " ('isnt', 23),\n",
       " ('sometimes', 23),\n",
       " ('passage', 23),\n",
       " ('game', 23),\n",
       " ('shout', 23),\n",
       " ('drag', 23),\n",
       " ('coach', 23),\n",
       " ('surprise', 23),\n",
       " ('uttered', 23),\n",
       " ('motion', 23),\n",
       " ('sigh', 23),\n",
       " ('bedwin', 23),\n",
       " ('happiness', 23),\n",
       " ('age', 22),\n",
       " ('piece', 22),\n",
       " ('account', 22),\n",
       " ('pray', 22),\n",
       " ('drink', 22),\n",
       " ('directly', 22),\n",
       " ('sort', 22),\n",
       " ('beg', 22),\n",
       " ('hung', 22),\n",
       " ('pleasure', 22),\n",
       " ('four', 22),\n",
       " ('least', 22),\n",
       " ('bit', 22),\n",
       " ('doubt', 22),\n",
       " ('bar', 22),\n",
       " ('coffin', 22),\n",
       " ('passion', 22),\n",
       " ('wife', 22),\n",
       " ('retort', 22),\n",
       " ('grin', 22),\n",
       " ('alarm', 22),\n",
       " ('bridge', 22),\n",
       " ('impatiently', 22),\n",
       " ('content', 21),\n",
       " ('dress', 21),\n",
       " ('mile', 21),\n",
       " ('twenty', 21),\n",
       " ('happen', 21),\n",
       " ('bow', 21),\n",
       " ('frighten', 21),\n",
       " ('six', 21),\n",
       " ('quick', 21),\n",
       " ('desperate', 21),\n",
       " ('nose', 21),\n",
       " ('chance', 21),\n",
       " ('immediately', 21),\n",
       " ('straight', 21),\n",
       " ('push', 21),\n",
       " ('loss', 21),\n",
       " ('secret', 21),\n",
       " ('shes', 21),\n",
       " ('fold', 21),\n",
       " ('empty', 21),\n",
       " ('teeth', 21),\n",
       " ('sudden', 21),\n",
       " ('party', 21),\n",
       " ('sweet', 21),\n",
       " ('dispose', 20),\n",
       " ('quarter', 20),\n",
       " ('action', 20),\n",
       " ('breast', 20),\n",
       " ('aint', 20),\n",
       " ('offer', 20),\n",
       " ('bread', 20),\n",
       " ('play', 20),\n",
       " ('tea', 20),\n",
       " ('suit', 20),\n",
       " ('arrive', 20),\n",
       " ('serve', 20),\n",
       " ('gaze', 20),\n",
       " ('rush', 20),\n",
       " ('violent', 20),\n",
       " ('stick', 20),\n",
       " ('attempt', 20),\n",
       " ('dreadful', 20),\n",
       " ('continued', 20),\n",
       " ('interrupt', 20),\n",
       " ('throat', 20),\n",
       " ('fit', 20),\n",
       " ('effort', 20),\n",
       " ('beneath', 20),\n",
       " ('mine', 20),\n",
       " ('sooner', 20),\n",
       " ('mark', 20),\n",
       " ('eagerly', 20),\n",
       " ('late', 20),\n",
       " ('pour', 20),\n",
       " ('pain', 20),\n",
       " ('exchange', 20),\n",
       " ('beyond', 20),\n",
       " ('inquiry', 20),\n",
       " ('wind', 20),\n",
       " ('really', 20),\n",
       " ('figure', 20),\n",
       " ('break', 20),\n",
       " ('mercy', 19),\n",
       " ('roll', 19),\n",
       " ('worth', 19),\n",
       " ('weak', 19),\n",
       " ('former', 19),\n",
       " ('inside', 19),\n",
       " ('alive', 19),\n",
       " ('grasp', 19),\n",
       " ('porochial', 19),\n",
       " ('increase', 19),\n",
       " ('anybody', 19),\n",
       " ('misery', 19),\n",
       " ('intelligence', 19),\n",
       " ('top', 19),\n",
       " ('clothes', 19),\n",
       " ('unless', 19),\n",
       " ('understand', 19),\n",
       " ('press', 19),\n",
       " ('hardly', 19),\n",
       " ('promise', 19),\n",
       " ('tothe', 19),\n",
       " ('honour', 19),\n",
       " ('necessary', 19),\n",
       " ('finger', 19),\n",
       " ('dart', 19),\n",
       " ('theyre', 19),\n",
       " ('grave', 19),\n",
       " ('narrow', 19),\n",
       " ('search', 19),\n",
       " ('hang', 19),\n",
       " ('pity', 19),\n",
       " ('shadow', 19),\n",
       " ('onthe', 19),\n",
       " ('earnest', 19),\n",
       " ('bell', 19),\n",
       " ('latter', 18),\n",
       " ('anxious', 18),\n",
       " ('proof', 18),\n",
       " ('green', 18),\n",
       " ('atthe', 18),\n",
       " ('cocked', 18),\n",
       " ('early', 18),\n",
       " ('opportunity', 18),\n",
       " ('character', 18),\n",
       " ('sense', 18),\n",
       " ('please', 18),\n",
       " ('gamfield', 18),\n",
       " ('feeling', 18),\n",
       " ('pair', 18),\n",
       " ('front', 18),\n",
       " ('various', 18),\n",
       " ('gently', 18),\n",
       " ('awaken', 18),\n",
       " ('box', 18),\n",
       " ('join', 18),\n",
       " ('beautiful', 18),\n",
       " ('fine', 18),\n",
       " ('lad', 18),\n",
       " ('mere', 18),\n",
       " ('dirty', 18),\n",
       " ('scream', 18),\n",
       " ('opening', 18),\n",
       " ('clear', 18),\n",
       " ('neck', 18),\n",
       " ('safe', 18),\n",
       " ('robbery', 18),\n",
       " ('utter', 18),\n",
       " ('real', 18),\n",
       " ('public', 17),\n",
       " ('nurse', 17),\n",
       " ('except', 17),\n",
       " ('consideration', 17),\n",
       " ('sent', 17),\n",
       " ('bestow', 17),\n",
       " ('firmly', 17),\n",
       " ('ought', 17),\n",
       " ('linger', 17),\n",
       " ('family', 17),\n",
       " ('opinion', 17),\n",
       " ('darkness', 17),\n",
       " ('kick', 17),\n",
       " ('passing', 17),\n",
       " ('pleasant', 17),\n",
       " ('slight', 17),\n",
       " ('gradually', 17),\n",
       " ('magistrate', 17),\n",
       " ('remember', 17),\n",
       " ('ofhis', 17),\n",
       " ('beat', 17),\n",
       " ('kitchen', 17),\n",
       " ('broken', 17),\n",
       " ('soul', 17),\n",
       " ('somebody', 17),\n",
       " ('fever', 17),\n",
       " ('merry', 17),\n",
       " ('history', 17),\n",
       " ('servant', 17),\n",
       " ('everything', 17),\n",
       " ('gold', 17),\n",
       " ('reflection', 17),\n",
       " ('wasnt', 17),\n",
       " ('sake', 17),\n",
       " ('murmur', 17),\n",
       " ('hehad', 17),\n",
       " ('write', 17),\n",
       " ('born', 16),\n",
       " ('event', 16),\n",
       " ('aunt', 16),\n",
       " ('free', 16),\n",
       " ('apparently', 16),\n",
       " ('female', 16),\n",
       " ('remove', 16),\n",
       " ('parlour', 16),\n",
       " ('determine', 16),\n",
       " ('oclock', 16),\n",
       " ('pay', 16),\n",
       " ('star', 16),\n",
       " ('prevent', 16),\n",
       " ('worship', 16),\n",
       " ('trial', 16),\n",
       " ('dare', 16),\n",
       " ('longer', 16),\n",
       " ('mad', 16),\n",
       " ('duty', 16),\n",
       " ('fresh', 16),\n",
       " ('trace', 16),\n",
       " ('danger', 16),\n",
       " ('afford', 16),\n",
       " ('birth', 16),\n",
       " ('act', 16),\n",
       " ('earth', 16),\n",
       " ('thank', 16),\n",
       " ('degree', 16),\n",
       " ('charge', 16),\n",
       " ('certainly', 16),\n",
       " ('living', 16),\n",
       " ('express', 16),\n",
       " ('dawkins', 16),\n",
       " ('itwas', 16),\n",
       " ('several', 16),\n",
       " ('pipe', 16),\n",
       " ('retire', 16),\n",
       " ('strength', 16),\n",
       " ('request', 16),\n",
       " ('tom', 16),\n",
       " ('worthy', 16),\n",
       " ('fancy', 16),\n",
       " ('also', 16),\n",
       " ('housebreaker', 16),\n",
       " ('church', 16),\n",
       " ('ditch', 16),\n",
       " ('duff', 16),\n",
       " ('occur', 15),\n",
       " ('favour', 15),\n",
       " ('brief', 15),\n",
       " ('warm', 15),\n",
       " ('lean', 15),\n",
       " ('apply', 15),\n",
       " ('resolve', 15),\n",
       " ('horse', 15),\n",
       " ('goodness', 15),\n",
       " ('joy', 15),\n",
       " ('idea', 15),\n",
       " ('wipe', 15),\n",
       " ('astonishment', 15),\n",
       " ('cease', 15),\n",
       " ('stay', 15),\n",
       " ('mingle', 15),\n",
       " ('feature', 15),\n",
       " ('admit', 15),\n",
       " ('heel', 15),\n",
       " ('terror', 15),\n",
       " ('wander', 15),\n",
       " ('court', 15),\n",
       " ('merely', 15),\n",
       " ('wrong', 15),\n",
       " ('cup', 15),\n",
       " ('different', 15),\n",
       " ('attitude', 15),\n",
       " ('speed', 15),\n",
       " ('justice', 15),\n",
       " ('village', 15),\n",
       " ('publichouse', 15),\n",
       " ('feeble', 15),\n",
       " ('ring', 15),\n",
       " ('plant', 15),\n",
       " ('anxiety', 15),\n",
       " ('thick', 15),\n",
       " ('id', 15),\n",
       " ('son', 15),\n",
       " ('appeal', 15),\n",
       " ('curse', 15),\n",
       " ('gain', 15),\n",
       " ('twist', 14),\n",
       " ('surgeon', 14),\n",
       " ('goodnight', 14),\n",
       " ('prove', 14),\n",
       " ('fond', 14),\n",
       " ('health', 14),\n",
       " ('condition', 14),\n",
       " ('cap', 14),\n",
       " ('difficulty', 14),\n",
       " ('meanwhile', 14),\n",
       " ('disappear', 14),\n",
       " ('respect', 14),\n",
       " ('article', 14),\n",
       " ('dismal', 14),\n",
       " ('presence', 14),\n",
       " ('yard', 14),\n",
       " ('direct', 14),\n",
       " ('command', 14),\n",
       " ('afore', 14),\n",
       " ('urge', 14),\n",
       " ('hed', 14),\n",
       " ('aside', 14),\n",
       " ('artful', 14),\n",
       " ('drawn', 14),\n",
       " ('description', 14),\n",
       " ('bythe', 14),\n",
       " ('relieve', 14),\n",
       " ('disclose', 14),\n",
       " ('inhis', 14),\n",
       " ('stagger', 14),\n",
       " ('clever', 14),\n",
       " ('strike', 14),\n",
       " ('wretch', 14),\n",
       " ('swear', 14),\n",
       " ('rain', 14),\n",
       " ('occupy', 14),\n",
       " ('perfectly', 14),\n",
       " ('rage', 14),\n",
       " ('bright', 14),\n",
       " ('seize', 14),\n",
       " ('wound', 14),\n",
       " ('collar', 14),\n",
       " ('thrown', 14),\n",
       " ('bundle', 14),\n",
       " ('survey', 14),\n",
       " ('engage', 14),\n",
       " ('previous', 14),\n",
       " ('usual', 14),\n",
       " ('commit', 14),\n",
       " ('crept', 14),\n",
       " ('humour', 14),\n",
       " ('escape', 14),\n",
       " ('violently', 14),\n",
       " ('consequence', 13),\n",
       " ('mention', 13),\n",
       " ('andthe', 13),\n",
       " ('bottle', 13),\n",
       " ('taste', 13),\n",
       " ('comfort', 13),\n",
       " ('society', 13),\n",
       " ('everybody', 13),\n",
       " ('deliver', 13),\n",
       " ('hadbeen', 13),\n",
       " ('cane', 13),\n",
       " ('wretched', 13),\n",
       " ('grief', 13),\n",
       " ('forthe', 13),\n",
       " ('spoken', 13),\n",
       " ('weep', 13),\n",
       " ('prayer', 13),\n",
       " ('hadnt', 13),\n",
       " ('exercise', 13),\n",
       " ('solemn', 13),\n",
       " ('general', 13),\n",
       " ('compose', 13),\n",
       " ('tie', 13),\n",
       " ('encounter', 13),\n",
       " ('clean', 13),\n",
       " ('hundred', 13),\n",
       " ('threaten', 13),\n",
       " ('gloomy', 13),\n",
       " ('bound', 13),\n",
       " ('iron', 13),\n",
       " ('delay', 13),\n",
       " ('size', 13),\n",
       " ('havent', 13),\n",
       " ('downstairs', 13),\n",
       " ('associate', 13),\n",
       " ('angry', 13),\n",
       " ('descend', 13),\n",
       " ('prison', 13),\n",
       " ('lord', 13),\n",
       " ('expedition', 13),\n",
       " ('whatever', 13),\n",
       " ('bore', 13),\n",
       " ('youd', 13),\n",
       " ('exclamation', 13),\n",
       " ('hewas', 13),\n",
       " ('thathe', 13),\n",
       " ('fro', 13),\n",
       " ('sharp', 13),\n",
       " ('conclude', 13),\n",
       " ('rapid', 13),\n",
       " ('busy', 13),\n",
       " ('thedoor', 13),\n",
       " ('prepared', 13),\n",
       " ('roar', 13),\n",
       " ('curtain', 13),\n",
       " ('soft', 13),\n",
       " ('fifty', 13),\n",
       " ('footstep', 13),\n",
       " ('letter', 13),\n",
       " ('discovery', 13),\n",
       " ('limb', 13),\n",
       " ('judge', 13),\n",
       " ('easily', 13),\n",
       " ('river', 13),\n",
       " ('chickweed', 13),\n",
       " ('jailer', 13),\n",
       " ('building', 12),\n",
       " ('rub', 12),\n",
       " ('forehead', 12),\n",
       " ('stoop', 12),\n",
       " ('gruel', 12),\n",
       " ('shoe', 12),\n",
       " ('dinner', 12),\n",
       " ('orphan', 12),\n",
       " ('service', 12),\n",
       " ('eight', 12),\n",
       " ('authority', 12),\n",
       " ('situation', 12),\n",
       " ('dignity', 12),\n",
       " ('notwithstanding', 12),\n",
       " ('pride', 12),\n",
       " ('hint', 12),\n",
       " ('sank', 12),\n",
       " ('wide', 12),\n",
       " ('ease', 12),\n",
       " ('rough', 12),\n",
       " ('supper', 12),\n",
       " ('sunday', 12),\n",
       " ('twice', 12),\n",
       " ('employ', 12),\n",
       " ('perform', 12),\n",
       " ('advantage', 12),\n",
       " ('nice', 12),\n",
       " ('wery', 12),\n",
       " ('broke', 12),\n",
       " ('intimate', 12),\n",
       " ('sign', 12),\n",
       " ('tongue', 12),\n",
       " ('advanced', 12),\n",
       " ('wrath', 12),\n",
       " ('sternly', 12),\n",
       " ('lonely', 12),\n",
       " ('dry', 12),\n",
       " ('shutter', 12),\n",
       " ('emerge', 12),\n",
       " ('fromthe', 12),\n",
       " ('cell', 12),\n",
       " ('flight', 12),\n",
       " ('dim', 12),\n",
       " ('drive', 12),\n",
       " ('whistle', 12),\n",
       " ('haste', 12),\n",
       " ('require', 12),\n",
       " ('recollection', 12),\n",
       " ('clerk', 12),\n",
       " ('safely', 12),\n",
       " ('colour', 12),\n",
       " ('murderer', 12),\n",
       " ('penny', 12),\n",
       " ('abroad', 12),\n",
       " ('dick', 12),\n",
       " ('dream', 12),\n",
       " ('hedge', 12),\n",
       " ('train', 12),\n",
       " ('asleep', 12),\n",
       " ('dust', 12),\n",
       " ('sun', 12),\n",
       " ('farther', 12),\n",
       " ('hot', 12),\n",
       " ('line', 12),\n",
       " ('plain', 12),\n",
       " ('pursuit', 12),\n",
       " ('law', 12),\n",
       " ('pavement', 12),\n",
       " ('weary', 12),\n",
       " ('illness', 12),\n",
       " ('nearer', 12),\n",
       " ('thunder', 12),\n",
       " ('excite', 12),\n",
       " ('trust', 12),\n",
       " ('pas', 12),\n",
       " ('hesitate', 12),\n",
       " ('note', 12),\n",
       " ('shawl', 12),\n",
       " ('endeavour', 12),\n",
       " ('spyers', 12),\n",
       " ('reader', 11),\n",
       " ('possibly', 11),\n",
       " ('result', 11),\n",
       " ('faint', 11),\n",
       " ('proper', 11),\n",
       " ('advance', 11),\n",
       " ('satisfaction', 11),\n",
       " ('prospect', 11),\n",
       " ('patient', 11),\n",
       " ('food', 11),\n",
       " ('animal', 11),\n",
       " ('wash', 11),\n",
       " ('spare', 11),\n",
       " ('fat', 11),\n",
       " ('withthe', 11),\n",
       " ('gloom', 11),\n",
       " ('tap', 11),\n",
       " ('wake', 11),\n",
       " ('relief', 11),\n",
       " ('limbkins', 11),\n",
       " ('horror', 11),\n",
       " ('attach', 11),\n",
       " ('warn', 11),\n",
       " ('guard', 11),\n",
       " ('desire', 11),\n",
       " ('fierce', 11),\n",
       " ('witness', 11),\n",
       " ('trade', 11),\n",
       " ('smoke', 11),\n",
       " ('labour', 11),\n",
       " ('nonsense', 11),\n",
       " ('reading', 11),\n",
       " ('treat', 11),\n",
       " ('blind', 11),\n",
       " ('aspect', 11),\n",
       " ('vent', 11),\n",
       " ('mystery', 11),\n",
       " ('allow', 11),\n",
       " ('lift', 11),\n",
       " ('perfect', 11),\n",
       " ('agony', 11),\n",
       " ...]"
      ]
     },
     "execution_count": 20,
     "metadata": {},
     "output_type": "execute_result"
    }
   ],
   "source": [
    "full_corpus = all_sentences(oliver_lines[6255:-19184])\n",
    "frequencies = get_frequecies(full_corpus)\n",
    "frequencies"
   ]
  },
  {
   "cell_type": "markdown",
   "metadata": {},
   "source": [
    "### Total Unique Words"
   ]
  },
  {
   "cell_type": "code",
   "execution_count": 21,
   "metadata": {
    "ExecuteTime": {
     "end_time": "2020-07-08T18:43:35.987683Z",
     "start_time": "2020-07-08T18:43:35.984436Z"
    }
   },
   "outputs": [
    {
     "data": {
      "text/plain": [
       "16229"
      ]
     },
     "execution_count": 21,
     "metadata": {},
     "output_type": "execute_result"
    }
   ],
   "source": [
    "len(frequencies)"
   ]
  },
  {
   "cell_type": "markdown",
   "metadata": {},
   "source": [
    "### Top Keywords in Each Chapter"
   ]
  },
  {
   "cell_type": "code",
   "execution_count": 22,
   "metadata": {
    "ExecuteTime": {
     "end_time": "2020-07-08T18:44:05.509252Z",
     "start_time": "2020-07-08T18:43:35.990141Z"
    }
   },
   "outputs": [
    {
     "name": "stdout",
     "output_type": "stream",
     "text": [
      "Chapter 1 [('child', 7), ('surgeon', 7), ('nurse', 5), ('hand', 5), ('head', 4)]\n",
      "Chapter 2 [('mann', 24), ('gentleman', 17), ('beadle', 16), ('boy', 16), ('sir', 11)]\n",
      "Chapter 3 [('gentleman', 28), ('gamfield', 18), ('old', 15), ('boy', 14), ('white', 12)]\n",
      "Chapter 4 [('undertaker', 23), ('boy', 12), ('reply', 11), ('beadle', 10), ('little', 7)]\n",
      "Chapter 5 [('old', 15), ('sir', 14), ('undertaker', 12), ('reply', 12), ('woman', 12)]\n",
      "Chapter 6 [('workus', 8), ('reply', 6), ('head', 5), ('bad', 4), ('eye', 4)]\n",
      "Chapter 7 [('reply', 14), ('sir', 11), ('boy', 10), ('upon', 6), ('time', 6)]\n",
      "Chapter 8 [('gentleman', 14), ('boy', 13), ('old', 9), ('little', 9), ('london', 8)]\n",
      "Chapter 9 [('jew', 27), ('old', 16), ('time', 11), ('reply', 11), ('sir', 11)]\n",
      "Chapter 10 [('gentleman', 16), ('stop', 15), ('old', 14), ('thief', 11), ('boy', 10)]\n",
      "Chapter 11 [('fang', 33), ('old', 20), ('man', 16), ('gentleman', 16), ('reply', 14)]\n",
      "Chapter 12 [('old', 32), ('lady', 25), ('gentleman', 13), ('sir', 13), ('little', 10)]\n",
      "Chapter 13 [('jew', 29), ('reply', 13), ('gentleman', 9), ('lady', 9), ('boy', 8)]\n",
      "Chapter 14 [('old', 27), ('grimwig', 23), ('boy', 22), ('sir', 19), ('gentleman', 16)]\n",
      "Chapter 15 [('dog', 15), ('reply', 14), ('jew', 12), ('man', 10), ('woman', 9)]\n",
      "Chapter 16 [('jew', 23), ('girl', 16), ('hand', 12), ('reply', 12), ('boy', 11)]\n",
      "Chapter 17 [('mann', 30), ('beadle', 19), ('sir', 18), ('child', 12), ('old', 12)]\n",
      "Chapter 18 [('jew', 13), ('master', 11), ('bates', 10), ('old', 10), ('mean', 7)]\n",
      "Chapter 19 [('jew', 54), ('reply', 15), ('boy', 13), ('night', 11), ('get', 11)]\n",
      "Chapter 20 [('girl', 15), ('jew', 13), ('reply', 11), ('upon', 11), ('hand', 10)]\n",
      "Chapter 21 [('man', 9), ('reply', 9), ('pass', 8), ('little', 8), ('boy', 7)]\n",
      "Chapter 22 [('toby', 19), ('upon', 15), ('barney', 11), ('hand', 9), ('boy', 9)]\n",
      "Chapter 23 [('corney', 22), ('matron', 20), ('maam', 19), ('beadle', 10), ('tea', 10)]\n",
      "Chapter 24 [('woman', 26), ('old', 13), ('matron', 11), ('reply', 9), ('bed', 7)]\n",
      "Chapter 25 [('jew', 24), ('reply', 16), ('chitling', 12), ('master', 8), ('upon', 8)]\n",
      "Chapter 26 [('jew', 47), ('man', 23), ('reply', 14), ('girl', 14), ('upon', 12)]\n",
      "Chapter 27 [('corney', 22), ('lady', 12), ('maam', 10), ('beadle', 8), ('time', 8)]\n",
      "Chapter 28 [('giles', 40), ('brittle', 26), ('men', 10), ('cry', 9), ('man', 9)]\n",
      "Chapter 29 [('lady', 12), ('doctor', 11), ('giles', 10), ('upon', 5), ('old', 5)]\n",
      "Chapter 30 [('doctor', 22), ('giles', 14), ('boy', 12), ('sir', 12), ('brittle', 12)]\n",
      "Chapter 31 [('blather', 31), ('doctor', 19), ('man', 15), ('reply', 15), ('duff', 15)]\n",
      "Chapter 32 [('day', 13), ('doctor', 12), ('happy', 9), ('cry', 9), ('old', 9)]\n",
      "Chapter 33 [('rise', 15), ('maylie', 14), ('lady', 14), ('time', 10), ('old', 9)]\n",
      "Chapter 34 [('man', 15), ('maylie', 15), ('reply', 14), ('giles', 12), ('eye', 12)]\n",
      "Chapter 35 [('rise', 31), ('harry', 18), ('word', 9), ('man', 8), ('reply', 8)]\n",
      "Chapter 36 [('harry', 8), ('maylie', 7), ('doctor', 6), ('short', 4), ('time', 4)]\n",
      "Chapter 37 [('stranger', 22), ('eye', 14), ('bumble', 13), ('man', 10), ('time', 9)]\n",
      "Chapter 38 [('monk', 50), ('woman', 20), ('reply', 14), ('matron', 12), ('bumble', 10)]\n",
      "Chapter 39 [('girl', 34), ('get', 19), ('man', 18), ('upon', 16), ('reply', 16)]\n",
      "Chapter 40 [('girl', 26), ('rise', 25), ('lady', 14), ('back', 10), ('life', 9)]\n",
      "Chapter 41 [('rise', 23), ('old', 16), ('gentleman', 12), ('maylie', 11), ('time', 10)]\n",
      "Chapter 42 [('yer', 23), ('claypole', 21), ('reply', 20), ('ask', 14), ('way', 13)]\n",
      "Chapter 43 [('bolter', 20), ('reply', 18), ('bates', 12), ('get', 11), ('ha', 11)]\n",
      "Chapter 44 [('girl', 17), ('reply', 12), ('time', 9), ('hand', 8), ('upon', 6)]\n",
      "Chapter 45 [('yer', 8), ('bolter', 6), ('ha', 6), ('talk', 4), ('face', 4)]\n",
      "Chapter 46 [('girl', 30), ('gentleman', 27), ('lady', 21), ('upon', 16), ('reply', 15)]\n",
      "Chapter 47 [('upon', 14), ('man', 11), ('hand', 11), ('cry', 10), ('reply', 9)]\n",
      "Chapter 48 [('upon', 19), ('back', 16), ('dog', 12), ('get', 9), ('light', 8)]\n",
      "Chapter 49 [('monk', 28), ('old', 15), ('man', 12), ('reply', 12), ('upon', 11)]\n",
      "Chapter 50 [('door', 18), ('man', 18), ('upon', 15), ('cry', 15), ('room', 11)]\n",
      "Chapter 51 [('rise', 19), ('child', 15), ('time', 13), ('reply', 13), ('monk', 11)]\n",
      "Chapter 52 [('upon', 18), ('man', 14), ('face', 10), ('eye', 10), ('hand', 9)]\n",
      "Chapter 53 [('old', 6), ('little', 5), ('life', 5), ('friend', 5), ('church', 4)]\n"
     ]
    }
   ],
   "source": [
    "text = find_chapters(oliver_lines[6255:-19184])\n",
    "for chapter in ['Chapter {}'.format(x) for x in range(1, 54)]:\n",
    "    corpus = all_sentences(text[chapter])\n",
    "    print('{}'.format(chapter), get_frequecies(corpus)[:5])"
   ]
  },
  {
   "cell_type": "markdown",
   "metadata": {},
   "source": [
    "### Get edgelist from text characters and chapters"
   ]
  },
  {
   "cell_type": "code",
   "execution_count": 23,
   "metadata": {
    "ExecuteTime": {
     "end_time": "2020-07-08T18:44:05.672489Z",
     "start_time": "2020-07-08T18:44:05.511055Z"
    }
   },
   "outputs": [
    {
     "name": "stdout",
     "output_type": "stream",
     "text": [
      "Chapter 1 Oliver 8\n",
      "Chapter 1 Fagin 0\n",
      "Chapter 1 Nancy 0\n",
      "Chapter 1 Bill 0\n",
      "Chapter 1 Dodger 0\n",
      "Chapter 1 MrBrownlow 0\n",
      "Chapter 1 MrBumbleCharley 0\n",
      "Chapter 1 Dodger 0\n",
      "Chapter 1 MrSowerberry 0\n",
      "Chapter 1 MrsSowerberry 0\n",
      "Chapter 1 Noah 0\n",
      "Chapter 1 Charlotte 0\n",
      "Chapter 2 Oliver 39\n",
      "Chapter 2 Fagin 0\n",
      "Chapter 2 Nancy 0\n",
      "Chapter 2 Bill 0\n",
      "Chapter 2 Dodger 0\n",
      "Chapter 2 MrBrownlow 0\n",
      "Chapter 2 MrBumbleCharley 0\n",
      "Chapter 2 Dodger 0\n",
      "Chapter 2 MrSowerberry 0\n",
      "Chapter 2 MrsSowerberry 0\n",
      "Chapter 2 Noah 0\n",
      "Chapter 2 Charlotte 0\n",
      "Chapter 3 Oliver 33\n",
      "Chapter 3 Fagin 0\n",
      "Chapter 3 Nancy 0\n",
      "Chapter 3 Bill 0\n",
      "Chapter 3 Dodger 0\n",
      "Chapter 3 MrBrownlow 0\n",
      "Chapter 3 MrBumbleCharley 0\n",
      "Chapter 3 Dodger 0\n",
      "Chapter 3 MrSowerberry 0\n",
      "Chapter 3 MrsSowerberry 0\n",
      "Chapter 3 Noah 0\n",
      "Chapter 3 Charlotte 0\n",
      "Chapter 4 Oliver 27\n",
      "Chapter 4 Fagin 0\n",
      "Chapter 4 Nancy 0\n",
      "Chapter 4 Bill 0\n",
      "Chapter 4 Dodger 0\n",
      "Chapter 4 MrBrownlow 0\n",
      "Chapter 4 MrBumbleCharley 0\n",
      "Chapter 4 Dodger 0\n",
      "Chapter 4 MrSowerberry 12\n",
      "Chapter 4 MrsSowerberry 4\n",
      "Chapter 4 Noah 0\n",
      "Chapter 4 Charlotte 1\n",
      "Chapter 5 Oliver 36\n",
      "Chapter 5 Fagin 0\n",
      "Chapter 5 Nancy 0\n",
      "Chapter 5 Bill 1\n",
      "Chapter 5 Dodger 0\n",
      "Chapter 5 MrBrownlow 0\n",
      "Chapter 5 MrBumbleCharley 0\n",
      "Chapter 5 Dodger 0\n",
      "Chapter 5 MrSowerberry 14\n",
      "Chapter 5 MrsSowerberry 10\n",
      "Chapter 5 Noah 13\n",
      "Chapter 5 Charlotte 4\n",
      "Chapter 6 Oliver 28\n",
      "Chapter 6 Fagin 0\n",
      "Chapter 6 Nancy 0\n",
      "Chapter 6 Bill 0\n",
      "Chapter 6 Dodger 0\n",
      "Chapter 6 MrBrownlow 0\n",
      "Chapter 6 MrBumbleCharley 0\n",
      "Chapter 6 Dodger 0\n",
      "Chapter 6 MrSowerberry 2\n",
      "Chapter 6 MrsSowerberry 8\n",
      "Chapter 6 Noah 24\n",
      "Chapter 6 Charlotte 11\n",
      "Chapter 7 Oliver 30\n",
      "Chapter 7 Fagin 0\n",
      "Chapter 7 Nancy 0\n",
      "Chapter 7 Bill 0\n",
      "Chapter 7 Dodger 0\n",
      "Chapter 7 MrBrownlow 0\n",
      "Chapter 7 MrBumbleCharley 0\n",
      "Chapter 7 Dodger 0\n",
      "Chapter 7 MrSowerberry 1\n",
      "Chapter 7 MrsSowerberry 8\n",
      "Chapter 7 Noah 14\n",
      "Chapter 7 Charlotte 3\n",
      "Chapter 8 Oliver 41\n",
      "Chapter 8 Fagin 2\n",
      "Chapter 8 Nancy 0\n",
      "Chapter 8 Bill 0\n",
      "Chapter 8 Dodger 6\n",
      "Chapter 8 MrBrownlow 0\n",
      "Chapter 8 MrBumbleCharley 0\n",
      "Chapter 8 Dodger 6\n",
      "Chapter 8 MrSowerberry 0\n",
      "Chapter 8 MrsSowerberry 0\n",
      "Chapter 8 Noah 0\n",
      "Chapter 8 Charlotte 0\n",
      "Chapter 9 Oliver 37\n",
      "Chapter 9 Fagin 3\n",
      "Chapter 9 Nancy 1\n",
      "Chapter 9 Bill 0\n",
      "Chapter 9 Dodger 12\n",
      "Chapter 9 MrBrownlow 0\n",
      "Chapter 9 MrBumbleCharley 0\n",
      "Chapter 9 Dodger 12\n",
      "Chapter 9 MrSowerberry 0\n",
      "Chapter 9 MrsSowerberry 0\n",
      "Chapter 9 Noah 0\n",
      "Chapter 9 Charlotte 0\n",
      "Chapter 10 Oliver 20\n",
      "Chapter 10 Fagin 0\n",
      "Chapter 10 Nancy 0\n",
      "Chapter 10 Bill 0\n",
      "Chapter 10 Dodger 11\n",
      "Chapter 10 MrBrownlow 0\n",
      "Chapter 10 MrBumbleCharley 0\n",
      "Chapter 10 Dodger 11\n",
      "Chapter 10 MrSowerberry 0\n",
      "Chapter 10 MrsSowerberry 0\n",
      "Chapter 10 Noah 0\n",
      "Chapter 10 Charlotte 0\n",
      "Chapter 11 Oliver 14\n",
      "Chapter 11 Fagin 0\n",
      "Chapter 11 Nancy 0\n",
      "Chapter 11 Bill 0\n",
      "Chapter 11 Dodger 0\n",
      "Chapter 11 MrBrownlow 8\n",
      "Chapter 11 MrBumbleCharley 0\n",
      "Chapter 11 Dodger 0\n",
      "Chapter 11 MrSowerberry 0\n",
      "Chapter 11 MrsSowerberry 0\n",
      "Chapter 11 Noah 0\n",
      "Chapter 11 Charlotte 0\n",
      "Chapter 12 Oliver 44\n",
      "Chapter 12 Fagin 1\n",
      "Chapter 12 Nancy 0\n",
      "Chapter 12 Bill 0\n",
      "Chapter 12 Dodger 10\n",
      "Chapter 12 MrBrownlow 11\n",
      "Chapter 12 MrBumbleCharley 0\n",
      "Chapter 12 Dodger 10\n",
      "Chapter 12 MrSowerberry 0\n",
      "Chapter 12 MrsSowerberry 0\n",
      "Chapter 12 Noah 0\n",
      "Chapter 12 Charlotte 0\n",
      "Chapter 13 Oliver 6\n",
      "Chapter 13 Fagin 9\n",
      "Chapter 13 Nancy 16\n",
      "Chapter 13 Bill 5\n",
      "Chapter 13 Dodger 8\n",
      "Chapter 13 MrBrownlow 0\n",
      "Chapter 13 MrBumbleCharley 0\n",
      "Chapter 13 Dodger 8\n",
      "Chapter 13 MrSowerberry 0\n",
      "Chapter 13 MrsSowerberry 0\n",
      "Chapter 13 Noah 0\n",
      "Chapter 13 Charlotte 0\n",
      "Chapter 14 Oliver 58\n",
      "Chapter 14 Fagin 0\n",
      "Chapter 14 Nancy 0\n",
      "Chapter 14 Bill 0\n",
      "Chapter 14 Dodger 0\n",
      "Chapter 14 MrBrownlow 27\n",
      "Chapter 14 MrBumbleCharley 0\n",
      "Chapter 14 Dodger 0\n",
      "Chapter 14 MrSowerberry 0\n",
      "Chapter 14 MrsSowerberry 0\n",
      "Chapter 14 Noah 0\n",
      "Chapter 14 Charlotte 0\n",
      "Chapter 15 Oliver 11\n",
      "Chapter 15 Fagin 11\n",
      "Chapter 15 Nancy 8\n",
      "Chapter 15 Bill 6\n",
      "Chapter 15 Dodger 0\n",
      "Chapter 15 MrBrownlow 0\n",
      "Chapter 15 MrBumbleCharley 0\n",
      "Chapter 15 Dodger 0\n",
      "Chapter 15 MrSowerberry 0\n",
      "Chapter 15 MrsSowerberry 0\n",
      "Chapter 15 Noah 0\n",
      "Chapter 15 Charlotte 0\n",
      "Chapter 16 Oliver 35\n",
      "Chapter 16 Fagin 15\n",
      "Chapter 16 Nancy 16\n",
      "Chapter 16 Bill 10\n",
      "Chapter 16 Dodger 3\n",
      "Chapter 16 MrBrownlow 1\n",
      "Chapter 16 MrBumbleCharley 0\n",
      "Chapter 16 Dodger 3\n",
      "Chapter 16 MrSowerberry 0\n",
      "Chapter 16 MrsSowerberry 0\n",
      "Chapter 16 Noah 0\n",
      "Chapter 16 Charlotte 0\n",
      "Chapter 17 Oliver 11\n",
      "Chapter 17 Fagin 0\n",
      "Chapter 17 Nancy 0\n",
      "Chapter 17 Bill 0\n",
      "Chapter 17 Dodger 0\n",
      "Chapter 17 MrBrownlow 12\n",
      "Chapter 17 MrBumbleCharley 0\n",
      "Chapter 17 Dodger 0\n",
      "Chapter 17 MrSowerberry 0\n",
      "Chapter 17 MrsSowerberry 0\n",
      "Chapter 17 Noah 0\n",
      "Chapter 17 Charlotte 0\n",
      "Chapter 18 Oliver 35\n",
      "Chapter 18 Fagin 15\n",
      "Chapter 18 Nancy 1\n",
      "Chapter 18 Bill 0\n",
      "Chapter 18 Dodger 24\n",
      "Chapter 18 MrBrownlow 0\n",
      "Chapter 18 MrBumbleCharley 0\n",
      "Chapter 18 Dodger 24\n",
      "Chapter 18 MrSowerberry 0\n",
      "Chapter 18 MrsSowerberry 0\n",
      "Chapter 18 Noah 0\n",
      "Chapter 18 Charlotte 0\n",
      "Chapter 19 Oliver 7\n",
      "Chapter 19 Fagin 12\n",
      "Chapter 19 Nancy 16\n",
      "Chapter 19 Bill 16\n",
      "Chapter 19 Dodger 2\n",
      "Chapter 19 MrBrownlow 0\n",
      "Chapter 19 MrBumbleCharley 0\n",
      "Chapter 19 Dodger 2\n",
      "Chapter 19 MrSowerberry 0\n",
      "Chapter 19 MrsSowerberry 0\n",
      "Chapter 19 Noah 0\n",
      "Chapter 19 Charlotte 0\n",
      "Chapter 20 Oliver 40\n",
      "Chapter 20 Fagin 3\n",
      "Chapter 20 Nancy 13\n",
      "Chapter 20 Bill 5\n",
      "Chapter 20 Dodger 0\n",
      "Chapter 20 MrBrownlow 0\n",
      "Chapter 20 MrBumbleCharley 0\n",
      "Chapter 20 Dodger 0\n",
      "Chapter 20 MrSowerberry 0\n",
      "Chapter 20 MrsSowerberry 0\n",
      "Chapter 20 Noah 0\n",
      "Chapter 20 Charlotte 0\n",
      "Chapter 21 Oliver 18\n",
      "Chapter 21 Fagin 0\n",
      "Chapter 21 Nancy 0\n",
      "Chapter 21 Bill 0\n",
      "Chapter 21 Dodger 0\n",
      "Chapter 21 MrBrownlow 0\n",
      "Chapter 21 MrBumbleCharley 0\n",
      "Chapter 21 Dodger 0\n",
      "Chapter 21 MrSowerberry 0\n",
      "Chapter 21 MrsSowerberry 0\n",
      "Chapter 21 Noah 0\n",
      "Chapter 21 Charlotte 0\n",
      "Chapter 22 Oliver 25\n",
      "Chapter 22 Fagin 2\n",
      "Chapter 22 Nancy 0\n",
      "Chapter 22 Bill 5\n",
      "Chapter 22 Dodger 1\n",
      "Chapter 22 MrBrownlow 0\n",
      "Chapter 22 MrBumbleCharley 0\n",
      "Chapter 22 Dodger 1\n",
      "Chapter 22 MrSowerberry 0\n",
      "Chapter 22 MrsSowerberry 0\n",
      "Chapter 22 Noah 0\n",
      "Chapter 22 Charlotte 0\n",
      "Chapter 23 Oliver 1\n",
      "Chapter 23 Fagin 0\n",
      "Chapter 23 Nancy 0\n",
      "Chapter 23 Bill 0\n",
      "Chapter 23 Dodger 0\n",
      "Chapter 23 MrBrownlow 0\n",
      "Chapter 23 MrBumbleCharley 0\n",
      "Chapter 23 Dodger 0\n",
      "Chapter 23 MrSowerberry 0\n",
      "Chapter 23 MrsSowerberry 0\n",
      "Chapter 23 Noah 0\n",
      "Chapter 23 Charlotte 0\n",
      "Chapter 24 Oliver 1\n",
      "Chapter 24 Fagin 0\n",
      "Chapter 24 Nancy 0\n",
      "Chapter 24 Bill 0\n",
      "Chapter 24 Dodger 0\n",
      "Chapter 24 MrBrownlow 0\n",
      "Chapter 24 MrBumbleCharley 0\n",
      "Chapter 24 Dodger 0\n",
      "Chapter 24 MrSowerberry 0\n",
      "Chapter 24 MrsSowerberry 0\n",
      "Chapter 24 Noah 0\n",
      "Chapter 24 Charlotte 0\n",
      "Chapter 25 Oliver 1\n",
      "Chapter 25 Fagin 15\n",
      "Chapter 25 Nancy 0\n",
      "Chapter 25 Bill 2\n",
      "Chapter 25 Dodger 15\n",
      "Chapter 25 MrBrownlow 0\n",
      "Chapter 25 MrBumbleCharley 0\n",
      "Chapter 25 Dodger 15\n",
      "Chapter 25 MrSowerberry 0\n",
      "Chapter 25 MrsSowerberry 0\n",
      "Chapter 25 Noah 0\n",
      "Chapter 25 Charlotte 0\n",
      "Chapter 26 Oliver 0\n",
      "Chapter 26 Fagin 21\n",
      "Chapter 26 Nancy 4\n",
      "Chapter 26 Bill 6\n",
      "Chapter 26 Dodger 1\n",
      "Chapter 26 MrBrownlow 0\n",
      "Chapter 26 MrBumbleCharley 0\n",
      "Chapter 26 Dodger 1\n",
      "Chapter 26 MrSowerberry 0\n",
      "Chapter 26 MrsSowerberry 0\n",
      "Chapter 26 Noah 0\n",
      "Chapter 26 Charlotte 0\n",
      "Chapter 27 Oliver 1\n",
      "Chapter 27 Fagin 0\n",
      "Chapter 27 Nancy 0\n",
      "Chapter 27 Bill 0\n",
      "Chapter 27 Dodger 0\n",
      "Chapter 27 MrBrownlow 0\n",
      "Chapter 27 MrBumbleCharley 0\n",
      "Chapter 27 Dodger 0\n",
      "Chapter 27 MrSowerberry 0\n",
      "Chapter 27 MrsSowerberry 1\n",
      "Chapter 27 Noah 10\n",
      "Chapter 27 Charlotte 9\n",
      "Chapter 28 Oliver 10\n",
      "Chapter 28 Fagin 0\n",
      "Chapter 28 Nancy 0\n",
      "Chapter 28 Bill 1\n",
      "Chapter 28 Dodger 0\n",
      "Chapter 28 MrBrownlow 0\n",
      "Chapter 28 MrBumbleCharley 0\n",
      "Chapter 28 Dodger 0\n",
      "Chapter 28 MrSowerberry 0\n",
      "Chapter 28 MrsSowerberry 0\n",
      "Chapter 28 Noah 0\n",
      "Chapter 28 Charlotte 0\n",
      "Chapter 29 Oliver 0\n",
      "Chapter 29 Fagin 0\n",
      "Chapter 29 Nancy 0\n",
      "Chapter 29 Bill 0\n",
      "Chapter 29 Dodger 0\n",
      "Chapter 29 MrBrownlow 0\n",
      "Chapter 29 MrBumbleCharley 0\n",
      "Chapter 29 Dodger 0\n",
      "Chapter 29 MrSowerberry 0\n",
      "Chapter 29 MrsSowerberry 0\n",
      "Chapter 29 Noah 0\n",
      "Chapter 29 Charlotte 0\n",
      "Chapter 30 Oliver 6\n",
      "Chapter 30 Fagin 0\n",
      "Chapter 30 Nancy 0\n",
      "Chapter 30 Bill 0\n",
      "Chapter 30 Dodger 0\n",
      "Chapter 30 MrBrownlow 0\n",
      "Chapter 30 MrBumbleCharley 0\n",
      "Chapter 30 Dodger 0\n",
      "Chapter 30 MrSowerberry 0\n",
      "Chapter 30 MrsSowerberry 0\n",
      "Chapter 30 Noah 0\n",
      "Chapter 30 Charlotte 0\n",
      "Chapter 31 Oliver 9\n",
      "Chapter 31 Fagin 0\n",
      "Chapter 31 Nancy 0\n",
      "Chapter 31 Bill 0\n",
      "Chapter 31 Dodger 0\n",
      "Chapter 31 MrBrownlow 0\n",
      "Chapter 31 MrBumbleCharley 0\n",
      "Chapter 31 Dodger 0\n",
      "Chapter 31 MrSowerberry 0\n",
      "Chapter 31 MrsSowerberry 0\n",
      "Chapter 31 Noah 0\n",
      "Chapter 31 Charlotte 0\n",
      "Chapter 32 Oliver 39\n",
      "Chapter 32 Fagin 1\n",
      "Chapter 32 Nancy 0\n",
      "Chapter 32 Bill 0\n",
      "Chapter 32 Dodger 0\n",
      "Chapter 32 MrBrownlow 5\n",
      "Chapter 32 MrBumbleCharley 0\n",
      "Chapter 32 Dodger 0\n",
      "Chapter 32 MrSowerberry 0\n",
      "Chapter 32 MrsSowerberry 0\n",
      "Chapter 32 Noah 0\n",
      "Chapter 32 Charlotte 0\n",
      "Chapter 33 Oliver 31\n",
      "Chapter 33 Fagin 0\n",
      "Chapter 33 Nancy 0\n",
      "Chapter 33 Bill 0\n",
      "Chapter 33 Dodger 0\n",
      "Chapter 33 MrBrownlow 0\n",
      "Chapter 33 MrBumbleCharley 0\n",
      "Chapter 33 Dodger 0\n",
      "Chapter 33 MrSowerberry 0\n",
      "Chapter 33 MrsSowerberry 0\n",
      "Chapter 33 Noah 0\n",
      "Chapter 33 Charlotte 0\n",
      "Chapter 34 Oliver 26\n",
      "Chapter 34 Fagin 0\n",
      "Chapter 34 Nancy 0\n",
      "Chapter 34 Bill 0\n",
      "Chapter 34 Dodger 0\n",
      "Chapter 34 MrBrownlow 0\n",
      "Chapter 34 MrBumbleCharley 0\n",
      "Chapter 34 Dodger 0\n",
      "Chapter 34 MrSowerberry 0\n",
      "Chapter 34 MrsSowerberry 0\n",
      "Chapter 34 Noah 0\n",
      "Chapter 34 Charlotte 0\n",
      "Chapter 35 Oliver 15\n",
      "Chapter 35 Fagin 0\n",
      "Chapter 35 Nancy 0\n",
      "Chapter 35 Bill 0\n",
      "Chapter 35 Dodger 0\n",
      "Chapter 35 MrBrownlow 0\n",
      "Chapter 35 MrBumbleCharley 0\n",
      "Chapter 35 Dodger 0\n",
      "Chapter 35 MrSowerberry 0\n",
      "Chapter 35 MrsSowerberry 0\n",
      "Chapter 35 Noah 0\n",
      "Chapter 35 Charlotte 0\n",
      "Chapter 36 Oliver 10\n",
      "Chapter 36 Fagin 0\n",
      "Chapter 36 Nancy 0\n",
      "Chapter 36 Bill 0\n",
      "Chapter 36 Dodger 0\n",
      "Chapter 36 MrBrownlow 0\n",
      "Chapter 36 MrBumbleCharley 0\n",
      "Chapter 36 Dodger 0\n",
      "Chapter 36 MrSowerberry 0\n",
      "Chapter 36 MrsSowerberry 0\n",
      "Chapter 36 Noah 0\n",
      "Chapter 36 Charlotte 0\n",
      "Chapter 37 Oliver 3\n",
      "Chapter 37 Fagin 0\n",
      "Chapter 37 Nancy 0\n",
      "Chapter 37 Bill 0\n",
      "Chapter 37 Dodger 0\n",
      "Chapter 37 MrBrownlow 0\n",
      "Chapter 37 MrBumbleCharley 0\n",
      "Chapter 37 Dodger 0\n",
      "Chapter 37 MrSowerberry 0\n",
      "Chapter 37 MrsSowerberry 0\n",
      "Chapter 37 Noah 0\n",
      "Chapter 37 Charlotte 0\n",
      "Chapter 38 Oliver 0\n",
      "Chapter 38 Fagin 0\n",
      "Chapter 38 Nancy 0\n",
      "Chapter 38 Bill 0\n",
      "Chapter 38 Dodger 0\n",
      "Chapter 38 MrBrownlow 0\n",
      "Chapter 38 MrBumbleCharley 0\n",
      "Chapter 38 Dodger 0\n",
      "Chapter 38 MrSowerberry 0\n",
      "Chapter 38 MrsSowerberry 0\n",
      "Chapter 38 Noah 0\n",
      "Chapter 38 Charlotte 0\n",
      "Chapter 39 Oliver 0\n",
      "Chapter 39 Fagin 31\n",
      "Chapter 39 Nancy 19\n",
      "Chapter 39 Bill 14\n",
      "Chapter 39 Dodger 5\n",
      "Chapter 39 MrBrownlow 0\n",
      "Chapter 39 MrBumbleCharley 0\n",
      "Chapter 39 Dodger 5\n",
      "Chapter 39 MrSowerberry 0\n",
      "Chapter 39 MrsSowerberry 0\n",
      "Chapter 39 Noah 0\n",
      "Chapter 39 Charlotte 0\n",
      "Chapter 40 Oliver 6\n",
      "Chapter 40 Fagin 5\n",
      "Chapter 40 Nancy 1\n",
      "Chapter 40 Bill 0\n",
      "Chapter 40 Dodger 0\n",
      "Chapter 40 MrBrownlow 0\n",
      "Chapter 40 MrBumbleCharley 0\n",
      "Chapter 40 Dodger 0\n",
      "Chapter 40 MrSowerberry 0\n",
      "Chapter 40 MrsSowerberry 0\n",
      "Chapter 40 Noah 0\n",
      "Chapter 40 Charlotte 0\n",
      "Chapter 41 Oliver 24\n",
      "Chapter 41 Fagin 0\n",
      "Chapter 41 Nancy 3\n",
      "Chapter 41 Bill 0\n",
      "Chapter 41 Dodger 0\n",
      "Chapter 41 MrBrownlow 21\n",
      "Chapter 41 MrBumbleCharley 0\n",
      "Chapter 41 Dodger 0\n",
      "Chapter 41 MrSowerberry 0\n",
      "Chapter 41 MrsSowerberry 0\n",
      "Chapter 41 Noah 0\n",
      "Chapter 41 Charlotte 0\n",
      "Chapter 42 Oliver 0\n",
      "Chapter 42 Fagin 32\n",
      "Chapter 42 Nancy 1\n",
      "Chapter 42 Bill 0\n",
      "Chapter 42 Dodger 0\n",
      "Chapter 42 MrBrownlow 0\n",
      "Chapter 42 MrBumbleCharley 0\n",
      "Chapter 42 Dodger 0\n",
      "Chapter 42 MrSowerberry 0\n",
      "Chapter 42 MrsSowerberry 0\n",
      "Chapter 42 Noah 41\n",
      "Chapter 42 Charlotte 21\n",
      "Chapter 43 Oliver 0\n",
      "Chapter 43 Fagin 38\n",
      "Chapter 43 Nancy 0\n",
      "Chapter 43 Bill 0\n",
      "Chapter 43 Dodger 20\n",
      "Chapter 43 MrBrownlow 0\n",
      "Chapter 43 MrBumbleCharley 0\n",
      "Chapter 43 Dodger 20\n",
      "Chapter 43 MrSowerberry 0\n",
      "Chapter 43 MrsSowerberry 0\n",
      "Chapter 43 Noah 6\n",
      "Chapter 43 Charlotte 0\n",
      "Chapter 44 Oliver 0\n",
      "Chapter 44 Fagin 25\n",
      "Chapter 44 Nancy 7\n",
      "Chapter 44 Bill 6\n",
      "Chapter 44 Dodger 0\n",
      "Chapter 44 MrBrownlow 0\n",
      "Chapter 44 MrBumbleCharley 0\n",
      "Chapter 44 Dodger 0\n",
      "Chapter 44 MrSowerberry 0\n",
      "Chapter 44 MrsSowerberry 0\n",
      "Chapter 44 Noah 0\n",
      "Chapter 44 Charlotte 0\n",
      "Chapter 45 Oliver 0\n",
      "Chapter 45 Fagin 20\n",
      "Chapter 45 Nancy 0\n",
      "Chapter 45 Bill 0\n",
      "Chapter 45 Dodger 0\n",
      "Chapter 45 MrBrownlow 0\n",
      "Chapter 45 MrBumbleCharley 0\n",
      "Chapter 45 Dodger 0\n",
      "Chapter 45 MrSowerberry 0\n",
      "Chapter 45 MrsSowerberry 0\n",
      "Chapter 45 Noah 13\n",
      "Chapter 45 Charlotte 1\n",
      "Chapter 46 Oliver 1\n",
      "Chapter 46 Fagin 2\n",
      "Chapter 46 Nancy 5\n",
      "Chapter 46 Bill 0\n",
      "Chapter 46 Dodger 0\n",
      "Chapter 46 MrBrownlow 1\n",
      "Chapter 46 MrBumbleCharley 0\n",
      "Chapter 46 Dodger 0\n",
      "Chapter 46 MrSowerberry 0\n",
      "Chapter 46 MrsSowerberry 0\n",
      "Chapter 46 Noah 1\n",
      "Chapter 46 Charlotte 0\n",
      "Chapter 47 Oliver 0\n",
      "Chapter 47 Fagin 21\n",
      "Chapter 47 Nancy 1\n",
      "Chapter 47 Bill 17\n",
      "Chapter 47 Dodger 1\n",
      "Chapter 47 MrBrownlow 0\n",
      "Chapter 47 MrBumbleCharley 0\n",
      "Chapter 47 Dodger 1\n",
      "Chapter 47 MrSowerberry 0\n",
      "Chapter 47 MrsSowerberry 0\n",
      "Chapter 47 Noah 9\n",
      "Chapter 47 Charlotte 0\n",
      "Chapter 48 Oliver 0\n",
      "Chapter 48 Fagin 1\n",
      "Chapter 48 Nancy 0\n",
      "Chapter 48 Bill 0\n",
      "Chapter 48 Dodger 0\n",
      "Chapter 48 MrBrownlow 0\n",
      "Chapter 48 MrBumbleCharley 0\n",
      "Chapter 48 Dodger 0\n",
      "Chapter 48 MrSowerberry 0\n",
      "Chapter 48 MrsSowerberry 0\n",
      "Chapter 48 Noah 0\n",
      "Chapter 48 Charlotte 0\n",
      "Chapter 49 Oliver 0\n",
      "Chapter 49 Fagin 1\n",
      "Chapter 49 Nancy 0\n",
      "Chapter 49 Bill 0\n",
      "Chapter 49 Dodger 0\n",
      "Chapter 49 MrBrownlow 30\n",
      "Chapter 49 MrBumbleCharley 0\n",
      "Chapter 49 Dodger 0\n",
      "Chapter 49 MrSowerberry 0\n",
      "Chapter 49 MrsSowerberry 0\n",
      "Chapter 49 Noah 0\n",
      "Chapter 49 Charlotte 0\n",
      "Chapter 50 Oliver 0\n",
      "Chapter 50 Fagin 3\n",
      "Chapter 50 Nancy 0\n",
      "Chapter 50 Bill 0\n",
      "Chapter 50 Dodger 0\n",
      "Chapter 50 MrBrownlow 0\n",
      "Chapter 50 MrBumbleCharley 0\n",
      "Chapter 50 Dodger 0\n",
      "Chapter 50 MrSowerberry 0\n",
      "Chapter 50 MrsSowerberry 0\n",
      "Chapter 50 Noah 0\n",
      "Chapter 50 Charlotte 0\n",
      "Chapter 51 Oliver 20\n",
      "Chapter 51 Fagin 1\n",
      "Chapter 51 Nancy 0\n",
      "Chapter 51 Bill 0\n",
      "Chapter 51 Dodger 0\n",
      "Chapter 51 MrBrownlow 23\n",
      "Chapter 51 MrBumbleCharley 0\n",
      "Chapter 51 Dodger 0\n",
      "Chapter 51 MrSowerberry 0\n",
      "Chapter 51 MrsSowerberry 0\n",
      "Chapter 51 Noah 0\n",
      "Chapter 51 Charlotte 0\n",
      "Chapter 52 Oliver 13\n",
      "Chapter 52 Fagin 11\n",
      "Chapter 52 Nancy 0\n",
      "Chapter 52 Bill 1\n",
      "Chapter 52 Dodger 0\n",
      "Chapter 52 MrBrownlow 6\n",
      "Chapter 52 MrBumbleCharley 0\n",
      "Chapter 52 Dodger 0\n",
      "Chapter 52 MrSowerberry 0\n",
      "Chapter 52 MrsSowerberry 0\n",
      "Chapter 52 Noah 0\n",
      "Chapter 52 Charlotte 0\n",
      "Chapter 53 Oliver 7\n",
      "Chapter 53 Fagin 2\n",
      "Chapter 53 Nancy 0\n",
      "Chapter 53 Bill 0\n",
      "Chapter 53 Dodger 0\n",
      "Chapter 53 MrBrownlow 5\n",
      "Chapter 53 MrBumbleCharley 0\n",
      "Chapter 53 Dodger 0\n",
      "Chapter 53 MrSowerberry 0\n",
      "Chapter 53 MrsSowerberry 0\n",
      "Chapter 53 Noah 1\n",
      "Chapter 53 Charlotte 1\n"
     ]
    }
   ],
   "source": [
    "edge_list = []\n",
    "for chapter in ['Chapter {}'.format(x) for x in range(1, 54)]:\n",
    "    text[chapter] = text[chapter].replace('Oliver Twist', 'Oliver')\\\n",
    "                                 .replace('Bill Sikes', 'Bill')\\\n",
    "                                 .replace('Mr. Brownlow', 'MrBrownlow')\\\n",
    "                                 .replace( 'Mr. Bumble', 'MrBumble')\\\n",
    "                                 .replace('Charley Bates', 'Charley')\\\n",
    "                                 .replace('Artful Dodger', 'Dodger')\\\n",
    "                                 .replace('Mr. Sowerberry', 'MrSowerberry')\\\n",
    "                                 .replace('Mrs. Sowerberry', 'MrsSowerberry')\\\n",
    "                                 .replace('Mrs. Sowerberry', 'MrsSowerberry')\\\n",
    "                                 .replace('Noah Claypole', 'Noah')\n",
    "\n",
    "    for name in ['Oliver',\n",
    "                 'Fagin',\n",
    "                 'Nancy',\n",
    "                 'Bill',\n",
    "                 'Dodger',\n",
    "                 'MrBrownlow',\n",
    "                 'MrBumble'\n",
    "                 'Charley',\n",
    "                 'Dodger',\n",
    "                 'MrSowerberry',\n",
    "                 'MrsSowerberry',\n",
    "                 'Noah',\n",
    "                 'Charlotte']:\n",
    "        print(chapter, name, len(re.findall(name, text[chapter])))\n",
    "        edge_list.append((chapter, name, len(re.findall(name, text[chapter]))))\n",
    "\n",
    "data_df = pd.DataFrame(edge_list)\n",
    "data_df.columns = ['Chapter', 'Character', 'Weight']\n",
    "data_df = data_df[data_df['Weight']>0]"
   ]
  },
  {
   "cell_type": "markdown",
   "metadata": {},
   "source": [
    "### Build graph"
   ]
  },
  {
   "cell_type": "code",
   "execution_count": 24,
   "metadata": {
    "ExecuteTime": {
     "end_time": "2020-07-08T18:44:05.722673Z",
     "start_time": "2020-07-08T18:44:05.682494Z"
    }
   },
   "outputs": [],
   "source": [
    "B = nx.Graph()\n",
    "\n",
    "B.add_nodes_from(data_df['Chapter'],\n",
    "                 bipartite=0)\n",
    "B.add_nodes_from(data_df['Character'],\n",
    "                 bipartite=1)\n",
    "\n",
    "B.add_weighted_edges_from(\n",
    "    [(row['Chapter'], \n",
    "      row['Character'],\n",
    "      row['Weight']) for idx, row in data_df.iterrows()])"
   ]
  },
  {
   "cell_type": "markdown",
   "metadata": {},
   "source": [
    "### Get character projection"
   ]
  },
  {
   "cell_type": "code",
   "execution_count": 25,
   "metadata": {
    "ExecuteTime": {
     "end_time": "2020-07-08T18:44:05.728627Z",
     "start_time": "2020-07-08T18:44:05.724380Z"
    }
   },
   "outputs": [],
   "source": [
    "character_filter = {n for n, d in B.nodes(data=True) if d['bipartite']==1}\n",
    "\n",
    "# project bipartite graph onto character nodes keeping number of co-occurences, weighted degree\n",
    "B_character = nx.bipartite.weighted_projected_graph(B, character_filter)"
   ]
  },
  {
   "cell_type": "markdown",
   "metadata": {},
   "source": [
    "### Network graph"
   ]
  },
  {
   "cell_type": "code",
   "execution_count": 105,
   "metadata": {
    "ExecuteTime": {
     "end_time": "2020-07-08T18:44:05.974796Z",
     "start_time": "2020-07-08T18:44:05.730127Z"
    },
    "scrolled": false
   },
   "outputs": [
    {
     "data": {
      "image/png": "[encoded data removed]",
      "text/plain": [
       "<Figure size 1080x1080 with 1 Axes>"
      ]
     },
     "metadata": {},
     "output_type": "display_data"
    }
   ],
   "source": [
    "plt.figure(figsize=(15,15));\n",
    "pos = nx.spring_layout(B_character, iterations = 50);\n",
    "edges = B_character.edges()\n",
    "weights = [(B_character[u][v]['weight']/5)**2 for u,v in edges]\n",
    "nx.draw_networkx_nodes(B_character, pos, node_color='lightblue', node_size=500);\n",
    "nx.draw_networkx_edges(B_character, pos,  edge_color='gray', width=weights);\n",
    "nx.draw_networkx_labels(B_character, pos, font_size=8, font_color ='blue');"
   ]
  },
  {
   "cell_type": "markdown",
   "metadata": {},
   "source": [
    "### Character degree centrality"
   ]
  },
  {
   "cell_type": "code",
   "execution_count": 26,
   "metadata": {},
   "outputs": [
    {
     "name": "stdout",
     "output_type": "stream",
     "text": [
      "Character Degree Centrality \n",
      "-----------------------------------------------\n",
      "Oliver - Degree Centrality: 0.683\n",
      "Fagin - Degree Centrality: 0.45\n",
      "Nancy - Degree Centrality: 0.25\n",
      "Bill - Degree Centrality: 0.233\n",
      "Dodger - Degree Centrality: 0.233\n"
     ]
    }
   ],
   "source": [
    "char_deg_cent = {k:v for k,v in dict(nx.degree_centrality(B)).items()}\n",
    "print('Character Degree Centrality ')\n",
    "print('-----------------------------------------------')\n",
    "for character, cdegree in sorted([(x,y) \n",
    "              for x,y in char_deg_cent.items()], \n",
    "              key=lambda x: x[1], reverse=True)[:5]:\n",
    "    print('{} -'.format(character), 'Degree Centrality:',round(cdegree,3))"
   ]
  },
  {
   "cell_type": "markdown",
   "metadata": {},
   "source": [
    "### Character betweenness centrality"
   ]
  },
  {
   "cell_type": "code",
   "execution_count": 27,
   "metadata": {},
   "outputs": [
    {
     "name": "stdout",
     "output_type": "stream",
     "text": [
      "Character Betweenness Centrality \n",
      "-----------------------------------------------\n",
      "Oliver - Betweenness Centrality: 0.624\n",
      "Fagin - Betweenness Centrality: 0.22\n",
      "Bill - Betweenness Centrality: 0.044\n",
      "Nancy - Betweenness Centrality: 0.042\n",
      "Dodger - Betweenness Centrality: 0.035\n"
     ]
    }
   ],
   "source": [
    "b_bet_cent = {k:v for k,v in dict(nx.betweenness_centrality(B)).items()}\n",
    "print('Character Betweenness Centrality ')\n",
    "print('-----------------------------------------------')\n",
    "for character, cdegree in sorted([(x,y) \n",
    "              for x,y in b_bet_cent.items()], \n",
    "              key=lambda x: x[1], reverse=True)[:5]:\n",
    "    print('{} -'.format(character), 'Betweenness Centrality:',round(cdegree,3))"
   ]
  },
  {
   "cell_type": "markdown",
   "metadata": {},
   "source": [
    "### Create function for NMF and LDA"
   ]
  },
  {
   "cell_type": "code",
   "execution_count": 28,
   "metadata": {
    "ExecuteTime": {
     "end_time": "2020-07-09T14:49:21.903499Z",
     "start_time": "2020-07-09T14:49:21.870873Z"
    }
   },
   "outputs": [],
   "source": [
    "def NMF_LDA(text):\n",
    "    maxdf = .5\n",
    "    mindf = 5\n",
    "    no_top_words = 10\n",
    "    no_topics = 5\n",
    "\n",
    "    tfidf_vectorizer1 = TfidfVectorizer(ngram_range=(1, 1),\n",
    "                                        max_df=maxdf, \n",
    "                                        min_df=mindf, \n",
    "                                        stop_words=stop)\n",
    "    tfidf1 = tfidf_vectorizer1.fit_transform(text)\n",
    "    tfidf_feature_names1 = tfidf_vectorizer1.get_feature_names()\n",
    "\n",
    "    ct_vectorizer1 = CountVectorizer(ngram_range=(1, 1),\n",
    "        max_df=maxdf, min_df=mindf, stop_words=stop)\n",
    "    ct1 = ct_vectorizer1.fit_transform(text)\n",
    "    tf_feature_names1 = ct_vectorizer1.get_feature_names()\n",
    "\n",
    "    # Run NMF\n",
    "    nmf1 = NMF(n_components=no_topics,\n",
    "               max_iter=300)\n",
    "    nmf1.fit_transform(tfidf1)\n",
    "\n",
    "    # Run LDA\n",
    "    lda1 = LatentDirichletAllocation(n_components=no_topics, \n",
    "                                     max_iter=10,\n",
    "                                     learning_method='online', \n",
    "                                     learning_offset=50.,\n",
    "                                     random_state=0).fit(ct1)\n",
    "    def display_topics(model, feature_names, no_top_words, model_used):\n",
    "        topic_dict={}\n",
    "        for topic_idx, topic in enumerate(model.components_):\n",
    "            topic_dict[\"Topic:{}\".format(topic_idx+1)]=\" \".join(set([feature_names[i].title()\n",
    "            for i in topic.argsort()[:-no_top_words - 1:-1]]))\n",
    "        return pd.DataFrame.from_dict(topic_dict,\n",
    "                                      orient='index')\\\n",
    "                                      .reset_index()\\\n",
    "                                      .rename(columns={'index':'Topic',\n",
    "                                                       0:'Top Words'})\n",
    "    \n",
    "    return display_topics(nmf1, \n",
    "                          tfidf_feature_names1, \n",
    "                          no_top_words, \n",
    "                          \"NMF\"),\\\n",
    "           display_topics(lda1, \n",
    "                          tf_feature_names1, \n",
    "                          no_top_words, \"LDA\")"
   ]
  },
  {
   "cell_type": "markdown",
   "metadata": {},
   "source": [
    "### Turn lists back into sentences"
   ]
  },
  {
   "cell_type": "code",
   "execution_count": 29,
   "metadata": {
    "ExecuteTime": {
     "end_time": "2020-07-09T14:49:24.945267Z",
     "start_time": "2020-07-09T14:49:24.861075Z"
    }
   },
   "outputs": [],
   "source": [
    "topic_corpus =  [' '.join(x) for x in full_corpus]"
   ]
  },
  {
   "cell_type": "markdown",
   "metadata": {},
   "source": [
    "### Get NMF and LDA topics"
   ]
  },
  {
   "cell_type": "code",
   "execution_count": 138,
   "metadata": {
    "ExecuteTime": {
     "end_time": "2020-07-09T14:49:36.985992Z",
     "start_time": "2020-07-09T14:49:26.338881Z"
    }
   },
   "outputs": [],
   "source": [
    "NMF_LDA_Tuple = NMF_LDA(topic_corpus)"
   ]
  },
  {
   "cell_type": "code",
   "execution_count": 139,
   "metadata": {
    "ExecuteTime": {
     "end_time": "2020-07-09T14:49:36.992816Z",
     "start_time": "2020-07-09T14:49:36.988454Z"
    }
   },
   "outputs": [
    {
     "data": {
      "text/plain": [
       "['Reply Sir Maam Giles Beadle Man Woman Girl Indeed Jew',\n",
       " 'Tell Ha Let Rejoin Em Thats Hear Undertaker Poor Ah',\n",
       " 'Rise Gentleman Ask Man Lady Upon Hand Jew Old Cry',\n",
       " 'Whats Return Sir Name Mean Matter Little Boy Thats Poor',\n",
       " 'Retort Inquire Growl Demand Rejoin Let Sikes Hand Jew Exclaim']"
      ]
     },
     "execution_count": 139,
     "metadata": {},
     "output_type": "execute_result"
    }
   ],
   "source": [
    "NMF_LDA_Tuple[0]['Top Words'].tolist()"
   ]
  },
  {
   "cell_type": "code",
   "execution_count": 140,
   "metadata": {
    "ExecuteTime": {
     "end_time": "2020-07-09T14:49:37.000409Z",
     "start_time": "2020-07-09T14:49:36.994982Z"
    }
   },
   "outputs": [
    {
     "data": {
      "text/plain": [
       "['Heart Master Man Turn Little Boy Doctor Day Upon Life',\n",
       " 'Reply Sir Gentleman Night Woman Little Girl Lady Word Old',\n",
       " 'Rise Tell Reply Mean Monk Seem Ill Let Eye Thats',\n",
       " 'Away Long Time Another Sikes Sat Voice Jew Men Cry',\n",
       " 'Inquire Ask Face Round Turn Get Room Upon Hand Mind']"
      ]
     },
     "execution_count": 140,
     "metadata": {},
     "output_type": "execute_result"
    }
   ],
   "source": [
    "NMF_LDA_Tuple[1]['Top Words'].tolist()"
   ]
  },
  {
   "cell_type": "markdown",
   "metadata": {},
   "source": [
    "### Plot W2V with TNSE"
   ]
  },
  {
   "cell_type": "code",
   "execution_count": 65,
   "metadata": {
    "ExecuteTime": {
     "end_time": "2020-07-08T16:49:52.420855Z",
     "start_time": "2020-07-08T16:49:52.414457Z"
    }
   },
   "outputs": [],
   "source": [
    "def W2V(nlp_list):\n",
    "    \n",
    "    model = gensim.models.Word2Vec(nlp_list,\n",
    "                                   size=100,\n",
    "                                   window=10,\n",
    "                                   min_count=3,\n",
    "                                   workers=2)\n",
    "\n",
    "\n",
    "    labels = []\n",
    "    tokens = []\n",
    "\n",
    "    for word in model.wv.vocab:\n",
    "        tokens.append(model[word])\n",
    "        labels.append(word)\n",
    "        \n",
    "    tsne_model = TSNE(perplexity=30, \n",
    "                      n_components=2, \n",
    "                      init='pca', \n",
    "                      n_iter=250, \n",
    "                      angle=.8)\n",
    "    \n",
    "    new_values = tsne_model.fit_transform(tokens)\n",
    "    \n",
    "    x = []\n",
    "    y = []\n",
    "    for value in new_values:\n",
    "        x.append(value[0])\n",
    "        y.append(value[1])\n",
    "        \n",
    "    df = pd.DataFrame([x, y, labels]).T\n",
    "    df.columns = ['x','y','label']\n",
    "        \n",
    "    return df"
   ]
  },
  {
   "cell_type": "code",
   "execution_count": 133,
   "metadata": {
    "ExecuteTime": {
     "end_time": "2020-07-08T21:02:22.088683Z",
     "start_time": "2020-07-08T21:01:55.620313Z"
    }
   },
   "outputs": [
    {
     "name": "stderr",
     "output_type": "stream",
     "text": [
      "/Users/jitsen/anaconda/envs/ml-env/lib/python3.7/site-packages/ipykernel_launcher.py:14: DeprecationWarning:\n",
      "\n",
      "Call to deprecated `__getitem__` (Method will be removed in 4.0.0, use self.wv.__getitem__() instead).\n",
      "\n"
     ]
    }
   ],
   "source": [
    "full_corpus = all_sentences(oliver_lines[6255:-19184], include_stop=False)\n",
    "w2v_df = W2V(full_corpus)"
   ]
  },
  {
   "cell_type": "code",
   "execution_count": 134,
   "metadata": {
    "ExecuteTime": {
     "end_time": "2020-07-08T21:02:27.157701Z",
     "start_time": "2020-07-08T21:02:27.126559Z"
    }
   },
   "outputs": [
    {
     "data": {
      "application/vnd.plotly.v1+json": {
       "config": {
        "plotlyServerURL": "https://plot.ly"
       },
       "data": [
        {
         "hoverinfo": "text",
         "mode": "markers+text",
         "text": [
          "oliver",
          "mrbumble",
          "bill",
          "mrsowerberry",
          "mrssowerberry",
          "charlotte",
          "noah",
          "dodger",
          "fagin",
          "charley",
          "nancy",
          "mrbrownlow"
         ],
         "textfont": {
          "size": 8
         },
         "textposition": [
          "bottom left",
          "top left",
          "top left",
          "bottom left",
          "bottom left",
          "top right",
          "top left",
          "top left",
          "top left",
          "bottom left",
          "bottom left",
          "top right"
         ],
         "type": "scatter",
         "x": [
          8.787899017333984,
          8.69996452331543,
          8.089461326599121,
          3.9004898071289062,
          4.646270751953125,
          6.160344123840332,
          8.10862922668457,
          7.86606502532959,
          8.707194328308105,
          7.01812744140625,
          8.250622749328613,
          8.253274917602539
         ],
         "y": [
          -0.31081423163414,
          -0.3535197675228119,
          -0.523960530757904,
          1.8554750680923462,
          1.6279046535491943,
          -0.05084472894668579,
          -0.5343323349952698,
          -0.5962626934051514,
          -0.3449225127696991,
          -0.5792092680931091,
          -0.4917449355125427,
          -0.4917241036891937
         ]
        }
       ],
       "layout": {
        "height": 800,
        "hovermode": "closest",
        "paper_bgcolor": "white",
        "plot_bgcolor": "white",
        "template": {
         "data": {
          "bar": [
           {
            "error_x": {
             "color": "#2a3f5f"
            },
            "error_y": {
             "color": "#2a3f5f"
            },
            "marker": {
             "line": {
              "color": "#E5ECF6",
              "width": 0.5
             }
            },
            "type": "bar"
           }
          ],
          "barpolar": [
           {
            "marker": {
             "line": {
              "color": "#E5ECF6",
              "width": 0.5
             }
            },
            "type": "barpolar"
           }
          ],
          "carpet": [
           {
            "aaxis": {
             "endlinecolor": "#2a3f5f",
             "gridcolor": "white",
             "linecolor": "white",
             "minorgridcolor": "white",
             "startlinecolor": "#2a3f5f"
            },
            "baxis": {
             "endlinecolor": "#2a3f5f",
             "gridcolor": "white",
             "linecolor": "white",
             "minorgridcolor": "white",
             "startlinecolor": "#2a3f5f"
            },
            "type": "carpet"
           }
          ],
          "choropleth": [
           {
            "colorbar": {
             "outlinewidth": 0,
             "ticks": ""
            },
            "type": "choropleth"
           }
          ],
          "contour": [
           {
            "colorbar": {
             "outlinewidth": 0,
             "ticks": ""
            },
            "colorscale": [
             [
              0,
              "#0d0887"
             ],
             [
              0.1111111111111111,
              "#46039f"
             ],
             [
              0.2222222222222222,
              "#7201a8"
             ],
             [
              0.3333333333333333,
              "#9c179e"
             ],
             [
              0.4444444444444444,
              "#bd3786"
             ],
             [
              0.5555555555555556,
              "#d8576b"
             ],
             [
              0.6666666666666666,
              "#ed7953"
             ],
             [
              0.7777777777777778,
              "#fb9f3a"
             ],
             [
              0.8888888888888888,
              "#fdca26"
             ],
             [
              1,
              "#f0f921"
             ]
            ],
            "type": "contour"
           }
          ],
          "contourcarpet": [
           {
            "colorbar": {
             "outlinewidth": 0,
             "ticks": ""
            },
            "type": "contourcarpet"
           }
          ],
          "heatmap": [
           {
            "colorbar": {
             "outlinewidth": 0,
             "ticks": ""
            },
            "colorscale": [
             [
              0,
              "#0d0887"
             ],
             [
              0.1111111111111111,
              "#46039f"
             ],
             [
              0.2222222222222222,
              "#7201a8"
             ],
             [
              0.3333333333333333,
              "#9c179e"
             ],
             [
              0.4444444444444444,
              "#bd3786"
             ],
             [
              0.5555555555555556,
              "#d8576b"
             ],
             [
              0.6666666666666666,
              "#ed7953"
             ],
             [
              0.7777777777777778,
              "#fb9f3a"
             ],
             [
              0.8888888888888888,
              "#fdca26"
             ],
             [
              1,
              "#f0f921"
             ]
            ],
            "type": "heatmap"
           }
          ],
          "heatmapgl": [
           {
            "colorbar": {
             "outlinewidth": 0,
             "ticks": ""
            },
            "colorscale": [
             [
              0,
              "#0d0887"
             ],
             [
              0.1111111111111111,
              "#46039f"
             ],
             [
              0.2222222222222222,
              "#7201a8"
             ],
             [
              0.3333333333333333,
              "#9c179e"
             ],
             [
              0.4444444444444444,
              "#bd3786"
             ],
             [
              0.5555555555555556,
              "#d8576b"
             ],
             [
              0.6666666666666666,
              "#ed7953"
             ],
             [
              0.7777777777777778,
              "#fb9f3a"
             ],
             [
              0.8888888888888888,
              "#fdca26"
             ],
             [
              1,
              "#f0f921"
             ]
            ],
            "type": "heatmapgl"
           }
          ],
          "histogram": [
           {
            "marker": {
             "colorbar": {
              "outlinewidth": 0,
              "ticks": ""
             }
            },
            "type": "histogram"
           }
          ],
          "histogram2d": [
           {
            "colorbar": {
             "outlinewidth": 0,
             "ticks": ""
            },
            "colorscale": [
             [
              0,
              "#0d0887"
             ],
             [
              0.1111111111111111,
              "#46039f"
             ],
             [
              0.2222222222222222,
              "#7201a8"
             ],
             [
              0.3333333333333333,
              "#9c179e"
             ],
             [
              0.4444444444444444,
              "#bd3786"
             ],
             [
              0.5555555555555556,
              "#d8576b"
             ],
             [
              0.6666666666666666,
              "#ed7953"
             ],
             [
              0.7777777777777778,
              "#fb9f3a"
             ],
             [
              0.8888888888888888,
              "#fdca26"
             ],
             [
              1,
              "#f0f921"
             ]
            ],
            "type": "histogram2d"
           }
          ],
          "histogram2dcontour": [
           {
            "colorbar": {
             "outlinewidth": 0,
             "ticks": ""
            },
            "colorscale": [
             [
              0,
              "#0d0887"
             ],
             [
              0.1111111111111111,
              "#46039f"
             ],
             [
              0.2222222222222222,
              "#7201a8"
             ],
             [
              0.3333333333333333,
              "#9c179e"
             ],
             [
              0.4444444444444444,
              "#bd3786"
             ],
             [
              0.5555555555555556,
              "#d8576b"
             ],
             [
              0.6666666666666666,
              "#ed7953"
             ],
             [
              0.7777777777777778,
              "#fb9f3a"
             ],
             [
              0.8888888888888888,
              "#fdca26"
             ],
             [
              1,
              "#f0f921"
             ]
            ],
            "type": "histogram2dcontour"
           }
          ],
          "mesh3d": [
           {
            "colorbar": {
             "outlinewidth": 0,
             "ticks": ""
            },
            "type": "mesh3d"
           }
          ],
          "parcoords": [
           {
            "line": {
             "colorbar": {
              "outlinewidth": 0,
              "ticks": ""
             }
            },
            "type": "parcoords"
           }
          ],
          "pie": [
           {
            "automargin": true,
            "type": "pie"
           }
          ],
          "scatter": [
           {
            "marker": {
             "colorbar": {
              "outlinewidth": 0,
              "ticks": ""
             }
            },
            "type": "scatter"
           }
          ],
          "scatter3d": [
           {
            "line": {
             "colorbar": {
              "outlinewidth": 0,
              "ticks": ""
             }
            },
            "marker": {
             "colorbar": {
              "outlinewidth": 0,
              "ticks": ""
             }
            },
            "type": "scatter3d"
           }
          ],
          "scattercarpet": [
           {
            "marker": {
             "colorbar": {
              "outlinewidth": 0,
              "ticks": ""
             }
            },
            "type": "scattercarpet"
           }
          ],
          "scattergeo": [
           {
            "marker": {
             "colorbar": {
              "outlinewidth": 0,
              "ticks": ""
             }
            },
            "type": "scattergeo"
           }
          ],
          "scattergl": [
           {
            "marker": {
             "colorbar": {
              "outlinewidth": 0,
              "ticks": ""
             }
            },
            "type": "scattergl"
           }
          ],
          "scattermapbox": [
           {
            "marker": {
             "colorbar": {
              "outlinewidth": 0,
              "ticks": ""
             }
            },
            "type": "scattermapbox"
           }
          ],
          "scatterpolar": [
           {
            "marker": {
             "colorbar": {
              "outlinewidth": 0,
              "ticks": ""
             }
            },
            "type": "scatterpolar"
           }
          ],
          "scatterpolargl": [
           {
            "marker": {
             "colorbar": {
              "outlinewidth": 0,
              "ticks": ""
             }
            },
            "type": "scatterpolargl"
           }
          ],
          "scatterternary": [
           {
            "marker": {
             "colorbar": {
              "outlinewidth": 0,
              "ticks": ""
             }
            },
            "type": "scatterternary"
           }
          ],
          "surface": [
           {
            "colorbar": {
             "outlinewidth": 0,
             "ticks": ""
            },
            "colorscale": [
             [
              0,
              "#0d0887"
             ],
             [
              0.1111111111111111,
              "#46039f"
             ],
             [
              0.2222222222222222,
              "#7201a8"
             ],
             [
              0.3333333333333333,
              "#9c179e"
             ],
             [
              0.4444444444444444,
              "#bd3786"
             ],
             [
              0.5555555555555556,
              "#d8576b"
             ],
             [
              0.6666666666666666,
              "#ed7953"
             ],
             [
              0.7777777777777778,
              "#fb9f3a"
             ],
             [
              0.8888888888888888,
              "#fdca26"
             ],
             [
              1,
              "#f0f921"
             ]
            ],
            "type": "surface"
           }
          ],
          "table": [
           {
            "cells": {
             "fill": {
              "color": "#EBF0F8"
             },
             "line": {
              "color": "white"
             }
            },
            "header": {
             "fill": {
              "color": "#C8D4E3"
             },
             "line": {
              "color": "white"
             }
            },
            "type": "table"
           }
          ]
         },
         "layout": {
          "annotationdefaults": {
           "arrowcolor": "#2a3f5f",
           "arrowhead": 0,
           "arrowwidth": 1
          },
          "coloraxis": {
           "colorbar": {
            "outlinewidth": 0,
            "ticks": ""
           }
          },
          "colorscale": {
           "diverging": [
            [
             0,
             "#8e0152"
            ],
            [
             0.1,
             "#c51b7d"
            ],
            [
             0.2,
             "#de77ae"
            ],
            [
             0.3,
             "#f1b6da"
            ],
            [
             0.4,
             "#fde0ef"
            ],
            [
             0.5,
             "#f7f7f7"
            ],
            [
             0.6,
             "#e6f5d0"
            ],
            [
             0.7,
             "#b8e186"
            ],
            [
             0.8,
             "#7fbc41"
            ],
            [
             0.9,
             "#4d9221"
            ],
            [
             1,
             "#276419"
            ]
           ],
           "sequential": [
            [
             0,
             "#0d0887"
            ],
            [
             0.1111111111111111,
             "#46039f"
            ],
            [
             0.2222222222222222,
             "#7201a8"
            ],
            [
             0.3333333333333333,
             "#9c179e"
            ],
            [
             0.4444444444444444,
             "#bd3786"
            ],
            [
             0.5555555555555556,
             "#d8576b"
            ],
            [
             0.6666666666666666,
             "#ed7953"
            ],
            [
             0.7777777777777778,
             "#fb9f3a"
            ],
            [
             0.8888888888888888,
             "#fdca26"
            ],
            [
             1,
             "#f0f921"
            ]
           ],
           "sequentialminus": [
            [
             0,
             "#0d0887"
            ],
            [
             0.1111111111111111,
             "#46039f"
            ],
            [
             0.2222222222222222,
             "#7201a8"
            ],
            [
             0.3333333333333333,
             "#9c179e"
            ],
            [
             0.4444444444444444,
             "#bd3786"
            ],
            [
             0.5555555555555556,
             "#d8576b"
            ],
            [
             0.6666666666666666,
             "#ed7953"
            ],
            [
             0.7777777777777778,
             "#fb9f3a"
            ],
            [
             0.8888888888888888,
             "#fdca26"
            ],
            [
             1,
             "#f0f921"
            ]
           ]
          },
          "colorway": [
           "#636efa",
           "#EF553B",
           "#00cc96",
           "#ab63fa",
           "#FFA15A",
           "#19d3f3",
           "#FF6692",
           "#B6E880",
           "#FF97FF",
           "#FECB52"
          ],
          "font": {
           "color": "#2a3f5f"
          },
          "geo": {
           "bgcolor": "white",
           "lakecolor": "white",
           "landcolor": "#E5ECF6",
           "showlakes": true,
           "showland": true,
           "subunitcolor": "white"
          },
          "hoverlabel": {
           "align": "left"
          },
          "hovermode": "closest",
          "mapbox": {
           "style": "light"
          },
          "paper_bgcolor": "white",
          "plot_bgcolor": "#E5ECF6",
          "polar": {
           "angularaxis": {
            "gridcolor": "white",
            "linecolor": "white",
            "ticks": ""
           },
           "bgcolor": "#E5ECF6",
           "radialaxis": {
            "gridcolor": "white",
            "linecolor": "white",
            "ticks": ""
           }
          },
          "scene": {
           "xaxis": {
            "backgroundcolor": "#E5ECF6",
            "gridcolor": "white",
            "gridwidth": 2,
            "linecolor": "white",
            "showbackground": true,
            "ticks": "",
            "zerolinecolor": "white"
           },
           "yaxis": {
            "backgroundcolor": "#E5ECF6",
            "gridcolor": "white",
            "gridwidth": 2,
            "linecolor": "white",
            "showbackground": true,
            "ticks": "",
            "zerolinecolor": "white"
           },
           "zaxis": {
            "backgroundcolor": "#E5ECF6",
            "gridcolor": "white",
            "gridwidth": 2,
            "linecolor": "white",
            "showbackground": true,
            "ticks": "",
            "zerolinecolor": "white"
           }
          },
          "shapedefaults": {
           "line": {
            "color": "#2a3f5f"
           }
          },
          "ternary": {
           "aaxis": {
            "gridcolor": "white",
            "linecolor": "white",
            "ticks": ""
           },
           "baxis": {
            "gridcolor": "white",
            "linecolor": "white",
            "ticks": ""
           },
           "bgcolor": "#E5ECF6",
           "caxis": {
            "gridcolor": "white",
            "linecolor": "white",
            "ticks": ""
           }
          },
          "title": {
           "x": 0.05
          },
          "xaxis": {
           "automargin": true,
           "gridcolor": "white",
           "linecolor": "white",
           "ticks": "",
           "title": {
            "standoff": 15
           },
           "zerolinecolor": "white",
           "zerolinewidth": 2
          },
          "yaxis": {
           "automargin": true,
           "gridcolor": "white",
           "linecolor": "white",
           "ticks": "",
           "title": {
            "standoff": 15
           },
           "zerolinecolor": "white",
           "zerolinewidth": 2
          }
         }
        },
        "title": {
         "text": "Word2Vec Name Vector Similarity"
        },
        "width": 800
       }
      },
      "text/html": [
       "<div>\n",
       "        \n",
       "        \n",
       "            <div id=\"6f0063c7-579a-4d1a-beb6-4061536c3b5b\" class=\"plotly-graph-div\" style=\"height:800px; width:800px;\"></div>\n",
       "            <script type=\"text/javascript\">\n",
       "                require([\"plotly\"], function(Plotly) {\n",
       "                    window.PLOTLYENV=window.PLOTLYENV || {};\n",
       "                    \n",
       "                if (document.getElementById(\"6f0063c7-579a-4d1a-beb6-4061536c3b5b\")) {\n",
       "                    Plotly.newPlot(\n",
       "                        '6f0063c7-579a-4d1a-beb6-4061536c3b5b',\n",
       "                        [{\"hoverinfo\": \"text\", \"mode\": \"markers+text\", \"text\": [\"oliver\", \"mrbumble\", \"bill\", \"mrsowerberry\", \"mrssowerberry\", \"charlotte\", \"noah\", \"dodger\", \"fagin\", \"charley\", \"nancy\", \"mrbrownlow\"], \"textfont\": {\"size\": 8}, \"textposition\": [\"bottom left\", \"top left\", \"top left\", \"bottom left\", \"bottom left\", \"top right\", \"top left\", \"top left\", \"top left\", \"bottom left\", \"bottom left\", \"top right\"], \"type\": \"scatter\", \"x\": [8.787899017333984, 8.69996452331543, 8.089461326599121, 3.9004898071289062, 4.646270751953125, 6.160344123840332, 8.10862922668457, 7.86606502532959, 8.707194328308105, 7.01812744140625, 8.250622749328613, 8.253274917602539], \"y\": [-0.31081423163414, -0.3535197675228119, -0.523960530757904, 1.8554750680923462, 1.6279046535491943, -0.05084472894668579, -0.5343323349952698, -0.5962626934051514, -0.3449225127696991, -0.5792092680931091, -0.4917449355125427, -0.4917241036891937]}],\n",
       "                        {\"height\": 800, \"hovermode\": \"closest\", \"paper_bgcolor\": \"white\", \"plot_bgcolor\": \"white\", \"template\": {\"data\": {\"bar\": [{\"error_x\": {\"color\": \"#2a3f5f\"}, \"error_y\": {\"color\": \"#2a3f5f\"}, \"marker\": {\"line\": {\"color\": \"#E5ECF6\", \"width\": 0.5}}, \"type\": \"bar\"}], \"barpolar\": [{\"marker\": {\"line\": {\"color\": \"#E5ECF6\", \"width\": 0.5}}, \"type\": \"barpolar\"}], \"carpet\": [{\"aaxis\": {\"endlinecolor\": \"#2a3f5f\", \"gridcolor\": \"white\", \"linecolor\": \"white\", \"minorgridcolor\": \"white\", \"startlinecolor\": \"#2a3f5f\"}, \"baxis\": {\"endlinecolor\": \"#2a3f5f\", \"gridcolor\": \"white\", \"linecolor\": \"white\", \"minorgridcolor\": \"white\", \"startlinecolor\": \"#2a3f5f\"}, \"type\": \"carpet\"}], \"choropleth\": [{\"colorbar\": {\"outlinewidth\": 0, \"ticks\": \"\"}, \"type\": \"choropleth\"}], \"contour\": [{\"colorbar\": {\"outlinewidth\": 0, \"ticks\": \"\"}, \"colorscale\": [[0.0, \"#0d0887\"], [0.1111111111111111, \"#46039f\"], [0.2222222222222222, \"#7201a8\"], [0.3333333333333333, \"#9c179e\"], [0.4444444444444444, \"#bd3786\"], [0.5555555555555556, \"#d8576b\"], [0.6666666666666666, \"#ed7953\"], [0.7777777777777778, \"#fb9f3a\"], [0.8888888888888888, \"#fdca26\"], [1.0, \"#f0f921\"]], \"type\": \"contour\"}], \"contourcarpet\": [{\"colorbar\": {\"outlinewidth\": 0, \"ticks\": \"\"}, \"type\": \"contourcarpet\"}], \"heatmap\": [{\"colorbar\": {\"outlinewidth\": 0, \"ticks\": \"\"}, \"colorscale\": [[0.0, \"#0d0887\"], [0.1111111111111111, \"#46039f\"], [0.2222222222222222, \"#7201a8\"], [0.3333333333333333, \"#9c179e\"], [0.4444444444444444, \"#bd3786\"], [0.5555555555555556, \"#d8576b\"], [0.6666666666666666, \"#ed7953\"], [0.7777777777777778, \"#fb9f3a\"], [0.8888888888888888, \"#fdca26\"], [1.0, \"#f0f921\"]], \"type\": \"heatmap\"}], \"heatmapgl\": [{\"colorbar\": {\"outlinewidth\": 0, \"ticks\": \"\"}, \"colorscale\": [[0.0, \"#0d0887\"], [0.1111111111111111, \"#46039f\"], [0.2222222222222222, \"#7201a8\"], [0.3333333333333333, \"#9c179e\"], [0.4444444444444444, \"#bd3786\"], [0.5555555555555556, \"#d8576b\"], [0.6666666666666666, \"#ed7953\"], [0.7777777777777778, \"#fb9f3a\"], [0.8888888888888888, \"#fdca26\"], [1.0, \"#f0f921\"]], \"type\": \"heatmapgl\"}], \"histogram\": [{\"marker\": {\"colorbar\": {\"outlinewidth\": 0, \"ticks\": \"\"}}, \"type\": \"histogram\"}], \"histogram2d\": [{\"colorbar\": {\"outlinewidth\": 0, \"ticks\": \"\"}, \"colorscale\": [[0.0, \"#0d0887\"], [0.1111111111111111, \"#46039f\"], [0.2222222222222222, \"#7201a8\"], [0.3333333333333333, \"#9c179e\"], [0.4444444444444444, \"#bd3786\"], [0.5555555555555556, \"#d8576b\"], [0.6666666666666666, \"#ed7953\"], [0.7777777777777778, \"#fb9f3a\"], [0.8888888888888888, \"#fdca26\"], [1.0, \"#f0f921\"]], \"type\": \"histogram2d\"}], \"histogram2dcontour\": [{\"colorbar\": {\"outlinewidth\": 0, \"ticks\": \"\"}, \"colorscale\": [[0.0, \"#0d0887\"], [0.1111111111111111, \"#46039f\"], [0.2222222222222222, \"#7201a8\"], [0.3333333333333333, \"#9c179e\"], [0.4444444444444444, \"#bd3786\"], [0.5555555555555556, \"#d8576b\"], [0.6666666666666666, \"#ed7953\"], [0.7777777777777778, \"#fb9f3a\"], [0.8888888888888888, \"#fdca26\"], [1.0, \"#f0f921\"]], \"type\": \"histogram2dcontour\"}], \"mesh3d\": [{\"colorbar\": {\"outlinewidth\": 0, \"ticks\": \"\"}, \"type\": \"mesh3d\"}], \"parcoords\": [{\"line\": {\"colorbar\": {\"outlinewidth\": 0, \"ticks\": \"\"}}, \"type\": \"parcoords\"}], \"pie\": [{\"automargin\": true, \"type\": \"pie\"}], \"scatter\": [{\"marker\": {\"colorbar\": {\"outlinewidth\": 0, \"ticks\": \"\"}}, \"type\": \"scatter\"}], \"scatter3d\": [{\"line\": {\"colorbar\": {\"outlinewidth\": 0, \"ticks\": \"\"}}, \"marker\": {\"colorbar\": {\"outlinewidth\": 0, \"ticks\": \"\"}}, \"type\": \"scatter3d\"}], \"scattercarpet\": [{\"marker\": {\"colorbar\": {\"outlinewidth\": 0, \"ticks\": \"\"}}, \"type\": \"scattercarpet\"}], \"scattergeo\": [{\"marker\": {\"colorbar\": {\"outlinewidth\": 0, \"ticks\": \"\"}}, \"type\": \"scattergeo\"}], \"scattergl\": [{\"marker\": {\"colorbar\": {\"outlinewidth\": 0, \"ticks\": \"\"}}, \"type\": \"scattergl\"}], \"scattermapbox\": [{\"marker\": {\"colorbar\": {\"outlinewidth\": 0, \"ticks\": \"\"}}, \"type\": \"scattermapbox\"}], \"scatterpolar\": [{\"marker\": {\"colorbar\": {\"outlinewidth\": 0, \"ticks\": \"\"}}, \"type\": \"scatterpolar\"}], \"scatterpolargl\": [{\"marker\": {\"colorbar\": {\"outlinewidth\": 0, \"ticks\": \"\"}}, \"type\": \"scatterpolargl\"}], \"scatterternary\": [{\"marker\": {\"colorbar\": {\"outlinewidth\": 0, \"ticks\": \"\"}}, \"type\": \"scatterternary\"}], \"surface\": [{\"colorbar\": {\"outlinewidth\": 0, \"ticks\": \"\"}, \"colorscale\": [[0.0, \"#0d0887\"], [0.1111111111111111, \"#46039f\"], [0.2222222222222222, \"#7201a8\"], [0.3333333333333333, \"#9c179e\"], [0.4444444444444444, \"#bd3786\"], [0.5555555555555556, \"#d8576b\"], [0.6666666666666666, \"#ed7953\"], [0.7777777777777778, \"#fb9f3a\"], [0.8888888888888888, \"#fdca26\"], [1.0, \"#f0f921\"]], \"type\": \"surface\"}], \"table\": [{\"cells\": {\"fill\": {\"color\": \"#EBF0F8\"}, \"line\": {\"color\": \"white\"}}, \"header\": {\"fill\": {\"color\": \"#C8D4E3\"}, \"line\": {\"color\": \"white\"}}, \"type\": \"table\"}]}, \"layout\": {\"annotationdefaults\": {\"arrowcolor\": \"#2a3f5f\", \"arrowhead\": 0, \"arrowwidth\": 1}, \"coloraxis\": {\"colorbar\": {\"outlinewidth\": 0, \"ticks\": \"\"}}, \"colorscale\": {\"diverging\": [[0, \"#8e0152\"], [0.1, \"#c51b7d\"], [0.2, \"#de77ae\"], [0.3, \"#f1b6da\"], [0.4, \"#fde0ef\"], [0.5, \"#f7f7f7\"], [0.6, \"#e6f5d0\"], [0.7, \"#b8e186\"], [0.8, \"#7fbc41\"], [0.9, \"#4d9221\"], [1, \"#276419\"]], \"sequential\": [[0.0, \"#0d0887\"], [0.1111111111111111, \"#46039f\"], [0.2222222222222222, \"#7201a8\"], [0.3333333333333333, \"#9c179e\"], [0.4444444444444444, \"#bd3786\"], [0.5555555555555556, \"#d8576b\"], [0.6666666666666666, \"#ed7953\"], [0.7777777777777778, \"#fb9f3a\"], [0.8888888888888888, \"#fdca26\"], [1.0, \"#f0f921\"]], \"sequentialminus\": [[0.0, \"#0d0887\"], [0.1111111111111111, \"#46039f\"], [0.2222222222222222, \"#7201a8\"], [0.3333333333333333, \"#9c179e\"], [0.4444444444444444, \"#bd3786\"], [0.5555555555555556, \"#d8576b\"], [0.6666666666666666, \"#ed7953\"], [0.7777777777777778, \"#fb9f3a\"], [0.8888888888888888, \"#fdca26\"], [1.0, \"#f0f921\"]]}, \"colorway\": [\"#636efa\", \"#EF553B\", \"#00cc96\", \"#ab63fa\", \"#FFA15A\", \"#19d3f3\", \"#FF6692\", \"#B6E880\", \"#FF97FF\", \"#FECB52\"], \"font\": {\"color\": \"#2a3f5f\"}, \"geo\": {\"bgcolor\": \"white\", \"lakecolor\": \"white\", \"landcolor\": \"#E5ECF6\", \"showlakes\": true, \"showland\": true, \"subunitcolor\": \"white\"}, \"hoverlabel\": {\"align\": \"left\"}, \"hovermode\": \"closest\", \"mapbox\": {\"style\": \"light\"}, \"paper_bgcolor\": \"white\", \"plot_bgcolor\": \"#E5ECF6\", \"polar\": {\"angularaxis\": {\"gridcolor\": \"white\", \"linecolor\": \"white\", \"ticks\": \"\"}, \"bgcolor\": \"#E5ECF6\", \"radialaxis\": {\"gridcolor\": \"white\", \"linecolor\": \"white\", \"ticks\": \"\"}}, \"scene\": {\"xaxis\": {\"backgroundcolor\": \"#E5ECF6\", \"gridcolor\": \"white\", \"gridwidth\": 2, \"linecolor\": \"white\", \"showbackground\": true, \"ticks\": \"\", \"zerolinecolor\": \"white\"}, \"yaxis\": {\"backgroundcolor\": \"#E5ECF6\", \"gridcolor\": \"white\", \"gridwidth\": 2, \"linecolor\": \"white\", \"showbackground\": true, \"ticks\": \"\", \"zerolinecolor\": \"white\"}, \"zaxis\": {\"backgroundcolor\": \"#E5ECF6\", \"gridcolor\": \"white\", \"gridwidth\": 2, \"linecolor\": \"white\", \"showbackground\": true, \"ticks\": \"\", \"zerolinecolor\": \"white\"}}, \"shapedefaults\": {\"line\": {\"color\": \"#2a3f5f\"}}, \"ternary\": {\"aaxis\": {\"gridcolor\": \"white\", \"linecolor\": \"white\", \"ticks\": \"\"}, \"baxis\": {\"gridcolor\": \"white\", \"linecolor\": \"white\", \"ticks\": \"\"}, \"bgcolor\": \"#E5ECF6\", \"caxis\": {\"gridcolor\": \"white\", \"linecolor\": \"white\", \"ticks\": \"\"}}, \"title\": {\"x\": 0.05}, \"xaxis\": {\"automargin\": true, \"gridcolor\": \"white\", \"linecolor\": \"white\", \"ticks\": \"\", \"title\": {\"standoff\": 15}, \"zerolinecolor\": \"white\", \"zerolinewidth\": 2}, \"yaxis\": {\"automargin\": true, \"gridcolor\": \"white\", \"linecolor\": \"white\", \"ticks\": \"\", \"title\": {\"standoff\": 15}, \"zerolinecolor\": \"white\", \"zerolinewidth\": 2}}}, \"title\": {\"text\": \"Word2Vec Name Vector Similarity\"}, \"width\": 800},\n",
       "                        {\"responsive\": true}\n",
       "                    ).then(function(){\n",
       "                            \n",
       "var gd = document.getElementById('6f0063c7-579a-4d1a-beb6-4061536c3b5b');\n",
       "var x = new MutationObserver(function (mutations, observer) {{\n",
       "        var display = window.getComputedStyle(gd).display;\n",
       "        if (!display || display === 'none') {{\n",
       "            console.log([gd, 'removed!']);\n",
       "            Plotly.purge(gd);\n",
       "            observer.disconnect();\n",
       "        }}\n",
       "}});\n",
       "\n",
       "// Listen for the removal of the full notebook cells\n",
       "var notebookContainer = gd.closest('#notebook-container');\n",
       "if (notebookContainer) {{\n",
       "    x.observe(notebookContainer, {childList: true});\n",
       "}}\n",
       "\n",
       "// Listen for the clearing of the current output cell\n",
       "var outputEl = gd.closest('.output');\n",
       "if (outputEl) {{\n",
       "    x.observe(outputEl, {childList: true});\n",
       "}}\n",
       "\n",
       "                        })\n",
       "                };\n",
       "                });\n",
       "            </script>\n",
       "        </div>"
      ]
     },
     "metadata": {},
     "output_type": "display_data"
    }
   ],
   "source": [
    "character_list = ['oliver',\n",
    "                  'fagin',\n",
    "                  'nancy',\n",
    "                  'bill',\n",
    "                  'dodger',\n",
    "                  'mrBrownlow',\n",
    "                  'mrbumble',\n",
    "                  'charley',\n",
    "                  'dodger',\n",
    "                  'mrsowerberry',\n",
    "                  'mrssowerberry',\n",
    "                  'noah',\n",
    "                  'charlotte']\n",
    "\n",
    "character_list = [x.lower() for x in character_list]\n",
    "\n",
    "df = w2v_df[w2v_df['label'].isin(character_list)]\n",
    "\n",
    "\n",
    "text_pos = [x for x in np.random.choice(['top left', \n",
    "                                         'bottom left',\n",
    "                                         'top right',\n",
    "                                         'bottom right'], \n",
    "                                          len(df),\n",
    "                                          p=[.2,.3,.3,.2])]\n",
    "\n",
    "\n",
    "trace = go.Scatter(x=df['x'],\n",
    "                   y=df['y'],\n",
    "                   mode='markers+text', \n",
    "                   textposition=text_pos,\n",
    "                   text=df['label'],\n",
    "                   textfont=dict(size=8),\n",
    "                   hoverinfo='text')\n",
    "\n",
    "\n",
    "\n",
    "fig = go.Figure([trace])\n",
    "\n",
    "fig.update_layout(go.Layout(\n",
    "    title='Word2Vec Name Vector Similarity',\n",
    "    ),\n",
    "    hovermode='closest',\n",
    "    plot_bgcolor='white',\n",
    "    paper_bgcolor='white',\n",
    "    width=800,\n",
    "    height=800\n",
    ")\n"
   ]
  },
  {
   "cell_type": "code",
   "execution_count": null,
   "metadata": {},
   "outputs": [],
   "source": []
  }
 ],
 "metadata": {
  "kernelspec": {
   "display_name": "Python 3.7.4 64-bit ('base': conda)",
   "language": "python",
   "name": "python37464bitbaseconda0f2540ca00c14c548fd578f4a6b1a719"
  },
  "language_info": {
   "codemirror_mode": {
    "name": "ipython",
    "version": 3
   },
   "file_extension": ".py",
   "mimetype": "text/x-python",
   "name": "python",
   "nbconvert_exporter": "python",
   "pygments_lexer": "ipython3",
   "version": "3.7.6"
  },
  "toc": {
   "base_numbering": 1,
   "nav_menu": {},
   "number_sections": true,
   "sideBar": true,
   "skip_h1_title": false,
   "title_cell": "Table of Contents",
   "title_sidebar": "Contents",
   "toc_cell": false,
   "toc_position": {},
   "toc_section_display": true,
   "toc_window_display": false
  }
 },
 "nbformat": 4,
 "nbformat_minor": 2
}
