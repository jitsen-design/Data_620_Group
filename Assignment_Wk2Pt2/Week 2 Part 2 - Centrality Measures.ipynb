{
 "cells": [
  {
   "cell_type": "markdown",
   "metadata": {},
   "source": [
    "# Data 620 Assignment: Centrality Measures\n",
    "\n",
    "Jithendra Seneviratne, Sheryl Piechocki \n",
    "\n",
    "June 13, 2020\n"
   ]
  },
  {
   "cell_type": "markdown",
   "metadata": {},
   "source": [
    "### Dataset\n",
    "\n",
    "We plan to use a dataset that contains network data regarding a law partnership.  The data is from SG&R law firm, a U.S. corporate law firm in New England.  It contains network measurements for 71 attorneys from 1988-1991.   There are three types of relationships measured, i.e. coworker, advice, and friendship.  Attorneys are classified as partners or associates and the data contains gender classification.\n",
    "\n",
    "#### Coworker Network\n",
    "\n",
    "Attorneys were asked to go through a list of names and mark off those that they had worked with in the last year, either working on the same case or reading/using some of each other's work product.\n",
    "\n",
    "#### Advice Network\n",
    "\n",
    "Attorneys were asked to go through a list of names and mark off those that they had gone to for professional advice in the last year.\n",
    "\n",
    "#### Friendship Network\n",
    "\n",
    "Attorneys were asked to go through a list of names and mark off those that they had socialized with outside of work.  \n",
    "\n",
    "Source:  [http://moreno.ss.uci.edu/data.html#lazega](http://moreno.ss.uci.edu/data.html#lazega)\n"
   ]
  },
  {
   "cell_type": "markdown",
   "metadata": {},
   "source": [
    "### Analysis\n",
    "\n",
    "The network data file contains 3 71x71 matrices, one for each network type.  A separate file of a 71 x 7 matrix, contains the gender for the attorney (among other attributes).  These datasets will be loaded for analysis.\n",
    "\n",
    "Degree centrality and eigenvector centrality will be calculated for the nodes in each of the network types.\n",
    "These centrality measures will then be compared by gender.\n",
    "Hypothesis testing will be performed to determine if there are statistically significant differences in centrality measures by gender.\n",
    "\n"
   ]
  }
 ],
 "metadata": {
  "kernelspec": {
   "display_name": "Python 3.7.4 64-bit ('base': conda)",
   "language": "python",
   "name": "python37464bitbaseconda0f2540ca00c14c548fd578f4a6b1a719"
  },
  "language_info": {
   "codemirror_mode": {
    "name": "ipython",
    "version": 3
   },
   "file_extension": ".py",
   "mimetype": "text/x-python",
   "name": "python",
   "nbconvert_exporter": "python",
   "pygments_lexer": "ipython3",
   "version": "3.7.6"
  }
 },
 "nbformat": 4,
 "nbformat_minor": 4
}
