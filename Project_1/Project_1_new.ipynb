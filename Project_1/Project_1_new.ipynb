{
 "cells": [
  {
   "cell_type": "markdown",
   "metadata": {},
   "source": [
    "### Data 620 Project 1\n",
    "#### Centrality Measures Across Categorical Groups\n",
    "\n",
    "#### Jit and Sheryl\n",
    "June 17, 2020\n",
    "\n",
    "**Dataset** \n",
    "The data used in this project is from SG&R law firm, a U.S. corporate law firm in New England. It contains network measurements for 71 attorneys from 1988-1991. There are three types of relationships measured, i.e. co-worker, advice, and social. Attorneys are classified as partners or associates and the data contains gender classification.\n",
    "\n",
    "**Co-worker Network** \n",
    "Attorneys were asked to go through a list of names and mark off those that they had worked with in the last year, either working on the same case or reading/using some of each other's work product.\n",
    "\n",
    "**Advice Network** \n",
    "Attorneys were asked to go through a list of names and mark off those that they had gone to for professional advice in the last year.\n",
    "\n",
    "**Social Network**\n",
    "Attorneys were asked to go through a list of names and mark off those that they had socialized with outside of work.\n",
    "\n",
    "Source: http://moreno.ss.uci.edu/data.html#lazega\n",
    "\n",
    "**Analysis** \n",
    "The network data file contains 3 71x71 matrices, one for each network type. A separate file of a 71 x 7 matrix, contains the gender for the attorney (among other attributes). These datasets will be loaded for analysis.\n",
    "\n",
    "Degree centrality and eigenvector centrality will be calculated for the nodes in each of the network types. These centrality measures will then be compared by gender. Hypothesis testing will be performed to determine if there are statistically significant differences in centrality measures by gender.\n"
   ]
  },
  {
   "cell_type": "code",
   "execution_count": 47,
   "metadata": {
    "ExecuteTime": {
     "end_time": "2020-06-18T19:02:36.469834Z",
     "start_time": "2020-06-18T19:02:36.457177Z"
    }
   },
   "outputs": [
    {
     "data": {
      "text/html": [
       "        <script type=\"text/javascript\">\n",
       "        window.PlotlyConfig = {MathJaxConfig: 'local'};\n",
       "        if (window.MathJax) {MathJax.Hub.Config({SVG: {font: \"STIX-Web\"}});}\n",
       "        if (typeof require !== 'undefined') {\n",
       "        require.undef(\"plotly\");\n",
       "        requirejs.config({\n",
       "            paths: {\n",
       "                'plotly': ['https://cdn.plot.ly/plotly-latest.min']\n",
       "            }\n",
       "        });\n",
       "        require(['plotly'], function(Plotly) {\n",
       "            window._Plotly = Plotly;\n",
       "        });\n",
       "        }\n",
       "        </script>\n",
       "        "
      ]
     },
     "metadata": {},
     "output_type": "display_data"
    }
   ],
   "source": [
    "import json\n",
    "import networkx as nx\n",
    "import pandas as pd\n",
    "import numpy as np\n",
    "import matplotlib.pyplot as plt\n",
    "import seaborn as sns\n",
    "import plotly as py\n",
    "import plotly.graph_objs as go \n",
    "from plotly.offline import init_notebook_mode, plot, iplot\n",
    "init_notebook_mode(connected=True)\n",
    "from pandas import DataFrame\n",
    "from scipy import stats"
   ]
  },
  {
   "cell_type": "markdown",
   "metadata": {},
   "source": [
    "### Read in data and map attributes to individuals"
   ]
  },
  {
   "cell_type": "code",
   "execution_count": 48,
   "metadata": {
    "ExecuteTime": {
     "end_time": "2020-06-18T19:03:56.244825Z",
     "start_time": "2020-06-18T19:02:38.098040Z"
    }
   },
   "outputs": [
    {
     "name": "stderr",
     "output_type": "stream",
     "text": [
      "/Users/jitsen/anaconda/envs/test-env/lib/python3.7/site-packages/ipykernel_launcher.py:8: SettingWithCopyWarning:\n",
      "\n",
      "\n",
      "A value is trying to be set on a copy of a slice from a DataFrame.\n",
      "Try using .loc[row_indexer,col_indexer] = value instead\n",
      "\n",
      "See the caveats in the documentation: https://pandas.pydata.org/pandas-docs/stable/user_guide/indexing.html#returning-a-view-versus-a-copy\n",
      "\n"
     ]
    }
   ],
   "source": [
    "df_rel = pd.read_table(\"http://moreno.ss.uci.edu/lazega.dat\",\n",
    "                   skiprows=7) # Get relationship data\n",
    "df_map = pd.read_table(\"http://moreno.ss.uci.edu/lazatt.dat\")\n",
    "df_cols = df_map[3:10] # dataframe with column labels\n",
    "df_vals = df_map[11:] # dataframe with column mapping values\n",
    "df_rel['DATA:'] = df_rel['DATA:'].apply(lambda x: x.split())\n",
    "df_rel = df_rel['DATA:'].apply(pd.Series)\n",
    "df_vals['DL'] = df_vals['DL'].apply(lambda x: x.split())\n",
    "df_vals = df_vals['DL'].apply(pd.Series)\n",
    "df_vals.columns = ['INDEX'] + df_cols['DL'].tolist() "
   ]
  },
  {
   "cell_type": "code",
   "execution_count": 49,
   "metadata": {
    "ExecuteTime": {
     "end_time": "2020-06-18T19:03:56.262297Z",
     "start_time": "2020-06-18T19:03:56.247289Z"
    }
   },
   "outputs": [
    {
     "data": {
      "text/html": [
       "<div>\n",
       "<style scoped>\n",
       "    .dataframe tbody tr th:only-of-type {\n",
       "        vertical-align: middle;\n",
       "    }\n",
       "\n",
       "    .dataframe tbody tr th {\n",
       "        vertical-align: top;\n",
       "    }\n",
       "\n",
       "    .dataframe thead th {\n",
       "        text-align: right;\n",
       "    }\n",
       "</style>\n",
       "<table border=\"1\" class=\"dataframe\">\n",
       "  <thead>\n",
       "    <tr style=\"text-align: right;\">\n",
       "      <th></th>\n",
       "      <th>INDEX</th>\n",
       "      <th>STATUS</th>\n",
       "      <th>GENDER</th>\n",
       "      <th>OFFICE</th>\n",
       "      <th>SENIORITY</th>\n",
       "      <th>AGE</th>\n",
       "      <th>PRACTICE</th>\n",
       "      <th>LAW_SCHOOL</th>\n",
       "    </tr>\n",
       "  </thead>\n",
       "  <tbody>\n",
       "    <tr>\n",
       "      <th>11</th>\n",
       "      <td>01</td>\n",
       "      <td>1</td>\n",
       "      <td>1</td>\n",
       "      <td>1</td>\n",
       "      <td>31</td>\n",
       "      <td>64</td>\n",
       "      <td>1</td>\n",
       "      <td>1</td>\n",
       "    </tr>\n",
       "    <tr>\n",
       "      <th>12</th>\n",
       "      <td>02</td>\n",
       "      <td>1</td>\n",
       "      <td>1</td>\n",
       "      <td>1</td>\n",
       "      <td>32</td>\n",
       "      <td>62</td>\n",
       "      <td>2</td>\n",
       "      <td>1</td>\n",
       "    </tr>\n",
       "    <tr>\n",
       "      <th>13</th>\n",
       "      <td>03</td>\n",
       "      <td>1</td>\n",
       "      <td>1</td>\n",
       "      <td>2</td>\n",
       "      <td>13</td>\n",
       "      <td>67</td>\n",
       "      <td>1</td>\n",
       "      <td>1</td>\n",
       "    </tr>\n",
       "    <tr>\n",
       "      <th>14</th>\n",
       "      <td>04</td>\n",
       "      <td>1</td>\n",
       "      <td>1</td>\n",
       "      <td>1</td>\n",
       "      <td>31</td>\n",
       "      <td>59</td>\n",
       "      <td>2</td>\n",
       "      <td>3</td>\n",
       "    </tr>\n",
       "    <tr>\n",
       "      <th>15</th>\n",
       "      <td>05</td>\n",
       "      <td>1</td>\n",
       "      <td>1</td>\n",
       "      <td>2</td>\n",
       "      <td>31</td>\n",
       "      <td>59</td>\n",
       "      <td>1</td>\n",
       "      <td>2</td>\n",
       "    </tr>\n",
       "  </tbody>\n",
       "</table>\n",
       "</div>"
      ],
      "text/plain": [
       "   INDEX STATUS GENDER OFFICE SENIORITY AGE PRACTICE LAW_SCHOOL\n",
       "11    01      1      1      1        31  64        1          1\n",
       "12    02      1      1      1        32  62        2          1\n",
       "13    03      1      1      2        13  67        1          1\n",
       "14    04      1      1      1        31  59        2          3\n",
       "15    05      1      1      2        31  59        1          2"
      ]
     },
     "execution_count": 49,
     "metadata": {},
     "output_type": "execute_result"
    }
   ],
   "source": [
    "df_vals.head()"
   ]
  },
  {
   "cell_type": "markdown",
   "metadata": {},
   "source": [
    "### Build mapping dictionaries for gender and status"
   ]
  },
  {
   "cell_type": "code",
   "execution_count": 50,
   "metadata": {
    "ExecuteTime": {
     "end_time": "2020-06-18T19:03:56.270903Z",
     "start_time": "2020-06-18T19:03:56.265029Z"
    }
   },
   "outputs": [],
   "source": [
    "gender_dict = {int(k)-1:int(v) for k,v in zip(df_vals['INDEX'],df_vals['GENDER'])}\n",
    "status_dict = {int(k)-1:int(v) for k,v in zip(df_vals['INDEX'],df_vals['STATUS'])}"
   ]
  },
  {
   "cell_type": "markdown",
   "metadata": {},
   "source": [
    "### Look at Social Network\n",
    "\n",
    "#### Build social network graph"
   ]
  },
  {
   "cell_type": "code",
   "execution_count": 51,
   "metadata": {
    "ExecuteTime": {
     "end_time": "2020-06-18T19:03:56.290100Z",
     "start_time": "2020-06-18T19:03:56.273013Z"
    }
   },
   "outputs": [],
   "source": [
    "df_social = df_rel[71:142].astype(int).reset_index(drop=True)\n",
    "\n",
    "G_social=nx.from_pandas_adjacency(df_social)\n",
    "for node in list(G_social.nodes):\n",
    "    G_social.nodes[node]['gender'] = gender_dict[node]\n",
    "    G_social.nodes[node]['status'] = status_dict[node]"
   ]
  },
  {
   "cell_type": "markdown",
   "metadata": {},
   "source": [
    "#### Visualize Social Network\n",
    "The visualization of the social network by gender is below.  We see there are two individuals that are not connected to the rest of the network, one male and one female.  Also, there are more males than females and by looking at the size of the node, we see that males have higher degrees than females."
   ]
  },
  {
   "cell_type": "markdown",
   "metadata": {},
   "source": [
    "### Social Network - by Gender\n",
    "\n",
    "Orange is male, purple is female. Size indicates degree.\n",
    "\n",
    "![title](graphics/social_gender.png)"
   ]
  },
  {
   "cell_type": "markdown",
   "metadata": {},
   "source": [
    "The visualization of the social network by status is below.  We see the two individuals that are not connected to the rest of the network are associates.  Looking at the size of the node, it appears that partners have higher degrees than associates."
   ]
  },
  {
   "cell_type": "markdown",
   "metadata": {},
   "source": [
    "### Social Network - Status\n",
    "\n",
    "Brown is partner, green is associate. Size indicates degree\n",
    "\n",
    "![title](graphics/social_status.png)"
   ]
  },
  {
   "cell_type": "markdown",
   "metadata": {},
   "source": [
    "#### Get centrality\n",
    "Degree centrality and eigenvector centrality is calculated for each node"
   ]
  },
  {
   "cell_type": "code",
   "execution_count": 52,
   "metadata": {
    "ExecuteTime": {
     "end_time": "2020-06-18T19:03:56.318506Z",
     "start_time": "2020-06-18T19:03:56.292624Z"
    }
   },
   "outputs": [
    {
     "name": "stdout",
     "output_type": "stream",
     "text": [
      "Social Network: Eigenvector Centrality\n",
      "---------------------------------------------------------------\n",
      "\n",
      "Gender : 1\n",
      "[(23, 0.265), (25, 0.25), (12, 0.245), (16, 0.236), (3, 0.216)]\n",
      "Status : 1\n",
      "[(23, 0.265), (25, 0.25), (12, 0.245), (16, 0.236), (26, 0.221)]\n",
      "---------------------------------------------------------------\n",
      "\n",
      "Gender : 2\n",
      "[(26, 0.221), (42, 0.174), (37, 0.157), (28, 0.138), (38, 0.135)]\n",
      "Status : 2\n",
      "[(64, 0.196), (40, 0.177), (42, 0.174), (37, 0.157), (38, 0.135)]\n",
      "---------------------------------------------------------------\n",
      "\n",
      "Social Network: Degree Centrality: All\n",
      "[(30, 0.4), (16, 0.357), (23, 0.357), (12, 0.343), (25, 0.343)]\n"
     ]
    }
   ],
   "source": [
    "social_eig_centrality = nx.eigenvector_centrality(G_social, max_iter=1000)\n",
    "social_deg_centrality = nx.degree_centrality(G_social)\n",
    "\n",
    "print('Social Network: Eigenvector Centrality')\n",
    "print('---------------------------------------------------------------')\n",
    "print('')\n",
    "\n",
    "for attribute in [1,2]:\n",
    "    \n",
    "    gender_centrality = {k:v for k,v in social_eig_centrality.items() if gender_dict[k]==attribute}\n",
    "    status_centrality = {k:v for k,v in social_eig_centrality.items() if status_dict[k]==attribute}\n",
    "    \n",
    "    print('Gender : {}'.format(attribute))\n",
    "    print(sorted([(round(x,3),round(y,3)) \n",
    "                  for x,y in gender_centrality.items()], \n",
    "                  key=lambda x: x[1], reverse=True)[:5])\n",
    "    \n",
    "    print('Status : {}'.format(attribute))\n",
    "    print(sorted([(round(x,3),round(y,3)) \n",
    "                  for x,y in status_centrality.items()], \n",
    "                  key=lambda x: x[1], reverse=True)[:5])\n",
    "    print('---------------------------------------------------------------')\n",
    "    print('')\n",
    "    \n",
    "print('Social Network: Degree Centrality: All')\n",
    "print(sorted([(round(x,3),round(y,3)) \n",
    "               for x,y in social_deg_centrality.items()], \n",
    "               key=lambda x: x[1], reverse=True)[:5])"
   ]
  },
  {
   "cell_type": "markdown",
   "metadata": {},
   "source": [
    "In the social network, the top 5 males with the highest eigenvector centrality are 23, 25, 12, 16, and 3.  Four of these top 5 have status as a partner in the law firm.  The top 5 females with the highest eigenvector centrality are 26, 42, 37, 28, and 38.  Note that the values for the top females are lower than those of the top 5 males.  \n",
    "\n",
    "Looking at degree centrality for all nodes, we see some familiar individuals.  16, 23, 12, and 25 were also in the top 5 males of eigenvector centrality.  Node 30 has the highest degree centrality, but is not in the top for eigenvector centrality.  Looking back at the visualization we see that node 30 is also male."
   ]
  },
  {
   "cell_type": "code",
   "execution_count": 53,
   "metadata": {
    "ExecuteTime": {
     "end_time": "2020-06-18T19:03:56.333536Z",
     "start_time": "2020-06-18T19:03:56.320889Z"
    }
   },
   "outputs": [],
   "source": [
    "social_df = pd.DataFrame(np.array([list(social_eig_centrality.values()),\n",
    "                                   list(social_deg_centrality.values()),\n",
    "                                   list(social_deg_centrality.keys())]).T,\n",
    "                          columns = ['eig_centrality', 'deg_centrality','id'])\n",
    "\n",
    "social_df['gender'] = social_df['id'].map(gender_dict)\n",
    "social_df['status'] = social_df['id'].map(status_dict)"
   ]
  },
  {
   "cell_type": "markdown",
   "metadata": {},
   "source": [
    "#### Scatter Plot of Social Network Eigenvector Centrality by Gender "
   ]
  },
  {
   "cell_type": "code",
   "execution_count": 114,
   "metadata": {
    "ExecuteTime": {
     "end_time": "2020-06-19T01:40:24.860984Z",
     "start_time": "2020-06-19T01:40:24.683305Z"
    }
   },
   "outputs": [
    {
     "data": {
      "application/vnd.plotly.v1+json": {
       "config": {
        "plotlyServerURL": "https://plot.ly"
       },
       "data": [
        {
         "hoverinfo": "text",
         "marker": {
          "color": "lightsalmon",
          "size": 14,
          "symbol": "circle"
         },
         "mode": "markers+text",
         "name": "Male",
         "text": [
          0,
          1,
          2,
          3,
          4,
          5,
          6,
          7,
          8,
          9,
          10,
          11,
          12,
          13,
          14,
          15,
          16,
          17,
          18,
          19,
          20,
          21,
          22,
          23,
          24,
          25,
          27,
          29,
          30,
          31,
          32,
          34,
          35,
          36,
          39,
          40,
          41,
          44,
          46,
          48,
          49,
          51,
          52,
          53,
          54,
          55,
          57,
          61,
          62,
          64,
          65,
          67,
          69
         ],
         "textfont": {
          "color": "black",
          "size": 8
         },
         "type": "scatter",
         "x": [
          0.11428571428571428,
          0.14285714285714285,
          0.05714285714285714,
          0.3142857142857143,
          0.08571428571428572,
          0.02857142857142857,
          0.04285714285714286,
          0.09999999999999999,
          0.19999999999999998,
          0.19999999999999998,
          0.19999999999999998,
          0.3142857142857143,
          0.34285714285714286,
          0.12857142857142856,
          0.05714285714285714,
          0.18571428571428572,
          0.35714285714285715,
          0.12857142857142856,
          0.08571428571428572,
          0.19999999999999998,
          0.21428571428571427,
          0.15714285714285714,
          0.09999999999999999,
          0.35714285714285715,
          0.21428571428571427,
          0.34285714285714286,
          0.18571428571428572,
          0.11428571428571428,
          0.39999999999999997,
          0.09999999999999999,
          0.18571428571428572,
          0.18571428571428572,
          0.18571428571428572,
          0.014285714285714285,
          0.18571428571428572,
          0.2857142857142857,
          0.22857142857142856,
          0.11428571428571428,
          0,
          0.08571428571428572,
          0.12857142857142856,
          0.19999999999999998,
          0.04285714285714286,
          0.17142857142857143,
          0.04285714285714286,
          0.17142857142857143,
          0.19999999999999998,
          0.07142857142857142,
          0.02857142857142857,
          0.32857142857142857,
          0.22857142857142856,
          0.12857142857142856,
          0.09999999999999999
         ],
         "y": [
          0.08492241311358159,
          0.10590758887818771,
          0.022751742690168452,
          0.21624263854953574,
          0.03941784427208795,
          0.006437269898622227,
          0.008464753008766594,
          0.07715468427599077,
          0.16862103727735933,
          0.15916977144339087,
          0.16548165543399027,
          0.20652099231097815,
          0.24474426599878243,
          0.06338636473923558,
          0.03568626810212871,
          0.11279555952108745,
          0.2359880893652053,
          0.03876653095197901,
          0.04177135167144181,
          0.1524611409087194,
          0.17518420124411174,
          0.1207842260556272,
          0.09868361054219975,
          0.2654436930319754,
          0.14715416881486548,
          0.24994142671366,
          0.07295574271162476,
          0.07811746673867698,
          0.2144748204762635,
          0.04052090995173119,
          0.07215736439705273,
          0.056245206018310054,
          0.11919067036214459,
          0.0022487778262687964,
          0.13449183387983293,
          0.17658392228335748,
          0.12046974065881792,
          0.04817509075927711,
          1.4959770880750038e-28,
          0.052824260140099714,
          0.03909848554913524,
          0.12684079249420901,
          0.028852047447317366,
          0.0885003513313582,
          0.019739883245598177,
          0.08416545069408624,
          0.07862264512902645,
          0.04056093337590119,
          0.01806254881661278,
          0.195704931419945,
          0.10860972129740494,
          0.0460256371525812,
          0.022930953611588003
         ]
        },
        {
         "marker": {
          "color": "purple",
          "size": 14,
          "symbol": "circle"
         },
         "mode": "markers+text",
         "name": "Female",
         "text": [
          26,
          28,
          33,
          37,
          38,
          42,
          43,
          45,
          47,
          50,
          56,
          58,
          59,
          60,
          63,
          66,
          68,
          70
         ],
         "textfont": {
          "color": "white",
          "size": 8
         },
         "type": "scatter",
         "x": [
          0.2714285714285714,
          0.18571428571428572,
          0.17142857142857143,
          0.21428571428571427,
          0.21428571428571427,
          0.2571428571428571,
          0,
          0.08571428571428572,
          0.09999999999999999,
          0.11428571428571428,
          0.21428571428571427,
          0.08571428571428572,
          0.11428571428571428,
          0.04285714285714286,
          0.3,
          0.07142857142857142,
          0.08571428571428572,
          0.08571428571428572
         ],
         "y": [
          0.22050295510413453,
          0.13834755687069933,
          0.11533438265212054,
          0.15670888330619992,
          0.13510382725781966,
          0.1738119395985584,
          1.4959770880750038e-28,
          0.029782307371126995,
          0.055119155300493765,
          0.0357691601051182,
          0.11876082541916727,
          0.02692785524565825,
          0.03329731467356897,
          0.016337782218193448,
          0.10720033079871749,
          0.013720037964824567,
          0.02007507224669617,
          0.02007507224669617
         ]
        }
       ],
       "layout": {
        "hovermode": "closest",
        "paper_bgcolor": "white",
        "plot_bgcolor": "white",
        "template": {
         "data": {
          "bar": [
           {
            "error_x": {
             "color": "#2a3f5f"
            },
            "error_y": {
             "color": "#2a3f5f"
            },
            "marker": {
             "line": {
              "color": "#E5ECF6",
              "width": 0.5
             }
            },
            "type": "bar"
           }
          ],
          "barpolar": [
           {
            "marker": {
             "line": {
              "color": "#E5ECF6",
              "width": 0.5
             }
            },
            "type": "barpolar"
           }
          ],
          "carpet": [
           {
            "aaxis": {
             "endlinecolor": "#2a3f5f",
             "gridcolor": "white",
             "linecolor": "white",
             "minorgridcolor": "white",
             "startlinecolor": "#2a3f5f"
            },
            "baxis": {
             "endlinecolor": "#2a3f5f",
             "gridcolor": "white",
             "linecolor": "white",
             "minorgridcolor": "white",
             "startlinecolor": "#2a3f5f"
            },
            "type": "carpet"
           }
          ],
          "choropleth": [
           {
            "colorbar": {
             "outlinewidth": 0,
             "ticks": ""
            },
            "type": "choropleth"
           }
          ],
          "contour": [
           {
            "colorbar": {
             "outlinewidth": 0,
             "ticks": ""
            },
            "colorscale": [
             [
              0,
              "#0d0887"
             ],
             [
              0.1111111111111111,
              "#46039f"
             ],
             [
              0.2222222222222222,
              "#7201a8"
             ],
             [
              0.3333333333333333,
              "#9c179e"
             ],
             [
              0.4444444444444444,
              "#bd3786"
             ],
             [
              0.5555555555555556,
              "#d8576b"
             ],
             [
              0.6666666666666666,
              "#ed7953"
             ],
             [
              0.7777777777777778,
              "#fb9f3a"
             ],
             [
              0.8888888888888888,
              "#fdca26"
             ],
             [
              1,
              "#f0f921"
             ]
            ],
            "type": "contour"
           }
          ],
          "contourcarpet": [
           {
            "colorbar": {
             "outlinewidth": 0,
             "ticks": ""
            },
            "type": "contourcarpet"
           }
          ],
          "heatmap": [
           {
            "colorbar": {
             "outlinewidth": 0,
             "ticks": ""
            },
            "colorscale": [
             [
              0,
              "#0d0887"
             ],
             [
              0.1111111111111111,
              "#46039f"
             ],
             [
              0.2222222222222222,
              "#7201a8"
             ],
             [
              0.3333333333333333,
              "#9c179e"
             ],
             [
              0.4444444444444444,
              "#bd3786"
             ],
             [
              0.5555555555555556,
              "#d8576b"
             ],
             [
              0.6666666666666666,
              "#ed7953"
             ],
             [
              0.7777777777777778,
              "#fb9f3a"
             ],
             [
              0.8888888888888888,
              "#fdca26"
             ],
             [
              1,
              "#f0f921"
             ]
            ],
            "type": "heatmap"
           }
          ],
          "heatmapgl": [
           {
            "colorbar": {
             "outlinewidth": 0,
             "ticks": ""
            },
            "colorscale": [
             [
              0,
              "#0d0887"
             ],
             [
              0.1111111111111111,
              "#46039f"
             ],
             [
              0.2222222222222222,
              "#7201a8"
             ],
             [
              0.3333333333333333,
              "#9c179e"
             ],
             [
              0.4444444444444444,
              "#bd3786"
             ],
             [
              0.5555555555555556,
              "#d8576b"
             ],
             [
              0.6666666666666666,
              "#ed7953"
             ],
             [
              0.7777777777777778,
              "#fb9f3a"
             ],
             [
              0.8888888888888888,
              "#fdca26"
             ],
             [
              1,
              "#f0f921"
             ]
            ],
            "type": "heatmapgl"
           }
          ],
          "histogram": [
           {
            "marker": {
             "colorbar": {
              "outlinewidth": 0,
              "ticks": ""
             }
            },
            "type": "histogram"
           }
          ],
          "histogram2d": [
           {
            "colorbar": {
             "outlinewidth": 0,
             "ticks": ""
            },
            "colorscale": [
             [
              0,
              "#0d0887"
             ],
             [
              0.1111111111111111,
              "#46039f"
             ],
             [
              0.2222222222222222,
              "#7201a8"
             ],
             [
              0.3333333333333333,
              "#9c179e"
             ],
             [
              0.4444444444444444,
              "#bd3786"
             ],
             [
              0.5555555555555556,
              "#d8576b"
             ],
             [
              0.6666666666666666,
              "#ed7953"
             ],
             [
              0.7777777777777778,
              "#fb9f3a"
             ],
             [
              0.8888888888888888,
              "#fdca26"
             ],
             [
              1,
              "#f0f921"
             ]
            ],
            "type": "histogram2d"
           }
          ],
          "histogram2dcontour": [
           {
            "colorbar": {
             "outlinewidth": 0,
             "ticks": ""
            },
            "colorscale": [
             [
              0,
              "#0d0887"
             ],
             [
              0.1111111111111111,
              "#46039f"
             ],
             [
              0.2222222222222222,
              "#7201a8"
             ],
             [
              0.3333333333333333,
              "#9c179e"
             ],
             [
              0.4444444444444444,
              "#bd3786"
             ],
             [
              0.5555555555555556,
              "#d8576b"
             ],
             [
              0.6666666666666666,
              "#ed7953"
             ],
             [
              0.7777777777777778,
              "#fb9f3a"
             ],
             [
              0.8888888888888888,
              "#fdca26"
             ],
             [
              1,
              "#f0f921"
             ]
            ],
            "type": "histogram2dcontour"
           }
          ],
          "mesh3d": [
           {
            "colorbar": {
             "outlinewidth": 0,
             "ticks": ""
            },
            "type": "mesh3d"
           }
          ],
          "parcoords": [
           {
            "line": {
             "colorbar": {
              "outlinewidth": 0,
              "ticks": ""
             }
            },
            "type": "parcoords"
           }
          ],
          "pie": [
           {
            "automargin": true,
            "type": "pie"
           }
          ],
          "scatter": [
           {
            "marker": {
             "colorbar": {
              "outlinewidth": 0,
              "ticks": ""
             }
            },
            "type": "scatter"
           }
          ],
          "scatter3d": [
           {
            "line": {
             "colorbar": {
              "outlinewidth": 0,
              "ticks": ""
             }
            },
            "marker": {
             "colorbar": {
              "outlinewidth": 0,
              "ticks": ""
             }
            },
            "type": "scatter3d"
           }
          ],
          "scattercarpet": [
           {
            "marker": {
             "colorbar": {
              "outlinewidth": 0,
              "ticks": ""
             }
            },
            "type": "scattercarpet"
           }
          ],
          "scattergeo": [
           {
            "marker": {
             "colorbar": {
              "outlinewidth": 0,
              "ticks": ""
             }
            },
            "type": "scattergeo"
           }
          ],
          "scattergl": [
           {
            "marker": {
             "colorbar": {
              "outlinewidth": 0,
              "ticks": ""
             }
            },
            "type": "scattergl"
           }
          ],
          "scattermapbox": [
           {
            "marker": {
             "colorbar": {
              "outlinewidth": 0,
              "ticks": ""
             }
            },
            "type": "scattermapbox"
           }
          ],
          "scatterpolar": [
           {
            "marker": {
             "colorbar": {
              "outlinewidth": 0,
              "ticks": ""
             }
            },
            "type": "scatterpolar"
           }
          ],
          "scatterpolargl": [
           {
            "marker": {
             "colorbar": {
              "outlinewidth": 0,
              "ticks": ""
             }
            },
            "type": "scatterpolargl"
           }
          ],
          "scatterternary": [
           {
            "marker": {
             "colorbar": {
              "outlinewidth": 0,
              "ticks": ""
             }
            },
            "type": "scatterternary"
           }
          ],
          "surface": [
           {
            "colorbar": {
             "outlinewidth": 0,
             "ticks": ""
            },
            "colorscale": [
             [
              0,
              "#0d0887"
             ],
             [
              0.1111111111111111,
              "#46039f"
             ],
             [
              0.2222222222222222,
              "#7201a8"
             ],
             [
              0.3333333333333333,
              "#9c179e"
             ],
             [
              0.4444444444444444,
              "#bd3786"
             ],
             [
              0.5555555555555556,
              "#d8576b"
             ],
             [
              0.6666666666666666,
              "#ed7953"
             ],
             [
              0.7777777777777778,
              "#fb9f3a"
             ],
             [
              0.8888888888888888,
              "#fdca26"
             ],
             [
              1,
              "#f0f921"
             ]
            ],
            "type": "surface"
           }
          ],
          "table": [
           {
            "cells": {
             "fill": {
              "color": "#EBF0F8"
             },
             "line": {
              "color": "white"
             }
            },
            "header": {
             "fill": {
              "color": "#C8D4E3"
             },
             "line": {
              "color": "white"
             }
            },
            "type": "table"
           }
          ]
         },
         "layout": {
          "annotationdefaults": {
           "arrowcolor": "#2a3f5f",
           "arrowhead": 0,
           "arrowwidth": 1
          },
          "coloraxis": {
           "colorbar": {
            "outlinewidth": 0,
            "ticks": ""
           }
          },
          "colorscale": {
           "diverging": [
            [
             0,
             "#8e0152"
            ],
            [
             0.1,
             "#c51b7d"
            ],
            [
             0.2,
             "#de77ae"
            ],
            [
             0.3,
             "#f1b6da"
            ],
            [
             0.4,
             "#fde0ef"
            ],
            [
             0.5,
             "#f7f7f7"
            ],
            [
             0.6,
             "#e6f5d0"
            ],
            [
             0.7,
             "#b8e186"
            ],
            [
             0.8,
             "#7fbc41"
            ],
            [
             0.9,
             "#4d9221"
            ],
            [
             1,
             "#276419"
            ]
           ],
           "sequential": [
            [
             0,
             "#0d0887"
            ],
            [
             0.1111111111111111,
             "#46039f"
            ],
            [
             0.2222222222222222,
             "#7201a8"
            ],
            [
             0.3333333333333333,
             "#9c179e"
            ],
            [
             0.4444444444444444,
             "#bd3786"
            ],
            [
             0.5555555555555556,
             "#d8576b"
            ],
            [
             0.6666666666666666,
             "#ed7953"
            ],
            [
             0.7777777777777778,
             "#fb9f3a"
            ],
            [
             0.8888888888888888,
             "#fdca26"
            ],
            [
             1,
             "#f0f921"
            ]
           ],
           "sequentialminus": [
            [
             0,
             "#0d0887"
            ],
            [
             0.1111111111111111,
             "#46039f"
            ],
            [
             0.2222222222222222,
             "#7201a8"
            ],
            [
             0.3333333333333333,
             "#9c179e"
            ],
            [
             0.4444444444444444,
             "#bd3786"
            ],
            [
             0.5555555555555556,
             "#d8576b"
            ],
            [
             0.6666666666666666,
             "#ed7953"
            ],
            [
             0.7777777777777778,
             "#fb9f3a"
            ],
            [
             0.8888888888888888,
             "#fdca26"
            ],
            [
             1,
             "#f0f921"
            ]
           ]
          },
          "colorway": [
           "#636efa",
           "#EF553B",
           "#00cc96",
           "#ab63fa",
           "#FFA15A",
           "#19d3f3",
           "#FF6692",
           "#B6E880",
           "#FF97FF",
           "#FECB52"
          ],
          "font": {
           "color": "#2a3f5f"
          },
          "geo": {
           "bgcolor": "white",
           "lakecolor": "white",
           "landcolor": "#E5ECF6",
           "showlakes": true,
           "showland": true,
           "subunitcolor": "white"
          },
          "hoverlabel": {
           "align": "left"
          },
          "hovermode": "closest",
          "mapbox": {
           "style": "light"
          },
          "paper_bgcolor": "white",
          "plot_bgcolor": "#E5ECF6",
          "polar": {
           "angularaxis": {
            "gridcolor": "white",
            "linecolor": "white",
            "ticks": ""
           },
           "bgcolor": "#E5ECF6",
           "radialaxis": {
            "gridcolor": "white",
            "linecolor": "white",
            "ticks": ""
           }
          },
          "scene": {
           "xaxis": {
            "backgroundcolor": "#E5ECF6",
            "gridcolor": "white",
            "gridwidth": 2,
            "linecolor": "white",
            "showbackground": true,
            "ticks": "",
            "zerolinecolor": "white"
           },
           "yaxis": {
            "backgroundcolor": "#E5ECF6",
            "gridcolor": "white",
            "gridwidth": 2,
            "linecolor": "white",
            "showbackground": true,
            "ticks": "",
            "zerolinecolor": "white"
           },
           "zaxis": {
            "backgroundcolor": "#E5ECF6",
            "gridcolor": "white",
            "gridwidth": 2,
            "linecolor": "white",
            "showbackground": true,
            "ticks": "",
            "zerolinecolor": "white"
           }
          },
          "shapedefaults": {
           "line": {
            "color": "#2a3f5f"
           }
          },
          "ternary": {
           "aaxis": {
            "gridcolor": "white",
            "linecolor": "white",
            "ticks": ""
           },
           "baxis": {
            "gridcolor": "white",
            "linecolor": "white",
            "ticks": ""
           },
           "bgcolor": "#E5ECF6",
           "caxis": {
            "gridcolor": "white",
            "linecolor": "white",
            "ticks": ""
           }
          },
          "title": {
           "x": 0.05
          },
          "xaxis": {
           "automargin": true,
           "gridcolor": "white",
           "linecolor": "white",
           "ticks": "",
           "title": {
            "standoff": 15
           },
           "zerolinecolor": "white",
           "zerolinewidth": 2
          },
          "yaxis": {
           "automargin": true,
           "gridcolor": "white",
           "linecolor": "white",
           "ticks": "",
           "title": {
            "standoff": 15
           },
           "zerolinecolor": "white",
           "zerolinewidth": 2
          }
         }
        },
        "title": {
         "text": "Social Network - Centrality by Gender"
        },
        "xaxis": {
         "gridcolor": "grey",
         "gridwidth": 1,
         "showgrid": true,
         "title": {
          "text": "Degree Centrality"
         }
        },
        "yaxis": {
         "gridcolor": "grey",
         "gridwidth": 1,
         "showgrid": true,
         "title": {
          "text": "Eigenvector Centrality"
         }
        }
       }
      },
      "text/html": [
       "<div>\n",
       "        \n",
       "        \n",
       "            <div id=\"5c8e697c-2481-4ef9-b80e-70de25998f7a\" class=\"plotly-graph-div\" style=\"height:525px; width:100%;\"></div>\n",
       "            <script type=\"text/javascript\">\n",
       "                require([\"plotly\"], function(Plotly) {\n",
       "                    window.PLOTLYENV=window.PLOTLYENV || {};\n",
       "                    \n",
       "                if (document.getElementById(\"5c8e697c-2481-4ef9-b80e-70de25998f7a\")) {\n",
       "                    Plotly.newPlot(\n",
       "                        '5c8e697c-2481-4ef9-b80e-70de25998f7a',\n",
       "                        [{\"hoverinfo\": \"text\", \"marker\": {\"color\": \"lightsalmon\", \"size\": 14, \"symbol\": \"circle\"}, \"mode\": \"markers+text\", \"name\": \"Male\", \"text\": [0.0, 1.0, 2.0, 3.0, 4.0, 5.0, 6.0, 7.0, 8.0, 9.0, 10.0, 11.0, 12.0, 13.0, 14.0, 15.0, 16.0, 17.0, 18.0, 19.0, 20.0, 21.0, 22.0, 23.0, 24.0, 25.0, 27.0, 29.0, 30.0, 31.0, 32.0, 34.0, 35.0, 36.0, 39.0, 40.0, 41.0, 44.0, 46.0, 48.0, 49.0, 51.0, 52.0, 53.0, 54.0, 55.0, 57.0, 61.0, 62.0, 64.0, 65.0, 67.0, 69.0], \"textfont\": {\"color\": \"black\", \"size\": 8}, \"type\": \"scatter\", \"x\": [0.11428571428571428, 0.14285714285714285, 0.05714285714285714, 0.3142857142857143, 0.08571428571428572, 0.02857142857142857, 0.04285714285714286, 0.09999999999999999, 0.19999999999999998, 0.19999999999999998, 0.19999999999999998, 0.3142857142857143, 0.34285714285714286, 0.12857142857142856, 0.05714285714285714, 0.18571428571428572, 0.35714285714285715, 0.12857142857142856, 0.08571428571428572, 0.19999999999999998, 0.21428571428571427, 0.15714285714285714, 0.09999999999999999, 0.35714285714285715, 0.21428571428571427, 0.34285714285714286, 0.18571428571428572, 0.11428571428571428, 0.39999999999999997, 0.09999999999999999, 0.18571428571428572, 0.18571428571428572, 0.18571428571428572, 0.014285714285714285, 0.18571428571428572, 0.2857142857142857, 0.22857142857142856, 0.11428571428571428, 0.0, 0.08571428571428572, 0.12857142857142856, 0.19999999999999998, 0.04285714285714286, 0.17142857142857143, 0.04285714285714286, 0.17142857142857143, 0.19999999999999998, 0.07142857142857142, 0.02857142857142857, 0.32857142857142857, 0.22857142857142856, 0.12857142857142856, 0.09999999999999999], \"y\": [0.08492241311358159, 0.10590758887818771, 0.022751742690168452, 0.21624263854953574, 0.03941784427208795, 0.006437269898622227, 0.008464753008766594, 0.07715468427599077, 0.16862103727735933, 0.15916977144339087, 0.16548165543399027, 0.20652099231097815, 0.24474426599878243, 0.06338636473923558, 0.03568626810212871, 0.11279555952108745, 0.2359880893652053, 0.03876653095197901, 0.04177135167144181, 0.1524611409087194, 0.17518420124411174, 0.1207842260556272, 0.09868361054219975, 0.2654436930319754, 0.14715416881486548, 0.24994142671366, 0.07295574271162476, 0.07811746673867698, 0.2144748204762635, 0.04052090995173119, 0.07215736439705273, 0.056245206018310054, 0.11919067036214459, 0.0022487778262687964, 0.13449183387983293, 0.17658392228335748, 0.12046974065881792, 0.04817509075927711, 1.4959770880750038e-28, 0.052824260140099714, 0.03909848554913524, 0.12684079249420901, 0.028852047447317366, 0.0885003513313582, 0.019739883245598177, 0.08416545069408624, 0.07862264512902645, 0.04056093337590119, 0.01806254881661278, 0.195704931419945, 0.10860972129740494, 0.0460256371525812, 0.022930953611588003]}, {\"marker\": {\"color\": \"purple\", \"size\": 14, \"symbol\": \"circle\"}, \"mode\": \"markers+text\", \"name\": \"Female\", \"text\": [26.0, 28.0, 33.0, 37.0, 38.0, 42.0, 43.0, 45.0, 47.0, 50.0, 56.0, 58.0, 59.0, 60.0, 63.0, 66.0, 68.0, 70.0], \"textfont\": {\"color\": \"white\", \"size\": 8}, \"type\": \"scatter\", \"x\": [0.2714285714285714, 0.18571428571428572, 0.17142857142857143, 0.21428571428571427, 0.21428571428571427, 0.2571428571428571, 0.0, 0.08571428571428572, 0.09999999999999999, 0.11428571428571428, 0.21428571428571427, 0.08571428571428572, 0.11428571428571428, 0.04285714285714286, 0.3, 0.07142857142857142, 0.08571428571428572, 0.08571428571428572], \"y\": [0.22050295510413453, 0.13834755687069933, 0.11533438265212054, 0.15670888330619992, 0.13510382725781966, 0.1738119395985584, 1.4959770880750038e-28, 0.029782307371126995, 0.055119155300493765, 0.0357691601051182, 0.11876082541916727, 0.02692785524565825, 0.03329731467356897, 0.016337782218193448, 0.10720033079871749, 0.013720037964824567, 0.02007507224669617, 0.02007507224669617]}],\n",
       "                        {\"hovermode\": \"closest\", \"paper_bgcolor\": \"white\", \"plot_bgcolor\": \"white\", \"template\": {\"data\": {\"bar\": [{\"error_x\": {\"color\": \"#2a3f5f\"}, \"error_y\": {\"color\": \"#2a3f5f\"}, \"marker\": {\"line\": {\"color\": \"#E5ECF6\", \"width\": 0.5}}, \"type\": \"bar\"}], \"barpolar\": [{\"marker\": {\"line\": {\"color\": \"#E5ECF6\", \"width\": 0.5}}, \"type\": \"barpolar\"}], \"carpet\": [{\"aaxis\": {\"endlinecolor\": \"#2a3f5f\", \"gridcolor\": \"white\", \"linecolor\": \"white\", \"minorgridcolor\": \"white\", \"startlinecolor\": \"#2a3f5f\"}, \"baxis\": {\"endlinecolor\": \"#2a3f5f\", \"gridcolor\": \"white\", \"linecolor\": \"white\", \"minorgridcolor\": \"white\", \"startlinecolor\": \"#2a3f5f\"}, \"type\": \"carpet\"}], \"choropleth\": [{\"colorbar\": {\"outlinewidth\": 0, \"ticks\": \"\"}, \"type\": \"choropleth\"}], \"contour\": [{\"colorbar\": {\"outlinewidth\": 0, \"ticks\": \"\"}, \"colorscale\": [[0.0, \"#0d0887\"], [0.1111111111111111, \"#46039f\"], [0.2222222222222222, \"#7201a8\"], [0.3333333333333333, \"#9c179e\"], [0.4444444444444444, \"#bd3786\"], [0.5555555555555556, \"#d8576b\"], [0.6666666666666666, \"#ed7953\"], [0.7777777777777778, \"#fb9f3a\"], [0.8888888888888888, \"#fdca26\"], [1.0, \"#f0f921\"]], \"type\": \"contour\"}], \"contourcarpet\": [{\"colorbar\": {\"outlinewidth\": 0, \"ticks\": \"\"}, \"type\": \"contourcarpet\"}], \"heatmap\": [{\"colorbar\": {\"outlinewidth\": 0, \"ticks\": \"\"}, \"colorscale\": [[0.0, \"#0d0887\"], [0.1111111111111111, \"#46039f\"], [0.2222222222222222, \"#7201a8\"], [0.3333333333333333, \"#9c179e\"], [0.4444444444444444, \"#bd3786\"], [0.5555555555555556, \"#d8576b\"], [0.6666666666666666, \"#ed7953\"], [0.7777777777777778, \"#fb9f3a\"], [0.8888888888888888, \"#fdca26\"], [1.0, \"#f0f921\"]], \"type\": \"heatmap\"}], \"heatmapgl\": [{\"colorbar\": {\"outlinewidth\": 0, \"ticks\": \"\"}, \"colorscale\": [[0.0, \"#0d0887\"], [0.1111111111111111, \"#46039f\"], [0.2222222222222222, \"#7201a8\"], [0.3333333333333333, \"#9c179e\"], [0.4444444444444444, \"#bd3786\"], [0.5555555555555556, \"#d8576b\"], [0.6666666666666666, \"#ed7953\"], [0.7777777777777778, \"#fb9f3a\"], [0.8888888888888888, \"#fdca26\"], [1.0, \"#f0f921\"]], \"type\": \"heatmapgl\"}], \"histogram\": [{\"marker\": {\"colorbar\": {\"outlinewidth\": 0, \"ticks\": \"\"}}, \"type\": \"histogram\"}], \"histogram2d\": [{\"colorbar\": {\"outlinewidth\": 0, \"ticks\": \"\"}, \"colorscale\": [[0.0, \"#0d0887\"], [0.1111111111111111, \"#46039f\"], [0.2222222222222222, \"#7201a8\"], [0.3333333333333333, \"#9c179e\"], [0.4444444444444444, \"#bd3786\"], [0.5555555555555556, \"#d8576b\"], [0.6666666666666666, \"#ed7953\"], [0.7777777777777778, \"#fb9f3a\"], [0.8888888888888888, \"#fdca26\"], [1.0, \"#f0f921\"]], \"type\": \"histogram2d\"}], \"histogram2dcontour\": [{\"colorbar\": {\"outlinewidth\": 0, \"ticks\": \"\"}, \"colorscale\": [[0.0, \"#0d0887\"], [0.1111111111111111, \"#46039f\"], [0.2222222222222222, \"#7201a8\"], [0.3333333333333333, \"#9c179e\"], [0.4444444444444444, \"#bd3786\"], [0.5555555555555556, \"#d8576b\"], [0.6666666666666666, \"#ed7953\"], [0.7777777777777778, \"#fb9f3a\"], [0.8888888888888888, \"#fdca26\"], [1.0, \"#f0f921\"]], \"type\": \"histogram2dcontour\"}], \"mesh3d\": [{\"colorbar\": {\"outlinewidth\": 0, \"ticks\": \"\"}, \"type\": \"mesh3d\"}], \"parcoords\": [{\"line\": {\"colorbar\": {\"outlinewidth\": 0, \"ticks\": \"\"}}, \"type\": \"parcoords\"}], \"pie\": [{\"automargin\": true, \"type\": \"pie\"}], \"scatter\": [{\"marker\": {\"colorbar\": {\"outlinewidth\": 0, \"ticks\": \"\"}}, \"type\": \"scatter\"}], \"scatter3d\": [{\"line\": {\"colorbar\": {\"outlinewidth\": 0, \"ticks\": \"\"}}, \"marker\": {\"colorbar\": {\"outlinewidth\": 0, \"ticks\": \"\"}}, \"type\": \"scatter3d\"}], \"scattercarpet\": [{\"marker\": {\"colorbar\": {\"outlinewidth\": 0, \"ticks\": \"\"}}, \"type\": \"scattercarpet\"}], \"scattergeo\": [{\"marker\": {\"colorbar\": {\"outlinewidth\": 0, \"ticks\": \"\"}}, \"type\": \"scattergeo\"}], \"scattergl\": [{\"marker\": {\"colorbar\": {\"outlinewidth\": 0, \"ticks\": \"\"}}, \"type\": \"scattergl\"}], \"scattermapbox\": [{\"marker\": {\"colorbar\": {\"outlinewidth\": 0, \"ticks\": \"\"}}, \"type\": \"scattermapbox\"}], \"scatterpolar\": [{\"marker\": {\"colorbar\": {\"outlinewidth\": 0, \"ticks\": \"\"}}, \"type\": \"scatterpolar\"}], \"scatterpolargl\": [{\"marker\": {\"colorbar\": {\"outlinewidth\": 0, \"ticks\": \"\"}}, \"type\": \"scatterpolargl\"}], \"scatterternary\": [{\"marker\": {\"colorbar\": {\"outlinewidth\": 0, \"ticks\": \"\"}}, \"type\": \"scatterternary\"}], \"surface\": [{\"colorbar\": {\"outlinewidth\": 0, \"ticks\": \"\"}, \"colorscale\": [[0.0, \"#0d0887\"], [0.1111111111111111, \"#46039f\"], [0.2222222222222222, \"#7201a8\"], [0.3333333333333333, \"#9c179e\"], [0.4444444444444444, \"#bd3786\"], [0.5555555555555556, \"#d8576b\"], [0.6666666666666666, \"#ed7953\"], [0.7777777777777778, \"#fb9f3a\"], [0.8888888888888888, \"#fdca26\"], [1.0, \"#f0f921\"]], \"type\": \"surface\"}], \"table\": [{\"cells\": {\"fill\": {\"color\": \"#EBF0F8\"}, \"line\": {\"color\": \"white\"}}, \"header\": {\"fill\": {\"color\": \"#C8D4E3\"}, \"line\": {\"color\": \"white\"}}, \"type\": \"table\"}]}, \"layout\": {\"annotationdefaults\": {\"arrowcolor\": \"#2a3f5f\", \"arrowhead\": 0, \"arrowwidth\": 1}, \"coloraxis\": {\"colorbar\": {\"outlinewidth\": 0, \"ticks\": \"\"}}, \"colorscale\": {\"diverging\": [[0, \"#8e0152\"], [0.1, \"#c51b7d\"], [0.2, \"#de77ae\"], [0.3, \"#f1b6da\"], [0.4, \"#fde0ef\"], [0.5, \"#f7f7f7\"], [0.6, \"#e6f5d0\"], [0.7, \"#b8e186\"], [0.8, \"#7fbc41\"], [0.9, \"#4d9221\"], [1, \"#276419\"]], \"sequential\": [[0.0, \"#0d0887\"], [0.1111111111111111, \"#46039f\"], [0.2222222222222222, \"#7201a8\"], [0.3333333333333333, \"#9c179e\"], [0.4444444444444444, \"#bd3786\"], [0.5555555555555556, \"#d8576b\"], [0.6666666666666666, \"#ed7953\"], [0.7777777777777778, \"#fb9f3a\"], [0.8888888888888888, \"#fdca26\"], [1.0, \"#f0f921\"]], \"sequentialminus\": [[0.0, \"#0d0887\"], [0.1111111111111111, \"#46039f\"], [0.2222222222222222, \"#7201a8\"], [0.3333333333333333, \"#9c179e\"], [0.4444444444444444, \"#bd3786\"], [0.5555555555555556, \"#d8576b\"], [0.6666666666666666, \"#ed7953\"], [0.7777777777777778, \"#fb9f3a\"], [0.8888888888888888, \"#fdca26\"], [1.0, \"#f0f921\"]]}, \"colorway\": [\"#636efa\", \"#EF553B\", \"#00cc96\", \"#ab63fa\", \"#FFA15A\", \"#19d3f3\", \"#FF6692\", \"#B6E880\", \"#FF97FF\", \"#FECB52\"], \"font\": {\"color\": \"#2a3f5f\"}, \"geo\": {\"bgcolor\": \"white\", \"lakecolor\": \"white\", \"landcolor\": \"#E5ECF6\", \"showlakes\": true, \"showland\": true, \"subunitcolor\": \"white\"}, \"hoverlabel\": {\"align\": \"left\"}, \"hovermode\": \"closest\", \"mapbox\": {\"style\": \"light\"}, \"paper_bgcolor\": \"white\", \"plot_bgcolor\": \"#E5ECF6\", \"polar\": {\"angularaxis\": {\"gridcolor\": \"white\", \"linecolor\": \"white\", \"ticks\": \"\"}, \"bgcolor\": \"#E5ECF6\", \"radialaxis\": {\"gridcolor\": \"white\", \"linecolor\": \"white\", \"ticks\": \"\"}}, \"scene\": {\"xaxis\": {\"backgroundcolor\": \"#E5ECF6\", \"gridcolor\": \"white\", \"gridwidth\": 2, \"linecolor\": \"white\", \"showbackground\": true, \"ticks\": \"\", \"zerolinecolor\": \"white\"}, \"yaxis\": {\"backgroundcolor\": \"#E5ECF6\", \"gridcolor\": \"white\", \"gridwidth\": 2, \"linecolor\": \"white\", \"showbackground\": true, \"ticks\": \"\", \"zerolinecolor\": \"white\"}, \"zaxis\": {\"backgroundcolor\": \"#E5ECF6\", \"gridcolor\": \"white\", \"gridwidth\": 2, \"linecolor\": \"white\", \"showbackground\": true, \"ticks\": \"\", \"zerolinecolor\": \"white\"}}, \"shapedefaults\": {\"line\": {\"color\": \"#2a3f5f\"}}, \"ternary\": {\"aaxis\": {\"gridcolor\": \"white\", \"linecolor\": \"white\", \"ticks\": \"\"}, \"baxis\": {\"gridcolor\": \"white\", \"linecolor\": \"white\", \"ticks\": \"\"}, \"bgcolor\": \"#E5ECF6\", \"caxis\": {\"gridcolor\": \"white\", \"linecolor\": \"white\", \"ticks\": \"\"}}, \"title\": {\"x\": 0.05}, \"xaxis\": {\"automargin\": true, \"gridcolor\": \"white\", \"linecolor\": \"white\", \"ticks\": \"\", \"title\": {\"standoff\": 15}, \"zerolinecolor\": \"white\", \"zerolinewidth\": 2}, \"yaxis\": {\"automargin\": true, \"gridcolor\": \"white\", \"linecolor\": \"white\", \"ticks\": \"\", \"title\": {\"standoff\": 15}, \"zerolinecolor\": \"white\", \"zerolinewidth\": 2}}}, \"title\": {\"text\": \"Social Network - Centrality by Gender\"}, \"xaxis\": {\"gridcolor\": \"grey\", \"gridwidth\": 1, \"showgrid\": true, \"title\": {\"text\": \"Degree Centrality\"}}, \"yaxis\": {\"gridcolor\": \"grey\", \"gridwidth\": 1, \"showgrid\": true, \"title\": {\"text\": \"Eigenvector Centrality\"}}},\n",
       "                        {\"responsive\": true}\n",
       "                    ).then(function(){\n",
       "                            \n",
       "var gd = document.getElementById('5c8e697c-2481-4ef9-b80e-70de25998f7a');\n",
       "var x = new MutationObserver(function (mutations, observer) {{\n",
       "        var display = window.getComputedStyle(gd).display;\n",
       "        if (!display || display === 'none') {{\n",
       "            console.log([gd, 'removed!']);\n",
       "            Plotly.purge(gd);\n",
       "            observer.disconnect();\n",
       "        }}\n",
       "}});\n",
       "\n",
       "// Listen for the removal of the full notebook cells\n",
       "var notebookContainer = gd.closest('#notebook-container');\n",
       "if (notebookContainer) {{\n",
       "    x.observe(notebookContainer, {childList: true});\n",
       "}}\n",
       "\n",
       "// Listen for the clearing of the current output cell\n",
       "var outputEl = gd.closest('.output');\n",
       "if (outputEl) {{\n",
       "    x.observe(outputEl, {childList: true});\n",
       "}}\n",
       "\n",
       "                        })\n",
       "                };\n",
       "                });\n",
       "            </script>\n",
       "        </div>"
      ]
     },
     "metadata": {},
     "output_type": "display_data"
    }
   ],
   "source": [
    "fig = go.Figure()\n",
    "fig.add_trace(go.Scatter(\n",
    "    x=social_df[social_df['gender']==1]['deg_centrality'],\n",
    "    y=social_df[social_df['gender']==1]['eig_centrality'],\n",
    "    text=social_df[social_df['gender']==1]['id'],\n",
    "    hoverinfo='text',\n",
    "    mode='markers+text',\n",
    "    name='Male',\n",
    "    textfont_size=8,\n",
    "    textfont_color='black',\n",
    "    marker=dict(size=14, \n",
    "                color='lightsalmon',\n",
    "                symbol='circle')))\n",
    "\n",
    "fig.add_trace(go.Scatter(\n",
    "    x = social_df[social_df['gender']==2]['deg_centrality'],\n",
    "    y = social_df[social_df['gender']==2]['eig_centrality'],\n",
    "    text=social_df[social_df['gender']==2]['id'],\n",
    "    mode='markers+text',\n",
    "    name = 'Female',\n",
    "    textfont_size=8,\n",
    "    textfont_color='white',\n",
    "    marker=dict(size=14, \n",
    "                color='purple', \n",
    "                symbol='circle')))\n",
    "    \n",
    "\n",
    "fig.update_layout(go.Layout(\n",
    "    title='Social Network - Centrality by Gender',\n",
    "    xaxis=dict(\n",
    "        title='Degree Centrality'\n",
    "    ),\n",
    "    yaxis=dict(\n",
    "        title='Eigenvector Centrality'\n",
    "    ),\n",
    "    hovermode='closest',\n",
    "    plot_bgcolor='white',\n",
    "    paper_bgcolor='white',\n",
    "))\n",
    "fig.update_xaxes(showgrid=True, gridwidth=1, gridcolor='grey')\n",
    "fig.update_yaxes(showgrid=True, gridwidth=1, gridcolor='grey')\n",
    "fig.show()"
   ]
  },
  {
   "cell_type": "markdown",
   "metadata": {},
   "source": [
    "#### Get Mean and Variance for Social Network Eigenvector Centrality by Gender"
   ]
  },
  {
   "cell_type": "code",
   "execution_count": 55,
   "metadata": {
    "ExecuteTime": {
     "end_time": "2020-06-18T19:05:43.640549Z",
     "start_time": "2020-06-18T19:05:43.629482Z"
    }
   },
   "outputs": [
    {
     "name": "stdout",
     "output_type": "stream",
     "text": [
      "Social Network Eigenvector Centrality Statistics\n",
      "Male mean: 0.101\n",
      "Female mean: 0.079\n",
      "Male variance: 0.0052\n",
      "Female variance: 0.0042\n"
     ]
    }
   ],
   "source": [
    "print('Social Network Eigenvector Centrality Statistics')\n",
    "print('Male mean: {}'.format(round(np.mean(social_df[social_df['gender']==1]['eig_centrality']),3)))\n",
    "print('Female mean: {}'.format(round(np.mean(social_df[social_df['gender']==2]['eig_centrality']),3)))\n",
    "print('Male variance: {}'.format(round(np.var(social_df[social_df['gender']==1]['eig_centrality']),4)))\n",
    "print('Female variance: {}'.format(round(np.var(social_df[social_df['gender']==2]['eig_centrality']),4)))"
   ]
  },
  {
   "cell_type": "markdown",
   "metadata": {},
   "source": [
    "### T-Test for Differences in Social Network Eigenvector Centrality - Gender  \n",
    "\n",
    "Test if there is a statistically significant difference between mean social network eigenvector centralities for males and females using an unpaired t-test. "
   ]
  },
  {
   "cell_type": "code",
   "execution_count": 57,
   "metadata": {
    "ExecuteTime": {
     "end_time": "2020-06-18T19:06:19.750190Z",
     "start_time": "2020-06-18T19:06:19.743436Z"
    }
   },
   "outputs": [
    {
     "name": "stdout",
     "output_type": "stream",
     "text": [
      "p-value for t-test comparing mean social eigenvector centralities for males and females: 0.251\n"
     ]
    }
   ],
   "source": [
    "social_ttest = stats.ttest_ind(social_df[social_df['gender']==1]['eig_centrality'],\n",
    "                               social_df[social_df['gender']==2]['eig_centrality'], \n",
    "                               equal_var = False)\n",
    "print('p-value for t-test comparing mean social eigenvector centralities for males and females: {}'.format(round(social_ttest[1],3)))"
   ]
  },
  {
   "cell_type": "markdown",
   "metadata": {},
   "source": [
    "There is a not statistically significant difference between mean social eigenvector centralities for males and females (p-value = 0.251). "
   ]
  },
  {
   "cell_type": "markdown",
   "metadata": {},
   "source": [
    "### Look at Advice Network\n",
    "\n",
    "#### Build advice network graph"
   ]
  },
  {
   "cell_type": "code",
   "execution_count": 58,
   "metadata": {
    "ExecuteTime": {
     "end_time": "2020-06-18T19:06:27.609202Z",
     "start_time": "2020-06-18T19:06:27.598119Z"
    }
   },
   "outputs": [],
   "source": [
    "df_advice = df_rel[0:71].astype(int).reset_index(drop=True)\n",
    "\n",
    "G_advice=nx.from_pandas_adjacency(df_advice)\n",
    "for node in list(G_advice.nodes):\n",
    "    G_advice.nodes[node]['gender'] = gender_dict[node]\n",
    "    G_advice.nodes[node]['status'] = status_dict[node]"
   ]
  },
  {
   "cell_type": "markdown",
   "metadata": {},
   "source": [
    "#### Visualize Advice Network\n",
    "The visualization of the advice network by gender is below.  Again, it appears the male nodes have higher degrees than the females.  Node 25, a male, has the highest degrees in the advice network.  Interestingly, node 30 that had the most degrees in the social network, is not very prominent in the advice network."
   ]
  },
  {
   "cell_type": "markdown",
   "metadata": {},
   "source": [
    "### Advice Network - by Gender\n",
    "\n",
    "Orange is male, purple is female. Size indicates degree\n",
    "\n",
    "![title](graphics/advice_gender.png)"
   ]
  },
  {
   "cell_type": "markdown",
   "metadata": {},
   "source": [
    "The visualization of the advice network by status is below.  As we would expect, in general, partners appear to have higher degrees in the advice network than associates."
   ]
  },
  {
   "cell_type": "markdown",
   "metadata": {},
   "source": [
    "### Advice Network - by Status\n",
    "\n",
    "Brown is partner, green is associate. Size indicates degree\n",
    "\n",
    "![title](graphics/advice_status.png)"
   ]
  },
  {
   "cell_type": "markdown",
   "metadata": {},
   "source": [
    "#### Get centrality\n",
    "Degree centrality and eigenvector centrality is calculated for each node"
   ]
  },
  {
   "cell_type": "code",
   "execution_count": 59,
   "metadata": {
    "ExecuteTime": {
     "end_time": "2020-06-18T19:06:31.730924Z",
     "start_time": "2020-06-18T19:06:31.710471Z"
    }
   },
   "outputs": [
    {
     "name": "stdout",
     "output_type": "stream",
     "text": [
      "Advice Network: Eigenvector Centrality\n",
      "---------------------------------------------------------------\n",
      "\n",
      "Gender : 1\n",
      "[(25, 0.251), (12, 0.221), (23, 0.206), (40, 0.179), (15, 0.169)]\n",
      "Status : 1\n",
      "[(25, 0.251), (12, 0.221), (23, 0.206), (15, 0.169), (16, 0.166)]\n",
      "---------------------------------------------------------------\n",
      "\n",
      "Gender : 2\n",
      "[(26, 0.159), (33, 0.132), (38, 0.127), (28, 0.121), (37, 0.117)]\n",
      "Status : 2\n",
      "[(40, 0.179), (41, 0.154), (54, 0.152), (64, 0.151), (39, 0.15)]\n",
      "---------------------------------------------------------------\n",
      "\n",
      "Advice Network: Degree Centrality: All\n",
      "[(25, 0.657), (12, 0.571), (23, 0.514), (15, 0.486), (40, 0.457)]\n"
     ]
    }
   ],
   "source": [
    "advice_eig_centrality = nx.eigenvector_centrality(G_advice, max_iter=1000)\n",
    "advice_deg_centrality = nx.degree_centrality(G_advice)\n",
    "\n",
    "print('Advice Network: Eigenvector Centrality')\n",
    "print('---------------------------------------------------------------')\n",
    "print('')\n",
    "\n",
    "for attribute in [1,2]:\n",
    "    \n",
    "    gender_centrality = {k:v for k,v in advice_eig_centrality.items() if gender_dict[k]==attribute}\n",
    "    status_centrality = {k:v for k,v in advice_eig_centrality.items() if status_dict[k]==attribute}\n",
    "    \n",
    "    print('Gender : {}'.format(attribute))\n",
    "    print(sorted([(round(x,3),round(y,3)) \n",
    "                  for x,y in gender_centrality.items()], \n",
    "                  key=lambda x: x[1], reverse=True)[:5])\n",
    "    \n",
    "    print('Status : {}'.format(attribute))\n",
    "    print(sorted([(round(x,3),round(y,3)) \n",
    "                  for x,y in status_centrality.items()], \n",
    "                  key=lambda x: x[1], reverse=True)[:5])\n",
    "    print('---------------------------------------------------------------')\n",
    "    print('')\n",
    "    \n",
    "print('Advice Network: Degree Centrality: All')\n",
    "print(sorted([(round(x,3),round(y,3)) \n",
    "               for x,y in advice_deg_centrality.items()], \n",
    "               key=lambda x: x[1], reverse=True)[:5])"
   ]
  },
  {
   "cell_type": "markdown",
   "metadata": {},
   "source": [
    "In the advice network, the top 5 males with the highest eigenvector centrality are 25, 12, 23, 40, and 14.  A few of these males were also in the top of the social network (25, 12, 23).  Again, four of these top 5 have status as a partner in the law firm.  The top 5 females with the highest eigenvector centrality are 26, 33, 38, 28, and 37.  Four of these were also in the top of the social network.  Again, the values for the top females are lower than those of the top 5 males.  \n",
    "\n",
    "Looking at degree centrality for all nodes, we see some familiar individuals.  The top 5 nodes are the exact same as the top 5 eigenvector centralities for males."
   ]
  },
  {
   "cell_type": "code",
   "execution_count": 60,
   "metadata": {
    "ExecuteTime": {
     "end_time": "2020-06-18T19:06:34.122286Z",
     "start_time": "2020-06-18T19:06:34.114648Z"
    }
   },
   "outputs": [],
   "source": [
    "advice_df = pd.DataFrame(np.array([list(advice_eig_centrality.values()),\n",
    "                                   list(advice_deg_centrality.values()),\n",
    "                                   list(advice_deg_centrality.keys())]).T,\n",
    "                          columns = ['eig_centrality', 'deg_centrality','id'])\n",
    "\n",
    "advice_df['gender'] = advice_df['id'].map(gender_dict)\n",
    "advice_df['status'] = advice_df['id'].map(status_dict)"
   ]
  },
  {
   "cell_type": "markdown",
   "metadata": {},
   "source": [
    "#### Scatter Plot of Advice Network Eigenvector Centrality by Gender "
   ]
  },
  {
   "cell_type": "code",
   "execution_count": 113,
   "metadata": {
    "ExecuteTime": {
     "end_time": "2020-06-19T01:39:40.694308Z",
     "start_time": "2020-06-19T01:39:40.516331Z"
    }
   },
   "outputs": [
    {
     "data": {
      "application/vnd.plotly.v1+json": {
       "config": {
        "plotlyServerURL": "https://plot.ly"
       },
       "data": [
        {
         "hoverinfo": "text",
         "marker": {
          "color": "lightsalmon",
          "size": 14,
          "symbol": "circle"
         },
         "mode": "markers+text",
         "name": "Male",
         "text": [
          0,
          1,
          2,
          3,
          4,
          5,
          6,
          7,
          8,
          9,
          10,
          11,
          12,
          13,
          14,
          15,
          16,
          17,
          18,
          19,
          20,
          21,
          22,
          23,
          24,
          25,
          27,
          29,
          30,
          31,
          32,
          34,
          35,
          36,
          39,
          40,
          41,
          44,
          46,
          48,
          49,
          51,
          52,
          53,
          54,
          55,
          57,
          61,
          62,
          64,
          65,
          67,
          69
         ],
         "textfont": {
          "color": "black",
          "size": 8
         },
         "type": "scatter",
         "x": [
          0.3142857142857143,
          0.34285714285714286,
          0.15714285714285714,
          0.3857142857142857,
          0.2857142857142857,
          0.3,
          0.12857142857142856,
          0.19999999999999998,
          0.21428571428571427,
          0.22857142857142856,
          0.2857142857142857,
          0.3857142857142857,
          0.5714285714285714,
          0.2571428571428571,
          0.32857142857142857,
          0.4857142857142857,
          0.44285714285714284,
          0.18571428571428572,
          0.44285714285714284,
          0.37142857142857144,
          0.34285714285714286,
          0.39999999999999997,
          0.24285714285714285,
          0.5142857142857142,
          0.19999999999999998,
          0.6571428571428571,
          0.44285714285714284,
          0.3857142857142857,
          0.35714285714285715,
          0.3,
          0.3142857142857143,
          0.32857142857142857,
          0.24285714285714285,
          0.09999999999999999,
          0.37142857142857144,
          0.45714285714285713,
          0.37142857142857144,
          0.22857142857142856,
          0.08571428571428572,
          0.22857142857142856,
          0.2571428571428571,
          0.32857142857142857,
          0.08571428571428572,
          0.2857142857142857,
          0.37142857142857144,
          0.35714285714285715,
          0.19999999999999998,
          0.17142857142857143,
          0.17142857142857143,
          0.39999999999999997,
          0.37142857142857144,
          0.19999999999999998,
          0.15714285714285714
         ],
         "y": [
          0.13230757501321874,
          0.12838474658936133,
          0.05554635263006244,
          0.15899248801458252,
          0.09595750855209036,
          0.11063893138850758,
          0.04382037028586804,
          0.08880914567347743,
          0.08706068398937356,
          0.08398658324600669,
          0.12061547934716052,
          0.1459228600903374,
          0.221259963328753,
          0.09137540368711952,
          0.1183446445041021,
          0.16874721662295095,
          0.16602599404074567,
          0.05335768247564629,
          0.16218702176507063,
          0.1537461081850197,
          0.14407572118730805,
          0.1555481763352859,
          0.0895703966868315,
          0.20552981015787283,
          0.06731944459568992,
          0.2505670781674528,
          0.15602673604076103,
          0.13239088050736966,
          0.13325606824156108,
          0.101564263417787,
          0.11024962421742719,
          0.1090421079670201,
          0.1007385985882212,
          0.03263579533338724,
          0.15023190769807704,
          0.1791926951015244,
          0.15361688215242064,
          0.07992610952761273,
          0.026553220600950864,
          0.09352801676199249,
          0.08589726750154159,
          0.1321817661906158,
          0.03515007251944281,
          0.1115312171487514,
          0.15171831530965715,
          0.14401456321924874,
          0.06631541464069333,
          0.05801756173915558,
          0.05329601657971884,
          0.15107299659744297,
          0.13944072210201136,
          0.08588352456473457,
          0.05728607783708768
         ]
        },
        {
         "marker": {
          "color": "purple",
          "size": 14,
          "symbol": "circle"
         },
         "mode": "markers+text",
         "name": "Female",
         "text": [
          26,
          28,
          33,
          37,
          38,
          42,
          43,
          45,
          47,
          50,
          56,
          58,
          59,
          60,
          63,
          66,
          68,
          70
         ],
         "textfont": {
          "color": "white",
          "size": 8
         },
         "type": "scatter",
         "x": [
          0.3857142857142857,
          0.3,
          0.37142857142857144,
          0.2714285714285714,
          0.3142857142857143,
          0.2714285714285714,
          0.08571428571428572,
          0.17142857142857143,
          0.2571428571428571,
          0.32857142857142857,
          0.2571428571428571,
          0.12857142857142856,
          0.19999999999999998,
          0.04285714285714286,
          0.24285714285714285,
          0.24285714285714285,
          0.17142857142857143,
          0.19999999999999998
         ],
         "y": [
          0.15860449713981897,
          0.12110676392445066,
          0.13153959683794422,
          0.11709795713693402,
          0.1269651952653824,
          0.11599578831558917,
          0.03363446760055018,
          0.06151868365063731,
          0.09664446214045591,
          0.11171074262344295,
          0.10428362021580087,
          0.0386313844335601,
          0.06871185982916252,
          0.011999998567486403,
          0.08411020611118897,
          0.08814249097723786,
          0.05580891447234574,
          0.07596207954645508
         ]
        }
       ],
       "layout": {
        "hovermode": "closest",
        "paper_bgcolor": "white",
        "plot_bgcolor": "white",
        "template": {
         "data": {
          "bar": [
           {
            "error_x": {
             "color": "#2a3f5f"
            },
            "error_y": {
             "color": "#2a3f5f"
            },
            "marker": {
             "line": {
              "color": "#E5ECF6",
              "width": 0.5
             }
            },
            "type": "bar"
           }
          ],
          "barpolar": [
           {
            "marker": {
             "line": {
              "color": "#E5ECF6",
              "width": 0.5
             }
            },
            "type": "barpolar"
           }
          ],
          "carpet": [
           {
            "aaxis": {
             "endlinecolor": "#2a3f5f",
             "gridcolor": "white",
             "linecolor": "white",
             "minorgridcolor": "white",
             "startlinecolor": "#2a3f5f"
            },
            "baxis": {
             "endlinecolor": "#2a3f5f",
             "gridcolor": "white",
             "linecolor": "white",
             "minorgridcolor": "white",
             "startlinecolor": "#2a3f5f"
            },
            "type": "carpet"
           }
          ],
          "choropleth": [
           {
            "colorbar": {
             "outlinewidth": 0,
             "ticks": ""
            },
            "type": "choropleth"
           }
          ],
          "contour": [
           {
            "colorbar": {
             "outlinewidth": 0,
             "ticks": ""
            },
            "colorscale": [
             [
              0,
              "#0d0887"
             ],
             [
              0.1111111111111111,
              "#46039f"
             ],
             [
              0.2222222222222222,
              "#7201a8"
             ],
             [
              0.3333333333333333,
              "#9c179e"
             ],
             [
              0.4444444444444444,
              "#bd3786"
             ],
             [
              0.5555555555555556,
              "#d8576b"
             ],
             [
              0.6666666666666666,
              "#ed7953"
             ],
             [
              0.7777777777777778,
              "#fb9f3a"
             ],
             [
              0.8888888888888888,
              "#fdca26"
             ],
             [
              1,
              "#f0f921"
             ]
            ],
            "type": "contour"
           }
          ],
          "contourcarpet": [
           {
            "colorbar": {
             "outlinewidth": 0,
             "ticks": ""
            },
            "type": "contourcarpet"
           }
          ],
          "heatmap": [
           {
            "colorbar": {
             "outlinewidth": 0,
             "ticks": ""
            },
            "colorscale": [
             [
              0,
              "#0d0887"
             ],
             [
              0.1111111111111111,
              "#46039f"
             ],
             [
              0.2222222222222222,
              "#7201a8"
             ],
             [
              0.3333333333333333,
              "#9c179e"
             ],
             [
              0.4444444444444444,
              "#bd3786"
             ],
             [
              0.5555555555555556,
              "#d8576b"
             ],
             [
              0.6666666666666666,
              "#ed7953"
             ],
             [
              0.7777777777777778,
              "#fb9f3a"
             ],
             [
              0.8888888888888888,
              "#fdca26"
             ],
             [
              1,
              "#f0f921"
             ]
            ],
            "type": "heatmap"
           }
          ],
          "heatmapgl": [
           {
            "colorbar": {
             "outlinewidth": 0,
             "ticks": ""
            },
            "colorscale": [
             [
              0,
              "#0d0887"
             ],
             [
              0.1111111111111111,
              "#46039f"
             ],
             [
              0.2222222222222222,
              "#7201a8"
             ],
             [
              0.3333333333333333,
              "#9c179e"
             ],
             [
              0.4444444444444444,
              "#bd3786"
             ],
             [
              0.5555555555555556,
              "#d8576b"
             ],
             [
              0.6666666666666666,
              "#ed7953"
             ],
             [
              0.7777777777777778,
              "#fb9f3a"
             ],
             [
              0.8888888888888888,
              "#fdca26"
             ],
             [
              1,
              "#f0f921"
             ]
            ],
            "type": "heatmapgl"
           }
          ],
          "histogram": [
           {
            "marker": {
             "colorbar": {
              "outlinewidth": 0,
              "ticks": ""
             }
            },
            "type": "histogram"
           }
          ],
          "histogram2d": [
           {
            "colorbar": {
             "outlinewidth": 0,
             "ticks": ""
            },
            "colorscale": [
             [
              0,
              "#0d0887"
             ],
             [
              0.1111111111111111,
              "#46039f"
             ],
             [
              0.2222222222222222,
              "#7201a8"
             ],
             [
              0.3333333333333333,
              "#9c179e"
             ],
             [
              0.4444444444444444,
              "#bd3786"
             ],
             [
              0.5555555555555556,
              "#d8576b"
             ],
             [
              0.6666666666666666,
              "#ed7953"
             ],
             [
              0.7777777777777778,
              "#fb9f3a"
             ],
             [
              0.8888888888888888,
              "#fdca26"
             ],
             [
              1,
              "#f0f921"
             ]
            ],
            "type": "histogram2d"
           }
          ],
          "histogram2dcontour": [
           {
            "colorbar": {
             "outlinewidth": 0,
             "ticks": ""
            },
            "colorscale": [
             [
              0,
              "#0d0887"
             ],
             [
              0.1111111111111111,
              "#46039f"
             ],
             [
              0.2222222222222222,
              "#7201a8"
             ],
             [
              0.3333333333333333,
              "#9c179e"
             ],
             [
              0.4444444444444444,
              "#bd3786"
             ],
             [
              0.5555555555555556,
              "#d8576b"
             ],
             [
              0.6666666666666666,
              "#ed7953"
             ],
             [
              0.7777777777777778,
              "#fb9f3a"
             ],
             [
              0.8888888888888888,
              "#fdca26"
             ],
             [
              1,
              "#f0f921"
             ]
            ],
            "type": "histogram2dcontour"
           }
          ],
          "mesh3d": [
           {
            "colorbar": {
             "outlinewidth": 0,
             "ticks": ""
            },
            "type": "mesh3d"
           }
          ],
          "parcoords": [
           {
            "line": {
             "colorbar": {
              "outlinewidth": 0,
              "ticks": ""
             }
            },
            "type": "parcoords"
           }
          ],
          "pie": [
           {
            "automargin": true,
            "type": "pie"
           }
          ],
          "scatter": [
           {
            "marker": {
             "colorbar": {
              "outlinewidth": 0,
              "ticks": ""
             }
            },
            "type": "scatter"
           }
          ],
          "scatter3d": [
           {
            "line": {
             "colorbar": {
              "outlinewidth": 0,
              "ticks": ""
             }
            },
            "marker": {
             "colorbar": {
              "outlinewidth": 0,
              "ticks": ""
             }
            },
            "type": "scatter3d"
           }
          ],
          "scattercarpet": [
           {
            "marker": {
             "colorbar": {
              "outlinewidth": 0,
              "ticks": ""
             }
            },
            "type": "scattercarpet"
           }
          ],
          "scattergeo": [
           {
            "marker": {
             "colorbar": {
              "outlinewidth": 0,
              "ticks": ""
             }
            },
            "type": "scattergeo"
           }
          ],
          "scattergl": [
           {
            "marker": {
             "colorbar": {
              "outlinewidth": 0,
              "ticks": ""
             }
            },
            "type": "scattergl"
           }
          ],
          "scattermapbox": [
           {
            "marker": {
             "colorbar": {
              "outlinewidth": 0,
              "ticks": ""
             }
            },
            "type": "scattermapbox"
           }
          ],
          "scatterpolar": [
           {
            "marker": {
             "colorbar": {
              "outlinewidth": 0,
              "ticks": ""
             }
            },
            "type": "scatterpolar"
           }
          ],
          "scatterpolargl": [
           {
            "marker": {
             "colorbar": {
              "outlinewidth": 0,
              "ticks": ""
             }
            },
            "type": "scatterpolargl"
           }
          ],
          "scatterternary": [
           {
            "marker": {
             "colorbar": {
              "outlinewidth": 0,
              "ticks": ""
             }
            },
            "type": "scatterternary"
           }
          ],
          "surface": [
           {
            "colorbar": {
             "outlinewidth": 0,
             "ticks": ""
            },
            "colorscale": [
             [
              0,
              "#0d0887"
             ],
             [
              0.1111111111111111,
              "#46039f"
             ],
             [
              0.2222222222222222,
              "#7201a8"
             ],
             [
              0.3333333333333333,
              "#9c179e"
             ],
             [
              0.4444444444444444,
              "#bd3786"
             ],
             [
              0.5555555555555556,
              "#d8576b"
             ],
             [
              0.6666666666666666,
              "#ed7953"
             ],
             [
              0.7777777777777778,
              "#fb9f3a"
             ],
             [
              0.8888888888888888,
              "#fdca26"
             ],
             [
              1,
              "#f0f921"
             ]
            ],
            "type": "surface"
           }
          ],
          "table": [
           {
            "cells": {
             "fill": {
              "color": "#EBF0F8"
             },
             "line": {
              "color": "white"
             }
            },
            "header": {
             "fill": {
              "color": "#C8D4E3"
             },
             "line": {
              "color": "white"
             }
            },
            "type": "table"
           }
          ]
         },
         "layout": {
          "annotationdefaults": {
           "arrowcolor": "#2a3f5f",
           "arrowhead": 0,
           "arrowwidth": 1
          },
          "coloraxis": {
           "colorbar": {
            "outlinewidth": 0,
            "ticks": ""
           }
          },
          "colorscale": {
           "diverging": [
            [
             0,
             "#8e0152"
            ],
            [
             0.1,
             "#c51b7d"
            ],
            [
             0.2,
             "#de77ae"
            ],
            [
             0.3,
             "#f1b6da"
            ],
            [
             0.4,
             "#fde0ef"
            ],
            [
             0.5,
             "#f7f7f7"
            ],
            [
             0.6,
             "#e6f5d0"
            ],
            [
             0.7,
             "#b8e186"
            ],
            [
             0.8,
             "#7fbc41"
            ],
            [
             0.9,
             "#4d9221"
            ],
            [
             1,
             "#276419"
            ]
           ],
           "sequential": [
            [
             0,
             "#0d0887"
            ],
            [
             0.1111111111111111,
             "#46039f"
            ],
            [
             0.2222222222222222,
             "#7201a8"
            ],
            [
             0.3333333333333333,
             "#9c179e"
            ],
            [
             0.4444444444444444,
             "#bd3786"
            ],
            [
             0.5555555555555556,
             "#d8576b"
            ],
            [
             0.6666666666666666,
             "#ed7953"
            ],
            [
             0.7777777777777778,
             "#fb9f3a"
            ],
            [
             0.8888888888888888,
             "#fdca26"
            ],
            [
             1,
             "#f0f921"
            ]
           ],
           "sequentialminus": [
            [
             0,
             "#0d0887"
            ],
            [
             0.1111111111111111,
             "#46039f"
            ],
            [
             0.2222222222222222,
             "#7201a8"
            ],
            [
             0.3333333333333333,
             "#9c179e"
            ],
            [
             0.4444444444444444,
             "#bd3786"
            ],
            [
             0.5555555555555556,
             "#d8576b"
            ],
            [
             0.6666666666666666,
             "#ed7953"
            ],
            [
             0.7777777777777778,
             "#fb9f3a"
            ],
            [
             0.8888888888888888,
             "#fdca26"
            ],
            [
             1,
             "#f0f921"
            ]
           ]
          },
          "colorway": [
           "#636efa",
           "#EF553B",
           "#00cc96",
           "#ab63fa",
           "#FFA15A",
           "#19d3f3",
           "#FF6692",
           "#B6E880",
           "#FF97FF",
           "#FECB52"
          ],
          "font": {
           "color": "#2a3f5f"
          },
          "geo": {
           "bgcolor": "white",
           "lakecolor": "white",
           "landcolor": "#E5ECF6",
           "showlakes": true,
           "showland": true,
           "subunitcolor": "white"
          },
          "hoverlabel": {
           "align": "left"
          },
          "hovermode": "closest",
          "mapbox": {
           "style": "light"
          },
          "paper_bgcolor": "white",
          "plot_bgcolor": "#E5ECF6",
          "polar": {
           "angularaxis": {
            "gridcolor": "white",
            "linecolor": "white",
            "ticks": ""
           },
           "bgcolor": "#E5ECF6",
           "radialaxis": {
            "gridcolor": "white",
            "linecolor": "white",
            "ticks": ""
           }
          },
          "scene": {
           "xaxis": {
            "backgroundcolor": "#E5ECF6",
            "gridcolor": "white",
            "gridwidth": 2,
            "linecolor": "white",
            "showbackground": true,
            "ticks": "",
            "zerolinecolor": "white"
           },
           "yaxis": {
            "backgroundcolor": "#E5ECF6",
            "gridcolor": "white",
            "gridwidth": 2,
            "linecolor": "white",
            "showbackground": true,
            "ticks": "",
            "zerolinecolor": "white"
           },
           "zaxis": {
            "backgroundcolor": "#E5ECF6",
            "gridcolor": "white",
            "gridwidth": 2,
            "linecolor": "white",
            "showbackground": true,
            "ticks": "",
            "zerolinecolor": "white"
           }
          },
          "shapedefaults": {
           "line": {
            "color": "#2a3f5f"
           }
          },
          "ternary": {
           "aaxis": {
            "gridcolor": "white",
            "linecolor": "white",
            "ticks": ""
           },
           "baxis": {
            "gridcolor": "white",
            "linecolor": "white",
            "ticks": ""
           },
           "bgcolor": "#E5ECF6",
           "caxis": {
            "gridcolor": "white",
            "linecolor": "white",
            "ticks": ""
           }
          },
          "title": {
           "x": 0.05
          },
          "xaxis": {
           "automargin": true,
           "gridcolor": "white",
           "linecolor": "white",
           "ticks": "",
           "title": {
            "standoff": 15
           },
           "zerolinecolor": "white",
           "zerolinewidth": 2
          },
          "yaxis": {
           "automargin": true,
           "gridcolor": "white",
           "linecolor": "white",
           "ticks": "",
           "title": {
            "standoff": 15
           },
           "zerolinecolor": "white",
           "zerolinewidth": 2
          }
         }
        },
        "title": {
         "text": "Advice Netadvice - Centrality by Gender"
        },
        "xaxis": {
         "gridcolor": "grey",
         "gridwidth": 1,
         "showgrid": true,
         "title": {
          "text": "Degree Centrality"
         }
        },
        "yaxis": {
         "gridcolor": "grey",
         "gridwidth": 1,
         "showgrid": true,
         "title": {
          "text": "Eigenvector Centrality"
         }
        }
       }
      },
      "text/html": [
       "<div>\n",
       "        \n",
       "        \n",
       "            <div id=\"61323045-58ae-4381-b501-6b6cc5b30044\" class=\"plotly-graph-div\" style=\"height:525px; width:100%;\"></div>\n",
       "            <script type=\"text/javascript\">\n",
       "                require([\"plotly\"], function(Plotly) {\n",
       "                    window.PLOTLYENV=window.PLOTLYENV || {};\n",
       "                    \n",
       "                if (document.getElementById(\"61323045-58ae-4381-b501-6b6cc5b30044\")) {\n",
       "                    Plotly.newPlot(\n",
       "                        '61323045-58ae-4381-b501-6b6cc5b30044',\n",
       "                        [{\"hoverinfo\": \"text\", \"marker\": {\"color\": \"lightsalmon\", \"size\": 14, \"symbol\": \"circle\"}, \"mode\": \"markers+text\", \"name\": \"Male\", \"text\": [0.0, 1.0, 2.0, 3.0, 4.0, 5.0, 6.0, 7.0, 8.0, 9.0, 10.0, 11.0, 12.0, 13.0, 14.0, 15.0, 16.0, 17.0, 18.0, 19.0, 20.0, 21.0, 22.0, 23.0, 24.0, 25.0, 27.0, 29.0, 30.0, 31.0, 32.0, 34.0, 35.0, 36.0, 39.0, 40.0, 41.0, 44.0, 46.0, 48.0, 49.0, 51.0, 52.0, 53.0, 54.0, 55.0, 57.0, 61.0, 62.0, 64.0, 65.0, 67.0, 69.0], \"textfont\": {\"color\": \"black\", \"size\": 8}, \"type\": \"scatter\", \"x\": [0.3142857142857143, 0.34285714285714286, 0.15714285714285714, 0.3857142857142857, 0.2857142857142857, 0.3, 0.12857142857142856, 0.19999999999999998, 0.21428571428571427, 0.22857142857142856, 0.2857142857142857, 0.3857142857142857, 0.5714285714285714, 0.2571428571428571, 0.32857142857142857, 0.4857142857142857, 0.44285714285714284, 0.18571428571428572, 0.44285714285714284, 0.37142857142857144, 0.34285714285714286, 0.39999999999999997, 0.24285714285714285, 0.5142857142857142, 0.19999999999999998, 0.6571428571428571, 0.44285714285714284, 0.3857142857142857, 0.35714285714285715, 0.3, 0.3142857142857143, 0.32857142857142857, 0.24285714285714285, 0.09999999999999999, 0.37142857142857144, 0.45714285714285713, 0.37142857142857144, 0.22857142857142856, 0.08571428571428572, 0.22857142857142856, 0.2571428571428571, 0.32857142857142857, 0.08571428571428572, 0.2857142857142857, 0.37142857142857144, 0.35714285714285715, 0.19999999999999998, 0.17142857142857143, 0.17142857142857143, 0.39999999999999997, 0.37142857142857144, 0.19999999999999998, 0.15714285714285714], \"y\": [0.13230757501321874, 0.12838474658936133, 0.05554635263006244, 0.15899248801458252, 0.09595750855209036, 0.11063893138850758, 0.04382037028586804, 0.08880914567347743, 0.08706068398937356, 0.08398658324600669, 0.12061547934716052, 0.1459228600903374, 0.221259963328753, 0.09137540368711952, 0.1183446445041021, 0.16874721662295095, 0.16602599404074567, 0.05335768247564629, 0.16218702176507063, 0.1537461081850197, 0.14407572118730805, 0.1555481763352859, 0.0895703966868315, 0.20552981015787283, 0.06731944459568992, 0.2505670781674528, 0.15602673604076103, 0.13239088050736966, 0.13325606824156108, 0.101564263417787, 0.11024962421742719, 0.1090421079670201, 0.1007385985882212, 0.03263579533338724, 0.15023190769807704, 0.1791926951015244, 0.15361688215242064, 0.07992610952761273, 0.026553220600950864, 0.09352801676199249, 0.08589726750154159, 0.1321817661906158, 0.03515007251944281, 0.1115312171487514, 0.15171831530965715, 0.14401456321924874, 0.06631541464069333, 0.05801756173915558, 0.05329601657971884, 0.15107299659744297, 0.13944072210201136, 0.08588352456473457, 0.05728607783708768]}, {\"marker\": {\"color\": \"purple\", \"size\": 14, \"symbol\": \"circle\"}, \"mode\": \"markers+text\", \"name\": \"Female\", \"text\": [26.0, 28.0, 33.0, 37.0, 38.0, 42.0, 43.0, 45.0, 47.0, 50.0, 56.0, 58.0, 59.0, 60.0, 63.0, 66.0, 68.0, 70.0], \"textfont\": {\"color\": \"white\", \"size\": 8}, \"type\": \"scatter\", \"x\": [0.3857142857142857, 0.3, 0.37142857142857144, 0.2714285714285714, 0.3142857142857143, 0.2714285714285714, 0.08571428571428572, 0.17142857142857143, 0.2571428571428571, 0.32857142857142857, 0.2571428571428571, 0.12857142857142856, 0.19999999999999998, 0.04285714285714286, 0.24285714285714285, 0.24285714285714285, 0.17142857142857143, 0.19999999999999998], \"y\": [0.15860449713981897, 0.12110676392445066, 0.13153959683794422, 0.11709795713693402, 0.1269651952653824, 0.11599578831558917, 0.03363446760055018, 0.06151868365063731, 0.09664446214045591, 0.11171074262344295, 0.10428362021580087, 0.0386313844335601, 0.06871185982916252, 0.011999998567486403, 0.08411020611118897, 0.08814249097723786, 0.05580891447234574, 0.07596207954645508]}],\n",
       "                        {\"hovermode\": \"closest\", \"paper_bgcolor\": \"white\", \"plot_bgcolor\": \"white\", \"template\": {\"data\": {\"bar\": [{\"error_x\": {\"color\": \"#2a3f5f\"}, \"error_y\": {\"color\": \"#2a3f5f\"}, \"marker\": {\"line\": {\"color\": \"#E5ECF6\", \"width\": 0.5}}, \"type\": \"bar\"}], \"barpolar\": [{\"marker\": {\"line\": {\"color\": \"#E5ECF6\", \"width\": 0.5}}, \"type\": \"barpolar\"}], \"carpet\": [{\"aaxis\": {\"endlinecolor\": \"#2a3f5f\", \"gridcolor\": \"white\", \"linecolor\": \"white\", \"minorgridcolor\": \"white\", \"startlinecolor\": \"#2a3f5f\"}, \"baxis\": {\"endlinecolor\": \"#2a3f5f\", \"gridcolor\": \"white\", \"linecolor\": \"white\", \"minorgridcolor\": \"white\", \"startlinecolor\": \"#2a3f5f\"}, \"type\": \"carpet\"}], \"choropleth\": [{\"colorbar\": {\"outlinewidth\": 0, \"ticks\": \"\"}, \"type\": \"choropleth\"}], \"contour\": [{\"colorbar\": {\"outlinewidth\": 0, \"ticks\": \"\"}, \"colorscale\": [[0.0, \"#0d0887\"], [0.1111111111111111, \"#46039f\"], [0.2222222222222222, \"#7201a8\"], [0.3333333333333333, \"#9c179e\"], [0.4444444444444444, \"#bd3786\"], [0.5555555555555556, \"#d8576b\"], [0.6666666666666666, \"#ed7953\"], [0.7777777777777778, \"#fb9f3a\"], [0.8888888888888888, \"#fdca26\"], [1.0, \"#f0f921\"]], \"type\": \"contour\"}], \"contourcarpet\": [{\"colorbar\": {\"outlinewidth\": 0, \"ticks\": \"\"}, \"type\": \"contourcarpet\"}], \"heatmap\": [{\"colorbar\": {\"outlinewidth\": 0, \"ticks\": \"\"}, \"colorscale\": [[0.0, \"#0d0887\"], [0.1111111111111111, \"#46039f\"], [0.2222222222222222, \"#7201a8\"], [0.3333333333333333, \"#9c179e\"], [0.4444444444444444, \"#bd3786\"], [0.5555555555555556, \"#d8576b\"], [0.6666666666666666, \"#ed7953\"], [0.7777777777777778, \"#fb9f3a\"], [0.8888888888888888, \"#fdca26\"], [1.0, \"#f0f921\"]], \"type\": \"heatmap\"}], \"heatmapgl\": [{\"colorbar\": {\"outlinewidth\": 0, \"ticks\": \"\"}, \"colorscale\": [[0.0, \"#0d0887\"], [0.1111111111111111, \"#46039f\"], [0.2222222222222222, \"#7201a8\"], [0.3333333333333333, \"#9c179e\"], [0.4444444444444444, \"#bd3786\"], [0.5555555555555556, \"#d8576b\"], [0.6666666666666666, \"#ed7953\"], [0.7777777777777778, \"#fb9f3a\"], [0.8888888888888888, \"#fdca26\"], [1.0, \"#f0f921\"]], \"type\": \"heatmapgl\"}], \"histogram\": [{\"marker\": {\"colorbar\": {\"outlinewidth\": 0, \"ticks\": \"\"}}, \"type\": \"histogram\"}], \"histogram2d\": [{\"colorbar\": {\"outlinewidth\": 0, \"ticks\": \"\"}, \"colorscale\": [[0.0, \"#0d0887\"], [0.1111111111111111, \"#46039f\"], [0.2222222222222222, \"#7201a8\"], [0.3333333333333333, \"#9c179e\"], [0.4444444444444444, \"#bd3786\"], [0.5555555555555556, \"#d8576b\"], [0.6666666666666666, \"#ed7953\"], [0.7777777777777778, \"#fb9f3a\"], [0.8888888888888888, \"#fdca26\"], [1.0, \"#f0f921\"]], \"type\": \"histogram2d\"}], \"histogram2dcontour\": [{\"colorbar\": {\"outlinewidth\": 0, \"ticks\": \"\"}, \"colorscale\": [[0.0, \"#0d0887\"], [0.1111111111111111, \"#46039f\"], [0.2222222222222222, \"#7201a8\"], [0.3333333333333333, \"#9c179e\"], [0.4444444444444444, \"#bd3786\"], [0.5555555555555556, \"#d8576b\"], [0.6666666666666666, \"#ed7953\"], [0.7777777777777778, \"#fb9f3a\"], [0.8888888888888888, \"#fdca26\"], [1.0, \"#f0f921\"]], \"type\": \"histogram2dcontour\"}], \"mesh3d\": [{\"colorbar\": {\"outlinewidth\": 0, \"ticks\": \"\"}, \"type\": \"mesh3d\"}], \"parcoords\": [{\"line\": {\"colorbar\": {\"outlinewidth\": 0, \"ticks\": \"\"}}, \"type\": \"parcoords\"}], \"pie\": [{\"automargin\": true, \"type\": \"pie\"}], \"scatter\": [{\"marker\": {\"colorbar\": {\"outlinewidth\": 0, \"ticks\": \"\"}}, \"type\": \"scatter\"}], \"scatter3d\": [{\"line\": {\"colorbar\": {\"outlinewidth\": 0, \"ticks\": \"\"}}, \"marker\": {\"colorbar\": {\"outlinewidth\": 0, \"ticks\": \"\"}}, \"type\": \"scatter3d\"}], \"scattercarpet\": [{\"marker\": {\"colorbar\": {\"outlinewidth\": 0, \"ticks\": \"\"}}, \"type\": \"scattercarpet\"}], \"scattergeo\": [{\"marker\": {\"colorbar\": {\"outlinewidth\": 0, \"ticks\": \"\"}}, \"type\": \"scattergeo\"}], \"scattergl\": [{\"marker\": {\"colorbar\": {\"outlinewidth\": 0, \"ticks\": \"\"}}, \"type\": \"scattergl\"}], \"scattermapbox\": [{\"marker\": {\"colorbar\": {\"outlinewidth\": 0, \"ticks\": \"\"}}, \"type\": \"scattermapbox\"}], \"scatterpolar\": [{\"marker\": {\"colorbar\": {\"outlinewidth\": 0, \"ticks\": \"\"}}, \"type\": \"scatterpolar\"}], \"scatterpolargl\": [{\"marker\": {\"colorbar\": {\"outlinewidth\": 0, \"ticks\": \"\"}}, \"type\": \"scatterpolargl\"}], \"scatterternary\": [{\"marker\": {\"colorbar\": {\"outlinewidth\": 0, \"ticks\": \"\"}}, \"type\": \"scatterternary\"}], \"surface\": [{\"colorbar\": {\"outlinewidth\": 0, \"ticks\": \"\"}, \"colorscale\": [[0.0, \"#0d0887\"], [0.1111111111111111, \"#46039f\"], [0.2222222222222222, \"#7201a8\"], [0.3333333333333333, \"#9c179e\"], [0.4444444444444444, \"#bd3786\"], [0.5555555555555556, \"#d8576b\"], [0.6666666666666666, \"#ed7953\"], [0.7777777777777778, \"#fb9f3a\"], [0.8888888888888888, \"#fdca26\"], [1.0, \"#f0f921\"]], \"type\": \"surface\"}], \"table\": [{\"cells\": {\"fill\": {\"color\": \"#EBF0F8\"}, \"line\": {\"color\": \"white\"}}, \"header\": {\"fill\": {\"color\": \"#C8D4E3\"}, \"line\": {\"color\": \"white\"}}, \"type\": \"table\"}]}, \"layout\": {\"annotationdefaults\": {\"arrowcolor\": \"#2a3f5f\", \"arrowhead\": 0, \"arrowwidth\": 1}, \"coloraxis\": {\"colorbar\": {\"outlinewidth\": 0, \"ticks\": \"\"}}, \"colorscale\": {\"diverging\": [[0, \"#8e0152\"], [0.1, \"#c51b7d\"], [0.2, \"#de77ae\"], [0.3, \"#f1b6da\"], [0.4, \"#fde0ef\"], [0.5, \"#f7f7f7\"], [0.6, \"#e6f5d0\"], [0.7, \"#b8e186\"], [0.8, \"#7fbc41\"], [0.9, \"#4d9221\"], [1, \"#276419\"]], \"sequential\": [[0.0, \"#0d0887\"], [0.1111111111111111, \"#46039f\"], [0.2222222222222222, \"#7201a8\"], [0.3333333333333333, \"#9c179e\"], [0.4444444444444444, \"#bd3786\"], [0.5555555555555556, \"#d8576b\"], [0.6666666666666666, \"#ed7953\"], [0.7777777777777778, \"#fb9f3a\"], [0.8888888888888888, \"#fdca26\"], [1.0, \"#f0f921\"]], \"sequentialminus\": [[0.0, \"#0d0887\"], [0.1111111111111111, \"#46039f\"], [0.2222222222222222, \"#7201a8\"], [0.3333333333333333, \"#9c179e\"], [0.4444444444444444, \"#bd3786\"], [0.5555555555555556, \"#d8576b\"], [0.6666666666666666, \"#ed7953\"], [0.7777777777777778, \"#fb9f3a\"], [0.8888888888888888, \"#fdca26\"], [1.0, \"#f0f921\"]]}, \"colorway\": [\"#636efa\", \"#EF553B\", \"#00cc96\", \"#ab63fa\", \"#FFA15A\", \"#19d3f3\", \"#FF6692\", \"#B6E880\", \"#FF97FF\", \"#FECB52\"], \"font\": {\"color\": \"#2a3f5f\"}, \"geo\": {\"bgcolor\": \"white\", \"lakecolor\": \"white\", \"landcolor\": \"#E5ECF6\", \"showlakes\": true, \"showland\": true, \"subunitcolor\": \"white\"}, \"hoverlabel\": {\"align\": \"left\"}, \"hovermode\": \"closest\", \"mapbox\": {\"style\": \"light\"}, \"paper_bgcolor\": \"white\", \"plot_bgcolor\": \"#E5ECF6\", \"polar\": {\"angularaxis\": {\"gridcolor\": \"white\", \"linecolor\": \"white\", \"ticks\": \"\"}, \"bgcolor\": \"#E5ECF6\", \"radialaxis\": {\"gridcolor\": \"white\", \"linecolor\": \"white\", \"ticks\": \"\"}}, \"scene\": {\"xaxis\": {\"backgroundcolor\": \"#E5ECF6\", \"gridcolor\": \"white\", \"gridwidth\": 2, \"linecolor\": \"white\", \"showbackground\": true, \"ticks\": \"\", \"zerolinecolor\": \"white\"}, \"yaxis\": {\"backgroundcolor\": \"#E5ECF6\", \"gridcolor\": \"white\", \"gridwidth\": 2, \"linecolor\": \"white\", \"showbackground\": true, \"ticks\": \"\", \"zerolinecolor\": \"white\"}, \"zaxis\": {\"backgroundcolor\": \"#E5ECF6\", \"gridcolor\": \"white\", \"gridwidth\": 2, \"linecolor\": \"white\", \"showbackground\": true, \"ticks\": \"\", \"zerolinecolor\": \"white\"}}, \"shapedefaults\": {\"line\": {\"color\": \"#2a3f5f\"}}, \"ternary\": {\"aaxis\": {\"gridcolor\": \"white\", \"linecolor\": \"white\", \"ticks\": \"\"}, \"baxis\": {\"gridcolor\": \"white\", \"linecolor\": \"white\", \"ticks\": \"\"}, \"bgcolor\": \"#E5ECF6\", \"caxis\": {\"gridcolor\": \"white\", \"linecolor\": \"white\", \"ticks\": \"\"}}, \"title\": {\"x\": 0.05}, \"xaxis\": {\"automargin\": true, \"gridcolor\": \"white\", \"linecolor\": \"white\", \"ticks\": \"\", \"title\": {\"standoff\": 15}, \"zerolinecolor\": \"white\", \"zerolinewidth\": 2}, \"yaxis\": {\"automargin\": true, \"gridcolor\": \"white\", \"linecolor\": \"white\", \"ticks\": \"\", \"title\": {\"standoff\": 15}, \"zerolinecolor\": \"white\", \"zerolinewidth\": 2}}}, \"title\": {\"text\": \"Advice Netadvice - Centrality by Gender\"}, \"xaxis\": {\"gridcolor\": \"grey\", \"gridwidth\": 1, \"showgrid\": true, \"title\": {\"text\": \"Degree Centrality\"}}, \"yaxis\": {\"gridcolor\": \"grey\", \"gridwidth\": 1, \"showgrid\": true, \"title\": {\"text\": \"Eigenvector Centrality\"}}},\n",
       "                        {\"responsive\": true}\n",
       "                    ).then(function(){\n",
       "                            \n",
       "var gd = document.getElementById('61323045-58ae-4381-b501-6b6cc5b30044');\n",
       "var x = new MutationObserver(function (mutations, observer) {{\n",
       "        var display = window.getComputedStyle(gd).display;\n",
       "        if (!display || display === 'none') {{\n",
       "            console.log([gd, 'removed!']);\n",
       "            Plotly.purge(gd);\n",
       "            observer.disconnect();\n",
       "        }}\n",
       "}});\n",
       "\n",
       "// Listen for the removal of the full notebook cells\n",
       "var notebookContainer = gd.closest('#notebook-container');\n",
       "if (notebookContainer) {{\n",
       "    x.observe(notebookContainer, {childList: true});\n",
       "}}\n",
       "\n",
       "// Listen for the clearing of the current output cell\n",
       "var outputEl = gd.closest('.output');\n",
       "if (outputEl) {{\n",
       "    x.observe(outputEl, {childList: true});\n",
       "}}\n",
       "\n",
       "                        })\n",
       "                };\n",
       "                });\n",
       "            </script>\n",
       "        </div>"
      ]
     },
     "metadata": {},
     "output_type": "display_data"
    }
   ],
   "source": [
    "fig = go.Figure()\n",
    "fig.add_trace(go.Scatter(\n",
    "    x=advice_df[advice_df['gender']==1]['deg_centrality'],\n",
    "    y=advice_df[advice_df['gender']==1]['eig_centrality'],\n",
    "    text=advice_df[advice_df['gender']==1]['id'],\n",
    "    hoverinfo='text',\n",
    "    mode='markers+text',\n",
    "    name='Male',\n",
    "    textfont_size=8,\n",
    "    textfont_color='black',\n",
    "    marker=dict(size=14, \n",
    "                color='lightsalmon',\n",
    "                symbol='circle')))\n",
    "\n",
    "fig.add_trace(go.Scatter(\n",
    "    x = advice_df[advice_df['gender']==2]['deg_centrality'],\n",
    "    y = advice_df[advice_df['gender']==2]['eig_centrality'],\n",
    "    text=advice_df[advice_df['gender']==2]['id'],\n",
    "    mode='markers+text',\n",
    "    name = 'Female',\n",
    "    textfont_size=8,\n",
    "    textfont_color='white',\n",
    "    marker=dict(size=14, \n",
    "                color='purple', \n",
    "                symbol='circle')))\n",
    "    \n",
    "\n",
    "fig.update_layout(go.Layout(\n",
    "    title='Advice Network - Centrality by Gender',\n",
    "    xaxis=dict(\n",
    "        title='Degree Centrality'\n",
    "    ),\n",
    "    yaxis=dict(\n",
    "        title='Eigenvector Centrality'\n",
    "    ),\n",
    "    hovermode='closest',\n",
    "    plot_bgcolor='white',\n",
    "    paper_bgcolor='white',\n",
    "))\n",
    "fig.update_xaxes(showgrid=True, gridwidth=1, gridcolor='grey')\n",
    "fig.update_yaxes(showgrid=True, gridwidth=1, gridcolor='grey')\n",
    "fig.show()\n"
   ]
  },
  {
   "cell_type": "markdown",
   "metadata": {},
   "source": [
    "#### Get Mean and Variance for Advice Network Eigenvector Centrality by Gender"
   ]
  },
  {
   "cell_type": "code",
   "execution_count": 62,
   "metadata": {
    "ExecuteTime": {
     "end_time": "2020-06-18T19:07:23.050616Z",
     "start_time": "2020-06-18T19:07:23.039311Z"
    }
   },
   "outputs": [
    {
     "name": "stdout",
     "output_type": "stream",
     "text": [
      "Advice Network Eigenvector Centrality Statistics\n",
      "Male mean: 0.116\n",
      "Female mean: 0.089\n",
      "Male variance: 0.0023\n",
      "Female variance: 0.0014\n"
     ]
    }
   ],
   "source": [
    "print('Advice Network Eigenvector Centrality Statistics')\n",
    "print('Male mean: {}'.format(round(np.mean(advice_df[advice_df['gender']==1]['eig_centrality']),3)))\n",
    "print('Female mean: {}'.format(round(np.mean(advice_df[advice_df['gender']==2]['eig_centrality']),3)))\n",
    "print('Male variance: {}'.format(round(np.var(advice_df[advice_df['gender']==1]['eig_centrality']),4)))\n",
    "print('Female variance: {}'.format(round(np.var(advice_df[advice_df['gender']==2]['eig_centrality']),4)))"
   ]
  },
  {
   "cell_type": "markdown",
   "metadata": {},
   "source": [
    "### T-Test for Differences in Advice Network Eigenvector Centrality - Gender  \n",
    "\n",
    "Test if there is a statistically significant difference between mean advice network eigenvector centralities for males and females using an unpaired t-test. "
   ]
  },
  {
   "cell_type": "code",
   "execution_count": 64,
   "metadata": {
    "ExecuteTime": {
     "end_time": "2020-06-18T19:07:50.349113Z",
     "start_time": "2020-06-18T19:07:50.342821Z"
    }
   },
   "outputs": [
    {
     "name": "stdout",
     "output_type": "stream",
     "text": [
      "p-value for t-test comparing mean advice eigenvector centralities for males and females: 0.024\n"
     ]
    }
   ],
   "source": [
    "advice_ttest = stats.ttest_ind(advice_df[advice_df['gender']==1]['eig_centrality'],\n",
    "                               advice_df[advice_df['gender']==2]['eig_centrality'], \n",
    "                               equal_var = False)\n",
    "print('p-value for t-test comparing mean advice eigenvector centralities for males and females: {}'.format(round(advice_ttest[1],3)))"
   ]
  },
  {
   "cell_type": "markdown",
   "metadata": {},
   "source": [
    "There is a statistically significant difference between mean advice eigenvector centralities for males and females (p-value = 0.024). "
   ]
  },
  {
   "cell_type": "markdown",
   "metadata": {},
   "source": [
    "### Look at Co-worker Network\n",
    "\n",
    "#### Build co-worker network graph"
   ]
  },
  {
   "cell_type": "code",
   "execution_count": 65,
   "metadata": {
    "ExecuteTime": {
     "end_time": "2020-06-18T19:07:53.680405Z",
     "start_time": "2020-06-18T19:07:53.669055Z"
    }
   },
   "outputs": [],
   "source": [
    "df_work = df_rel[142:].astype(int).reset_index(drop=True)\n",
    "\n",
    "G_work=nx.from_pandas_adjacency(df_work)\n",
    "for node in list(G_work.nodes):\n",
    "    G_work.nodes[node]['gender'] = gender_dict[node]\n",
    "    G_work.nodes[node]['status'] = status_dict[node]"
   ]
  },
  {
   "cell_type": "code",
   "execution_count": 18,
   "metadata": {
    "ExecuteTime": {
     "end_time": "2020-06-18T15:57:28.673858Z",
     "start_time": "2020-06-18T15:57:28.658633Z"
    }
   },
   "outputs": [],
   "source": [
    "nx.write_gml(G_work, 'G_work.gml')\n",
    "nx.write_gml(G_social, 'G_social.gml')\n",
    "nx.write_gml(G_advice, 'G_advice.gml')"
   ]
  },
  {
   "cell_type": "markdown",
   "metadata": {},
   "source": [
    "#### Visualize Co-worker Network\n",
    "The visualization of the co-worker network by gender is below.  Again, it appears the male nodes have higher degrees than the females.  Nodes 23 and 25, both males, have high degrees in the co-worker network.  "
   ]
  },
  {
   "cell_type": "markdown",
   "metadata": {},
   "source": [
    "### Work Network - by Gender\n",
    "\n",
    "Orange is male, purple is female. Size indicates degree\n",
    "\n",
    "![title](graphics/work_gender.png)"
   ]
  },
  {
   "cell_type": "markdown",
   "metadata": {},
   "source": [
    "The visualization of the co-worker network by status is below.  As we would expect, in general, partners appear to have higher degrees in the co-worker network than associates."
   ]
  },
  {
   "cell_type": "markdown",
   "metadata": {},
   "source": [
    "### Work Network - by Status\n",
    "\n",
    "Brown is partner, green is associate. Size indicates degree\n",
    "\n",
    "![title](graphics/work_status.png)"
   ]
  },
  {
   "cell_type": "code",
   "execution_count": 66,
   "metadata": {
    "ExecuteTime": {
     "end_time": "2020-06-18T19:08:06.179148Z",
     "start_time": "2020-06-18T19:08:06.162179Z"
    }
   },
   "outputs": [
    {
     "name": "stdout",
     "output_type": "stream",
     "text": [
      "Co-worker Network: Eigenvector Centrality\n",
      "---------------------------------------------------------------\n",
      "\n",
      "Gender : 1\n",
      "[(23, 0.236), (25, 0.235), (21, 0.197), (14, 0.195), (18, 0.195)]\n",
      "Status : 1\n",
      "[(23, 0.236), (25, 0.235), (21, 0.197), (14, 0.195), (18, 0.195)]\n",
      "---------------------------------------------------------------\n",
      "\n",
      "Gender : 2\n",
      "[(28, 0.146), (42, 0.145), (33, 0.14), (37, 0.134), (38, 0.116)]\n",
      "Status : 2\n",
      "[(65, 0.154), (64, 0.148), (42, 0.145), (67, 0.135), (37, 0.134)]\n",
      "---------------------------------------------------------------\n",
      "\n",
      "Co-worker Network: Degree Centrality: All\n",
      "[(23, 0.643), (25, 0.614), (14, 0.529), (18, 0.529), (21, 0.514)]\n"
     ]
    }
   ],
   "source": [
    "work_eig_centrality = nx.eigenvector_centrality(G_work, max_iter=1000)\n",
    "work_deg_centrality = nx.degree_centrality(G_work)\n",
    "\n",
    "print('Co-worker Network: Eigenvector Centrality')\n",
    "print('---------------------------------------------------------------')\n",
    "print('')\n",
    "\n",
    "for attribute in [1,2]:\n",
    "    \n",
    "    gender_centrality = {k:v for k,v in work_eig_centrality.items() if gender_dict[k]==attribute}\n",
    "    status_centrality = {k:v for k,v in work_eig_centrality.items() if status_dict[k]==attribute}\n",
    "    \n",
    "    print('Gender : {}'.format(attribute))\n",
    "    print(sorted([(round(x,3),round(y,3)) \n",
    "                  for x,y in gender_centrality.items()], \n",
    "                  key=lambda x: x[1], reverse=True)[:5])\n",
    "    \n",
    "    print('Status : {}'.format(attribute))\n",
    "    print(sorted([(round(x,3),round(y,3)) \n",
    "                  for x,y in status_centrality.items()], \n",
    "                  key=lambda x: x[1], reverse=True)[:5])\n",
    "    print('---------------------------------------------------------------')\n",
    "    print('')\n",
    "    \n",
    "print('Co-worker Network: Degree Centrality: All')\n",
    "print(sorted([(round(x,3),round(y,3)) \n",
    "               for x,y in work_deg_centrality.items()], \n",
    "               key=lambda x: x[1], reverse=True)[:5])"
   ]
  },
  {
   "cell_type": "markdown",
   "metadata": {},
   "source": [
    "In the co-worker network, the top 5 males with the highest eigenvector centrality are 23, 25, 21, 14, and 18.  A few of these males were also in the top of the social network and advice network (25, 23). All 5 of these have status as a partner in the law firm.  The top 5 females with the highest eigenvector centrality are 28, 42, 33, 37, and 38.  Three of these were also in the top of the social and advice networks (28, 37, 38).  Again, the values for the top females are lower than those of the top 5 males.  \n",
    "\n",
    "Looking at degree centrality for all nodes, we see some familiar individuals.  The top 5 nodes are the exact same as the top 5 eigenvector centralities for males."
   ]
  },
  {
   "cell_type": "markdown",
   "metadata": {},
   "source": [
    "#### Create dataframes "
   ]
  },
  {
   "cell_type": "code",
   "execution_count": 68,
   "metadata": {
    "ExecuteTime": {
     "end_time": "2020-06-18T19:09:36.968246Z",
     "start_time": "2020-06-18T19:09:36.960562Z"
    }
   },
   "outputs": [],
   "source": [
    "work_df = pd.DataFrame(np.array([list(work_eig_centrality.values()),\n",
    "                                 list(work_deg_centrality.values()),\n",
    "                                 list(work_deg_centrality.keys())]).T,\n",
    "                          columns = ['eig_centrality', 'deg_centrality','id'])\n",
    "\n",
    "work_df['gender'] = work_df['id'].map(gender_dict)\n",
    "work_df['status'] = work_df['id'].map(status_dict)"
   ]
  },
  {
   "cell_type": "markdown",
   "metadata": {},
   "source": [
    "#### Scatter Plot of Co-Worker Network Eigenvector Centrality by Gender "
   ]
  },
  {
   "cell_type": "code",
   "execution_count": 112,
   "metadata": {
    "ExecuteTime": {
     "end_time": "2020-06-19T01:39:01.559029Z",
     "start_time": "2020-06-19T01:39:00.822850Z"
    }
   },
   "outputs": [
    {
     "data": {
      "application/vnd.plotly.v1+json": {
       "config": {
        "plotlyServerURL": "https://plot.ly"
       },
       "data": [
        {
         "hoverinfo": "text",
         "marker": {
          "color": "lightsalmon",
          "size": 14,
          "symbol": "circle"
         },
         "mode": "markers+text",
         "name": "Male",
         "text": [
          0,
          1,
          2,
          3,
          4,
          5,
          6,
          7,
          8,
          9,
          10,
          11,
          12,
          13,
          14,
          15,
          16,
          17,
          18,
          19,
          20,
          21,
          22,
          23,
          24,
          25,
          27,
          29,
          30,
          31,
          32,
          34,
          35,
          36,
          39,
          40,
          41,
          44,
          46,
          48,
          49,
          51,
          52,
          53,
          54,
          55,
          57,
          61,
          62,
          64,
          65,
          67,
          69
         ],
         "textfont": {
          "color": "black",
          "size": 8
         },
         "type": "scatter",
         "x": [
          0.21428571428571427,
          0.2571428571428571,
          0.09999999999999999,
          0.44285714285714284,
          0.22857142857142856,
          0.3,
          0.15714285714285714,
          0.18571428571428572,
          0.2714285714285714,
          0.32857142857142857,
          0.2714285714285714,
          0.2714285714285714,
          0.45714285714285713,
          0.3142857142857143,
          0.5285714285714286,
          0.4714285714285714,
          0.44285714285714284,
          0.21428571428571427,
          0.5285714285714286,
          0.32857142857142857,
          0.24285714285714285,
          0.5142857142857142,
          0.17142857142857143,
          0.6428571428571428,
          0.22857142857142856,
          0.6142857142857142,
          0.45714285714285713,
          0.3857142857142857,
          0.45714285714285713,
          0.3857142857142857,
          0.18571428571428572,
          0.2857142857142857,
          0.2571428571428571,
          0.14285714285714285,
          0.3,
          0.3142857142857143,
          0.19999999999999998,
          0.34285714285714286,
          0.12857142857142856,
          0.3142857142857143,
          0.24285714285714285,
          0.34285714285714286,
          0.14285714285714285,
          0.3,
          0.2571428571428571,
          0.24285714285714285,
          0.18571428571428572,
          0.2571428571428571,
          0.24285714285714285,
          0.37142857142857144,
          0.41428571428571426,
          0.35714285714285715,
          0.2714285714285714
         ],
         "y": [
          0.09635424220380527,
          0.10614425434614341,
          0.029443215266905475,
          0.1743687232988473,
          0.06959302833587126,
          0.10446744452168155,
          0.04483869020578944,
          0.08098291085593737,
          0.11540478705908382,
          0.12444223715167195,
          0.1038361603120393,
          0.10797873936762628,
          0.15711118635430948,
          0.11717696846629372,
          0.19477654893501084,
          0.16268483702317887,
          0.16517189237797894,
          0.054424151712232874,
          0.19504212868064008,
          0.13976458414881288,
          0.10489589923131942,
          0.1973784408474406,
          0.05973491201484739,
          0.23614605839914585,
          0.08316989073852062,
          0.2351610837238484,
          0.16433109864515086,
          0.13294204808401294,
          0.144743010026892,
          0.13215331018145823,
          0.05201272469755704,
          0.10230933241371375,
          0.10419530967256155,
          0.06130317525701599,
          0.11874205357660711,
          0.12351989332008693,
          0.07804507911423492,
          0.12650179707909534,
          0.04229261099234078,
          0.11155546116961167,
          0.08410401835110289,
          0.1325351262616894,
          0.05512375683491149,
          0.10326948561411628,
          0.11044991004643533,
          0.1053321004624939,
          0.05304528689284766,
          0.11616276236232731,
          0.09186096871956315,
          0.14803171583835428,
          0.1543703837795305,
          0.13472276834194818,
          0.10782907239072577
         ]
        },
        {
         "marker": {
          "color": "purple",
          "size": 14,
          "symbol": "circle"
         },
         "mode": "markers+text",
         "name": "Female",
         "text": [
          26,
          28,
          33,
          37,
          38,
          42,
          43,
          45,
          47,
          50,
          56,
          58,
          59,
          60,
          63,
          66,
          68,
          70
         ],
         "textfont": {
          "color": "white",
          "size": 8
         },
         "type": "scatter",
         "x": [
          0.2714285714285714,
          0.3857142857142857,
          0.35714285714285715,
          0.35714285714285715,
          0.3,
          0.3857142857142857,
          0.12857142857142856,
          0.22857142857142856,
          0.14285714285714285,
          0.19999999999999998,
          0.24285714285714285,
          0.14285714285714285,
          0.21428571428571427,
          0.17142857142857143,
          0.17142857142857143,
          0.15714285714285714,
          0.14285714285714285,
          0.22857142857142856
         ],
         "y": [
          0.10949412802991677,
          0.14641446989490625,
          0.14024726353169492,
          0.13380871938671557,
          0.11580316916900904,
          0.14460922506230375,
          0.05078885532190528,
          0.09528890884384927,
          0.0639170711059892,
          0.06399141712978823,
          0.09737638306052548,
          0.038347348350433144,
          0.0832073762124447,
          0.07144966821639552,
          0.07360376426038016,
          0.07000480184636959,
          0.061602022124297086,
          0.09865282466861636
         ]
        }
       ],
       "layout": {
        "hovermode": "closest",
        "paper_bgcolor": "white",
        "plot_bgcolor": "white",
        "template": {
         "data": {
          "bar": [
           {
            "error_x": {
             "color": "#2a3f5f"
            },
            "error_y": {
             "color": "#2a3f5f"
            },
            "marker": {
             "line": {
              "color": "#E5ECF6",
              "width": 0.5
             }
            },
            "type": "bar"
           }
          ],
          "barpolar": [
           {
            "marker": {
             "line": {
              "color": "#E5ECF6",
              "width": 0.5
             }
            },
            "type": "barpolar"
           }
          ],
          "carpet": [
           {
            "aaxis": {
             "endlinecolor": "#2a3f5f",
             "gridcolor": "white",
             "linecolor": "white",
             "minorgridcolor": "white",
             "startlinecolor": "#2a3f5f"
            },
            "baxis": {
             "endlinecolor": "#2a3f5f",
             "gridcolor": "white",
             "linecolor": "white",
             "minorgridcolor": "white",
             "startlinecolor": "#2a3f5f"
            },
            "type": "carpet"
           }
          ],
          "choropleth": [
           {
            "colorbar": {
             "outlinewidth": 0,
             "ticks": ""
            },
            "type": "choropleth"
           }
          ],
          "contour": [
           {
            "colorbar": {
             "outlinewidth": 0,
             "ticks": ""
            },
            "colorscale": [
             [
              0,
              "#0d0887"
             ],
             [
              0.1111111111111111,
              "#46039f"
             ],
             [
              0.2222222222222222,
              "#7201a8"
             ],
             [
              0.3333333333333333,
              "#9c179e"
             ],
             [
              0.4444444444444444,
              "#bd3786"
             ],
             [
              0.5555555555555556,
              "#d8576b"
             ],
             [
              0.6666666666666666,
              "#ed7953"
             ],
             [
              0.7777777777777778,
              "#fb9f3a"
             ],
             [
              0.8888888888888888,
              "#fdca26"
             ],
             [
              1,
              "#f0f921"
             ]
            ],
            "type": "contour"
           }
          ],
          "contourcarpet": [
           {
            "colorbar": {
             "outlinewidth": 0,
             "ticks": ""
            },
            "type": "contourcarpet"
           }
          ],
          "heatmap": [
           {
            "colorbar": {
             "outlinewidth": 0,
             "ticks": ""
            },
            "colorscale": [
             [
              0,
              "#0d0887"
             ],
             [
              0.1111111111111111,
              "#46039f"
             ],
             [
              0.2222222222222222,
              "#7201a8"
             ],
             [
              0.3333333333333333,
              "#9c179e"
             ],
             [
              0.4444444444444444,
              "#bd3786"
             ],
             [
              0.5555555555555556,
              "#d8576b"
             ],
             [
              0.6666666666666666,
              "#ed7953"
             ],
             [
              0.7777777777777778,
              "#fb9f3a"
             ],
             [
              0.8888888888888888,
              "#fdca26"
             ],
             [
              1,
              "#f0f921"
             ]
            ],
            "type": "heatmap"
           }
          ],
          "heatmapgl": [
           {
            "colorbar": {
             "outlinewidth": 0,
             "ticks": ""
            },
            "colorscale": [
             [
              0,
              "#0d0887"
             ],
             [
              0.1111111111111111,
              "#46039f"
             ],
             [
              0.2222222222222222,
              "#7201a8"
             ],
             [
              0.3333333333333333,
              "#9c179e"
             ],
             [
              0.4444444444444444,
              "#bd3786"
             ],
             [
              0.5555555555555556,
              "#d8576b"
             ],
             [
              0.6666666666666666,
              "#ed7953"
             ],
             [
              0.7777777777777778,
              "#fb9f3a"
             ],
             [
              0.8888888888888888,
              "#fdca26"
             ],
             [
              1,
              "#f0f921"
             ]
            ],
            "type": "heatmapgl"
           }
          ],
          "histogram": [
           {
            "marker": {
             "colorbar": {
              "outlinewidth": 0,
              "ticks": ""
             }
            },
            "type": "histogram"
           }
          ],
          "histogram2d": [
           {
            "colorbar": {
             "outlinewidth": 0,
             "ticks": ""
            },
            "colorscale": [
             [
              0,
              "#0d0887"
             ],
             [
              0.1111111111111111,
              "#46039f"
             ],
             [
              0.2222222222222222,
              "#7201a8"
             ],
             [
              0.3333333333333333,
              "#9c179e"
             ],
             [
              0.4444444444444444,
              "#bd3786"
             ],
             [
              0.5555555555555556,
              "#d8576b"
             ],
             [
              0.6666666666666666,
              "#ed7953"
             ],
             [
              0.7777777777777778,
              "#fb9f3a"
             ],
             [
              0.8888888888888888,
              "#fdca26"
             ],
             [
              1,
              "#f0f921"
             ]
            ],
            "type": "histogram2d"
           }
          ],
          "histogram2dcontour": [
           {
            "colorbar": {
             "outlinewidth": 0,
             "ticks": ""
            },
            "colorscale": [
             [
              0,
              "#0d0887"
             ],
             [
              0.1111111111111111,
              "#46039f"
             ],
             [
              0.2222222222222222,
              "#7201a8"
             ],
             [
              0.3333333333333333,
              "#9c179e"
             ],
             [
              0.4444444444444444,
              "#bd3786"
             ],
             [
              0.5555555555555556,
              "#d8576b"
             ],
             [
              0.6666666666666666,
              "#ed7953"
             ],
             [
              0.7777777777777778,
              "#fb9f3a"
             ],
             [
              0.8888888888888888,
              "#fdca26"
             ],
             [
              1,
              "#f0f921"
             ]
            ],
            "type": "histogram2dcontour"
           }
          ],
          "mesh3d": [
           {
            "colorbar": {
             "outlinewidth": 0,
             "ticks": ""
            },
            "type": "mesh3d"
           }
          ],
          "parcoords": [
           {
            "line": {
             "colorbar": {
              "outlinewidth": 0,
              "ticks": ""
             }
            },
            "type": "parcoords"
           }
          ],
          "pie": [
           {
            "automargin": true,
            "type": "pie"
           }
          ],
          "scatter": [
           {
            "marker": {
             "colorbar": {
              "outlinewidth": 0,
              "ticks": ""
             }
            },
            "type": "scatter"
           }
          ],
          "scatter3d": [
           {
            "line": {
             "colorbar": {
              "outlinewidth": 0,
              "ticks": ""
             }
            },
            "marker": {
             "colorbar": {
              "outlinewidth": 0,
              "ticks": ""
             }
            },
            "type": "scatter3d"
           }
          ],
          "scattercarpet": [
           {
            "marker": {
             "colorbar": {
              "outlinewidth": 0,
              "ticks": ""
             }
            },
            "type": "scattercarpet"
           }
          ],
          "scattergeo": [
           {
            "marker": {
             "colorbar": {
              "outlinewidth": 0,
              "ticks": ""
             }
            },
            "type": "scattergeo"
           }
          ],
          "scattergl": [
           {
            "marker": {
             "colorbar": {
              "outlinewidth": 0,
              "ticks": ""
             }
            },
            "type": "scattergl"
           }
          ],
          "scattermapbox": [
           {
            "marker": {
             "colorbar": {
              "outlinewidth": 0,
              "ticks": ""
             }
            },
            "type": "scattermapbox"
           }
          ],
          "scatterpolar": [
           {
            "marker": {
             "colorbar": {
              "outlinewidth": 0,
              "ticks": ""
             }
            },
            "type": "scatterpolar"
           }
          ],
          "scatterpolargl": [
           {
            "marker": {
             "colorbar": {
              "outlinewidth": 0,
              "ticks": ""
             }
            },
            "type": "scatterpolargl"
           }
          ],
          "scatterternary": [
           {
            "marker": {
             "colorbar": {
              "outlinewidth": 0,
              "ticks": ""
             }
            },
            "type": "scatterternary"
           }
          ],
          "surface": [
           {
            "colorbar": {
             "outlinewidth": 0,
             "ticks": ""
            },
            "colorscale": [
             [
              0,
              "#0d0887"
             ],
             [
              0.1111111111111111,
              "#46039f"
             ],
             [
              0.2222222222222222,
              "#7201a8"
             ],
             [
              0.3333333333333333,
              "#9c179e"
             ],
             [
              0.4444444444444444,
              "#bd3786"
             ],
             [
              0.5555555555555556,
              "#d8576b"
             ],
             [
              0.6666666666666666,
              "#ed7953"
             ],
             [
              0.7777777777777778,
              "#fb9f3a"
             ],
             [
              0.8888888888888888,
              "#fdca26"
             ],
             [
              1,
              "#f0f921"
             ]
            ],
            "type": "surface"
           }
          ],
          "table": [
           {
            "cells": {
             "fill": {
              "color": "#EBF0F8"
             },
             "line": {
              "color": "white"
             }
            },
            "header": {
             "fill": {
              "color": "#C8D4E3"
             },
             "line": {
              "color": "white"
             }
            },
            "type": "table"
           }
          ]
         },
         "layout": {
          "annotationdefaults": {
           "arrowcolor": "#2a3f5f",
           "arrowhead": 0,
           "arrowwidth": 1
          },
          "coloraxis": {
           "colorbar": {
            "outlinewidth": 0,
            "ticks": ""
           }
          },
          "colorscale": {
           "diverging": [
            [
             0,
             "#8e0152"
            ],
            [
             0.1,
             "#c51b7d"
            ],
            [
             0.2,
             "#de77ae"
            ],
            [
             0.3,
             "#f1b6da"
            ],
            [
             0.4,
             "#fde0ef"
            ],
            [
             0.5,
             "#f7f7f7"
            ],
            [
             0.6,
             "#e6f5d0"
            ],
            [
             0.7,
             "#b8e186"
            ],
            [
             0.8,
             "#7fbc41"
            ],
            [
             0.9,
             "#4d9221"
            ],
            [
             1,
             "#276419"
            ]
           ],
           "sequential": [
            [
             0,
             "#0d0887"
            ],
            [
             0.1111111111111111,
             "#46039f"
            ],
            [
             0.2222222222222222,
             "#7201a8"
            ],
            [
             0.3333333333333333,
             "#9c179e"
            ],
            [
             0.4444444444444444,
             "#bd3786"
            ],
            [
             0.5555555555555556,
             "#d8576b"
            ],
            [
             0.6666666666666666,
             "#ed7953"
            ],
            [
             0.7777777777777778,
             "#fb9f3a"
            ],
            [
             0.8888888888888888,
             "#fdca26"
            ],
            [
             1,
             "#f0f921"
            ]
           ],
           "sequentialminus": [
            [
             0,
             "#0d0887"
            ],
            [
             0.1111111111111111,
             "#46039f"
            ],
            [
             0.2222222222222222,
             "#7201a8"
            ],
            [
             0.3333333333333333,
             "#9c179e"
            ],
            [
             0.4444444444444444,
             "#bd3786"
            ],
            [
             0.5555555555555556,
             "#d8576b"
            ],
            [
             0.6666666666666666,
             "#ed7953"
            ],
            [
             0.7777777777777778,
             "#fb9f3a"
            ],
            [
             0.8888888888888888,
             "#fdca26"
            ],
            [
             1,
             "#f0f921"
            ]
           ]
          },
          "colorway": [
           "#636efa",
           "#EF553B",
           "#00cc96",
           "#ab63fa",
           "#FFA15A",
           "#19d3f3",
           "#FF6692",
           "#B6E880",
           "#FF97FF",
           "#FECB52"
          ],
          "font": {
           "color": "#2a3f5f"
          },
          "geo": {
           "bgcolor": "white",
           "lakecolor": "white",
           "landcolor": "#E5ECF6",
           "showlakes": true,
           "showland": true,
           "subunitcolor": "white"
          },
          "hoverlabel": {
           "align": "left"
          },
          "hovermode": "closest",
          "mapbox": {
           "style": "light"
          },
          "paper_bgcolor": "white",
          "plot_bgcolor": "#E5ECF6",
          "polar": {
           "angularaxis": {
            "gridcolor": "white",
            "linecolor": "white",
            "ticks": ""
           },
           "bgcolor": "#E5ECF6",
           "radialaxis": {
            "gridcolor": "white",
            "linecolor": "white",
            "ticks": ""
           }
          },
          "scene": {
           "xaxis": {
            "backgroundcolor": "#E5ECF6",
            "gridcolor": "white",
            "gridwidth": 2,
            "linecolor": "white",
            "showbackground": true,
            "ticks": "",
            "zerolinecolor": "white"
           },
           "yaxis": {
            "backgroundcolor": "#E5ECF6",
            "gridcolor": "white",
            "gridwidth": 2,
            "linecolor": "white",
            "showbackground": true,
            "ticks": "",
            "zerolinecolor": "white"
           },
           "zaxis": {
            "backgroundcolor": "#E5ECF6",
            "gridcolor": "white",
            "gridwidth": 2,
            "linecolor": "white",
            "showbackground": true,
            "ticks": "",
            "zerolinecolor": "white"
           }
          },
          "shapedefaults": {
           "line": {
            "color": "#2a3f5f"
           }
          },
          "ternary": {
           "aaxis": {
            "gridcolor": "white",
            "linecolor": "white",
            "ticks": ""
           },
           "baxis": {
            "gridcolor": "white",
            "linecolor": "white",
            "ticks": ""
           },
           "bgcolor": "#E5ECF6",
           "caxis": {
            "gridcolor": "white",
            "linecolor": "white",
            "ticks": ""
           }
          },
          "title": {
           "x": 0.05
          },
          "xaxis": {
           "automargin": true,
           "gridcolor": "white",
           "linecolor": "white",
           "ticks": "",
           "title": {
            "standoff": 15
           },
           "zerolinecolor": "white",
           "zerolinewidth": 2
          },
          "yaxis": {
           "automargin": true,
           "gridcolor": "white",
           "linecolor": "white",
           "ticks": "",
           "title": {
            "standoff": 15
           },
           "zerolinecolor": "white",
           "zerolinewidth": 2
          }
         }
        },
        "title": {
         "text": "Work Network - Centrality by Gender"
        },
        "xaxis": {
         "gridcolor": "grey",
         "gridwidth": 1,
         "showgrid": true,
         "title": {
          "text": "Degree Centrality"
         }
        },
        "yaxis": {
         "gridcolor": "grey",
         "gridwidth": 1,
         "showgrid": true,
         "title": {
          "text": "Eigenvector Centrality"
         }
        }
       }
      },
      "text/html": [
       "<div>\n",
       "        \n",
       "        \n",
       "            <div id=\"0fe5108f-5516-4238-94b8-8deb221c3b1c\" class=\"plotly-graph-div\" style=\"height:525px; width:100%;\"></div>\n",
       "            <script type=\"text/javascript\">\n",
       "                require([\"plotly\"], function(Plotly) {\n",
       "                    window.PLOTLYENV=window.PLOTLYENV || {};\n",
       "                    \n",
       "                if (document.getElementById(\"0fe5108f-5516-4238-94b8-8deb221c3b1c\")) {\n",
       "                    Plotly.newPlot(\n",
       "                        '0fe5108f-5516-4238-94b8-8deb221c3b1c',\n",
       "                        [{\"hoverinfo\": \"text\", \"marker\": {\"color\": \"lightsalmon\", \"size\": 14, \"symbol\": \"circle\"}, \"mode\": \"markers+text\", \"name\": \"Male\", \"text\": [0.0, 1.0, 2.0, 3.0, 4.0, 5.0, 6.0, 7.0, 8.0, 9.0, 10.0, 11.0, 12.0, 13.0, 14.0, 15.0, 16.0, 17.0, 18.0, 19.0, 20.0, 21.0, 22.0, 23.0, 24.0, 25.0, 27.0, 29.0, 30.0, 31.0, 32.0, 34.0, 35.0, 36.0, 39.0, 40.0, 41.0, 44.0, 46.0, 48.0, 49.0, 51.0, 52.0, 53.0, 54.0, 55.0, 57.0, 61.0, 62.0, 64.0, 65.0, 67.0, 69.0], \"textfont\": {\"color\": \"black\", \"size\": 8}, \"type\": \"scatter\", \"x\": [0.21428571428571427, 0.2571428571428571, 0.09999999999999999, 0.44285714285714284, 0.22857142857142856, 0.3, 0.15714285714285714, 0.18571428571428572, 0.2714285714285714, 0.32857142857142857, 0.2714285714285714, 0.2714285714285714, 0.45714285714285713, 0.3142857142857143, 0.5285714285714286, 0.4714285714285714, 0.44285714285714284, 0.21428571428571427, 0.5285714285714286, 0.32857142857142857, 0.24285714285714285, 0.5142857142857142, 0.17142857142857143, 0.6428571428571428, 0.22857142857142856, 0.6142857142857142, 0.45714285714285713, 0.3857142857142857, 0.45714285714285713, 0.3857142857142857, 0.18571428571428572, 0.2857142857142857, 0.2571428571428571, 0.14285714285714285, 0.3, 0.3142857142857143, 0.19999999999999998, 0.34285714285714286, 0.12857142857142856, 0.3142857142857143, 0.24285714285714285, 0.34285714285714286, 0.14285714285714285, 0.3, 0.2571428571428571, 0.24285714285714285, 0.18571428571428572, 0.2571428571428571, 0.24285714285714285, 0.37142857142857144, 0.41428571428571426, 0.35714285714285715, 0.2714285714285714], \"y\": [0.09635424220380527, 0.10614425434614341, 0.029443215266905475, 0.1743687232988473, 0.06959302833587126, 0.10446744452168155, 0.04483869020578944, 0.08098291085593737, 0.11540478705908382, 0.12444223715167195, 0.1038361603120393, 0.10797873936762628, 0.15711118635430948, 0.11717696846629372, 0.19477654893501084, 0.16268483702317887, 0.16517189237797894, 0.054424151712232874, 0.19504212868064008, 0.13976458414881288, 0.10489589923131942, 0.1973784408474406, 0.05973491201484739, 0.23614605839914585, 0.08316989073852062, 0.2351610837238484, 0.16433109864515086, 0.13294204808401294, 0.144743010026892, 0.13215331018145823, 0.05201272469755704, 0.10230933241371375, 0.10419530967256155, 0.06130317525701599, 0.11874205357660711, 0.12351989332008693, 0.07804507911423492, 0.12650179707909534, 0.04229261099234078, 0.11155546116961167, 0.08410401835110289, 0.1325351262616894, 0.05512375683491149, 0.10326948561411628, 0.11044991004643533, 0.1053321004624939, 0.05304528689284766, 0.11616276236232731, 0.09186096871956315, 0.14803171583835428, 0.1543703837795305, 0.13472276834194818, 0.10782907239072577]}, {\"marker\": {\"color\": \"purple\", \"size\": 14, \"symbol\": \"circle\"}, \"mode\": \"markers+text\", \"name\": \"Female\", \"text\": [26.0, 28.0, 33.0, 37.0, 38.0, 42.0, 43.0, 45.0, 47.0, 50.0, 56.0, 58.0, 59.0, 60.0, 63.0, 66.0, 68.0, 70.0], \"textfont\": {\"color\": \"white\", \"size\": 8}, \"type\": \"scatter\", \"x\": [0.2714285714285714, 0.3857142857142857, 0.35714285714285715, 0.35714285714285715, 0.3, 0.3857142857142857, 0.12857142857142856, 0.22857142857142856, 0.14285714285714285, 0.19999999999999998, 0.24285714285714285, 0.14285714285714285, 0.21428571428571427, 0.17142857142857143, 0.17142857142857143, 0.15714285714285714, 0.14285714285714285, 0.22857142857142856], \"y\": [0.10949412802991677, 0.14641446989490625, 0.14024726353169492, 0.13380871938671557, 0.11580316916900904, 0.14460922506230375, 0.05078885532190528, 0.09528890884384927, 0.0639170711059892, 0.06399141712978823, 0.09737638306052548, 0.038347348350433144, 0.0832073762124447, 0.07144966821639552, 0.07360376426038016, 0.07000480184636959, 0.061602022124297086, 0.09865282466861636]}],\n",
       "                        {\"hovermode\": \"closest\", \"paper_bgcolor\": \"white\", \"plot_bgcolor\": \"white\", \"template\": {\"data\": {\"bar\": [{\"error_x\": {\"color\": \"#2a3f5f\"}, \"error_y\": {\"color\": \"#2a3f5f\"}, \"marker\": {\"line\": {\"color\": \"#E5ECF6\", \"width\": 0.5}}, \"type\": \"bar\"}], \"barpolar\": [{\"marker\": {\"line\": {\"color\": \"#E5ECF6\", \"width\": 0.5}}, \"type\": \"barpolar\"}], \"carpet\": [{\"aaxis\": {\"endlinecolor\": \"#2a3f5f\", \"gridcolor\": \"white\", \"linecolor\": \"white\", \"minorgridcolor\": \"white\", \"startlinecolor\": \"#2a3f5f\"}, \"baxis\": {\"endlinecolor\": \"#2a3f5f\", \"gridcolor\": \"white\", \"linecolor\": \"white\", \"minorgridcolor\": \"white\", \"startlinecolor\": \"#2a3f5f\"}, \"type\": \"carpet\"}], \"choropleth\": [{\"colorbar\": {\"outlinewidth\": 0, \"ticks\": \"\"}, \"type\": \"choropleth\"}], \"contour\": [{\"colorbar\": {\"outlinewidth\": 0, \"ticks\": \"\"}, \"colorscale\": [[0.0, \"#0d0887\"], [0.1111111111111111, \"#46039f\"], [0.2222222222222222, \"#7201a8\"], [0.3333333333333333, \"#9c179e\"], [0.4444444444444444, \"#bd3786\"], [0.5555555555555556, \"#d8576b\"], [0.6666666666666666, \"#ed7953\"], [0.7777777777777778, \"#fb9f3a\"], [0.8888888888888888, \"#fdca26\"], [1.0, \"#f0f921\"]], \"type\": \"contour\"}], \"contourcarpet\": [{\"colorbar\": {\"outlinewidth\": 0, \"ticks\": \"\"}, \"type\": \"contourcarpet\"}], \"heatmap\": [{\"colorbar\": {\"outlinewidth\": 0, \"ticks\": \"\"}, \"colorscale\": [[0.0, \"#0d0887\"], [0.1111111111111111, \"#46039f\"], [0.2222222222222222, \"#7201a8\"], [0.3333333333333333, \"#9c179e\"], [0.4444444444444444, \"#bd3786\"], [0.5555555555555556, \"#d8576b\"], [0.6666666666666666, \"#ed7953\"], [0.7777777777777778, \"#fb9f3a\"], [0.8888888888888888, \"#fdca26\"], [1.0, \"#f0f921\"]], \"type\": \"heatmap\"}], \"heatmapgl\": [{\"colorbar\": {\"outlinewidth\": 0, \"ticks\": \"\"}, \"colorscale\": [[0.0, \"#0d0887\"], [0.1111111111111111, \"#46039f\"], [0.2222222222222222, \"#7201a8\"], [0.3333333333333333, \"#9c179e\"], [0.4444444444444444, \"#bd3786\"], [0.5555555555555556, \"#d8576b\"], [0.6666666666666666, \"#ed7953\"], [0.7777777777777778, \"#fb9f3a\"], [0.8888888888888888, \"#fdca26\"], [1.0, \"#f0f921\"]], \"type\": \"heatmapgl\"}], \"histogram\": [{\"marker\": {\"colorbar\": {\"outlinewidth\": 0, \"ticks\": \"\"}}, \"type\": \"histogram\"}], \"histogram2d\": [{\"colorbar\": {\"outlinewidth\": 0, \"ticks\": \"\"}, \"colorscale\": [[0.0, \"#0d0887\"], [0.1111111111111111, \"#46039f\"], [0.2222222222222222, \"#7201a8\"], [0.3333333333333333, \"#9c179e\"], [0.4444444444444444, \"#bd3786\"], [0.5555555555555556, \"#d8576b\"], [0.6666666666666666, \"#ed7953\"], [0.7777777777777778, \"#fb9f3a\"], [0.8888888888888888, \"#fdca26\"], [1.0, \"#f0f921\"]], \"type\": \"histogram2d\"}], \"histogram2dcontour\": [{\"colorbar\": {\"outlinewidth\": 0, \"ticks\": \"\"}, \"colorscale\": [[0.0, \"#0d0887\"], [0.1111111111111111, \"#46039f\"], [0.2222222222222222, \"#7201a8\"], [0.3333333333333333, \"#9c179e\"], [0.4444444444444444, \"#bd3786\"], [0.5555555555555556, \"#d8576b\"], [0.6666666666666666, \"#ed7953\"], [0.7777777777777778, \"#fb9f3a\"], [0.8888888888888888, \"#fdca26\"], [1.0, \"#f0f921\"]], \"type\": \"histogram2dcontour\"}], \"mesh3d\": [{\"colorbar\": {\"outlinewidth\": 0, \"ticks\": \"\"}, \"type\": \"mesh3d\"}], \"parcoords\": [{\"line\": {\"colorbar\": {\"outlinewidth\": 0, \"ticks\": \"\"}}, \"type\": \"parcoords\"}], \"pie\": [{\"automargin\": true, \"type\": \"pie\"}], \"scatter\": [{\"marker\": {\"colorbar\": {\"outlinewidth\": 0, \"ticks\": \"\"}}, \"type\": \"scatter\"}], \"scatter3d\": [{\"line\": {\"colorbar\": {\"outlinewidth\": 0, \"ticks\": \"\"}}, \"marker\": {\"colorbar\": {\"outlinewidth\": 0, \"ticks\": \"\"}}, \"type\": \"scatter3d\"}], \"scattercarpet\": [{\"marker\": {\"colorbar\": {\"outlinewidth\": 0, \"ticks\": \"\"}}, \"type\": \"scattercarpet\"}], \"scattergeo\": [{\"marker\": {\"colorbar\": {\"outlinewidth\": 0, \"ticks\": \"\"}}, \"type\": \"scattergeo\"}], \"scattergl\": [{\"marker\": {\"colorbar\": {\"outlinewidth\": 0, \"ticks\": \"\"}}, \"type\": \"scattergl\"}], \"scattermapbox\": [{\"marker\": {\"colorbar\": {\"outlinewidth\": 0, \"ticks\": \"\"}}, \"type\": \"scattermapbox\"}], \"scatterpolar\": [{\"marker\": {\"colorbar\": {\"outlinewidth\": 0, \"ticks\": \"\"}}, \"type\": \"scatterpolar\"}], \"scatterpolargl\": [{\"marker\": {\"colorbar\": {\"outlinewidth\": 0, \"ticks\": \"\"}}, \"type\": \"scatterpolargl\"}], \"scatterternary\": [{\"marker\": {\"colorbar\": {\"outlinewidth\": 0, \"ticks\": \"\"}}, \"type\": \"scatterternary\"}], \"surface\": [{\"colorbar\": {\"outlinewidth\": 0, \"ticks\": \"\"}, \"colorscale\": [[0.0, \"#0d0887\"], [0.1111111111111111, \"#46039f\"], [0.2222222222222222, \"#7201a8\"], [0.3333333333333333, \"#9c179e\"], [0.4444444444444444, \"#bd3786\"], [0.5555555555555556, \"#d8576b\"], [0.6666666666666666, \"#ed7953\"], [0.7777777777777778, \"#fb9f3a\"], [0.8888888888888888, \"#fdca26\"], [1.0, \"#f0f921\"]], \"type\": \"surface\"}], \"table\": [{\"cells\": {\"fill\": {\"color\": \"#EBF0F8\"}, \"line\": {\"color\": \"white\"}}, \"header\": {\"fill\": {\"color\": \"#C8D4E3\"}, \"line\": {\"color\": \"white\"}}, \"type\": \"table\"}]}, \"layout\": {\"annotationdefaults\": {\"arrowcolor\": \"#2a3f5f\", \"arrowhead\": 0, \"arrowwidth\": 1}, \"coloraxis\": {\"colorbar\": {\"outlinewidth\": 0, \"ticks\": \"\"}}, \"colorscale\": {\"diverging\": [[0, \"#8e0152\"], [0.1, \"#c51b7d\"], [0.2, \"#de77ae\"], [0.3, \"#f1b6da\"], [0.4, \"#fde0ef\"], [0.5, \"#f7f7f7\"], [0.6, \"#e6f5d0\"], [0.7, \"#b8e186\"], [0.8, \"#7fbc41\"], [0.9, \"#4d9221\"], [1, \"#276419\"]], \"sequential\": [[0.0, \"#0d0887\"], [0.1111111111111111, \"#46039f\"], [0.2222222222222222, \"#7201a8\"], [0.3333333333333333, \"#9c179e\"], [0.4444444444444444, \"#bd3786\"], [0.5555555555555556, \"#d8576b\"], [0.6666666666666666, \"#ed7953\"], [0.7777777777777778, \"#fb9f3a\"], [0.8888888888888888, \"#fdca26\"], [1.0, \"#f0f921\"]], \"sequentialminus\": [[0.0, \"#0d0887\"], [0.1111111111111111, \"#46039f\"], [0.2222222222222222, \"#7201a8\"], [0.3333333333333333, \"#9c179e\"], [0.4444444444444444, \"#bd3786\"], [0.5555555555555556, \"#d8576b\"], [0.6666666666666666, \"#ed7953\"], [0.7777777777777778, \"#fb9f3a\"], [0.8888888888888888, \"#fdca26\"], [1.0, \"#f0f921\"]]}, \"colorway\": [\"#636efa\", \"#EF553B\", \"#00cc96\", \"#ab63fa\", \"#FFA15A\", \"#19d3f3\", \"#FF6692\", \"#B6E880\", \"#FF97FF\", \"#FECB52\"], \"font\": {\"color\": \"#2a3f5f\"}, \"geo\": {\"bgcolor\": \"white\", \"lakecolor\": \"white\", \"landcolor\": \"#E5ECF6\", \"showlakes\": true, \"showland\": true, \"subunitcolor\": \"white\"}, \"hoverlabel\": {\"align\": \"left\"}, \"hovermode\": \"closest\", \"mapbox\": {\"style\": \"light\"}, \"paper_bgcolor\": \"white\", \"plot_bgcolor\": \"#E5ECF6\", \"polar\": {\"angularaxis\": {\"gridcolor\": \"white\", \"linecolor\": \"white\", \"ticks\": \"\"}, \"bgcolor\": \"#E5ECF6\", \"radialaxis\": {\"gridcolor\": \"white\", \"linecolor\": \"white\", \"ticks\": \"\"}}, \"scene\": {\"xaxis\": {\"backgroundcolor\": \"#E5ECF6\", \"gridcolor\": \"white\", \"gridwidth\": 2, \"linecolor\": \"white\", \"showbackground\": true, \"ticks\": \"\", \"zerolinecolor\": \"white\"}, \"yaxis\": {\"backgroundcolor\": \"#E5ECF6\", \"gridcolor\": \"white\", \"gridwidth\": 2, \"linecolor\": \"white\", \"showbackground\": true, \"ticks\": \"\", \"zerolinecolor\": \"white\"}, \"zaxis\": {\"backgroundcolor\": \"#E5ECF6\", \"gridcolor\": \"white\", \"gridwidth\": 2, \"linecolor\": \"white\", \"showbackground\": true, \"ticks\": \"\", \"zerolinecolor\": \"white\"}}, \"shapedefaults\": {\"line\": {\"color\": \"#2a3f5f\"}}, \"ternary\": {\"aaxis\": {\"gridcolor\": \"white\", \"linecolor\": \"white\", \"ticks\": \"\"}, \"baxis\": {\"gridcolor\": \"white\", \"linecolor\": \"white\", \"ticks\": \"\"}, \"bgcolor\": \"#E5ECF6\", \"caxis\": {\"gridcolor\": \"white\", \"linecolor\": \"white\", \"ticks\": \"\"}}, \"title\": {\"x\": 0.05}, \"xaxis\": {\"automargin\": true, \"gridcolor\": \"white\", \"linecolor\": \"white\", \"ticks\": \"\", \"title\": {\"standoff\": 15}, \"zerolinecolor\": \"white\", \"zerolinewidth\": 2}, \"yaxis\": {\"automargin\": true, \"gridcolor\": \"white\", \"linecolor\": \"white\", \"ticks\": \"\", \"title\": {\"standoff\": 15}, \"zerolinecolor\": \"white\", \"zerolinewidth\": 2}}}, \"title\": {\"text\": \"Work Network - Centrality by Gender\"}, \"xaxis\": {\"gridcolor\": \"grey\", \"gridwidth\": 1, \"showgrid\": true, \"title\": {\"text\": \"Degree Centrality\"}}, \"yaxis\": {\"gridcolor\": \"grey\", \"gridwidth\": 1, \"showgrid\": true, \"title\": {\"text\": \"Eigenvector Centrality\"}}},\n",
       "                        {\"responsive\": true}\n",
       "                    ).then(function(){\n",
       "                            \n",
       "var gd = document.getElementById('0fe5108f-5516-4238-94b8-8deb221c3b1c');\n",
       "var x = new MutationObserver(function (mutations, observer) {{\n",
       "        var display = window.getComputedStyle(gd).display;\n",
       "        if (!display || display === 'none') {{\n",
       "            console.log([gd, 'removed!']);\n",
       "            Plotly.purge(gd);\n",
       "            observer.disconnect();\n",
       "        }}\n",
       "}});\n",
       "\n",
       "// Listen for the removal of the full notebook cells\n",
       "var notebookContainer = gd.closest('#notebook-container');\n",
       "if (notebookContainer) {{\n",
       "    x.observe(notebookContainer, {childList: true});\n",
       "}}\n",
       "\n",
       "// Listen for the clearing of the current output cell\n",
       "var outputEl = gd.closest('.output');\n",
       "if (outputEl) {{\n",
       "    x.observe(outputEl, {childList: true});\n",
       "}}\n",
       "\n",
       "                        })\n",
       "                };\n",
       "                });\n",
       "            </script>\n",
       "        </div>"
      ]
     },
     "metadata": {},
     "output_type": "display_data"
    }
   ],
   "source": [
    "fig = go.Figure()\n",
    "fig.add_trace(go.Scatter(\n",
    "    x=work_df[work_df['gender']==1]['deg_centrality'],\n",
    "    y=work_df[work_df['gender']==1]['eig_centrality'],\n",
    "    text=work_df[work_df['gender']==1]['id'],\n",
    "    hoverinfo='text',\n",
    "    mode='markers+text',\n",
    "    name='Male',\n",
    "    textfont_size=8,\n",
    "    textfont_color='black',\n",
    "    marker=dict(size=14, \n",
    "                color='lightsalmon',\n",
    "                symbol='circle')))\n",
    "\n",
    "fig.add_trace(go.Scatter(\n",
    "    x = work_df[work_df['gender']==2]['deg_centrality'],\n",
    "    y = work_df[work_df['gender']==2]['eig_centrality'],\n",
    "    text=work_df[work_df['gender']==2]['id'],\n",
    "    mode='markers+text',\n",
    "    name = 'Female',\n",
    "    textfont_size=8,\n",
    "    textfont_color='white',\n",
    "    marker=dict(size=14, \n",
    "                color='purple', \n",
    "                symbol='circle')))\n",
    "    \n",
    "\n",
    "fig.update_layout(go.Layout(\n",
    "    title='Work Network - Centrality by Gender',\n",
    "    xaxis=dict(\n",
    "        title='Degree Centrality'\n",
    "    ),\n",
    "    yaxis=dict(\n",
    "        title='Eigenvector Centrality'\n",
    "    ),\n",
    "    hovermode='closest',\n",
    "    plot_bgcolor='white',\n",
    "    paper_bgcolor='white',\n",
    "))\n",
    "fig.update_xaxes(showgrid=True, gridwidth=1, gridcolor='grey')\n",
    "fig.update_yaxes(showgrid=True, gridwidth=1, gridcolor='grey')\n",
    "fig.show()\n"
   ]
  },
  {
   "cell_type": "markdown",
   "metadata": {},
   "source": [
    "#### Get Mean and Variance for Co-Worker Network Eigenvector Centrality by Gender"
   ]
  },
  {
   "cell_type": "code",
   "execution_count": 71,
   "metadata": {
    "ExecuteTime": {
     "end_time": "2020-06-18T19:10:56.880095Z",
     "start_time": "2020-06-18T19:10:56.868388Z"
    }
   },
   "outputs": [
    {
     "name": "stdout",
     "output_type": "stream",
     "text": [
      "Work Network Eigenvector Centrality Statistics\n",
      "Male mean: 0.116\n",
      "Female mean: 0.092\n",
      "Male variance: 0.0021\n",
      "Female variance: 0.0011\n"
     ]
    }
   ],
   "source": [
    "print('Work Network Eigenvector Centrality Statistics')\n",
    "print('Male mean: {}'.format(round(np.mean(work_df[work_df['gender']==1]['eig_centrality']),3)))\n",
    "print('Female mean: {}'.format(round(np.mean(work_df[work_df['gender']==2]['eig_centrality']),3)))\n",
    "print('Male variance: {}'.format(round(np.var(work_df[work_df['gender']==1]['eig_centrality']),4)))\n",
    "print('Female variance: {}'.format(round(np.var(work_df[work_df['gender']==2]['eig_centrality']),4)))"
   ]
  },
  {
   "cell_type": "markdown",
   "metadata": {},
   "source": [
    "### T-Test for Differences in Co-Worker Eigenvector Centrality - Gender  \n",
    "\n",
    "Test if there is a statistically significant difference between mean co-worker eigenvector centralities for males and females using an unpaired t-test. "
   ]
  },
  {
   "cell_type": "code",
   "execution_count": 72,
   "metadata": {
    "ExecuteTime": {
     "end_time": "2020-06-18T19:12:10.173580Z",
     "start_time": "2020-06-18T19:12:10.167548Z"
    }
   },
   "outputs": [
    {
     "name": "stdout",
     "output_type": "stream",
     "text": [
      "p-value for t-test comparing mean work eigenvector centralities for males and females: 0.024\n"
     ]
    }
   ],
   "source": [
    "work_ttest = stats.ttest_ind(work_df[work_df['gender']==1]['eig_centrality'],\n",
    "                               work_df[work_df['gender']==2]['eig_centrality'], \n",
    "                               equal_var = False)\n",
    "print('p-value for t-test comparing mean work eigenvector centralities for males and females: {}'.format(round(work_ttest[1],3)))"
   ]
  },
  {
   "cell_type": "markdown",
   "metadata": {},
   "source": [
    "There is a statistically significant difference between mean co-worker eigenvector centralities for males and females (p-value = 0.024). "
   ]
  },
  {
   "cell_type": "code",
   "execution_count": null,
   "metadata": {},
   "outputs": [],
   "source": []
  }
 ],
 "metadata": {
  "kernelspec": {
   "display_name": "test-env",
   "language": "python",
   "name": "test-env"
  },
  "language_info": {
   "codemirror_mode": {
    "name": "ipython",
    "version": 3
   },
   "file_extension": ".py",
   "mimetype": "text/x-python",
   "name": "python",
   "nbconvert_exporter": "python",
   "pygments_lexer": "ipython3",
   "version": "3.7.5"
  },
  "toc": {
   "base_numbering": 1,
   "nav_menu": {},
   "number_sections": true,
   "sideBar": true,
   "skip_h1_title": false,
   "title_cell": "Table of Contents",
   "title_sidebar": "Contents",
   "toc_cell": false,
   "toc_position": {},
   "toc_section_display": true,
   "toc_window_display": true
  }
 },
 "nbformat": 4,
 "nbformat_minor": 2
}
