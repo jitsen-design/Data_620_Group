{
 "cells": [
  {
   "cell_type": "code",
   "execution_count": 57,
   "metadata": {
    "ExecuteTime": {
     "end_time": "2020-06-16T17:54:41.965608Z",
     "start_time": "2020-06-16T17:54:41.956805Z"
    }
   },
   "outputs": [],
   "source": [
    "import json\n",
    "import networkx as nx\n",
    "import pandas as pd\n",
    "import numpy as np\n",
    "import matplotlib.pyplot as plt\n",
    "import seaborn as sns"
   ]
  },
  {
   "cell_type": "markdown",
   "metadata": {},
   "source": [
    "### Read in data and map attributes to individuals"
   ]
  },
  {
   "cell_type": "code",
   "execution_count": 58,
   "metadata": {
    "ExecuteTime": {
     "end_time": "2020-06-16T17:54:46.222670Z",
     "start_time": "2020-06-16T17:54:45.541137Z"
    }
   },
   "outputs": [
    {
     "name": "stderr",
     "output_type": "stream",
     "text": [
      "C:\\Users\\spiec\\Anaconda3\\lib\\site-packages\\ipykernel_launcher.py:8: SettingWithCopyWarning: \n",
      "A value is trying to be set on a copy of a slice from a DataFrame.\n",
      "Try using .loc[row_indexer,col_indexer] = value instead\n",
      "\n",
      "See the caveats in the documentation: https://pandas.pydata.org/pandas-docs/stable/user_guide/indexing.html#returning-a-view-versus-a-copy\n",
      "  \n"
     ]
    }
   ],
   "source": [
    "df_rel = pd.read_table(\"http://moreno.ss.uci.edu/lazega.dat\",\n",
    "                   skiprows=7) # Get relationship data\n",
    "df_map = pd.read_table(\"http://moreno.ss.uci.edu/lazatt.dat\")\n",
    "df_cols = df_map[3:10] # dataframe with column labels\n",
    "df_vals = df_map[11:] # dataframe with column mapping values\n",
    "df_rel['DATA:'] = df_rel['DATA:'].apply(lambda x: x.split())\n",
    "df_rel = df_rel['DATA:'].apply(pd.Series)\n",
    "df_vals['DL'] = df_vals['DL'].apply(lambda x: x.split())\n",
    "df_vals = df_vals['DL'].apply(pd.Series)\n",
    "df_vals.columns = ['INDEX'] + df_cols['DL'].tolist() "
   ]
  },
  {
   "cell_type": "code",
   "execution_count": 59,
   "metadata": {
    "ExecuteTime": {
     "end_time": "2020-06-16T17:54:47.488197Z",
     "start_time": "2020-06-16T17:54:47.472812Z"
    }
   },
   "outputs": [
    {
     "data": {
      "text/html": [
       "<div>\n",
       "<style scoped>\n",
       "    .dataframe tbody tr th:only-of-type {\n",
       "        vertical-align: middle;\n",
       "    }\n",
       "\n",
       "    .dataframe tbody tr th {\n",
       "        vertical-align: top;\n",
       "    }\n",
       "\n",
       "    .dataframe thead th {\n",
       "        text-align: right;\n",
       "    }\n",
       "</style>\n",
       "<table border=\"1\" class=\"dataframe\">\n",
       "  <thead>\n",
       "    <tr style=\"text-align: right;\">\n",
       "      <th></th>\n",
       "      <th>INDEX</th>\n",
       "      <th>STATUS</th>\n",
       "      <th>GENDER</th>\n",
       "      <th>OFFICE</th>\n",
       "      <th>SENIORITY</th>\n",
       "      <th>AGE</th>\n",
       "      <th>PRACTICE</th>\n",
       "      <th>LAW_SCHOOL</th>\n",
       "    </tr>\n",
       "  </thead>\n",
       "  <tbody>\n",
       "    <tr>\n",
       "      <th>11</th>\n",
       "      <td>01</td>\n",
       "      <td>1</td>\n",
       "      <td>1</td>\n",
       "      <td>1</td>\n",
       "      <td>31</td>\n",
       "      <td>64</td>\n",
       "      <td>1</td>\n",
       "      <td>1</td>\n",
       "    </tr>\n",
       "    <tr>\n",
       "      <th>12</th>\n",
       "      <td>02</td>\n",
       "      <td>1</td>\n",
       "      <td>1</td>\n",
       "      <td>1</td>\n",
       "      <td>32</td>\n",
       "      <td>62</td>\n",
       "      <td>2</td>\n",
       "      <td>1</td>\n",
       "    </tr>\n",
       "    <tr>\n",
       "      <th>13</th>\n",
       "      <td>03</td>\n",
       "      <td>1</td>\n",
       "      <td>1</td>\n",
       "      <td>2</td>\n",
       "      <td>13</td>\n",
       "      <td>67</td>\n",
       "      <td>1</td>\n",
       "      <td>1</td>\n",
       "    </tr>\n",
       "    <tr>\n",
       "      <th>14</th>\n",
       "      <td>04</td>\n",
       "      <td>1</td>\n",
       "      <td>1</td>\n",
       "      <td>1</td>\n",
       "      <td>31</td>\n",
       "      <td>59</td>\n",
       "      <td>2</td>\n",
       "      <td>3</td>\n",
       "    </tr>\n",
       "    <tr>\n",
       "      <th>15</th>\n",
       "      <td>05</td>\n",
       "      <td>1</td>\n",
       "      <td>1</td>\n",
       "      <td>2</td>\n",
       "      <td>31</td>\n",
       "      <td>59</td>\n",
       "      <td>1</td>\n",
       "      <td>2</td>\n",
       "    </tr>\n",
       "  </tbody>\n",
       "</table>\n",
       "</div>"
      ],
      "text/plain": [
       "   INDEX STATUS GENDER OFFICE SENIORITY AGE PRACTICE LAW_SCHOOL\n",
       "11    01      1      1      1        31  64        1          1\n",
       "12    02      1      1      1        32  62        2          1\n",
       "13    03      1      1      2        13  67        1          1\n",
       "14    04      1      1      1        31  59        2          3\n",
       "15    05      1      1      2        31  59        1          2"
      ]
     },
     "execution_count": 59,
     "metadata": {},
     "output_type": "execute_result"
    }
   ],
   "source": [
    "df_vals.head()"
   ]
  },
  {
   "cell_type": "markdown",
   "metadata": {},
   "source": [
    "### Build mapping dictionaries for gender and status"
   ]
  },
  {
   "cell_type": "code",
   "execution_count": 60,
   "metadata": {
    "ExecuteTime": {
     "end_time": "2020-06-16T17:54:49.267239Z",
     "start_time": "2020-06-16T17:54:49.262697Z"
    }
   },
   "outputs": [],
   "source": [
    "gender_dict = {int(k)-1:int(v) for k,v in zip(df_vals['INDEX'],df_vals['GENDER'])}\n",
    "status_dict = {int(k)-1:int(v) for k,v in zip(df_vals['INDEX'],df_vals['STATUS'])}"
   ]
  },
  {
   "cell_type": "code",
   "execution_count": 61,
   "metadata": {
    "ExecuteTime": {
     "end_time": "2020-06-16T17:54:50.564069Z",
     "start_time": "2020-06-16T17:54:50.548488Z"
    }
   },
   "outputs": [],
   "source": [
    "#df_social\n"
   ]
  },
  {
   "cell_type": "markdown",
   "metadata": {},
   "source": [
    "### Look at Social Network\n",
    "\n",
    "#### Build social network graph"
   ]
  },
  {
   "cell_type": "code",
   "execution_count": 62,
   "metadata": {
    "ExecuteTime": {
     "end_time": "2020-06-16T17:54:52.146088Z",
     "start_time": "2020-06-16T17:54:52.128596Z"
    }
   },
   "outputs": [],
   "source": [
    "df_social = df_rel[71:142].astype(int).reset_index(drop=True)\n",
    "\n",
    "G_social=nx.from_pandas_adjacency(df_social)\n",
    "for node in list(G_social.nodes):\n",
    "    G_social.nodes[node]['gender'] = gender_dict[node]\n",
    "    G_social.nodes[node]['status'] = status_dict[node]"
   ]
  },
  {
   "cell_type": "markdown",
   "metadata": {},
   "source": [
    "#### Get centrality"
   ]
  },
  {
   "cell_type": "code",
   "execution_count": 63,
   "metadata": {
    "ExecuteTime": {
     "end_time": "2020-06-16T19:38:07.200341Z",
     "start_time": "2020-06-16T19:38:07.171499Z"
    }
   },
   "outputs": [
    {
     "name": "stdout",
     "output_type": "stream",
     "text": [
      "Gender : 1\n",
      "[(23, 0.265), (25, 0.25), (12, 0.245), (16, 0.236), (3, 0.216)]\n",
      "Status : 1\n",
      "[(23, 0.265), (25, 0.25), (12, 0.245), (16, 0.236), (26, 0.221)]\n",
      "---------------------------------------------------------------\n",
      "Gender : 2\n",
      "[(26, 0.221), (42, 0.174), (37, 0.157), (28, 0.138), (38, 0.135)]\n",
      "Status : 2\n",
      "[(64, 0.196), (40, 0.177), (42, 0.174), (37, 0.157), (38, 0.135)]\n",
      "---------------------------------------------------------------\n",
      "Degree Centrality: All\n",
      "[(30, 0.4), (16, 0.357), (23, 0.357), (12, 0.343), (25, 0.343)]\n"
     ]
    }
   ],
   "source": [
    "social_eig_centrality = nx.eigenvector_centrality(G_social, max_iter=1000)\n",
    "social_deg_centrality = nx.degree_centrality(G_social)\n",
    "\n",
    "for attribute in [1,2]:\n",
    "    \n",
    "    gender_centrality = {k:v for k,v in social_eig_centrality.items() if gender_dict[k]==attribute}\n",
    "    status_centrality = {k:v for k,v in social_eig_centrality.items() if status_dict[k]==attribute}\n",
    "    \n",
    "    print('Gender : {}'.format(attribute))\n",
    "    print(sorted([(round(x,3),round(y,3)) \n",
    "                  for x,y in gender_centrality.items()], \n",
    "                  key=lambda x: x[1], reverse=True)[:5])\n",
    "    \n",
    "    print('Status : {}'.format(attribute))\n",
    "    print(sorted([(round(x,3),round(y,3)) \n",
    "                  for x,y in status_centrality.items()], \n",
    "                  key=lambda x: x[1], reverse=True)[:5])\n",
    "    print('---------------------------------------------------------------')\n",
    "    \n",
    "print('Degree Centrality: All')\n",
    "print(sorted([(round(x,3),round(y,3)) \n",
    "               for x,y in social_deg_centrality.items()], \n",
    "               key=lambda x: x[1], reverse=True)[:5])"
   ]
  },
  {
   "cell_type": "markdown",
   "metadata": {},
   "source": [
    "In terms of advice, the three influential partners are likely male, since they demonstrate the top status centrality as well as gender centrality. "
   ]
  },
  {
   "cell_type": "markdown",
   "metadata": {},
   "source": [
    "### Look at Advice Network\n",
    "\n",
    "#### Build advice network graph"
   ]
  },
  {
   "cell_type": "code",
   "execution_count": 64,
   "metadata": {
    "ExecuteTime": {
     "end_time": "2020-06-16T17:54:59.203613Z",
     "start_time": "2020-06-16T17:54:59.192123Z"
    }
   },
   "outputs": [],
   "source": [
    "df_advice = df_rel[0:71].astype(int).reset_index(drop=True)\n",
    "\n",
    "G_advice=nx.from_pandas_adjacency(df_advice)\n",
    "for node in list(G_advice.nodes):\n",
    "    G_advice.nodes[node]['gender'] = gender_dict[node]\n",
    "    G_advice.nodes[node]['status'] = status_dict[node]"
   ]
  },
  {
   "cell_type": "markdown",
   "metadata": {},
   "source": [
    "#### Get centrality"
   ]
  },
  {
   "cell_type": "code",
   "execution_count": 65,
   "metadata": {
    "ExecuteTime": {
     "end_time": "2020-06-16T19:36:32.826077Z",
     "start_time": "2020-06-16T19:36:32.792137Z"
    }
   },
   "outputs": [
    {
     "name": "stdout",
     "output_type": "stream",
     "text": [
      "Gender : 1\n",
      "[(25, 0.251), (12, 0.221), (23, 0.206), (40, 0.179), (15, 0.169)]\n",
      "Status : 1\n",
      "[(25, 0.251), (12, 0.221), (23, 0.206), (15, 0.169), (16, 0.166)]\n",
      "---------------------------------------------------------------\n",
      "Gender : 2\n",
      "[(26, 0.159), (33, 0.132), (38, 0.127), (28, 0.121), (37, 0.117)]\n",
      "Status : 2\n",
      "[(40, 0.179), (41, 0.154), (54, 0.152), (64, 0.151), (39, 0.15)]\n",
      "---------------------------------------------------------------\n",
      "Degree Centrality: All\n",
      "[(25, 0.657), (12, 0.571), (23, 0.514), (15, 0.486), (40, 0.457)]\n"
     ]
    }
   ],
   "source": [
    "advice_eig_centrality = nx.eigenvector_centrality(G_advice, max_iter=1000)\n",
    "advice_deg_centrality = nx.degree_centrality(G_advice)\n",
    "\n",
    "for attribute in [1,2]:\n",
    "    \n",
    "    gender_centrality = {k:v for k,v in advice_eig_centrality.items() if gender_dict[k]==attribute}\n",
    "    status_centrality = {k:v for k,v in advice_eig_centrality.items() if status_dict[k]==attribute}\n",
    "    \n",
    "    print('Gender : {}'.format(attribute))\n",
    "    print(sorted([(round(x,3),round(y,3)) \n",
    "                  for x,y in gender_centrality.items()], \n",
    "                  key=lambda x: x[1], reverse=True)[:5])\n",
    "    \n",
    "    print('Status : {}'.format(attribute))\n",
    "    print(sorted([(round(x,3),round(y,3)) \n",
    "                  for x,y in status_centrality.items()], \n",
    "                  key=lambda x: x[1], reverse=True)[:5])\n",
    "    print('---------------------------------------------------------------')\n",
    "    \n",
    "print('Degree Centrality: All')\n",
    "print(sorted([(round(x,3),round(y,3)) \n",
    "               for x,y in advice_deg_centrality.items()], \n",
    "               key=lambda x: x[1], reverse=True)[:5])"
   ]
  },
  {
   "cell_type": "markdown",
   "metadata": {},
   "source": [
    "### Look at Co-worker Network\n",
    "\n",
    "#### Build co-worker network graph"
   ]
  },
  {
   "cell_type": "code",
   "execution_count": 66,
   "metadata": {
    "ExecuteTime": {
     "end_time": "2020-06-16T18:14:22.248289Z",
     "start_time": "2020-06-16T18:14:22.231828Z"
    }
   },
   "outputs": [],
   "source": [
    "df_work = df_rel[142:].astype(int).reset_index(drop=True)\n",
    "\n",
    "G_work=nx.from_pandas_adjacency(df_work)\n",
    "for node in list(G_work.nodes):\n",
    "    G_work.nodes[node]['gender'] = gender_dict[node]\n",
    "    G_work.nodes[node]['status'] = status_dict[node]"
   ]
  },
  {
   "cell_type": "code",
   "execution_count": 67,
   "metadata": {
    "ExecuteTime": {
     "end_time": "2020-06-16T19:35:20.502249Z",
     "start_time": "2020-06-16T19:35:20.454738Z"
    }
   },
   "outputs": [
    {
     "name": "stdout",
     "output_type": "stream",
     "text": [
      "Gender : 1\n",
      "[(23, 0.236), (25, 0.235), (21, 0.197), (14, 0.195), (18, 0.195)]\n",
      "Status : 1\n",
      "[(23, 0.236), (25, 0.235), (21, 0.197), (14, 0.195), (18, 0.195)]\n",
      "---------------------------------------------------------------\n",
      "Gender : 2\n",
      "[(28, 0.146), (42, 0.145), (33, 0.14), (37, 0.134), (38, 0.116)]\n",
      "Status : 2\n",
      "[(65, 0.154), (64, 0.148), (42, 0.145), (67, 0.135), (37, 0.134)]\n",
      "---------------------------------------------------------------\n",
      "Degree Centrality: All\n",
      "[(23, 0.643), (25, 0.614), (14, 0.529), (18, 0.529), (21, 0.514)]\n"
     ]
    }
   ],
   "source": [
    "work_eig_centrality = nx.eigenvector_centrality(G_work, max_iter=1000)\n",
    "work_deg_centrality = nx.degree_centrality(G_work)\n",
    "\n",
    "for attribute in [1,2]:\n",
    "    \n",
    "    gender_centrality = {k:v for k,v in work_eig_centrality.items() if gender_dict[k]==attribute}\n",
    "    status_centrality = {k:v for k,v in work_eig_centrality.items() if status_dict[k]==attribute}\n",
    "    \n",
    "    print('Gender : {}'.format(attribute))\n",
    "    print(sorted([(round(x,3),round(y,3)) \n",
    "                  for x,y in gender_centrality.items()], \n",
    "                  key=lambda x: x[1], reverse=True)[:5])\n",
    "    \n",
    "    print('Status : {}'.format(attribute))\n",
    "    print(sorted([(round(x,3),round(y,3)) \n",
    "                  for x,y in status_centrality.items()], \n",
    "                  key=lambda x: x[1], reverse=True)[:5])\n",
    "    print('---------------------------------------------------------------')\n",
    "    \n",
    "print('Degree Centrality: All')\n",
    "print(sorted([(round(x,3),round(y,3)) \n",
    "               for x,y in work_deg_centrality.items()], \n",
    "               key=lambda x: x[1], reverse=True)[:5])"
   ]
  },
  {
   "cell_type": "code",
   "execution_count": 68,
   "metadata": {
    "ExecuteTime": {
     "end_time": "2020-06-16T18:14:29.159122Z",
     "start_time": "2020-06-16T18:14:29.136200Z"
    }
   },
   "outputs": [],
   "source": [
    "nx.write_gml(G_work, 'G_work.gml')\n",
    "nx.write_gml(G_social, 'G_social.gml')\n",
    "nx.write_gml(G_advice, 'G_advice.gml')"
   ]
  },
  {
   "cell_type": "markdown",
   "metadata": {},
   "source": [
    "### Social Network - by Gender\n",
    "\n",
    "Orange is male, purple is female. Size indicates degree.\n",
    "\n",
    "![title](graphics/social_gender.png)"
   ]
  },
  {
   "cell_type": "markdown",
   "metadata": {},
   "source": [
    "### Social Network - Status\n",
    "\n",
    "Brown is partner, green is associate. Size indicates degree\n",
    "\n",
    "![title](graphics/social_status.png)"
   ]
  },
  {
   "cell_type": "markdown",
   "metadata": {},
   "source": [
    "### Advice Network - by Gender\n",
    "\n",
    "Orange is male, purple is female. Size indicates degree\n",
    "\n",
    "![title](graphics/advice_gender.png)"
   ]
  },
  {
   "cell_type": "markdown",
   "metadata": {},
   "source": [
    "### Advice Network - by Status\n",
    "\n",
    "Brown is partner, green is associate. Size indicates degree\n",
    "\n",
    "![title](graphics/advice_status.png)"
   ]
  },
  {
   "cell_type": "markdown",
   "metadata": {},
   "source": [
    "### Work Network - by Gender\n",
    "\n",
    "Orange is male, purple is female. Size indicates degree\n",
    "\n",
    "![title](graphics/work_gender.png)"
   ]
  },
  {
   "cell_type": "markdown",
   "metadata": {},
   "source": [
    "### Work Network - by Status\n",
    "\n",
    "Brown is partner, green is associate. Size indicates degree\n",
    "\n",
    "![title](graphics/work_status.png)"
   ]
  },
  {
   "cell_type": "markdown",
   "metadata": {},
   "source": [
    "#### Create dataframes "
   ]
  },
  {
   "cell_type": "code",
   "execution_count": 69,
   "metadata": {},
   "outputs": [],
   "source": [
    "from pandas import DataFrame\n",
    "df_work_eigen = DataFrame(list(work_eig_centrality.items()),columns = ['index','eigen_centrality']) \n",
    "df_work_eigen['gender'] = df_work_eigen['index'].map(gender_dict)\n",
    "\n",
    "work_male_eigen = {k:v for k,v in work_eig_centrality.items() if gender_dict[k]==1}\n",
    "work_df_male = DataFrame(list(work_male_eigen.items()), columns = ['index','eigen_centrality']) \n",
    "work_female_eigen = {k:v for k,v in work_eig_centrality.items() if gender_dict[k]==2}\n",
    "work_df_female = DataFrame(list(work_female_eigen.items()), columns = ['index','eigen_centrality']) "
   ]
  },
  {
   "cell_type": "markdown",
   "metadata": {},
   "source": [
    "#### Scatter Plot of Co-Worker Network Eigenvector Centrality by Gender "
   ]
  },
  {
   "cell_type": "code",
   "execution_count": 70,
   "metadata": {},
   "outputs": [
    {
     "data": {
      "text/plain": [
       "Text(0.5, 1, 'Co-Worker Network Eigenvector Centrality by Gender')"
      ]
     },
     "execution_count": 70,
     "metadata": {},
     "output_type": "execute_result"
    },
    {
     "data": {
      "image/png": "[encoded data removed]",
      "text/plain": [
       "<Figure size 360x360 with 1 Axes>"
      ]
     },
     "metadata": {
      "needs_background": "light"
     },
     "output_type": "display_data"
    }
   ],
   "source": [
    "sns.lmplot( x=\"index\", y=\"eigen_centrality\", data=df_work_eigen, fit_reg=False, hue='gender', legend=False)\n",
    "plt.legend(loc='upper right')\n",
    "plt.title('Co-Worker Network Eigenvector Centrality by Gender') "
   ]
  },
  {
   "cell_type": "markdown",
   "metadata": {},
   "source": [
    "#### Get Mean and Variance for Co-Worker Network Eigenvector Centrality by Gender"
   ]
  },
  {
   "cell_type": "code",
   "execution_count": 71,
   "metadata": {},
   "outputs": [
    {
     "name": "stdout",
     "output_type": "stream",
     "text": [
      "0.116\n",
      "0.092\n",
      "0.0021\n",
      "0.0011\n"
     ]
    }
   ],
   "source": [
    "print(round(np.mean(work_df_male['eigen_centrality']),3))\n",
    "print(round(np.mean(work_df_female['eigen_centrality']),3))\n",
    "print(round(np.var(work_df_male['eigen_centrality']),4))\n",
    "print(round(np.var(work_df_female['eigen_centrality']),4))"
   ]
  },
  {
   "cell_type": "markdown",
   "metadata": {},
   "source": [
    "### T-Test for Differences in Co-Worker Eigenvector Centrality - Gender  "
   ]
  },
  {
   "cell_type": "code",
   "execution_count": 72,
   "metadata": {},
   "outputs": [
    {
     "data": {
      "text/plain": [
       "Ttest_indResult(statistic=2.3472391765788325, pvalue=0.023820747795196332)"
      ]
     },
     "execution_count": 72,
     "metadata": {},
     "output_type": "execute_result"
    }
   ],
   "source": [
    "from scipy import stats\n",
    "stats.ttest_ind(work_df_male['eigen_centrality'],work_df_female['eigen_centrality'], equal_var = False)"
   ]
  },
  {
   "cell_type": "code",
   "execution_count": null,
   "metadata": {},
   "outputs": [],
   "source": []
  }
 ],
 "metadata": {
  "kernelspec": {
   "display_name": "Python 3.7.4 64-bit ('base': conda)",
   "language": "python",
   "name": "python37464bitbaseconda0f2540ca00c14c548fd578f4a6b1a719"
  },
  "language_info": {
   "codemirror_mode": {
    "name": "ipython",
    "version": 3
   },
   "file_extension": ".py",
   "mimetype": "text/x-python",
   "name": "python",
   "nbconvert_exporter": "python",
   "pygments_lexer": "ipython3",
   "version": "3.7.6"
  },
  "toc": {
   "base_numbering": 1,
   "nav_menu": {},
   "number_sections": true,
   "sideBar": true,
   "skip_h1_title": false,
   "title_cell": "Table of Contents",
   "title_sidebar": "Contents",
   "toc_cell": false,
   "toc_position": {},
   "toc_section_display": true,
   "toc_window_display": false
  }
 },
 "nbformat": 4,
 "nbformat_minor": 2
}
