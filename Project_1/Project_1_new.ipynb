{
 "cells": [
  {
   "cell_type": "markdown",
   "metadata": {},
   "source": [
    "## Data 620 Project 1\n",
    "### Centrality Measures Across Categorical Groups\n",
    "\n",
    "Jit Seneviratne and Sheryl Piechocki\n",
    "June 17, 2020\n",
    "\n",
    "**Dataset** \n",
    "The data used in this project is from SG&R law firm, a U.S. corporate law firm in New England. It contains network measurements for 71 attorneys from 1988-1991. There are three types of relationships measured, i.e. co-worker, advice, and social. Attorneys are classified as partners or associates and the data contains gender classification.\n",
    "\n",
    "**Co-worker Network** \n",
    "Attorneys were asked to go through a list of names and mark off those that they had worked with in the last year, either working on the same case or reading/using some of each other's work product.\n",
    "\n",
    "**Advice Network** \n",
    "Attorneys were asked to go through a list of names and mark off those that they had gone to for professional advice in the last year.\n",
    "\n",
    "**Social Network**\n",
    "Attorneys were asked to go through a list of names and mark off those that they had socialized with outside of work.\n",
    "\n",
    "Source: http://moreno.ss.uci.edu/data.html#lazega\n",
    "\n",
    "### Analysis\n",
    "The network data file contains 3 71x71 matrices, one for each network type. A separate file of a 71 x 7 matrix, contains the gender role for the attorney (among other attributes). These datasets will be loaded for analysis.\n",
    "\n",
    "Degree centrality and eigenvector centrality will be calculated for the nodes in each of the network types. These centrality measures will then be compared by gender and role. Hypothesis testing will be performed to determine if there are statistically significant differences in centrality measures by gender. For simplicity, this network uses gender as opposed to sex, even though in reality sex would be the more accurate an would incorporate more identities than the gender binary.\n"
   ]
  },
  {
   "cell_type": "markdown",
   "metadata": {},
   "source": [
    "#### Degree Centrality vs Eigenvector Centrality\n",
    "\n",
    "Degree centrality is simply the normalized number of degrees for each node. Nodes with a higher number of degrees are of more importance to the network. Eigenvector centrality assigns scores to each connection, where connections to other well connected nodes are valued higher than to low-connected nodes.\n",
    "\n",
    "#### Why is eigenvector centrality important?\n",
    "\n",
    "It creates a level playing field among those who have lots of connections and those who have meaningful connections. For example, if someone has five connections, each of whom have ten connections, that could be more valuable than having ten connections, each of whom in turn have just three connections.\n"
   ]
  },
  {
   "cell_type": "code",
   "execution_count": 1,
   "metadata": {
    "ExecuteTime": {
     "end_time": "2020-06-20T13:01:13.191338Z",
     "start_time": "2020-06-20T13:01:10.225871Z"
    }
   },
   "outputs": [
    {
     "data": {
      "text/html": [
       "        <script type=\"text/javascript\">\n",
       "        window.PlotlyConfig = {MathJaxConfig: 'local'};\n",
       "        if (window.MathJax) {MathJax.Hub.Config({SVG: {font: \"STIX-Web\"}});}\n",
       "        if (typeof require !== 'undefined') {\n",
       "        require.undef(\"plotly\");\n",
       "        requirejs.config({\n",
       "            paths: {\n",
       "                'plotly': ['https://cdn.plot.ly/plotly-latest.min']\n",
       "            }\n",
       "        });\n",
       "        require(['plotly'], function(Plotly) {\n",
       "            window._Plotly = Plotly;\n",
       "        });\n",
       "        }\n",
       "        </script>\n",
       "        "
      ]
     },
     "metadata": {},
     "output_type": "display_data"
    }
   ],
   "source": [
    "import json\n",
    "import networkx as nx\n",
    "import pandas as pd\n",
    "import numpy as np\n",
    "import matplotlib.pyplot as plt\n",
    "import seaborn as sns\n",
    "import plotly.graph_objs as go \n",
    "from plotly.offline import init_notebook_mode, plot, iplot\n",
    "init_notebook_mode(connected=True)\n",
    "from scipy import stats"
   ]
  },
  {
   "cell_type": "markdown",
   "metadata": {},
   "source": [
    "### Read in data and map attributes to individuals"
   ]
  },
  {
   "cell_type": "code",
   "execution_count": 2,
   "metadata": {
    "ExecuteTime": {
     "end_time": "2020-06-20T13:01:13.915631Z",
     "start_time": "2020-06-20T13:01:13.193578Z"
    }
   },
   "outputs": [
    {
     "name": "stderr",
     "output_type": "stream",
     "text": [
      "C:\\Users\\spiec\\Anaconda3\\lib\\site-packages\\ipykernel_launcher.py:8: SettingWithCopyWarning:\n",
      "\n",
      "\n",
      "A value is trying to be set on a copy of a slice from a DataFrame.\n",
      "Try using .loc[row_indexer,col_indexer] = value instead\n",
      "\n",
      "See the caveats in the documentation: https://pandas.pydata.org/pandas-docs/stable/user_guide/indexing.html#returning-a-view-versus-a-copy\n",
      "\n"
     ]
    }
   ],
   "source": [
    "df_rel = pd.read_table(\"http://moreno.ss.uci.edu/lazega.dat\",\n",
    "                   skiprows=7) # Get relationship data\n",
    "df_map = pd.read_table(\"http://moreno.ss.uci.edu/lazatt.dat\")\n",
    "df_cols = df_map[3:10] # dataframe with column labels\n",
    "df_vals = df_map[11:] # dataframe with column mapping values\n",
    "df_rel['DATA:'] = df_rel['DATA:'].apply(lambda x: x.split())\n",
    "df_rel = df_rel['DATA:'].apply(pd.Series)\n",
    "df_vals['DL'] = df_vals['DL'].apply(lambda x: x.split())\n",
    "df_vals = df_vals['DL'].apply(pd.Series)\n",
    "df_vals.columns = ['INDEX'] + df_cols['DL'].tolist() "
   ]
  },
  {
   "cell_type": "code",
   "execution_count": 3,
   "metadata": {
    "ExecuteTime": {
     "end_time": "2020-06-20T13:01:13.936698Z",
     "start_time": "2020-06-20T13:01:13.918148Z"
    }
   },
   "outputs": [
    {
     "data": {
      "text/html": [
       "<div>\n",
       "<style scoped>\n",
       "    .dataframe tbody tr th:only-of-type {\n",
       "        vertical-align: middle;\n",
       "    }\n",
       "\n",
       "    .dataframe tbody tr th {\n",
       "        vertical-align: top;\n",
       "    }\n",
       "\n",
       "    .dataframe thead th {\n",
       "        text-align: right;\n",
       "    }\n",
       "</style>\n",
       "<table border=\"1\" class=\"dataframe\">\n",
       "  <thead>\n",
       "    <tr style=\"text-align: right;\">\n",
       "      <th></th>\n",
       "      <th>INDEX</th>\n",
       "      <th>STATUS</th>\n",
       "      <th>GENDER</th>\n",
       "      <th>OFFICE</th>\n",
       "      <th>SENIORITY</th>\n",
       "      <th>AGE</th>\n",
       "      <th>PRACTICE</th>\n",
       "      <th>LAW_SCHOOL</th>\n",
       "    </tr>\n",
       "  </thead>\n",
       "  <tbody>\n",
       "    <tr>\n",
       "      <th>11</th>\n",
       "      <td>01</td>\n",
       "      <td>1</td>\n",
       "      <td>1</td>\n",
       "      <td>1</td>\n",
       "      <td>31</td>\n",
       "      <td>64</td>\n",
       "      <td>1</td>\n",
       "      <td>1</td>\n",
       "    </tr>\n",
       "    <tr>\n",
       "      <th>12</th>\n",
       "      <td>02</td>\n",
       "      <td>1</td>\n",
       "      <td>1</td>\n",
       "      <td>1</td>\n",
       "      <td>32</td>\n",
       "      <td>62</td>\n",
       "      <td>2</td>\n",
       "      <td>1</td>\n",
       "    </tr>\n",
       "    <tr>\n",
       "      <th>13</th>\n",
       "      <td>03</td>\n",
       "      <td>1</td>\n",
       "      <td>1</td>\n",
       "      <td>2</td>\n",
       "      <td>13</td>\n",
       "      <td>67</td>\n",
       "      <td>1</td>\n",
       "      <td>1</td>\n",
       "    </tr>\n",
       "    <tr>\n",
       "      <th>14</th>\n",
       "      <td>04</td>\n",
       "      <td>1</td>\n",
       "      <td>1</td>\n",
       "      <td>1</td>\n",
       "      <td>31</td>\n",
       "      <td>59</td>\n",
       "      <td>2</td>\n",
       "      <td>3</td>\n",
       "    </tr>\n",
       "    <tr>\n",
       "      <th>15</th>\n",
       "      <td>05</td>\n",
       "      <td>1</td>\n",
       "      <td>1</td>\n",
       "      <td>2</td>\n",
       "      <td>31</td>\n",
       "      <td>59</td>\n",
       "      <td>1</td>\n",
       "      <td>2</td>\n",
       "    </tr>\n",
       "  </tbody>\n",
       "</table>\n",
       "</div>"
      ],
      "text/plain": [
       "   INDEX STATUS GENDER OFFICE SENIORITY AGE PRACTICE LAW_SCHOOL\n",
       "11    01      1      1      1        31  64        1          1\n",
       "12    02      1      1      1        32  62        2          1\n",
       "13    03      1      1      2        13  67        1          1\n",
       "14    04      1      1      1        31  59        2          3\n",
       "15    05      1      1      2        31  59        1          2"
      ]
     },
     "execution_count": 3,
     "metadata": {},
     "output_type": "execute_result"
    }
   ],
   "source": [
    "df_vals.head()"
   ]
  },
  {
   "cell_type": "markdown",
   "metadata": {},
   "source": [
    "### EDA on Columns of Interest"
   ]
  },
  {
   "cell_type": "code",
   "execution_count": 4,
   "metadata": {
    "ExecuteTime": {
     "end_time": "2020-06-20T13:01:13.951681Z",
     "start_time": "2020-06-20T13:01:13.938825Z"
    }
   },
   "outputs": [
    {
     "name": "stdout",
     "output_type": "stream",
     "text": [
      "1    0.507042\n",
      "2    0.492958\n",
      "Name: STATUS, dtype: float64\n",
      "1    0.746479\n",
      "2    0.253521\n",
      "Name: GENDER, dtype: float64\n"
     ]
    }
   ],
   "source": [
    "for col in ['STATUS','GENDER']:\n",
    "    print(df_vals[col].value_counts(1))"
   ]
  },
  {
   "cell_type": "markdown",
   "metadata": {},
   "source": [
    "We can see that males outnumber females 3 to 1. This could have an effect on networking"
   ]
  },
  {
   "cell_type": "markdown",
   "metadata": {},
   "source": [
    "### Build mapping dictionaries for gender and status"
   ]
  },
  {
   "cell_type": "code",
   "execution_count": 5,
   "metadata": {
    "ExecuteTime": {
     "end_time": "2020-06-20T13:01:13.960174Z",
     "start_time": "2020-06-20T13:01:13.954096Z"
    }
   },
   "outputs": [],
   "source": [
    "gender_dict = {int(k)-1:int(v) for k,v in zip(df_vals['INDEX'],df_vals['GENDER'])}\n",
    "status_dict = {int(k)-1:int(v) for k,v in zip(df_vals['INDEX'],df_vals['STATUS'])}"
   ]
  },
  {
   "cell_type": "markdown",
   "metadata": {},
   "source": [
    "### Look at Social Network\n",
    "\n",
    "#### Build social network graph"
   ]
  },
  {
   "cell_type": "code",
   "execution_count": 6,
   "metadata": {
    "ExecuteTime": {
     "end_time": "2020-06-20T13:01:13.973470Z",
     "start_time": "2020-06-20T13:01:13.962133Z"
    }
   },
   "outputs": [],
   "source": [
    "df_social = df_rel[71:142].astype(int).reset_index(drop=True)\n",
    "\n",
    "G_social=nx.from_pandas_adjacency(df_social)\n",
    "for node in list(G_social.nodes):\n",
    "    G_social.nodes[node]['gender'] = gender_dict[node]\n",
    "    G_social.nodes[node]['status'] = status_dict[node]"
   ]
  },
  {
   "cell_type": "markdown",
   "metadata": {},
   "source": [
    "#### Get centrality\n",
    "Degree centrality and eigenvector centrality is calculated for each node"
   ]
  },
  {
   "cell_type": "code",
   "execution_count": 7,
   "metadata": {
    "ExecuteTime": {
     "end_time": "2020-06-20T13:01:13.989776Z",
     "start_time": "2020-06-20T13:01:13.981311Z"
    }
   },
   "outputs": [],
   "source": [
    "social_eig_centrality = nx.eigenvector_centrality(G_social, max_iter=1000)\n",
    "social_deg_centrality = nx.degree_centrality(G_social)"
   ]
  },
  {
   "cell_type": "code",
   "execution_count": 8,
   "metadata": {
    "ExecuteTime": {
     "end_time": "2020-06-20T13:01:14.039762Z",
     "start_time": "2020-06-20T13:01:13.994911Z"
    }
   },
   "outputs": [
    {
     "name": "stdout",
     "output_type": "stream",
     "text": [
      "Eigenvector Centrality\n",
      "----------------------\n",
      "Gender 1\n",
      "    eig_centrality  deg_centrality    id  gender  status\n",
      "23        0.265444        0.357143  23.0       1       1\n",
      "25        0.249941        0.342857  25.0       1       1\n",
      "12        0.244744        0.342857  12.0       1       1\n",
      "16        0.235988        0.357143  16.0       1       1\n",
      "3         0.216243        0.314286   3.0       1       1\n",
      "\n",
      "\n",
      "Gender 2\n",
      "    eig_centrality  deg_centrality    id  gender  status\n",
      "26        0.220503        0.271429  26.0       2       1\n",
      "42        0.173812        0.257143  42.0       2       2\n",
      "37        0.156709        0.214286  37.0       2       2\n",
      "28        0.138348        0.185714  28.0       2       1\n",
      "38        0.135104        0.214286  38.0       2       2\n",
      "\n",
      "\n",
      "Status 1\n",
      "    eig_centrality  deg_centrality    id  gender  status\n",
      "23        0.265444        0.357143  23.0       1       1\n",
      "25        0.249941        0.342857  25.0       1       1\n",
      "12        0.244744        0.342857  12.0       1       1\n",
      "16        0.235988        0.357143  16.0       1       1\n",
      "26        0.220503        0.271429  26.0       2       1\n",
      "\n",
      "\n",
      "Status 2\n",
      "    eig_centrality  deg_centrality    id  gender  status\n",
      "64        0.195705        0.328571  64.0       1       2\n",
      "40        0.176584        0.285714  40.0       1       2\n",
      "42        0.173812        0.257143  42.0       2       2\n",
      "37        0.156709        0.214286  37.0       2       2\n",
      "38        0.135104        0.214286  38.0       2       2\n",
      "\n",
      "\n",
      "Degree Centrality - All\n",
      "----------------------\n",
      "    eig_centrality  deg_centrality    id  gender  status\n",
      "30        0.214475        0.400000  30.0       1       1\n",
      "23        0.265444        0.357143  23.0       1       1\n",
      "16        0.235988        0.357143  16.0       1       1\n",
      "25        0.249941        0.342857  25.0       1       1\n",
      "12        0.244744        0.342857  12.0       1       1\n",
      "\n",
      "\n"
     ]
    }
   ],
   "source": [
    "social_df = pd.DataFrame(np.array([list(social_eig_centrality.values()),\n",
    "                                   list(social_deg_centrality.values()),\n",
    "                                   list(social_deg_centrality.keys())]).T,\n",
    "                          columns = ['eig_centrality', 'deg_centrality','id'])\n",
    "\n",
    "social_df['gender'] = social_df['id'].map(gender_dict)\n",
    "social_df['status'] = social_df['id'].map(status_dict)\n",
    "\n",
    "print('Eigenvector Centrality')\n",
    "print('----------------------')\n",
    "for filter_ in ['gender','status']:\n",
    "    for value in [1,2]:\n",
    "        print(filter_.title(),value)\n",
    "        print(social_df[social_df[filter_]==value].sort_values(by=['eig_centrality',\n",
    "                                                             'deg_centrality'],\n",
    "                                                         ascending=False).head(5))\n",
    "        print('\\n')\n",
    "print('Degree Centrality - All')\n",
    "print('----------------------')\n",
    "print(social_df.sort_values(by=['deg_centrality',\n",
    "                               'eig_centrality'],\n",
    "                            ascending=False).head(5))\n",
    "print('\\n')"
   ]
  },
  {
   "cell_type": "markdown",
   "metadata": {},
   "source": [
    "In the social network, the top 5 males with the highest eigenvector centrality are 23, 25, 12, 16, and 3.  All of these top 5 have status as a partner in the law firm.  The top 5 females with the highest eigenvector centrality are 26, 42, 37, 28, and 38.  Note that the values for the top females are lower than those of the top 5 males, and could be informed by the disparity in number of males vs females in the firm.\n",
    "\n",
    "Looking at degree centrality for all nodes, we see some familiar individuals.  16, 23, 12, and 25 were also in the top 5 males of eigenvector centrality.  Node 30 has the highest degree centrality, but is not in the top for eigenvector centrality.  Looking back at the visualization we see that node 30 is also male."
   ]
  },
  {
   "cell_type": "markdown",
   "metadata": {},
   "source": [
    "#### Visualize Social Network\n",
    "The visualization of the social network by gender is below.  We see there are two individuals that are not connected to the rest of the network, one male and one female.  Also, there are more males than females and by looking at the size of the node, we see that males have higher degrees than females."
   ]
  },
  {
   "cell_type": "markdown",
   "metadata": {},
   "source": [
    "##### Social Network - by Gender\n",
    "\n",
    "Orange is male, purple is female. Size indicates degree.\n",
    "\n",
    "![title](graphics/social_gender_a.png)"
   ]
  },
  {
   "cell_type": "markdown",
   "metadata": {},
   "source": [
    "The visualization of the social network by status is below.  We see the two individuals that are not connected to the rest of the network are associates.  Looking at the size of the node, it appears that partners have higher degrees than associates. We have one unconnected male and one unconnected female."
   ]
  },
  {
   "cell_type": "markdown",
   "metadata": {},
   "source": [
    "##### Social Network - Status\n",
    "\n",
    "Brown is partner, green is associate. Size indicates degree\n",
    "\n",
    "![title](graphics/social_status_a.png)"
   ]
  },
  {
   "cell_type": "markdown",
   "metadata": {},
   "source": [
    "#### Scatter Plot of Social Network Eigenvector Centrality by Gender "
   ]
  },
  {
   "cell_type": "code",
   "execution_count": 9,
   "metadata": {
    "ExecuteTime": {
     "end_time": "2020-06-20T13:01:14.339610Z",
     "start_time": "2020-06-20T13:01:14.042129Z"
    }
   },
   "outputs": [
    {
     "data": {
      "application/vnd.plotly.v1+json": {
       "config": {
        "plotlyServerURL": "https://plot.ly"
       },
       "data": [
        {
         "hoverinfo": "text",
         "marker": {
          "color": "lightsalmon",
          "size": 14,
          "symbol": "circle"
         },
         "mode": "markers+text",
         "name": "Male",
         "text": [
          0,
          1,
          2,
          3,
          4,
          5,
          6,
          7,
          8,
          9,
          10,
          11,
          12,
          13,
          14,
          15,
          16,
          17,
          18,
          19,
          20,
          21,
          22,
          23,
          24,
          25,
          27,
          29,
          30,
          31,
          32,
          34,
          35,
          36,
          39,
          40,
          41,
          44,
          46,
          48,
          49,
          51,
          52,
          53,
          54,
          55,
          57,
          61,
          62,
          64,
          65,
          67,
          69
         ],
         "textfont": {
          "color": "black",
          "size": 8
         },
         "type": "scatter",
         "x": [
          0.11428571428571428,
          0.14285714285714285,
          0.05714285714285714,
          0.3142857142857143,
          0.08571428571428572,
          0.02857142857142857,
          0.04285714285714286,
          0.09999999999999999,
          0.19999999999999998,
          0.19999999999999998,
          0.19999999999999998,
          0.3142857142857143,
          0.34285714285714286,
          0.12857142857142856,
          0.05714285714285714,
          0.18571428571428572,
          0.35714285714285715,
          0.12857142857142856,
          0.08571428571428572,
          0.19999999999999998,
          0.21428571428571427,
          0.15714285714285714,
          0.09999999999999999,
          0.35714285714285715,
          0.21428571428571427,
          0.34285714285714286,
          0.18571428571428572,
          0.11428571428571428,
          0.39999999999999997,
          0.09999999999999999,
          0.18571428571428572,
          0.18571428571428572,
          0.18571428571428572,
          0.014285714285714285,
          0.18571428571428572,
          0.2857142857142857,
          0.22857142857142856,
          0.11428571428571428,
          0,
          0.08571428571428572,
          0.12857142857142856,
          0.19999999999999998,
          0.04285714285714286,
          0.17142857142857143,
          0.04285714285714286,
          0.17142857142857143,
          0.19999999999999998,
          0.07142857142857142,
          0.02857142857142857,
          0.32857142857142857,
          0.22857142857142856,
          0.12857142857142856,
          0.09999999999999999
         ],
         "y": [
          0.08492241311358159,
          0.10590758887818771,
          0.022751742690168452,
          0.21624263854953574,
          0.03941784427208795,
          0.006437269898622227,
          0.008464753008766594,
          0.07715468427599077,
          0.16862103727735933,
          0.15916977144339087,
          0.16548165543399027,
          0.20652099231097815,
          0.24474426599878243,
          0.06338636473923558,
          0.03568626810212871,
          0.11279555952108745,
          0.2359880893652053,
          0.03876653095197901,
          0.04177135167144181,
          0.1524611409087194,
          0.17518420124411174,
          0.1207842260556272,
          0.09868361054219975,
          0.2654436930319754,
          0.14715416881486548,
          0.24994142671366,
          0.07295574271162476,
          0.07811746673867698,
          0.2144748204762635,
          0.04052090995173119,
          0.07215736439705273,
          0.056245206018310054,
          0.11919067036214459,
          0.0022487778262687964,
          0.13449183387983293,
          0.17658392228335748,
          0.12046974065881792,
          0.04817509075927711,
          1.4959770880750038e-28,
          0.052824260140099714,
          0.03909848554913524,
          0.12684079249420901,
          0.028852047447317366,
          0.0885003513313582,
          0.019739883245598177,
          0.08416545069408624,
          0.07862264512902645,
          0.04056093337590119,
          0.01806254881661278,
          0.195704931419945,
          0.10860972129740494,
          0.0460256371525812,
          0.022930953611588003
         ]
        },
        {
         "marker": {
          "color": "purple",
          "size": 14,
          "symbol": "circle"
         },
         "mode": "markers+text",
         "name": "Female",
         "text": [
          26,
          28,
          33,
          37,
          38,
          42,
          43,
          45,
          47,
          50,
          56,
          58,
          59,
          60,
          63,
          66,
          68,
          70
         ],
         "textfont": {
          "color": "white",
          "size": 8
         },
         "type": "scatter",
         "x": [
          0.2714285714285714,
          0.18571428571428572,
          0.17142857142857143,
          0.21428571428571427,
          0.21428571428571427,
          0.2571428571428571,
          0,
          0.08571428571428572,
          0.09999999999999999,
          0.11428571428571428,
          0.21428571428571427,
          0.08571428571428572,
          0.11428571428571428,
          0.04285714285714286,
          0.3,
          0.07142857142857142,
          0.08571428571428572,
          0.08571428571428572
         ],
         "y": [
          0.22050295510413453,
          0.13834755687069933,
          0.11533438265212054,
          0.15670888330619992,
          0.13510382725781966,
          0.1738119395985584,
          1.4959770880750038e-28,
          0.029782307371126995,
          0.055119155300493765,
          0.0357691601051182,
          0.11876082541916727,
          0.02692785524565825,
          0.03329731467356897,
          0.016337782218193448,
          0.10720033079871749,
          0.013720037964824567,
          0.02007507224669617,
          0.02007507224669617
         ]
        }
       ],
       "layout": {
        "hovermode": "closest",
        "paper_bgcolor": "white",
        "plot_bgcolor": "white",
        "template": {
         "data": {
          "bar": [
           {
            "error_x": {
             "color": "#2a3f5f"
            },
            "error_y": {
             "color": "#2a3f5f"
            },
            "marker": {
             "line": {
              "color": "#E5ECF6",
              "width": 0.5
             }
            },
            "type": "bar"
           }
          ],
          "barpolar": [
           {
            "marker": {
             "line": {
              "color": "#E5ECF6",
              "width": 0.5
             }
            },
            "type": "barpolar"
           }
          ],
          "carpet": [
           {
            "aaxis": {
             "endlinecolor": "#2a3f5f",
             "gridcolor": "white",
             "linecolor": "white",
             "minorgridcolor": "white",
             "startlinecolor": "#2a3f5f"
            },
            "baxis": {
             "endlinecolor": "#2a3f5f",
             "gridcolor": "white",
             "linecolor": "white",
             "minorgridcolor": "white",
             "startlinecolor": "#2a3f5f"
            },
            "type": "carpet"
           }
          ],
          "choropleth": [
           {
            "colorbar": {
             "outlinewidth": 0,
             "ticks": ""
            },
            "type": "choropleth"
           }
          ],
          "contour": [
           {
            "colorbar": {
             "outlinewidth": 0,
             "ticks": ""
            },
            "colorscale": [
             [
              0,
              "#0d0887"
             ],
             [
              0.1111111111111111,
              "#46039f"
             ],
             [
              0.2222222222222222,
              "#7201a8"
             ],
             [
              0.3333333333333333,
              "#9c179e"
             ],
             [
              0.4444444444444444,
              "#bd3786"
             ],
             [
              0.5555555555555556,
              "#d8576b"
             ],
             [
              0.6666666666666666,
              "#ed7953"
             ],
             [
              0.7777777777777778,
              "#fb9f3a"
             ],
             [
              0.8888888888888888,
              "#fdca26"
             ],
             [
              1,
              "#f0f921"
             ]
            ],
            "type": "contour"
           }
          ],
          "contourcarpet": [
           {
            "colorbar": {
             "outlinewidth": 0,
             "ticks": ""
            },
            "type": "contourcarpet"
           }
          ],
          "heatmap": [
           {
            "colorbar": {
             "outlinewidth": 0,
             "ticks": ""
            },
            "colorscale": [
             [
              0,
              "#0d0887"
             ],
             [
              0.1111111111111111,
              "#46039f"
             ],
             [
              0.2222222222222222,
              "#7201a8"
             ],
             [
              0.3333333333333333,
              "#9c179e"
             ],
             [
              0.4444444444444444,
              "#bd3786"
             ],
             [
              0.5555555555555556,
              "#d8576b"
             ],
             [
              0.6666666666666666,
              "#ed7953"
             ],
             [
              0.7777777777777778,
              "#fb9f3a"
             ],
             [
              0.8888888888888888,
              "#fdca26"
             ],
             [
              1,
              "#f0f921"
             ]
            ],
            "type": "heatmap"
           }
          ],
          "heatmapgl": [
           {
            "colorbar": {
             "outlinewidth": 0,
             "ticks": ""
            },
            "colorscale": [
             [
              0,
              "#0d0887"
             ],
             [
              0.1111111111111111,
              "#46039f"
             ],
             [
              0.2222222222222222,
              "#7201a8"
             ],
             [
              0.3333333333333333,
              "#9c179e"
             ],
             [
              0.4444444444444444,
              "#bd3786"
             ],
             [
              0.5555555555555556,
              "#d8576b"
             ],
             [
              0.6666666666666666,
              "#ed7953"
             ],
             [
              0.7777777777777778,
              "#fb9f3a"
             ],
             [
              0.8888888888888888,
              "#fdca26"
             ],
             [
              1,
              "#f0f921"
             ]
            ],
            "type": "heatmapgl"
           }
          ],
          "histogram": [
           {
            "marker": {
             "colorbar": {
              "outlinewidth": 0,
              "ticks": ""
             }
            },
            "type": "histogram"
           }
          ],
          "histogram2d": [
           {
            "colorbar": {
             "outlinewidth": 0,
             "ticks": ""
            },
            "colorscale": [
             [
              0,
              "#0d0887"
             ],
             [
              0.1111111111111111,
              "#46039f"
             ],
             [
              0.2222222222222222,
              "#7201a8"
             ],
             [
              0.3333333333333333,
              "#9c179e"
             ],
             [
              0.4444444444444444,
              "#bd3786"
             ],
             [
              0.5555555555555556,
              "#d8576b"
             ],
             [
              0.6666666666666666,
              "#ed7953"
             ],
             [
              0.7777777777777778,
              "#fb9f3a"
             ],
             [
              0.8888888888888888,
              "#fdca26"
             ],
             [
              1,
              "#f0f921"
             ]
            ],
            "type": "histogram2d"
           }
          ],
          "histogram2dcontour": [
           {
            "colorbar": {
             "outlinewidth": 0,
             "ticks": ""
            },
            "colorscale": [
             [
              0,
              "#0d0887"
             ],
             [
              0.1111111111111111,
              "#46039f"
             ],
             [
              0.2222222222222222,
              "#7201a8"
             ],
             [
              0.3333333333333333,
              "#9c179e"
             ],
             [
              0.4444444444444444,
              "#bd3786"
             ],
             [
              0.5555555555555556,
              "#d8576b"
             ],
             [
              0.6666666666666666,
              "#ed7953"
             ],
             [
              0.7777777777777778,
              "#fb9f3a"
             ],
             [
              0.8888888888888888,
              "#fdca26"
             ],
             [
              1,
              "#f0f921"
             ]
            ],
            "type": "histogram2dcontour"
           }
          ],
          "mesh3d": [
           {
            "colorbar": {
             "outlinewidth": 0,
             "ticks": ""
            },
            "type": "mesh3d"
           }
          ],
          "parcoords": [
           {
            "line": {
             "colorbar": {
              "outlinewidth": 0,
              "ticks": ""
             }
            },
            "type": "parcoords"
           }
          ],
          "pie": [
           {
            "automargin": true,
            "type": "pie"
           }
          ],
          "scatter": [
           {
            "marker": {
             "colorbar": {
              "outlinewidth": 0,
              "ticks": ""
             }
            },
            "type": "scatter"
           }
          ],
          "scatter3d": [
           {
            "line": {
             "colorbar": {
              "outlinewidth": 0,
              "ticks": ""
             }
            },
            "marker": {
             "colorbar": {
              "outlinewidth": 0,
              "ticks": ""
             }
            },
            "type": "scatter3d"
           }
          ],
          "scattercarpet": [
           {
            "marker": {
             "colorbar": {
              "outlinewidth": 0,
              "ticks": ""
             }
            },
            "type": "scattercarpet"
           }
          ],
          "scattergeo": [
           {
            "marker": {
             "colorbar": {
              "outlinewidth": 0,
              "ticks": ""
             }
            },
            "type": "scattergeo"
           }
          ],
          "scattergl": [
           {
            "marker": {
             "colorbar": {
              "outlinewidth": 0,
              "ticks": ""
             }
            },
            "type": "scattergl"
           }
          ],
          "scattermapbox": [
           {
            "marker": {
             "colorbar": {
              "outlinewidth": 0,
              "ticks": ""
             }
            },
            "type": "scattermapbox"
           }
          ],
          "scatterpolar": [
           {
            "marker": {
             "colorbar": {
              "outlinewidth": 0,
              "ticks": ""
             }
            },
            "type": "scatterpolar"
           }
          ],
          "scatterpolargl": [
           {
            "marker": {
             "colorbar": {
              "outlinewidth": 0,
              "ticks": ""
             }
            },
            "type": "scatterpolargl"
           }
          ],
          "scatterternary": [
           {
            "marker": {
             "colorbar": {
              "outlinewidth": 0,
              "ticks": ""
             }
            },
            "type": "scatterternary"
           }
          ],
          "surface": [
           {
            "colorbar": {
             "outlinewidth": 0,
             "ticks": ""
            },
            "colorscale": [
             [
              0,
              "#0d0887"
             ],
             [
              0.1111111111111111,
              "#46039f"
             ],
             [
              0.2222222222222222,
              "#7201a8"
             ],
             [
              0.3333333333333333,
              "#9c179e"
             ],
             [
              0.4444444444444444,
              "#bd3786"
             ],
             [
              0.5555555555555556,
              "#d8576b"
             ],
             [
              0.6666666666666666,
              "#ed7953"
             ],
             [
              0.7777777777777778,
              "#fb9f3a"
             ],
             [
              0.8888888888888888,
              "#fdca26"
             ],
             [
              1,
              "#f0f921"
             ]
            ],
            "type": "surface"
           }
          ],
          "table": [
           {
            "cells": {
             "fill": {
              "color": "#EBF0F8"
             },
             "line": {
              "color": "white"
             }
            },
            "header": {
             "fill": {
              "color": "#C8D4E3"
             },
             "line": {
              "color": "white"
             }
            },
            "type": "table"
           }
          ]
         },
         "layout": {
          "annotationdefaults": {
           "arrowcolor": "#2a3f5f",
           "arrowhead": 0,
           "arrowwidth": 1
          },
          "coloraxis": {
           "colorbar": {
            "outlinewidth": 0,
            "ticks": ""
           }
          },
          "colorscale": {
           "diverging": [
            [
             0,
             "#8e0152"
            ],
            [
             0.1,
             "#c51b7d"
            ],
            [
             0.2,
             "#de77ae"
            ],
            [
             0.3,
             "#f1b6da"
            ],
            [
             0.4,
             "#fde0ef"
            ],
            [
             0.5,
             "#f7f7f7"
            ],
            [
             0.6,
             "#e6f5d0"
            ],
            [
             0.7,
             "#b8e186"
            ],
            [
             0.8,
             "#7fbc41"
            ],
            [
             0.9,
             "#4d9221"
            ],
            [
             1,
             "#276419"
            ]
           ],
           "sequential": [
            [
             0,
             "#0d0887"
            ],
            [
             0.1111111111111111,
             "#46039f"
            ],
            [
             0.2222222222222222,
             "#7201a8"
            ],
            [
             0.3333333333333333,
             "#9c179e"
            ],
            [
             0.4444444444444444,
             "#bd3786"
            ],
            [
             0.5555555555555556,
             "#d8576b"
            ],
            [
             0.6666666666666666,
             "#ed7953"
            ],
            [
             0.7777777777777778,
             "#fb9f3a"
            ],
            [
             0.8888888888888888,
             "#fdca26"
            ],
            [
             1,
             "#f0f921"
            ]
           ],
           "sequentialminus": [
            [
             0,
             "#0d0887"
            ],
            [
             0.1111111111111111,
             "#46039f"
            ],
            [
             0.2222222222222222,
             "#7201a8"
            ],
            [
             0.3333333333333333,
             "#9c179e"
            ],
            [
             0.4444444444444444,
             "#bd3786"
            ],
            [
             0.5555555555555556,
             "#d8576b"
            ],
            [
             0.6666666666666666,
             "#ed7953"
            ],
            [
             0.7777777777777778,
             "#fb9f3a"
            ],
            [
             0.8888888888888888,
             "#fdca26"
            ],
            [
             1,
             "#f0f921"
            ]
           ]
          },
          "colorway": [
           "#636efa",
           "#EF553B",
           "#00cc96",
           "#ab63fa",
           "#FFA15A",
           "#19d3f3",
           "#FF6692",
           "#B6E880",
           "#FF97FF",
           "#FECB52"
          ],
          "font": {
           "color": "#2a3f5f"
          },
          "geo": {
           "bgcolor": "white",
           "lakecolor": "white",
           "landcolor": "#E5ECF6",
           "showlakes": true,
           "showland": true,
           "subunitcolor": "white"
          },
          "hoverlabel": {
           "align": "left"
          },
          "hovermode": "closest",
          "mapbox": {
           "style": "light"
          },
          "paper_bgcolor": "white",
          "plot_bgcolor": "#E5ECF6",
          "polar": {
           "angularaxis": {
            "gridcolor": "white",
            "linecolor": "white",
            "ticks": ""
           },
           "bgcolor": "#E5ECF6",
           "radialaxis": {
            "gridcolor": "white",
            "linecolor": "white",
            "ticks": ""
           }
          },
          "scene": {
           "xaxis": {
            "backgroundcolor": "#E5ECF6",
            "gridcolor": "white",
            "gridwidth": 2,
            "linecolor": "white",
            "showbackground": true,
            "ticks": "",
            "zerolinecolor": "white"
           },
           "yaxis": {
            "backgroundcolor": "#E5ECF6",
            "gridcolor": "white",
            "gridwidth": 2,
            "linecolor": "white",
            "showbackground": true,
            "ticks": "",
            "zerolinecolor": "white"
           },
           "zaxis": {
            "backgroundcolor": "#E5ECF6",
            "gridcolor": "white",
            "gridwidth": 2,
            "linecolor": "white",
            "showbackground": true,
            "ticks": "",
            "zerolinecolor": "white"
           }
          },
          "shapedefaults": {
           "line": {
            "color": "#2a3f5f"
           }
          },
          "ternary": {
           "aaxis": {
            "gridcolor": "white",
            "linecolor": "white",
            "ticks": ""
           },
           "baxis": {
            "gridcolor": "white",
            "linecolor": "white",
            "ticks": ""
           },
           "bgcolor": "#E5ECF6",
           "caxis": {
            "gridcolor": "white",
            "linecolor": "white",
            "ticks": ""
           }
          },
          "title": {
           "x": 0.05
          },
          "xaxis": {
           "automargin": true,
           "gridcolor": "white",
           "linecolor": "white",
           "ticks": "",
           "title": {
            "standoff": 15
           },
           "zerolinecolor": "white",
           "zerolinewidth": 2
          },
          "yaxis": {
           "automargin": true,
           "gridcolor": "white",
           "linecolor": "white",
           "ticks": "",
           "title": {
            "standoff": 15
           },
           "zerolinecolor": "white",
           "zerolinewidth": 2
          }
         }
        },
        "title": {
         "text": "Social Network - Centrality by Gender"
        },
        "xaxis": {
         "gridcolor": "grey",
         "gridwidth": 1,
         "showgrid": true,
         "title": {
          "text": "Degree Centrality"
         }
        },
        "yaxis": {
         "gridcolor": "grey",
         "gridwidth": 1,
         "showgrid": true,
         "title": {
          "text": "Eigenvector Centrality"
         }
        }
       }
      },
      "text/html": [
       "<div>\n",
       "        \n",
       "        \n",
       "            <div id=\"1790c494-9fdc-40a0-ae2c-4ee83995fc6f\" class=\"plotly-graph-div\" style=\"height:525px; width:100%;\"></div>\n",
       "            <script type=\"text/javascript\">\n",
       "                require([\"plotly\"], function(Plotly) {\n",
       "                    window.PLOTLYENV=window.PLOTLYENV || {};\n",
       "                    \n",
       "                if (document.getElementById(\"1790c494-9fdc-40a0-ae2c-4ee83995fc6f\")) {\n",
       "                    Plotly.newPlot(\n",
       "                        '1790c494-9fdc-40a0-ae2c-4ee83995fc6f',\n",
       "                        [{\"hoverinfo\": \"text\", \"marker\": {\"color\": \"lightsalmon\", \"size\": 14, \"symbol\": \"circle\"}, \"mode\": \"markers+text\", \"name\": \"Male\", \"text\": [0.0, 1.0, 2.0, 3.0, 4.0, 5.0, 6.0, 7.0, 8.0, 9.0, 10.0, 11.0, 12.0, 13.0, 14.0, 15.0, 16.0, 17.0, 18.0, 19.0, 20.0, 21.0, 22.0, 23.0, 24.0, 25.0, 27.0, 29.0, 30.0, 31.0, 32.0, 34.0, 35.0, 36.0, 39.0, 40.0, 41.0, 44.0, 46.0, 48.0, 49.0, 51.0, 52.0, 53.0, 54.0, 55.0, 57.0, 61.0, 62.0, 64.0, 65.0, 67.0, 69.0], \"textfont\": {\"color\": \"black\", \"size\": 8}, \"type\": \"scatter\", \"x\": [0.11428571428571428, 0.14285714285714285, 0.05714285714285714, 0.3142857142857143, 0.08571428571428572, 0.02857142857142857, 0.04285714285714286, 0.09999999999999999, 0.19999999999999998, 0.19999999999999998, 0.19999999999999998, 0.3142857142857143, 0.34285714285714286, 0.12857142857142856, 0.05714285714285714, 0.18571428571428572, 0.35714285714285715, 0.12857142857142856, 0.08571428571428572, 0.19999999999999998, 0.21428571428571427, 0.15714285714285714, 0.09999999999999999, 0.35714285714285715, 0.21428571428571427, 0.34285714285714286, 0.18571428571428572, 0.11428571428571428, 0.39999999999999997, 0.09999999999999999, 0.18571428571428572, 0.18571428571428572, 0.18571428571428572, 0.014285714285714285, 0.18571428571428572, 0.2857142857142857, 0.22857142857142856, 0.11428571428571428, 0.0, 0.08571428571428572, 0.12857142857142856, 0.19999999999999998, 0.04285714285714286, 0.17142857142857143, 0.04285714285714286, 0.17142857142857143, 0.19999999999999998, 0.07142857142857142, 0.02857142857142857, 0.32857142857142857, 0.22857142857142856, 0.12857142857142856, 0.09999999999999999], \"y\": [0.08492241311358159, 0.10590758887818771, 0.022751742690168452, 0.21624263854953574, 0.03941784427208795, 0.006437269898622227, 0.008464753008766594, 0.07715468427599077, 0.16862103727735933, 0.15916977144339087, 0.16548165543399027, 0.20652099231097815, 0.24474426599878243, 0.06338636473923558, 0.03568626810212871, 0.11279555952108745, 0.2359880893652053, 0.03876653095197901, 0.04177135167144181, 0.1524611409087194, 0.17518420124411174, 0.1207842260556272, 0.09868361054219975, 0.2654436930319754, 0.14715416881486548, 0.24994142671366, 0.07295574271162476, 0.07811746673867698, 0.2144748204762635, 0.04052090995173119, 0.07215736439705273, 0.056245206018310054, 0.11919067036214459, 0.0022487778262687964, 0.13449183387983293, 0.17658392228335748, 0.12046974065881792, 0.04817509075927711, 1.4959770880750038e-28, 0.052824260140099714, 0.03909848554913524, 0.12684079249420901, 0.028852047447317366, 0.0885003513313582, 0.019739883245598177, 0.08416545069408624, 0.07862264512902645, 0.04056093337590119, 0.01806254881661278, 0.195704931419945, 0.10860972129740494, 0.0460256371525812, 0.022930953611588003]}, {\"marker\": {\"color\": \"purple\", \"size\": 14, \"symbol\": \"circle\"}, \"mode\": \"markers+text\", \"name\": \"Female\", \"text\": [26.0, 28.0, 33.0, 37.0, 38.0, 42.0, 43.0, 45.0, 47.0, 50.0, 56.0, 58.0, 59.0, 60.0, 63.0, 66.0, 68.0, 70.0], \"textfont\": {\"color\": \"white\", \"size\": 8}, \"type\": \"scatter\", \"x\": [0.2714285714285714, 0.18571428571428572, 0.17142857142857143, 0.21428571428571427, 0.21428571428571427, 0.2571428571428571, 0.0, 0.08571428571428572, 0.09999999999999999, 0.11428571428571428, 0.21428571428571427, 0.08571428571428572, 0.11428571428571428, 0.04285714285714286, 0.3, 0.07142857142857142, 0.08571428571428572, 0.08571428571428572], \"y\": [0.22050295510413453, 0.13834755687069933, 0.11533438265212054, 0.15670888330619992, 0.13510382725781966, 0.1738119395985584, 1.4959770880750038e-28, 0.029782307371126995, 0.055119155300493765, 0.0357691601051182, 0.11876082541916727, 0.02692785524565825, 0.03329731467356897, 0.016337782218193448, 0.10720033079871749, 0.013720037964824567, 0.02007507224669617, 0.02007507224669617]}],\n",
       "                        {\"hovermode\": \"closest\", \"paper_bgcolor\": \"white\", \"plot_bgcolor\": \"white\", \"template\": {\"data\": {\"bar\": [{\"error_x\": {\"color\": \"#2a3f5f\"}, \"error_y\": {\"color\": \"#2a3f5f\"}, \"marker\": {\"line\": {\"color\": \"#E5ECF6\", \"width\": 0.5}}, \"type\": \"bar\"}], \"barpolar\": [{\"marker\": {\"line\": {\"color\": \"#E5ECF6\", \"width\": 0.5}}, \"type\": \"barpolar\"}], \"carpet\": [{\"aaxis\": {\"endlinecolor\": \"#2a3f5f\", \"gridcolor\": \"white\", \"linecolor\": \"white\", \"minorgridcolor\": \"white\", \"startlinecolor\": \"#2a3f5f\"}, \"baxis\": {\"endlinecolor\": \"#2a3f5f\", \"gridcolor\": \"white\", \"linecolor\": \"white\", \"minorgridcolor\": \"white\", \"startlinecolor\": \"#2a3f5f\"}, \"type\": \"carpet\"}], \"choropleth\": [{\"colorbar\": {\"outlinewidth\": 0, \"ticks\": \"\"}, \"type\": \"choropleth\"}], \"contour\": [{\"colorbar\": {\"outlinewidth\": 0, \"ticks\": \"\"}, \"colorscale\": [[0.0, \"#0d0887\"], [0.1111111111111111, \"#46039f\"], [0.2222222222222222, \"#7201a8\"], [0.3333333333333333, \"#9c179e\"], [0.4444444444444444, \"#bd3786\"], [0.5555555555555556, \"#d8576b\"], [0.6666666666666666, \"#ed7953\"], [0.7777777777777778, \"#fb9f3a\"], [0.8888888888888888, \"#fdca26\"], [1.0, \"#f0f921\"]], \"type\": \"contour\"}], \"contourcarpet\": [{\"colorbar\": {\"outlinewidth\": 0, \"ticks\": \"\"}, \"type\": \"contourcarpet\"}], \"heatmap\": [{\"colorbar\": {\"outlinewidth\": 0, \"ticks\": \"\"}, \"colorscale\": [[0.0, \"#0d0887\"], [0.1111111111111111, \"#46039f\"], [0.2222222222222222, \"#7201a8\"], [0.3333333333333333, \"#9c179e\"], [0.4444444444444444, \"#bd3786\"], [0.5555555555555556, \"#d8576b\"], [0.6666666666666666, \"#ed7953\"], [0.7777777777777778, \"#fb9f3a\"], [0.8888888888888888, \"#fdca26\"], [1.0, \"#f0f921\"]], \"type\": \"heatmap\"}], \"heatmapgl\": [{\"colorbar\": {\"outlinewidth\": 0, \"ticks\": \"\"}, \"colorscale\": [[0.0, \"#0d0887\"], [0.1111111111111111, \"#46039f\"], [0.2222222222222222, \"#7201a8\"], [0.3333333333333333, \"#9c179e\"], [0.4444444444444444, \"#bd3786\"], [0.5555555555555556, \"#d8576b\"], [0.6666666666666666, \"#ed7953\"], [0.7777777777777778, \"#fb9f3a\"], [0.8888888888888888, \"#fdca26\"], [1.0, \"#f0f921\"]], \"type\": \"heatmapgl\"}], \"histogram\": [{\"marker\": {\"colorbar\": {\"outlinewidth\": 0, \"ticks\": \"\"}}, \"type\": \"histogram\"}], \"histogram2d\": [{\"colorbar\": {\"outlinewidth\": 0, \"ticks\": \"\"}, \"colorscale\": [[0.0, \"#0d0887\"], [0.1111111111111111, \"#46039f\"], [0.2222222222222222, \"#7201a8\"], [0.3333333333333333, \"#9c179e\"], [0.4444444444444444, \"#bd3786\"], [0.5555555555555556, \"#d8576b\"], [0.6666666666666666, \"#ed7953\"], [0.7777777777777778, \"#fb9f3a\"], [0.8888888888888888, \"#fdca26\"], [1.0, \"#f0f921\"]], \"type\": \"histogram2d\"}], \"histogram2dcontour\": [{\"colorbar\": {\"outlinewidth\": 0, \"ticks\": \"\"}, \"colorscale\": [[0.0, \"#0d0887\"], [0.1111111111111111, \"#46039f\"], [0.2222222222222222, \"#7201a8\"], [0.3333333333333333, \"#9c179e\"], [0.4444444444444444, \"#bd3786\"], [0.5555555555555556, \"#d8576b\"], [0.6666666666666666, \"#ed7953\"], [0.7777777777777778, \"#fb9f3a\"], [0.8888888888888888, \"#fdca26\"], [1.0, \"#f0f921\"]], \"type\": \"histogram2dcontour\"}], \"mesh3d\": [{\"colorbar\": {\"outlinewidth\": 0, \"ticks\": \"\"}, \"type\": \"mesh3d\"}], \"parcoords\": [{\"line\": {\"colorbar\": {\"outlinewidth\": 0, \"ticks\": \"\"}}, \"type\": \"parcoords\"}], \"pie\": [{\"automargin\": true, \"type\": \"pie\"}], \"scatter\": [{\"marker\": {\"colorbar\": {\"outlinewidth\": 0, \"ticks\": \"\"}}, \"type\": \"scatter\"}], \"scatter3d\": [{\"line\": {\"colorbar\": {\"outlinewidth\": 0, \"ticks\": \"\"}}, \"marker\": {\"colorbar\": {\"outlinewidth\": 0, \"ticks\": \"\"}}, \"type\": \"scatter3d\"}], \"scattercarpet\": [{\"marker\": {\"colorbar\": {\"outlinewidth\": 0, \"ticks\": \"\"}}, \"type\": \"scattercarpet\"}], \"scattergeo\": [{\"marker\": {\"colorbar\": {\"outlinewidth\": 0, \"ticks\": \"\"}}, \"type\": \"scattergeo\"}], \"scattergl\": [{\"marker\": {\"colorbar\": {\"outlinewidth\": 0, \"ticks\": \"\"}}, \"type\": \"scattergl\"}], \"scattermapbox\": [{\"marker\": {\"colorbar\": {\"outlinewidth\": 0, \"ticks\": \"\"}}, \"type\": \"scattermapbox\"}], \"scatterpolar\": [{\"marker\": {\"colorbar\": {\"outlinewidth\": 0, \"ticks\": \"\"}}, \"type\": \"scatterpolar\"}], \"scatterpolargl\": [{\"marker\": {\"colorbar\": {\"outlinewidth\": 0, \"ticks\": \"\"}}, \"type\": \"scatterpolargl\"}], \"scatterternary\": [{\"marker\": {\"colorbar\": {\"outlinewidth\": 0, \"ticks\": \"\"}}, \"type\": \"scatterternary\"}], \"surface\": [{\"colorbar\": {\"outlinewidth\": 0, \"ticks\": \"\"}, \"colorscale\": [[0.0, \"#0d0887\"], [0.1111111111111111, \"#46039f\"], [0.2222222222222222, \"#7201a8\"], [0.3333333333333333, \"#9c179e\"], [0.4444444444444444, \"#bd3786\"], [0.5555555555555556, \"#d8576b\"], [0.6666666666666666, \"#ed7953\"], [0.7777777777777778, \"#fb9f3a\"], [0.8888888888888888, \"#fdca26\"], [1.0, \"#f0f921\"]], \"type\": \"surface\"}], \"table\": [{\"cells\": {\"fill\": {\"color\": \"#EBF0F8\"}, \"line\": {\"color\": \"white\"}}, \"header\": {\"fill\": {\"color\": \"#C8D4E3\"}, \"line\": {\"color\": \"white\"}}, \"type\": \"table\"}]}, \"layout\": {\"annotationdefaults\": {\"arrowcolor\": \"#2a3f5f\", \"arrowhead\": 0, \"arrowwidth\": 1}, \"coloraxis\": {\"colorbar\": {\"outlinewidth\": 0, \"ticks\": \"\"}}, \"colorscale\": {\"diverging\": [[0, \"#8e0152\"], [0.1, \"#c51b7d\"], [0.2, \"#de77ae\"], [0.3, \"#f1b6da\"], [0.4, \"#fde0ef\"], [0.5, \"#f7f7f7\"], [0.6, \"#e6f5d0\"], [0.7, \"#b8e186\"], [0.8, \"#7fbc41\"], [0.9, \"#4d9221\"], [1, \"#276419\"]], \"sequential\": [[0.0, \"#0d0887\"], [0.1111111111111111, \"#46039f\"], [0.2222222222222222, \"#7201a8\"], [0.3333333333333333, \"#9c179e\"], [0.4444444444444444, \"#bd3786\"], [0.5555555555555556, \"#d8576b\"], [0.6666666666666666, \"#ed7953\"], [0.7777777777777778, \"#fb9f3a\"], [0.8888888888888888, \"#fdca26\"], [1.0, \"#f0f921\"]], \"sequentialminus\": [[0.0, \"#0d0887\"], [0.1111111111111111, \"#46039f\"], [0.2222222222222222, \"#7201a8\"], [0.3333333333333333, \"#9c179e\"], [0.4444444444444444, \"#bd3786\"], [0.5555555555555556, \"#d8576b\"], [0.6666666666666666, \"#ed7953\"], [0.7777777777777778, \"#fb9f3a\"], [0.8888888888888888, \"#fdca26\"], [1.0, \"#f0f921\"]]}, \"colorway\": [\"#636efa\", \"#EF553B\", \"#00cc96\", \"#ab63fa\", \"#FFA15A\", \"#19d3f3\", \"#FF6692\", \"#B6E880\", \"#FF97FF\", \"#FECB52\"], \"font\": {\"color\": \"#2a3f5f\"}, \"geo\": {\"bgcolor\": \"white\", \"lakecolor\": \"white\", \"landcolor\": \"#E5ECF6\", \"showlakes\": true, \"showland\": true, \"subunitcolor\": \"white\"}, \"hoverlabel\": {\"align\": \"left\"}, \"hovermode\": \"closest\", \"mapbox\": {\"style\": \"light\"}, \"paper_bgcolor\": \"white\", \"plot_bgcolor\": \"#E5ECF6\", \"polar\": {\"angularaxis\": {\"gridcolor\": \"white\", \"linecolor\": \"white\", \"ticks\": \"\"}, \"bgcolor\": \"#E5ECF6\", \"radialaxis\": {\"gridcolor\": \"white\", \"linecolor\": \"white\", \"ticks\": \"\"}}, \"scene\": {\"xaxis\": {\"backgroundcolor\": \"#E5ECF6\", \"gridcolor\": \"white\", \"gridwidth\": 2, \"linecolor\": \"white\", \"showbackground\": true, \"ticks\": \"\", \"zerolinecolor\": \"white\"}, \"yaxis\": {\"backgroundcolor\": \"#E5ECF6\", \"gridcolor\": \"white\", \"gridwidth\": 2, \"linecolor\": \"white\", \"showbackground\": true, \"ticks\": \"\", \"zerolinecolor\": \"white\"}, \"zaxis\": {\"backgroundcolor\": \"#E5ECF6\", \"gridcolor\": \"white\", \"gridwidth\": 2, \"linecolor\": \"white\", \"showbackground\": true, \"ticks\": \"\", \"zerolinecolor\": \"white\"}}, \"shapedefaults\": {\"line\": {\"color\": \"#2a3f5f\"}}, \"ternary\": {\"aaxis\": {\"gridcolor\": \"white\", \"linecolor\": \"white\", \"ticks\": \"\"}, \"baxis\": {\"gridcolor\": \"white\", \"linecolor\": \"white\", \"ticks\": \"\"}, \"bgcolor\": \"#E5ECF6\", \"caxis\": {\"gridcolor\": \"white\", \"linecolor\": \"white\", \"ticks\": \"\"}}, \"title\": {\"x\": 0.05}, \"xaxis\": {\"automargin\": true, \"gridcolor\": \"white\", \"linecolor\": \"white\", \"ticks\": \"\", \"title\": {\"standoff\": 15}, \"zerolinecolor\": \"white\", \"zerolinewidth\": 2}, \"yaxis\": {\"automargin\": true, \"gridcolor\": \"white\", \"linecolor\": \"white\", \"ticks\": \"\", \"title\": {\"standoff\": 15}, \"zerolinecolor\": \"white\", \"zerolinewidth\": 2}}}, \"title\": {\"text\": \"Social Network - Centrality by Gender\"}, \"xaxis\": {\"gridcolor\": \"grey\", \"gridwidth\": 1, \"showgrid\": true, \"title\": {\"text\": \"Degree Centrality\"}}, \"yaxis\": {\"gridcolor\": \"grey\", \"gridwidth\": 1, \"showgrid\": true, \"title\": {\"text\": \"Eigenvector Centrality\"}}},\n",
       "                        {\"responsive\": true}\n",
       "                    ).then(function(){\n",
       "                            \n",
       "var gd = document.getElementById('1790c494-9fdc-40a0-ae2c-4ee83995fc6f');\n",
       "var x = new MutationObserver(function (mutations, observer) {{\n",
       "        var display = window.getComputedStyle(gd).display;\n",
       "        if (!display || display === 'none') {{\n",
       "            console.log([gd, 'removed!']);\n",
       "            Plotly.purge(gd);\n",
       "            observer.disconnect();\n",
       "        }}\n",
       "}});\n",
       "\n",
       "// Listen for the removal of the full notebook cells\n",
       "var notebookContainer = gd.closest('#notebook-container');\n",
       "if (notebookContainer) {{\n",
       "    x.observe(notebookContainer, {childList: true});\n",
       "}}\n",
       "\n",
       "// Listen for the clearing of the current output cell\n",
       "var outputEl = gd.closest('.output');\n",
       "if (outputEl) {{\n",
       "    x.observe(outputEl, {childList: true});\n",
       "}}\n",
       "\n",
       "                        })\n",
       "                };\n",
       "                });\n",
       "            </script>\n",
       "        </div>"
      ]
     },
     "metadata": {},
     "output_type": "display_data"
    }
   ],
   "source": [
    "fig = go.Figure()\n",
    "fig.add_trace(go.Scatter(\n",
    "    x=social_df[social_df['gender']==1]['deg_centrality'],\n",
    "    y=social_df[social_df['gender']==1]['eig_centrality'],\n",
    "    text=social_df[social_df['gender']==1]['id'],\n",
    "    hoverinfo='text',\n",
    "    mode='markers+text',\n",
    "    name='Male',\n",
    "    textfont_size=8,\n",
    "    textfont_color='black',\n",
    "    marker=dict(size=14, \n",
    "                color='lightsalmon',\n",
    "                symbol='circle')))\n",
    "\n",
    "fig.add_trace(go.Scatter(\n",
    "    x = social_df[social_df['gender']==2]['deg_centrality'],\n",
    "    y = social_df[social_df['gender']==2]['eig_centrality'],\n",
    "    text=social_df[social_df['gender']==2]['id'],\n",
    "    mode='markers+text',\n",
    "    name = 'Female',\n",
    "    textfont_size=8,\n",
    "    textfont_color='white',\n",
    "    marker=dict(size=14, \n",
    "                color='purple', \n",
    "                symbol='circle')))\n",
    "    \n",
    "\n",
    "fig.update_layout(go.Layout(\n",
    "    title='Social Network - Centrality by Gender',\n",
    "    xaxis=dict(\n",
    "        title='Degree Centrality'\n",
    "    ),\n",
    "    yaxis=dict(\n",
    "        title='Eigenvector Centrality'\n",
    "    ),\n",
    "    hovermode='closest',\n",
    "    plot_bgcolor='white',\n",
    "    paper_bgcolor='white',\n",
    "))\n",
    "fig.update_xaxes(showgrid=True, gridwidth=1, gridcolor='grey')\n",
    "fig.update_yaxes(showgrid=True, gridwidth=1, gridcolor='grey')"
   ]
  },
  {
   "cell_type": "markdown",
   "metadata": {},
   "source": [
    "Pearson's Correlation Coefficient between centrality types"
   ]
  },
  {
   "cell_type": "code",
   "execution_count": 10,
   "metadata": {
    "ExecuteTime": {
     "end_time": "2020-06-20T13:01:14.354446Z",
     "start_time": "2020-06-20T13:01:14.341393Z"
    }
   },
   "outputs": [
    {
     "name": "stdout",
     "output_type": "stream",
     "text": [
      "Correlation: 0.9353424836095827\n"
     ]
    }
   ],
   "source": [
    "print(\"Correlation:\", np.corrcoef(social_df[social_df['gender']==1]['deg_centrality'],\n",
    "                                  social_df[social_df['gender']==1]['eig_centrality'])[0][1])"
   ]
  },
  {
   "cell_type": "markdown",
   "metadata": {},
   "source": [
    "We see strong correlation between degree centrality and eigenvector centrality, meaning than influential nodes are generally connected to other influential nodes. The upper right quadrant features mostly influential male partners."
   ]
  },
  {
   "cell_type": "markdown",
   "metadata": {},
   "source": [
    "#### Get Mean and Variance for Social Network Eigenvector Centrality by Gender"
   ]
  },
  {
   "cell_type": "code",
   "execution_count": 11,
   "metadata": {
    "ExecuteTime": {
     "end_time": "2020-06-20T13:01:14.368979Z",
     "start_time": "2020-06-20T13:01:14.356266Z"
    }
   },
   "outputs": [
    {
     "name": "stdout",
     "output_type": "stream",
     "text": [
      "Social Network Eigenvector Centrality Statistics\n",
      "Male mean: 0.101\n",
      "Female mean: 0.079\n",
      "Male variance: 0.0052\n",
      "Female variance: 0.0042\n"
     ]
    }
   ],
   "source": [
    "print('Social Network Eigenvector Centrality Statistics')\n",
    "print('Male mean: {}'.format(round(np.mean(social_df[social_df['gender']==1]['eig_centrality']),3)))\n",
    "print('Female mean: {}'.format(round(np.mean(social_df[social_df['gender']==2]['eig_centrality']),3)))\n",
    "print('Male variance: {}'.format(round(np.var(social_df[social_df['gender']==1]['eig_centrality']),4)))\n",
    "print('Female variance: {}'.format(round(np.var(social_df[social_df['gender']==2]['eig_centrality']),4)))"
   ]
  },
  {
   "cell_type": "markdown",
   "metadata": {},
   "source": [
    "#### T-Test for Differences in Social Network Eigenvector Centrality - Gender  \n",
    "\n",
    "Test if there is a statistically significant difference between distribution of social network eigenvector centralities for males and females using an unpaired t-test. "
   ]
  },
  {
   "cell_type": "code",
   "execution_count": 12,
   "metadata": {
    "ExecuteTime": {
     "end_time": "2020-06-20T13:01:14.377768Z",
     "start_time": "2020-06-20T13:01:14.370639Z"
    }
   },
   "outputs": [
    {
     "name": "stdout",
     "output_type": "stream",
     "text": [
      "p-value for t-test comparing distributions of social eigenvector centralities for males and females: 0.251\n"
     ]
    }
   ],
   "source": [
    "social_ttest = stats.ttest_ind(social_df[social_df['gender']==1]['eig_centrality'],\n",
    "                               social_df[social_df['gender']==2]['eig_centrality'], \n",
    "                               equal_var = False)\n",
    "print('p-value for t-test comparing distributions of social eigenvector centralities for males and females: {}'.format(round(social_ttest[1],3)))"
   ]
  },
  {
   "cell_type": "markdown",
   "metadata": {},
   "source": [
    "There is a not statistically significant difference between mean social eigenvector centralities for males and females (p-value = 0.251). "
   ]
  },
  {
   "cell_type": "code",
   "execution_count": 13,
   "metadata": {
    "ExecuteTime": {
     "end_time": "2020-06-20T13:01:14.385620Z",
     "start_time": "2020-06-20T13:01:14.379628Z"
    }
   },
   "outputs": [
    {
     "name": "stdout",
     "output_type": "stream",
     "text": [
      "Number of Cliques: 154\n"
     ]
    }
   ],
   "source": [
    "print(\"Number of Cliques:\",len(list(nx.find_cliques(G_social))))"
   ]
  },
  {
   "cell_type": "markdown",
   "metadata": {},
   "source": [
    "### Look at Advice Network\n",
    "\n",
    "#### Build advice network graph"
   ]
  },
  {
   "cell_type": "code",
   "execution_count": 14,
   "metadata": {
    "ExecuteTime": {
     "end_time": "2020-06-20T13:01:14.397725Z",
     "start_time": "2020-06-20T13:01:14.387428Z"
    }
   },
   "outputs": [],
   "source": [
    "df_advice = df_rel[0:71].astype(int).reset_index(drop=True)\n",
    "\n",
    "G_advice=nx.from_pandas_adjacency(df_advice)\n",
    "for node in list(G_advice.nodes):\n",
    "    G_advice.nodes[node]['gender'] = gender_dict[node]\n",
    "    G_advice.nodes[node]['status'] = status_dict[node]"
   ]
  },
  {
   "cell_type": "markdown",
   "metadata": {},
   "source": [
    "#### Get centrality\n",
    "Degree centrality and eigenvector centrality is calculated for each node"
   ]
  },
  {
   "cell_type": "code",
   "execution_count": 15,
   "metadata": {
    "ExecuteTime": {
     "end_time": "2020-06-20T13:01:14.410077Z",
     "start_time": "2020-06-20T13:01:14.399559Z"
    }
   },
   "outputs": [],
   "source": [
    "advice_eig_centrality = nx.eigenvector_centrality(G_advice, max_iter=1000)\n",
    "advice_deg_centrality = nx.degree_centrality(G_advice)"
   ]
  },
  {
   "cell_type": "code",
   "execution_count": 16,
   "metadata": {
    "ExecuteTime": {
     "end_time": "2020-06-20T13:01:14.455895Z",
     "start_time": "2020-06-20T13:01:14.411864Z"
    }
   },
   "outputs": [
    {
     "name": "stdout",
     "output_type": "stream",
     "text": [
      "Eigenvector Centrality\n",
      "----------------------\n",
      "Gender 1\n",
      "    eig_centrality  deg_centrality    id  gender  status\n",
      "25        0.250567        0.657143  25.0       1       1\n",
      "12        0.221260        0.571429  12.0       1       1\n",
      "23        0.205530        0.514286  23.0       1       1\n",
      "40        0.179193        0.457143  40.0       1       2\n",
      "15        0.168747        0.485714  15.0       1       1\n",
      "\n",
      "\n",
      "Gender 2\n",
      "    eig_centrality  deg_centrality    id  gender  status\n",
      "26        0.158604        0.385714  26.0       2       1\n",
      "33        0.131540        0.371429  33.0       2       1\n",
      "38        0.126965        0.314286  38.0       2       2\n",
      "28        0.121107        0.300000  28.0       2       1\n",
      "37        0.117098        0.271429  37.0       2       2\n",
      "\n",
      "\n",
      "Status 1\n",
      "    eig_centrality  deg_centrality    id  gender  status\n",
      "25        0.250567        0.657143  25.0       1       1\n",
      "12        0.221260        0.571429  12.0       1       1\n",
      "23        0.205530        0.514286  23.0       1       1\n",
      "15        0.168747        0.485714  15.0       1       1\n",
      "16        0.166026        0.442857  16.0       1       1\n",
      "\n",
      "\n",
      "Status 2\n",
      "    eig_centrality  deg_centrality    id  gender  status\n",
      "40        0.179193        0.457143  40.0       1       2\n",
      "41        0.153617        0.371429  41.0       1       2\n",
      "54        0.151718        0.371429  54.0       1       2\n",
      "64        0.151073        0.400000  64.0       1       2\n",
      "39        0.150232        0.371429  39.0       1       2\n",
      "\n",
      "\n",
      "Degree Centrality - All\n",
      "----------------------\n",
      "    eig_centrality  deg_centrality    id  gender  status\n",
      "25        0.250567        0.657143  25.0       1       1\n",
      "12        0.221260        0.571429  12.0       1       1\n",
      "23        0.205530        0.514286  23.0       1       1\n",
      "15        0.168747        0.485714  15.0       1       1\n",
      "40        0.179193        0.457143  40.0       1       2\n",
      "\n",
      "\n"
     ]
    }
   ],
   "source": [
    "advice_df = pd.DataFrame(np.array([list(advice_eig_centrality.values()),\n",
    "                                   list(advice_deg_centrality.values()),\n",
    "                                   list(advice_deg_centrality.keys())]).T,\n",
    "                          columns = ['eig_centrality', 'deg_centrality','id'])\n",
    "\n",
    "advice_df['gender'] = advice_df['id'].map(gender_dict)\n",
    "advice_df['status'] = advice_df['id'].map(status_dict)\n",
    "\n",
    "print('Eigenvector Centrality')\n",
    "print('----------------------')\n",
    "for filter_ in ['gender','status']:\n",
    "    for value in [1,2]:\n",
    "        print(filter_.title(),value)\n",
    "        print(advice_df[advice_df[filter_]==value].sort_values(by=['eig_centrality',\n",
    "                                                             'deg_centrality'],\n",
    "                                                         ascending=False).head(5))\n",
    "        print('\\n')\n",
    "print('Degree Centrality - All')\n",
    "print('----------------------')\n",
    "print(advice_df.sort_values(by=['deg_centrality',\n",
    "                               'eig_centrality'],\n",
    "                            ascending=False).head(5))\n",
    "print('\\n')"
   ]
  },
  {
   "cell_type": "markdown",
   "metadata": {},
   "source": [
    "In the advice network, the top 5 males with the highest eigenvector centrality are 25, 12, 23, 40, and 15.  A few of these males were also in the top of the social network (25, 12, 23).  Four of these top 5 have status as a partner in the law firm.  The top 5 females with the highest eigenvector centrality are 26, 33, 38, 28, and 37.  Four of these were also in the top of the social network.  Again, the values for the top females are lower than those of the top 5 males.  \n",
    "\n",
    "Looking at degree centrality for all nodes, we see some familiar individuals.  The top 5 nodes are the exact same as the top 5 eigenvector centralities for males. It is also interesting to note that the male with id 40 is not a partner."
   ]
  },
  {
   "cell_type": "markdown",
   "metadata": {},
   "source": [
    "#### Visualize Advice Network\n",
    "The visualization of the advice network by gender is below.  Again, it appears the male nodes have higher degrees than the females.  Node 25, a male, has the highest degrees in the advice network.  Interestingly, node 30 that had the most degrees in the social network, is not very prominent in the advice network."
   ]
  },
  {
   "cell_type": "markdown",
   "metadata": {},
   "source": [
    "##### Advice Network - by Gender\n",
    "\n",
    "Orange is male, purple is female. Size indicates degree\n",
    "\n",
    "![title](graphics/advice_gender_a.png)"
   ]
  },
  {
   "cell_type": "markdown",
   "metadata": {},
   "source": [
    "The visualization of the advice network by status is below.  As we would expect, in general, partners appear to have higher degrees in the advice network than associates."
   ]
  },
  {
   "cell_type": "markdown",
   "metadata": {},
   "source": [
    "##### Advice Network - by Status\n",
    "\n",
    "Brown is partner, green is associate. Size indicates degree\n",
    "\n",
    "![title](graphics/advice_status_a.png)"
   ]
  },
  {
   "cell_type": "markdown",
   "metadata": {},
   "source": [
    "#### Scatter Plot of Advice Network Eigenvector Centrality by Gender "
   ]
  },
  {
   "cell_type": "code",
   "execution_count": 17,
   "metadata": {
    "ExecuteTime": {
     "end_time": "2020-06-20T13:01:14.504089Z",
     "start_time": "2020-06-20T13:01:14.457925Z"
    }
   },
   "outputs": [
    {
     "data": {
      "application/vnd.plotly.v1+json": {
       "config": {
        "plotlyServerURL": "https://plot.ly"
       },
       "data": [
        {
         "hoverinfo": "text",
         "marker": {
          "color": "lightsalmon",
          "size": 14,
          "symbol": "circle"
         },
         "mode": "markers+text",
         "name": "Male",
         "text": [
          0,
          1,
          2,
          3,
          4,
          5,
          6,
          7,
          8,
          9,
          10,
          11,
          12,
          13,
          14,
          15,
          16,
          17,
          18,
          19,
          20,
          21,
          22,
          23,
          24,
          25,
          27,
          29,
          30,
          31,
          32,
          34,
          35,
          36,
          39,
          40,
          41,
          44,
          46,
          48,
          49,
          51,
          52,
          53,
          54,
          55,
          57,
          61,
          62,
          64,
          65,
          67,
          69
         ],
         "textfont": {
          "color": "black",
          "size": 8
         },
         "type": "scatter",
         "x": [
          0.3142857142857143,
          0.34285714285714286,
          0.15714285714285714,
          0.3857142857142857,
          0.2857142857142857,
          0.3,
          0.12857142857142856,
          0.19999999999999998,
          0.21428571428571427,
          0.22857142857142856,
          0.2857142857142857,
          0.3857142857142857,
          0.5714285714285714,
          0.2571428571428571,
          0.32857142857142857,
          0.4857142857142857,
          0.44285714285714284,
          0.18571428571428572,
          0.44285714285714284,
          0.37142857142857144,
          0.34285714285714286,
          0.39999999999999997,
          0.24285714285714285,
          0.5142857142857142,
          0.19999999999999998,
          0.6571428571428571,
          0.44285714285714284,
          0.3857142857142857,
          0.35714285714285715,
          0.3,
          0.3142857142857143,
          0.32857142857142857,
          0.24285714285714285,
          0.09999999999999999,
          0.37142857142857144,
          0.45714285714285713,
          0.37142857142857144,
          0.22857142857142856,
          0.08571428571428572,
          0.22857142857142856,
          0.2571428571428571,
          0.32857142857142857,
          0.08571428571428572,
          0.2857142857142857,
          0.37142857142857144,
          0.35714285714285715,
          0.19999999999999998,
          0.17142857142857143,
          0.17142857142857143,
          0.39999999999999997,
          0.37142857142857144,
          0.19999999999999998,
          0.15714285714285714
         ],
         "y": [
          0.13230757501321874,
          0.12838474658936133,
          0.05554635263006244,
          0.15899248801458252,
          0.09595750855209036,
          0.11063893138850758,
          0.04382037028586804,
          0.08880914567347743,
          0.08706068398937356,
          0.08398658324600669,
          0.12061547934716052,
          0.1459228600903374,
          0.221259963328753,
          0.09137540368711952,
          0.1183446445041021,
          0.16874721662295095,
          0.16602599404074567,
          0.05335768247564629,
          0.16218702176507063,
          0.1537461081850197,
          0.14407572118730805,
          0.1555481763352859,
          0.0895703966868315,
          0.20552981015787283,
          0.06731944459568992,
          0.2505670781674528,
          0.15602673604076103,
          0.13239088050736966,
          0.13325606824156108,
          0.101564263417787,
          0.11024962421742719,
          0.1090421079670201,
          0.1007385985882212,
          0.03263579533338724,
          0.15023190769807704,
          0.1791926951015244,
          0.15361688215242064,
          0.07992610952761273,
          0.026553220600950864,
          0.09352801676199249,
          0.08589726750154159,
          0.1321817661906158,
          0.03515007251944281,
          0.1115312171487514,
          0.15171831530965715,
          0.14401456321924874,
          0.06631541464069333,
          0.05801756173915558,
          0.05329601657971884,
          0.15107299659744297,
          0.13944072210201136,
          0.08588352456473457,
          0.05728607783708768
         ]
        },
        {
         "marker": {
          "color": "purple",
          "size": 14,
          "symbol": "circle"
         },
         "mode": "markers+text",
         "name": "Female",
         "text": [
          26,
          28,
          33,
          37,
          38,
          42,
          43,
          45,
          47,
          50,
          56,
          58,
          59,
          60,
          63,
          66,
          68,
          70
         ],
         "textfont": {
          "color": "white",
          "size": 8
         },
         "type": "scatter",
         "x": [
          0.3857142857142857,
          0.3,
          0.37142857142857144,
          0.2714285714285714,
          0.3142857142857143,
          0.2714285714285714,
          0.08571428571428572,
          0.17142857142857143,
          0.2571428571428571,
          0.32857142857142857,
          0.2571428571428571,
          0.12857142857142856,
          0.19999999999999998,
          0.04285714285714286,
          0.24285714285714285,
          0.24285714285714285,
          0.17142857142857143,
          0.19999999999999998
         ],
         "y": [
          0.15860449713981897,
          0.12110676392445066,
          0.13153959683794422,
          0.11709795713693402,
          0.1269651952653824,
          0.11599578831558917,
          0.03363446760055018,
          0.06151868365063731,
          0.09664446214045591,
          0.11171074262344295,
          0.10428362021580087,
          0.0386313844335601,
          0.06871185982916252,
          0.011999998567486403,
          0.08411020611118897,
          0.08814249097723786,
          0.05580891447234574,
          0.07596207954645508
         ]
        }
       ],
       "layout": {
        "hovermode": "closest",
        "paper_bgcolor": "white",
        "plot_bgcolor": "white",
        "template": {
         "data": {
          "bar": [
           {
            "error_x": {
             "color": "#2a3f5f"
            },
            "error_y": {
             "color": "#2a3f5f"
            },
            "marker": {
             "line": {
              "color": "#E5ECF6",
              "width": 0.5
             }
            },
            "type": "bar"
           }
          ],
          "barpolar": [
           {
            "marker": {
             "line": {
              "color": "#E5ECF6",
              "width": 0.5
             }
            },
            "type": "barpolar"
           }
          ],
          "carpet": [
           {
            "aaxis": {
             "endlinecolor": "#2a3f5f",
             "gridcolor": "white",
             "linecolor": "white",
             "minorgridcolor": "white",
             "startlinecolor": "#2a3f5f"
            },
            "baxis": {
             "endlinecolor": "#2a3f5f",
             "gridcolor": "white",
             "linecolor": "white",
             "minorgridcolor": "white",
             "startlinecolor": "#2a3f5f"
            },
            "type": "carpet"
           }
          ],
          "choropleth": [
           {
            "colorbar": {
             "outlinewidth": 0,
             "ticks": ""
            },
            "type": "choropleth"
           }
          ],
          "contour": [
           {
            "colorbar": {
             "outlinewidth": 0,
             "ticks": ""
            },
            "colorscale": [
             [
              0,
              "#0d0887"
             ],
             [
              0.1111111111111111,
              "#46039f"
             ],
             [
              0.2222222222222222,
              "#7201a8"
             ],
             [
              0.3333333333333333,
              "#9c179e"
             ],
             [
              0.4444444444444444,
              "#bd3786"
             ],
             [
              0.5555555555555556,
              "#d8576b"
             ],
             [
              0.6666666666666666,
              "#ed7953"
             ],
             [
              0.7777777777777778,
              "#fb9f3a"
             ],
             [
              0.8888888888888888,
              "#fdca26"
             ],
             [
              1,
              "#f0f921"
             ]
            ],
            "type": "contour"
           }
          ],
          "contourcarpet": [
           {
            "colorbar": {
             "outlinewidth": 0,
             "ticks": ""
            },
            "type": "contourcarpet"
           }
          ],
          "heatmap": [
           {
            "colorbar": {
             "outlinewidth": 0,
             "ticks": ""
            },
            "colorscale": [
             [
              0,
              "#0d0887"
             ],
             [
              0.1111111111111111,
              "#46039f"
             ],
             [
              0.2222222222222222,
              "#7201a8"
             ],
             [
              0.3333333333333333,
              "#9c179e"
             ],
             [
              0.4444444444444444,
              "#bd3786"
             ],
             [
              0.5555555555555556,
              "#d8576b"
             ],
             [
              0.6666666666666666,
              "#ed7953"
             ],
             [
              0.7777777777777778,
              "#fb9f3a"
             ],
             [
              0.8888888888888888,
              "#fdca26"
             ],
             [
              1,
              "#f0f921"
             ]
            ],
            "type": "heatmap"
           }
          ],
          "heatmapgl": [
           {
            "colorbar": {
             "outlinewidth": 0,
             "ticks": ""
            },
            "colorscale": [
             [
              0,
              "#0d0887"
             ],
             [
              0.1111111111111111,
              "#46039f"
             ],
             [
              0.2222222222222222,
              "#7201a8"
             ],
             [
              0.3333333333333333,
              "#9c179e"
             ],
             [
              0.4444444444444444,
              "#bd3786"
             ],
             [
              0.5555555555555556,
              "#d8576b"
             ],
             [
              0.6666666666666666,
              "#ed7953"
             ],
             [
              0.7777777777777778,
              "#fb9f3a"
             ],
             [
              0.8888888888888888,
              "#fdca26"
             ],
             [
              1,
              "#f0f921"
             ]
            ],
            "type": "heatmapgl"
           }
          ],
          "histogram": [
           {
            "marker": {
             "colorbar": {
              "outlinewidth": 0,
              "ticks": ""
             }
            },
            "type": "histogram"
           }
          ],
          "histogram2d": [
           {
            "colorbar": {
             "outlinewidth": 0,
             "ticks": ""
            },
            "colorscale": [
             [
              0,
              "#0d0887"
             ],
             [
              0.1111111111111111,
              "#46039f"
             ],
             [
              0.2222222222222222,
              "#7201a8"
             ],
             [
              0.3333333333333333,
              "#9c179e"
             ],
             [
              0.4444444444444444,
              "#bd3786"
             ],
             [
              0.5555555555555556,
              "#d8576b"
             ],
             [
              0.6666666666666666,
              "#ed7953"
             ],
             [
              0.7777777777777778,
              "#fb9f3a"
             ],
             [
              0.8888888888888888,
              "#fdca26"
             ],
             [
              1,
              "#f0f921"
             ]
            ],
            "type": "histogram2d"
           }
          ],
          "histogram2dcontour": [
           {
            "colorbar": {
             "outlinewidth": 0,
             "ticks": ""
            },
            "colorscale": [
             [
              0,
              "#0d0887"
             ],
             [
              0.1111111111111111,
              "#46039f"
             ],
             [
              0.2222222222222222,
              "#7201a8"
             ],
             [
              0.3333333333333333,
              "#9c179e"
             ],
             [
              0.4444444444444444,
              "#bd3786"
             ],
             [
              0.5555555555555556,
              "#d8576b"
             ],
             [
              0.6666666666666666,
              "#ed7953"
             ],
             [
              0.7777777777777778,
              "#fb9f3a"
             ],
             [
              0.8888888888888888,
              "#fdca26"
             ],
             [
              1,
              "#f0f921"
             ]
            ],
            "type": "histogram2dcontour"
           }
          ],
          "mesh3d": [
           {
            "colorbar": {
             "outlinewidth": 0,
             "ticks": ""
            },
            "type": "mesh3d"
           }
          ],
          "parcoords": [
           {
            "line": {
             "colorbar": {
              "outlinewidth": 0,
              "ticks": ""
             }
            },
            "type": "parcoords"
           }
          ],
          "pie": [
           {
            "automargin": true,
            "type": "pie"
           }
          ],
          "scatter": [
           {
            "marker": {
             "colorbar": {
              "outlinewidth": 0,
              "ticks": ""
             }
            },
            "type": "scatter"
           }
          ],
          "scatter3d": [
           {
            "line": {
             "colorbar": {
              "outlinewidth": 0,
              "ticks": ""
             }
            },
            "marker": {
             "colorbar": {
              "outlinewidth": 0,
              "ticks": ""
             }
            },
            "type": "scatter3d"
           }
          ],
          "scattercarpet": [
           {
            "marker": {
             "colorbar": {
              "outlinewidth": 0,
              "ticks": ""
             }
            },
            "type": "scattercarpet"
           }
          ],
          "scattergeo": [
           {
            "marker": {
             "colorbar": {
              "outlinewidth": 0,
              "ticks": ""
             }
            },
            "type": "scattergeo"
           }
          ],
          "scattergl": [
           {
            "marker": {
             "colorbar": {
              "outlinewidth": 0,
              "ticks": ""
             }
            },
            "type": "scattergl"
           }
          ],
          "scattermapbox": [
           {
            "marker": {
             "colorbar": {
              "outlinewidth": 0,
              "ticks": ""
             }
            },
            "type": "scattermapbox"
           }
          ],
          "scatterpolar": [
           {
            "marker": {
             "colorbar": {
              "outlinewidth": 0,
              "ticks": ""
             }
            },
            "type": "scatterpolar"
           }
          ],
          "scatterpolargl": [
           {
            "marker": {
             "colorbar": {
              "outlinewidth": 0,
              "ticks": ""
             }
            },
            "type": "scatterpolargl"
           }
          ],
          "scatterternary": [
           {
            "marker": {
             "colorbar": {
              "outlinewidth": 0,
              "ticks": ""
             }
            },
            "type": "scatterternary"
           }
          ],
          "surface": [
           {
            "colorbar": {
             "outlinewidth": 0,
             "ticks": ""
            },
            "colorscale": [
             [
              0,
              "#0d0887"
             ],
             [
              0.1111111111111111,
              "#46039f"
             ],
             [
              0.2222222222222222,
              "#7201a8"
             ],
             [
              0.3333333333333333,
              "#9c179e"
             ],
             [
              0.4444444444444444,
              "#bd3786"
             ],
             [
              0.5555555555555556,
              "#d8576b"
             ],
             [
              0.6666666666666666,
              "#ed7953"
             ],
             [
              0.7777777777777778,
              "#fb9f3a"
             ],
             [
              0.8888888888888888,
              "#fdca26"
             ],
             [
              1,
              "#f0f921"
             ]
            ],
            "type": "surface"
           }
          ],
          "table": [
           {
            "cells": {
             "fill": {
              "color": "#EBF0F8"
             },
             "line": {
              "color": "white"
             }
            },
            "header": {
             "fill": {
              "color": "#C8D4E3"
             },
             "line": {
              "color": "white"
             }
            },
            "type": "table"
           }
          ]
         },
         "layout": {
          "annotationdefaults": {
           "arrowcolor": "#2a3f5f",
           "arrowhead": 0,
           "arrowwidth": 1
          },
          "coloraxis": {
           "colorbar": {
            "outlinewidth": 0,
            "ticks": ""
           }
          },
          "colorscale": {
           "diverging": [
            [
             0,
             "#8e0152"
            ],
            [
             0.1,
             "#c51b7d"
            ],
            [
             0.2,
             "#de77ae"
            ],
            [
             0.3,
             "#f1b6da"
            ],
            [
             0.4,
             "#fde0ef"
            ],
            [
             0.5,
             "#f7f7f7"
            ],
            [
             0.6,
             "#e6f5d0"
            ],
            [
             0.7,
             "#b8e186"
            ],
            [
             0.8,
             "#7fbc41"
            ],
            [
             0.9,
             "#4d9221"
            ],
            [
             1,
             "#276419"
            ]
           ],
           "sequential": [
            [
             0,
             "#0d0887"
            ],
            [
             0.1111111111111111,
             "#46039f"
            ],
            [
             0.2222222222222222,
             "#7201a8"
            ],
            [
             0.3333333333333333,
             "#9c179e"
            ],
            [
             0.4444444444444444,
             "#bd3786"
            ],
            [
             0.5555555555555556,
             "#d8576b"
            ],
            [
             0.6666666666666666,
             "#ed7953"
            ],
            [
             0.7777777777777778,
             "#fb9f3a"
            ],
            [
             0.8888888888888888,
             "#fdca26"
            ],
            [
             1,
             "#f0f921"
            ]
           ],
           "sequentialminus": [
            [
             0,
             "#0d0887"
            ],
            [
             0.1111111111111111,
             "#46039f"
            ],
            [
             0.2222222222222222,
             "#7201a8"
            ],
            [
             0.3333333333333333,
             "#9c179e"
            ],
            [
             0.4444444444444444,
             "#bd3786"
            ],
            [
             0.5555555555555556,
             "#d8576b"
            ],
            [
             0.6666666666666666,
             "#ed7953"
            ],
            [
             0.7777777777777778,
             "#fb9f3a"
            ],
            [
             0.8888888888888888,
             "#fdca26"
            ],
            [
             1,
             "#f0f921"
            ]
           ]
          },
          "colorway": [
           "#636efa",
           "#EF553B",
           "#00cc96",
           "#ab63fa",
           "#FFA15A",
           "#19d3f3",
           "#FF6692",
           "#B6E880",
           "#FF97FF",
           "#FECB52"
          ],
          "font": {
           "color": "#2a3f5f"
          },
          "geo": {
           "bgcolor": "white",
           "lakecolor": "white",
           "landcolor": "#E5ECF6",
           "showlakes": true,
           "showland": true,
           "subunitcolor": "white"
          },
          "hoverlabel": {
           "align": "left"
          },
          "hovermode": "closest",
          "mapbox": {
           "style": "light"
          },
          "paper_bgcolor": "white",
          "plot_bgcolor": "#E5ECF6",
          "polar": {
           "angularaxis": {
            "gridcolor": "white",
            "linecolor": "white",
            "ticks": ""
           },
           "bgcolor": "#E5ECF6",
           "radialaxis": {
            "gridcolor": "white",
            "linecolor": "white",
            "ticks": ""
           }
          },
          "scene": {
           "xaxis": {
            "backgroundcolor": "#E5ECF6",
            "gridcolor": "white",
            "gridwidth": 2,
            "linecolor": "white",
            "showbackground": true,
            "ticks": "",
            "zerolinecolor": "white"
           },
           "yaxis": {
            "backgroundcolor": "#E5ECF6",
            "gridcolor": "white",
            "gridwidth": 2,
            "linecolor": "white",
            "showbackground": true,
            "ticks": "",
            "zerolinecolor": "white"
           },
           "zaxis": {
            "backgroundcolor": "#E5ECF6",
            "gridcolor": "white",
            "gridwidth": 2,
            "linecolor": "white",
            "showbackground": true,
            "ticks": "",
            "zerolinecolor": "white"
           }
          },
          "shapedefaults": {
           "line": {
            "color": "#2a3f5f"
           }
          },
          "ternary": {
           "aaxis": {
            "gridcolor": "white",
            "linecolor": "white",
            "ticks": ""
           },
           "baxis": {
            "gridcolor": "white",
            "linecolor": "white",
            "ticks": ""
           },
           "bgcolor": "#E5ECF6",
           "caxis": {
            "gridcolor": "white",
            "linecolor": "white",
            "ticks": ""
           }
          },
          "title": {
           "x": 0.05
          },
          "xaxis": {
           "automargin": true,
           "gridcolor": "white",
           "linecolor": "white",
           "ticks": "",
           "title": {
            "standoff": 15
           },
           "zerolinecolor": "white",
           "zerolinewidth": 2
          },
          "yaxis": {
           "automargin": true,
           "gridcolor": "white",
           "linecolor": "white",
           "ticks": "",
           "title": {
            "standoff": 15
           },
           "zerolinecolor": "white",
           "zerolinewidth": 2
          }
         }
        },
        "title": {
         "text": "Advice Network - Centrality by Gender"
        },
        "xaxis": {
         "gridcolor": "grey",
         "gridwidth": 1,
         "showgrid": true,
         "title": {
          "text": "Degree Centrality"
         }
        },
        "yaxis": {
         "gridcolor": "grey",
         "gridwidth": 1,
         "showgrid": true,
         "title": {
          "text": "Eigenvector Centrality"
         }
        }
       }
      },
      "text/html": [
       "<div>\n",
       "        \n",
       "        \n",
       "            <div id=\"670197fa-53c4-432b-8448-fb0de977aec2\" class=\"plotly-graph-div\" style=\"height:525px; width:100%;\"></div>\n",
       "            <script type=\"text/javascript\">\n",
       "                require([\"plotly\"], function(Plotly) {\n",
       "                    window.PLOTLYENV=window.PLOTLYENV || {};\n",
       "                    \n",
       "                if (document.getElementById(\"670197fa-53c4-432b-8448-fb0de977aec2\")) {\n",
       "                    Plotly.newPlot(\n",
       "                        '670197fa-53c4-432b-8448-fb0de977aec2',\n",
       "                        [{\"hoverinfo\": \"text\", \"marker\": {\"color\": \"lightsalmon\", \"size\": 14, \"symbol\": \"circle\"}, \"mode\": \"markers+text\", \"name\": \"Male\", \"text\": [0.0, 1.0, 2.0, 3.0, 4.0, 5.0, 6.0, 7.0, 8.0, 9.0, 10.0, 11.0, 12.0, 13.0, 14.0, 15.0, 16.0, 17.0, 18.0, 19.0, 20.0, 21.0, 22.0, 23.0, 24.0, 25.0, 27.0, 29.0, 30.0, 31.0, 32.0, 34.0, 35.0, 36.0, 39.0, 40.0, 41.0, 44.0, 46.0, 48.0, 49.0, 51.0, 52.0, 53.0, 54.0, 55.0, 57.0, 61.0, 62.0, 64.0, 65.0, 67.0, 69.0], \"textfont\": {\"color\": \"black\", \"size\": 8}, \"type\": \"scatter\", \"x\": [0.3142857142857143, 0.34285714285714286, 0.15714285714285714, 0.3857142857142857, 0.2857142857142857, 0.3, 0.12857142857142856, 0.19999999999999998, 0.21428571428571427, 0.22857142857142856, 0.2857142857142857, 0.3857142857142857, 0.5714285714285714, 0.2571428571428571, 0.32857142857142857, 0.4857142857142857, 0.44285714285714284, 0.18571428571428572, 0.44285714285714284, 0.37142857142857144, 0.34285714285714286, 0.39999999999999997, 0.24285714285714285, 0.5142857142857142, 0.19999999999999998, 0.6571428571428571, 0.44285714285714284, 0.3857142857142857, 0.35714285714285715, 0.3, 0.3142857142857143, 0.32857142857142857, 0.24285714285714285, 0.09999999999999999, 0.37142857142857144, 0.45714285714285713, 0.37142857142857144, 0.22857142857142856, 0.08571428571428572, 0.22857142857142856, 0.2571428571428571, 0.32857142857142857, 0.08571428571428572, 0.2857142857142857, 0.37142857142857144, 0.35714285714285715, 0.19999999999999998, 0.17142857142857143, 0.17142857142857143, 0.39999999999999997, 0.37142857142857144, 0.19999999999999998, 0.15714285714285714], \"y\": [0.13230757501321874, 0.12838474658936133, 0.05554635263006244, 0.15899248801458252, 0.09595750855209036, 0.11063893138850758, 0.04382037028586804, 0.08880914567347743, 0.08706068398937356, 0.08398658324600669, 0.12061547934716052, 0.1459228600903374, 0.221259963328753, 0.09137540368711952, 0.1183446445041021, 0.16874721662295095, 0.16602599404074567, 0.05335768247564629, 0.16218702176507063, 0.1537461081850197, 0.14407572118730805, 0.1555481763352859, 0.0895703966868315, 0.20552981015787283, 0.06731944459568992, 0.2505670781674528, 0.15602673604076103, 0.13239088050736966, 0.13325606824156108, 0.101564263417787, 0.11024962421742719, 0.1090421079670201, 0.1007385985882212, 0.03263579533338724, 0.15023190769807704, 0.1791926951015244, 0.15361688215242064, 0.07992610952761273, 0.026553220600950864, 0.09352801676199249, 0.08589726750154159, 0.1321817661906158, 0.03515007251944281, 0.1115312171487514, 0.15171831530965715, 0.14401456321924874, 0.06631541464069333, 0.05801756173915558, 0.05329601657971884, 0.15107299659744297, 0.13944072210201136, 0.08588352456473457, 0.05728607783708768]}, {\"marker\": {\"color\": \"purple\", \"size\": 14, \"symbol\": \"circle\"}, \"mode\": \"markers+text\", \"name\": \"Female\", \"text\": [26.0, 28.0, 33.0, 37.0, 38.0, 42.0, 43.0, 45.0, 47.0, 50.0, 56.0, 58.0, 59.0, 60.0, 63.0, 66.0, 68.0, 70.0], \"textfont\": {\"color\": \"white\", \"size\": 8}, \"type\": \"scatter\", \"x\": [0.3857142857142857, 0.3, 0.37142857142857144, 0.2714285714285714, 0.3142857142857143, 0.2714285714285714, 0.08571428571428572, 0.17142857142857143, 0.2571428571428571, 0.32857142857142857, 0.2571428571428571, 0.12857142857142856, 0.19999999999999998, 0.04285714285714286, 0.24285714285714285, 0.24285714285714285, 0.17142857142857143, 0.19999999999999998], \"y\": [0.15860449713981897, 0.12110676392445066, 0.13153959683794422, 0.11709795713693402, 0.1269651952653824, 0.11599578831558917, 0.03363446760055018, 0.06151868365063731, 0.09664446214045591, 0.11171074262344295, 0.10428362021580087, 0.0386313844335601, 0.06871185982916252, 0.011999998567486403, 0.08411020611118897, 0.08814249097723786, 0.05580891447234574, 0.07596207954645508]}],\n",
       "                        {\"hovermode\": \"closest\", \"paper_bgcolor\": \"white\", \"plot_bgcolor\": \"white\", \"template\": {\"data\": {\"bar\": [{\"error_x\": {\"color\": \"#2a3f5f\"}, \"error_y\": {\"color\": \"#2a3f5f\"}, \"marker\": {\"line\": {\"color\": \"#E5ECF6\", \"width\": 0.5}}, \"type\": \"bar\"}], \"barpolar\": [{\"marker\": {\"line\": {\"color\": \"#E5ECF6\", \"width\": 0.5}}, \"type\": \"barpolar\"}], \"carpet\": [{\"aaxis\": {\"endlinecolor\": \"#2a3f5f\", \"gridcolor\": \"white\", \"linecolor\": \"white\", \"minorgridcolor\": \"white\", \"startlinecolor\": \"#2a3f5f\"}, \"baxis\": {\"endlinecolor\": \"#2a3f5f\", \"gridcolor\": \"white\", \"linecolor\": \"white\", \"minorgridcolor\": \"white\", \"startlinecolor\": \"#2a3f5f\"}, \"type\": \"carpet\"}], \"choropleth\": [{\"colorbar\": {\"outlinewidth\": 0, \"ticks\": \"\"}, \"type\": \"choropleth\"}], \"contour\": [{\"colorbar\": {\"outlinewidth\": 0, \"ticks\": \"\"}, \"colorscale\": [[0.0, \"#0d0887\"], [0.1111111111111111, \"#46039f\"], [0.2222222222222222, \"#7201a8\"], [0.3333333333333333, \"#9c179e\"], [0.4444444444444444, \"#bd3786\"], [0.5555555555555556, \"#d8576b\"], [0.6666666666666666, \"#ed7953\"], [0.7777777777777778, \"#fb9f3a\"], [0.8888888888888888, \"#fdca26\"], [1.0, \"#f0f921\"]], \"type\": \"contour\"}], \"contourcarpet\": [{\"colorbar\": {\"outlinewidth\": 0, \"ticks\": \"\"}, \"type\": \"contourcarpet\"}], \"heatmap\": [{\"colorbar\": {\"outlinewidth\": 0, \"ticks\": \"\"}, \"colorscale\": [[0.0, \"#0d0887\"], [0.1111111111111111, \"#46039f\"], [0.2222222222222222, \"#7201a8\"], [0.3333333333333333, \"#9c179e\"], [0.4444444444444444, \"#bd3786\"], [0.5555555555555556, \"#d8576b\"], [0.6666666666666666, \"#ed7953\"], [0.7777777777777778, \"#fb9f3a\"], [0.8888888888888888, \"#fdca26\"], [1.0, \"#f0f921\"]], \"type\": \"heatmap\"}], \"heatmapgl\": [{\"colorbar\": {\"outlinewidth\": 0, \"ticks\": \"\"}, \"colorscale\": [[0.0, \"#0d0887\"], [0.1111111111111111, \"#46039f\"], [0.2222222222222222, \"#7201a8\"], [0.3333333333333333, \"#9c179e\"], [0.4444444444444444, \"#bd3786\"], [0.5555555555555556, \"#d8576b\"], [0.6666666666666666, \"#ed7953\"], [0.7777777777777778, \"#fb9f3a\"], [0.8888888888888888, \"#fdca26\"], [1.0, \"#f0f921\"]], \"type\": \"heatmapgl\"}], \"histogram\": [{\"marker\": {\"colorbar\": {\"outlinewidth\": 0, \"ticks\": \"\"}}, \"type\": \"histogram\"}], \"histogram2d\": [{\"colorbar\": {\"outlinewidth\": 0, \"ticks\": \"\"}, \"colorscale\": [[0.0, \"#0d0887\"], [0.1111111111111111, \"#46039f\"], [0.2222222222222222, \"#7201a8\"], [0.3333333333333333, \"#9c179e\"], [0.4444444444444444, \"#bd3786\"], [0.5555555555555556, \"#d8576b\"], [0.6666666666666666, \"#ed7953\"], [0.7777777777777778, \"#fb9f3a\"], [0.8888888888888888, \"#fdca26\"], [1.0, \"#f0f921\"]], \"type\": \"histogram2d\"}], \"histogram2dcontour\": [{\"colorbar\": {\"outlinewidth\": 0, \"ticks\": \"\"}, \"colorscale\": [[0.0, \"#0d0887\"], [0.1111111111111111, \"#46039f\"], [0.2222222222222222, \"#7201a8\"], [0.3333333333333333, \"#9c179e\"], [0.4444444444444444, \"#bd3786\"], [0.5555555555555556, \"#d8576b\"], [0.6666666666666666, \"#ed7953\"], [0.7777777777777778, \"#fb9f3a\"], [0.8888888888888888, \"#fdca26\"], [1.0, \"#f0f921\"]], \"type\": \"histogram2dcontour\"}], \"mesh3d\": [{\"colorbar\": {\"outlinewidth\": 0, \"ticks\": \"\"}, \"type\": \"mesh3d\"}], \"parcoords\": [{\"line\": {\"colorbar\": {\"outlinewidth\": 0, \"ticks\": \"\"}}, \"type\": \"parcoords\"}], \"pie\": [{\"automargin\": true, \"type\": \"pie\"}], \"scatter\": [{\"marker\": {\"colorbar\": {\"outlinewidth\": 0, \"ticks\": \"\"}}, \"type\": \"scatter\"}], \"scatter3d\": [{\"line\": {\"colorbar\": {\"outlinewidth\": 0, \"ticks\": \"\"}}, \"marker\": {\"colorbar\": {\"outlinewidth\": 0, \"ticks\": \"\"}}, \"type\": \"scatter3d\"}], \"scattercarpet\": [{\"marker\": {\"colorbar\": {\"outlinewidth\": 0, \"ticks\": \"\"}}, \"type\": \"scattercarpet\"}], \"scattergeo\": [{\"marker\": {\"colorbar\": {\"outlinewidth\": 0, \"ticks\": \"\"}}, \"type\": \"scattergeo\"}], \"scattergl\": [{\"marker\": {\"colorbar\": {\"outlinewidth\": 0, \"ticks\": \"\"}}, \"type\": \"scattergl\"}], \"scattermapbox\": [{\"marker\": {\"colorbar\": {\"outlinewidth\": 0, \"ticks\": \"\"}}, \"type\": \"scattermapbox\"}], \"scatterpolar\": [{\"marker\": {\"colorbar\": {\"outlinewidth\": 0, \"ticks\": \"\"}}, \"type\": \"scatterpolar\"}], \"scatterpolargl\": [{\"marker\": {\"colorbar\": {\"outlinewidth\": 0, \"ticks\": \"\"}}, \"type\": \"scatterpolargl\"}], \"scatterternary\": [{\"marker\": {\"colorbar\": {\"outlinewidth\": 0, \"ticks\": \"\"}}, \"type\": \"scatterternary\"}], \"surface\": [{\"colorbar\": {\"outlinewidth\": 0, \"ticks\": \"\"}, \"colorscale\": [[0.0, \"#0d0887\"], [0.1111111111111111, \"#46039f\"], [0.2222222222222222, \"#7201a8\"], [0.3333333333333333, \"#9c179e\"], [0.4444444444444444, \"#bd3786\"], [0.5555555555555556, \"#d8576b\"], [0.6666666666666666, \"#ed7953\"], [0.7777777777777778, \"#fb9f3a\"], [0.8888888888888888, \"#fdca26\"], [1.0, \"#f0f921\"]], \"type\": \"surface\"}], \"table\": [{\"cells\": {\"fill\": {\"color\": \"#EBF0F8\"}, \"line\": {\"color\": \"white\"}}, \"header\": {\"fill\": {\"color\": \"#C8D4E3\"}, \"line\": {\"color\": \"white\"}}, \"type\": \"table\"}]}, \"layout\": {\"annotationdefaults\": {\"arrowcolor\": \"#2a3f5f\", \"arrowhead\": 0, \"arrowwidth\": 1}, \"coloraxis\": {\"colorbar\": {\"outlinewidth\": 0, \"ticks\": \"\"}}, \"colorscale\": {\"diverging\": [[0, \"#8e0152\"], [0.1, \"#c51b7d\"], [0.2, \"#de77ae\"], [0.3, \"#f1b6da\"], [0.4, \"#fde0ef\"], [0.5, \"#f7f7f7\"], [0.6, \"#e6f5d0\"], [0.7, \"#b8e186\"], [0.8, \"#7fbc41\"], [0.9, \"#4d9221\"], [1, \"#276419\"]], \"sequential\": [[0.0, \"#0d0887\"], [0.1111111111111111, \"#46039f\"], [0.2222222222222222, \"#7201a8\"], [0.3333333333333333, \"#9c179e\"], [0.4444444444444444, \"#bd3786\"], [0.5555555555555556, \"#d8576b\"], [0.6666666666666666, \"#ed7953\"], [0.7777777777777778, \"#fb9f3a\"], [0.8888888888888888, \"#fdca26\"], [1.0, \"#f0f921\"]], \"sequentialminus\": [[0.0, \"#0d0887\"], [0.1111111111111111, \"#46039f\"], [0.2222222222222222, \"#7201a8\"], [0.3333333333333333, \"#9c179e\"], [0.4444444444444444, \"#bd3786\"], [0.5555555555555556, \"#d8576b\"], [0.6666666666666666, \"#ed7953\"], [0.7777777777777778, \"#fb9f3a\"], [0.8888888888888888, \"#fdca26\"], [1.0, \"#f0f921\"]]}, \"colorway\": [\"#636efa\", \"#EF553B\", \"#00cc96\", \"#ab63fa\", \"#FFA15A\", \"#19d3f3\", \"#FF6692\", \"#B6E880\", \"#FF97FF\", \"#FECB52\"], \"font\": {\"color\": \"#2a3f5f\"}, \"geo\": {\"bgcolor\": \"white\", \"lakecolor\": \"white\", \"landcolor\": \"#E5ECF6\", \"showlakes\": true, \"showland\": true, \"subunitcolor\": \"white\"}, \"hoverlabel\": {\"align\": \"left\"}, \"hovermode\": \"closest\", \"mapbox\": {\"style\": \"light\"}, \"paper_bgcolor\": \"white\", \"plot_bgcolor\": \"#E5ECF6\", \"polar\": {\"angularaxis\": {\"gridcolor\": \"white\", \"linecolor\": \"white\", \"ticks\": \"\"}, \"bgcolor\": \"#E5ECF6\", \"radialaxis\": {\"gridcolor\": \"white\", \"linecolor\": \"white\", \"ticks\": \"\"}}, \"scene\": {\"xaxis\": {\"backgroundcolor\": \"#E5ECF6\", \"gridcolor\": \"white\", \"gridwidth\": 2, \"linecolor\": \"white\", \"showbackground\": true, \"ticks\": \"\", \"zerolinecolor\": \"white\"}, \"yaxis\": {\"backgroundcolor\": \"#E5ECF6\", \"gridcolor\": \"white\", \"gridwidth\": 2, \"linecolor\": \"white\", \"showbackground\": true, \"ticks\": \"\", \"zerolinecolor\": \"white\"}, \"zaxis\": {\"backgroundcolor\": \"#E5ECF6\", \"gridcolor\": \"white\", \"gridwidth\": 2, \"linecolor\": \"white\", \"showbackground\": true, \"ticks\": \"\", \"zerolinecolor\": \"white\"}}, \"shapedefaults\": {\"line\": {\"color\": \"#2a3f5f\"}}, \"ternary\": {\"aaxis\": {\"gridcolor\": \"white\", \"linecolor\": \"white\", \"ticks\": \"\"}, \"baxis\": {\"gridcolor\": \"white\", \"linecolor\": \"white\", \"ticks\": \"\"}, \"bgcolor\": \"#E5ECF6\", \"caxis\": {\"gridcolor\": \"white\", \"linecolor\": \"white\", \"ticks\": \"\"}}, \"title\": {\"x\": 0.05}, \"xaxis\": {\"automargin\": true, \"gridcolor\": \"white\", \"linecolor\": \"white\", \"ticks\": \"\", \"title\": {\"standoff\": 15}, \"zerolinecolor\": \"white\", \"zerolinewidth\": 2}, \"yaxis\": {\"automargin\": true, \"gridcolor\": \"white\", \"linecolor\": \"white\", \"ticks\": \"\", \"title\": {\"standoff\": 15}, \"zerolinecolor\": \"white\", \"zerolinewidth\": 2}}}, \"title\": {\"text\": \"Advice Network - Centrality by Gender\"}, \"xaxis\": {\"gridcolor\": \"grey\", \"gridwidth\": 1, \"showgrid\": true, \"title\": {\"text\": \"Degree Centrality\"}}, \"yaxis\": {\"gridcolor\": \"grey\", \"gridwidth\": 1, \"showgrid\": true, \"title\": {\"text\": \"Eigenvector Centrality\"}}},\n",
       "                        {\"responsive\": true}\n",
       "                    ).then(function(){\n",
       "                            \n",
       "var gd = document.getElementById('670197fa-53c4-432b-8448-fb0de977aec2');\n",
       "var x = new MutationObserver(function (mutations, observer) {{\n",
       "        var display = window.getComputedStyle(gd).display;\n",
       "        if (!display || display === 'none') {{\n",
       "            console.log([gd, 'removed!']);\n",
       "            Plotly.purge(gd);\n",
       "            observer.disconnect();\n",
       "        }}\n",
       "}});\n",
       "\n",
       "// Listen for the removal of the full notebook cells\n",
       "var notebookContainer = gd.closest('#notebook-container');\n",
       "if (notebookContainer) {{\n",
       "    x.observe(notebookContainer, {childList: true});\n",
       "}}\n",
       "\n",
       "// Listen for the clearing of the current output cell\n",
       "var outputEl = gd.closest('.output');\n",
       "if (outputEl) {{\n",
       "    x.observe(outputEl, {childList: true});\n",
       "}}\n",
       "\n",
       "                        })\n",
       "                };\n",
       "                });\n",
       "            </script>\n",
       "        </div>"
      ]
     },
     "metadata": {},
     "output_type": "display_data"
    }
   ],
   "source": [
    "fig = go.Figure()\n",
    "fig.add_trace(go.Scatter(\n",
    "    x=advice_df[advice_df['gender']==1]['deg_centrality'],\n",
    "    y=advice_df[advice_df['gender']==1]['eig_centrality'],\n",
    "    text=advice_df[advice_df['gender']==1]['id'],\n",
    "    hoverinfo='text',\n",
    "    mode='markers+text',\n",
    "    name='Male',\n",
    "    textfont_size=8,\n",
    "    textfont_color='black',\n",
    "    marker=dict(size=14, \n",
    "                color='lightsalmon',\n",
    "                symbol='circle')))\n",
    "\n",
    "fig.add_trace(go.Scatter(\n",
    "    x = advice_df[advice_df['gender']==2]['deg_centrality'],\n",
    "    y = advice_df[advice_df['gender']==2]['eig_centrality'],\n",
    "    text=advice_df[advice_df['gender']==2]['id'],\n",
    "    mode='markers+text',\n",
    "    name = 'Female',\n",
    "    textfont_size=8,\n",
    "    textfont_color='white',\n",
    "    marker=dict(size=14, \n",
    "                color='purple', \n",
    "                symbol='circle')))\n",
    "    \n",
    "\n",
    "fig.update_layout(go.Layout(\n",
    "    title='Advice Network - Centrality by Gender',\n",
    "    xaxis=dict(\n",
    "        title='Degree Centrality'\n",
    "    ),\n",
    "    yaxis=dict(\n",
    "        title='Eigenvector Centrality'\n",
    "    ),\n",
    "    hovermode='closest',\n",
    "    plot_bgcolor='white',\n",
    "    paper_bgcolor='white',\n",
    "))\n",
    "fig.update_xaxes(showgrid=True, gridwidth=1, gridcolor='grey')\n",
    "fig.update_yaxes(showgrid=True, gridwidth=1, gridcolor='grey')"
   ]
  },
  {
   "cell_type": "markdown",
   "metadata": {},
   "source": [
    "Pearson's Correlation Coefficient between centrality types:"
   ]
  },
  {
   "cell_type": "code",
   "execution_count": 18,
   "metadata": {
    "ExecuteTime": {
     "end_time": "2020-06-20T13:01:14.512242Z",
     "start_time": "2020-06-20T13:01:14.505587Z"
    }
   },
   "outputs": [
    {
     "name": "stdout",
     "output_type": "stream",
     "text": [
      "Correlation: 0.9832480122453876\n"
     ]
    }
   ],
   "source": [
    "print(\"Correlation:\", np.corrcoef(advice_df[advice_df['gender']==1]['deg_centrality'],\n",
    "                                  advice_df[advice_df['gender']==1]['eig_centrality'])[0][1])"
   ]
  },
  {
   "cell_type": "markdown",
   "metadata": {},
   "source": [
    "Eigenvector centrality and degree centrality across genders show stronger correlation than in the case of the social network. We can see stronger separation between the top three nodes (23, 12 and 25) and the rest."
   ]
  },
  {
   "cell_type": "markdown",
   "metadata": {},
   "source": [
    "#### Get Mean and Variance for Advice Network Eigenvector Centrality by Gender"
   ]
  },
  {
   "cell_type": "code",
   "execution_count": 19,
   "metadata": {
    "ExecuteTime": {
     "end_time": "2020-06-20T13:01:14.525996Z",
     "start_time": "2020-06-20T13:01:14.513927Z"
    }
   },
   "outputs": [
    {
     "name": "stdout",
     "output_type": "stream",
     "text": [
      "Advice Network Eigenvector Centrality Statistics\n",
      "Male mean: 0.116\n",
      "Female mean: 0.089\n",
      "Male variance: 0.0023\n",
      "Female variance: 0.0014\n"
     ]
    }
   ],
   "source": [
    "print('Advice Network Eigenvector Centrality Statistics')\n",
    "print('Male mean: {}'.format(round(np.mean(advice_df[advice_df['gender']==1]['eig_centrality']),3)))\n",
    "print('Female mean: {}'.format(round(np.mean(advice_df[advice_df['gender']==2]['eig_centrality']),3)))\n",
    "print('Male variance: {}'.format(round(np.var(advice_df[advice_df['gender']==1]['eig_centrality']),4)))\n",
    "print('Female variance: {}'.format(round(np.var(advice_df[advice_df['gender']==2]['eig_centrality']),4)))"
   ]
  },
  {
   "cell_type": "markdown",
   "metadata": {},
   "source": [
    "#### T-Test for Differences in Advice Network Eigenvector Centrality - Gender  \n",
    "\n",
    "Test if there is a statistically significant difference between distribution of advice network eigenvector centralities for males and females using an unpaired t-test. "
   ]
  },
  {
   "cell_type": "code",
   "execution_count": 20,
   "metadata": {
    "ExecuteTime": {
     "end_time": "2020-06-20T13:01:14.533658Z",
     "start_time": "2020-06-20T13:01:14.527908Z"
    }
   },
   "outputs": [
    {
     "name": "stdout",
     "output_type": "stream",
     "text": [
      "p-value for t-test comparing distributions of advice eigenvector centralities for males and females: 0.024\n"
     ]
    }
   ],
   "source": [
    "advice_ttest = stats.ttest_ind(advice_df[advice_df['gender']==1]['eig_centrality'],\n",
    "                               advice_df[advice_df['gender']==2]['eig_centrality'], \n",
    "                               equal_var = False)\n",
    "print('p-value for t-test comparing distributions of advice eigenvector centralities for males and females: {}'.format(round(advice_ttest[1],3)))"
   ]
  },
  {
   "cell_type": "markdown",
   "metadata": {},
   "source": [
    "There is a statistically significant difference between mean advice eigenvector centralities for males and females (p-value = 0.024). "
   ]
  },
  {
   "cell_type": "markdown",
   "metadata": {},
   "source": [
    "### Look at Co-worker Network\n",
    "\n",
    "#### Build co-worker network graph"
   ]
  },
  {
   "cell_type": "code",
   "execution_count": 21,
   "metadata": {
    "ExecuteTime": {
     "end_time": "2020-06-20T13:01:14.548338Z",
     "start_time": "2020-06-20T13:01:14.535690Z"
    }
   },
   "outputs": [],
   "source": [
    "df_work = df_rel[142:].astype(int).reset_index(drop=True)\n",
    "\n",
    "G_work=nx.from_pandas_adjacency(df_work)\n",
    "for node in list(G_work.nodes):\n",
    "    G_work.nodes[node]['gender'] = gender_dict[node]\n",
    "    G_work.nodes[node]['status'] = status_dict[node]"
   ]
  },
  {
   "cell_type": "markdown",
   "metadata": {},
   "source": [
    "#### Get centrality"
   ]
  },
  {
   "cell_type": "code",
   "execution_count": 22,
   "metadata": {
    "ExecuteTime": {
     "end_time": "2020-06-20T13:01:14.558164Z",
     "start_time": "2020-06-20T13:01:14.549890Z"
    }
   },
   "outputs": [],
   "source": [
    "work_eig_centrality = nx.eigenvector_centrality(G_work, max_iter=1000)\n",
    "work_deg_centrality = nx.degree_centrality(G_work)"
   ]
  },
  {
   "cell_type": "code",
   "execution_count": 23,
   "metadata": {
    "ExecuteTime": {
     "end_time": "2020-06-20T13:01:14.600449Z",
     "start_time": "2020-06-20T13:01:14.561344Z"
    }
   },
   "outputs": [
    {
     "name": "stdout",
     "output_type": "stream",
     "text": [
      "Eigenvector Centrality\n",
      "----------------------\n",
      "Gender 1\n",
      "    eig_centrality  deg_centrality    id  gender  status\n",
      "23        0.236146        0.642857  23.0       1       1\n",
      "25        0.235161        0.614286  25.0       1       1\n",
      "21        0.197378        0.514286  21.0       1       1\n",
      "18        0.195042        0.528571  18.0       1       1\n",
      "14        0.194777        0.528571  14.0       1       1\n",
      "\n",
      "\n",
      "Gender 2\n",
      "    eig_centrality  deg_centrality    id  gender  status\n",
      "28        0.146414        0.385714  28.0       2       1\n",
      "42        0.144609        0.385714  42.0       2       2\n",
      "33        0.140247        0.357143  33.0       2       1\n",
      "37        0.133809        0.357143  37.0       2       2\n",
      "38        0.115803        0.300000  38.0       2       2\n",
      "\n",
      "\n",
      "Status 1\n",
      "    eig_centrality  deg_centrality    id  gender  status\n",
      "23        0.236146        0.642857  23.0       1       1\n",
      "25        0.235161        0.614286  25.0       1       1\n",
      "21        0.197378        0.514286  21.0       1       1\n",
      "18        0.195042        0.528571  18.0       1       1\n",
      "14        0.194777        0.528571  14.0       1       1\n",
      "\n",
      "\n",
      "Status 2\n",
      "    eig_centrality  deg_centrality    id  gender  status\n",
      "65        0.154370        0.414286  65.0       1       2\n",
      "64        0.148032        0.371429  64.0       1       2\n",
      "42        0.144609        0.385714  42.0       2       2\n",
      "67        0.134723        0.357143  67.0       1       2\n",
      "37        0.133809        0.357143  37.0       2       2\n",
      "\n",
      "\n",
      "Degree Centrality - All\n",
      "----------------------\n",
      "    eig_centrality  deg_centrality    id  gender  status\n",
      "23        0.236146        0.642857  23.0       1       1\n",
      "25        0.235161        0.614286  25.0       1       1\n",
      "18        0.195042        0.528571  18.0       1       1\n",
      "14        0.194777        0.528571  14.0       1       1\n",
      "21        0.197378        0.514286  21.0       1       1\n",
      "\n",
      "\n"
     ]
    }
   ],
   "source": [
    "work_df = pd.DataFrame(np.array([list(work_eig_centrality.values()),\n",
    "                                 list(work_deg_centrality.values()),\n",
    "                                 list(work_deg_centrality.keys())]).T,\n",
    "                          columns = ['eig_centrality', 'deg_centrality','id'])\n",
    "\n",
    "work_df['gender'] = work_df['id'].map(gender_dict)\n",
    "work_df['status'] = work_df['id'].map(status_dict)\n",
    "\n",
    "print('Eigenvector Centrality')\n",
    "print('----------------------')\n",
    "for filter_ in ['gender','status']:\n",
    "    for value in [1,2]:\n",
    "        print(filter_.title(),value)\n",
    "        print(work_df[work_df[filter_]==value].sort_values(by=['eig_centrality',\n",
    "                                                             'deg_centrality'],\n",
    "                                                         ascending=False).head(5))\n",
    "        print('\\n')\n",
    "print('Degree Centrality - All')\n",
    "print('----------------------')\n",
    "print(work_df.sort_values(by=['deg_centrality',\n",
    "                               'eig_centrality'],\n",
    "                            ascending=False).head(5))\n",
    "print('\\n')"
   ]
  },
  {
   "cell_type": "markdown",
   "metadata": {},
   "source": [
    "In the co-worker network, the top 5 males with the highest eigenvector centrality are 23, 25, 21, 18, and 14.  A few of these males were also in the top of the social network and advice network (25, 23). All 5 of these have status as a partner in the law firm.  The top 5 females with the highest eigenvector centrality are 28, 42, 33, 37, and 38.  Three of these were also in the top of the social and advice networks (28, 37, 38).  Again, the values for the top females are lower than those of the top 5 males.  \n",
    "\n",
    "Looking at degree centrality for all nodes, we see some familiar individuals.  The top 5 nodes are the exact same as the top 5 eigenvector centralities for males."
   ]
  },
  {
   "cell_type": "markdown",
   "metadata": {},
   "source": [
    "#### Visualize Co-worker Network\n",
    "The visualization of the co-worker network by gender is below.  Again, it appears the male nodes have higher degrees than the females.  Nodes 23 and 25, both males, have high degrees in the co-worker network.  "
   ]
  },
  {
   "cell_type": "markdown",
   "metadata": {},
   "source": [
    "##### Work Network - by Gender\n",
    "\n",
    "Orange is male, purple is female. Size indicates degree\n",
    "\n",
    "![title](graphics/work_gender_a.png)"
   ]
  },
  {
   "cell_type": "markdown",
   "metadata": {},
   "source": [
    "The visualization of the co-worker network by status is below.  As we would expect, in general, partners appear to have higher degrees in the co-worker network than associates."
   ]
  },
  {
   "cell_type": "markdown",
   "metadata": {},
   "source": [
    "##### Work Network - by Status\n",
    "\n",
    "Brown is partner, green is associate. Size indicates degree\n",
    "\n",
    "![title](graphics/work_status_a.png)"
   ]
  },
  {
   "cell_type": "markdown",
   "metadata": {},
   "source": [
    "#### Scatter Plot of Co-Worker Network Eigenvector Centrality by Gender "
   ]
  },
  {
   "cell_type": "code",
   "execution_count": 24,
   "metadata": {
    "ExecuteTime": {
     "end_time": "2020-06-20T13:01:14.636232Z",
     "start_time": "2020-06-20T13:01:14.602202Z"
    }
   },
   "outputs": [
    {
     "data": {
      "application/vnd.plotly.v1+json": {
       "config": {
        "plotlyServerURL": "https://plot.ly"
       },
       "data": [
        {
         "hoverinfo": "text",
         "marker": {
          "color": "lightsalmon",
          "size": 14,
          "symbol": "circle"
         },
         "mode": "markers+text",
         "name": "Male",
         "text": [
          0,
          1,
          2,
          3,
          4,
          5,
          6,
          7,
          8,
          9,
          10,
          11,
          12,
          13,
          14,
          15,
          16,
          17,
          18,
          19,
          20,
          21,
          22,
          23,
          24,
          25,
          27,
          29,
          30,
          31,
          32,
          34,
          35,
          36,
          39,
          40,
          41,
          44,
          46,
          48,
          49,
          51,
          52,
          53,
          54,
          55,
          57,
          61,
          62,
          64,
          65,
          67,
          69
         ],
         "textfont": {
          "color": "black",
          "size": 8
         },
         "type": "scatter",
         "x": [
          0.21428571428571427,
          0.2571428571428571,
          0.09999999999999999,
          0.44285714285714284,
          0.22857142857142856,
          0.3,
          0.15714285714285714,
          0.18571428571428572,
          0.2714285714285714,
          0.32857142857142857,
          0.2714285714285714,
          0.2714285714285714,
          0.45714285714285713,
          0.3142857142857143,
          0.5285714285714286,
          0.4714285714285714,
          0.44285714285714284,
          0.21428571428571427,
          0.5285714285714286,
          0.32857142857142857,
          0.24285714285714285,
          0.5142857142857142,
          0.17142857142857143,
          0.6428571428571428,
          0.22857142857142856,
          0.6142857142857142,
          0.45714285714285713,
          0.3857142857142857,
          0.45714285714285713,
          0.3857142857142857,
          0.18571428571428572,
          0.2857142857142857,
          0.2571428571428571,
          0.14285714285714285,
          0.3,
          0.3142857142857143,
          0.19999999999999998,
          0.34285714285714286,
          0.12857142857142856,
          0.3142857142857143,
          0.24285714285714285,
          0.34285714285714286,
          0.14285714285714285,
          0.3,
          0.2571428571428571,
          0.24285714285714285,
          0.18571428571428572,
          0.2571428571428571,
          0.24285714285714285,
          0.37142857142857144,
          0.41428571428571426,
          0.35714285714285715,
          0.2714285714285714
         ],
         "y": [
          0.09635424220380527,
          0.10614425434614341,
          0.029443215266905475,
          0.1743687232988473,
          0.06959302833587126,
          0.10446744452168155,
          0.04483869020578944,
          0.08098291085593737,
          0.11540478705908382,
          0.12444223715167195,
          0.1038361603120393,
          0.10797873936762628,
          0.15711118635430948,
          0.11717696846629372,
          0.19477654893501084,
          0.16268483702317887,
          0.16517189237797894,
          0.054424151712232874,
          0.19504212868064008,
          0.13976458414881288,
          0.10489589923131942,
          0.1973784408474406,
          0.05973491201484739,
          0.23614605839914585,
          0.08316989073852062,
          0.2351610837238484,
          0.16433109864515086,
          0.13294204808401294,
          0.144743010026892,
          0.13215331018145823,
          0.05201272469755704,
          0.10230933241371375,
          0.10419530967256155,
          0.06130317525701599,
          0.11874205357660711,
          0.12351989332008693,
          0.07804507911423492,
          0.12650179707909534,
          0.04229261099234078,
          0.11155546116961167,
          0.08410401835110289,
          0.1325351262616894,
          0.05512375683491149,
          0.10326948561411628,
          0.11044991004643533,
          0.1053321004624939,
          0.05304528689284766,
          0.11616276236232731,
          0.09186096871956315,
          0.14803171583835428,
          0.1543703837795305,
          0.13472276834194818,
          0.10782907239072577
         ]
        },
        {
         "marker": {
          "color": "purple",
          "size": 14,
          "symbol": "circle"
         },
         "mode": "markers+text",
         "name": "Female",
         "text": [
          26,
          28,
          33,
          37,
          38,
          42,
          43,
          45,
          47,
          50,
          56,
          58,
          59,
          60,
          63,
          66,
          68,
          70
         ],
         "textfont": {
          "color": "white",
          "size": 8
         },
         "type": "scatter",
         "x": [
          0.2714285714285714,
          0.3857142857142857,
          0.35714285714285715,
          0.35714285714285715,
          0.3,
          0.3857142857142857,
          0.12857142857142856,
          0.22857142857142856,
          0.14285714285714285,
          0.19999999999999998,
          0.24285714285714285,
          0.14285714285714285,
          0.21428571428571427,
          0.17142857142857143,
          0.17142857142857143,
          0.15714285714285714,
          0.14285714285714285,
          0.22857142857142856
         ],
         "y": [
          0.10949412802991677,
          0.14641446989490625,
          0.14024726353169492,
          0.13380871938671557,
          0.11580316916900904,
          0.14460922506230375,
          0.05078885532190528,
          0.09528890884384927,
          0.0639170711059892,
          0.06399141712978823,
          0.09737638306052548,
          0.038347348350433144,
          0.0832073762124447,
          0.07144966821639552,
          0.07360376426038016,
          0.07000480184636959,
          0.061602022124297086,
          0.09865282466861636
         ]
        }
       ],
       "layout": {
        "hovermode": "closest",
        "paper_bgcolor": "white",
        "plot_bgcolor": "white",
        "template": {
         "data": {
          "bar": [
           {
            "error_x": {
             "color": "#2a3f5f"
            },
            "error_y": {
             "color": "#2a3f5f"
            },
            "marker": {
             "line": {
              "color": "#E5ECF6",
              "width": 0.5
             }
            },
            "type": "bar"
           }
          ],
          "barpolar": [
           {
            "marker": {
             "line": {
              "color": "#E5ECF6",
              "width": 0.5
             }
            },
            "type": "barpolar"
           }
          ],
          "carpet": [
           {
            "aaxis": {
             "endlinecolor": "#2a3f5f",
             "gridcolor": "white",
             "linecolor": "white",
             "minorgridcolor": "white",
             "startlinecolor": "#2a3f5f"
            },
            "baxis": {
             "endlinecolor": "#2a3f5f",
             "gridcolor": "white",
             "linecolor": "white",
             "minorgridcolor": "white",
             "startlinecolor": "#2a3f5f"
            },
            "type": "carpet"
           }
          ],
          "choropleth": [
           {
            "colorbar": {
             "outlinewidth": 0,
             "ticks": ""
            },
            "type": "choropleth"
           }
          ],
          "contour": [
           {
            "colorbar": {
             "outlinewidth": 0,
             "ticks": ""
            },
            "colorscale": [
             [
              0,
              "#0d0887"
             ],
             [
              0.1111111111111111,
              "#46039f"
             ],
             [
              0.2222222222222222,
              "#7201a8"
             ],
             [
              0.3333333333333333,
              "#9c179e"
             ],
             [
              0.4444444444444444,
              "#bd3786"
             ],
             [
              0.5555555555555556,
              "#d8576b"
             ],
             [
              0.6666666666666666,
              "#ed7953"
             ],
             [
              0.7777777777777778,
              "#fb9f3a"
             ],
             [
              0.8888888888888888,
              "#fdca26"
             ],
             [
              1,
              "#f0f921"
             ]
            ],
            "type": "contour"
           }
          ],
          "contourcarpet": [
           {
            "colorbar": {
             "outlinewidth": 0,
             "ticks": ""
            },
            "type": "contourcarpet"
           }
          ],
          "heatmap": [
           {
            "colorbar": {
             "outlinewidth": 0,
             "ticks": ""
            },
            "colorscale": [
             [
              0,
              "#0d0887"
             ],
             [
              0.1111111111111111,
              "#46039f"
             ],
             [
              0.2222222222222222,
              "#7201a8"
             ],
             [
              0.3333333333333333,
              "#9c179e"
             ],
             [
              0.4444444444444444,
              "#bd3786"
             ],
             [
              0.5555555555555556,
              "#d8576b"
             ],
             [
              0.6666666666666666,
              "#ed7953"
             ],
             [
              0.7777777777777778,
              "#fb9f3a"
             ],
             [
              0.8888888888888888,
              "#fdca26"
             ],
             [
              1,
              "#f0f921"
             ]
            ],
            "type": "heatmap"
           }
          ],
          "heatmapgl": [
           {
            "colorbar": {
             "outlinewidth": 0,
             "ticks": ""
            },
            "colorscale": [
             [
              0,
              "#0d0887"
             ],
             [
              0.1111111111111111,
              "#46039f"
             ],
             [
              0.2222222222222222,
              "#7201a8"
             ],
             [
              0.3333333333333333,
              "#9c179e"
             ],
             [
              0.4444444444444444,
              "#bd3786"
             ],
             [
              0.5555555555555556,
              "#d8576b"
             ],
             [
              0.6666666666666666,
              "#ed7953"
             ],
             [
              0.7777777777777778,
              "#fb9f3a"
             ],
             [
              0.8888888888888888,
              "#fdca26"
             ],
             [
              1,
              "#f0f921"
             ]
            ],
            "type": "heatmapgl"
           }
          ],
          "histogram": [
           {
            "marker": {
             "colorbar": {
              "outlinewidth": 0,
              "ticks": ""
             }
            },
            "type": "histogram"
           }
          ],
          "histogram2d": [
           {
            "colorbar": {
             "outlinewidth": 0,
             "ticks": ""
            },
            "colorscale": [
             [
              0,
              "#0d0887"
             ],
             [
              0.1111111111111111,
              "#46039f"
             ],
             [
              0.2222222222222222,
              "#7201a8"
             ],
             [
              0.3333333333333333,
              "#9c179e"
             ],
             [
              0.4444444444444444,
              "#bd3786"
             ],
             [
              0.5555555555555556,
              "#d8576b"
             ],
             [
              0.6666666666666666,
              "#ed7953"
             ],
             [
              0.7777777777777778,
              "#fb9f3a"
             ],
             [
              0.8888888888888888,
              "#fdca26"
             ],
             [
              1,
              "#f0f921"
             ]
            ],
            "type": "histogram2d"
           }
          ],
          "histogram2dcontour": [
           {
            "colorbar": {
             "outlinewidth": 0,
             "ticks": ""
            },
            "colorscale": [
             [
              0,
              "#0d0887"
             ],
             [
              0.1111111111111111,
              "#46039f"
             ],
             [
              0.2222222222222222,
              "#7201a8"
             ],
             [
              0.3333333333333333,
              "#9c179e"
             ],
             [
              0.4444444444444444,
              "#bd3786"
             ],
             [
              0.5555555555555556,
              "#d8576b"
             ],
             [
              0.6666666666666666,
              "#ed7953"
             ],
             [
              0.7777777777777778,
              "#fb9f3a"
             ],
             [
              0.8888888888888888,
              "#fdca26"
             ],
             [
              1,
              "#f0f921"
             ]
            ],
            "type": "histogram2dcontour"
           }
          ],
          "mesh3d": [
           {
            "colorbar": {
             "outlinewidth": 0,
             "ticks": ""
            },
            "type": "mesh3d"
           }
          ],
          "parcoords": [
           {
            "line": {
             "colorbar": {
              "outlinewidth": 0,
              "ticks": ""
             }
            },
            "type": "parcoords"
           }
          ],
          "pie": [
           {
            "automargin": true,
            "type": "pie"
           }
          ],
          "scatter": [
           {
            "marker": {
             "colorbar": {
              "outlinewidth": 0,
              "ticks": ""
             }
            },
            "type": "scatter"
           }
          ],
          "scatter3d": [
           {
            "line": {
             "colorbar": {
              "outlinewidth": 0,
              "ticks": ""
             }
            },
            "marker": {
             "colorbar": {
              "outlinewidth": 0,
              "ticks": ""
             }
            },
            "type": "scatter3d"
           }
          ],
          "scattercarpet": [
           {
            "marker": {
             "colorbar": {
              "outlinewidth": 0,
              "ticks": ""
             }
            },
            "type": "scattercarpet"
           }
          ],
          "scattergeo": [
           {
            "marker": {
             "colorbar": {
              "outlinewidth": 0,
              "ticks": ""
             }
            },
            "type": "scattergeo"
           }
          ],
          "scattergl": [
           {
            "marker": {
             "colorbar": {
              "outlinewidth": 0,
              "ticks": ""
             }
            },
            "type": "scattergl"
           }
          ],
          "scattermapbox": [
           {
            "marker": {
             "colorbar": {
              "outlinewidth": 0,
              "ticks": ""
             }
            },
            "type": "scattermapbox"
           }
          ],
          "scatterpolar": [
           {
            "marker": {
             "colorbar": {
              "outlinewidth": 0,
              "ticks": ""
             }
            },
            "type": "scatterpolar"
           }
          ],
          "scatterpolargl": [
           {
            "marker": {
             "colorbar": {
              "outlinewidth": 0,
              "ticks": ""
             }
            },
            "type": "scatterpolargl"
           }
          ],
          "scatterternary": [
           {
            "marker": {
             "colorbar": {
              "outlinewidth": 0,
              "ticks": ""
             }
            },
            "type": "scatterternary"
           }
          ],
          "surface": [
           {
            "colorbar": {
             "outlinewidth": 0,
             "ticks": ""
            },
            "colorscale": [
             [
              0,
              "#0d0887"
             ],
             [
              0.1111111111111111,
              "#46039f"
             ],
             [
              0.2222222222222222,
              "#7201a8"
             ],
             [
              0.3333333333333333,
              "#9c179e"
             ],
             [
              0.4444444444444444,
              "#bd3786"
             ],
             [
              0.5555555555555556,
              "#d8576b"
             ],
             [
              0.6666666666666666,
              "#ed7953"
             ],
             [
              0.7777777777777778,
              "#fb9f3a"
             ],
             [
              0.8888888888888888,
              "#fdca26"
             ],
             [
              1,
              "#f0f921"
             ]
            ],
            "type": "surface"
           }
          ],
          "table": [
           {
            "cells": {
             "fill": {
              "color": "#EBF0F8"
             },
             "line": {
              "color": "white"
             }
            },
            "header": {
             "fill": {
              "color": "#C8D4E3"
             },
             "line": {
              "color": "white"
             }
            },
            "type": "table"
           }
          ]
         },
         "layout": {
          "annotationdefaults": {
           "arrowcolor": "#2a3f5f",
           "arrowhead": 0,
           "arrowwidth": 1
          },
          "coloraxis": {
           "colorbar": {
            "outlinewidth": 0,
            "ticks": ""
           }
          },
          "colorscale": {
           "diverging": [
            [
             0,
             "#8e0152"
            ],
            [
             0.1,
             "#c51b7d"
            ],
            [
             0.2,
             "#de77ae"
            ],
            [
             0.3,
             "#f1b6da"
            ],
            [
             0.4,
             "#fde0ef"
            ],
            [
             0.5,
             "#f7f7f7"
            ],
            [
             0.6,
             "#e6f5d0"
            ],
            [
             0.7,
             "#b8e186"
            ],
            [
             0.8,
             "#7fbc41"
            ],
            [
             0.9,
             "#4d9221"
            ],
            [
             1,
             "#276419"
            ]
           ],
           "sequential": [
            [
             0,
             "#0d0887"
            ],
            [
             0.1111111111111111,
             "#46039f"
            ],
            [
             0.2222222222222222,
             "#7201a8"
            ],
            [
             0.3333333333333333,
             "#9c179e"
            ],
            [
             0.4444444444444444,
             "#bd3786"
            ],
            [
             0.5555555555555556,
             "#d8576b"
            ],
            [
             0.6666666666666666,
             "#ed7953"
            ],
            [
             0.7777777777777778,
             "#fb9f3a"
            ],
            [
             0.8888888888888888,
             "#fdca26"
            ],
            [
             1,
             "#f0f921"
            ]
           ],
           "sequentialminus": [
            [
             0,
             "#0d0887"
            ],
            [
             0.1111111111111111,
             "#46039f"
            ],
            [
             0.2222222222222222,
             "#7201a8"
            ],
            [
             0.3333333333333333,
             "#9c179e"
            ],
            [
             0.4444444444444444,
             "#bd3786"
            ],
            [
             0.5555555555555556,
             "#d8576b"
            ],
            [
             0.6666666666666666,
             "#ed7953"
            ],
            [
             0.7777777777777778,
             "#fb9f3a"
            ],
            [
             0.8888888888888888,
             "#fdca26"
            ],
            [
             1,
             "#f0f921"
            ]
           ]
          },
          "colorway": [
           "#636efa",
           "#EF553B",
           "#00cc96",
           "#ab63fa",
           "#FFA15A",
           "#19d3f3",
           "#FF6692",
           "#B6E880",
           "#FF97FF",
           "#FECB52"
          ],
          "font": {
           "color": "#2a3f5f"
          },
          "geo": {
           "bgcolor": "white",
           "lakecolor": "white",
           "landcolor": "#E5ECF6",
           "showlakes": true,
           "showland": true,
           "subunitcolor": "white"
          },
          "hoverlabel": {
           "align": "left"
          },
          "hovermode": "closest",
          "mapbox": {
           "style": "light"
          },
          "paper_bgcolor": "white",
          "plot_bgcolor": "#E5ECF6",
          "polar": {
           "angularaxis": {
            "gridcolor": "white",
            "linecolor": "white",
            "ticks": ""
           },
           "bgcolor": "#E5ECF6",
           "radialaxis": {
            "gridcolor": "white",
            "linecolor": "white",
            "ticks": ""
           }
          },
          "scene": {
           "xaxis": {
            "backgroundcolor": "#E5ECF6",
            "gridcolor": "white",
            "gridwidth": 2,
            "linecolor": "white",
            "showbackground": true,
            "ticks": "",
            "zerolinecolor": "white"
           },
           "yaxis": {
            "backgroundcolor": "#E5ECF6",
            "gridcolor": "white",
            "gridwidth": 2,
            "linecolor": "white",
            "showbackground": true,
            "ticks": "",
            "zerolinecolor": "white"
           },
           "zaxis": {
            "backgroundcolor": "#E5ECF6",
            "gridcolor": "white",
            "gridwidth": 2,
            "linecolor": "white",
            "showbackground": true,
            "ticks": "",
            "zerolinecolor": "white"
           }
          },
          "shapedefaults": {
           "line": {
            "color": "#2a3f5f"
           }
          },
          "ternary": {
           "aaxis": {
            "gridcolor": "white",
            "linecolor": "white",
            "ticks": ""
           },
           "baxis": {
            "gridcolor": "white",
            "linecolor": "white",
            "ticks": ""
           },
           "bgcolor": "#E5ECF6",
           "caxis": {
            "gridcolor": "white",
            "linecolor": "white",
            "ticks": ""
           }
          },
          "title": {
           "x": 0.05
          },
          "xaxis": {
           "automargin": true,
           "gridcolor": "white",
           "linecolor": "white",
           "ticks": "",
           "title": {
            "standoff": 15
           },
           "zerolinecolor": "white",
           "zerolinewidth": 2
          },
          "yaxis": {
           "automargin": true,
           "gridcolor": "white",
           "linecolor": "white",
           "ticks": "",
           "title": {
            "standoff": 15
           },
           "zerolinecolor": "white",
           "zerolinewidth": 2
          }
         }
        },
        "title": {
         "text": "Work Network - Centrality by Gender"
        },
        "xaxis": {
         "gridcolor": "grey",
         "gridwidth": 1,
         "showgrid": true,
         "title": {
          "text": "Degree Centrality"
         }
        },
        "yaxis": {
         "gridcolor": "grey",
         "gridwidth": 1,
         "showgrid": true,
         "title": {
          "text": "Eigenvector Centrality"
         }
        }
       }
      },
      "text/html": [
       "<div>\n",
       "        \n",
       "        \n",
       "            <div id=\"e2abb5ec-7b1b-4687-9a1b-4fbd2faadc62\" class=\"plotly-graph-div\" style=\"height:525px; width:100%;\"></div>\n",
       "            <script type=\"text/javascript\">\n",
       "                require([\"plotly\"], function(Plotly) {\n",
       "                    window.PLOTLYENV=window.PLOTLYENV || {};\n",
       "                    \n",
       "                if (document.getElementById(\"e2abb5ec-7b1b-4687-9a1b-4fbd2faadc62\")) {\n",
       "                    Plotly.newPlot(\n",
       "                        'e2abb5ec-7b1b-4687-9a1b-4fbd2faadc62',\n",
       "                        [{\"hoverinfo\": \"text\", \"marker\": {\"color\": \"lightsalmon\", \"size\": 14, \"symbol\": \"circle\"}, \"mode\": \"markers+text\", \"name\": \"Male\", \"text\": [0.0, 1.0, 2.0, 3.0, 4.0, 5.0, 6.0, 7.0, 8.0, 9.0, 10.0, 11.0, 12.0, 13.0, 14.0, 15.0, 16.0, 17.0, 18.0, 19.0, 20.0, 21.0, 22.0, 23.0, 24.0, 25.0, 27.0, 29.0, 30.0, 31.0, 32.0, 34.0, 35.0, 36.0, 39.0, 40.0, 41.0, 44.0, 46.0, 48.0, 49.0, 51.0, 52.0, 53.0, 54.0, 55.0, 57.0, 61.0, 62.0, 64.0, 65.0, 67.0, 69.0], \"textfont\": {\"color\": \"black\", \"size\": 8}, \"type\": \"scatter\", \"x\": [0.21428571428571427, 0.2571428571428571, 0.09999999999999999, 0.44285714285714284, 0.22857142857142856, 0.3, 0.15714285714285714, 0.18571428571428572, 0.2714285714285714, 0.32857142857142857, 0.2714285714285714, 0.2714285714285714, 0.45714285714285713, 0.3142857142857143, 0.5285714285714286, 0.4714285714285714, 0.44285714285714284, 0.21428571428571427, 0.5285714285714286, 0.32857142857142857, 0.24285714285714285, 0.5142857142857142, 0.17142857142857143, 0.6428571428571428, 0.22857142857142856, 0.6142857142857142, 0.45714285714285713, 0.3857142857142857, 0.45714285714285713, 0.3857142857142857, 0.18571428571428572, 0.2857142857142857, 0.2571428571428571, 0.14285714285714285, 0.3, 0.3142857142857143, 0.19999999999999998, 0.34285714285714286, 0.12857142857142856, 0.3142857142857143, 0.24285714285714285, 0.34285714285714286, 0.14285714285714285, 0.3, 0.2571428571428571, 0.24285714285714285, 0.18571428571428572, 0.2571428571428571, 0.24285714285714285, 0.37142857142857144, 0.41428571428571426, 0.35714285714285715, 0.2714285714285714], \"y\": [0.09635424220380527, 0.10614425434614341, 0.029443215266905475, 0.1743687232988473, 0.06959302833587126, 0.10446744452168155, 0.04483869020578944, 0.08098291085593737, 0.11540478705908382, 0.12444223715167195, 0.1038361603120393, 0.10797873936762628, 0.15711118635430948, 0.11717696846629372, 0.19477654893501084, 0.16268483702317887, 0.16517189237797894, 0.054424151712232874, 0.19504212868064008, 0.13976458414881288, 0.10489589923131942, 0.1973784408474406, 0.05973491201484739, 0.23614605839914585, 0.08316989073852062, 0.2351610837238484, 0.16433109864515086, 0.13294204808401294, 0.144743010026892, 0.13215331018145823, 0.05201272469755704, 0.10230933241371375, 0.10419530967256155, 0.06130317525701599, 0.11874205357660711, 0.12351989332008693, 0.07804507911423492, 0.12650179707909534, 0.04229261099234078, 0.11155546116961167, 0.08410401835110289, 0.1325351262616894, 0.05512375683491149, 0.10326948561411628, 0.11044991004643533, 0.1053321004624939, 0.05304528689284766, 0.11616276236232731, 0.09186096871956315, 0.14803171583835428, 0.1543703837795305, 0.13472276834194818, 0.10782907239072577]}, {\"marker\": {\"color\": \"purple\", \"size\": 14, \"symbol\": \"circle\"}, \"mode\": \"markers+text\", \"name\": \"Female\", \"text\": [26.0, 28.0, 33.0, 37.0, 38.0, 42.0, 43.0, 45.0, 47.0, 50.0, 56.0, 58.0, 59.0, 60.0, 63.0, 66.0, 68.0, 70.0], \"textfont\": {\"color\": \"white\", \"size\": 8}, \"type\": \"scatter\", \"x\": [0.2714285714285714, 0.3857142857142857, 0.35714285714285715, 0.35714285714285715, 0.3, 0.3857142857142857, 0.12857142857142856, 0.22857142857142856, 0.14285714285714285, 0.19999999999999998, 0.24285714285714285, 0.14285714285714285, 0.21428571428571427, 0.17142857142857143, 0.17142857142857143, 0.15714285714285714, 0.14285714285714285, 0.22857142857142856], \"y\": [0.10949412802991677, 0.14641446989490625, 0.14024726353169492, 0.13380871938671557, 0.11580316916900904, 0.14460922506230375, 0.05078885532190528, 0.09528890884384927, 0.0639170711059892, 0.06399141712978823, 0.09737638306052548, 0.038347348350433144, 0.0832073762124447, 0.07144966821639552, 0.07360376426038016, 0.07000480184636959, 0.061602022124297086, 0.09865282466861636]}],\n",
       "                        {\"hovermode\": \"closest\", \"paper_bgcolor\": \"white\", \"plot_bgcolor\": \"white\", \"template\": {\"data\": {\"bar\": [{\"error_x\": {\"color\": \"#2a3f5f\"}, \"error_y\": {\"color\": \"#2a3f5f\"}, \"marker\": {\"line\": {\"color\": \"#E5ECF6\", \"width\": 0.5}}, \"type\": \"bar\"}], \"barpolar\": [{\"marker\": {\"line\": {\"color\": \"#E5ECF6\", \"width\": 0.5}}, \"type\": \"barpolar\"}], \"carpet\": [{\"aaxis\": {\"endlinecolor\": \"#2a3f5f\", \"gridcolor\": \"white\", \"linecolor\": \"white\", \"minorgridcolor\": \"white\", \"startlinecolor\": \"#2a3f5f\"}, \"baxis\": {\"endlinecolor\": \"#2a3f5f\", \"gridcolor\": \"white\", \"linecolor\": \"white\", \"minorgridcolor\": \"white\", \"startlinecolor\": \"#2a3f5f\"}, \"type\": \"carpet\"}], \"choropleth\": [{\"colorbar\": {\"outlinewidth\": 0, \"ticks\": \"\"}, \"type\": \"choropleth\"}], \"contour\": [{\"colorbar\": {\"outlinewidth\": 0, \"ticks\": \"\"}, \"colorscale\": [[0.0, \"#0d0887\"], [0.1111111111111111, \"#46039f\"], [0.2222222222222222, \"#7201a8\"], [0.3333333333333333, \"#9c179e\"], [0.4444444444444444, \"#bd3786\"], [0.5555555555555556, \"#d8576b\"], [0.6666666666666666, \"#ed7953\"], [0.7777777777777778, \"#fb9f3a\"], [0.8888888888888888, \"#fdca26\"], [1.0, \"#f0f921\"]], \"type\": \"contour\"}], \"contourcarpet\": [{\"colorbar\": {\"outlinewidth\": 0, \"ticks\": \"\"}, \"type\": \"contourcarpet\"}], \"heatmap\": [{\"colorbar\": {\"outlinewidth\": 0, \"ticks\": \"\"}, \"colorscale\": [[0.0, \"#0d0887\"], [0.1111111111111111, \"#46039f\"], [0.2222222222222222, \"#7201a8\"], [0.3333333333333333, \"#9c179e\"], [0.4444444444444444, \"#bd3786\"], [0.5555555555555556, \"#d8576b\"], [0.6666666666666666, \"#ed7953\"], [0.7777777777777778, \"#fb9f3a\"], [0.8888888888888888, \"#fdca26\"], [1.0, \"#f0f921\"]], \"type\": \"heatmap\"}], \"heatmapgl\": [{\"colorbar\": {\"outlinewidth\": 0, \"ticks\": \"\"}, \"colorscale\": [[0.0, \"#0d0887\"], [0.1111111111111111, \"#46039f\"], [0.2222222222222222, \"#7201a8\"], [0.3333333333333333, \"#9c179e\"], [0.4444444444444444, \"#bd3786\"], [0.5555555555555556, \"#d8576b\"], [0.6666666666666666, \"#ed7953\"], [0.7777777777777778, \"#fb9f3a\"], [0.8888888888888888, \"#fdca26\"], [1.0, \"#f0f921\"]], \"type\": \"heatmapgl\"}], \"histogram\": [{\"marker\": {\"colorbar\": {\"outlinewidth\": 0, \"ticks\": \"\"}}, \"type\": \"histogram\"}], \"histogram2d\": [{\"colorbar\": {\"outlinewidth\": 0, \"ticks\": \"\"}, \"colorscale\": [[0.0, \"#0d0887\"], [0.1111111111111111, \"#46039f\"], [0.2222222222222222, \"#7201a8\"], [0.3333333333333333, \"#9c179e\"], [0.4444444444444444, \"#bd3786\"], [0.5555555555555556, \"#d8576b\"], [0.6666666666666666, \"#ed7953\"], [0.7777777777777778, \"#fb9f3a\"], [0.8888888888888888, \"#fdca26\"], [1.0, \"#f0f921\"]], \"type\": \"histogram2d\"}], \"histogram2dcontour\": [{\"colorbar\": {\"outlinewidth\": 0, \"ticks\": \"\"}, \"colorscale\": [[0.0, \"#0d0887\"], [0.1111111111111111, \"#46039f\"], [0.2222222222222222, \"#7201a8\"], [0.3333333333333333, \"#9c179e\"], [0.4444444444444444, \"#bd3786\"], [0.5555555555555556, \"#d8576b\"], [0.6666666666666666, \"#ed7953\"], [0.7777777777777778, \"#fb9f3a\"], [0.8888888888888888, \"#fdca26\"], [1.0, \"#f0f921\"]], \"type\": \"histogram2dcontour\"}], \"mesh3d\": [{\"colorbar\": {\"outlinewidth\": 0, \"ticks\": \"\"}, \"type\": \"mesh3d\"}], \"parcoords\": [{\"line\": {\"colorbar\": {\"outlinewidth\": 0, \"ticks\": \"\"}}, \"type\": \"parcoords\"}], \"pie\": [{\"automargin\": true, \"type\": \"pie\"}], \"scatter\": [{\"marker\": {\"colorbar\": {\"outlinewidth\": 0, \"ticks\": \"\"}}, \"type\": \"scatter\"}], \"scatter3d\": [{\"line\": {\"colorbar\": {\"outlinewidth\": 0, \"ticks\": \"\"}}, \"marker\": {\"colorbar\": {\"outlinewidth\": 0, \"ticks\": \"\"}}, \"type\": \"scatter3d\"}], \"scattercarpet\": [{\"marker\": {\"colorbar\": {\"outlinewidth\": 0, \"ticks\": \"\"}}, \"type\": \"scattercarpet\"}], \"scattergeo\": [{\"marker\": {\"colorbar\": {\"outlinewidth\": 0, \"ticks\": \"\"}}, \"type\": \"scattergeo\"}], \"scattergl\": [{\"marker\": {\"colorbar\": {\"outlinewidth\": 0, \"ticks\": \"\"}}, \"type\": \"scattergl\"}], \"scattermapbox\": [{\"marker\": {\"colorbar\": {\"outlinewidth\": 0, \"ticks\": \"\"}}, \"type\": \"scattermapbox\"}], \"scatterpolar\": [{\"marker\": {\"colorbar\": {\"outlinewidth\": 0, \"ticks\": \"\"}}, \"type\": \"scatterpolar\"}], \"scatterpolargl\": [{\"marker\": {\"colorbar\": {\"outlinewidth\": 0, \"ticks\": \"\"}}, \"type\": \"scatterpolargl\"}], \"scatterternary\": [{\"marker\": {\"colorbar\": {\"outlinewidth\": 0, \"ticks\": \"\"}}, \"type\": \"scatterternary\"}], \"surface\": [{\"colorbar\": {\"outlinewidth\": 0, \"ticks\": \"\"}, \"colorscale\": [[0.0, \"#0d0887\"], [0.1111111111111111, \"#46039f\"], [0.2222222222222222, \"#7201a8\"], [0.3333333333333333, \"#9c179e\"], [0.4444444444444444, \"#bd3786\"], [0.5555555555555556, \"#d8576b\"], [0.6666666666666666, \"#ed7953\"], [0.7777777777777778, \"#fb9f3a\"], [0.8888888888888888, \"#fdca26\"], [1.0, \"#f0f921\"]], \"type\": \"surface\"}], \"table\": [{\"cells\": {\"fill\": {\"color\": \"#EBF0F8\"}, \"line\": {\"color\": \"white\"}}, \"header\": {\"fill\": {\"color\": \"#C8D4E3\"}, \"line\": {\"color\": \"white\"}}, \"type\": \"table\"}]}, \"layout\": {\"annotationdefaults\": {\"arrowcolor\": \"#2a3f5f\", \"arrowhead\": 0, \"arrowwidth\": 1}, \"coloraxis\": {\"colorbar\": {\"outlinewidth\": 0, \"ticks\": \"\"}}, \"colorscale\": {\"diverging\": [[0, \"#8e0152\"], [0.1, \"#c51b7d\"], [0.2, \"#de77ae\"], [0.3, \"#f1b6da\"], [0.4, \"#fde0ef\"], [0.5, \"#f7f7f7\"], [0.6, \"#e6f5d0\"], [0.7, \"#b8e186\"], [0.8, \"#7fbc41\"], [0.9, \"#4d9221\"], [1, \"#276419\"]], \"sequential\": [[0.0, \"#0d0887\"], [0.1111111111111111, \"#46039f\"], [0.2222222222222222, \"#7201a8\"], [0.3333333333333333, \"#9c179e\"], [0.4444444444444444, \"#bd3786\"], [0.5555555555555556, \"#d8576b\"], [0.6666666666666666, \"#ed7953\"], [0.7777777777777778, \"#fb9f3a\"], [0.8888888888888888, \"#fdca26\"], [1.0, \"#f0f921\"]], \"sequentialminus\": [[0.0, \"#0d0887\"], [0.1111111111111111, \"#46039f\"], [0.2222222222222222, \"#7201a8\"], [0.3333333333333333, \"#9c179e\"], [0.4444444444444444, \"#bd3786\"], [0.5555555555555556, \"#d8576b\"], [0.6666666666666666, \"#ed7953\"], [0.7777777777777778, \"#fb9f3a\"], [0.8888888888888888, \"#fdca26\"], [1.0, \"#f0f921\"]]}, \"colorway\": [\"#636efa\", \"#EF553B\", \"#00cc96\", \"#ab63fa\", \"#FFA15A\", \"#19d3f3\", \"#FF6692\", \"#B6E880\", \"#FF97FF\", \"#FECB52\"], \"font\": {\"color\": \"#2a3f5f\"}, \"geo\": {\"bgcolor\": \"white\", \"lakecolor\": \"white\", \"landcolor\": \"#E5ECF6\", \"showlakes\": true, \"showland\": true, \"subunitcolor\": \"white\"}, \"hoverlabel\": {\"align\": \"left\"}, \"hovermode\": \"closest\", \"mapbox\": {\"style\": \"light\"}, \"paper_bgcolor\": \"white\", \"plot_bgcolor\": \"#E5ECF6\", \"polar\": {\"angularaxis\": {\"gridcolor\": \"white\", \"linecolor\": \"white\", \"ticks\": \"\"}, \"bgcolor\": \"#E5ECF6\", \"radialaxis\": {\"gridcolor\": \"white\", \"linecolor\": \"white\", \"ticks\": \"\"}}, \"scene\": {\"xaxis\": {\"backgroundcolor\": \"#E5ECF6\", \"gridcolor\": \"white\", \"gridwidth\": 2, \"linecolor\": \"white\", \"showbackground\": true, \"ticks\": \"\", \"zerolinecolor\": \"white\"}, \"yaxis\": {\"backgroundcolor\": \"#E5ECF6\", \"gridcolor\": \"white\", \"gridwidth\": 2, \"linecolor\": \"white\", \"showbackground\": true, \"ticks\": \"\", \"zerolinecolor\": \"white\"}, \"zaxis\": {\"backgroundcolor\": \"#E5ECF6\", \"gridcolor\": \"white\", \"gridwidth\": 2, \"linecolor\": \"white\", \"showbackground\": true, \"ticks\": \"\", \"zerolinecolor\": \"white\"}}, \"shapedefaults\": {\"line\": {\"color\": \"#2a3f5f\"}}, \"ternary\": {\"aaxis\": {\"gridcolor\": \"white\", \"linecolor\": \"white\", \"ticks\": \"\"}, \"baxis\": {\"gridcolor\": \"white\", \"linecolor\": \"white\", \"ticks\": \"\"}, \"bgcolor\": \"#E5ECF6\", \"caxis\": {\"gridcolor\": \"white\", \"linecolor\": \"white\", \"ticks\": \"\"}}, \"title\": {\"x\": 0.05}, \"xaxis\": {\"automargin\": true, \"gridcolor\": \"white\", \"linecolor\": \"white\", \"ticks\": \"\", \"title\": {\"standoff\": 15}, \"zerolinecolor\": \"white\", \"zerolinewidth\": 2}, \"yaxis\": {\"automargin\": true, \"gridcolor\": \"white\", \"linecolor\": \"white\", \"ticks\": \"\", \"title\": {\"standoff\": 15}, \"zerolinecolor\": \"white\", \"zerolinewidth\": 2}}}, \"title\": {\"text\": \"Work Network - Centrality by Gender\"}, \"xaxis\": {\"gridcolor\": \"grey\", \"gridwidth\": 1, \"showgrid\": true, \"title\": {\"text\": \"Degree Centrality\"}}, \"yaxis\": {\"gridcolor\": \"grey\", \"gridwidth\": 1, \"showgrid\": true, \"title\": {\"text\": \"Eigenvector Centrality\"}}},\n",
       "                        {\"responsive\": true}\n",
       "                    ).then(function(){\n",
       "                            \n",
       "var gd = document.getElementById('e2abb5ec-7b1b-4687-9a1b-4fbd2faadc62');\n",
       "var x = new MutationObserver(function (mutations, observer) {{\n",
       "        var display = window.getComputedStyle(gd).display;\n",
       "        if (!display || display === 'none') {{\n",
       "            console.log([gd, 'removed!']);\n",
       "            Plotly.purge(gd);\n",
       "            observer.disconnect();\n",
       "        }}\n",
       "}});\n",
       "\n",
       "// Listen for the removal of the full notebook cells\n",
       "var notebookContainer = gd.closest('#notebook-container');\n",
       "if (notebookContainer) {{\n",
       "    x.observe(notebookContainer, {childList: true});\n",
       "}}\n",
       "\n",
       "// Listen for the clearing of the current output cell\n",
       "var outputEl = gd.closest('.output');\n",
       "if (outputEl) {{\n",
       "    x.observe(outputEl, {childList: true});\n",
       "}}\n",
       "\n",
       "                        })\n",
       "                };\n",
       "                });\n",
       "            </script>\n",
       "        </div>"
      ]
     },
     "metadata": {},
     "output_type": "display_data"
    }
   ],
   "source": [
    "fig = go.Figure()\n",
    "fig.add_trace(go.Scatter(\n",
    "    x=work_df[work_df['gender']==1]['deg_centrality'],\n",
    "    y=work_df[work_df['gender']==1]['eig_centrality'],\n",
    "    text=work_df[work_df['gender']==1]['id'],\n",
    "    hoverinfo='text',\n",
    "    mode='markers+text',\n",
    "    name='Male',\n",
    "    textfont_size=8,\n",
    "    textfont_color='black',\n",
    "    marker=dict(size=14, \n",
    "                color='lightsalmon',\n",
    "                symbol='circle')))\n",
    "\n",
    "fig.add_trace(go.Scatter(\n",
    "    x = work_df[work_df['gender']==2]['deg_centrality'],\n",
    "    y = work_df[work_df['gender']==2]['eig_centrality'],\n",
    "    text=work_df[work_df['gender']==2]['id'],\n",
    "    mode='markers+text',\n",
    "    name = 'Female',\n",
    "    textfont_size=8,\n",
    "    textfont_color='white',\n",
    "    marker=dict(size=14, \n",
    "                color='purple', \n",
    "                symbol='circle')))\n",
    "    \n",
    "\n",
    "fig.update_layout(go.Layout(\n",
    "    title='Work Network - Centrality by Gender',\n",
    "    xaxis=dict(\n",
    "        title='Degree Centrality'\n",
    "    ),\n",
    "    yaxis=dict(\n",
    "        title='Eigenvector Centrality'\n",
    "    ),\n",
    "    hovermode='closest',\n",
    "    plot_bgcolor='white',\n",
    "    paper_bgcolor='white',\n",
    "))\n",
    "fig.update_xaxes(showgrid=True, gridwidth=1, gridcolor='grey')\n",
    "fig.update_yaxes(showgrid=True, gridwidth=1, gridcolor='grey')\n"
   ]
  },
  {
   "cell_type": "markdown",
   "metadata": {},
   "source": [
    "Pearson's Correlation Coefficient between centrality types"
   ]
  },
  {
   "cell_type": "code",
   "execution_count": 25,
   "metadata": {
    "ExecuteTime": {
     "end_time": "2020-06-20T13:01:14.644672Z",
     "start_time": "2020-06-20T13:01:14.638283Z"
    }
   },
   "outputs": [
    {
     "name": "stdout",
     "output_type": "stream",
     "text": [
      "Correlation: 0.9735408365754672\n"
     ]
    }
   ],
   "source": [
    "print(\"Correlation:\", np.corrcoef(work_df[work_df['gender']==1]['deg_centrality'],\n",
    "                                  work_df[work_df['gender']==1]['eig_centrality'])[0][1])"
   ]
  },
  {
   "cell_type": "markdown",
   "metadata": {},
   "source": [
    "Once again we can see stronger correlation than in the social network and strong separation between the top nodes (25, 23) and the rest. It is interesting to note that node 12 features higher in the social and advice network than in the work network. "
   ]
  },
  {
   "cell_type": "markdown",
   "metadata": {},
   "source": [
    "#### Get Mean and Variance for Co-Worker Network Eigenvector Centrality by Gender"
   ]
  },
  {
   "cell_type": "code",
   "execution_count": 26,
   "metadata": {
    "ExecuteTime": {
     "end_time": "2020-06-20T13:01:14.658131Z",
     "start_time": "2020-06-20T13:01:14.646690Z"
    }
   },
   "outputs": [
    {
     "name": "stdout",
     "output_type": "stream",
     "text": [
      "Work Network Eigenvector Centrality Statistics\n",
      "Male mean: 0.116\n",
      "Female mean: 0.092\n",
      "Male variance: 0.0021\n",
      "Female variance: 0.0011\n"
     ]
    }
   ],
   "source": [
    "print('Work Network Eigenvector Centrality Statistics')\n",
    "print('Male mean: {}'.format(round(np.mean(work_df[work_df['gender']==1]['eig_centrality']),3)))\n",
    "print('Female mean: {}'.format(round(np.mean(work_df[work_df['gender']==2]['eig_centrality']),3)))\n",
    "print('Male variance: {}'.format(round(np.var(work_df[work_df['gender']==1]['eig_centrality']),4)))\n",
    "print('Female variance: {}'.format(round(np.var(work_df[work_df['gender']==2]['eig_centrality']),4)))"
   ]
  },
  {
   "cell_type": "markdown",
   "metadata": {},
   "source": [
    "#### T-Test for Differences in Co-Worker Eigenvector Centrality - Gender  \n",
    "\n",
    "Test if there is a statistically significant difference between distributions co-worker eigenvector centralities for males and females using an unpaired t-test. "
   ]
  },
  {
   "cell_type": "code",
   "execution_count": 27,
   "metadata": {
    "ExecuteTime": {
     "end_time": "2020-06-20T13:01:14.666650Z",
     "start_time": "2020-06-20T13:01:14.659787Z"
    }
   },
   "outputs": [
    {
     "name": "stdout",
     "output_type": "stream",
     "text": [
      "p-value for t-test comparing distributions of work eigenvector centralities for males and females: 0.024\n"
     ]
    }
   ],
   "source": [
    "work_ttest = stats.ttest_ind(work_df[work_df['gender']==1]['eig_centrality'],\n",
    "                               work_df[work_df['gender']==2]['eig_centrality'], \n",
    "                               equal_var = False)\n",
    "print('p-value for t-test comparing distributions of work eigenvector centralities for males and females: {}'.format(round(work_ttest[1],3)))"
   ]
  },
  {
   "cell_type": "markdown",
   "metadata": {},
   "source": [
    "There is a statistically significant difference between mean co-worker eigenvector centralities for males and females (p-value = 0.024). "
   ]
  },
  {
   "cell_type": "markdown",
   "metadata": {},
   "source": [
    "### Conclusion:\n",
    "    \n",
    "#### Eigenvector Centrality vs. Degree Centrality\n",
    "\n",
    "Generally, we see strong positive correlation between eigenvector centrality and degree centrality, indicating that irrespective of the network, lawyers are connected to other lawyers who have similar reach. However, the social network showed up as less correlated than the other two, since social interactions are a little more organic than advice networks and co-work networks.\n",
    "\n",
    "#### Males vs Females\n",
    "\n",
    "On average males have a stronger social, advice and co-work network. This could also be informed by the fact that males outnumber women 3 to 1. Among males, ids 23 and 25 feature strongly in all three networks. Id 12 seems to be less significant in the co-work network than in other networks perhaps due to shorter tenure. Among women, ids 28, 37 and 38 were influential in all three networks.\n",
    "\n",
    "We should also note that t-tests for distributions of eigenvector centralities between males and females showed statistical significance in the advice and work networks, but not in the social network, leading us to believe that there is more parity among males and females in the social network.\n",
    "\n",
    "#### Partners vs Associates\n",
    "\n",
    "Partners showed up as more central than associates in all networks, with the exception of id 40, who is a male. He showed up as prominent in the social and advice networks. We also have id 64 who showed up as central in the social network.\n",
    "\n"
   ]
  },
  {
   "cell_type": "code",
   "execution_count": 28,
   "metadata": {
    "ExecuteTime": {
     "end_time": "2020-06-20T13:01:14.670882Z",
     "start_time": "2020-06-20T13:01:14.668628Z"
    }
   },
   "outputs": [],
   "source": [
    "# nx.write_gml(G_work, 'G_work.gml')\n",
    "# nx.write_gml(G_social, 'G_social.gml')\n",
    "# nx.write_gml(G_advice, 'G_advice.gml')"
   ]
  }
 ],
 "metadata": {
  "kernelspec": {
   "display_name": "Python 3.7.4 64-bit ('base': conda)",
   "language": "python",
   "name": "python37464bitbaseconda0f2540ca00c14c548fd578f4a6b1a719"
  },
  "language_info": {
   "codemirror_mode": {
    "name": "ipython",
    "version": 3
   },
   "file_extension": ".py",
   "mimetype": "text/x-python",
   "name": "python",
   "nbconvert_exporter": "python",
   "pygments_lexer": "ipython3",
   "version": "3.7.6"
  },
  "toc": {
   "base_numbering": 1,
   "nav_menu": {},
   "number_sections": true,
   "sideBar": true,
   "skip_h1_title": false,
   "title_cell": "Table of Contents",
   "title_sidebar": "Contents",
   "toc_cell": false,
   "toc_position": {},
   "toc_section_display": true,
   "toc_window_display": true
  }
 },
 "nbformat": 4,
 "nbformat_minor": 2
}
