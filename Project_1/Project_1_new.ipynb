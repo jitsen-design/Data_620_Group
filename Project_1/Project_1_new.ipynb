{
 "cells": [
  {
   "cell_type": "markdown",
   "metadata": {},
   "source": [
    "## Data 620 Project 1\n",
    "### Centrality Measures Across Categorical Groups\n",
    "\n",
    "Jit Seneviratne and Sheryl Piechocki\n",
    "June 17, 2020\n",
    "\n",
    "**Dataset** \n",
    "The data used in this project is from SG&R law firm, a U.S. corporate law firm in New England. It contains network measurements for 71 attorneys from 1988-1991. There are three types of relationships measured, i.e. co-worker, advice, and social. Attorneys are classified as partners or associates and the data contains gender classification.\n",
    "\n",
    "**Co-worker Network** \n",
    "Attorneys were asked to go through a list of names and mark off those that they had worked with in the last year, either working on the same case or reading/using some of each other's work product.\n",
    "\n",
    "**Advice Network** \n",
    "Attorneys were asked to go through a list of names and mark off those that they had gone to for professional advice in the last year.\n",
    "\n",
    "**Social Network**\n",
    "Attorneys were asked to go through a list of names and mark off those that they had socialized with outside of work.\n",
    "\n",
    "Source: http://moreno.ss.uci.edu/data.html#lazega\n",
    "\n",
    "**Analysis** \n",
    "The network data file contains 3 71x71 matrices, one for each network type. A separate file of a 71 x 7 matrix, contains the gender role for the attorney (among other attributes). These datasets will be loaded for analysis.\n",
    "\n",
    "Degree centrality and eigenvector centrality will be calculated for the nodes in each of the network types. These centrality measures will then be compared by gender. Hypothesis testing will be performed to determine if there are statistically significant differences in centrality measures by gender.\n"
   ]
  },
  {
   "cell_type": "markdown",
   "metadata": {},
   "source": [
    "### Degree Centrality vs Eigenvector Centrality\n",
    "\n",
    "Degree centrality is simply the normalized number of degrees for each node. Nodes with a higher number of degrees are of more importance to the network. Eigenvector centrality assigns scores to each connection, where connections to other well connected nodes are valued higher than to low-connected nodes.\n",
    "\n",
    "#### Why is eigenvector centrality important?\n",
    "\n",
    "It creates a level playing field among those who have lots of connections and those who have meaningful connections. For example, if someone has five connections, each of whom have ten connections, that's could be more valuable than having ten connections, each of whom in turn have just three connections.\n",
    "\n",
    "#### Our approach\n",
    "\n",
    "For the purpose of clarity, we will be looking at eigenvector centrality across gender and role (partner or associate). For simplicity, this network uses gender as opposed to sex, even though in reality sex would be the more accurate an would incorporate more identities than the gender binary.\n",
    "\n"
   ]
  },
  {
   "cell_type": "code",
   "execution_count": 1,
   "metadata": {
    "ExecuteTime": {
     "end_time": "2020-06-20T02:17:48.892553Z",
     "start_time": "2020-06-20T02:17:47.533809Z"
    }
   },
   "outputs": [
    {
     "ename": "ModuleNotFoundError",
     "evalue": "No module named 'seaborn'",
     "output_type": "error",
     "traceback": [
      "\u001b[0;31m---------------------------------------------------------------------------\u001b[0m",
      "\u001b[0;31mModuleNotFoundError\u001b[0m                       Traceback (most recent call last)",
      "\u001b[0;32m<ipython-input-1-a88ed8bb88b5>\u001b[0m in \u001b[0;36m<module>\u001b[0;34m\u001b[0m\n\u001b[1;32m      4\u001b[0m \u001b[0;32mimport\u001b[0m \u001b[0mnumpy\u001b[0m \u001b[0;32mas\u001b[0m \u001b[0mnp\u001b[0m\u001b[0;34m\u001b[0m\u001b[0;34m\u001b[0m\u001b[0m\n\u001b[1;32m      5\u001b[0m \u001b[0;32mimport\u001b[0m \u001b[0mmatplotlib\u001b[0m\u001b[0;34m.\u001b[0m\u001b[0mpyplot\u001b[0m \u001b[0;32mas\u001b[0m \u001b[0mplt\u001b[0m\u001b[0;34m\u001b[0m\u001b[0;34m\u001b[0m\u001b[0m\n\u001b[0;32m----> 6\u001b[0;31m \u001b[0;32mimport\u001b[0m \u001b[0mseaborn\u001b[0m \u001b[0;32mas\u001b[0m \u001b[0msns\u001b[0m\u001b[0;34m\u001b[0m\u001b[0;34m\u001b[0m\u001b[0m\n\u001b[0m\u001b[1;32m      7\u001b[0m \u001b[0;32mimport\u001b[0m \u001b[0mplotly\u001b[0m\u001b[0;34m.\u001b[0m\u001b[0mgraph_objs\u001b[0m \u001b[0;32mas\u001b[0m \u001b[0mgo\u001b[0m\u001b[0;34m\u001b[0m\u001b[0;34m\u001b[0m\u001b[0m\n\u001b[1;32m      8\u001b[0m \u001b[0;32mfrom\u001b[0m \u001b[0mplotly\u001b[0m\u001b[0;34m.\u001b[0m\u001b[0moffline\u001b[0m \u001b[0;32mimport\u001b[0m \u001b[0minit_notebook_mode\u001b[0m\u001b[0;34m,\u001b[0m \u001b[0mplot\u001b[0m\u001b[0;34m,\u001b[0m \u001b[0miplot\u001b[0m\u001b[0;34m\u001b[0m\u001b[0;34m\u001b[0m\u001b[0m\n",
      "\u001b[0;31mModuleNotFoundError\u001b[0m: No module named 'seaborn'"
     ]
    }
   ],
   "source": [
    "import json\n",
    "import networkx as nx\n",
    "import pandas as pd\n",
    "import numpy as np\n",
    "import matplotlib.pyplot as plt\n",
    "import seaborn as sns\n",
    "import plotly.graph_objs as go \n",
    "from plotly.offline import init_notebook_mode, plot, iplot\n",
    "init_notebook_mode(connected=True)\n",
    "from scipy import stats"
   ]
  },
  {
   "cell_type": "markdown",
   "metadata": {},
   "source": [
    "### Read in data and map attributes to individuals"
   ]
  },
  {
   "cell_type": "code",
   "execution_count": null,
   "metadata": {
    "ExecuteTime": {
     "end_time": "2020-06-20T02:17:48.897566Z",
     "start_time": "2020-06-20T02:17:47.535Z"
    }
   },
   "outputs": [],
   "source": [
    "df_rel = pd.read_table(\"http://moreno.ss.uci.edu/lazega.dat\",\n",
    "                   skiprows=7) # Get relationship data\n",
    "df_map = pd.read_table(\"http://moreno.ss.uci.edu/lazatt.dat\")\n",
    "df_cols = df_map[3:10] # dataframe with column labels\n",
    "df_vals = df_map[11:] # dataframe with column mapping values\n",
    "df_rel['DATA:'] = df_rel['DATA:'].apply(lambda x: x.split())\n",
    "df_rel = df_rel['DATA:'].apply(pd.Series)\n",
    "df_vals['DL'] = df_vals['DL'].apply(lambda x: x.split())\n",
    "df_vals = df_vals['DL'].apply(pd.Series)\n",
    "df_vals.columns = ['INDEX'] + df_cols['DL'].tolist() "
   ]
  },
  {
   "cell_type": "code",
   "execution_count": null,
   "metadata": {
    "ExecuteTime": {
     "end_time": "2020-06-20T02:17:48.898757Z",
     "start_time": "2020-06-20T02:17:47.541Z"
    }
   },
   "outputs": [],
   "source": [
    "df_vals.head()"
   ]
  },
  {
   "cell_type": "markdown",
   "metadata": {},
   "source": [
    "### EDA on Columns of Interest"
   ]
  },
  {
   "cell_type": "code",
   "execution_count": null,
   "metadata": {
    "ExecuteTime": {
     "end_time": "2020-06-20T02:17:48.900068Z",
     "start_time": "2020-06-20T02:17:47.547Z"
    }
   },
   "outputs": [],
   "source": [
    "for col in ['STATUS','GENDER']:\n",
    "    print(df_vals[col].value_counts(1))"
   ]
  },
  {
   "cell_type": "markdown",
   "metadata": {},
   "source": [
    "We can see that males outnumber females 3 to 1. This could have an effect on networking"
   ]
  },
  {
   "cell_type": "markdown",
   "metadata": {},
   "source": [
    "### Build mapping dictionaries for gender and status"
   ]
  },
  {
   "cell_type": "code",
   "execution_count": null,
   "metadata": {
    "ExecuteTime": {
     "end_time": "2020-06-20T02:17:48.901583Z",
     "start_time": "2020-06-20T02:17:47.553Z"
    }
   },
   "outputs": [],
   "source": [
    "gender_dict = {int(k)-1:int(v) for k,v in zip(df_vals['INDEX'],df_vals['GENDER'])}\n",
    "status_dict = {int(k)-1:int(v) for k,v in zip(df_vals['INDEX'],df_vals['STATUS'])}"
   ]
  },
  {
   "cell_type": "markdown",
   "metadata": {},
   "source": [
    "### Look at Social Network\n",
    "\n",
    "#### Build social network graph"
   ]
  },
  {
   "cell_type": "code",
   "execution_count": null,
   "metadata": {
    "ExecuteTime": {
     "end_time": "2020-06-20T02:17:48.903055Z",
     "start_time": "2020-06-20T02:17:47.557Z"
    }
   },
   "outputs": [],
   "source": [
    "df_social = df_rel[71:142].astype(int).reset_index(drop=True)\n",
    "\n",
    "G_social=nx.from_pandas_adjacency(df_social)\n",
    "for node in list(G_social.nodes):\n",
    "    G_social.nodes[node]['gender'] = gender_dict[node]\n",
    "    G_social.nodes[node]['status'] = status_dict[node]"
   ]
  },
  {
   "cell_type": "markdown",
   "metadata": {},
   "source": [
    "#### Get centrality\n",
    "Degree centrality and eigenvector centrality is calculated for each node"
   ]
  },
  {
   "cell_type": "code",
   "execution_count": null,
   "metadata": {
    "ExecuteTime": {
     "end_time": "2020-06-20T02:17:48.904481Z",
     "start_time": "2020-06-20T02:17:47.562Z"
    }
   },
   "outputs": [],
   "source": [
    "social_eig_centrality = nx.eigenvector_centrality(G_social, max_iter=1000)\n",
    "social_deg_centrality = nx.degree_centrality(G_social)"
   ]
  },
  {
   "cell_type": "code",
   "execution_count": null,
   "metadata": {
    "ExecuteTime": {
     "end_time": "2020-06-20T02:17:48.905654Z",
     "start_time": "2020-06-20T02:17:47.567Z"
    }
   },
   "outputs": [],
   "source": [
    "social_df = pd.DataFrame(np.array([list(social_eig_centrality.values()),\n",
    "                                   list(social_deg_centrality.values()),\n",
    "                                   list(social_deg_centrality.keys())]).T,\n",
    "                          columns = ['eig_centrality', 'deg_centrality','id'])\n",
    "\n",
    "social_df['gender'] = social_df['id'].map(gender_dict)\n",
    "social_df['status'] = social_df['id'].map(status_dict)\n",
    "\n",
    "print('Eigenvector Centrality')\n",
    "print('----------------------')\n",
    "for filter_ in ['gender','status']:\n",
    "    for value in [1,2]:\n",
    "        print(filter_.title(),value)\n",
    "        print(social_df[social_df[filter_]==value].sort_values(by=['eig_centrality',\n",
    "                                                             'deg_centrality'],\n",
    "                                                         ascending=False).head(5))\n",
    "        print('\\n')\n",
    "print('Degree Centrality - All')\n",
    "print('----------------------')\n",
    "print(social_df.sort_values(by=['deg_centrality',\n",
    "                               'eig_centrality'],\n",
    "                            ascending=False).head(5))\n",
    "print('\\n')"
   ]
  },
  {
   "cell_type": "markdown",
   "metadata": {},
   "source": [
    "In the social network, the top 5 males with the highest eigenvector centrality are 23, 25, 12, 16, and 3.  Four of these top 5 have status as a partner in the law firm.  The top 5 females with the highest eigenvector centrality are 26, 42, 37, 28, and 38.  Note that the values for the top females are lower than those of the top 5 males, and could be informed by the disparity in number of males vs females in the firm.\n",
    "\n",
    "Looking at degree centrality for all nodes, we see some familiar individuals.  16, 23, 12, and 25 were also in the top 5 males of eigenvector centrality.  Node 30 has the highest degree centrality, but is not in the top for eigenvector centrality.  Looking back at the visualization we see that node 30 is also male."
   ]
  },
  {
   "cell_type": "markdown",
   "metadata": {},
   "source": [
    "#### Visualize Social Network\n",
    "The visualization of the social network by gender is below.  We see there are two individuals that are not connected to the rest of the network, one male and one female.  Also, there are more males than females and by looking at the size of the node, we see that males have higher degrees than females."
   ]
  },
  {
   "cell_type": "markdown",
   "metadata": {},
   "source": [
    "##### Social Network - by Gender\n",
    "\n",
    "Orange is male, purple is female. Size indicates degree.\n",
    "\n",
    "![title](graphics/social_gender_a.png)"
   ]
  },
  {
   "cell_type": "markdown",
   "metadata": {},
   "source": [
    "The visualization of the social network by status is below.  We see the two individuals that are not connected to the rest of the network are associates.  Looking at the size of the node, it appears that partners have higher degrees than associates. We have one unconnected male and one unconnected female."
   ]
  },
  {
   "cell_type": "markdown",
   "metadata": {},
   "source": [
    "##### Social Network - Status\n",
    "\n",
    "Brown is partner, green is associate. Size indicates degree\n",
    "\n",
    "![title](graphics/social_status_a.png)"
   ]
  },
  {
   "cell_type": "markdown",
   "metadata": {},
   "source": [
    "#### Scatter Plot of Social Network Eigenvector Centrality by Gender "
   ]
  },
  {
   "cell_type": "code",
   "execution_count": null,
   "metadata": {
    "ExecuteTime": {
     "end_time": "2020-06-20T02:17:48.906924Z",
     "start_time": "2020-06-20T02:17:47.575Z"
    }
   },
   "outputs": [],
   "source": [
    "fig = go.Figure()\n",
    "fig.add_trace(go.Scatter(\n",
    "    x=social_df[social_df['gender']==1]['deg_centrality'],\n",
    "    y=social_df[social_df['gender']==1]['eig_centrality'],\n",
    "    text=social_df[social_df['gender']==1]['id'],\n",
    "    hoverinfo='text',\n",
    "    mode='markers+text',\n",
    "    name='Male',\n",
    "    textfont_size=8,\n",
    "    textfont_color='black',\n",
    "    marker=dict(size=14, \n",
    "                color='lightsalmon',\n",
    "                symbol='circle')))\n",
    "\n",
    "fig.add_trace(go.Scatter(\n",
    "    x = social_df[social_df['gender']==2]['deg_centrality'],\n",
    "    y = social_df[social_df['gender']==2]['eig_centrality'],\n",
    "    text=social_df[social_df['gender']==2]['id'],\n",
    "    mode='markers+text',\n",
    "    name = 'Female',\n",
    "    textfont_size=8,\n",
    "    textfont_color='white',\n",
    "    marker=dict(size=14, \n",
    "                color='purple', \n",
    "                symbol='circle')))\n",
    "    \n",
    "\n",
    "fig.update_layout(go.Layout(\n",
    "    title='Social Network - Centrality by Gender',\n",
    "    xaxis=dict(\n",
    "        title='Degree Centrality'\n",
    "    ),\n",
    "    yaxis=dict(\n",
    "        title='Eigenvector Centrality'\n",
    "    ),\n",
    "    hovermode='closest',\n",
    "    plot_bgcolor='white',\n",
    "    paper_bgcolor='white',\n",
    "))\n",
    "fig.update_xaxes(showgrid=True, gridwidth=1, gridcolor='grey')\n",
    "fig.update_yaxes(showgrid=True, gridwidth=1, gridcolor='grey')"
   ]
  },
  {
   "cell_type": "markdown",
   "metadata": {},
   "source": [
    "Pearson's Correlation Coefficient between centrality types"
   ]
  },
  {
   "cell_type": "code",
   "execution_count": null,
   "metadata": {
    "ExecuteTime": {
     "end_time": "2020-06-20T02:17:48.908485Z",
     "start_time": "2020-06-20T02:17:47.579Z"
    }
   },
   "outputs": [],
   "source": [
    "print(\"Correlation:\", np.corrcoef(social_df[social_df['gender']==1]['deg_centrality'],\n",
    "                                  social_df[social_df['gender']==1]['eig_centrality'])[0][1])"
   ]
  },
  {
   "cell_type": "markdown",
   "metadata": {},
   "source": [
    "We see strong correlation between degree centrality and eigenvector centrality, meaning than influential nodes are generally connected to other influential nodes. The upper right quadrant feature mostly influential male partners."
   ]
  },
  {
   "cell_type": "markdown",
   "metadata": {},
   "source": [
    "#### Get Mean and Variance for Social Network Eigenvector Centrality by Gender"
   ]
  },
  {
   "cell_type": "code",
   "execution_count": null,
   "metadata": {
    "ExecuteTime": {
     "end_time": "2020-06-20T02:17:48.909997Z",
     "start_time": "2020-06-20T02:17:47.583Z"
    }
   },
   "outputs": [],
   "source": [
    "print('Social Network Eigenvector Centrality Statistics')\n",
    "print('Male mean: {}'.format(round(np.mean(social_df[social_df['gender']==1]['eig_centrality']),3)))\n",
    "print('Female mean: {}'.format(round(np.mean(social_df[social_df['gender']==2]['eig_centrality']),3)))\n",
    "print('Male variance: {}'.format(round(np.var(social_df[social_df['gender']==1]['eig_centrality']),4)))\n",
    "print('Female variance: {}'.format(round(np.var(social_df[social_df['gender']==2]['eig_centrality']),4)))"
   ]
  },
  {
   "cell_type": "markdown",
   "metadata": {},
   "source": [
    "#### T-Test for Differences in Social Network Eigenvector Centrality - Gender  \n",
    "\n",
    "Test if there is a statistically significant difference between mean social network eigenvector centralities for males and females using an unpaired t-test. "
   ]
  },
  {
   "cell_type": "code",
   "execution_count": null,
   "metadata": {
    "ExecuteTime": {
     "end_time": "2020-06-20T02:17:48.911538Z",
     "start_time": "2020-06-20T02:17:47.586Z"
    }
   },
   "outputs": [],
   "source": [
    "social_ttest = stats.ttest_ind(social_df[social_df['gender']==1]['eig_centrality'],\n",
    "                               social_df[social_df['gender']==2]['eig_centrality'], \n",
    "                               equal_var = False)\n",
    "print('p-value for t-test comparing mean social eigenvector centralities for males and females: {}'.format(round(social_ttest[1],3)))"
   ]
  },
  {
   "cell_type": "markdown",
   "metadata": {},
   "source": [
    "There is a not statistically significant difference between mean social eigenvector centralities for males and females (p-value = 0.251). "
   ]
  },
  {
   "cell_type": "code",
   "execution_count": null,
   "metadata": {
    "ExecuteTime": {
     "end_time": "2020-06-20T02:17:48.912823Z",
     "start_time": "2020-06-20T02:17:47.591Z"
    }
   },
   "outputs": [],
   "source": [
    "print(\"Number of Cliques:\",len(list(nx.find_cliques(G_social))))"
   ]
  },
  {
   "cell_type": "markdown",
   "metadata": {},
   "source": [
    "### Look at Advice Network\n",
    "\n",
    "#### Build advice network graph"
   ]
  },
  {
   "cell_type": "code",
   "execution_count": null,
   "metadata": {
    "ExecuteTime": {
     "end_time": "2020-06-20T02:17:48.915033Z",
     "start_time": "2020-06-20T02:17:47.595Z"
    }
   },
   "outputs": [],
   "source": [
    "df_advice = df_rel[0:71].astype(int).reset_index(drop=True)\n",
    "\n",
    "G_advice=nx.from_pandas_adjacency(df_advice)\n",
    "for node in list(G_advice.nodes):\n",
    "    G_advice.nodes[node]['gender'] = gender_dict[node]\n",
    "    G_advice.nodes[node]['status'] = status_dict[node]"
   ]
  },
  {
   "cell_type": "markdown",
   "metadata": {},
   "source": [
    "#### Get centrality\n",
    "Degree centrality and eigenvector centrality is calculated for each node"
   ]
  },
  {
   "cell_type": "code",
   "execution_count": null,
   "metadata": {
    "ExecuteTime": {
     "end_time": "2020-06-20T02:17:48.916889Z",
     "start_time": "2020-06-20T02:17:47.598Z"
    }
   },
   "outputs": [],
   "source": [
    "advice_eig_centrality = nx.eigenvector_centrality(G_advice, max_iter=1000)\n",
    "advice_deg_centrality = nx.degree_centrality(G_advice)"
   ]
  },
  {
   "cell_type": "code",
   "execution_count": null,
   "metadata": {
    "ExecuteTime": {
     "end_time": "2020-06-20T02:17:48.918607Z",
     "start_time": "2020-06-20T02:17:47.602Z"
    }
   },
   "outputs": [],
   "source": [
    "advice_df = pd.DataFrame(np.array([list(advice_eig_centrality.values()),\n",
    "                                   list(advice_deg_centrality.values()),\n",
    "                                   list(advice_deg_centrality.keys())]).T,\n",
    "                          columns = ['eig_centrality', 'deg_centrality','id'])\n",
    "\n",
    "advice_df['gender'] = advice_df['id'].map(gender_dict)\n",
    "advice_df['status'] = advice_df['id'].map(status_dict)\n",
    "\n",
    "print('Eigenvector Centrality')\n",
    "print('----------------------')\n",
    "for filter_ in ['gender','status']:\n",
    "    for value in [1,2]:\n",
    "        print(filter_.title(),value)\n",
    "        print(advice_df[advice_df[filter_]==value].sort_values(by=['eig_centrality',\n",
    "                                                             'deg_centrality'],\n",
    "                                                         ascending=False).head(5))\n",
    "        print('\\n')\n",
    "print('Degree Centrality - All')\n",
    "print('----------------------')\n",
    "print(advice_df.sort_values(by=['deg_centrality',\n",
    "                               'eig_centrality'],\n",
    "                            ascending=False).head(5))\n",
    "print('\\n')"
   ]
  },
  {
   "cell_type": "markdown",
   "metadata": {},
   "source": [
    "In the advice network, the top 5 males with the highest eigenvector centrality are 25, 12, 23, 40, and 15.  A few of these males were also in the top of the social network (25, 12, 23).  Again, four of these top 5 have status as a partner in the law firm.  The top 5 females with the highest eigenvector centrality are 26, 33, 38, 28, and 37.  Four of these were also in the top of the social network.  Again, the values for the top females are lower than those of the top 5 males.  \n",
    "\n",
    "Looking at degree centrality for all nodes, we see some familiar individuals.  The top 5 nodes are the exact same as the top 5 eigenvector centralities for males. It is also interesting to note that the male with id 40 is not a partner."
   ]
  },
  {
   "cell_type": "markdown",
   "metadata": {},
   "source": [
    "#### Visualize Advice Network\n",
    "The visualization of the advice network by gender is below.  Again, it appears the male nodes have higher degrees than the females.  Node 25, a male, has the highest degrees in the advice network.  Interestingly, node 30 that had the most degrees in the social network, is not very prominent in the advice network."
   ]
  },
  {
   "cell_type": "markdown",
   "metadata": {},
   "source": [
    "##### Advice Network - by Gender\n",
    "\n",
    "Orange is male, purple is female. Size indicates degree\n",
    "\n",
    "![title](graphics/advice_gender_a.png)"
   ]
  },
  {
   "cell_type": "markdown",
   "metadata": {},
   "source": [
    "The visualization of the advice network by status is below.  As we would expect, in general, partners appear to have higher degrees in the advice network than associates."
   ]
  },
  {
   "cell_type": "markdown",
   "metadata": {},
   "source": [
    "##### Advice Network - by Status\n",
    "\n",
    "Brown is partner, green is associate. Size indicates degree\n",
    "\n",
    "![title](graphics/advice_status_a.png)"
   ]
  },
  {
   "cell_type": "markdown",
   "metadata": {},
   "source": [
    "#### Scatter Plot of Advice Network Eigenvector Centrality by Gender "
   ]
  },
  {
   "cell_type": "code",
   "execution_count": null,
   "metadata": {
    "ExecuteTime": {
     "end_time": "2020-06-20T02:17:48.921019Z",
     "start_time": "2020-06-20T02:17:47.610Z"
    }
   },
   "outputs": [],
   "source": [
    "fig = go.Figure()\n",
    "fig.add_trace(go.Scatter(\n",
    "    x=advice_df[advice_df['gender']==1]['deg_centrality'],\n",
    "    y=advice_df[advice_df['gender']==1]['eig_centrality'],\n",
    "    text=advice_df[advice_df['gender']==1]['id'],\n",
    "    hoverinfo='text',\n",
    "    mode='markers+text',\n",
    "    name='Male',\n",
    "    textfont_size=8,\n",
    "    textfont_color='black',\n",
    "    marker=dict(size=14, \n",
    "                color='lightsalmon',\n",
    "                symbol='circle')))\n",
    "\n",
    "fig.add_trace(go.Scatter(\n",
    "    x = advice_df[advice_df['gender']==2]['deg_centrality'],\n",
    "    y = advice_df[advice_df['gender']==2]['eig_centrality'],\n",
    "    text=advice_df[advice_df['gender']==2]['id'],\n",
    "    mode='markers+text',\n",
    "    name = 'Female',\n",
    "    textfont_size=8,\n",
    "    textfont_color='white',\n",
    "    marker=dict(size=14, \n",
    "                color='purple', \n",
    "                symbol='circle')))\n",
    "    \n",
    "\n",
    "fig.update_layout(go.Layout(\n",
    "    title='Advice Network - Centrality by Gender',\n",
    "    xaxis=dict(\n",
    "        title='Degree Centrality'\n",
    "    ),\n",
    "    yaxis=dict(\n",
    "        title='Eigenvector Centrality'\n",
    "    ),\n",
    "    hovermode='closest',\n",
    "    plot_bgcolor='white',\n",
    "    paper_bgcolor='white',\n",
    "))\n",
    "fig.update_xaxes(showgrid=True, gridwidth=1, gridcolor='grey')\n",
    "fig.update_yaxes(showgrid=True, gridwidth=1, gridcolor='grey')"
   ]
  },
  {
   "cell_type": "markdown",
   "metadata": {},
   "source": [
    "Pearson's Correlation Coefficient between centrality types:"
   ]
  },
  {
   "cell_type": "code",
   "execution_count": null,
   "metadata": {
    "ExecuteTime": {
     "end_time": "2020-06-20T02:17:48.922386Z",
     "start_time": "2020-06-20T02:17:47.614Z"
    }
   },
   "outputs": [],
   "source": [
    "print(\"Correlation:\", np.corrcoef(advice_df[advice_df['gender']==1]['deg_centrality'],\n",
    "                                  advice_df[advice_df['gender']==1]['eig_centrality'])[0][1])"
   ]
  },
  {
   "cell_type": "markdown",
   "metadata": {},
   "source": [
    "Eigenvector centrality and degree centrality across genders show stronger correlation than in the case of the social network. We can see stronger separation between the top three nodes (23, 12 and 25) and the rest."
   ]
  },
  {
   "cell_type": "markdown",
   "metadata": {},
   "source": [
    "#### Get Mean and Variance for Advice Network Eigenvector Centrality by Gender"
   ]
  },
  {
   "cell_type": "code",
   "execution_count": null,
   "metadata": {
    "ExecuteTime": {
     "end_time": "2020-06-20T02:17:48.924090Z",
     "start_time": "2020-06-20T02:17:47.618Z"
    }
   },
   "outputs": [],
   "source": [
    "print('Advice Network Eigenvector Centrality Statistics')\n",
    "print('Male mean: {}'.format(round(np.mean(advice_df[advice_df['gender']==1]['eig_centrality']),3)))\n",
    "print('Female mean: {}'.format(round(np.mean(advice_df[advice_df['gender']==2]['eig_centrality']),3)))\n",
    "print('Male variance: {}'.format(round(np.var(advice_df[advice_df['gender']==1]['eig_centrality']),4)))\n",
    "print('Female variance: {}'.format(round(np.var(advice_df[advice_df['gender']==2]['eig_centrality']),4)))"
   ]
  },
  {
   "cell_type": "markdown",
   "metadata": {},
   "source": [
    "#### T-Test for Differences in Advice Network Eigenvector Centrality - Gender  \n",
    "\n",
    "Test if there is a statistically significant difference between mean advice network eigenvector centralities for males and females using an unpaired t-test. "
   ]
  },
  {
   "cell_type": "code",
   "execution_count": null,
   "metadata": {
    "ExecuteTime": {
     "end_time": "2020-06-20T02:17:48.926056Z",
     "start_time": "2020-06-20T02:17:47.623Z"
    }
   },
   "outputs": [],
   "source": [
    "advice_ttest = stats.ttest_ind(advice_df[advice_df['gender']==1]['eig_centrality'],\n",
    "                               advice_df[advice_df['gender']==2]['eig_centrality'], \n",
    "                               equal_var = False)\n",
    "print('p-value for t-test comparing mean advice eigenvector centralities for males and females: {}'.format(round(advice_ttest[1],3)))"
   ]
  },
  {
   "cell_type": "markdown",
   "metadata": {},
   "source": [
    "There is a statistically significant difference between mean advice eigenvector centralities for males and females (p-value = 0.024). "
   ]
  },
  {
   "cell_type": "markdown",
   "metadata": {},
   "source": [
    "### Look at Co-worker Network\n",
    "\n",
    "#### Build co-worker network graph"
   ]
  },
  {
   "cell_type": "code",
   "execution_count": null,
   "metadata": {
    "ExecuteTime": {
     "end_time": "2020-06-20T02:17:48.927633Z",
     "start_time": "2020-06-20T02:17:47.631Z"
    }
   },
   "outputs": [],
   "source": [
    "df_work = df_rel[142:].astype(int).reset_index(drop=True)\n",
    "\n",
    "G_work=nx.from_pandas_adjacency(df_work)\n",
    "for node in list(G_work.nodes):\n",
    "    G_work.nodes[node]['gender'] = gender_dict[node]\n",
    "    G_work.nodes[node]['status'] = status_dict[node]"
   ]
  },
  {
   "cell_type": "markdown",
   "metadata": {},
   "source": [
    "#### Get centrality"
   ]
  },
  {
   "cell_type": "code",
   "execution_count": null,
   "metadata": {
    "ExecuteTime": {
     "end_time": "2020-06-20T02:17:48.929177Z",
     "start_time": "2020-06-20T02:17:47.636Z"
    }
   },
   "outputs": [],
   "source": [
    "work_eig_centrality = nx.eigenvector_centrality(G_work, max_iter=1000)\n",
    "work_deg_centrality = nx.degree_centrality(G_work)"
   ]
  },
  {
   "cell_type": "code",
   "execution_count": null,
   "metadata": {
    "ExecuteTime": {
     "end_time": "2020-06-20T02:17:48.933873Z",
     "start_time": "2020-06-20T02:17:47.640Z"
    }
   },
   "outputs": [],
   "source": [
    "work_df = pd.DataFrame(np.array([list(work_eig_centrality.values()),\n",
    "                                 list(work_deg_centrality.values()),\n",
    "                                 list(work_deg_centrality.keys())]).T,\n",
    "                          columns = ['eig_centrality', 'deg_centrality','id'])\n",
    "\n",
    "work_df['gender'] = work_df['id'].map(gender_dict)\n",
    "work_df['status'] = work_df['id'].map(status_dict)\n",
    "\n",
    "print('Eigenvector Centrality')\n",
    "print('----------------------')\n",
    "for filter_ in ['gender','status']:\n",
    "    for value in [1,2]:\n",
    "        print(filter_.title(),value)\n",
    "        print(work_df[work_df[filter_]==value].sort_values(by=['eig_centrality',\n",
    "                                                             'deg_centrality'],\n",
    "                                                         ascending=False).head(5))\n",
    "        print('\\n')\n",
    "print('Degree Centrality - All')\n",
    "print('----------------------')\n",
    "print(work_df.sort_values(by=['deg_centrality',\n",
    "                               'eig_centrality'],\n",
    "                            ascending=False).head(5))\n",
    "print('\\n')"
   ]
  },
  {
   "cell_type": "markdown",
   "metadata": {},
   "source": [
    "In the co-worker network, the top 5 males with the highest eigenvector centrality are 23, 25, 21, 14, and 18.  A few of these males were also in the top of the social network and advice network (25, 23). All 5 of these have status as a partner in the law firm.  The top 5 females with the highest eigenvector centrality are 28, 42, 33, 37, and 38.  Three of these were also in the top of the social and advice networks (28, 37, 38).  Again, the values for the top females are lower than those of the top 5 males.  \n",
    "\n",
    "Looking at degree centrality for all nodes, we see some familiar individuals.  The top 5 nodes are the exact same as the top 5 eigenvector centralities for males."
   ]
  },
  {
   "cell_type": "markdown",
   "metadata": {},
   "source": [
    "#### Visualize Co-worker Network\n",
    "The visualization of the co-worker network by gender is below.  Again, it appears the male nodes have higher degrees than the females.  Nodes 23 and 25, both males, have high degrees in the co-worker network.  "
   ]
  },
  {
   "cell_type": "markdown",
   "metadata": {},
   "source": [
    "##### Work Network - by Gender\n",
    "\n",
    "Orange is male, purple is female. Size indicates degree\n",
    "\n",
    "![title](graphics/work_gender_a.png)"
   ]
  },
  {
   "cell_type": "markdown",
   "metadata": {},
   "source": [
    "The visualization of the co-worker network by status is below.  As we would expect, in general, partners appear to have higher degrees in the co-worker network than associates."
   ]
  },
  {
   "cell_type": "markdown",
   "metadata": {},
   "source": [
    "##### Work Network - by Status\n",
    "\n",
    "Brown is partner, green is associate. Size indicates degree\n",
    "\n",
    "![title](graphics/work_status_a.png)"
   ]
  },
  {
   "cell_type": "markdown",
   "metadata": {},
   "source": [
    "#### Scatter Plot of Co-Worker Network Eigenvector Centrality by Gender "
   ]
  },
  {
   "cell_type": "code",
   "execution_count": null,
   "metadata": {
    "ExecuteTime": {
     "end_time": "2020-06-20T02:17:48.935116Z",
     "start_time": "2020-06-20T02:17:47.648Z"
    }
   },
   "outputs": [],
   "source": [
    "fig = go.Figure()\n",
    "fig.add_trace(go.Scatter(\n",
    "    x=work_df[work_df['gender']==1]['deg_centrality'],\n",
    "    y=work_df[work_df['gender']==1]['eig_centrality'],\n",
    "    text=work_df[work_df['gender']==1]['id'],\n",
    "    hoverinfo='text',\n",
    "    mode='markers+text',\n",
    "    name='Male',\n",
    "    textfont_size=8,\n",
    "    textfont_color='black',\n",
    "    marker=dict(size=14, \n",
    "                color='lightsalmon',\n",
    "                symbol='circle')))\n",
    "\n",
    "fig.add_trace(go.Scatter(\n",
    "    x = work_df[work_df['gender']==2]['deg_centrality'],\n",
    "    y = work_df[work_df['gender']==2]['eig_centrality'],\n",
    "    text=work_df[work_df['gender']==2]['id'],\n",
    "    mode='markers+text',\n",
    "    name = 'Female',\n",
    "    textfont_size=8,\n",
    "    textfont_color='white',\n",
    "    marker=dict(size=14, \n",
    "                color='purple', \n",
    "                symbol='circle')))\n",
    "    \n",
    "\n",
    "fig.update_layout(go.Layout(\n",
    "    title='Work Network - Centrality by Gender',\n",
    "    xaxis=dict(\n",
    "        title='Degree Centrality'\n",
    "    ),\n",
    "    yaxis=dict(\n",
    "        title='Eigenvector Centrality'\n",
    "    ),\n",
    "    hovermode='closest',\n",
    "    plot_bgcolor='white',\n",
    "    paper_bgcolor='white',\n",
    "))\n",
    "fig.update_xaxes(showgrid=True, gridwidth=1, gridcolor='grey')\n",
    "fig.update_yaxes(showgrid=True, gridwidth=1, gridcolor='grey')\n"
   ]
  },
  {
   "cell_type": "markdown",
   "metadata": {},
   "source": [
    "Pearson's Correlation Coefficient between centrality types"
   ]
  },
  {
   "cell_type": "code",
   "execution_count": null,
   "metadata": {
    "ExecuteTime": {
     "end_time": "2020-06-20T02:17:48.937375Z",
     "start_time": "2020-06-20T02:17:47.652Z"
    }
   },
   "outputs": [],
   "source": [
    "print(\"Correlation:\", np.corrcoef(work_df[work_df['gender']==1]['deg_centrality'],\n",
    "                                  work_df[work_df['gender']==1]['eig_centrality'])[0][1])"
   ]
  },
  {
   "cell_type": "markdown",
   "metadata": {},
   "source": [
    "Once again we can see stronger correlation than in the social network and strong separation between the top nodes (25, 23) and the rest. It is interesting to note that node 12 features higher in the social and advice network than in the work network. "
   ]
  },
  {
   "cell_type": "markdown",
   "metadata": {},
   "source": [
    "#### Get Mean and Variance for Co-Worker Network Eigenvector Centrality by Gender"
   ]
  },
  {
   "cell_type": "code",
   "execution_count": null,
   "metadata": {
    "ExecuteTime": {
     "end_time": "2020-06-20T02:17:48.939262Z",
     "start_time": "2020-06-20T02:17:47.655Z"
    }
   },
   "outputs": [],
   "source": [
    "print('Work Network Eigenvector Centrality Statistics')\n",
    "print('Male mean: {}'.format(round(np.mean(work_df[work_df['gender']==1]['eig_centrality']),3)))\n",
    "print('Female mean: {}'.format(round(np.mean(work_df[work_df['gender']==2]['eig_centrality']),3)))\n",
    "print('Male variance: {}'.format(round(np.var(work_df[work_df['gender']==1]['eig_centrality']),4)))\n",
    "print('Female variance: {}'.format(round(np.var(work_df[work_df['gender']==2]['eig_centrality']),4)))"
   ]
  },
  {
   "cell_type": "markdown",
   "metadata": {},
   "source": [
    "#### T-Test for Differences in Co-Worker Eigenvector Centrality - Gender  \n",
    "\n",
    "Test if there is a statistically significant difference between mean co-worker eigenvector centralities for males and females using an unpaired t-test. "
   ]
  },
  {
   "cell_type": "code",
   "execution_count": null,
   "metadata": {
    "ExecuteTime": {
     "end_time": "2020-06-20T02:17:48.945313Z",
     "start_time": "2020-06-20T02:17:47.661Z"
    }
   },
   "outputs": [],
   "source": [
    "work_ttest = stats.ttest_ind(work_df[work_df['gender']==1]['eig_centrality'],\n",
    "                               work_df[work_df['gender']==2]['eig_centrality'], \n",
    "                               equal_var = False)\n",
    "print('p-value for t-test comparing mean work eigenvector centralities for males and females: {}'.format(round(work_ttest[1],3)))"
   ]
  },
  {
   "cell_type": "markdown",
   "metadata": {},
   "source": [
    "There is a statistically significant difference between mean co-worker eigenvector centralities for males and females (p-value = 0.024). "
   ]
  },
  {
   "cell_type": "markdown",
   "metadata": {},
   "source": [
    "### Conclusion:\n",
    "    \n",
    "#### Eigenvector Centrality vs. Degree Centrality\n",
    "\n",
    "Generally, we see strong positive correlation between eigenvector centrality and degree centrality, indicating that irrespective of the network, lawyers are connected to other lawyers who have similar reach. However, the social network showed up as less correlated than the other two, since social interactions are a little more organic than advice networks and co-work networks\n",
    "\n",
    "#### Males vs Females\n",
    "\n",
    "On average males have a stronger social, advice and co-work network. This could also be informed by the fact that males outnumber women 3 to 1. Among males ids 23 and 25 feature strongly in all three networks. Id 12 seems to be less significant in the co-work network than in other networks perhaps due to shorter tenure. Among women, ids 28, 37 and 38 were influential in all three networks.\n",
    "\n",
    "#### Partners vs Associates\n",
    "\n",
    "Partners showed up as more central than associates in all networks, with the exception of id 40, who is a male. He showed up as prominent in the social and advice networks. We also have id 64 who showed up as central in the social network.\n",
    "\n"
   ]
  },
  {
   "cell_type": "code",
   "execution_count": null,
   "metadata": {
    "ExecuteTime": {
     "end_time": "2020-06-20T02:17:48.946882Z",
     "start_time": "2020-06-20T02:17:47.666Z"
    }
   },
   "outputs": [],
   "source": [
    "# nx.write_gml(G_work, 'G_work.gml')\n",
    "# nx.write_gml(G_social, 'G_social.gml')\n",
    "# nx.write_gml(G_advice, 'G_advice.gml')"
   ]
  }
 ],
 "metadata": {
  "kernelspec": {
   "display_name": "ml-env",
   "language": "python",
   "name": "ml-env"
  },
  "language_info": {
   "codemirror_mode": {
    "name": "ipython",
    "version": 3
   },
   "file_extension": ".py",
   "mimetype": "text/x-python",
   "name": "python",
   "nbconvert_exporter": "python",
   "pygments_lexer": "ipython3",
   "version": "3.7.7"
  },
  "toc": {
   "base_numbering": 1,
   "nav_menu": {},
   "number_sections": true,
   "sideBar": true,
   "skip_h1_title": false,
   "title_cell": "Table of Contents",
   "title_sidebar": "Contents",
   "toc_cell": false,
   "toc_position": {},
   "toc_section_display": true,
   "toc_window_display": true
  }
 },
 "nbformat": 4,
 "nbformat_minor": 2
}
