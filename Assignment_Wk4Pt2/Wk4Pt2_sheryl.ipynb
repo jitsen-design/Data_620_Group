{
 "cells": [
  {
   "cell_type": "markdown",
   "metadata": {},
   "source": [
    "# Data 620 Assignment: High Frequency Words\n",
    "\n",
    "Jithendra Seneviratne, Sheryl Piechocki \n",
    "\n",
    "June 23, 2020"
   ]
  },
  {
   "cell_type": "code",
   "execution_count": 1,
   "metadata": {},
   "outputs": [
    {
     "data": {
      "text/html": [
       "        <script type=\"text/javascript\">\n",
       "        window.PlotlyConfig = {MathJaxConfig: 'local'};\n",
       "        if (window.MathJax) {MathJax.Hub.Config({SVG: {font: \"STIX-Web\"}});}\n",
       "        if (typeof require !== 'undefined') {\n",
       "        require.undef(\"plotly\");\n",
       "        requirejs.config({\n",
       "            paths: {\n",
       "                'plotly': ['https://cdn.plot.ly/plotly-latest.min']\n",
       "            }\n",
       "        });\n",
       "        require(['plotly'], function(Plotly) {\n",
       "            window._Plotly = Plotly;\n",
       "        });\n",
       "        }\n",
       "        </script>\n",
       "        "
      ]
     },
     "metadata": {},
     "output_type": "display_data"
    }
   ],
   "source": [
    "%matplotlib inline\n",
    "import pandas as pd\n",
    "import plotly as py\n",
    "import plotly.graph_objs as go \n",
    "from plotly.offline import init_notebook_mode, plot, iplot\n",
    "import matplotlib.pyplot as plt\n",
    "init_notebook_mode(connected=True)\n",
    "import nltk, re, pprint\n",
    "from nltk import word_tokenize\n",
    "from urllib import request\n",
    "from nltk.probability import FreqDist\n",
    "import string\n",
    "import re"
   ]
  },
  {
   "cell_type": "markdown",
   "metadata": {},
   "source": [
    "1. Choose a corpus of interest.\n",
    "2. How many total unique words are in the corpus? (Please feel free to define unique words in any interesting,\n",
    "defensible way).\n",
    "3. Taking the most common words, how many unique words represent half of the total words in the corpus?\n",
    "4. Identify the 200 highest frequency words in this corpus.\n",
    "5. Create a graph that shows the relative frequency of these 200 words.\n",
    "6. Does the observed relative frequency of these words follow Zipf’s law? Explain.\n",
    "7. In what ways do you think the frequency of the words in this corpus differ from “all words in all corpora.”"
   ]
  },
  {
   "cell_type": "code",
   "execution_count": 2,
   "metadata": {},
   "outputs": [
    {
     "name": "stdout",
     "output_type": "stream",
     "text": [
      "4276\n",
      "372462\n"
     ]
    }
   ],
   "source": [
    "from urllib import request\n",
    "url = \"http://www.gutenberg.org/files/120/120-0.txt\"\n",
    "response = request.urlopen(url)\n",
    "raw = response.read().decode('utf8')\n",
    "\n",
    "print(raw.find(\"PART ONE--\"))\n",
    "print(raw.rfind(\"End of Project Gutenberg'\"))\n"
   ]
  },
  {
   "cell_type": "code",
   "execution_count": 3,
   "metadata": {},
   "outputs": [
    {
     "name": "stdout",
     "output_type": "stream",
     "text": [
      "368186\n"
     ]
    }
   ],
   "source": [
    "raw = raw[4276:372462]\n",
    "# Count of words and punctuation symbols\n",
    "print(len(raw))"
   ]
  },
  {
   "cell_type": "code",
   "execution_count": 4,
   "metadata": {},
   "outputs": [],
   "source": [
    "#raw"
   ]
  },
  {
   "cell_type": "code",
   "execution_count": 5,
   "metadata": {},
   "outputs": [],
   "source": [
    "# clean up and remove punctuation\n",
    "raw = raw.replace('-', ' ')\n",
    "new_raw = re.sub(r'[^\\w\\s]', '', raw)\n"
   ]
  },
  {
   "cell_type": "code",
   "execution_count": 6,
   "metadata": {},
   "outputs": [],
   "source": [
    "#new_raw"
   ]
  },
  {
   "cell_type": "code",
   "execution_count": 7,
   "metadata": {},
   "outputs": [
    {
     "name": "stdout",
     "output_type": "stream",
     "text": [
      "68706\n"
     ]
    }
   ],
   "source": [
    "#break up the string into words \n",
    "tokens = word_tokenize(new_raw)\n",
    "\n",
    "print(len(tokens))\n"
   ]
  },
  {
   "cell_type": "code",
   "execution_count": 8,
   "metadata": {},
   "outputs": [
    {
     "name": "stdout",
     "output_type": "stream",
     "text": [
      "6496\n"
     ]
    }
   ],
   "source": [
    "# Count of distinct words, or \"word types\" \n",
    "print(len(set(tokens))) "
   ]
  },
  {
   "cell_type": "code",
   "execution_count": 9,
   "metadata": {},
   "outputs": [
    {
     "data": {
      "text/plain": [
       "['PART', 'ONE', 'The', 'Old', 'Buccaneer', '1', 'The', 'Old', 'Sea', 'dog']"
      ]
     },
     "execution_count": 9,
     "metadata": {},
     "output_type": "execute_result"
    }
   ],
   "source": [
    "tokens[:10]"
   ]
  },
  {
   "cell_type": "code",
   "execution_count": 10,
   "metadata": {},
   "outputs": [],
   "source": [
    "tokens_lower = [word.lower() for word in tokens]"
   ]
  },
  {
   "cell_type": "code",
   "execution_count": 11,
   "metadata": {},
   "outputs": [
    {
     "name": "stdout",
     "output_type": "stream",
     "text": [
      "<FreqDist with 5985 samples and 68706 outcomes>\n"
     ]
    },
    {
     "data": {
      "text/plain": [
       "[('the', 4365),\n",
       " ('and', 2874),\n",
       " ('a', 1751),\n",
       " ('i', 1748),\n",
       " ('of', 1674),\n",
       " ('to', 1521),\n",
       " ('was', 1135),\n",
       " ('in', 968),\n",
       " ('he', 901),\n",
       " ('that', 836),\n",
       " ('you', 825),\n",
       " ('had', 739),\n",
       " ('it', 707),\n",
       " ('his', 650),\n",
       " ('as', 622),\n",
       " ('my', 618),\n",
       " ('with', 616),\n",
       " ('for', 588),\n",
       " ('on', 507),\n",
       " ('but', 470),\n",
       " ('me', 430),\n",
       " ('at', 418),\n",
       " ('we', 417),\n",
       " ('all', 353),\n",
       " ('not', 350),\n",
       " ('were', 325),\n",
       " ('said', 323),\n",
       " ('this', 310),\n",
       " ('by', 304),\n",
       " ('him', 291),\n",
       " ('have', 282),\n",
       " ('one', 276),\n",
       " ('now', 271),\n",
       " ('so', 264),\n",
       " ('out', 253),\n",
       " ('man', 240),\n",
       " ('be', 240),\n",
       " ('they', 233),\n",
       " ('there', 231),\n",
       " ('from', 219),\n",
       " ('if', 216),\n",
       " ('up', 213),\n",
       " ('captain', 210),\n",
       " ('like', 207),\n",
       " ('silver', 205),\n",
       " ('is', 199),\n",
       " ('well', 193),\n",
       " ('no', 186),\n",
       " ('when', 182),\n",
       " ('or', 182),\n",
       " ('could', 174),\n",
       " ('what', 172),\n",
       " ('would', 169),\n",
       " ('us', 166),\n",
       " ('then', 165),\n",
       " ('been', 159),\n",
       " ('doctor', 159),\n",
       " ('here', 156),\n",
       " ('upon', 152),\n",
       " ('down', 148),\n",
       " ('more', 146),\n",
       " ('see', 142),\n",
       " ('them', 142),\n",
       " ('our', 139),\n",
       " ('before', 135),\n",
       " ('an', 134),\n",
       " ('about', 133),\n",
       " ('your', 133),\n",
       " ('time', 131),\n",
       " ('their', 128),\n",
       " ('good', 128),\n",
       " ('her', 123),\n",
       " ('hand', 122),\n",
       " ('again', 122),\n",
       " ('still', 120),\n",
       " ('into', 119),\n",
       " ('old', 117),\n",
       " ('two', 116),\n",
       " ('long', 115),\n",
       " ('sea', 110),\n",
       " ('some', 110),\n",
       " ('do', 110),\n",
       " ('ill', 109),\n",
       " ('last', 109),\n",
       " ('back', 108),\n",
       " ('hands', 107),\n",
       " ('over', 105),\n",
       " ('little', 104),\n",
       " ('cried', 103),\n",
       " ('men', 102),\n",
       " ('sir', 102),\n",
       " ('where', 102),\n",
       " ('first', 99),\n",
       " ('come', 99),\n",
       " ('which', 97),\n",
       " ('after', 97),\n",
       " ('jim', 97),\n",
       " ('who', 96),\n",
       " ('squire', 95),\n",
       " ('very', 95),\n",
       " ('way', 93),\n",
       " ('its', 93),\n",
       " ('know', 92),\n",
       " ('only', 91),\n",
       " ('ship', 91),\n",
       " ('began', 90),\n",
       " ('came', 89),\n",
       " ('say', 89),\n",
       " ('lay', 89),\n",
       " ('made', 88),\n",
       " ('side', 88),\n",
       " ('much', 87),\n",
       " ('another', 86),\n",
       " ('dont', 85),\n",
       " ('take', 84),\n",
       " ('house', 84),\n",
       " ('than', 84),\n",
       " ('round', 83),\n",
       " ('never', 83),\n",
       " ('did', 81),\n",
       " ('should', 81),\n",
       " ('thats', 81),\n",
       " ('island', 80),\n",
       " ('head', 80),\n",
       " ('other', 80),\n",
       " ('get', 80),\n",
       " ('are', 80),\n",
       " ('thought', 79),\n",
       " ('great', 79),\n",
       " ('john', 79),\n",
       " ('off', 78),\n",
       " ('these', 77),\n",
       " ('go', 77),\n",
       " ('once', 77),\n",
       " ('got', 75),\n",
       " ('she', 75),\n",
       " ('says', 74),\n",
       " ('enough', 74),\n",
       " ('dead', 73),\n",
       " ('sure', 73),\n",
       " ('right', 72),\n",
       " ('soon', 71),\n",
       " ('three', 68),\n",
       " ('can', 68),\n",
       " ('must', 68),\n",
       " ('through', 67),\n",
       " ('moment', 67),\n",
       " ('how', 66),\n",
       " ('why', 65),\n",
       " ('found', 65),\n",
       " ('mr', 64),\n",
       " ('own', 63),\n",
       " ('seen', 63),\n",
       " ('left', 63),\n",
       " ('just', 63),\n",
       " ('went', 62),\n",
       " ('same', 62),\n",
       " ('himself', 61),\n",
       " ('tell', 61),\n",
       " ('might', 61),\n",
       " ('im', 60),\n",
       " ('put', 60),\n",
       " ('too', 60),\n",
       " ('youll', 60),\n",
       " ('under', 59),\n",
       " ('may', 59),\n",
       " ('treasure', 57),\n",
       " ('rum', 57),\n",
       " ('youre', 57),\n",
       " ('though', 57),\n",
       " ('word', 57),\n",
       " ('livesey', 56),\n",
       " ('look', 56),\n",
       " ('think', 56),\n",
       " ('even', 56),\n",
       " ('black', 55),\n",
       " ('away', 55),\n",
       " ('saw', 55),\n",
       " ('voice', 54),\n",
       " ('water', 54),\n",
       " ('eyes', 54),\n",
       " ('any', 53),\n",
       " ('till', 53),\n",
       " ('looked', 53),\n",
       " ('while', 53),\n",
       " ('hispaniola', 53),\n",
       " ('nothing', 52),\n",
       " ('every', 52),\n",
       " ('among', 52),\n",
       " ('face', 52),\n",
       " ('took', 51),\n",
       " ('behind', 51),\n",
       " ('seemed', 51),\n",
       " ('hawkins', 51),\n",
       " ('door', 50),\n",
       " ('far', 50),\n",
       " ('heard', 50),\n",
       " ('make', 50),\n",
       " ('hear', 49),\n",
       " ('half', 49)]"
      ]
     },
     "execution_count": 11,
     "metadata": {},
     "output_type": "execute_result"
    }
   ],
   "source": [
    "fdist1 = FreqDist(tokens_lower)\n",
    "print(fdist1)\n",
    "fdist1.most_common(200)"
   ]
  },
  {
   "cell_type": "code",
   "execution_count": 12,
   "metadata": {},
   "outputs": [
    {
     "data": {
      "image/png": "[encoded data removed]",
      "text/plain": [
       "<Figure size 432x288 with 1 Axes>"
      ]
     },
     "metadata": {
      "needs_background": "light"
     },
     "output_type": "display_data"
    },
    {
     "data": {
      "text/plain": [
       "<matplotlib.axes._subplots.AxesSubplot at 0x230393eeb08>"
      ]
     },
     "execution_count": 12,
     "metadata": {},
     "output_type": "execute_result"
    }
   ],
   "source": [
    "fdist1.plot(80, cumulative=True)"
   ]
  },
  {
   "cell_type": "code",
   "execution_count": 13,
   "metadata": {},
   "outputs": [],
   "source": [
    "# remove stop words\n",
    "from nltk.corpus import stopwords\n",
    "filtered_token = [word for word in tokens_lower if word not in stopwords.words('english')]"
   ]
  },
  {
   "cell_type": "code",
   "execution_count": 14,
   "metadata": {},
   "outputs": [
    {
     "data": {
      "text/plain": [
       "[('said', 323),\n",
       " ('one', 276),\n",
       " ('man', 240),\n",
       " ('captain', 210),\n",
       " ('like', 207),\n",
       " ('silver', 205),\n",
       " ('well', 193),\n",
       " ('could', 174),\n",
       " ('would', 169),\n",
       " ('us', 166),\n",
       " ('doctor', 159),\n",
       " ('upon', 152),\n",
       " ('see', 142),\n",
       " ('time', 131),\n",
       " ('good', 128),\n",
       " ('hand', 122),\n",
       " ('still', 120),\n",
       " ('old', 117),\n",
       " ('two', 116),\n",
       " ('long', 115),\n",
       " ('sea', 110),\n",
       " ('ill', 109),\n",
       " ('last', 109),\n",
       " ('back', 108),\n",
       " ('hands', 107),\n",
       " ('little', 104),\n",
       " ('cried', 103),\n",
       " ('men', 102),\n",
       " ('sir', 102),\n",
       " ('first', 99),\n",
       " ('come', 99),\n",
       " ('jim', 97),\n",
       " ('squire', 95),\n",
       " ('way', 93),\n",
       " ('know', 92),\n",
       " ('ship', 91),\n",
       " ('began', 90),\n",
       " ('came', 89),\n",
       " ('say', 89),\n",
       " ('lay', 89),\n",
       " ('made', 88),\n",
       " ('side', 88),\n",
       " ('much', 87),\n",
       " ('another', 86),\n",
       " ('dont', 85),\n",
       " ('take', 84),\n",
       " ('house', 84),\n",
       " ('round', 83),\n",
       " ('never', 83),\n",
       " ('thats', 81),\n",
       " ('island', 80),\n",
       " ('head', 80),\n",
       " ('get', 80),\n",
       " ('thought', 79),\n",
       " ('great', 79),\n",
       " ('john', 79),\n",
       " ('go', 77),\n",
       " ('got', 75),\n",
       " ('says', 74),\n",
       " ('enough', 74),\n",
       " ('dead', 73),\n",
       " ('sure', 73),\n",
       " ('right', 72),\n",
       " ('soon', 71),\n",
       " ('three', 68),\n",
       " ('must', 68),\n",
       " ('moment', 67),\n",
       " ('found', 65),\n",
       " ('mr', 64),\n",
       " ('seen', 63),\n",
       " ('left', 63),\n",
       " ('went', 62),\n",
       " ('tell', 61),\n",
       " ('might', 61),\n",
       " ('im', 60),\n",
       " ('put', 60),\n",
       " ('youll', 60),\n",
       " ('may', 59),\n",
       " ('treasure', 57),\n",
       " ('rum', 57),\n",
       " ('youre', 57),\n",
       " ('though', 57),\n",
       " ('word', 57),\n",
       " ('livesey', 56),\n",
       " ('look', 56),\n",
       " ('think', 56),\n",
       " ('even', 56),\n",
       " ('black', 55),\n",
       " ('away', 55),\n",
       " ('saw', 55),\n",
       " ('voice', 54),\n",
       " ('water', 54),\n",
       " ('eyes', 54),\n",
       " ('till', 53),\n",
       " ('looked', 53),\n",
       " ('hispaniola', 53),\n",
       " ('nothing', 52),\n",
       " ('every', 52),\n",
       " ('among', 52),\n",
       " ('face', 52),\n",
       " ('took', 51),\n",
       " ('behind', 51),\n",
       " ('seemed', 51),\n",
       " ('hawkins', 51),\n",
       " ('door', 50),\n",
       " ('far', 50),\n",
       " ('heard', 50),\n",
       " ('make', 50),\n",
       " ('hear', 49),\n",
       " ('half', 49),\n",
       " ('ben', 49),\n",
       " ('end', 48),\n",
       " ('told', 48),\n",
       " ('along', 48),\n",
       " ('day', 48),\n",
       " ('done', 48),\n",
       " ('ever', 47),\n",
       " ('capn', 47),\n",
       " ('dr', 46),\n",
       " ('place', 46),\n",
       " ('returned', 46),\n",
       " ('together', 46),\n",
       " ('cut', 45),\n",
       " ('thing', 45),\n",
       " ('already', 45),\n",
       " ('ran', 45),\n",
       " ('fell', 45),\n",
       " ('smollett', 45),\n",
       " ('gone', 44),\n",
       " ('open', 44),\n",
       " ('quite', 44),\n",
       " ('give', 44),\n",
       " ('trees', 44),\n",
       " ('set', 43),\n",
       " ('theres', 43),\n",
       " ('turned', 43),\n",
       " ('boat', 43),\n",
       " ('shot', 43),\n",
       " ('asked', 42),\n",
       " ('kept', 42),\n",
       " ('next', 42),\n",
       " ('help', 41),\n",
       " ('night', 41),\n",
       " ('deck', 41),\n",
       " ('yet', 40),\n",
       " ('ive', 40),\n",
       " ('mother', 40),\n",
       " ('words', 40),\n",
       " ('sand', 40),\n",
       " ('let', 39),\n",
       " ('almost', 39),\n",
       " ('mind', 39),\n",
       " ('stockade', 39),\n",
       " ('keep', 38),\n",
       " ('boy', 38),\n",
       " ('stood', 38),\n",
       " ('rest', 37),\n",
       " ('ships', 37),\n",
       " ('fire', 37),\n",
       " ('going', 37),\n",
       " ('flint', 37),\n",
       " ('ashore', 37),\n",
       " ('gunn', 37),\n",
       " ('part', 36),\n",
       " ('feet', 36),\n",
       " ('ah', 36),\n",
       " ('dog', 35),\n",
       " ('run', 35),\n",
       " ('heart', 35),\n",
       " ('poor', 35),\n",
       " ('aboard', 35),\n",
       " ('six', 35),\n",
       " ('gray', 35),\n",
       " ('trelawney', 34),\n",
       " ('whole', 34),\n",
       " ('glass', 34),\n",
       " ('money', 34),\n",
       " ('clear', 34),\n",
       " ('without', 34),\n",
       " ('sound', 34),\n",
       " ('hill', 34),\n",
       " ('find', 34),\n",
       " ('mate', 33),\n",
       " ('four', 33),\n",
       " ('towards', 33),\n",
       " ('low', 33),\n",
       " ('work', 33),\n",
       " ('close', 33),\n",
       " ('course', 33),\n",
       " ('board', 33),\n",
       " ('near', 32),\n",
       " ('name', 32),\n",
       " ('shore', 32),\n",
       " ('crew', 32),\n",
       " ('replied', 32),\n",
       " ('point', 32),\n",
       " ('taken', 31),\n",
       " ('since', 31),\n",
       " ('lost', 31),\n",
       " ('em', 31)]"
      ]
     },
     "execution_count": 14,
     "metadata": {},
     "output_type": "execute_result"
    }
   ],
   "source": [
    "fdist2 = FreqDist(filtered_token)\n",
    "fdist2.most_common(200)"
   ]
  },
  {
   "cell_type": "code",
   "execution_count": null,
   "metadata": {},
   "outputs": [],
   "source": []
  }
 ],
 "metadata": {
  "kernelspec": {
   "display_name": "Python 3.7.4 64-bit ('base': conda)",
   "language": "python",
   "name": "python37464bitbaseconda0f2540ca00c14c548fd578f4a6b1a719"
  },
  "language_info": {
   "codemirror_mode": {
    "name": "ipython",
    "version": 3
   },
   "file_extension": ".py",
   "mimetype": "text/x-python",
   "name": "python",
   "nbconvert_exporter": "python",
   "pygments_lexer": "ipython3",
   "version": "3.7.6"
  }
 },
 "nbformat": 4,
 "nbformat_minor": 4
}
