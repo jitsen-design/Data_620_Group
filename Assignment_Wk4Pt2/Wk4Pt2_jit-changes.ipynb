{
 "cells": [
  {
   "cell_type": "markdown",
   "metadata": {},
   "source": [
    "# Data 620 Assignment: High Frequency Words\n",
    "\n",
    "Jithendra Seneviratne, Sheryl Piechocki \n",
    "\n",
    "June 23, 2020"
   ]
  },
  {
   "cell_type": "code",
   "execution_count": 66,
   "metadata": {
    "ExecuteTime": {
     "end_time": "2020-06-25T17:59:06.202269Z",
     "start_time": "2020-06-25T17:59:06.187733Z"
    }
   },
   "outputs": [
    {
     "data": {
      "text/html": [
       "        <script type=\"text/javascript\">\n",
       "        window.PlotlyConfig = {MathJaxConfig: 'local'};\n",
       "        if (window.MathJax) {MathJax.Hub.Config({SVG: {font: \"STIX-Web\"}});}\n",
       "        if (typeof require !== 'undefined') {\n",
       "        require.undef(\"plotly\");\n",
       "        requirejs.config({\n",
       "            paths: {\n",
       "                'plotly': ['https://cdn.plot.ly/plotly-latest.min']\n",
       "            }\n",
       "        });\n",
       "        require(['plotly'], function(Plotly) {\n",
       "            window._Plotly = Plotly;\n",
       "        });\n",
       "        }\n",
       "        </script>\n",
       "        "
      ]
     },
     "metadata": {},
     "output_type": "display_data"
    }
   ],
   "source": [
    "%matplotlib inline\n",
    "import pandas as pd\n",
    "import matplotlib.pyplot as plt\n",
    "init_notebook_mode(connected=True)\n",
    "import re, pprint\n",
    "from nltk import word_tokenize\n",
    "from urllib import request\n",
    "from nltk.corpus import stopwords\n",
    "from nltk.probability import FreqDist\n",
    "import string\n",
    "import re\n",
    "from nltk.corpus import wordnet\n",
    "from nltk.tokenize import sent_tokenize, word_tokenize \n",
    "from nltk.stem import WordNetLemmatizer\n",
    "from nltk.tag import pos_tag"
   ]
  },
  {
   "cell_type": "markdown",
   "metadata": {},
   "source": [
    "1. Choose a corpus of interest.\n",
    "2. How many total unique words are in the corpus? (Please feel free to define unique words in any interesting,\n",
    "defensible way).\n",
    "3. Taking the most common words, how many unique words represent half of the total words in the corpus?\n",
    "4. Identify the 200 highest frequency words in this corpus.\n",
    "5. Create a graph that shows the relative frequency of these 200 words.\n",
    "6. Does the observed relative frequency of these words follow Zipf’s law? Explain.\n",
    "7. In what ways do you think the frequency of the words in this corpus differ from “all words in all corpora.”"
   ]
  },
  {
   "cell_type": "code",
   "execution_count": 67,
   "metadata": {
    "ExecuteTime": {
     "end_time": "2020-06-25T17:59:06.694223Z",
     "start_time": "2020-06-25T17:59:06.203957Z"
    }
   },
   "outputs": [
    {
     "name": "stdout",
     "output_type": "stream",
     "text": [
      "4276\n",
      "372462\n"
     ]
    }
   ],
   "source": [
    "from urllib import request\n",
    "url = \"http://www.gutenberg.org/files/120/120-0.txt\"\n",
    "response = request.urlopen(url)\n",
    "raw = response.read().decode('utf8')\n",
    "\n",
    "print(raw.find(\"PART ONE--\"))\n",
    "print(raw.rfind(\"End of Project Gutenberg'\"))\n"
   ]
  },
  {
   "cell_type": "code",
   "execution_count": 68,
   "metadata": {
    "ExecuteTime": {
     "end_time": "2020-06-25T17:59:06.702025Z",
     "start_time": "2020-06-25T17:59:06.696697Z"
    }
   },
   "outputs": [
    {
     "name": "stdout",
     "output_type": "stream",
     "text": [
      "368186\n"
     ]
    }
   ],
   "source": [
    "raw = raw[4276:372462]\n",
    "# Count of words and punctuation symbols\n",
    "print(len(raw))"
   ]
  },
  {
   "cell_type": "markdown",
   "metadata": {},
   "source": [
    "### raw"
   ]
  },
  {
   "cell_type": "code",
   "execution_count": 69,
   "metadata": {
    "ExecuteTime": {
     "end_time": "2020-06-25T17:59:06.720362Z",
     "start_time": "2020-06-25T17:59:06.704332Z"
    }
   },
   "outputs": [],
   "source": [
    "# clean up and remove punctuation\n",
    "raw = raw.replace('-', ' ')\n",
    "new_raw = re.sub(r'[^\\w\\s]', '', raw)"
   ]
  },
  {
   "cell_type": "markdown",
   "metadata": {},
   "source": [
    "### new raw"
   ]
  },
  {
   "cell_type": "code",
   "execution_count": 70,
   "metadata": {
    "ExecuteTime": {
     "end_time": "2020-06-25T17:59:06.924627Z",
     "start_time": "2020-06-25T17:59:06.721804Z"
    }
   },
   "outputs": [
    {
     "name": "stdout",
     "output_type": "stream",
     "text": [
      "68706\n"
     ]
    }
   ],
   "source": [
    "#break up the string into words \n",
    "tokens = word_tokenize(new_raw)\n",
    "\n",
    "print(len(tokens))"
   ]
  },
  {
   "cell_type": "markdown",
   "metadata": {},
   "source": [
    "### Count of distinct words, or \"word types\" "
   ]
  },
  {
   "cell_type": "code",
   "execution_count": 71,
   "metadata": {
    "ExecuteTime": {
     "end_time": "2020-06-25T17:59:06.934018Z",
     "start_time": "2020-06-25T17:59:06.926404Z"
    }
   },
   "outputs": [
    {
     "name": "stdout",
     "output_type": "stream",
     "text": [
      "6496\n"
     ]
    }
   ],
   "source": [
    "print(len(set(tokens))) "
   ]
  },
  {
   "cell_type": "code",
   "execution_count": 72,
   "metadata": {
    "ExecuteTime": {
     "end_time": "2020-06-25T17:59:06.941811Z",
     "start_time": "2020-06-25T17:59:06.935846Z"
    }
   },
   "outputs": [
    {
     "data": {
      "text/plain": [
       "['PART', 'ONE', 'The', 'Old', 'Buccaneer', '1', 'The', 'Old', 'Sea', 'dog']"
      ]
     },
     "execution_count": 72,
     "metadata": {},
     "output_type": "execute_result"
    }
   ],
   "source": [
    "tokens[:10]"
   ]
  },
  {
   "cell_type": "code",
   "execution_count": 73,
   "metadata": {
    "ExecuteTime": {
     "end_time": "2020-06-25T17:59:06.957431Z",
     "start_time": "2020-06-25T17:59:06.944504Z"
    }
   },
   "outputs": [],
   "source": [
    "tokens_lower = [word.lower() for word in tokens]"
   ]
  },
  {
   "cell_type": "code",
   "execution_count": 78,
   "metadata": {
    "ExecuteTime": {
     "end_time": "2020-06-25T17:59:56.153784Z",
     "start_time": "2020-06-25T17:59:56.146140Z"
    }
   },
   "outputs": [],
   "source": [
    "stop = stopwords.words('english') + ['mr',\n",
    "                                     'mrs',\n",
    "                                     'miss', \n",
    "                                     'say',\n",
    "                                     'have', \n",
    "                                     'might',\n",
    "                                     'thought',\n",
    "                                     'would', \n",
    "                                     'could', \n",
    "                                     'make', \n",
    "                                     'much',\n",
    "                                     'dear',\n",
    "                                     'must',\n",
    "                                     'know',\n",
    "                                     'one',\n",
    "                                     'good',\n",
    "                                     'every',\n",
    "                                     'towards',\n",
    "                                     'give',\n",
    "                                     'they',\n",
    "                                     'say']\n",
    "\n",
    "def get_wordnet_pos(treebank_tag):\n",
    "    if treebank_tag.startswith('J'):\n",
    "        return wordnet.ADJ\n",
    "    elif treebank_tag.startswith('V'):\n",
    "        return wordnet.VERB\n",
    "    elif treebank_tag.startswith('N'):\n",
    "        return wordnet.NOUN\n",
    "    elif treebank_tag.startswith('R'):\n",
    "        return wordnet.ADV\n",
    "    else:\n",
    "        return 'n'\n",
    "    \n",
    "def lemmatize_word(word):\n",
    "    lemmatizer = WordNetLemmatizer()\n",
    "    try:\n",
    "        tag = get_wordnet_pos(nltk.pos_tag([word])[0][1])\n",
    "        return lemmatizer.lemmatize(word, pos=tag)\n",
    "    except:\n",
    "        print('not lemmatized', word)\n",
    "        pass"
   ]
  },
  {
   "cell_type": "code",
   "execution_count": 79,
   "metadata": {
    "ExecuteTime": {
     "end_time": "2020-06-25T18:00:19.139183Z",
     "start_time": "2020-06-25T18:00:14.262851Z"
    }
   },
   "outputs": [],
   "source": [
    "tokens_lower = [lemmatize_word(word) for word in tokens_lower if word not in stop]"
   ]
  },
  {
   "cell_type": "code",
   "execution_count": 80,
   "metadata": {
    "ExecuteTime": {
     "end_time": "2020-06-25T18:00:20.021964Z",
     "start_time": "2020-06-25T18:00:19.987188Z"
    }
   },
   "outputs": [
    {
     "data": {
      "text/plain": [
       "[('man', 265),\n",
       " ('hand', 236),\n",
       " ('captain', 234),\n",
       " ('go', 229),\n",
       " ('well', 224),\n",
       " ('silver', 222),\n",
       " ('come', 217),\n",
       " ('like', 216),\n",
       " ('see', 213),\n",
       " ('take', 176),\n",
       " ('doctor', 173),\n",
       " ('u', 166),\n",
       " ('get', 165),\n",
       " ('upon', 152),\n",
       " ('time', 139),\n",
       " ('cry', 137),\n",
       " ('look', 136),\n",
       " ('ship', 133),\n",
       " ('still', 120),\n",
       " ('old', 119),\n",
       " ('begin', 118),\n",
       " ('two', 116),\n",
       " ('long', 115),\n",
       " ('sea', 112),\n",
       " ('back', 111),\n",
       " ('last', 111),\n",
       " ('ill', 109),\n",
       " ('squire', 106),\n",
       " ('little', 104),\n",
       " ('men', 102),\n",
       " ('sir', 102),\n",
       " ('side', 101),\n",
       " ('first', 99),\n",
       " ('word', 97),\n",
       " ('jim', 97),\n",
       " ('head', 94),\n",
       " ('way', 93),\n",
       " ('lay', 92),\n",
       " ('another', 86),\n",
       " ('house', 85),\n",
       " ('dont', 85),\n",
       " ('round', 84),\n",
       " ('john', 84),\n",
       " ('never', 83),\n",
       " ('eye', 82),\n",
       " ('island', 81),\n",
       " ('thats', 81),\n",
       " ('great', 79),\n",
       " ('enough', 74),\n",
       " ('right', 74),\n",
       " ('dead', 73),\n",
       " ('sure', 73),\n",
       " ('think', 72),\n",
       " ('even', 71),\n",
       " ('soon', 71),\n",
       " ('moment', 69),\n",
       " ('three', 68),\n",
       " ('put', 68),\n",
       " ('thing', 68),\n",
       " ('tell', 67),\n",
       " ('turn', 67),\n",
       " ('voice', 66),\n",
       " ('face', 66),\n",
       " ('found', 65),\n",
       " ('place', 63),\n",
       " ('open', 63),\n",
       " ('left', 63),\n",
       " ('run', 62),\n",
       " ('return', 61),\n",
       " ('im', 60),\n",
       " ('day', 60),\n",
       " ('youll', 60),\n",
       " ('boat', 60),\n",
       " ('ask', 59),\n",
       " ('may', 59),\n",
       " ('treasure', 58),\n",
       " ('sail', 58),\n",
       " ('water', 58),\n",
       " ('flint', 58),\n",
       " ('tree', 58),\n",
       " ('rum', 57),\n",
       " ('youre', 57),\n",
       " ('though', 57),\n",
       " ('livesey', 56),\n",
       " ('black', 56),\n",
       " ('foot', 55),\n",
       " ('away', 55),\n",
       " ('saw', 55),\n",
       " ('seem', 54),\n",
       " ('bad', 54),\n",
       " ('end', 53),\n",
       " ('door', 53),\n",
       " ('till', 53),\n",
       " ('hispaniola', 53),\n",
       " ('nothing', 52),\n",
       " ('mind', 52),\n",
       " ('among', 52),\n",
       " ('behind', 51),\n",
       " ('far', 51),\n",
       " ('hawkins', 51),\n",
       " ('keep', 50),\n",
       " ('fire', 50),\n",
       " ('heard', 50),\n",
       " ('ben', 50),\n",
       " ('mate', 49),\n",
       " ('hear', 49),\n",
       " ('half', 49),\n",
       " ('told', 48),\n",
       " ('want', 48),\n",
       " ('along', 48),\n",
       " ('shot', 48),\n",
       " ('let', 47),\n",
       " ('ever', 47),\n",
       " ('capn', 47),\n",
       " ('dr', 46),\n",
       " ('help', 46),\n",
       " ('set', 46),\n",
       " ('life', 46),\n",
       " ('sound', 46),\n",
       " ('boy', 46),\n",
       " ('together', 46),\n",
       " ('fell', 46),\n",
       " ('smollett', 46),\n",
       " ('cut', 45),\n",
       " ('call', 45),\n",
       " ('night', 45),\n",
       " ('low', 45),\n",
       " ('already', 45),\n",
       " ('ran', 45),\n",
       " ('quite', 44),\n",
       " ('talk', 44),\n",
       " ('wood', 44),\n",
       " ('mother', 43),\n",
       " ('deck', 43),\n",
       " ('point', 43),\n",
       " ('kept', 42),\n",
       " ('shoulder', 42),\n",
       " ('high', 42),\n",
       " ('next', 42),\n",
       " ('name', 42),\n",
       " ('near', 42),\n",
       " ('lose', 42),\n",
       " ('hill', 41),\n",
       " ('lad', 41),\n",
       " ('sand', 41),\n",
       " ('yet', 40),\n",
       " ('ive', 40),\n",
       " ('fear', 40),\n",
       " ('arm', 40),\n",
       " ('close', 40),\n",
       " ('board', 40),\n",
       " ('speak', 39),\n",
       " ('almost', 39),\n",
       " ('heart', 39),\n",
       " ('clear', 39),\n",
       " ('stand', 39),\n",
       " ('stockade', 39),\n",
       " ('dog', 38),\n",
       " ('rest', 38),\n",
       " ('piece', 38),\n",
       " ('stood', 38),\n",
       " ('add', 38),\n",
       " ('part', 37),\n",
       " ('money', 37),\n",
       " ('reply', 37),\n",
       " ('lie', 37),\n",
       " ('land', 37),\n",
       " ('find', 37),\n",
       " ('ashore', 37),\n",
       " ('gunn', 37),\n",
       " ('fall', 36),\n",
       " ('ah', 36),\n",
       " ('answer', 36),\n",
       " ('hold', 36),\n",
       " ('gentleman', 35),\n",
       " ('glass', 35),\n",
       " ('watch', 35),\n",
       " ('four', 35),\n",
       " ('work', 35),\n",
       " ('poor', 35),\n",
       " ('shore', 35),\n",
       " ('aboard', 35),\n",
       " ('crew', 35),\n",
       " ('six', 35),\n",
       " ('gray', 35),\n",
       " ('trelawney', 34),\n",
       " ('whole', 34),\n",
       " ('without', 34),\n",
       " ('fellow', 33),\n",
       " ('second', 33),\n",
       " ('course', 33),\n",
       " ('seaman', 32),\n",
       " ('cant', 32),\n",
       " ('cabin', 32),\n",
       " ('cook', 32),\n",
       " ('wind', 31),\n",
       " ('leave', 31),\n",
       " ('since', 31),\n",
       " ('em', 31),\n",
       " ('red', 31)]"
      ]
     },
     "execution_count": 80,
     "metadata": {},
     "output_type": "execute_result"
    }
   ],
   "source": [
    "fdist1 = FreqDist(tokens_lower);\n",
    "fdist1.most_common(200)"
   ]
  },
  {
   "cell_type": "code",
   "execution_count": 81,
   "metadata": {
    "ExecuteTime": {
     "end_time": "2020-06-25T18:00:23.295824Z",
     "start_time": "2020-06-25T18:00:22.794360Z"
    },
    "scrolled": true
   },
   "outputs": [
    {
     "data": {
      "image/png": "[encoded data removed]",
      "text/plain": [
       "<Figure size 1440x360 with 1 Axes>"
      ]
     },
     "metadata": {
      "needs_background": "light"
     },
     "output_type": "display_data"
    }
   ],
   "source": [
    "plt.figure(figsize=(20,5))\n",
    "fdist1.plot(80,\n",
    "            cumulative=True)\n",
    "plt.show()"
   ]
  },
  {
   "cell_type": "code",
   "execution_count": null,
   "metadata": {},
   "outputs": [],
   "source": []
  }
 ],
 "metadata": {
  "kernelspec": {
   "display_name": "ml-env",
   "language": "python",
   "name": "ml-env"
  },
  "language_info": {
   "codemirror_mode": {
    "name": "ipython",
    "version": 3
   },
   "file_extension": ".py",
   "mimetype": "text/x-python",
   "name": "python",
   "nbconvert_exporter": "python",
   "pygments_lexer": "ipython3",
   "version": "3.7.7"
  },
  "toc": {
   "base_numbering": 1,
   "nav_menu": {},
   "number_sections": true,
   "sideBar": true,
   "skip_h1_title": false,
   "title_cell": "Table of Contents",
   "title_sidebar": "Contents",
   "toc_cell": false,
   "toc_position": {},
   "toc_section_display": true,
   "toc_window_display": false
  }
 },
 "nbformat": 4,
 "nbformat_minor": 4
}
