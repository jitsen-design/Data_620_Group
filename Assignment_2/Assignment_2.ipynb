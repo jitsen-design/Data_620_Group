{
 "cells": [
  {
   "cell_type": "markdown",
   "metadata": {},
   "source": [
    "# Data 620 Assignment: Graph Visualization\n",
    "\n",
    "Jithendra Seneviratne, Sheryl Piechocki \n",
    "\n",
    "June 7, 2020"
   ]
  },
  {
   "cell_type": "code",
   "execution_count": 47,
   "metadata": {
    "ExecuteTime": {
     "end_time": "2020-06-10T19:25:11.183977Z",
     "start_time": "2020-06-10T19:25:11.180588Z"
    }
   },
   "outputs": [],
   "source": [
    "import networkx as nx\n",
    "import pandas as pd\n",
    "import matplotlib.pyplot as plt"
   ]
  },
  {
   "cell_type": "markdown",
   "metadata": {},
   "source": [
    "Western States power grid network data\n",
    "http://networkdata.ics.uci.edu/data/power/\n",
    "citation: D. J. Watts and S. H. Strogatz, \"Collective dynamics of 'small-world' networks\", *Nature* 393, 440-442 (1998)."
   ]
  },
  {
   "cell_type": "code",
   "execution_count": 48,
   "metadata": {
    "ExecuteTime": {
     "end_time": "2020-06-10T19:25:13.080686Z",
     "start_time": "2020-06-10T19:25:12.693860Z"
    }
   },
   "outputs": [],
   "source": [
    "G = nx.read_gml('power.gml', label='id')"
   ]
  },
  {
   "cell_type": "markdown",
   "metadata": {},
   "source": [
    "Get the number of nodes in the graph"
   ]
  },
  {
   "cell_type": "code",
   "execution_count": 49,
   "metadata": {
    "ExecuteTime": {
     "end_time": "2020-06-10T19:25:14.312598Z",
     "start_time": "2020-06-10T19:25:14.307127Z"
    }
   },
   "outputs": [
    {
     "data": {
      "text/plain": [
       "4941"
      ]
     },
     "execution_count": 49,
     "metadata": {},
     "output_type": "execute_result"
    }
   ],
   "source": [
    "G.number_of_nodes()"
   ]
  },
  {
   "cell_type": "markdown",
   "metadata": {},
   "source": [
    "Get the number of edges in the graph"
   ]
  },
  {
   "cell_type": "code",
   "execution_count": 50,
   "metadata": {
    "ExecuteTime": {
     "end_time": "2020-06-10T19:25:15.949528Z",
     "start_time": "2020-06-10T19:25:15.942815Z"
    }
   },
   "outputs": [
    {
     "data": {
      "text/plain": [
       "6594"
      ]
     },
     "execution_count": 50,
     "metadata": {},
     "output_type": "execute_result"
    }
   ],
   "source": [
    "G.number_of_edges()"
   ]
  },
  {
   "cell_type": "markdown",
   "metadata": {},
   "source": [
    "Check if the graph is connected"
   ]
  },
  {
   "cell_type": "code",
   "execution_count": 51,
   "metadata": {
    "ExecuteTime": {
     "end_time": "2020-06-10T19:25:17.722069Z",
     "start_time": "2020-06-10T19:25:17.702914Z"
    }
   },
   "outputs": [
    {
     "data": {
      "text/plain": [
       "True"
      ]
     },
     "execution_count": 51,
     "metadata": {},
     "output_type": "execute_result"
    }
   ],
   "source": [
    "nx.is_connected(G)"
   ]
  },
  {
   "cell_type": "markdown",
   "metadata": {},
   "source": [
    "Get the diameter of the graph"
   ]
  },
  {
   "cell_type": "code",
   "execution_count": 52,
   "metadata": {
    "ExecuteTime": {
     "end_time": "2020-06-10T19:26:27.522084Z",
     "start_time": "2020-06-10T19:25:19.307779Z"
    }
   },
   "outputs": [
    {
     "data": {
      "text/plain": [
       "46"
      ]
     },
     "execution_count": 52,
     "metadata": {},
     "output_type": "execute_result"
    }
   ],
   "source": [
    "diam = nx.diameter(G)\n",
    "diam"
   ]
  },
  {
   "cell_type": "markdown",
   "metadata": {},
   "source": [
    "Get the center of the graph"
   ]
  },
  {
   "cell_type": "code",
   "execution_count": 53,
   "metadata": {
    "ExecuteTime": {
     "end_time": "2020-06-10T19:27:35.872825Z",
     "start_time": "2020-06-10T19:26:27.524005Z"
    }
   },
   "outputs": [
    {
     "data": {
      "text/plain": [
       "[1125]"
      ]
     },
     "execution_count": 53,
     "metadata": {},
     "output_type": "execute_result"
    }
   ],
   "source": [
    "cent = nx.center(G)\n",
    "cent"
   ]
  },
  {
   "cell_type": "markdown",
   "metadata": {},
   "source": [
    "Get the node with the maximum degrees"
   ]
  },
  {
   "cell_type": "code",
   "execution_count": 54,
   "metadata": {
    "ExecuteTime": {
     "end_time": "2020-06-10T19:27:35.889801Z",
     "start_time": "2020-06-10T19:27:35.874943Z"
    }
   },
   "outputs": [
    {
     "data": {
      "text/plain": [
       "(2553, 19)"
      ]
     },
     "execution_count": 54,
     "metadata": {},
     "output_type": "execute_result"
    }
   ],
   "source": [
    "deg = nx.degree(G)\n",
    "max_deg = sorted(deg, key=lambda x: x[1], reverse=True)[0]\n",
    "max_deg"
   ]
  },
  {
   "cell_type": "markdown",
   "metadata": {},
   "source": [
    "Get the node with the maximum degree centrality"
   ]
  },
  {
   "cell_type": "code",
   "execution_count": 55,
   "metadata": {
    "ExecuteTime": {
     "end_time": "2020-06-10T19:27:35.899732Z",
     "start_time": "2020-06-10T19:27:35.891624Z"
    }
   },
   "outputs": [
    {
     "data": {
      "text/plain": [
       "(2553, 0.003846153846153846)"
      ]
     },
     "execution_count": 55,
     "metadata": {},
     "output_type": "execute_result"
    }
   ],
   "source": [
    "deg_cent = nx.degree_centrality(G)\n",
    "max_cent = sorted(deg_cent.items(), key=lambda x: x[1], reverse=True)[0]\n",
    "max_cent"
   ]
  },
  {
   "cell_type": "code",
   "execution_count": 56,
   "metadata": {
    "ExecuteTime": {
     "end_time": "2020-06-10T19:27:35.911914Z",
     "start_time": "2020-06-10T19:27:35.901412Z"
    }
   },
   "outputs": [
    {
     "data": {
      "text/plain": [
       "[(0, 386),\n",
       " (0, 395),\n",
       " (0, 451),\n",
       " (1, 3553),\n",
       " (1, 3586),\n",
       " (1, 3587),\n",
       " (1, 3637),\n",
       " (2, 3583),\n",
       " (3, 4930),\n",
       " (4, 88)]"
      ]
     },
     "execution_count": 56,
     "metadata": {},
     "output_type": "execute_result"
    }
   ],
   "source": [
    "list(nx.edges(G))[:10]"
   ]
  },
  {
   "cell_type": "markdown",
   "metadata": {},
   "source": [
    "Image using Gephi to plot nodes with five or more connections\n",
    "\n",
    "![title](gephi.png)"
   ]
  },
  {
   "cell_type": "code",
   "execution_count": null,
   "metadata": {},
   "outputs": [],
   "source": []
  }
 ],
 "metadata": {
  "kernelspec": {
   "display_name": "test-env",
   "language": "python",
   "name": "test-env"
  },
  "language_info": {
   "codemirror_mode": {
    "name": "ipython",
    "version": 3
   },
   "file_extension": ".py",
   "mimetype": "text/x-python",
   "name": "python",
   "nbconvert_exporter": "python",
   "pygments_lexer": "ipython3",
   "version": "3.7.5"
  },
  "toc": {
   "base_numbering": 1,
   "nav_menu": {},
   "number_sections": true,
   "sideBar": true,
   "skip_h1_title": false,
   "title_cell": "Table of Contents",
   "title_sidebar": "Contents",
   "toc_cell": false,
   "toc_position": {},
   "toc_section_display": true,
   "toc_window_display": false
  }
 },
 "nbformat": 4,
 "nbformat_minor": 4
}
