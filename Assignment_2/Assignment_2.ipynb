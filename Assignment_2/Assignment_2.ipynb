{
 "cells": [
  {
   "cell_type": "markdown",
   "metadata": {},
   "source": [
    "# Data 620 Assignment: Graph Visualization\n",
    "\n",
    "Jithendra Seneviratne, Sheryl Piechocki \n",
    "\n",
    "June 7, 2020"
   ]
  },
  {
   "cell_type": "code",
   "execution_count": 1,
   "metadata": {
    "ExecuteTime": {
     "end_time": "2020-06-10T19:25:11.183977Z",
     "start_time": "2020-06-10T19:25:11.180588Z"
    }
   },
   "outputs": [],
   "source": [
    "import networkx as nx\n",
    "import pandas as pd\n",
    "import matplotlib.pyplot as plt"
   ]
  },
  {
   "cell_type": "markdown",
   "metadata": {},
   "source": [
    "The data used in this graph visualization assignment is the power grid of the western United States.  In this data a node is a transformer, generator, or substation and the edges are the power transmission lines.  It is an undirected network.  Power grid network analysis is important because failures at one node or interruptions in one edge, can have wide reaching effects causing power outages for thousands or millions of customers.  In this assignment we take a look at some basic information about this power grid network.\n",
    "\n",
    "The data is available here: http://networkdata.ics.uci.edu/data/power/\n",
    "D. J. Watts and S. H. Strogatz, \"Collective dynamics of 'small-world' networks\", *Nature* 393, 440-442 (1998)."
   ]
  },
  {
   "cell_type": "code",
   "execution_count": 2,
   "metadata": {
    "ExecuteTime": {
     "end_time": "2020-06-10T19:25:13.080686Z",
     "start_time": "2020-06-10T19:25:12.693860Z"
    }
   },
   "outputs": [],
   "source": [
    "G = nx.read_gml('power.gml', label='id')"
   ]
  },
  {
   "cell_type": "markdown",
   "metadata": {},
   "source": [
    "Get the number of nodes in the graph.  The network has 4,941 nodes.  These are transformers, generators, or substations."
   ]
  },
  {
   "cell_type": "code",
   "execution_count": 49,
   "metadata": {
    "ExecuteTime": {
     "end_time": "2020-06-10T19:25:14.312598Z",
     "start_time": "2020-06-10T19:25:14.307127Z"
    }
   },
   "outputs": [
    {
     "data": {
      "text/plain": [
       "4941"
      ]
     },
     "execution_count": 49,
     "metadata": {},
     "output_type": "execute_result"
    }
   ],
   "source": [
    "G.number_of_nodes()"
   ]
  },
  {
   "cell_type": "markdown",
   "metadata": {},
   "source": [
    "Get the number of edges in the graph.  There are 6,594 edges in the network."
   ]
  },
  {
   "cell_type": "code",
   "execution_count": 50,
   "metadata": {
    "ExecuteTime": {
     "end_time": "2020-06-10T19:25:15.949528Z",
     "start_time": "2020-06-10T19:25:15.942815Z"
    }
   },
   "outputs": [
    {
     "data": {
      "text/plain": [
       "6594"
      ]
     },
     "execution_count": 50,
     "metadata": {},
     "output_type": "execute_result"
    }
   ],
   "source": [
    "G.number_of_edges()"
   ]
  },
  {
   "cell_type": "markdown",
   "metadata": {},
   "source": [
    "Check if the graph is connected.  The power network is connected.  This means every node can be reached via some path from every other node."
   ]
  },
  {
   "cell_type": "code",
   "execution_count": 3,
   "metadata": {
    "ExecuteTime": {
     "end_time": "2020-06-10T19:25:17.722069Z",
     "start_time": "2020-06-10T19:25:17.702914Z"
    }
   },
   "outputs": [
    {
     "data": {
      "text/plain": [
       "True"
      ]
     },
     "execution_count": 3,
     "metadata": {},
     "output_type": "execute_result"
    }
   ],
   "source": [
    "nx.is_connected(G)"
   ]
  },
  {
   "cell_type": "markdown",
   "metadata": {},
   "source": [
    "Get the diameter of the graph.  The diameter of the graph is 46.  The maximum shortest path between any two nodes is 46. "
   ]
  },
  {
   "cell_type": "code",
   "execution_count": 52,
   "metadata": {
    "ExecuteTime": {
     "end_time": "2020-06-10T19:26:27.522084Z",
     "start_time": "2020-06-10T19:25:19.307779Z"
    }
   },
   "outputs": [
    {
     "data": {
      "text/plain": [
       "46"
      ]
     },
     "execution_count": 52,
     "metadata": {},
     "output_type": "execute_result"
    }
   ],
   "source": [
    "diam = nx.diameter(G)\n",
    "diam"
   ]
  },
  {
   "cell_type": "markdown",
   "metadata": {},
   "source": [
    "Get the center of the graph.  Node 1125 is the center of the graph, where the radius is equal to the eccentricity."
   ]
  },
  {
   "cell_type": "code",
   "execution_count": 53,
   "metadata": {
    "ExecuteTime": {
     "end_time": "2020-06-10T19:27:35.872825Z",
     "start_time": "2020-06-10T19:26:27.524005Z"
    }
   },
   "outputs": [
    {
     "data": {
      "text/plain": [
       "[1125]"
      ]
     },
     "execution_count": 53,
     "metadata": {},
     "output_type": "execute_result"
    }
   ],
   "source": [
    "cent = nx.center(G)\n",
    "cent"
   ]
  },
  {
   "cell_type": "code",
   "execution_count": 34,
   "metadata": {},
   "outputs": [
    {
     "data": {
      "text/plain": [
       "[1125,\n",
       " 1476,\n",
       " 1308,\n",
       " 2594,\n",
       " 2605,\n",
       " 2606,\n",
       " 2528,\n",
       " 2543,\n",
       " 4219,\n",
       " 4164,\n",
       " 4207,\n",
       " 4206,\n",
       " 4199,\n",
       " 3785,\n",
       " 3781,\n",
       " 726,\n",
       " 652,\n",
       " 584,\n",
       " 672,\n",
       " 671,\n",
       " 637,\n",
       " 728,\n",
       " 698,\n",
       " 699]"
      ]
     },
     "execution_count": 34,
     "metadata": {},
     "output_type": "execute_result"
    }
   ],
   "source": [
    "# path from center node 1125 to node 699 is the path with \n",
    "p = nx.shortest_path(G, source=1125) # target not specified\n",
    "end = list(p)[-1]\n",
    "p[end]\n"
   ]
  },
  {
   "cell_type": "markdown",
   "metadata": {},
   "source": [
    "Get the node with the maximum degrees.  Node 2553 has the most degrees.  It has 19 degrees, meaning it has 19 neighbors."
   ]
  },
  {
   "cell_type": "code",
   "execution_count": 11,
   "metadata": {
    "ExecuteTime": {
     "end_time": "2020-06-10T19:27:35.889801Z",
     "start_time": "2020-06-10T19:27:35.874943Z"
    }
   },
   "outputs": [
    {
     "data": {
      "text/plain": [
       "(2553, 19)"
      ]
     },
     "execution_count": 11,
     "metadata": {},
     "output_type": "execute_result"
    }
   ],
   "source": [
    "deg = nx.degree(G)\n",
    "max_deg = sorted(deg, key=lambda x: x[1], reverse=True)[0]\n",
    "max_deg"
   ]
  },
  {
   "cell_type": "markdown",
   "metadata": {},
   "source": [
    "Get the node with the maximum degree centrality.  Node 2553 has the maximum degree centrality of 0.003846.  Degree centrality of a node is the number of degrees of the node divided by one less than the total number of nodes.  "
   ]
  },
  {
   "cell_type": "code",
   "execution_count": 55,
   "metadata": {
    "ExecuteTime": {
     "end_time": "2020-06-10T19:27:35.899732Z",
     "start_time": "2020-06-10T19:27:35.891624Z"
    }
   },
   "outputs": [
    {
     "data": {
      "text/plain": [
       "(2553, 0.003846153846153846)"
      ]
     },
     "execution_count": 55,
     "metadata": {},
     "output_type": "execute_result"
    }
   ],
   "source": [
    "deg_cent = nx.degree_centrality(G)\n",
    "max_cent = sorted(deg_cent.items(), key=lambda x: x[1], reverse=True)[0]\n",
    "max_cent"
   ]
  },
  {
   "cell_type": "markdown",
   "metadata": {},
   "source": [
    "Here is node 2553 and its immediate neighbors (plotted using Gephi).\n",
    "\n",
    "![title](node2553.png)"
   ]
  },
  {
   "cell_type": "markdown",
   "metadata": {},
   "source": [
    "Image using Gephi to plot nodes with five or more connections\n",
    "\n",
    "![title](gephi.png)"
   ]
  },
  {
   "cell_type": "code",
   "execution_count": null,
   "metadata": {},
   "outputs": [],
   "source": []
  }
 ],
 "metadata": {
  "kernelspec": {
   "display_name": "Python 3.7.4 64-bit ('base': conda)",
   "language": "python",
   "name": "python37464bitbaseconda0f2540ca00c14c548fd578f4a6b1a719"
  },
  "language_info": {
   "codemirror_mode": {
    "name": "ipython",
    "version": 3
   },
   "file_extension": ".py",
   "mimetype": "text/x-python",
   "name": "python",
   "nbconvert_exporter": "python",
   "pygments_lexer": "ipython3",
   "version": "3.7.6"
  },
  "toc": {
   "base_numbering": 1,
   "nav_menu": {},
   "number_sections": true,
   "sideBar": true,
   "skip_h1_title": false,
   "title_cell": "Table of Contents",
   "title_sidebar": "Contents",
   "toc_cell": false,
   "toc_position": {},
   "toc_section_display": true,
   "toc_window_display": false
  }
 },
 "nbformat": 4,
 "nbformat_minor": 4
}
