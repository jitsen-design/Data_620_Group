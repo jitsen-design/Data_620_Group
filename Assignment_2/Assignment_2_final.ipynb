{
 "cells": [
  {
   "cell_type": "markdown",
   "metadata": {},
   "source": [
    "# Data 620 Assignment: Graph Visualization\n",
    "\n",
    "Jithendra Seneviratne, Sheryl Piechocki \n",
    "\n",
    "June 7, 2020"
   ]
  },
  {
   "cell_type": "code",
   "execution_count": 7,
   "metadata": {
    "ExecuteTime": {
     "end_time": "2020-06-12T21:25:11.967187Z",
     "start_time": "2020-06-12T21:25:11.964329Z"
    }
   },
   "outputs": [],
   "source": [
    "import networkx as nx\n",
    "import pandas as pd\n",
    "import matplotlib.pyplot as plt"
   ]
  },
  {
   "cell_type": "markdown",
   "metadata": {},
   "source": [
    "The data used in this graph visualization assignment is the power grid of the western United States.  In this data a node is a transformer, generator, or substation and the edges are the power transmission lines.  It is an undirected network.  Power grid network analysis is important because failures at one node or interruptions in one edge, can have wide reaching effects causing power outages for thousands or millions of customers.  In this assignment we take a look at some basic information about this power grid network.\n",
    "\n",
    "The data is available here: http://networkdata.ics.uci.edu/data/power/\n",
    "D. J. Watts and S. H. Strogatz, \"Collective dynamics of 'small-world' networks\", *Nature* 393, 440-442 (1998)."
   ]
  },
  {
   "cell_type": "code",
   "execution_count": 8,
   "metadata": {
    "ExecuteTime": {
     "end_time": "2020-06-12T21:25:13.819229Z",
     "start_time": "2020-06-12T21:25:13.461668Z"
    }
   },
   "outputs": [],
   "source": [
    "G = nx.read_gml('power.gml', label='id')"
   ]
  },
  {
   "cell_type": "markdown",
   "metadata": {},
   "source": [
    "#### Graph Nodes\n",
    "\n",
    "Get the number of nodes in the graph.  The network has 4,941 nodes.  These are transformers, generators, or substations."
   ]
  },
  {
   "cell_type": "code",
   "execution_count": 9,
   "metadata": {
    "ExecuteTime": {
     "end_time": "2020-06-12T21:25:14.932453Z",
     "start_time": "2020-06-12T21:25:14.927998Z"
    }
   },
   "outputs": [
    {
     "data": {
      "text/plain": [
       "4941"
      ]
     },
     "execution_count": 9,
     "metadata": {},
     "output_type": "execute_result"
    }
   ],
   "source": [
    "G.number_of_nodes()"
   ]
  },
  {
   "cell_type": "markdown",
   "metadata": {},
   "source": [
    "#### Graph Edges\n",
    "\n",
    "Get the number of edges in the graph.  There are 6,594 edges in the network."
   ]
  },
  {
   "cell_type": "code",
   "execution_count": 10,
   "metadata": {
    "ExecuteTime": {
     "end_time": "2020-06-12T21:25:16.649772Z",
     "start_time": "2020-06-12T21:25:16.643861Z"
    }
   },
   "outputs": [
    {
     "data": {
      "text/plain": [
       "6594"
      ]
     },
     "execution_count": 10,
     "metadata": {},
     "output_type": "execute_result"
    }
   ],
   "source": [
    "G.number_of_edges()"
   ]
  },
  {
   "cell_type": "markdown",
   "metadata": {},
   "source": [
    "#### Graph Connectedness\n",
    "\n",
    "Check if the graph is connected.  The power network is connected.  This means every node can be reached via some path from every other node."
   ]
  },
  {
   "cell_type": "code",
   "execution_count": 11,
   "metadata": {
    "ExecuteTime": {
     "end_time": "2020-06-12T21:25:18.385276Z",
     "start_time": "2020-06-12T21:25:18.373356Z"
    }
   },
   "outputs": [
    {
     "data": {
      "text/plain": [
       "True"
      ]
     },
     "execution_count": 11,
     "metadata": {},
     "output_type": "execute_result"
    }
   ],
   "source": [
    "nx.is_connected(G)"
   ]
  },
  {
   "cell_type": "markdown",
   "metadata": {},
   "source": [
    "#### Graph Diameter\n",
    "\n",
    "Get the diameter of the graph.  The diameter of the graph is 46.  The maximum shortest path between any two nodes is 46. "
   ]
  },
  {
   "cell_type": "code",
   "execution_count": 12,
   "metadata": {
    "ExecuteTime": {
     "end_time": "2020-06-12T21:26:23.053547Z",
     "start_time": "2020-06-12T21:25:20.664825Z"
    }
   },
   "outputs": [
    {
     "data": {
      "text/plain": [
       "46"
      ]
     },
     "execution_count": 12,
     "metadata": {},
     "output_type": "execute_result"
    }
   ],
   "source": [
    "diam = nx.diameter(G)\n",
    "diam"
   ]
  },
  {
   "cell_type": "markdown",
   "metadata": {},
   "source": [
    "#### Graph Center\n",
    "\n",
    "Get the center of the graph.  Node 1125 is the center of the graph, where the radius is equal to the eccentricity."
   ]
  },
  {
   "cell_type": "code",
   "execution_count": 13,
   "metadata": {
    "ExecuteTime": {
     "end_time": "2020-06-12T21:27:27.388851Z",
     "start_time": "2020-06-12T21:26:23.055122Z"
    }
   },
   "outputs": [
    {
     "data": {
      "text/plain": [
       "[1125]"
      ]
     },
     "execution_count": 13,
     "metadata": {},
     "output_type": "execute_result"
    }
   ],
   "source": [
    "cent = nx.center(G)\n",
    "cent"
   ]
  },
  {
   "cell_type": "markdown",
   "metadata": {},
   "source": [
    "#### Shortest Paths\n",
    "\n",
    "We can find the shortest paths to nodes from the center. Among all shortest paths from node 1125 to others, the distance between note 1125 and node 699 is the greatest.\n"
   ]
  },
  {
   "cell_type": "code",
   "execution_count": 14,
   "metadata": {
    "ExecuteTime": {
     "end_time": "2020-06-12T21:27:27.408075Z",
     "start_time": "2020-06-12T21:27:27.391042Z"
    }
   },
   "outputs": [
    {
     "data": {
      "text/plain": [
       "[1125,\n",
       " 1476,\n",
       " 1308,\n",
       " 2594,\n",
       " 2605,\n",
       " 2606,\n",
       " 2528,\n",
       " 2543,\n",
       " 4219,\n",
       " 4164,\n",
       " 4207,\n",
       " 4206,\n",
       " 4199,\n",
       " 3785,\n",
       " 3781,\n",
       " 726,\n",
       " 652,\n",
       " 584,\n",
       " 672,\n",
       " 671,\n",
       " 637,\n",
       " 728,\n",
       " 698,\n",
       " 699]"
      ]
     },
     "execution_count": 14,
     "metadata": {},
     "output_type": "execute_result"
    }
   ],
   "source": [
    "p = nx.shortest_path(G, source=1125) # target not specified\n",
    "end = list(p)[-1]\n",
    "p[end]"
   ]
  },
  {
   "cell_type": "markdown",
   "metadata": {},
   "source": [
    "#### Max Degrees\n",
    "\n",
    "Get the node with the maximum degrees.  Node 2553 has the most degrees.  It has 19 degrees, meaning it has 19 neighbors."
   ]
  },
  {
   "cell_type": "code",
   "execution_count": 15,
   "metadata": {
    "ExecuteTime": {
     "end_time": "2020-06-12T21:27:27.416644Z",
     "start_time": "2020-06-12T21:27:27.409612Z"
    }
   },
   "outputs": [
    {
     "data": {
      "text/plain": [
       "(2553, 19)"
      ]
     },
     "execution_count": 15,
     "metadata": {},
     "output_type": "execute_result"
    }
   ],
   "source": [
    "deg = nx.degree(G)\n",
    "max_deg = sorted(deg, key=lambda x: x[1], reverse=True)[0]\n",
    "max_deg"
   ]
  },
  {
   "cell_type": "markdown",
   "metadata": {},
   "source": [
    "#### Degree Centrality\n",
    "\n",
    "Get the node with the maximum degree centrality.  Node 2553 has the maximum degree centrality of 0.003846.  Degree centrality of a node is the number of degrees of the node divided by one less than the total number of nodes. In a power grid this node is critical, because if this transformer breaks down, the it can have an impact on many other nodes."
   ]
  },
  {
   "cell_type": "code",
   "execution_count": 16,
   "metadata": {
    "ExecuteTime": {
     "end_time": "2020-06-12T21:27:27.428821Z",
     "start_time": "2020-06-12T21:27:27.418496Z"
    }
   },
   "outputs": [
    {
     "data": {
      "text/plain": [
       "(2553, 0.003846153846153846)"
      ]
     },
     "execution_count": 16,
     "metadata": {},
     "output_type": "execute_result"
    }
   ],
   "source": [
    "deg_cent = nx.degree_centrality(G)\n",
    "max_cent = sorted(deg_cent.items(), key=lambda x: x[1], reverse=True)[0]\n",
    "max_cent"
   ]
  },
  {
   "cell_type": "markdown",
   "metadata": {},
   "source": [
    "#### Closeness Centrality \n",
    "\n",
    "Closeness centrality is based on the shortest paths across all nodes. If the nodes with greatest closeness centrality are loaded correctly, we can minimize cost."
   ]
  },
  {
   "cell_type": "code",
   "execution_count": 68,
   "metadata": {
    "ExecuteTime": {
     "end_time": "2020-06-11T21:04:04.136771Z",
     "start_time": "2020-06-11T21:03:00.544844Z"
    }
   },
   "outputs": [
    {
     "data": {
      "text/plain": [
       "(1308, 0.08182330142114155)"
      ]
     },
     "execution_count": 68,
     "metadata": {},
     "output_type": "execute_result"
    }
   ],
   "source": [
    "close_cent = nx.closeness_centrality(G)\n",
    "max_close_cent = sorted(close_cent.items(), key=lambda x: x[1], reverse=True)[0]\n",
    "max_close_cent"
   ]
  },
  {
   "cell_type": "markdown",
   "metadata": {},
   "source": [
    "#### Betweenness Centrality\n",
    "\n",
    "Betweenness centrality looks at the number of times a node acts as a bridge along the shortest path across two other nodes. This is in many ways related to closeness centrality"
   ]
  },
  {
   "cell_type": "code",
   "execution_count": 67,
   "metadata": {
    "ExecuteTime": {
     "end_time": "2020-06-11T20:50:56.376680Z",
     "start_time": "2020-06-11T20:49:05.854089Z"
    }
   },
   "outputs": [
    {
     "data": {
      "text/plain": [
       "(4164, 0.28841562147939626)"
      ]
     },
     "execution_count": 67,
     "metadata": {},
     "output_type": "execute_result"
    }
   ],
   "source": [
    "bet_cent = nx.betweenness_centrality(G)\n",
    "max_bet_cent = sorted(bet_cent.items(), key=lambda x: x[1], reverse=True)[0]\n",
    "max_bet_cent"
   ]
  },
  {
   "cell_type": "markdown",
   "metadata": {},
   "source": [
    "#### Plotting Highest Degree Node with Network\n",
    "\n",
    "Here is node 2553 and its immediate neighbors (plotted using Gephi).\n",
    "\n",
    "![Note with most degree centrality](2553.png)"
   ]
  },
  {
   "cell_type": "markdown",
   "metadata": {},
   "source": [
    "#### Summary Graph\n",
    "\n",
    "Here is a summary graph with all nodes. Distances have been modified using a Force Atlas layout. This layout is a type of force directed layout. High degree nodes are accentuated."
   ]
  },
  {
   "cell_type": "markdown",
   "metadata": {},
   "source": [
    "![Nodes with most connections](gephi_all_nodes.png)"
   ]
  }
 ],
 "metadata": {
  "kernelspec": {
   "display_name": "test-env",
   "language": "python",
   "name": "test-env"
  },
  "toc": {
   "base_numbering": 1,
   "nav_menu": {},
   "number_sections": true,
   "sideBar": true,
   "skip_h1_title": false,
   "title_cell": "Table of Contents",
   "title_sidebar": "Contents",
   "toc_cell": false,
   "toc_position": {},
   "toc_section_display": true,
   "toc_window_display": false
  }
 },
 "nbformat": 4,
 "nbformat_minor": 4
}
