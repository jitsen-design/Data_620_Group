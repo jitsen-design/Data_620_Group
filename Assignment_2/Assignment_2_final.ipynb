{
 "cells": [
  {
   "cell_type": "markdown",
   "metadata": {},
   "source": [
    "# Data 620 Assignment: Graph Visualization\n",
    "\n",
    "Jithendra Seneviratne, Sheryl Piechocki \n",
    "\n",
    "June 7, 2020"
   ]
  },
  {
   "cell_type": "code",
   "execution_count": 57,
   "metadata": {
    "ExecuteTime": {
     "end_time": "2020-06-11T20:44:49.576806Z",
     "start_time": "2020-06-11T20:44:49.542371Z"
    }
   },
   "outputs": [],
   "source": [
    "import networkx as nx\n",
    "import pandas as pd\n",
    "import matplotlib.pyplot as plt"
   ]
  },
  {
   "cell_type": "markdown",
   "metadata": {},
   "source": [
    "Western States power grid network data\n",
    "http://networkdata.ics.uci.edu/data/power/\n",
    "citation: D. J. Watts and S. H. Strogatz, \"Collective dynamics of 'small-world' networks\", *Nature* 393, 440-442 (1998)."
   ]
  },
  {
   "cell_type": "code",
   "execution_count": 58,
   "metadata": {
    "ExecuteTime": {
     "end_time": "2020-06-11T20:44:51.322046Z",
     "start_time": "2020-06-11T20:44:50.866864Z"
    }
   },
   "outputs": [],
   "source": [
    "G = nx.read_gml('power.gml', label='id')"
   ]
  },
  {
   "cell_type": "markdown",
   "metadata": {},
   "source": [
    "Get the number of nodes in the graph"
   ]
  },
  {
   "cell_type": "code",
   "execution_count": 59,
   "metadata": {
    "ExecuteTime": {
     "end_time": "2020-06-11T20:44:52.522138Z",
     "start_time": "2020-06-11T20:44:52.512398Z"
    }
   },
   "outputs": [
    {
     "data": {
      "text/plain": [
       "4941"
      ]
     },
     "execution_count": 59,
     "metadata": {},
     "output_type": "execute_result"
    }
   ],
   "source": [
    "G.number_of_nodes()"
   ]
  },
  {
   "cell_type": "markdown",
   "metadata": {},
   "source": [
    "Get the number of edges in the graph"
   ]
  },
  {
   "cell_type": "code",
   "execution_count": 60,
   "metadata": {
    "ExecuteTime": {
     "end_time": "2020-06-11T20:44:53.961219Z",
     "start_time": "2020-06-11T20:44:53.948459Z"
    }
   },
   "outputs": [
    {
     "data": {
      "text/plain": [
       "6594"
      ]
     },
     "execution_count": 60,
     "metadata": {},
     "output_type": "execute_result"
    }
   ],
   "source": [
    "G.number_of_edges()"
   ]
  },
  {
   "cell_type": "markdown",
   "metadata": {},
   "source": [
    "Check if the graph is connected"
   ]
  },
  {
   "cell_type": "code",
   "execution_count": 61,
   "metadata": {
    "ExecuteTime": {
     "end_time": "2020-06-11T20:44:55.796219Z",
     "start_time": "2020-06-11T20:44:55.774887Z"
    }
   },
   "outputs": [
    {
     "data": {
      "text/plain": [
       "True"
      ]
     },
     "execution_count": 61,
     "metadata": {},
     "output_type": "execute_result"
    }
   ],
   "source": [
    "nx.is_connected(G)"
   ]
  },
  {
   "cell_type": "markdown",
   "metadata": {},
   "source": [
    "Get the diameter of the graph"
   ]
  },
  {
   "cell_type": "code",
   "execution_count": 62,
   "metadata": {
    "ExecuteTime": {
     "end_time": "2020-06-11T20:46:04.275654Z",
     "start_time": "2020-06-11T20:44:57.442990Z"
    }
   },
   "outputs": [
    {
     "data": {
      "text/plain": [
       "46"
      ]
     },
     "execution_count": 62,
     "metadata": {},
     "output_type": "execute_result"
    }
   ],
   "source": [
    "diam = nx.diameter(G)\n",
    "diam"
   ]
  },
  {
   "cell_type": "markdown",
   "metadata": {},
   "source": [
    "Get the center of the graph"
   ]
  },
  {
   "cell_type": "code",
   "execution_count": 63,
   "metadata": {
    "ExecuteTime": {
     "end_time": "2020-06-11T20:47:10.642818Z",
     "start_time": "2020-06-11T20:46:04.277899Z"
    }
   },
   "outputs": [
    {
     "data": {
      "text/plain": [
       "[1125]"
      ]
     },
     "execution_count": 63,
     "metadata": {},
     "output_type": "execute_result"
    }
   ],
   "source": [
    "cent = nx.center(G)\n",
    "cent"
   ]
  },
  {
   "cell_type": "markdown",
   "metadata": {},
   "source": [
    "Get the node with the maximum degrees"
   ]
  },
  {
   "cell_type": "code",
   "execution_count": 54,
   "metadata": {
    "ExecuteTime": {
     "end_time": "2020-06-10T19:27:35.889801Z",
     "start_time": "2020-06-10T19:27:35.874943Z"
    }
   },
   "outputs": [
    {
     "data": {
      "text/plain": [
       "(2553, 19)"
      ]
     },
     "execution_count": 54,
     "metadata": {},
     "output_type": "execute_result"
    }
   ],
   "source": [
    "deg = nx.degree(G)\n",
    "max_deg = sorted(deg, key=lambda x: x[1], reverse=True)[0]\n",
    "max_deg"
   ]
  },
  {
   "cell_type": "markdown",
   "metadata": {},
   "source": [
    "Get the node with the maximum degree centrality\n",
    "\n",
    "Degree centrality is normalized, but it should yield the same node as the the node with maximum degrees"
   ]
  },
  {
   "cell_type": "code",
   "execution_count": 65,
   "metadata": {
    "ExecuteTime": {
     "end_time": "2020-06-11T20:48:46.751572Z",
     "start_time": "2020-06-11T20:48:46.735238Z"
    }
   },
   "outputs": [
    {
     "data": {
      "text/plain": [
       "(2553, 0.003846153846153846)"
      ]
     },
     "execution_count": 65,
     "metadata": {},
     "output_type": "execute_result"
    }
   ],
   "source": [
    "deg_cent = nx.degree_centrality(G)\n",
    "max_cent = sorted(deg_cent.items(), key=lambda x: x[1], reverse=True)[0]\n",
    "max_cent"
   ]
  },
  {
   "cell_type": "code",
   "execution_count": 67,
   "metadata": {
    "ExecuteTime": {
     "end_time": "2020-06-11T20:50:56.376680Z",
     "start_time": "2020-06-11T20:49:05.854089Z"
    }
   },
   "outputs": [
    {
     "data": {
      "text/plain": [
       "(4164, 0.28841562147939626)"
      ]
     },
     "execution_count": 67,
     "metadata": {},
     "output_type": "execute_result"
    }
   ],
   "source": [
    "bet_cent = nx.betweenness_centrality(G)\n",
    "max_bet_cent = sorted(bet_cent.items(), key=lambda x: x[1], reverse=True)[0]\n",
    "max_bet_cent"
   ]
  },
  {
   "cell_type": "code",
   "execution_count": 68,
   "metadata": {
    "ExecuteTime": {
     "end_time": "2020-06-11T21:04:04.136771Z",
     "start_time": "2020-06-11T21:03:00.544844Z"
    }
   },
   "outputs": [
    {
     "data": {
      "text/plain": [
       "(1308, 0.08182330142114155)"
      ]
     },
     "execution_count": 68,
     "metadata": {},
     "output_type": "execute_result"
    }
   ],
   "source": [
    "close_cent = nx.closeness_centrality(G)\n",
    "max_close_cent = sorted(close_cent.items(), key=lambda x: x[1], reverse=True)[0]\n",
    "max_close_cent"
   ]
  },
  {
   "cell_type": "markdown",
   "metadata": {},
   "source": [
    "Image using Gephi to plot nodes with five or more connections\n",
    "\n",
    "![Note with most degree centrality](2553.png)"
   ]
  },
  {
   "cell_type": "markdown",
   "metadata": {},
   "source": [
    "![Nodes with most connections](gephi_all_nodes.png)"
   ]
  },
  {
   "cell_type": "code",
   "execution_count": null,
   "metadata": {},
   "outputs": [],
   "source": []
  }
 ],
 "metadata": {
  "kernelspec": {
   "display_name": "test-env",
   "language": "python",
   "name": "test-env"
  },
  "language_info": {
   "codemirror_mode": {
    "name": "ipython",
    "version": 3
   },
   "file_extension": ".py",
   "mimetype": "text/x-python",
   "name": "python",
   "nbconvert_exporter": "python",
   "pygments_lexer": "ipython3",
   "version": "3.7.5"
  },
  "toc": {
   "base_numbering": 1,
   "nav_menu": {},
   "number_sections": true,
   "sideBar": true,
   "skip_h1_title": false,
   "title_cell": "Table of Contents",
   "title_sidebar": "Contents",
   "toc_cell": false,
   "toc_position": {},
   "toc_section_display": true,
   "toc_window_display": false
  }
 },
 "nbformat": 4,
 "nbformat_minor": 4
}
