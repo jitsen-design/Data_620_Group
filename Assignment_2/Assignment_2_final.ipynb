{
 "cells": [
  {
   "cell_type": "markdown",
   "metadata": {},
   "source": [
    "# Data 620 Assignment: Graph Visualization\n",
    "\n",
    "Jithendra Seneviratne, Sheryl Piechocki \n",
    "\n",
    "June 7, 2020"
   ]
  },
  {
   "cell_type": "markdown",
   "metadata": {},
   "source": [
    "### Youtube video\n",
    "[Video link](https://youtu.be/iNLIJAGLu2A)"
   ]
  },
  {
   "cell_type": "code",
   "execution_count": 1,
   "metadata": {
    "ExecuteTime": {
     "end_time": "2020-06-18T00:21:53.945944Z",
     "start_time": "2020-06-18T00:21:52.496552Z"
    }
   },
   "outputs": [],
   "source": [
    "import networkx as nx\n",
    "import pandas as pd\n",
    "import matplotlib.pyplot as plt"
   ]
  },
  {
   "cell_type": "markdown",
   "metadata": {},
   "source": [
    "The data used in this graph visualization assignment is the power grid of the western United States.  In this data a node is a transformer, generator, or substation and the edges are the power transmission lines.  It is an undirected network.  Power grid network analysis is important because failures at one node or interruptions in one edge, can have wide reaching effects causing power outages for thousands or millions of customers.  In this assignment we take a look at some basic information about this power grid network.\n",
    "\n",
    "The data is available here: http://networkdata.ics.uci.edu/data/power/\n",
    "D. J. Watts and S. H. Strogatz, \"Collective dynamics of 'small-world' networks\", *Nature* 393, 440-442 (1998)."
   ]
  },
  {
   "cell_type": "code",
   "execution_count": 2,
   "metadata": {
    "ExecuteTime": {
     "end_time": "2020-06-18T00:21:54.375514Z",
     "start_time": "2020-06-18T00:21:53.948263Z"
    }
   },
   "outputs": [],
   "source": [
    "G = nx.read_gml('power.gml', label='id')"
   ]
  },
  {
   "cell_type": "markdown",
   "metadata": {},
   "source": [
    "#### Graph Nodes\n",
    "\n",
    "Get the number of nodes in the graph.  The network has 4,941 nodes.  These are transformers, generators, or substations."
   ]
  },
  {
   "cell_type": "code",
   "execution_count": 3,
   "metadata": {
    "ExecuteTime": {
     "end_time": "2020-06-18T00:21:54.383722Z",
     "start_time": "2020-06-18T00:21:54.377837Z"
    }
   },
   "outputs": [
    {
     "data": {
      "text/plain": [
       "4941"
      ]
     },
     "execution_count": 3,
     "metadata": {},
     "output_type": "execute_result"
    }
   ],
   "source": [
    "G.number_of_nodes()"
   ]
  },
  {
   "cell_type": "markdown",
   "metadata": {},
   "source": [
    "#### Graph Edges\n",
    "\n",
    "Get the number of edges in the graph.  There are 6,594 edges in the network."
   ]
  },
  {
   "cell_type": "code",
   "execution_count": 4,
   "metadata": {
    "ExecuteTime": {
     "end_time": "2020-06-18T00:21:54.393959Z",
     "start_time": "2020-06-18T00:21:54.386008Z"
    }
   },
   "outputs": [
    {
     "data": {
      "text/plain": [
       "6594"
      ]
     },
     "execution_count": 4,
     "metadata": {},
     "output_type": "execute_result"
    }
   ],
   "source": [
    "G.number_of_edges()"
   ]
  },
  {
   "cell_type": "markdown",
   "metadata": {},
   "source": [
    "#### Graph Connectedness\n",
    "\n",
    "Check if the graph is connected.  The power network is connected.  This means every node can be reached via some path from every other node."
   ]
  },
  {
   "cell_type": "code",
   "execution_count": 5,
   "metadata": {
    "ExecuteTime": {
     "end_time": "2020-06-18T00:21:54.409509Z",
     "start_time": "2020-06-18T00:21:54.395868Z"
    }
   },
   "outputs": [
    {
     "data": {
      "text/plain": [
       "True"
      ]
     },
     "execution_count": 5,
     "metadata": {},
     "output_type": "execute_result"
    }
   ],
   "source": [
    "nx.is_connected(G)"
   ]
  },
  {
   "cell_type": "markdown",
   "metadata": {},
   "source": [
    "#### Graph Diameter\n",
    "\n",
    "Get the diameter of the graph.  The diameter of the graph is 46.  The maximum shortest path between any two nodes is 46. "
   ]
  },
  {
   "cell_type": "code",
   "execution_count": 6,
   "metadata": {
    "ExecuteTime": {
     "end_time": "2020-06-18T00:23:11.080277Z",
     "start_time": "2020-06-18T00:21:54.411850Z"
    }
   },
   "outputs": [
    {
     "data": {
      "text/plain": [
       "46"
      ]
     },
     "execution_count": 6,
     "metadata": {},
     "output_type": "execute_result"
    }
   ],
   "source": [
    "diam = nx.diameter(G)\n",
    "diam"
   ]
  },
  {
   "cell_type": "markdown",
   "metadata": {},
   "source": [
    "#### Graph Center\n",
    "\n",
    "Get the center of the graph.  Node 1125 is the center of the graph, where the radius is equal to the eccentricity."
   ]
  },
  {
   "cell_type": "code",
   "execution_count": 7,
   "metadata": {
    "ExecuteTime": {
     "end_time": "2020-06-18T00:24:30.782588Z",
     "start_time": "2020-06-18T00:23:11.082234Z"
    }
   },
   "outputs": [
    {
     "data": {
      "text/plain": [
       "[1125]"
      ]
     },
     "execution_count": 7,
     "metadata": {},
     "output_type": "execute_result"
    }
   ],
   "source": [
    "cent = nx.center(G)\n",
    "cent"
   ]
  },
  {
   "cell_type": "markdown",
   "metadata": {},
   "source": [
    "#### Shortest Paths\n",
    "\n",
    "We can find the shortest paths to nodes from the center. Among all shortest paths from node 1125 to others, the distance between node 1125 and node 699 is the greatest.\n"
   ]
  },
  {
   "cell_type": "code",
   "execution_count": 8,
   "metadata": {
    "ExecuteTime": {
     "end_time": "2020-06-18T00:24:30.804116Z",
     "start_time": "2020-06-18T00:24:30.786359Z"
    }
   },
   "outputs": [
    {
     "data": {
      "text/plain": [
       "[1125,\n",
       " 1476,\n",
       " 1308,\n",
       " 2594,\n",
       " 2605,\n",
       " 2606,\n",
       " 2528,\n",
       " 2543,\n",
       " 4219,\n",
       " 4164,\n",
       " 4207,\n",
       " 4206,\n",
       " 4199,\n",
       " 3785,\n",
       " 3781,\n",
       " 726,\n",
       " 652,\n",
       " 584,\n",
       " 672,\n",
       " 671,\n",
       " 637,\n",
       " 728,\n",
       " 698,\n",
       " 699]"
      ]
     },
     "execution_count": 8,
     "metadata": {},
     "output_type": "execute_result"
    }
   ],
   "source": [
    "p = nx.shortest_path(G, source=1125) # target not specified\n",
    "end = list(p)[-1]\n",
    "p[end]"
   ]
  },
  {
   "cell_type": "markdown",
   "metadata": {},
   "source": [
    "#### Distribution of Lengths of Shortest Paths"
   ]
  },
  {
   "cell_type": "code",
   "execution_count": 25,
   "metadata": {
    "ExecuteTime": {
     "end_time": "2020-06-18T00:53:55.292670Z",
     "start_time": "2020-06-18T00:53:55.074410Z"
    }
   },
   "outputs": [
    {
     "data": {
      "image/png": "[encoded data removed]",
      "text/plain": [
       "<Figure size 432x288 with 1 Axes>"
      ]
     },
     "metadata": {
      "needs_background": "light"
     },
     "output_type": "display_data"
    }
   ],
   "source": [
    "pd.Series([len(v) for k, v in p.items()]).hist(bins=40);\n",
    "plt.xlabel(\"Length\");\n",
    "plt.ylabel(\"Counts\");"
   ]
  },
  {
   "cell_type": "markdown",
   "metadata": {},
   "source": [
    "#### Max Degrees (Visualize Top Five)\n",
    "\n",
    "Get the node with the maximum degrees.  Node 2553 has the most degrees.  It has 19 degrees, meaning it has 19 neighbors."
   ]
  },
  {
   "cell_type": "code",
   "execution_count": 23,
   "metadata": {
    "ExecuteTime": {
     "end_time": "2020-06-18T00:50:23.994304Z",
     "start_time": "2020-06-18T00:50:23.865578Z"
    }
   },
   "outputs": [
    {
     "data": {
      "text/plain": [
       "[(2553, 19), (4458, 18), (831, 14), (3468, 14), (4345, 14)]"
      ]
     },
     "execution_count": 23,
     "metadata": {},
     "output_type": "execute_result"
    }
   ],
   "source": [
    "deg = nx.degree(G)\n",
    "max_deg = sorted(deg, key=lambda x: x[1], reverse=True)[:5]\n",
    "max_deg"
   ]
  },
  {
   "cell_type": "markdown",
   "metadata": {},
   "source": [
    "#### Degree Centrality (Visualize Top Five)\n",
    "\n",
    "Get the node with the maximum degree centrality.  Node 2553 has the maximum degree centrality of 0.003846.  Degree centrality of a node is the number of degrees of the node divided by one less than the total number of nodes. In a power grid this node is critical, because if this transformer breaks down, then it can have an impact on many other nodes."
   ]
  },
  {
   "cell_type": "code",
   "execution_count": 13,
   "metadata": {
    "ExecuteTime": {
     "end_time": "2020-06-18T00:37:23.399851Z",
     "start_time": "2020-06-18T00:37:23.379014Z"
    }
   },
   "outputs": [
    {
     "data": {
      "text/plain": [
       "[(2553, 0.003846153846153846),\n",
       " (4458, 0.0036437246963562753),\n",
       " (831, 0.0028340080971659917),\n",
       " (3468, 0.0028340080971659917),\n",
       " (4345, 0.0028340080971659917)]"
      ]
     },
     "execution_count": 13,
     "metadata": {},
     "output_type": "execute_result"
    }
   ],
   "source": [
    "deg_cent = nx.degree_centrality(G)\n",
    "max_cent = sorted(deg_cent.items(), key=lambda x: x[1], reverse=True)[:5]\n",
    "max_cent"
   ]
  },
  {
   "cell_type": "markdown",
   "metadata": {},
   "source": [
    "#### Closeness Centrality (Visualize Top Five)\n",
    "\n",
    "Closeness centrality is based on the shortest paths across all nodes. If the nodes with greatest closeness centrality are loaded correctly, we can minimize cost.  Node 1308 has the maximum closeness centrality."
   ]
  },
  {
   "cell_type": "code",
   "execution_count": 14,
   "metadata": {
    "ExecuteTime": {
     "end_time": "2020-06-18T00:37:28.353642Z",
     "start_time": "2020-06-18T00:37:28.344795Z"
    }
   },
   "outputs": [
    {
     "data": {
      "text/plain": [
       "[(1308, 0.08182330142114155),\n",
       " (2594, 0.0809437981320662),\n",
       " (2605, 0.08035786905246035),\n",
       " (1131, 0.07987194619153098),\n",
       " (2606, 0.0796260477111541)]"
      ]
     },
     "execution_count": 14,
     "metadata": {},
     "output_type": "execute_result"
    }
   ],
   "source": [
    "close_cent = nx.closeness_centrality(G)\n",
    "max_close_cent = sorted(close_cent.items(), key=lambda x: x[1], reverse=True)[:5]\n",
    "max_close_cent"
   ]
  },
  {
   "cell_type": "markdown",
   "metadata": {},
   "source": [
    "#### Betweenness Centrality (Visualize Top Five)\n",
    "\n",
    "Betweenness centrality looks at the number of times a node acts as a bridge along the shortest path across two other nodes. This is in many ways related to closeness centrality.  Node 4164 has the maximum betweenness centrality."
   ]
  },
  {
   "cell_type": "code",
   "execution_count": 15,
   "metadata": {
    "ExecuteTime": {
     "end_time": "2020-06-18T00:37:32.064196Z",
     "start_time": "2020-06-18T00:37:32.055319Z"
    }
   },
   "outputs": [
    {
     "data": {
      "text/plain": [
       "[(4164, 0.28841562147939626),\n",
       " (2543, 0.281698123316245),\n",
       " (1243, 0.2796951897344535),\n",
       " (4219, 0.27764988777849753),\n",
       " (2528, 0.2673044750046778)]"
      ]
     },
     "execution_count": 15,
     "metadata": {},
     "output_type": "execute_result"
    }
   ],
   "source": [
    "bet_cent = nx.betweenness_centrality(G)\n",
    "max_bet_cent = sorted(bet_cent.items(), key=lambda x: x[1], reverse=True)[:5]\n",
    "max_bet_cent"
   ]
  },
  {
   "cell_type": "markdown",
   "metadata": {},
   "source": [
    "#### Plotting Highest Degree Node with Network\n",
    "\n",
    "Here is node 2553 and its immediate neighbors (plotted using Gephi).\n",
    "\n",
    "![Note with most degree centrality](2553.png)"
   ]
  },
  {
   "cell_type": "markdown",
   "metadata": {},
   "source": [
    "#### Summary Graph\n",
    "\n",
    "Here is a summary graph with all nodes. Distances have been modified using a Force Atlas layout. This layout is a type of force directed layout. High degree nodes are accentuated."
   ]
  },
  {
   "cell_type": "markdown",
   "metadata": {},
   "source": [
    "![Nodes with most connections](gephi_all_nodes.png)"
   ]
  }
 ],
 "metadata": {
  "kernelspec": {
   "display_name": "test-env",
   "language": "python",
   "name": "test-env"
  },
  "language_info": {
   "codemirror_mode": {
    "name": "ipython",
    "version": 3
   },
   "file_extension": ".py",
   "mimetype": "text/x-python",
   "name": "python",
   "nbconvert_exporter": "python",
   "pygments_lexer": "ipython3",
   "version": "3.7.5"
  },
  "toc": {
   "base_numbering": 1,
   "nav_menu": {},
   "number_sections": true,
   "sideBar": true,
   "skip_h1_title": false,
   "title_cell": "Table of Contents",
   "title_sidebar": "Contents",
   "toc_cell": false,
   "toc_position": {},
   "toc_section_display": true,
   "toc_window_display": false
  }
 },
 "nbformat": 4,
 "nbformat_minor": 4
}
