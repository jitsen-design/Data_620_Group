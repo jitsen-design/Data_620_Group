{
 "cells": [
  {
   "cell_type": "markdown",
   "metadata": {},
   "source": [
    "## Data 620 Project 2\n",
    "### 2-Node Network Analysis\n",
    "Jit Seneviratne and Sheryl Piechocki \n",
    "June 27, 2020\n",
    "\n",
    "Video clip \n",
    "\n",
    "**Dataset**\n",
    "The data used in this project is from a database compiled by Olival, K., Hosseini, P., Zambrana-Torrelio, C. et al. It contains  2,805 mammal–virus associations, including 754 mammal species 586 unique viral species.  Also included is a measure of detection for the association that relates to the quality of the association.  Included attributes are virus genus and mammal classification of wild vs. domestic.  \n",
    "\n",
    "Source: Olival, K., Hosseini, P., Zambrana-Torrelio, C. et al. Host and viral traits predict zoonotic spillover from mammals. *Nature* 546, 646–650 (2017). https://doi.org/10.1038/nature22975  \n",
    "Data: https://zenodo.org/record/807517#.XveDWPXPxPY\n",
    "\n",
    "**Analysis**\n",
    "The association, virus, and hosts files will be loaded for analysis.  Common names will be mapped to hosts.  The bipartite network will be projected onto both a hosts and virus sub-network.  Hosts and virus networks will be analyzed using various centrality measures and reduced to visualize clusters.\n"
   ]
  },
  {
   "cell_type": "code",
   "execution_count": 1,
   "metadata": {
    "ExecuteTime": {
     "end_time": "2020-06-26T00:45:44.451833Z",
     "start_time": "2020-06-26T00:45:43.050220Z"
    }
   },
   "outputs": [],
   "source": [
    "import pandas as pd\n",
    "import numpy as np\n",
    "import plotly.graph_objects as go\n",
    "import networkx as nx\n",
    "import matplotlib.pyplot as plt"
   ]
  },
  {
   "cell_type": "markdown",
   "metadata": {},
   "source": [
    "### Load the data"
   ]
  },
  {
   "cell_type": "code",
   "execution_count": 2,
   "metadata": {
    "ExecuteTime": {
     "end_time": "2020-06-26T00:51:40.148855Z",
     "start_time": "2020-06-26T00:51:40.125383Z"
    }
   },
   "outputs": [
    {
     "data": {
      "text/html": [
       "<div>\n",
       "<style scoped>\n",
       "    .dataframe tbody tr th:only-of-type {\n",
       "        vertical-align: middle;\n",
       "    }\n",
       "\n",
       "    .dataframe tbody tr th {\n",
       "        vertical-align: top;\n",
       "    }\n",
       "\n",
       "    .dataframe thead th {\n",
       "        text-align: right;\n",
       "    }\n",
       "</style>\n",
       "<table border=\"1\" class=\"dataframe\">\n",
       "  <thead>\n",
       "    <tr style=\"text-align: right;\">\n",
       "      <th></th>\n",
       "      <th>vVirusNameCorrected</th>\n",
       "      <th>hHostNameFinal</th>\n",
       "      <th>WildDomInReference</th>\n",
       "      <th>DetectionMethod</th>\n",
       "      <th>DetectionQuality</th>\n",
       "      <th>Reference</th>\n",
       "    </tr>\n",
       "  </thead>\n",
       "  <tbody>\n",
       "    <tr>\n",
       "      <th>0</th>\n",
       "      <td>Andes_virus</td>\n",
       "      <td>Abrothrix_longipilis</td>\n",
       "      <td>wild</td>\n",
       "      <td>PCR</td>\n",
       "      <td>2.0</td>\n",
       "      <td>Medina et al. 2009</td>\n",
       "    </tr>\n",
       "    <tr>\n",
       "      <th>1</th>\n",
       "      <td>Andes_virus</td>\n",
       "      <td>Abrothrix_olivaceus</td>\n",
       "      <td>wild</td>\n",
       "      <td>Antibodies</td>\n",
       "      <td>0.0</td>\n",
       "      <td>Sosa-Estani et al. 2002</td>\n",
       "    </tr>\n",
       "    <tr>\n",
       "      <th>2</th>\n",
       "      <td>Andes_virus</td>\n",
       "      <td>Abrothrix_sanborni</td>\n",
       "      <td>wild</td>\n",
       "      <td>Antibodies</td>\n",
       "      <td>0.0</td>\n",
       "      <td>Padula et al. 2004</td>\n",
       "    </tr>\n",
       "    <tr>\n",
       "      <th>3</th>\n",
       "      <td>African_horse_sickness_virus</td>\n",
       "      <td>Acinonyx_jubatus</td>\n",
       "      <td>wild</td>\n",
       "      <td>bcELISA</td>\n",
       "      <td>0.0</td>\n",
       "      <td>Alexander et al. 1995</td>\n",
       "    </tr>\n",
       "    <tr>\n",
       "      <th>4</th>\n",
       "      <td>Bluetongue_virus</td>\n",
       "      <td>Acinonyx_jubatus</td>\n",
       "      <td>wild</td>\n",
       "      <td>Antibodies</td>\n",
       "      <td>0.0</td>\n",
       "      <td>Alexander et al. 1994</td>\n",
       "    </tr>\n",
       "  </tbody>\n",
       "</table>\n",
       "</div>"
      ],
      "text/plain": [
       "            vVirusNameCorrected        hHostNameFinal WildDomInReference  \\\n",
       "0                   Andes_virus  Abrothrix_longipilis               wild   \n",
       "1                   Andes_virus   Abrothrix_olivaceus               wild   \n",
       "2                   Andes_virus    Abrothrix_sanborni               wild   \n",
       "3  African_horse_sickness_virus      Acinonyx_jubatus               wild   \n",
       "4              Bluetongue_virus      Acinonyx_jubatus               wild   \n",
       "\n",
       "  DetectionMethod  DetectionQuality                Reference  \n",
       "0             PCR               2.0       Medina et al. 2009  \n",
       "1      Antibodies               0.0  Sosa-Estani et al. 2002  \n",
       "2      Antibodies               0.0       Padula et al. 2004  \n",
       "3         bcELISA               0.0    Alexander et al. 1995  \n",
       "4      Antibodies               0.0    Alexander et al. 1994  "
      ]
     },
     "execution_count": 2,
     "metadata": {},
     "output_type": "execute_result"
    }
   ],
   "source": [
    "data_df = pd.read_csv(\"data_files/associations.csv\")\n",
    "data_df.head()"
   ]
  },
  {
   "cell_type": "code",
   "execution_count": 3,
   "metadata": {
    "ExecuteTime": {
     "end_time": "2020-06-26T00:51:41.569798Z",
     "start_time": "2020-06-26T00:51:41.539101Z"
    }
   },
   "outputs": [
    {
     "data": {
      "text/html": [
       "<div>\n",
       "<style scoped>\n",
       "    .dataframe tbody tr th:only-of-type {\n",
       "        vertical-align: middle;\n",
       "    }\n",
       "\n",
       "    .dataframe tbody tr th {\n",
       "        vertical-align: top;\n",
       "    }\n",
       "\n",
       "    .dataframe thead th {\n",
       "        text-align: right;\n",
       "    }\n",
       "</style>\n",
       "<table border=\"1\" class=\"dataframe\">\n",
       "  <thead>\n",
       "    <tr style=\"text-align: right;\">\n",
       "      <th></th>\n",
       "      <th>vVirusNameCorrected</th>\n",
       "      <th>vOrder</th>\n",
       "      <th>vFamily</th>\n",
       "      <th>vSubfamily</th>\n",
       "      <th>vGenus</th>\n",
       "      <th>vIsTypeSpecies</th>\n",
       "      <th>vICTVnumber</th>\n",
       "      <th>ReverseZoonoses</th>\n",
       "      <th>IsHoSa</th>\n",
       "      <th>IsHoSa.stringent</th>\n",
       "      <th>...</th>\n",
       "      <th>vWOKcites</th>\n",
       "      <th>vPubMedCites</th>\n",
       "      <th>vCytoReplicTF</th>\n",
       "      <th>vSegmentedTF</th>\n",
       "      <th>vVectorYNna</th>\n",
       "      <th>vSSoDS</th>\n",
       "      <th>vDNAoRNA</th>\n",
       "      <th>vEnvelope</th>\n",
       "      <th>IsZoonotic</th>\n",
       "      <th>IsZoonotic.stringent</th>\n",
       "    </tr>\n",
       "  </thead>\n",
       "  <tbody>\n",
       "    <tr>\n",
       "      <th>0</th>\n",
       "      <td>Adelaide_River_virus</td>\n",
       "      <td>Mononegavirales</td>\n",
       "      <td>Rhabdoviridae</td>\n",
       "      <td>NaN</td>\n",
       "      <td>Ephemerovirus</td>\n",
       "      <td>0</td>\n",
       "      <td>NaN</td>\n",
       "      <td>0</td>\n",
       "      <td>0</td>\n",
       "      <td>0</td>\n",
       "      <td>...</td>\n",
       "      <td>6</td>\n",
       "      <td>7</td>\n",
       "      <td>True</td>\n",
       "      <td>False</td>\n",
       "      <td>Y</td>\n",
       "      <td>SS</td>\n",
       "      <td>RNA</td>\n",
       "      <td>enveloped</td>\n",
       "      <td>0</td>\n",
       "      <td>0</td>\n",
       "    </tr>\n",
       "    <tr>\n",
       "      <th>1</th>\n",
       "      <td>Adeno-associated_virus-1</td>\n",
       "      <td>Unassigned</td>\n",
       "      <td>Parvoviridae</td>\n",
       "      <td>Parvovirinae</td>\n",
       "      <td>Dependovirus</td>\n",
       "      <td>0</td>\n",
       "      <td>00.050.1.03.002.</td>\n",
       "      <td>0</td>\n",
       "      <td>1</td>\n",
       "      <td>0</td>\n",
       "      <td>...</td>\n",
       "      <td>54</td>\n",
       "      <td>14</td>\n",
       "      <td>False</td>\n",
       "      <td>False</td>\n",
       "      <td>NaN</td>\n",
       "      <td>SS</td>\n",
       "      <td>DNA</td>\n",
       "      <td>non-enveloped</td>\n",
       "      <td>1</td>\n",
       "      <td>0</td>\n",
       "    </tr>\n",
       "    <tr>\n",
       "      <th>2</th>\n",
       "      <td>Adeno-associated_virus-2</td>\n",
       "      <td>Unassigned</td>\n",
       "      <td>Parvoviridae</td>\n",
       "      <td>Parvovirinae</td>\n",
       "      <td>Dependovirus</td>\n",
       "      <td>1</td>\n",
       "      <td>00.050.1.03.001.</td>\n",
       "      <td>1</td>\n",
       "      <td>1</td>\n",
       "      <td>1</td>\n",
       "      <td>...</td>\n",
       "      <td>573</td>\n",
       "      <td>381</td>\n",
       "      <td>False</td>\n",
       "      <td>False</td>\n",
       "      <td>NaN</td>\n",
       "      <td>SS</td>\n",
       "      <td>DNA</td>\n",
       "      <td>non-enveloped</td>\n",
       "      <td>1</td>\n",
       "      <td>0</td>\n",
       "    </tr>\n",
       "    <tr>\n",
       "      <th>3</th>\n",
       "      <td>Adeno-associated_virus-5</td>\n",
       "      <td>Unassigned</td>\n",
       "      <td>Parvoviridae</td>\n",
       "      <td>Parvovirinae</td>\n",
       "      <td>Dependovirus</td>\n",
       "      <td>0</td>\n",
       "      <td>NaN</td>\n",
       "      <td>0</td>\n",
       "      <td>1</td>\n",
       "      <td>1</td>\n",
       "      <td>...</td>\n",
       "      <td>4</td>\n",
       "      <td>4</td>\n",
       "      <td>False</td>\n",
       "      <td>False</td>\n",
       "      <td>NaN</td>\n",
       "      <td>SS</td>\n",
       "      <td>DNA</td>\n",
       "      <td>non-enveloped</td>\n",
       "      <td>0</td>\n",
       "      <td>0</td>\n",
       "    </tr>\n",
       "    <tr>\n",
       "      <th>4</th>\n",
       "      <td>African_green_monkey_polyomavirus</td>\n",
       "      <td>Unassigned</td>\n",
       "      <td>Polyomaviridae</td>\n",
       "      <td>NaN</td>\n",
       "      <td>Polyomavirus</td>\n",
       "      <td>NaN</td>\n",
       "      <td>NaN</td>\n",
       "      <td>0</td>\n",
       "      <td>1</td>\n",
       "      <td>0</td>\n",
       "      <td>...</td>\n",
       "      <td>1</td>\n",
       "      <td>0</td>\n",
       "      <td>True</td>\n",
       "      <td>False</td>\n",
       "      <td>N</td>\n",
       "      <td>DS</td>\n",
       "      <td>DNA</td>\n",
       "      <td>non-enveloped</td>\n",
       "      <td>1</td>\n",
       "      <td>0</td>\n",
       "    </tr>\n",
       "  </tbody>\n",
       "</table>\n",
       "<p>5 rows × 23 columns</p>\n",
       "</div>"
      ],
      "text/plain": [
       "                 vVirusNameCorrected           vOrder         vFamily  \\\n",
       "0               Adelaide_River_virus  Mononegavirales   Rhabdoviridae   \n",
       "1           Adeno-associated_virus-1       Unassigned    Parvoviridae   \n",
       "2           Adeno-associated_virus-2       Unassigned    Parvoviridae   \n",
       "3           Adeno-associated_virus-5       Unassigned    Parvoviridae   \n",
       "4  African_green_monkey_polyomavirus       Unassigned  Polyomaviridae   \n",
       "\n",
       "     vSubfamily         vGenus vIsTypeSpecies       vICTVnumber  \\\n",
       "0           NaN  Ephemerovirus              0               NaN   \n",
       "1  Parvovirinae   Dependovirus              0  00.050.1.03.002.   \n",
       "2  Parvovirinae   Dependovirus              1  00.050.1.03.001.   \n",
       "3  Parvovirinae   Dependovirus              0               NaN   \n",
       "4           NaN   Polyomavirus            NaN               NaN   \n",
       "\n",
       "   ReverseZoonoses  IsHoSa  IsHoSa.stringent  ...  vWOKcites  vPubMedCites  \\\n",
       "0                0       0                 0  ...          6             7   \n",
       "1                0       1                 0  ...         54            14   \n",
       "2                1       1                 1  ...        573           381   \n",
       "3                0       1                 1  ...          4             4   \n",
       "4                0       1                 0  ...          1             0   \n",
       "\n",
       "   vCytoReplicTF  vSegmentedTF  vVectorYNna vSSoDS  vDNAoRNA      vEnvelope  \\\n",
       "0           True         False            Y     SS       RNA      enveloped   \n",
       "1          False         False          NaN     SS       DNA  non-enveloped   \n",
       "2          False         False          NaN     SS       DNA  non-enveloped   \n",
       "3          False         False          NaN     SS       DNA  non-enveloped   \n",
       "4           True         False            N     DS       DNA  non-enveloped   \n",
       "\n",
       "  IsZoonotic IsZoonotic.stringent  \n",
       "0          0                    0  \n",
       "1          1                    0  \n",
       "2          1                    0  \n",
       "3          0                    0  \n",
       "4          1                    0  \n",
       "\n",
       "[5 rows x 23 columns]"
      ]
     },
     "execution_count": 3,
     "metadata": {},
     "output_type": "execute_result"
    }
   ],
   "source": [
    "virus_df = pd.read_csv(\"data_files/viruses.csv\")\n",
    "virus_df.head()"
   ]
  },
  {
   "cell_type": "code",
   "execution_count": 4,
   "metadata": {
    "ExecuteTime": {
     "end_time": "2020-06-26T00:51:43.068627Z",
     "start_time": "2020-06-26T00:51:43.045293Z"
    }
   },
   "outputs": [
    {
     "data": {
      "text/html": [
       "<div>\n",
       "<style scoped>\n",
       "    .dataframe tbody tr th:only-of-type {\n",
       "        vertical-align: middle;\n",
       "    }\n",
       "\n",
       "    .dataframe tbody tr th {\n",
       "        vertical-align: top;\n",
       "    }\n",
       "\n",
       "    .dataframe thead th {\n",
       "        text-align: right;\n",
       "    }\n",
       "</style>\n",
       "<table border=\"1\" class=\"dataframe\">\n",
       "  <thead>\n",
       "    <tr style=\"text-align: right;\">\n",
       "      <th></th>\n",
       "      <th>hHostNameFinal</th>\n",
       "      <th>Common_names_Eng</th>\n",
       "    </tr>\n",
       "  </thead>\n",
       "  <tbody>\n",
       "    <tr>\n",
       "      <th>0</th>\n",
       "      <td>Abrothrix_longipilis</td>\n",
       "      <td>Long-haired Akodont</td>\n",
       "    </tr>\n",
       "    <tr>\n",
       "      <th>1</th>\n",
       "      <td>Abrothrix_olivaceus</td>\n",
       "      <td>Olive Grass Mouse</td>\n",
       "    </tr>\n",
       "    <tr>\n",
       "      <th>2</th>\n",
       "      <td>Abrothrix_sanborni</td>\n",
       "      <td>Sanborn's Grass Mouse</td>\n",
       "    </tr>\n",
       "    <tr>\n",
       "      <th>3</th>\n",
       "      <td>Acinonyx_jubatus</td>\n",
       "      <td>Cheetah</td>\n",
       "    </tr>\n",
       "    <tr>\n",
       "      <th>4</th>\n",
       "      <td>Aepyceros_melampus</td>\n",
       "      <td>Black-faced Impala</td>\n",
       "    </tr>\n",
       "  </tbody>\n",
       "</table>\n",
       "</div>"
      ],
      "text/plain": [
       "         hHostNameFinal       Common_names_Eng\n",
       "0  Abrothrix_longipilis    Long-haired Akodont\n",
       "1   Abrothrix_olivaceus      Olive Grass Mouse\n",
       "2    Abrothrix_sanborni  Sanborn's Grass Mouse\n",
       "3      Acinonyx_jubatus                Cheetah\n",
       "4    Aepyceros_melampus     Black-faced Impala"
      ]
     },
     "execution_count": 4,
     "metadata": {},
     "output_type": "execute_result"
    }
   ],
   "source": [
    "host_df = pd.read_csv('data_files/hosts.csv', \n",
    "                      header=0,\n",
    "                      usecols=[0,14])\n",
    "host_df['Common_names_Eng'] = host_df['Common_names_Eng'].apply(lambda x: x.split(',')[0] if not pd.isnull(x) else x)\n",
    "\n",
    "host_df.loc[host_df['Common_names_Eng'].isnull(),\n",
    "            'Common_names_Eng'] = host_df['hHostNameFinal']\n",
    "\n",
    "host_df.head()"
   ]
  },
  {
   "cell_type": "code",
   "execution_count": 5,
   "metadata": {
    "ExecuteTime": {
     "end_time": "2020-06-26T00:52:10.512670Z",
     "start_time": "2020-06-26T00:52:10.505224Z"
    }
   },
   "outputs": [],
   "source": [
    "data_df['DetectionQuality'] = data_df['DetectionQuality'].apply(lambda x: .1 if x == 0 else x)\n",
    "data_df = data_df.dropna(subset=['DetectionQuality'])"
   ]
  },
  {
   "cell_type": "code",
   "execution_count": 6,
   "metadata": {
    "ExecuteTime": {
     "end_time": "2020-06-26T00:52:12.321315Z",
     "start_time": "2020-06-26T00:52:12.314744Z"
    }
   },
   "outputs": [
    {
     "data": {
      "text/plain": [
       "False    2804\n",
       "Name: DetectionQuality, dtype: int64"
      ]
     },
     "execution_count": 6,
     "metadata": {},
     "output_type": "execute_result"
    }
   ],
   "source": [
    "data_df['DetectionQuality'].isnull().value_counts()"
   ]
  },
  {
   "cell_type": "code",
   "execution_count": 7,
   "metadata": {
    "ExecuteTime": {
     "end_time": "2020-06-26T00:52:19.629180Z",
     "start_time": "2020-06-26T00:52:19.625320Z"
    }
   },
   "outputs": [],
   "source": [
    "host_map = {k:v for k,v in zip(host_df['hHostNameFinal'], host_df['Common_names_Eng'])}"
   ]
  },
  {
   "cell_type": "code",
   "execution_count": 8,
   "metadata": {
    "ExecuteTime": {
     "end_time": "2020-06-26T00:52:21.079847Z",
     "start_time": "2020-06-26T00:52:21.074462Z"
    }
   },
   "outputs": [],
   "source": [
    "data_df['HostName'] = data_df['hHostNameFinal'].map(host_map)"
   ]
  },
  {
   "cell_type": "markdown",
   "metadata": {},
   "source": [
    "Check for nulls"
   ]
  },
  {
   "cell_type": "code",
   "execution_count": 9,
   "metadata": {
    "ExecuteTime": {
     "end_time": "2020-06-26T00:52:22.451611Z",
     "start_time": "2020-06-26T00:52:22.444499Z"
    }
   },
   "outputs": [
    {
     "data": {
      "text/plain": [
       "False    2804\n",
       "Name: HostName, dtype: int64"
      ]
     },
     "execution_count": 9,
     "metadata": {},
     "output_type": "execute_result"
    }
   ],
   "source": [
    "data_df['HostName'].isnull().value_counts()"
   ]
  },
  {
   "cell_type": "code",
   "execution_count": 10,
   "metadata": {
    "ExecuteTime": {
     "end_time": "2020-06-26T00:52:37.026284Z",
     "start_time": "2020-06-26T00:52:36.984070Z"
    }
   },
   "outputs": [
    {
     "data": {
      "text/html": [
       "<div>\n",
       "<style scoped>\n",
       "    .dataframe tbody tr th:only-of-type {\n",
       "        vertical-align: middle;\n",
       "    }\n",
       "\n",
       "    .dataframe tbody tr th {\n",
       "        vertical-align: top;\n",
       "    }\n",
       "\n",
       "    .dataframe thead th {\n",
       "        text-align: right;\n",
       "    }\n",
       "</style>\n",
       "<table border=\"1\" class=\"dataframe\">\n",
       "  <thead>\n",
       "    <tr style=\"text-align: right;\">\n",
       "      <th></th>\n",
       "      <th>Aardwolf</th>\n",
       "      <th>Aba Roundleaf Bat</th>\n",
       "      <th>Abruzzo Chamois</th>\n",
       "      <th>Admiralty Flying-fox</th>\n",
       "      <th>African Buffalo</th>\n",
       "      <th>African Caracal</th>\n",
       "      <th>African Elephant</th>\n",
       "      <th>African Grass Rat</th>\n",
       "      <th>African Lion</th>\n",
       "      <th>African Marsh Rat</th>\n",
       "      <th>...</th>\n",
       "      <th>Yellow Ground Squirrel</th>\n",
       "      <th>Yellow Mongoose</th>\n",
       "      <th>Yellow Pygmy Rice Rat</th>\n",
       "      <th>Yellow-bellied Marmot</th>\n",
       "      <th>Yellow-bellied Pouched Bat</th>\n",
       "      <th>Yellow-necked Field Mouse</th>\n",
       "      <th>Yellow-pine Chipmunk</th>\n",
       "      <th>Yellow-spotted Brush-furred Rat</th>\n",
       "      <th>Yellowish Myotis</th>\n",
       "      <th>Yuma Myotis</th>\n",
       "    </tr>\n",
       "  </thead>\n",
       "  <tbody>\n",
       "    <tr>\n",
       "      <th>Adelaide_River_virus</th>\n",
       "      <td>0.0</td>\n",
       "      <td>0.0</td>\n",
       "      <td>0.0</td>\n",
       "      <td>0.0</td>\n",
       "      <td>0.0</td>\n",
       "      <td>0.0</td>\n",
       "      <td>0.0</td>\n",
       "      <td>0.0</td>\n",
       "      <td>0.0</td>\n",
       "      <td>0.0</td>\n",
       "      <td>...</td>\n",
       "      <td>0.0</td>\n",
       "      <td>0.0</td>\n",
       "      <td>0.0</td>\n",
       "      <td>0.0</td>\n",
       "      <td>0.0</td>\n",
       "      <td>0.0</td>\n",
       "      <td>0.0</td>\n",
       "      <td>0.0</td>\n",
       "      <td>0.0</td>\n",
       "      <td>0.0</td>\n",
       "    </tr>\n",
       "    <tr>\n",
       "      <th>Adeno-associated_virus-1</th>\n",
       "      <td>0.0</td>\n",
       "      <td>0.0</td>\n",
       "      <td>0.0</td>\n",
       "      <td>0.0</td>\n",
       "      <td>0.0</td>\n",
       "      <td>0.0</td>\n",
       "      <td>0.0</td>\n",
       "      <td>0.0</td>\n",
       "      <td>0.0</td>\n",
       "      <td>0.0</td>\n",
       "      <td>...</td>\n",
       "      <td>0.0</td>\n",
       "      <td>0.0</td>\n",
       "      <td>0.0</td>\n",
       "      <td>0.0</td>\n",
       "      <td>0.0</td>\n",
       "      <td>0.0</td>\n",
       "      <td>0.0</td>\n",
       "      <td>0.0</td>\n",
       "      <td>0.0</td>\n",
       "      <td>0.0</td>\n",
       "    </tr>\n",
       "    <tr>\n",
       "      <th>Adeno-associated_virus-2</th>\n",
       "      <td>0.0</td>\n",
       "      <td>0.0</td>\n",
       "      <td>0.0</td>\n",
       "      <td>0.0</td>\n",
       "      <td>0.0</td>\n",
       "      <td>0.0</td>\n",
       "      <td>0.0</td>\n",
       "      <td>0.0</td>\n",
       "      <td>0.0</td>\n",
       "      <td>0.0</td>\n",
       "      <td>...</td>\n",
       "      <td>0.0</td>\n",
       "      <td>0.0</td>\n",
       "      <td>0.0</td>\n",
       "      <td>0.0</td>\n",
       "      <td>0.0</td>\n",
       "      <td>0.0</td>\n",
       "      <td>0.0</td>\n",
       "      <td>0.0</td>\n",
       "      <td>0.0</td>\n",
       "      <td>0.0</td>\n",
       "    </tr>\n",
       "    <tr>\n",
       "      <th>Adeno-associated_virus-5</th>\n",
       "      <td>0.0</td>\n",
       "      <td>0.0</td>\n",
       "      <td>0.0</td>\n",
       "      <td>0.0</td>\n",
       "      <td>0.0</td>\n",
       "      <td>0.0</td>\n",
       "      <td>0.0</td>\n",
       "      <td>0.0</td>\n",
       "      <td>0.0</td>\n",
       "      <td>0.0</td>\n",
       "      <td>...</td>\n",
       "      <td>0.0</td>\n",
       "      <td>0.0</td>\n",
       "      <td>0.0</td>\n",
       "      <td>0.0</td>\n",
       "      <td>0.0</td>\n",
       "      <td>0.0</td>\n",
       "      <td>0.0</td>\n",
       "      <td>0.0</td>\n",
       "      <td>0.0</td>\n",
       "      <td>0.0</td>\n",
       "    </tr>\n",
       "    <tr>\n",
       "      <th>African_green_monkey_polyomavirus</th>\n",
       "      <td>0.0</td>\n",
       "      <td>0.0</td>\n",
       "      <td>0.0</td>\n",
       "      <td>0.0</td>\n",
       "      <td>0.0</td>\n",
       "      <td>0.0</td>\n",
       "      <td>0.0</td>\n",
       "      <td>0.0</td>\n",
       "      <td>0.0</td>\n",
       "      <td>0.0</td>\n",
       "      <td>...</td>\n",
       "      <td>0.0</td>\n",
       "      <td>0.0</td>\n",
       "      <td>0.0</td>\n",
       "      <td>0.0</td>\n",
       "      <td>0.0</td>\n",
       "      <td>0.0</td>\n",
       "      <td>0.0</td>\n",
       "      <td>0.0</td>\n",
       "      <td>0.0</td>\n",
       "      <td>0.0</td>\n",
       "    </tr>\n",
       "  </tbody>\n",
       "</table>\n",
       "<p>5 rows × 753 columns</p>\n",
       "</div>"
      ],
      "text/plain": [
       "                                   Aardwolf  Aba Roundleaf Bat  \\\n",
       "Adelaide_River_virus                    0.0                0.0   \n",
       "Adeno-associated_virus-1                0.0                0.0   \n",
       "Adeno-associated_virus-2                0.0                0.0   \n",
       "Adeno-associated_virus-5                0.0                0.0   \n",
       "African_green_monkey_polyomavirus       0.0                0.0   \n",
       "\n",
       "                                   Abruzzo Chamois  Admiralty Flying-fox  \\\n",
       "Adelaide_River_virus                           0.0                   0.0   \n",
       "Adeno-associated_virus-1                       0.0                   0.0   \n",
       "Adeno-associated_virus-2                       0.0                   0.0   \n",
       "Adeno-associated_virus-5                       0.0                   0.0   \n",
       "African_green_monkey_polyomavirus              0.0                   0.0   \n",
       "\n",
       "                                   African Buffalo  African Caracal  \\\n",
       "Adelaide_River_virus                           0.0              0.0   \n",
       "Adeno-associated_virus-1                       0.0              0.0   \n",
       "Adeno-associated_virus-2                       0.0              0.0   \n",
       "Adeno-associated_virus-5                       0.0              0.0   \n",
       "African_green_monkey_polyomavirus              0.0              0.0   \n",
       "\n",
       "                                   African Elephant  African Grass Rat  \\\n",
       "Adelaide_River_virus                            0.0                0.0   \n",
       "Adeno-associated_virus-1                        0.0                0.0   \n",
       "Adeno-associated_virus-2                        0.0                0.0   \n",
       "Adeno-associated_virus-5                        0.0                0.0   \n",
       "African_green_monkey_polyomavirus               0.0                0.0   \n",
       "\n",
       "                                   African Lion  African Marsh Rat  ...  \\\n",
       "Adelaide_River_virus                        0.0                0.0  ...   \n",
       "Adeno-associated_virus-1                    0.0                0.0  ...   \n",
       "Adeno-associated_virus-2                    0.0                0.0  ...   \n",
       "Adeno-associated_virus-5                    0.0                0.0  ...   \n",
       "African_green_monkey_polyomavirus           0.0                0.0  ...   \n",
       "\n",
       "                                   Yellow Ground Squirrel  Yellow Mongoose  \\\n",
       "Adelaide_River_virus                                  0.0              0.0   \n",
       "Adeno-associated_virus-1                              0.0              0.0   \n",
       "Adeno-associated_virus-2                              0.0              0.0   \n",
       "Adeno-associated_virus-5                              0.0              0.0   \n",
       "African_green_monkey_polyomavirus                     0.0              0.0   \n",
       "\n",
       "                                   Yellow Pygmy Rice Rat  \\\n",
       "Adelaide_River_virus                                 0.0   \n",
       "Adeno-associated_virus-1                             0.0   \n",
       "Adeno-associated_virus-2                             0.0   \n",
       "Adeno-associated_virus-5                             0.0   \n",
       "African_green_monkey_polyomavirus                    0.0   \n",
       "\n",
       "                                   Yellow-bellied Marmot  \\\n",
       "Adelaide_River_virus                                 0.0   \n",
       "Adeno-associated_virus-1                             0.0   \n",
       "Adeno-associated_virus-2                             0.0   \n",
       "Adeno-associated_virus-5                             0.0   \n",
       "African_green_monkey_polyomavirus                    0.0   \n",
       "\n",
       "                                   Yellow-bellied Pouched Bat  \\\n",
       "Adelaide_River_virus                                      0.0   \n",
       "Adeno-associated_virus-1                                  0.0   \n",
       "Adeno-associated_virus-2                                  0.0   \n",
       "Adeno-associated_virus-5                                  0.0   \n",
       "African_green_monkey_polyomavirus                         0.0   \n",
       "\n",
       "                                   Yellow-necked Field Mouse  \\\n",
       "Adelaide_River_virus                                     0.0   \n",
       "Adeno-associated_virus-1                                 0.0   \n",
       "Adeno-associated_virus-2                                 0.0   \n",
       "Adeno-associated_virus-5                                 0.0   \n",
       "African_green_monkey_polyomavirus                        0.0   \n",
       "\n",
       "                                   Yellow-pine Chipmunk  \\\n",
       "Adelaide_River_virus                                0.0   \n",
       "Adeno-associated_virus-1                            0.0   \n",
       "Adeno-associated_virus-2                            0.0   \n",
       "Adeno-associated_virus-5                            0.0   \n",
       "African_green_monkey_polyomavirus                   0.0   \n",
       "\n",
       "                                   Yellow-spotted Brush-furred Rat  \\\n",
       "Adelaide_River_virus                                           0.0   \n",
       "Adeno-associated_virus-1                                       0.0   \n",
       "Adeno-associated_virus-2                                       0.0   \n",
       "Adeno-associated_virus-5                                       0.0   \n",
       "African_green_monkey_polyomavirus                              0.0   \n",
       "\n",
       "                                   Yellowish Myotis  Yuma Myotis  \n",
       "Adelaide_River_virus                            0.0          0.0  \n",
       "Adeno-associated_virus-1                        0.0          0.0  \n",
       "Adeno-associated_virus-2                        0.0          0.0  \n",
       "Adeno-associated_virus-5                        0.0          0.0  \n",
       "African_green_monkey_polyomavirus               0.0          0.0  \n",
       "\n",
       "[5 rows x 753 columns]"
      ]
     },
     "execution_count": 10,
     "metadata": {},
     "output_type": "execute_result"
    }
   ],
   "source": [
    "data_unstack = data_df.groupby(['vVirusNameCorrected',\n",
    "                                 'HostName'])[['DetectionQuality']].sum().unstack().fillna(0)\n",
    "\n",
    "data_unstack.columns = list(data_unstack.columns.get_level_values(1))\n",
    "data_unstack.index = list(data_unstack.index.get_level_values(0))\n",
    "\n",
    "data_unstack.head(5)"
   ]
  },
  {
   "cell_type": "markdown",
   "metadata": {},
   "source": [
    "### Create bipartite graph with hosts and viruses"
   ]
  },
  {
   "cell_type": "code",
   "execution_count": 11,
   "metadata": {
    "ExecuteTime": {
     "end_time": "2020-06-26T00:52:39.210364Z",
     "start_time": "2020-06-26T00:52:38.872885Z"
    }
   },
   "outputs": [],
   "source": [
    "B=nx.Graph()\n",
    "\n",
    "B.add_nodes_from(data_df['vVirusNameCorrected'],\n",
    "                 bipartite=0)\n",
    "\n",
    "B.add_nodes_from(data_df['HostName'],\n",
    "                 bipartite=1)\n",
    "\n",
    "B.add_weighted_edges_from(\n",
    "    [(row['vVirusNameCorrected'], \n",
    "      row['HostName'],\n",
    "      row['DetectionQuality']) for idx, row in data_df.iterrows()])\n",
    "\n",
    "domain_map = {k:v for k,v in zip(data_df['HostName'], data_df['WildDomInReference'])}\n",
    "genus_map = {k:v for k,v in zip(virus_df['vVirusNameCorrected'], virus_df['vGenus'])}\n",
    "\n",
    "for node in list(B.nodes):\n",
    "    try:\n",
    "        B.nodes[node]['domain'] = domain_map[node]\n",
    "    except KeyError:\n",
    "        B.nodes[node]['domain'] = 'None'\n",
    "    try:\n",
    "        B.nodes[node]['genus'] = genus_map[node]\n",
    "    except KeyError:\n",
    "        B.nodes[node]['genus'] = 'None'"
   ]
  },
  {
   "cell_type": "code",
   "execution_count": 31,
   "metadata": {},
   "outputs": [
    {
     "data": {
      "text/plain": [
       "1339"
      ]
     },
     "execution_count": 31,
     "metadata": {},
     "output_type": "execute_result"
    }
   ],
   "source": [
    "B.number_of_nodes()"
   ]
  },
  {
   "cell_type": "code",
   "execution_count": 32,
   "metadata": {},
   "outputs": [
    {
     "data": {
      "text/plain": [
       "2798"
      ]
     },
     "execution_count": 32,
     "metadata": {},
     "output_type": "execute_result"
    }
   ],
   "source": [
    "B.number_of_edges()"
   ]
  },
  {
   "cell_type": "code",
   "execution_count": 33,
   "metadata": {},
   "outputs": [
    {
     "data": {
      "text/plain": [
       "False"
      ]
     },
     "execution_count": 33,
     "metadata": {},
     "output_type": "execute_result"
    }
   ],
   "source": [
    "nx.is_connected(B)"
   ]
  },
  {
   "cell_type": "markdown",
   "metadata": {},
   "source": [
    "![title](data_files/all.png)"
   ]
  },
  {
   "cell_type": "markdown",
   "metadata": {},
   "source": [
    "### Create weighted projected graphs for hosts and viruses"
   ]
  },
  {
   "cell_type": "code",
   "execution_count": 12,
   "metadata": {
    "ExecuteTime": {
     "end_time": "2020-06-26T00:52:46.249280Z",
     "start_time": "2020-06-26T00:52:45.836592Z"
    }
   },
   "outputs": [],
   "source": [
    "virus = {n for n, d in B.nodes(data=True) if d['bipartite']==0}\n",
    "host = set(B) - virus\n",
    "#host = {n for n, d in B.nodes(data=True) if d['bipartite']==1}\n",
    "\n",
    "# project bipartite graph onto virus nodes keeping number of co-occurences, weighted degree\n",
    "B_virus = nx.bipartite.weighted_projected_graph(B, virus)\n",
    "\n",
    "# project bipartite graph onto host nodes keeping number of co-occurences, weighted degree\n",
    "B_host = nx.bipartite.weighted_projected_graph(B, host, ratio=False)"
   ]
  },
  {
   "cell_type": "markdown",
   "metadata": {},
   "source": [
    "### Host degrees\n",
    "Humans have the by far the most virus connections (263), followed by cattle, horses, pigs, and sheep."
   ]
  },
  {
   "cell_type": "code",
   "execution_count": 13,
   "metadata": {
    "ExecuteTime": {
     "end_time": "2020-06-26T00:52:47.491195Z",
     "start_time": "2020-06-26T00:52:47.486082Z"
    }
   },
   "outputs": [
    {
     "name": "stdout",
     "output_type": "stream",
     "text": [
      "Host Degrees - Virus Associations\n",
      "Human - Viruses: 263\n",
      "Bos_taurus - Viruses: 79\n",
      "Equus_caballus - Viruses: 59\n",
      "Eurasian Wild Pig - Viruses: 54\n",
      "Ovis_aries - Viruses: 47\n"
     ]
    }
   ],
   "source": [
    "#list(B_host.degree())[:5]\n",
    "\n",
    "h_deg = {k:v for k,v in dict(B.degree(host)).items()}\n",
    "print('Host Degrees - Virus Associations')\n",
    "for host, degree in sorted([(x,y) \n",
    "              for x,y in h_deg.items()], \n",
    "              key=lambda x: x[1], reverse=True)[:5]:\n",
    "    print('{} -'.format(host), 'Viruses:',degree)\n"
   ]
  },
  {
   "cell_type": "markdown",
   "metadata": {},
   "source": [
    "### Virus degrees\n",
    "The rabies virus has by far the most hosts (140), followed by St. Louis encephalitis virus, bluetongue virus, vesicular stomatitis Indiana virus, and foot and mouth disease virus."
   ]
  },
  {
   "cell_type": "code",
   "execution_count": 14,
   "metadata": {
    "ExecuteTime": {
     "end_time": "2020-06-26T00:52:47.491195Z",
     "start_time": "2020-06-26T00:52:47.486082Z"
    }
   },
   "outputs": [
    {
     "name": "stdout",
     "output_type": "stream",
     "text": [
      "Virus Degrees - Host Associations\n",
      "Rabies_virus - Hosts: 140\n",
      "St._Louis_encephalitis_virus - Hosts: 63\n",
      "Bluetongue_virus - Hosts: 61\n",
      "Vesicular_stomatitis_Indiana_virus - Hosts: 59\n",
      "Foot-and-mouth_disease_virus - Hosts: 50\n"
     ]
    }
   ],
   "source": [
    "v_deg = {k:v for k,v in dict(B.degree(virus)).items()}\n",
    "print('Virus Degrees - Host Associations')\n",
    "for virus, degree in sorted([(x,y) \n",
    "              for x,y in v_deg.items()], \n",
    "              key=lambda x: x[1], reverse=True)[:5]:\n",
    "    print('{} -'.format(virus), 'Hosts:',degree)\n"
   ]
  },
  {
   "cell_type": "markdown",
   "metadata": {},
   "source": [
    "### Betweenness centrality\n",
    "Betweenness centrality measures the extent to which a node is a bridge. Betweenness centrality measures the extent that the node is on the shortest path between other pairs of nodes in the network.\n",
    "In the complete network, humans have the highest betweenness centrality of 0.547.  The rabies virus is second with 0.168."
   ]
  },
  {
   "cell_type": "code",
   "execution_count": 15,
   "metadata": {},
   "outputs": [
    {
     "name": "stdout",
     "output_type": "stream",
     "text": [
      "Betweenness Centrality \n",
      "Human - Betweenness Centrality: 0.547\n",
      "Rabies_virus - Betweenness Centrality: 0.168\n",
      "Bos_taurus - Betweenness Centrality: 0.078\n",
      "Eurasian Wild Pig - Betweenness Centrality: 0.062\n",
      "Vesicular_stomatitis_Indiana_virus - Betweenness Centrality: 0.055\n"
     ]
    }
   ],
   "source": [
    "bet_cent = {k:v for k,v in dict(nx.betweenness_centrality(B)).items()}\n",
    "print('Betweenness Centrality ')\n",
    "for host, vdegree in sorted([(x,y) \n",
    "              for x,y in bet_cent.items()], \n",
    "              key=lambda x: x[1], reverse=True)[:5]:\n",
    "    print('{} -'.format(host), 'Betweenness Centrality:',round(vdegree,3))"
   ]
  },
  {
   "cell_type": "markdown",
   "metadata": {},
   "source": [
    "### Host network betweenness centrality"
   ]
  },
  {
   "cell_type": "code",
   "execution_count": 16,
   "metadata": {},
   "outputs": [
    {
     "name": "stdout",
     "output_type": "stream",
     "text": [
      "Host Network Betweenness Centrality \n",
      "Human - Betweenness Centrality: 0.377\n",
      "Eurasian Wild Pig - Betweenness Centrality: 0.042\n",
      "Bos_taurus - Betweenness Centrality: 0.04\n",
      "Ovis_aries - Betweenness Centrality: 0.025\n",
      "Equus_caballus - Betweenness Centrality: 0.025\n"
     ]
    }
   ],
   "source": [
    "h_bet_cent = {k:v for k,v in dict(nx.betweenness_centrality(B_host)).items()}\n",
    "print('Host Network Betweenness Centrality ')\n",
    "for host, vdegree in sorted([(x,y) \n",
    "              for x,y in h_bet_cent.items()], \n",
    "              key=lambda x: x[1], reverse=True)[:5]:\n",
    "    print('{} -'.format(host), 'Betweenness Centrality:',round(vdegree,3))"
   ]
  },
  {
   "cell_type": "markdown",
   "metadata": {},
   "source": [
    "### Virus network weighted degrees"
   ]
  },
  {
   "cell_type": "code",
   "execution_count": 17,
   "metadata": {
    "ExecuteTime": {
     "end_time": "2020-06-26T00:52:47.491195Z",
     "start_time": "2020-06-26T00:52:47.486082Z"
    }
   },
   "outputs": [
    {
     "name": "stdout",
     "output_type": "stream",
     "text": [
      "Virus Degrees - Connections to Other Viruses\n",
      "Encephalomyocarditis_virus - Connections: 425\n",
      "Rabies_virus - Connections: 401\n",
      "Vesicular_stomatitis_Indiana_virus - Connections: 396\n",
      "Borna_disease_virus - Connections: 390\n",
      "Suid_herpesvirus_1 - Connections: 379\n"
     ]
    }
   ],
   "source": [
    "v11_deg = {k:v for k,v in dict(B_virus.degree()).items()}\n",
    "print('Virus Degrees - Connections to Other Viruses')\n",
    "for virus, degree in sorted([(x,y) \n",
    "              for x,y in v11_deg.items()], \n",
    "              key=lambda x: x[1], reverse=True)[:5]:\n",
    "    print('{} -'.format(virus), 'Connections:',degree)\n"
   ]
  },
  {
   "cell_type": "markdown",
   "metadata": {},
   "source": [
    "### Virus network degree centrality"
   ]
  },
  {
   "cell_type": "code",
   "execution_count": 18,
   "metadata": {},
   "outputs": [
    {
     "name": "stdout",
     "output_type": "stream",
     "text": [
      "Virus Network Degree Centrality \n",
      "Encephalomyocarditis_virus - Degree Centrality: 0.726\n",
      "Rabies_virus - Degree Centrality: 0.685\n",
      "Vesicular_stomatitis_Indiana_virus - Degree Centrality: 0.677\n",
      "Borna_disease_virus - Degree Centrality: 0.667\n",
      "Suid_herpesvirus_1 - Degree Centrality: 0.648\n"
     ]
    }
   ],
   "source": [
    "v11_deg_cent = {k:v for k,v in dict(nx.degree_centrality(B_virus)).items()}\n",
    "print('Virus Network Degree Centrality ')\n",
    "for virus, vdegree in sorted([(x,y) \n",
    "              for x,y in v11_deg_cent.items()], \n",
    "              key=lambda x: x[1], reverse=True)[:5]:\n",
    "    print('{} -'.format(virus), 'Degree Centrality:',round(vdegree,3))"
   ]
  },
  {
   "cell_type": "code",
   "execution_count": 19,
   "metadata": {
    "ExecuteTime": {
     "end_time": "2020-06-26T00:52:53.632099Z",
     "start_time": "2020-06-26T00:52:53.625467Z"
    }
   },
   "outputs": [],
   "source": [
    "#Code from textbook Social Network Analysis for Startups by Maksim Tsvetovat and Alexander Kouznetsov\n",
    "def trim_edges(g, weight=1):\n",
    "    g2=nx.Graph()\n",
    "    for f, to, edata in g.edges(data=True):\n",
    "        if edata['weight'] > weight:\n",
    "            g2.add_edge(f,to,weight=edata['weight'])\n",
    "    return g2\n",
    "\n",
    "def island_method(g, iterations = 5):\n",
    "    weights = [edata['weight'] for f,to,edata in g.edges(data=True)]\n",
    "    mn=int(min(weights))\n",
    "    mx=int(max(weights))\n",
    "    step = int((mx-mn)/iterations)\n",
    "    return [[threshold, trim_edges(g, threshold)] for threshold in range(mn,mx,step)]\n",
    "\n",
    "def connected_component_subgraphs(G):\n",
    "    for c in nx.connected_components(G):\n",
    "        yield G.subgraph(c)"
   ]
  },
  {
   "cell_type": "markdown",
   "metadata": {},
   "source": [
    "### Virus islands analysis"
   ]
  },
  {
   "cell_type": "code",
   "execution_count": 20,
   "metadata": {
    "ExecuteTime": {
     "end_time": "2020-06-26T00:52:56.382383Z",
     "start_time": "2020-06-26T00:52:55.199817Z"
    },
    "scrolled": true
   },
   "outputs": [
    {
     "name": "stdout",
     "output_type": "stream",
     "text": [
      "1 303 3\n",
      "6 60 3\n",
      "11 21 2\n",
      "16 8 2\n",
      "21 6 2\n",
      "26 2 1\n"
     ]
    }
   ],
   "source": [
    "# virus islands analysis\n",
    "#cc = list(B_virus.subgraph(c) for c in nx.connected_components(B_virus))[0]\n",
    "cc = list(B_virus.subgraph(c) for c in sorted(nx.connected_components(B_virus), key=len, reverse=True))[0]\n",
    "islands = island_method(cc)\n",
    "\n",
    "for i in islands:\n",
    "    print(i[0], len(list(nx.degree(i[1]))), len(list(connected_component_subgraphs(i[1]))))"
   ]
  },
  {
   "cell_type": "markdown",
   "metadata": {},
   "source": [
    "### Color-coded Virus Analysis\n",
    "\n",
    "Colors indicate whether virus is a coronavirus or not"
   ]
  },
  {
   "cell_type": "code",
   "execution_count": 21,
   "metadata": {
    "ExecuteTime": {
     "end_time": "2020-06-26T00:52:58.388744Z",
     "start_time": "2020-06-26T00:52:58.054785Z"
    }
   },
   "outputs": [
    {
     "data": {
      "image/png": "[encoded data removed]",
      "text/plain": [
       "<Figure size 1080x1080 with 1 Axes>"
      ]
     },
     "metadata": {},
     "output_type": "display_data"
    }
   ],
   "source": [
    "# use 11 for the threshold\n",
    "v11 = trim_edges(B_virus,11)\n",
    "\n",
    "genus_color = []\n",
    "for node in list(v11.nodes):\n",
    "    v11.nodes[node]['genus'] = genus_map[node]\n",
    "    if genus_map[node] == 'Coronavirus':\n",
    "        genus_color.append('lightblue')\n",
    "    else: \n",
    "        genus_color.append('cyan')\n",
    "\n",
    "\n",
    "plt.figure(figsize=(15,15))\n",
    "pos = nx.spring_layout(v11, iterations = 25)\n",
    "weights=[edata['weight'] for f,t,edata in v11.edges(data=True)]\n",
    "nx.draw_networkx_nodes(v11, pos, node_color=genus_color, node_size=500)\n",
    "nx.draw_networkx_edges(v11, pos,  edge_color='gray')\n",
    "nx.draw_networkx_labels(v11, pos, font_size=8, font_color ='blue')\n",
    "\n",
    "plt.show()"
   ]
  },
  {
   "cell_type": "markdown",
   "metadata": {},
   "source": [
    "It looks like none of the most common virus clusters contain a coronavirus"
   ]
  },
  {
   "cell_type": "markdown",
   "metadata": {},
   "source": [
    "### Host network weighted degrees"
   ]
  },
  {
   "cell_type": "code",
   "execution_count": 22,
   "metadata": {
    "ExecuteTime": {
     "end_time": "2020-06-26T00:52:47.491195Z",
     "start_time": "2020-06-26T00:52:47.486082Z"
    }
   },
   "outputs": [
    {
     "name": "stdout",
     "output_type": "stream",
     "text": [
      "Host Degrees - Weighted Connections to Other Hosts\n",
      "Human - Connections: 646\n",
      "Bos_taurus - Connections: 368\n",
      "Equus_caballus - Connections: 345\n",
      "Ovis_aries - Connections: 320\n",
      "Canis_familiaris - Connections: 318\n"
     ]
    }
   ],
   "source": [
    "h11_deg = {k:v for k,v in dict(B_host.degree()).items()}\n",
    "print('Host Degrees - Weighted Connections to Other Hosts')\n",
    "for host, degree in sorted([(x,y) \n",
    "              for x,y in h11_deg.items()], \n",
    "              key=lambda x: x[1], reverse=True)[:5]:\n",
    "    print('{} -'.format(host), 'Connections:',degree)\n"
   ]
  },
  {
   "cell_type": "markdown",
   "metadata": {},
   "source": [
    "### Host network degree centrality"
   ]
  },
  {
   "cell_type": "code",
   "execution_count": 23,
   "metadata": {},
   "outputs": [
    {
     "name": "stdout",
     "output_type": "stream",
     "text": [
      "Host Network Degree Centrality \n",
      "Human - Degree Centrality: 0.859\n",
      "Bos_taurus - Degree Centrality: 0.489\n",
      "Equus_caballus - Degree Centrality: 0.459\n",
      "Ovis_aries - Degree Centrality: 0.426\n",
      "Canis_familiaris - Degree Centrality: 0.423\n"
     ]
    }
   ],
   "source": [
    "h11_deg_cent = {k:v for k,v in dict(nx.degree_centrality(B_host)).items()}\n",
    "print('Host Network Degree Centrality ')\n",
    "for host, vdegree in sorted([(x,y) \n",
    "              for x,y in h11_deg_cent.items()], \n",
    "              key=lambda x: x[1], reverse=True)[:5]:\n",
    "    print('{} -'.format(host), 'Degree Centrality:',round(vdegree,3))"
   ]
  },
  {
   "cell_type": "markdown",
   "metadata": {},
   "source": [
    "### Host network closeness centrality  \n",
    "Closeness centrality is a way of detecting nodes that are able to spread information very efficiently through a graph. Nodes with a high closeness centrality have the shortest distances to all other nodes."
   ]
  },
  {
   "cell_type": "code",
   "execution_count": 24,
   "metadata": {},
   "outputs": [
    {
     "name": "stdout",
     "output_type": "stream",
     "text": [
      "Host Network Closeness Centrality \n",
      "Human - Closeness Centrality: 0.87\n",
      "Bos_taurus - Closeness Centrality: 0.648\n",
      "Equus_caballus - Closeness Centrality: 0.634\n",
      "Ovis_aries - Closeness Centrality: 0.62\n",
      "Canis_familiaris - Closeness Centrality: 0.62\n"
     ]
    }
   ],
   "source": [
    "h11_clos_cent = {k:v for k,v in dict(nx.closeness_centrality(B_host)).items()}\n",
    "print('Host Network Closeness Centrality ')\n",
    "for host, vdegree in sorted([(x,y) \n",
    "              for x,y in h11_clos_cent.items()], \n",
    "              key=lambda x: x[1], reverse=True)[:5]:\n",
    "    print('{} -'.format(host), 'Closeness Centrality:',round(vdegree,3))"
   ]
  },
  {
   "cell_type": "markdown",
   "metadata": {},
   "source": [
    "Humans, Cattle, Horses, Sheep, Goats"
   ]
  },
  {
   "cell_type": "markdown",
   "metadata": {},
   "source": [
    "### Host islands analysis"
   ]
  },
  {
   "cell_type": "code",
   "execution_count": 25,
   "metadata": {
    "ExecuteTime": {
     "end_time": "2020-06-26T00:57:25.921927Z",
     "start_time": "2020-06-26T00:57:25.903155Z"
    }
   },
   "outputs": [
    {
     "ename": "ValueError",
     "evalue": "min() arg is an empty sequence",
     "output_type": "error",
     "traceback": [
      "\u001b[1;31m---------------------------------------------------------------------------\u001b[0m",
      "\u001b[1;31mValueError\u001b[0m                                Traceback (most recent call last)",
      "\u001b[1;32m<ipython-input-25-23d932ce8fb1>\u001b[0m in \u001b[0;36m<module>\u001b[1;34m\u001b[0m\n\u001b[0;32m      2\u001b[0m \u001b[1;31m#cc = list(B_host.subgraph(c) for c in nx.connected_components(B_host))[0]\u001b[0m\u001b[1;33m\u001b[0m\u001b[1;33m\u001b[0m\u001b[1;33m\u001b[0m\u001b[0m\n\u001b[0;32m      3\u001b[0m \u001b[0mcc\u001b[0m \u001b[1;33m=\u001b[0m \u001b[0mlist\u001b[0m\u001b[1;33m(\u001b[0m\u001b[0mB_virus\u001b[0m\u001b[1;33m.\u001b[0m\u001b[0msubgraph\u001b[0m\u001b[1;33m(\u001b[0m\u001b[0mc\u001b[0m\u001b[1;33m)\u001b[0m \u001b[1;32mfor\u001b[0m \u001b[0mc\u001b[0m \u001b[1;32min\u001b[0m \u001b[0msorted\u001b[0m\u001b[1;33m(\u001b[0m\u001b[0mnx\u001b[0m\u001b[1;33m.\u001b[0m\u001b[0mconnected_components\u001b[0m\u001b[1;33m(\u001b[0m\u001b[0mB_host\u001b[0m\u001b[1;33m)\u001b[0m\u001b[1;33m,\u001b[0m \u001b[0mkey\u001b[0m\u001b[1;33m=\u001b[0m\u001b[0mlen\u001b[0m\u001b[1;33m,\u001b[0m \u001b[0mreverse\u001b[0m\u001b[1;33m=\u001b[0m\u001b[1;32mTrue\u001b[0m\u001b[1;33m)\u001b[0m\u001b[1;33m)\u001b[0m\u001b[1;33m[\u001b[0m\u001b[1;36m0\u001b[0m\u001b[1;33m]\u001b[0m\u001b[1;33m\u001b[0m\u001b[1;33m\u001b[0m\u001b[0m\n\u001b[1;32m----> 4\u001b[1;33m \u001b[0mislands\u001b[0m \u001b[1;33m=\u001b[0m \u001b[0misland_method\u001b[0m\u001b[1;33m(\u001b[0m\u001b[0mcc\u001b[0m\u001b[1;33m)\u001b[0m\u001b[1;33m\u001b[0m\u001b[1;33m\u001b[0m\u001b[0m\n\u001b[0m\u001b[0;32m      5\u001b[0m \u001b[1;33m\u001b[0m\u001b[0m\n\u001b[0;32m      6\u001b[0m \u001b[1;32mfor\u001b[0m \u001b[0mi\u001b[0m \u001b[1;32min\u001b[0m \u001b[0mislands\u001b[0m\u001b[1;33m:\u001b[0m\u001b[1;33m\u001b[0m\u001b[1;33m\u001b[0m\u001b[0m\n",
      "\u001b[1;32m<ipython-input-19-29d80e93d820>\u001b[0m in \u001b[0;36misland_method\u001b[1;34m(g, iterations)\u001b[0m\n\u001b[0;32m      9\u001b[0m \u001b[1;32mdef\u001b[0m \u001b[0misland_method\u001b[0m\u001b[1;33m(\u001b[0m\u001b[0mg\u001b[0m\u001b[1;33m,\u001b[0m \u001b[0miterations\u001b[0m \u001b[1;33m=\u001b[0m \u001b[1;36m5\u001b[0m\u001b[1;33m)\u001b[0m\u001b[1;33m:\u001b[0m\u001b[1;33m\u001b[0m\u001b[1;33m\u001b[0m\u001b[0m\n\u001b[0;32m     10\u001b[0m     \u001b[0mweights\u001b[0m \u001b[1;33m=\u001b[0m \u001b[1;33m[\u001b[0m\u001b[0medata\u001b[0m\u001b[1;33m[\u001b[0m\u001b[1;34m'weight'\u001b[0m\u001b[1;33m]\u001b[0m \u001b[1;32mfor\u001b[0m \u001b[0mf\u001b[0m\u001b[1;33m,\u001b[0m\u001b[0mto\u001b[0m\u001b[1;33m,\u001b[0m\u001b[0medata\u001b[0m \u001b[1;32min\u001b[0m \u001b[0mg\u001b[0m\u001b[1;33m.\u001b[0m\u001b[0medges\u001b[0m\u001b[1;33m(\u001b[0m\u001b[0mdata\u001b[0m\u001b[1;33m=\u001b[0m\u001b[1;32mTrue\u001b[0m\u001b[1;33m)\u001b[0m\u001b[1;33m]\u001b[0m\u001b[1;33m\u001b[0m\u001b[1;33m\u001b[0m\u001b[0m\n\u001b[1;32m---> 11\u001b[1;33m     \u001b[0mmn\u001b[0m\u001b[1;33m=\u001b[0m\u001b[0mint\u001b[0m\u001b[1;33m(\u001b[0m\u001b[0mmin\u001b[0m\u001b[1;33m(\u001b[0m\u001b[0mweights\u001b[0m\u001b[1;33m)\u001b[0m\u001b[1;33m)\u001b[0m\u001b[1;33m\u001b[0m\u001b[1;33m\u001b[0m\u001b[0m\n\u001b[0m\u001b[0;32m     12\u001b[0m     \u001b[0mmx\u001b[0m\u001b[1;33m=\u001b[0m\u001b[0mint\u001b[0m\u001b[1;33m(\u001b[0m\u001b[0mmax\u001b[0m\u001b[1;33m(\u001b[0m\u001b[0mweights\u001b[0m\u001b[1;33m)\u001b[0m\u001b[1;33m)\u001b[0m\u001b[1;33m\u001b[0m\u001b[1;33m\u001b[0m\u001b[0m\n\u001b[0;32m     13\u001b[0m     \u001b[0mstep\u001b[0m \u001b[1;33m=\u001b[0m \u001b[0mint\u001b[0m\u001b[1;33m(\u001b[0m\u001b[1;33m(\u001b[0m\u001b[0mmx\u001b[0m\u001b[1;33m-\u001b[0m\u001b[0mmn\u001b[0m\u001b[1;33m)\u001b[0m\u001b[1;33m/\u001b[0m\u001b[0miterations\u001b[0m\u001b[1;33m)\u001b[0m\u001b[1;33m\u001b[0m\u001b[1;33m\u001b[0m\u001b[0m\n",
      "\u001b[1;31mValueError\u001b[0m: min() arg is an empty sequence"
     ]
    }
   ],
   "source": [
    "# hosts islands analysis\n",
    "#cc = list(B_host.subgraph(c) for c in nx.connected_components(B_host))[0]\n",
    "cc = list(B_virus.subgraph(c) for c in sorted(nx.connected_components(B_host), key=len, reverse=True))[0]\n",
    "islands = island_method(cc)\n",
    "\n",
    "for i in islands:\n",
    "    print(i[0], len(list(nx.degree(i[1]))), len(list(connected_component_subgraphs(i[1]))))"
   ]
  },
  {
   "cell_type": "markdown",
   "metadata": {},
   "source": [
    "### Color-coded Island Method"
   ]
  },
  {
   "cell_type": "code",
   "execution_count": null,
   "metadata": {
    "ExecuteTime": {
     "end_time": "2020-06-26T00:57:29.504374Z",
     "start_time": "2020-06-26T00:57:29.483130Z"
    }
   },
   "outputs": [],
   "source": [
    "# use 7 for the threshold\n",
    "h11 = trim_edges(B_host, 7)\n",
    "\n",
    "wild_domestic_color = []\n",
    "bat_non_bat_color = []\n",
    "for node in list(h11.nodes):\n",
    "    h11.nodes[node]['domain'] = domain_map[node]\n",
    "    if domain_map[node] == 'wild':\n",
    "        wild_domestic_color.append('lightblue')\n",
    "    else:\n",
    "        wild_domestic_color.append('cyan')\n",
    "    if ('Bat'or 'Flying Fox') in node:\n",
    "        bat_non_bat_color.append('lightblue')\n",
    "    else:\n",
    "        bat_non_bat_color.append('cyan')"
   ]
  },
  {
   "cell_type": "markdown",
   "metadata": {},
   "source": [
    "### Infections Grouped by Wild Animals vs Domestic Animals"
   ]
  },
  {
   "cell_type": "code",
   "execution_count": null,
   "metadata": {
    "ExecuteTime": {
     "end_time": "2020-06-26T00:57:32.195545Z",
     "start_time": "2020-06-26T00:57:31.877163Z"
    },
    "scrolled": false
   },
   "outputs": [],
   "source": [
    "plt.figure(figsize=(15,10))\n",
    "pos = nx.spring_layout(h11, iterations = 20)\n",
    "nx.draw_networkx_nodes(h11, \n",
    "                       pos, \n",
    "                       node_color=wild_domestic_color, \n",
    "                       node_size=500)\n",
    "nx.draw_networkx_edges(h11, pos,  edge_color=['gray'])\n",
    "nx.draw_networkx_labels(h11, pos, font_size=8, font_color ='blue')\n",
    "\n",
    "plt.show()"
   ]
  },
  {
   "cell_type": "markdown",
   "metadata": {},
   "source": [
    "### Infections from Bats vs Other Animals"
   ]
  },
  {
   "cell_type": "code",
   "execution_count": null,
   "metadata": {
    "ExecuteTime": {
     "end_time": "2020-06-26T00:53:39.125319Z",
     "start_time": "2020-06-26T00:53:38.783026Z"
    }
   },
   "outputs": [],
   "source": [
    "plt.figure(figsize=(15,10))\n",
    "pos = nx.spring_layout(h11, iterations = 20)\n",
    "nx.draw_networkx_nodes(h11, \n",
    "                       pos, \n",
    "                       node_color=bat_non_bat_color, \n",
    "                       node_size=500)\n",
    "nx.draw_networkx_edges(h11, pos,  edge_color=['gray'])\n",
    "nx.draw_networkx_labels(h11, pos, font_size=8, font_color ='blue')\n",
    "\n",
    "plt.show()"
   ]
  },
  {
   "cell_type": "code",
   "execution_count": null,
   "metadata": {
    "ExecuteTime": {
     "end_time": "2020-06-26T00:53:41.988117Z",
     "start_time": "2020-06-26T00:53:41.980379Z"
    },
    "scrolled": true
   },
   "outputs": [],
   "source": [
    "coronavirus_filter = [(u,v) for u,v in B.edges if B.nodes[u]['genus'] in ('Betacoronavirus', 'Coronavirus', 'Alphacoronavirus')]\n",
    "C = B.edge_subgraph(coronavirus_filter)\n"
   ]
  },
  {
   "cell_type": "code",
   "execution_count": null,
   "metadata": {
    "ExecuteTime": {
     "end_time": "2020-06-26T00:53:43.486168Z",
     "start_time": "2020-06-26T00:53:43.244630Z"
    }
   },
   "outputs": [],
   "source": [
    "plt.figure(figsize=(20,15))\n",
    "pos = nx.spring_layout(C)\n",
    "plt.axis('off')\n",
    "\n",
    "animal_virus_color = []\n",
    "for node in list(C.nodes):\n",
    "    if C.nodes[node]['genus'] == ('Coronavirus' or 'Betacoronavirus'):\n",
    "        animal_virus_color.append('lightblue')\n",
    "    else:\n",
    "        animal_virus_color.append('cyan')\n",
    "\n",
    "nx.draw_networkx_nodes(C, \n",
    "                       pos,\n",
    "                       node_color=animal_virus_color, \n",
    "                       alpha=0.7, \n",
    "                       node_size=500)\n",
    "\n",
    "nx.draw_networkx_edges(C, \n",
    "                       pos, \n",
    "                       edge_color='gray')\n",
    "\n",
    "nx.draw_networkx_labels(C, \n",
    "                        pos, \n",
    "                        font_size=8,\n",
    "                        font_weight=10);"
   ]
  },
  {
   "cell_type": "code",
   "execution_count": null,
   "metadata": {
    "ExecuteTime": {
     "end_time": "2020-06-26T00:53:52.153805Z",
     "start_time": "2020-06-26T00:53:52.103240Z"
    }
   },
   "outputs": [],
   "source": [
    "nx.write_gml(B, 'B.gml')\n",
    "nx.write_gml(h11, 'h11.gml')\n",
    "nx.write_gml(C, 'C.gml')"
   ]
  },
  {
   "cell_type": "code",
   "execution_count": null,
   "metadata": {},
   "outputs": [],
   "source": []
  }
 ],
 "metadata": {
  "kernelspec": {
   "display_name": "Python 3.7.4 64-bit ('base': conda)",
   "language": "python",
   "name": "python37464bitbaseconda0f2540ca00c14c548fd578f4a6b1a719"
  },
  "language_info": {
   "codemirror_mode": {
    "name": "ipython",
    "version": 3
   },
   "file_extension": ".py",
   "mimetype": "text/x-python",
   "name": "python",
   "nbconvert_exporter": "python",
   "pygments_lexer": "ipython3",
   "version": "3.7.6"
  },
  "toc": {
   "base_numbering": 1,
   "nav_menu": {},
   "number_sections": true,
   "sideBar": true,
   "skip_h1_title": false,
   "title_cell": "Table of Contents",
   "title_sidebar": "Contents",
   "toc_cell": false,
   "toc_position": {},
   "toc_section_display": true,
   "toc_window_display": false
  }
 },
 "nbformat": 4,
 "nbformat_minor": 2
}
