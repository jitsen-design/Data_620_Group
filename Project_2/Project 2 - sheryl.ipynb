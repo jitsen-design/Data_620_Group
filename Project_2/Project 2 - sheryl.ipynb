{
 "cells": [
  {
   "cell_type": "code",
   "execution_count": null,
   "metadata": {},
   "outputs": [],
   "source": [
    "import pandas as pd\n",
    "import numpy as np\n",
    "import plotly.graph_objects as go\n",
    "import networkx as nx\n",
    "\n",
    "df = pd.read_csv('BX-Book-Ratings.csv', sep=';', encoding='ISO-8859-1')"
   ]
  },
  {
   "cell_type": "code",
   "execution_count": null,
   "metadata": {},
   "outputs": [],
   "source": [
    "df['from_to'] = df[['User-ID', 'ISBN', 'Book-Rating']].apply(tuple, axis=1)\n",
    "df.head()"
   ]
  },
  {
   "cell_type": "code",
   "execution_count": null,
   "metadata": {},
   "outputs": [],
   "source": [
    "B = nx.Graph()\n",
    "# Add nodes with the node attribute \"bipartite\"\n",
    "B.add_nodes_from(df['User-ID'], bipartite=0)\n",
    "B.add_nodes_from(df['ISBN'], bipartite=1)\n",
    "# Add edges only between nodes of opposite node sets\n",
    "B.add_weighted_edges_from(df['from_to'])\n",
    "\n",
    "users = {n for n, d in B.nodes(data=True) if d['bipartite']==0}\n",
    "books = set(B) - users"
   ]
  },
  {
   "cell_type": "code",
   "execution_count": null,
   "metadata": {},
   "outputs": [],
   "source": [
    "# project bipartite graph onto user nodes keeping number of co-occurences, weighted degree\n",
    "user_wt = nx.bipartite.weighted_projected_graph(B, users)\n",
    "\n",
    "# project bipartite graph onto book nodes keeping number of co-occurences, weighted degree\n",
    "book_wt = nx.bipartite.weighted_projected_graph(B, books, ratio=False)"
   ]
  },
  {
   "cell_type": "code",
   "execution_count": null,
   "metadata": {},
   "outputs": [],
   "source": [
    "print(nx.info(B))"
   ]
  },
  {
   "cell_type": "code",
   "execution_count": null,
   "metadata": {},
   "outputs": [],
   "source": [
    "#Code from textbook Social Network Analysis for Startups by Maksim Tsvetovat and Alexander Kouznetsov\n",
    "def trim_edges(g, weight=1):\n",
    "    g2=nx.Graph()\n",
    "    for f, to, edata in g.edges(data=True):\n",
    "        if edata['weight'] > weight:\n",
    "            g2.add_edge(f,to,weight=edata['weight'])\n",
    "    return g2\n",
    "\n",
    "def island_method(g, iterations = 5):\n",
    "    weights = [edata['weight'] for f,to,edata in g.edges(data=True)]\n",
    "    mn=int(min(weights))\n",
    "    mx=int(max(weights))\n",
    "    step = int((mx-mn)/iterations)\n",
    "    return [[threshold, trim_edges(g, threshold)] for threshold in range(mn,mx,step)]\n",
    "\n",
    "cc = list(B.subgraph(c) for c in nx.connected_components(B))[0]\n",
    "islands = island_method(cc)\n",
    "#islands\n",
    "\n",
    "#for i in islands:\n",
    "#    print(i[0], len(i[1]), len(nx.connected_component_subgraphs(i[1])))\n",
    "    \n",
    "\n",
    "# use 4 for the threshold\n",
    "#WW4 = trim_edges(WW, 4)\n",
    "\n",
    "#plt.figure(figsize=(15,10))\n",
    "#pos = nx.spring_layout(WW4)\n",
    "#nx.draw_networkx_nodes(WW4, pos, node_color='yellow', node_size=500)\n",
    "#nx.draw_networkx_edges(WW4, pos,  edge_color='gray')\n",
    "#nx.draw_networkx_labels(WW4, pos, font_size=10, font_color ='blue')\n",
    "\n",
    "#plt.show()"
   ]
  }
 ],
 "metadata": {
  "kernelspec": {
   "display_name": "Python 3.7.4 64-bit ('base': conda)",
   "language": "python",
   "name": "python37464bitbaseconda0f2540ca00c14c548fd578f4a6b1a719"
  },
  "language_info": {
   "codemirror_mode": {
    "name": "ipython",
    "version": 3
   },
   "file_extension": ".py",
   "mimetype": "text/x-python",
   "name": "python",
   "nbconvert_exporter": "python",
   "pygments_lexer": "ipython3",
   "version": "3.7.6"
  }
 },
 "nbformat": 4,
 "nbformat_minor": 4
}
