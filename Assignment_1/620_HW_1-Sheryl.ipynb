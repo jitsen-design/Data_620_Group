{
 "cells": [
  {
   "cell_type": "markdown",
   "metadata": {},
   "source": [
    "Data 620 \n",
    "Assignment:  “hello, graph world” \n",
    "\n",
    "In this assignment, you’re asked to create the nodes and edges for a basic graph, such as the Krackhardt kite shown below.\n"
   ]
  },
  {
   "cell_type": "code",
   "execution_count": 19,
   "metadata": {},
   "outputs": [],
   "source": [
    "import networkx as nx\n",
    "import matplotlib.pyplot as plt"
   ]
  },
  {
   "cell_type": "code",
   "execution_count": 20,
   "metadata": {},
   "outputs": [],
   "source": [
    "# initialize the graph\n",
    "G=nx.Graph()"
   ]
  },
  {
   "cell_type": "code",
   "execution_count": 21,
   "metadata": {},
   "outputs": [],
   "source": [
    "# add the nodes\n",
    "G.add_node('Andre') \n",
    "G.add_node('Beverly') \n",
    "G.add_node('Carol')\n",
    "G.add_node('Diane') \n",
    "G.add_node('Ed')\n",
    "G.add_node('Fernando')\n",
    "G.add_node('Garth')\n",
    "G.add_node('Heather')\n",
    "G.add_node('Ike')\n",
    "G.add_node('Jane')"
   ]
  },
  {
   "cell_type": "code",
   "execution_count": 22,
   "metadata": {},
   "outputs": [],
   "source": [
    "# add the edges\n",
    "G.add_edge('Andre','Beverly')\n",
    "G.add_edge('Andre', 'Carol')\n",
    "G.add_edge('Andre', 'Diane')\n",
    "G.add_edge('Andre', 'Fernando')\n",
    "G.add_edge('Beverly', 'Diane')\n",
    "G.add_edge('Beverly', 'Ed')\n",
    "G.add_edge('Beverly', 'Garth')\n",
    "G.add_edge('Carol', 'Diane')\n",
    "G.add_edge('Carol', 'Fernando')\n",
    "G.add_edge('Diane', 'Ed')\n",
    "G.add_edge('Diane', 'Fernando')\n",
    "G.add_edge('Diane', 'Garth')\n",
    "G.add_edge('Ed', 'Garth')\n",
    "G.add_edge('Fernando', 'Garth')\n",
    "G.add_edge('Fernando', 'Heather')\n",
    "G.add_edge('Garth', 'Heather')\n",
    "G.add_edge('Heather', 'Ike')\n",
    "G.add_edge('Ike', 'Jane')"
   ]
  },
  {
   "cell_type": "code",
   "execution_count": 23,
   "metadata": {},
   "outputs": [
    {
     "data": {
      "text/plain": [
       "10"
      ]
     },
     "execution_count": 23,
     "metadata": {},
     "output_type": "execute_result"
    }
   ],
   "source": [
    "# check the number of nodes\n",
    "G.number_of_nodes()"
   ]
  },
  {
   "cell_type": "code",
   "execution_count": 24,
   "metadata": {},
   "outputs": [
    {
     "data": {
      "text/plain": [
       "18"
      ]
     },
     "execution_count": 24,
     "metadata": {},
     "output_type": "execute_result"
    }
   ],
   "source": [
    "# check the number of edges\n",
    "G.number_of_edges()"
   ]
  },
  {
   "cell_type": "code",
   "execution_count": 25,
   "metadata": {},
   "outputs": [],
   "source": [
    "# set the positions for the nodes\n",
    "pos = {'Andre': (0, 1),\n",
    "       'Beverly': (0, -1),\n",
    "       'Carol': (1, 2),\n",
    "       'Diane': (1, 0),\n",
    "       'Ed': (1, -2),\n",
    "       'Fernando': (2, 1),\n",
    "       'Garth': (2, -1),\n",
    "       'Heather': (3, 0),\n",
    "       'Ike': (4, 0),\n",
    "       'Jane': (5, 0)}"
   ]
  },
  {
   "cell_type": "code",
   "execution_count": 26,
   "metadata": {},
   "outputs": [
    {
     "data": {
      "image/png": "[encoded data removed]",
      "text/plain": [
       "<Figure size 432x288 with 1 Axes>"
      ]
     },
     "metadata": {},
     "output_type": "display_data"
    }
   ],
   "source": [
    "# draw the graph\n",
    "nx.draw_networkx(G, pos, with_labels=True, node_size = 1000, node_color = 'yellow', font_size = 10, node_shape = 's')\n",
    "plt.show()"
   ]
  }
 ],
 "metadata": {
  "kernelspec": {
   "display_name": "Python 3.7.4 64-bit ('base': conda)",
   "language": "python",
   "name": "python37464bitbaseconda0f2540ca00c14c548fd578f4a6b1a719"
  },
  "language_info": {
   "codemirror_mode": {
    "name": "ipython",
    "version": 3
   },
   "file_extension": ".py",
   "mimetype": "text/x-python",
   "name": "python",
   "nbconvert_exporter": "python",
   "pygments_lexer": "ipython3",
   "version": "3.7.6"
  }
 },
 "nbformat": 4,
 "nbformat_minor": 4
}
