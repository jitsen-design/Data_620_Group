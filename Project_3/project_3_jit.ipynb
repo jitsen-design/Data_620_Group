{
 "cells": [
  {
   "cell_type": "code",
   "execution_count": 18,
   "metadata": {
    "ExecuteTime": {
     "end_time": "2020-07-01T14:58:11.068329Z",
     "start_time": "2020-07-01T14:58:10.779780Z"
    }
   },
   "outputs": [
    {
     "data": {
      "text/html": [
       "        <script type=\"text/javascript\">\n",
       "        window.PlotlyConfig = {MathJaxConfig: 'local'};\n",
       "        if (window.MathJax) {MathJax.Hub.Config({SVG: {font: \"STIX-Web\"}});}\n",
       "        if (typeof require !== 'undefined') {\n",
       "        require.undef(\"plotly\");\n",
       "        requirejs.config({\n",
       "            paths: {\n",
       "                'plotly': ['https://cdn.plot.ly/plotly-latest.min']\n",
       "            }\n",
       "        });\n",
       "        require(['plotly'], function(Plotly) {\n",
       "            window._Plotly = Plotly;\n",
       "        });\n",
       "        }\n",
       "        </script>\n",
       "        "
      ]
     },
     "metadata": {},
     "output_type": "display_data"
    }
   ],
   "source": [
    "from nltk.corpus import names\n",
    "import random\n",
    "from nltk.classify import apply_features\n",
    "%matplotlib inline\n",
    "import pandas as pd\n",
    "import plotly as py\n",
    "import plotly.graph_objs as go \n",
    "from plotly.offline import init_notebook_mode, plot, iplot\n",
    "import matplotlib.pyplot as plt\n",
    "init_notebook_mode(connected=True)\n",
    "import nltk, re, pprint\n",
    "from nltk import word_tokenize\n",
    "import string\n",
    "import re\n",
    "import numpy as np\n",
    "from sklearn.linear_model import LogisticRegression\n",
    "from sklearn.metrics import confusion_matrix\n",
    "from sklearn.model_selection import train_test_split\n",
    "from sklearn.naive_bayes import MultinomialNB, GaussianNB\n",
    "from sklearn.ensemble import RandomForestClassifier"
   ]
  },
  {
   "cell_type": "code",
   "execution_count": 5,
   "metadata": {
    "ExecuteTime": {
     "end_time": "2020-07-01T14:24:13.676399Z",
     "start_time": "2020-07-01T14:24:13.660242Z"
    }
   },
   "outputs": [],
   "source": [
    "names = ([(name, 'male') for name in names.words('male.txt')] + [(name, 'female') for name in names.words('female.txt')])"
   ]
  },
  {
   "cell_type": "code",
   "execution_count": 6,
   "metadata": {
    "ExecuteTime": {
     "end_time": "2020-07-01T14:24:14.906006Z",
     "start_time": "2020-07-01T14:24:14.891345Z"
    }
   },
   "outputs": [],
   "source": [
    "name_df = pd.DataFrame(names)\n",
    "name_df.columns = ['name', 'gender']"
   ]
  },
  {
   "cell_type": "code",
   "execution_count": 7,
   "metadata": {
    "ExecuteTime": {
     "end_time": "2020-07-01T14:24:16.675390Z",
     "start_time": "2020-07-01T14:24:16.606970Z"
    }
   },
   "outputs": [],
   "source": [
    "name_df['last_letter'] = name_df['name'].apply(lambda x: x[-1])\n",
    "name_df['first_letter'] = name_df['name'].apply(lambda x: x[0])\n",
    "name_df['len_name'] = name_df['name'].apply(lambda x: len(x))\n",
    "name_df['a_count'] = name_df['name'].apply(lambda x: len(re.findall('a',x)))\n",
    "name_df['i_count'] = name_df['name'].apply(lambda x: len(re.findall('i',x)))\n",
    "name_df['o_count'] = name_df['name'].apply(lambda x: len(re.findall('o',x)))\n",
    "name_df['o_count'] = name_df['name'].apply(lambda x: len(re.findall('y',x)))\n",
    "name_df = pd.get_dummies(name_df, columns=['last_letter','first_letter'])"
   ]
  },
  {
   "cell_type": "code",
   "execution_count": 8,
   "metadata": {
    "ExecuteTime": {
     "end_time": "2020-07-01T14:24:17.977891Z",
     "start_time": "2020-07-01T14:24:17.957265Z"
    }
   },
   "outputs": [
    {
     "data": {
      "text/html": [
       "<div>\n",
       "<style scoped>\n",
       "    .dataframe tbody tr th:only-of-type {\n",
       "        vertical-align: middle;\n",
       "    }\n",
       "\n",
       "    .dataframe tbody tr th {\n",
       "        vertical-align: top;\n",
       "    }\n",
       "\n",
       "    .dataframe thead th {\n",
       "        text-align: right;\n",
       "    }\n",
       "</style>\n",
       "<table border=\"1\" class=\"dataframe\">\n",
       "  <thead>\n",
       "    <tr style=\"text-align: right;\">\n",
       "      <th></th>\n",
       "      <th>name</th>\n",
       "      <th>gender</th>\n",
       "      <th>len_name</th>\n",
       "      <th>a_count</th>\n",
       "      <th>i_count</th>\n",
       "      <th>o_count</th>\n",
       "      <th>last_letter_</th>\n",
       "      <th>last_letter_a</th>\n",
       "      <th>last_letter_b</th>\n",
       "      <th>last_letter_c</th>\n",
       "      <th>...</th>\n",
       "      <th>first_letter_Q</th>\n",
       "      <th>first_letter_R</th>\n",
       "      <th>first_letter_S</th>\n",
       "      <th>first_letter_T</th>\n",
       "      <th>first_letter_U</th>\n",
       "      <th>first_letter_V</th>\n",
       "      <th>first_letter_W</th>\n",
       "      <th>first_letter_X</th>\n",
       "      <th>first_letter_Y</th>\n",
       "      <th>first_letter_Z</th>\n",
       "    </tr>\n",
       "  </thead>\n",
       "  <tbody>\n",
       "    <tr>\n",
       "      <th>0</th>\n",
       "      <td>Aamir</td>\n",
       "      <td>male</td>\n",
       "      <td>5</td>\n",
       "      <td>1</td>\n",
       "      <td>1</td>\n",
       "      <td>0</td>\n",
       "      <td>0</td>\n",
       "      <td>0</td>\n",
       "      <td>0</td>\n",
       "      <td>0</td>\n",
       "      <td>...</td>\n",
       "      <td>0</td>\n",
       "      <td>0</td>\n",
       "      <td>0</td>\n",
       "      <td>0</td>\n",
       "      <td>0</td>\n",
       "      <td>0</td>\n",
       "      <td>0</td>\n",
       "      <td>0</td>\n",
       "      <td>0</td>\n",
       "      <td>0</td>\n",
       "    </tr>\n",
       "    <tr>\n",
       "      <th>1</th>\n",
       "      <td>Aaron</td>\n",
       "      <td>male</td>\n",
       "      <td>5</td>\n",
       "      <td>1</td>\n",
       "      <td>0</td>\n",
       "      <td>0</td>\n",
       "      <td>0</td>\n",
       "      <td>0</td>\n",
       "      <td>0</td>\n",
       "      <td>0</td>\n",
       "      <td>...</td>\n",
       "      <td>0</td>\n",
       "      <td>0</td>\n",
       "      <td>0</td>\n",
       "      <td>0</td>\n",
       "      <td>0</td>\n",
       "      <td>0</td>\n",
       "      <td>0</td>\n",
       "      <td>0</td>\n",
       "      <td>0</td>\n",
       "      <td>0</td>\n",
       "    </tr>\n",
       "    <tr>\n",
       "      <th>2</th>\n",
       "      <td>Abbey</td>\n",
       "      <td>male</td>\n",
       "      <td>5</td>\n",
       "      <td>0</td>\n",
       "      <td>0</td>\n",
       "      <td>1</td>\n",
       "      <td>0</td>\n",
       "      <td>0</td>\n",
       "      <td>0</td>\n",
       "      <td>0</td>\n",
       "      <td>...</td>\n",
       "      <td>0</td>\n",
       "      <td>0</td>\n",
       "      <td>0</td>\n",
       "      <td>0</td>\n",
       "      <td>0</td>\n",
       "      <td>0</td>\n",
       "      <td>0</td>\n",
       "      <td>0</td>\n",
       "      <td>0</td>\n",
       "      <td>0</td>\n",
       "    </tr>\n",
       "    <tr>\n",
       "      <th>3</th>\n",
       "      <td>Abbie</td>\n",
       "      <td>male</td>\n",
       "      <td>5</td>\n",
       "      <td>0</td>\n",
       "      <td>1</td>\n",
       "      <td>0</td>\n",
       "      <td>0</td>\n",
       "      <td>0</td>\n",
       "      <td>0</td>\n",
       "      <td>0</td>\n",
       "      <td>...</td>\n",
       "      <td>0</td>\n",
       "      <td>0</td>\n",
       "      <td>0</td>\n",
       "      <td>0</td>\n",
       "      <td>0</td>\n",
       "      <td>0</td>\n",
       "      <td>0</td>\n",
       "      <td>0</td>\n",
       "      <td>0</td>\n",
       "      <td>0</td>\n",
       "    </tr>\n",
       "    <tr>\n",
       "      <th>4</th>\n",
       "      <td>Abbot</td>\n",
       "      <td>male</td>\n",
       "      <td>5</td>\n",
       "      <td>0</td>\n",
       "      <td>0</td>\n",
       "      <td>0</td>\n",
       "      <td>0</td>\n",
       "      <td>0</td>\n",
       "      <td>0</td>\n",
       "      <td>0</td>\n",
       "      <td>...</td>\n",
       "      <td>0</td>\n",
       "      <td>0</td>\n",
       "      <td>0</td>\n",
       "      <td>0</td>\n",
       "      <td>0</td>\n",
       "      <td>0</td>\n",
       "      <td>0</td>\n",
       "      <td>0</td>\n",
       "      <td>0</td>\n",
       "      <td>0</td>\n",
       "    </tr>\n",
       "  </tbody>\n",
       "</table>\n",
       "<p>5 rows × 58 columns</p>\n",
       "</div>"
      ],
      "text/plain": [
       "    name gender  len_name  a_count  i_count  o_count  last_letter_   \\\n",
       "0  Aamir   male         5        1        1        0              0   \n",
       "1  Aaron   male         5        1        0        0              0   \n",
       "2  Abbey   male         5        0        0        1              0   \n",
       "3  Abbie   male         5        0        1        0              0   \n",
       "4  Abbot   male         5        0        0        0              0   \n",
       "\n",
       "   last_letter_a  last_letter_b  last_letter_c  ...  first_letter_Q  \\\n",
       "0              0              0              0  ...               0   \n",
       "1              0              0              0  ...               0   \n",
       "2              0              0              0  ...               0   \n",
       "3              0              0              0  ...               0   \n",
       "4              0              0              0  ...               0   \n",
       "\n",
       "   first_letter_R  first_letter_S  first_letter_T  first_letter_U  \\\n",
       "0               0               0               0               0   \n",
       "1               0               0               0               0   \n",
       "2               0               0               0               0   \n",
       "3               0               0               0               0   \n",
       "4               0               0               0               0   \n",
       "\n",
       "   first_letter_V  first_letter_W  first_letter_X  first_letter_Y  \\\n",
       "0               0               0               0               0   \n",
       "1               0               0               0               0   \n",
       "2               0               0               0               0   \n",
       "3               0               0               0               0   \n",
       "4               0               0               0               0   \n",
       "\n",
       "   first_letter_Z  \n",
       "0               0  \n",
       "1               0  \n",
       "2               0  \n",
       "3               0  \n",
       "4               0  \n",
       "\n",
       "[5 rows x 58 columns]"
      ]
     },
     "execution_count": 8,
     "metadata": {},
     "output_type": "execute_result"
    }
   ],
   "source": [
    "name_df.head()"
   ]
  },
  {
   "cell_type": "code",
   "execution_count": 9,
   "metadata": {
    "ExecuteTime": {
     "end_time": "2020-07-01T14:24:20.147778Z",
     "start_time": "2020-07-01T14:24:20.142041Z"
    }
   },
   "outputs": [],
   "source": [
    "def logistic_classifier(df):\n",
    "    \n",
    "    X = df.drop(labels=['gender','name'],\n",
    "                axis=1)\n",
    "        \n",
    "    y = df['gender']\n",
    "    lr = LogisticRegression(penalty='l2',\n",
    "                            dual=False,\n",
    "                            max_iter=1000,\n",
    "                            tol=.0001,\n",
    "                            C=1)\n",
    "    X_train, X_test, y_train, y_test = train_test_split(X,\n",
    "                                                        y,\n",
    "                                                        test_size=.3)\n",
    "\n",
    "    lr.fit(X_train,y_train)\n",
    "    y_pred = lr.predict(X_test)\n",
    "    print('Test Accuracy',lr.score(X_test, y_test))\n",
    "    print('Train Accuracy',lr.score(X_train, y_train))\n",
    "    print('Confusion Matrix')\n",
    "    print(confusion_matrix(y_test, y_pred))"
   ]
  },
  {
   "cell_type": "code",
   "execution_count": 10,
   "metadata": {
    "ExecuteTime": {
     "end_time": "2020-07-01T14:24:22.236355Z",
     "start_time": "2020-07-01T14:24:22.046655Z"
    }
   },
   "outputs": [
    {
     "name": "stdout",
     "output_type": "stream",
     "text": [
      "Test Accuracy 0.7885906040268457\n",
      "Train Accuracy 0.789568345323741\n",
      "Confusion Matrix\n",
      "[[1305  228]\n",
      " [ 276  575]]\n"
     ]
    }
   ],
   "source": [
    "logistic_classifier(name_df)"
   ]
  },
  {
   "cell_type": "code",
   "execution_count": 11,
   "metadata": {
    "ExecuteTime": {
     "end_time": "2020-07-01T14:24:24.109730Z",
     "start_time": "2020-07-01T14:24:24.104306Z"
    }
   },
   "outputs": [],
   "source": [
    "def m_naive_bayes_classifier(df):\n",
    "    \n",
    "    X = df.drop(labels=['gender','name'],\n",
    "                axis=1)\n",
    "        \n",
    "    y = df['gender']\n",
    "    nb = MultinomialNB()\n",
    "    X_train, X_test, y_train, y_test = train_test_split(X,\n",
    "                                                        y,\n",
    "                                                        test_size=.3)\n",
    "\n",
    "    nb.fit(X_train,y_train)\n",
    "    y_pred = nb.predict(X_test)\n",
    "    print('Test Accuracy',nb.score(X_test, y_test))\n",
    "    print('Train Accuracy',nb.score(X_train, y_train))\n",
    "    print('Confusion Matrix')\n",
    "    print(confusion_matrix(y_test, y_pred))"
   ]
  },
  {
   "cell_type": "code",
   "execution_count": 12,
   "metadata": {
    "ExecuteTime": {
     "end_time": "2020-07-01T14:24:25.682293Z",
     "start_time": "2020-07-01T14:24:25.628204Z"
    }
   },
   "outputs": [
    {
     "name": "stdout",
     "output_type": "stream",
     "text": [
      "Test Accuracy 0.7739093959731543\n",
      "Train Accuracy 0.7773381294964029\n",
      "Confusion Matrix\n",
      "[[1264  264]\n",
      " [ 275  581]]\n"
     ]
    }
   ],
   "source": [
    "naive_bayes_classifier(name_df)"
   ]
  },
  {
   "cell_type": "code",
   "execution_count": 28,
   "metadata": {
    "ExecuteTime": {
     "end_time": "2020-07-01T15:00:25.996314Z",
     "start_time": "2020-07-01T15:00:25.990754Z"
    }
   },
   "outputs": [],
   "source": [
    "def random_forest_classifier(df):\n",
    "    \n",
    "    X = df.drop(labels=['gender','name'],\n",
    "                axis=1)\n",
    "        \n",
    "    y = df['gender']\n",
    "    rf=RandomForestClassifier(n_estimators=20,\n",
    "                              min_samples_split=10)\n",
    "    X_train, X_test, y_train, y_test = train_test_split(X,\n",
    "                                                        y,\n",
    "                                                        test_size=.3)\n",
    "\n",
    "    rf.fit(X_train,y_train)\n",
    "    y_pred = rf.predict(X_test)\n",
    "    print('Test Accuracy',rf.score(X_test, y_test))\n",
    "    print('Train Accuracy',rf.score(X_train, y_train))\n",
    "    print('Confusion Matrix')\n",
    "    print(confusion_matrix(y_test, y_pred))"
   ]
  },
  {
   "cell_type": "code",
   "execution_count": 29,
   "metadata": {
    "ExecuteTime": {
     "end_time": "2020-07-01T15:00:27.733835Z",
     "start_time": "2020-07-01T15:00:27.587803Z"
    }
   },
   "outputs": [
    {
     "name": "stdout",
     "output_type": "stream",
     "text": [
      "Test Accuracy 0.7785234899328859\n",
      "Train Accuracy 0.8597122302158273\n",
      "Confusion Matrix\n",
      "[[1222  236]\n",
      " [ 292  634]]\n"
     ]
    }
   ],
   "source": [
    "random_forest_classifier(name_df)"
   ]
  },
  {
   "cell_type": "code",
   "execution_count": null,
   "metadata": {},
   "outputs": [],
   "source": []
  }
 ],
 "metadata": {
  "kernelspec": {
   "display_name": "ml-env",
   "language": "python",
   "name": "ml-env"
  },
  "language_info": {
   "codemirror_mode": {
    "name": "ipython",
    "version": 3
   },
   "file_extension": ".py",
   "mimetype": "text/x-python",
   "name": "python",
   "nbconvert_exporter": "python",
   "pygments_lexer": "ipython3",
   "version": "3.7.7"
  },
  "toc": {
   "base_numbering": 1,
   "nav_menu": {},
   "number_sections": true,
   "sideBar": true,
   "skip_h1_title": false,
   "title_cell": "Table of Contents",
   "title_sidebar": "Contents",
   "toc_cell": false,
   "toc_position": {},
   "toc_section_display": true,
   "toc_window_display": false
  }
 },
 "nbformat": 4,
 "nbformat_minor": 2
}
