{
 "cells": [
  {
   "cell_type": "markdown",
   "metadata": {},
   "source": [
    "# Data 620 Project 3\n",
    "## Classification\n",
    "Jit Seneviratne and Sheryl Piechocki  \n",
    "June 29, 2020\n",
    "\n",
    "**Dataset** \n",
    "The data used in this project is the names corpus included in the NLTK package.\n",
    "\n",
    "**Analysis:** \n",
    "After the names corpus is split into train, dev-test, and test subsets, initial classification using NLTK's maximum entropy classifier is performed with one feature.  Additional features are added to improve the maximum entropy classifier.  Further features are added and sklearn's Logistic Regression, Naive Bayes, and Random Forest classification techniques are attempted.  Accuracy and confusion matrices are produced.  "
   ]
  },
  {
   "cell_type": "code",
   "execution_count": 1,
   "metadata": {
    "ExecuteTime": {
     "end_time": "2020-07-04T00:24:28.410475Z",
     "start_time": "2020-07-04T00:24:28.395005Z"
    }
   },
   "outputs": [
    {
     "data": {
      "text/html": [
       "        <script type=\"text/javascript\">\n",
       "        window.PlotlyConfig = {MathJaxConfig: 'local'};\n",
       "        if (window.MathJax) {MathJax.Hub.Config({SVG: {font: \"STIX-Web\"}});}\n",
       "        if (typeof require !== 'undefined') {\n",
       "        require.undef(\"plotly\");\n",
       "        requirejs.config({\n",
       "            paths: {\n",
       "                'plotly': ['https://cdn.plot.ly/plotly-latest.min']\n",
       "            }\n",
       "        });\n",
       "        require(['plotly'], function(Plotly) {\n",
       "            window._Plotly = Plotly;\n",
       "        });\n",
       "        }\n",
       "        </script>\n",
       "        "
      ]
     },
     "metadata": {},
     "output_type": "display_data"
    }
   ],
   "source": [
    "from nltk.corpus import names\n",
    "import random\n",
    "from nltk.classify import apply_features\n",
    "from plotly.offline import init_notebook_mode, plot, iplot\n",
    "%matplotlib inline\n",
    "import pandas as pd\n",
    "from sklearn.pipeline import Pipeline\n",
    "import matplotlib.pyplot as plt\n",
    "init_notebook_mode(connected=True)\n",
    "import nltk, re, pprint\n",
    "from nltk import word_tokenize\n",
    "import string\n",
    "import re\n",
    "import numpy as np\n",
    "from sklearn.linear_model import LogisticRegression\n",
    "from sklearn.metrics import confusion_matrix\n",
    "from sklearn.model_selection import GridSearchCV, ShuffleSplit\n",
    "from sklearn.naive_bayes import MultinomialNB, GaussianNB\n",
    "from sklearn.ensemble import RandomForestClassifier\n",
    "from sklearn.utils import resample"
   ]
  },
  {
   "cell_type": "markdown",
   "metadata": {},
   "source": [
    "### Investigate the NLTK Names Corpus"
   ]
  },
  {
   "cell_type": "code",
   "execution_count": 2,
   "metadata": {
    "ExecuteTime": {
     "end_time": "2020-07-03T17:58:10.154508Z",
     "start_time": "2020-07-03T17:58:10.141484Z"
    }
   },
   "outputs": [],
   "source": [
    " names = ([(name, 'male') for name in names.words('male.txt')] + [(name, 'female') for name in names.words('female.txt')])"
   ]
  },
  {
   "cell_type": "code",
   "execution_count": 3,
   "metadata": {
    "ExecuteTime": {
     "end_time": "2020-07-03T17:58:11.237885Z",
     "start_time": "2020-07-03T17:58:11.230628Z"
    }
   },
   "outputs": [
    {
     "name": "stdout",
     "output_type": "stream",
     "text": [
      "Count of total names in the corpus is:  7944\n",
      "Count of female names in the corpus is:  5001\n",
      "Count of male names in the corpus is:  2943\n"
     ]
    }
   ],
   "source": [
    "#print(names[:10])\n",
    "print('Count of total names in the corpus is: ' , (len(names)))\n",
    "\n",
    "females = [(name, gender) for name, gender in names if gender == 'female']\n",
    "print('Count of female names in the corpus is: ' , (len(females)))\n",
    "males = [(name, gender) for name, gender in names if gender == 'male']\n",
    "print('Count of male names in the corpus is: ' , (len(males)))"
   ]
  },
  {
   "cell_type": "markdown",
   "metadata": {},
   "source": [
    "The corpus has more female names (~63%) than male names (37%)."
   ]
  },
  {
   "cell_type": "markdown",
   "metadata": {},
   "source": [
    "### Remove any trailing spaces from names"
   ]
  },
  {
   "cell_type": "code",
   "execution_count": 4,
   "metadata": {
    "ExecuteTime": {
     "end_time": "2020-07-03T17:58:13.698063Z",
     "start_time": "2020-07-03T17:58:13.686629Z"
    }
   },
   "outputs": [],
   "source": [
    "names = list(tuple(\"\".join(i.rsplit()) for i in a) for a in names)"
   ]
  },
  {
   "cell_type": "markdown",
   "metadata": {},
   "source": [
    "### Split the names data set into train, test, and devtest  \n",
    "The corpus is split into three subsets per the instructions.  \n",
    "500 dev-test  \n",
    "500 test  \n",
    "6,944 train  "
   ]
  },
  {
   "cell_type": "code",
   "execution_count": 5,
   "metadata": {
    "ExecuteTime": {
     "end_time": "2020-07-03T17:58:15.565307Z",
     "start_time": "2020-07-03T17:58:15.555389Z"
    }
   },
   "outputs": [],
   "source": [
    "random.shuffle(names)\n",
    "train_names = names[1000:]\n",
    "devtest_names = names[500:1000]\n",
    "test_names = names[:500]"
   ]
  },
  {
   "cell_type": "code",
   "execution_count": 6,
   "metadata": {
    "ExecuteTime": {
     "end_time": "2020-07-03T17:58:17.656206Z",
     "start_time": "2020-07-03T17:58:17.652141Z"
    }
   },
   "outputs": [
    {
     "name": "stdout",
     "output_type": "stream",
     "text": [
      "6944\n",
      "500\n",
      "500\n"
     ]
    }
   ],
   "source": [
    "print(len(train_names))\n",
    "print(len(devtest_names))\n",
    "print(len(test_names))"
   ]
  },
  {
   "cell_type": "markdown",
   "metadata": {},
   "source": [
    "### Create dataframes for later use"
   ]
  },
  {
   "cell_type": "code",
   "execution_count": 7,
   "metadata": {
    "ExecuteTime": {
     "end_time": "2020-07-03T17:58:36.525318Z",
     "start_time": "2020-07-03T17:58:36.517801Z"
    }
   },
   "outputs": [],
   "source": [
    "train_name_df = pd.DataFrame(train_names)\n",
    "train_name_df.columns = ['name', 'gender']\n",
    "test_name_df = pd.DataFrame(test_names)\n",
    "test_name_df.columns = ['name', 'gender']"
   ]
  },
  {
   "cell_type": "markdown",
   "metadata": {},
   "source": [
    "### Last letter feature\n",
    "Use the function provided in the book that takes an input word and returns the last letter"
   ]
  },
  {
   "cell_type": "code",
   "execution_count": 8,
   "metadata": {},
   "outputs": [],
   "source": [
    " def gender_features(name):\n",
    "        return {'last_letter': name[-1]}"
   ]
  },
  {
   "cell_type": "markdown",
   "metadata": {},
   "source": [
    "### Run 1 - Max Entropy Classifier  \n",
    "Feature: last letter.  \n",
    "We started with the maximum entropy classifier because it does not assume the features are independent. (The Naive Bayes classifier assumes features are independent and this may be an unreasonable assumption for classifying gender from names.)  The maximum entropy classifier uses an interative technique to maximize the likelihood of the training corpus."
   ]
  },
  {
   "cell_type": "code",
   "execution_count": 9,
   "metadata": {},
   "outputs": [
    {
     "name": "stdout",
     "output_type": "stream",
     "text": [
      "Run 1: Gender correctly identified:  72.2%\n"
     ]
    }
   ],
   "source": [
    "train_set = apply_features(gender_features, train_names)\n",
    "test_set = apply_features(gender_features, test_names)\n",
    "devtest_set = apply_features(gender_features, devtest_names)\n",
    "\n",
    "classifier = nltk.MaxentClassifier.train(train_set, algorithm='iis', trace=0, max_iter=1000)\n",
    "print('Run 1: Gender correctly identified: ', \"{:.1%}\".format(nltk.classify.accuracy(classifier, devtest_set)))"
   ]
  },
  {
   "cell_type": "markdown",
   "metadata": {},
   "source": [
    "With just a single feature of last letter of the name, the dev-test set yields an accuracy of 72.2%."
   ]
  },
  {
   "cell_type": "markdown",
   "metadata": {},
   "source": [
    "### Run 1 - Most informative features  \n",
    "Using the last letter feature, the classifier ranks names ending in 'c' as the most informative feature and is positive for males.  Last letter 'a' is also important, but is negative for males."
   ]
  },
  {
   "cell_type": "code",
   "execution_count": 10,
   "metadata": {},
   "outputs": [
    {
     "name": "stdout",
     "output_type": "stream",
     "text": [
      "   9.966 last_letter=='c' and label is 'male'\n",
      "  -4.986 last_letter=='a' and label is 'male'\n",
      "  -3.481 last_letter=='k' and label is 'female'\n",
      "  -2.585 last_letter=='f' and label is 'female'\n",
      "  -2.170 last_letter=='p' and label is 'female'\n"
     ]
    }
   ],
   "source": [
    "classifier.show_most_informative_features(5)"
   ]
  },
  {
   "cell_type": "markdown",
   "metadata": {},
   "source": [
    "### Add additional features for first letter and length of the name\n"
   ]
  },
  {
   "cell_type": "code",
   "execution_count": 11,
   "metadata": {},
   "outputs": [],
   "source": [
    "def gender_features2(name):\n",
    "    features = {}\n",
    "    features[\"last_letter\"] = name[-1].lower()\n",
    "    features[\"first_letter\"] = name[0].lower()\n",
    "    features[\"name_length\"] = len(name)\n",
    "    return features\n"
   ]
  },
  {
   "cell_type": "markdown",
   "metadata": {},
   "source": [
    "### Run 2 - Max Entropy Classifier  \n",
    "Features: last letter, first letter, length of name"
   ]
  },
  {
   "cell_type": "code",
   "execution_count": 12,
   "metadata": {},
   "outputs": [
    {
     "name": "stdout",
     "output_type": "stream",
     "text": [
      "Run 2: Gender correctly identified:  76.4%\n"
     ]
    }
   ],
   "source": [
    "train_set2 = apply_features(gender_features2, train_names)\n",
    "test_set2 = apply_features(gender_features2, test_names)\n",
    "devtest_set2 = apply_features(gender_features2, devtest_names)\n",
    "\n",
    "#classifier2 = nltk.NaiveBayesClassifier.train(train_set2)\n",
    "classifier2 = nltk.MaxentClassifier.train(train_set2, algorithm='iis', trace=0, max_iter=1000)\n",
    "print('Run 2: Gender correctly identified: ', \"{:.1%}\".format(nltk.classify.accuracy(classifier2, devtest_set2)))"
   ]
  },
  {
   "cell_type": "markdown",
   "metadata": {},
   "source": [
    "The additional features of first letter and length of the name have increased the accuracy to 76.4%."
   ]
  },
  {
   "cell_type": "markdown",
   "metadata": {},
   "source": [
    "### Run 2 - Create Confusion Matrix"
   ]
  },
  {
   "cell_type": "code",
   "execution_count": 32,
   "metadata": {},
   "outputs": [
    {
     "name": "stdout",
     "output_type": "stream",
     "text": [
      "       |   f     |\n",
      "       |   e     |\n",
      "       |   m   m |\n",
      "       |   a   a |\n",
      "       |   l   l |\n",
      "       |   e   e |\n",
      "-------+---------+\n",
      "female |<272> 55 |\n",
      "  male |  63<110>|\n",
      "-------+---------+\n",
      "(row = reference; col = test)\n",
      "\n"
     ]
    }
   ],
   "source": [
    "tag2 = []\n",
    "guess2 = []\n",
    "for  (name, label) in devtest_names:\n",
    "    observed2 = classifier2.classify(gender_features2(name))\n",
    "    tag2.append(label)\n",
    "    guess2.append(observed2)\n",
    "\n",
    "print(nltk.ConfusionMatrix(tag2, guess2))"
   ]
  },
  {
   "cell_type": "markdown",
   "metadata": {},
   "source": [
    "The classifier is not as good at determining male gender from name as it is female gender.  This could be because the corpus was more heavily skewed to female names."
   ]
  },
  {
   "cell_type": "markdown",
   "metadata": {},
   "source": [
    "### Run 2 - Check the errors"
   ]
  },
  {
   "cell_type": "code",
   "execution_count": 33,
   "metadata": {},
   "outputs": [
    {
     "name": "stdout",
     "output_type": "stream",
     "text": [
      "correct=female   guess=male     name=Alexis                        \n",
      "correct=female   guess=male     name=Alleen                        \n",
      "correct=female   guess=male     name=Aryn                          \n",
      "correct=female   guess=male     name=Bridgett                      \n",
      "correct=female   guess=male     name=Clem                          \n",
      "correct=female   guess=male     name=Cloris                        \n",
      "correct=female   guess=male     name=Denys                         \n",
      "correct=female   guess=male     name=Dian                          \n",
      "correct=female   guess=male     name=Diann                         \n",
      "correct=female   guess=male     name=Ellyn                         \n",
      "correct=female   guess=male     name=Fawn                          \n",
      "correct=female   guess=male     name=Francis                       \n",
      "correct=female   guess=male     name=Gertrudis                     \n",
      "correct=female   guess=male     name=Glenn                         \n",
      "correct=female   guess=male     name=Harriett                      \n",
      "correct=female   guess=male     name=Heather                       \n",
      "correct=female   guess=male     name=Ines                          \n",
      "correct=female   guess=male     name=Isabeau                       \n",
      "correct=female   guess=male     name=Jolyn                         \n",
      "correct=female   guess=male     name=Leann                         \n",
      "correct=female   guess=male     name=Lind                          \n",
      "correct=female   guess=male     name=Lorrin                        \n",
      "correct=female   guess=male     name=Lust                          \n",
      "correct=female   guess=male     name=Lynn                          \n",
      "correct=female   guess=male     name=Lynnett                       \n",
      "correct=female   guess=male     name=Madlin                        \n",
      "correct=female   guess=male     name=Margaret                      \n",
      "correct=female   guess=male     name=Maryjo                        \n",
      "correct=female   guess=male     name=Marys                         \n",
      "correct=female   guess=male     name=Meg                           \n",
      "correct=female   guess=male     name=Meris                         \n",
      "correct=female   guess=male     name=Mignon                        \n",
      "correct=female   guess=male     name=Morgan                        \n",
      "correct=female   guess=male     name=Nariko                        \n",
      "correct=female   guess=male     name=Nichol                        \n",
      "correct=female   guess=male     name=Olwen                         \n",
      "correct=female   guess=male     name=Pansy                         \n",
      "correct=female   guess=male     name=Penny                         \n",
      "correct=female   guess=male     name=Perry                         \n",
      "correct=female   guess=male     name=Rachel                        \n",
      "correct=female   guess=male     name=Reiko                         \n",
      "correct=female   guess=male     name=Renel                         \n",
      "correct=female   guess=male     name=Robbin                        \n",
      "correct=female   guess=male     name=Robin                         \n",
      "correct=female   guess=male     name=Robyn                         \n",
      "correct=female   guess=male     name=Romy                          \n",
      "correct=female   guess=male     name=Roz                           \n",
      "correct=female   guess=male     name=Ruby                          \n",
      "correct=female   guess=male     name=Shel                          \n",
      "correct=female   guess=male     name=Sherilyn                      \n",
      "correct=female   guess=male     name=Sigrid                        \n",
      "correct=female   guess=male     name=Tuesday                       \n",
      "correct=female   guess=male     name=Vivyan                        \n",
      "correct=female   guess=male     name=Winonah                       \n",
      "correct=female   guess=male     name=Wynne                         \n",
      "correct=male     guess=female   name=Abbie                         \n",
      "correct=male     guess=female   name=Abdul                         \n",
      "correct=male     guess=female   name=Allie                         \n",
      "correct=male     guess=female   name=Andie                         \n",
      "correct=male     guess=female   name=Arie                          \n",
      "correct=male     guess=female   name=Barty                         \n",
      "correct=male     guess=female   name=Blaine                        \n",
      "correct=male     guess=female   name=Bubba                         \n",
      "correct=male     guess=female   name=Carleigh                      \n",
      "correct=male     guess=female   name=Caryl                         \n",
      "correct=male     guess=female   name=Clay                          \n",
      "correct=male     guess=female   name=Corbin                        \n",
      "correct=male     guess=female   name=Dabney                        \n",
      "correct=male     guess=female   name=Dale                          \n",
      "correct=male     guess=female   name=Del                           \n",
      "correct=male     guess=female   name=Earle                         \n",
      "correct=male     guess=female   name=Ely                           \n",
      "correct=male     guess=female   name=Emile                         \n",
      "correct=male     guess=female   name=Ferdie                        \n",
      "correct=male     guess=female   name=Ferguson                      \n",
      "correct=male     guess=female   name=Gabriele                      \n",
      "correct=male     guess=female   name=Godfry                        \n",
      "correct=male     guess=female   name=Grace                         \n",
      "correct=male     guess=female   name=Greggory                      \n",
      "correct=male     guess=female   name=Guthrie                       \n",
      "correct=male     guess=female   name=Hale                          \n",
      "correct=male     guess=female   name=Hari                          \n",
      "correct=male     guess=female   name=Izzy                          \n",
      "correct=male     guess=female   name=Jameson                       \n",
      "correct=male     guess=female   name=Jamie                         \n",
      "correct=male     guess=female   name=Jean-Christophe               \n",
      "correct=male     guess=female   name=Jereme                        \n",
      "correct=male     guess=female   name=Jessee                        \n",
      "correct=male     guess=female   name=Joel                          \n",
      "correct=male     guess=female   name=Joshua                        \n",
      "correct=male     guess=female   name=Keil                          \n",
      "correct=male     guess=female   name=Klee                          \n",
      "correct=male     guess=female   name=Lazare                        \n",
      "correct=male     guess=female   name=Lin                           \n",
      "correct=male     guess=female   name=Lorne                         \n",
      "correct=male     guess=female   name=Meredeth                      \n",
      "correct=male     guess=female   name=Michael                       \n",
      "correct=male     guess=female   name=Mikel                         \n",
      "correct=male     guess=female   name=Morse                         \n",
      "correct=male     guess=female   name=Natale                        \n",
      "correct=male     guess=female   name=Nicky                         \n",
      "correct=male     guess=female   name=Olle                          \n",
      "correct=male     guess=female   name=Peirce                        \n",
      "correct=male     guess=female   name=Radcliffe                     \n",
      "correct=male     guess=female   name=Rey                           \n",
      "correct=male     guess=female   name=Rickie                        \n",
      "correct=male     guess=female   name=Rodge                         \n",
      "correct=male     guess=female   name=Rourke                        \n",
      "correct=male     guess=female   name=Shaine                        \n",
      "correct=male     guess=female   name=Sidnee                        \n",
      "correct=male     guess=female   name=Sinclare                      \n",
      "correct=male     guess=female   name=Spike                         \n",
      "correct=male     guess=female   name=Stanley                       \n",
      "correct=male     guess=female   name=Terence                       \n",
      "correct=male     guess=female   name=Thayne                        \n",
      "correct=male     guess=female   name=Tye                           \n",
      "correct=male     guess=female   name=Vijay                         \n",
      "correct=male     guess=female   name=Wallace                       \n",
      "118\n"
     ]
    }
   ],
   "source": [
    "errors = []\n",
    "for (name, tag) in devtest_names:\n",
    "    guess =  classifier2.classify(gender_features2(name))\n",
    "    if guess != tag:\n",
    "        errors.append( (tag, guess, name) )\n",
    "\n",
    "for (tag, guess, name) in sorted(errors): \n",
    "    print('correct=%-8s guess=%-8s name=%-30s'  %\n",
    "          (tag, guess, name))\n",
    "print(len(errors))"
   ]
  },
  {
   "cell_type": "markdown",
   "metadata": {},
   "source": [
    "### Run 2 - Most Important Features"
   ]
  },
  {
   "cell_type": "code",
   "execution_count": 15,
   "metadata": {},
   "outputs": [
    {
     "name": "stdout",
     "output_type": "stream",
     "text": [
      "   9.097 name_length==15 and label is 'female'\n",
      "   8.835 last_letter=='c' and label is 'male'\n",
      "  -5.392 last_letter=='a' and label is 'male'\n",
      "  -4.085 last_letter=='k' and label is 'female'\n",
      "  -2.907 last_letter=='f' and label is 'female'\n"
     ]
    }
   ],
   "source": [
    "classifier2.show_most_informative_features(5)"
   ]
  },
  {
   "cell_type": "markdown",
   "metadata": {},
   "source": [
    "Now the most important feature is around the length of the name.  Name lengths of 15 are positive for females.  The last letter of 'c' is still important and is positive for males.  Last letter of 'a' is negative for males."
   ]
  },
  {
   "cell_type": "markdown",
   "metadata": {},
   "source": [
    "### Test the Maximum Entropy Classifier  \n",
    "Now use the test set to get the accuracy of the classifier."
   ]
  },
  {
   "cell_type": "code",
   "execution_count": 16,
   "metadata": {},
   "outputs": [
    {
     "name": "stdout",
     "output_type": "stream",
     "text": [
      "Maximum Entropy test: Gender correctly identified:  75.8%\n"
     ]
    }
   ],
   "source": [
    "print('Maximum Entropy test: Gender correctly identified: ', \"{:.1%}\".format(nltk.classify.accuracy(classifier2, test_set2)))"
   ]
  },
  {
   "cell_type": "markdown",
   "metadata": {},
   "source": [
    "On the test set, the maximum entropy classifier with features of first letter, last letter, and name length, we achieve an accuracy of 75.8%."
   ]
  },
  {
   "cell_type": "markdown",
   "metadata": {},
   "source": [
    "### Add additional features - counts of \"a\", \"i\", \"o\", \"y\" and create dummy columns for first and last letter features"
   ]
  },
  {
   "cell_type": "code",
   "execution_count": 17,
   "metadata": {
    "ExecuteTime": {
     "end_time": "2020-07-03T17:58:39.776151Z",
     "start_time": "2020-07-03T17:58:39.724313Z"
    }
   },
   "outputs": [],
   "source": [
    "train_name_df['last_letter'] = train_name_df['name'].apply(lambda x: x[-1])\n",
    "train_name_df['first_letter'] = train_name_df['name'].apply(lambda x: x[0])\n",
    "train_name_df['len_name'] = train_name_df['name'].apply(lambda x: len(x))\n",
    "train_name_df['a_count'] = train_name_df['name'].apply(lambda x: len(re.findall('a',x)))\n",
    "train_name_df['i_count'] = train_name_df['name'].apply(lambda x: len(re.findall('i',x)))\n",
    "train_name_df['o_count'] = train_name_df['name'].apply(lambda x: len(re.findall('o',x)))\n",
    "train_name_df['y_count'] = train_name_df['name'].apply(lambda x: len(re.findall('y',x)))\n",
    "train_name_df = pd.get_dummies(train_name_df, columns=['last_letter','first_letter'])"
   ]
  },
  {
   "cell_type": "code",
   "execution_count": 18,
   "metadata": {
    "ExecuteTime": {
     "end_time": "2020-07-03T17:58:47.969680Z",
     "start_time": "2020-07-03T17:58:47.950880Z"
    }
   },
   "outputs": [
    {
     "data": {
      "text/html": [
       "<div>\n",
       "<style scoped>\n",
       "    .dataframe tbody tr th:only-of-type {\n",
       "        vertical-align: middle;\n",
       "    }\n",
       "\n",
       "    .dataframe tbody tr th {\n",
       "        vertical-align: top;\n",
       "    }\n",
       "\n",
       "    .dataframe thead th {\n",
       "        text-align: right;\n",
       "    }\n",
       "</style>\n",
       "<table border=\"1\" class=\"dataframe\">\n",
       "  <thead>\n",
       "    <tr style=\"text-align: right;\">\n",
       "      <th></th>\n",
       "      <th>name</th>\n",
       "      <th>gender</th>\n",
       "      <th>len_name</th>\n",
       "      <th>a_count</th>\n",
       "      <th>i_count</th>\n",
       "      <th>o_count</th>\n",
       "      <th>y_count</th>\n",
       "      <th>last_letter_a</th>\n",
       "      <th>last_letter_b</th>\n",
       "      <th>last_letter_c</th>\n",
       "      <th>...</th>\n",
       "      <th>first_letter_Q</th>\n",
       "      <th>first_letter_R</th>\n",
       "      <th>first_letter_S</th>\n",
       "      <th>first_letter_T</th>\n",
       "      <th>first_letter_U</th>\n",
       "      <th>first_letter_V</th>\n",
       "      <th>first_letter_W</th>\n",
       "      <th>first_letter_X</th>\n",
       "      <th>first_letter_Y</th>\n",
       "      <th>first_letter_Z</th>\n",
       "    </tr>\n",
       "  </thead>\n",
       "  <tbody>\n",
       "    <tr>\n",
       "      <th>0</th>\n",
       "      <td>Lucila</td>\n",
       "      <td>female</td>\n",
       "      <td>6</td>\n",
       "      <td>1</td>\n",
       "      <td>1</td>\n",
       "      <td>0</td>\n",
       "      <td>0</td>\n",
       "      <td>1</td>\n",
       "      <td>0</td>\n",
       "      <td>0</td>\n",
       "      <td>...</td>\n",
       "      <td>0</td>\n",
       "      <td>0</td>\n",
       "      <td>0</td>\n",
       "      <td>0</td>\n",
       "      <td>0</td>\n",
       "      <td>0</td>\n",
       "      <td>0</td>\n",
       "      <td>0</td>\n",
       "      <td>0</td>\n",
       "      <td>0</td>\n",
       "    </tr>\n",
       "    <tr>\n",
       "      <th>1</th>\n",
       "      <td>Therine</td>\n",
       "      <td>female</td>\n",
       "      <td>7</td>\n",
       "      <td>0</td>\n",
       "      <td>1</td>\n",
       "      <td>0</td>\n",
       "      <td>0</td>\n",
       "      <td>0</td>\n",
       "      <td>0</td>\n",
       "      <td>0</td>\n",
       "      <td>...</td>\n",
       "      <td>0</td>\n",
       "      <td>0</td>\n",
       "      <td>0</td>\n",
       "      <td>1</td>\n",
       "      <td>0</td>\n",
       "      <td>0</td>\n",
       "      <td>0</td>\n",
       "      <td>0</td>\n",
       "      <td>0</td>\n",
       "      <td>0</td>\n",
       "    </tr>\n",
       "    <tr>\n",
       "      <th>2</th>\n",
       "      <td>Reyna</td>\n",
       "      <td>female</td>\n",
       "      <td>5</td>\n",
       "      <td>1</td>\n",
       "      <td>0</td>\n",
       "      <td>0</td>\n",
       "      <td>1</td>\n",
       "      <td>1</td>\n",
       "      <td>0</td>\n",
       "      <td>0</td>\n",
       "      <td>...</td>\n",
       "      <td>0</td>\n",
       "      <td>1</td>\n",
       "      <td>0</td>\n",
       "      <td>0</td>\n",
       "      <td>0</td>\n",
       "      <td>0</td>\n",
       "      <td>0</td>\n",
       "      <td>0</td>\n",
       "      <td>0</td>\n",
       "      <td>0</td>\n",
       "    </tr>\n",
       "    <tr>\n",
       "      <th>3</th>\n",
       "      <td>Tim</td>\n",
       "      <td>female</td>\n",
       "      <td>3</td>\n",
       "      <td>0</td>\n",
       "      <td>1</td>\n",
       "      <td>0</td>\n",
       "      <td>0</td>\n",
       "      <td>0</td>\n",
       "      <td>0</td>\n",
       "      <td>0</td>\n",
       "      <td>...</td>\n",
       "      <td>0</td>\n",
       "      <td>0</td>\n",
       "      <td>0</td>\n",
       "      <td>1</td>\n",
       "      <td>0</td>\n",
       "      <td>0</td>\n",
       "      <td>0</td>\n",
       "      <td>0</td>\n",
       "      <td>0</td>\n",
       "      <td>0</td>\n",
       "    </tr>\n",
       "    <tr>\n",
       "      <th>4</th>\n",
       "      <td>Marcia</td>\n",
       "      <td>female</td>\n",
       "      <td>6</td>\n",
       "      <td>2</td>\n",
       "      <td>1</td>\n",
       "      <td>0</td>\n",
       "      <td>0</td>\n",
       "      <td>1</td>\n",
       "      <td>0</td>\n",
       "      <td>0</td>\n",
       "      <td>...</td>\n",
       "      <td>0</td>\n",
       "      <td>0</td>\n",
       "      <td>0</td>\n",
       "      <td>0</td>\n",
       "      <td>0</td>\n",
       "      <td>0</td>\n",
       "      <td>0</td>\n",
       "      <td>0</td>\n",
       "      <td>0</td>\n",
       "      <td>0</td>\n",
       "    </tr>\n",
       "  </tbody>\n",
       "</table>\n",
       "<p>5 rows × 58 columns</p>\n",
       "</div>"
      ],
      "text/plain": [
       "      name  gender  len_name  a_count  i_count  o_count  y_count  \\\n",
       "0   Lucila  female         6        1        1        0        0   \n",
       "1  Therine  female         7        0        1        0        0   \n",
       "2    Reyna  female         5        1        0        0        1   \n",
       "3      Tim  female         3        0        1        0        0   \n",
       "4   Marcia  female         6        2        1        0        0   \n",
       "\n",
       "   last_letter_a  last_letter_b  last_letter_c  ...  first_letter_Q  \\\n",
       "0              1              0              0  ...               0   \n",
       "1              0              0              0  ...               0   \n",
       "2              1              0              0  ...               0   \n",
       "3              0              0              0  ...               0   \n",
       "4              1              0              0  ...               0   \n",
       "\n",
       "   first_letter_R  first_letter_S  first_letter_T  first_letter_U  \\\n",
       "0               0               0               0               0   \n",
       "1               0               0               1               0   \n",
       "2               1               0               0               0   \n",
       "3               0               0               1               0   \n",
       "4               0               0               0               0   \n",
       "\n",
       "   first_letter_V  first_letter_W  first_letter_X  first_letter_Y  \\\n",
       "0               0               0               0               0   \n",
       "1               0               0               0               0   \n",
       "2               0               0               0               0   \n",
       "3               0               0               0               0   \n",
       "4               0               0               0               0   \n",
       "\n",
       "   first_letter_Z  \n",
       "0               0  \n",
       "1               0  \n",
       "2               0  \n",
       "3               0  \n",
       "4               0  \n",
       "\n",
       "[5 rows x 58 columns]"
      ]
     },
     "execution_count": 18,
     "metadata": {},
     "output_type": "execute_result"
    }
   ],
   "source": [
    "train_name_df.head()"
   ]
  },
  {
   "cell_type": "code",
   "execution_count": 19,
   "metadata": {
    "ExecuteTime": {
     "end_time": "2020-07-03T17:58:41.760016Z",
     "start_time": "2020-07-03T17:58:41.740424Z"
    }
   },
   "outputs": [],
   "source": [
    "test_name_df['last_letter'] = test_name_df['name'].apply(lambda x: x[-1])\n",
    "test_name_df['first_letter'] = test_name_df['name'].apply(lambda x: x[0])\n",
    "test_name_df['len_name'] = test_name_df['name'].apply(lambda x: len(x))\n",
    "test_name_df['a_count'] = test_name_df['name'].apply(lambda x: len(re.findall('a',x)))\n",
    "test_name_df['i_count'] = test_name_df['name'].apply(lambda x: len(re.findall('i',x)))\n",
    "test_name_df['o_count'] = test_name_df['name'].apply(lambda x: len(re.findall('o',x)))\n",
    "test_name_df['y_count'] = test_name_df['name'].apply(lambda x: len(re.findall('y',x)))\n",
    "test_name_df = pd.get_dummies(test_name_df, columns=['last_letter','first_letter'])"
   ]
  },
  {
   "cell_type": "code",
   "execution_count": 20,
   "metadata": {
    "ExecuteTime": {
     "end_time": "2020-07-03T17:58:43.021782Z",
     "start_time": "2020-07-03T17:58:43.017242Z"
    }
   },
   "outputs": [],
   "source": [
    "test_name_df = test_name_df.reindex(columns = train_name_df.columns, fill_value=0)"
   ]
  },
  {
   "cell_type": "code",
   "execution_count": 21,
   "metadata": {
    "ExecuteTime": {
     "end_time": "2020-07-03T17:58:50.714657Z",
     "start_time": "2020-07-03T17:58:50.697268Z"
    }
   },
   "outputs": [
    {
     "data": {
      "text/html": [
       "<div>\n",
       "<style scoped>\n",
       "    .dataframe tbody tr th:only-of-type {\n",
       "        vertical-align: middle;\n",
       "    }\n",
       "\n",
       "    .dataframe tbody tr th {\n",
       "        vertical-align: top;\n",
       "    }\n",
       "\n",
       "    .dataframe thead th {\n",
       "        text-align: right;\n",
       "    }\n",
       "</style>\n",
       "<table border=\"1\" class=\"dataframe\">\n",
       "  <thead>\n",
       "    <tr style=\"text-align: right;\">\n",
       "      <th></th>\n",
       "      <th>name</th>\n",
       "      <th>gender</th>\n",
       "      <th>len_name</th>\n",
       "      <th>a_count</th>\n",
       "      <th>i_count</th>\n",
       "      <th>o_count</th>\n",
       "      <th>y_count</th>\n",
       "      <th>last_letter_a</th>\n",
       "      <th>last_letter_b</th>\n",
       "      <th>last_letter_c</th>\n",
       "      <th>...</th>\n",
       "      <th>first_letter_Q</th>\n",
       "      <th>first_letter_R</th>\n",
       "      <th>first_letter_S</th>\n",
       "      <th>first_letter_T</th>\n",
       "      <th>first_letter_U</th>\n",
       "      <th>first_letter_V</th>\n",
       "      <th>first_letter_W</th>\n",
       "      <th>first_letter_X</th>\n",
       "      <th>first_letter_Y</th>\n",
       "      <th>first_letter_Z</th>\n",
       "    </tr>\n",
       "  </thead>\n",
       "  <tbody>\n",
       "    <tr>\n",
       "      <th>0</th>\n",
       "      <td>Worth</td>\n",
       "      <td>male</td>\n",
       "      <td>5</td>\n",
       "      <td>0</td>\n",
       "      <td>0</td>\n",
       "      <td>1</td>\n",
       "      <td>0</td>\n",
       "      <td>0</td>\n",
       "      <td>0</td>\n",
       "      <td>0</td>\n",
       "      <td>...</td>\n",
       "      <td>0</td>\n",
       "      <td>0</td>\n",
       "      <td>0</td>\n",
       "      <td>0</td>\n",
       "      <td>0</td>\n",
       "      <td>0</td>\n",
       "      <td>1</td>\n",
       "      <td>0</td>\n",
       "      <td>0</td>\n",
       "      <td>0</td>\n",
       "    </tr>\n",
       "    <tr>\n",
       "      <th>1</th>\n",
       "      <td>Caty</td>\n",
       "      <td>female</td>\n",
       "      <td>4</td>\n",
       "      <td>1</td>\n",
       "      <td>0</td>\n",
       "      <td>0</td>\n",
       "      <td>1</td>\n",
       "      <td>0</td>\n",
       "      <td>0</td>\n",
       "      <td>0</td>\n",
       "      <td>...</td>\n",
       "      <td>0</td>\n",
       "      <td>0</td>\n",
       "      <td>0</td>\n",
       "      <td>0</td>\n",
       "      <td>0</td>\n",
       "      <td>0</td>\n",
       "      <td>0</td>\n",
       "      <td>0</td>\n",
       "      <td>0</td>\n",
       "      <td>0</td>\n",
       "    </tr>\n",
       "    <tr>\n",
       "      <th>2</th>\n",
       "      <td>Patrizia</td>\n",
       "      <td>female</td>\n",
       "      <td>8</td>\n",
       "      <td>2</td>\n",
       "      <td>2</td>\n",
       "      <td>0</td>\n",
       "      <td>0</td>\n",
       "      <td>1</td>\n",
       "      <td>0</td>\n",
       "      <td>0</td>\n",
       "      <td>...</td>\n",
       "      <td>0</td>\n",
       "      <td>0</td>\n",
       "      <td>0</td>\n",
       "      <td>0</td>\n",
       "      <td>0</td>\n",
       "      <td>0</td>\n",
       "      <td>0</td>\n",
       "      <td>0</td>\n",
       "      <td>0</td>\n",
       "      <td>0</td>\n",
       "    </tr>\n",
       "    <tr>\n",
       "      <th>3</th>\n",
       "      <td>Artur</td>\n",
       "      <td>male</td>\n",
       "      <td>5</td>\n",
       "      <td>0</td>\n",
       "      <td>0</td>\n",
       "      <td>0</td>\n",
       "      <td>0</td>\n",
       "      <td>0</td>\n",
       "      <td>0</td>\n",
       "      <td>0</td>\n",
       "      <td>...</td>\n",
       "      <td>0</td>\n",
       "      <td>0</td>\n",
       "      <td>0</td>\n",
       "      <td>0</td>\n",
       "      <td>0</td>\n",
       "      <td>0</td>\n",
       "      <td>0</td>\n",
       "      <td>0</td>\n",
       "      <td>0</td>\n",
       "      <td>0</td>\n",
       "    </tr>\n",
       "    <tr>\n",
       "      <th>4</th>\n",
       "      <td>Curtis</td>\n",
       "      <td>male</td>\n",
       "      <td>6</td>\n",
       "      <td>0</td>\n",
       "      <td>1</td>\n",
       "      <td>0</td>\n",
       "      <td>0</td>\n",
       "      <td>0</td>\n",
       "      <td>0</td>\n",
       "      <td>0</td>\n",
       "      <td>...</td>\n",
       "      <td>0</td>\n",
       "      <td>0</td>\n",
       "      <td>0</td>\n",
       "      <td>0</td>\n",
       "      <td>0</td>\n",
       "      <td>0</td>\n",
       "      <td>0</td>\n",
       "      <td>0</td>\n",
       "      <td>0</td>\n",
       "      <td>0</td>\n",
       "    </tr>\n",
       "  </tbody>\n",
       "</table>\n",
       "<p>5 rows × 58 columns</p>\n",
       "</div>"
      ],
      "text/plain": [
       "       name  gender  len_name  a_count  i_count  o_count  y_count  \\\n",
       "0     Worth    male         5        0        0        1        0   \n",
       "1      Caty  female         4        1        0        0        1   \n",
       "2  Patrizia  female         8        2        2        0        0   \n",
       "3     Artur    male         5        0        0        0        0   \n",
       "4    Curtis    male         6        0        1        0        0   \n",
       "\n",
       "   last_letter_a  last_letter_b  last_letter_c  ...  first_letter_Q  \\\n",
       "0              0              0              0  ...               0   \n",
       "1              0              0              0  ...               0   \n",
       "2              1              0              0  ...               0   \n",
       "3              0              0              0  ...               0   \n",
       "4              0              0              0  ...               0   \n",
       "\n",
       "   first_letter_R  first_letter_S  first_letter_T  first_letter_U  \\\n",
       "0               0               0               0               0   \n",
       "1               0               0               0               0   \n",
       "2               0               0               0               0   \n",
       "3               0               0               0               0   \n",
       "4               0               0               0               0   \n",
       "\n",
       "   first_letter_V  first_letter_W  first_letter_X  first_letter_Y  \\\n",
       "0               0               1               0               0   \n",
       "1               0               0               0               0   \n",
       "2               0               0               0               0   \n",
       "3               0               0               0               0   \n",
       "4               0               0               0               0   \n",
       "\n",
       "   first_letter_Z  \n",
       "0               0  \n",
       "1               0  \n",
       "2               0  \n",
       "3               0  \n",
       "4               0  \n",
       "\n",
       "[5 rows x 58 columns]"
      ]
     },
     "execution_count": 21,
     "metadata": {},
     "output_type": "execute_result"
    }
   ],
   "source": [
    "test_name_df.head()"
   ]
  },
  {
   "cell_type": "markdown",
   "metadata": {},
   "source": [
    "### Run 3 - Logistic Classifier with additional features"
   ]
  },
  {
   "cell_type": "code",
   "execution_count": 22,
   "metadata": {
    "ExecuteTime": {
     "end_time": "2020-07-03T17:58:54.549443Z",
     "start_time": "2020-07-03T17:58:54.541509Z"
    }
   },
   "outputs": [],
   "source": [
    "def logistic_classifier(train_df, test_df):\n",
    "    \n",
    "    X_train = train_df.drop(labels=['gender','name'],\n",
    "                axis=1)\n",
    "        \n",
    "    y_train = train_df['gender']\n",
    "    \n",
    "    X_test = test_df.drop(labels=['gender','name'],\n",
    "                axis=1)\n",
    "        \n",
    "    y_test = test_df['gender']\n",
    "    \n",
    "    lr = LogisticRegression(penalty='l2',\n",
    "                            dual=False,\n",
    "                            max_iter=1000,\n",
    "                            tol=.0001)\n",
    "    \n",
    "    pipeline = Pipeline(steps=[('logistic', lr)])\n",
    "    \n",
    "    param_grid = {\n",
    "    'logistic__C': np.arange(1, 50, 10)}\n",
    "\n",
    "    cv = ShuffleSplit(n_splits=10, test_size=.3, random_state=0)\n",
    "\n",
    "    search = GridSearchCV(pipeline, \n",
    "                          param_grid,\n",
    "                          cv=cv,\n",
    "                          return_train_score=True\n",
    "                          )\n",
    "\n",
    "    search.fit(X_train,y_train)\n",
    "\n",
    "    y_pred = search.predict(X_test)\n",
    "    \n",
    "    print('Run 3: Logistic Classifier')\n",
    "    print('Train: Gender correctly identified: ', \"{:.1%}\".format(search.score(X_train, y_train)))\n",
    "    print('Test: Gender correctly identified: ', \"{:.1%}\".format(search.score(X_test, y_test)))\n",
    "    print('')\n",
    "    print('Confusion Matrix')\n",
    "    print(confusion_matrix(y_test, y_pred))\n",
    "    "
   ]
  },
  {
   "cell_type": "code",
   "execution_count": 23,
   "metadata": {
    "ExecuteTime": {
     "end_time": "2020-07-03T17:59:07.033704Z",
     "start_time": "2020-07-03T17:58:55.944550Z"
    }
   },
   "outputs": [
    {
     "name": "stdout",
     "output_type": "stream",
     "text": [
      "Run 3: Logistic Classifier\n",
      "Train: Gender correctly identified:  79.0%\n",
      "Test: Gender correctly identified:  76.0%\n",
      "\n",
      "Confusion Matrix\n",
      "[[259  43]\n",
      " [ 77 121]]\n"
     ]
    }
   ],
   "source": [
    "logistic_classifier(train_name_df, test_name_df)"
   ]
  },
  {
   "cell_type": "markdown",
   "metadata": {},
   "source": [
    "### Run 4 - Naive Bayes Classifier with additional features"
   ]
  },
  {
   "cell_type": "code",
   "execution_count": 24,
   "metadata": {
    "ExecuteTime": {
     "end_time": "2020-07-03T17:59:12.118841Z",
     "start_time": "2020-07-03T17:59:12.111881Z"
    }
   },
   "outputs": [],
   "source": [
    "def m_naive_bayes_classifier(train_df, test_df):\n",
    "    \n",
    "    X_train = train_df.drop(labels=['gender','name'],\n",
    "                axis=1)\n",
    "        \n",
    "    y_train = train_df['gender']\n",
    "    \n",
    "    X_test = test_df.drop(labels=['gender','name'],\n",
    "                axis=1)\n",
    "        \n",
    "    y_test = test_df['gender']\n",
    "    \n",
    "    nb = MultinomialNB()\n",
    "    \n",
    "    # Create a pipeline that standardizes, then runs logistic regression\n",
    "    pipeline = Pipeline(steps=[('nb', nb)])\n",
    "    \n",
    "    param_grid = {\n",
    "   'nb__alpha': np.arange(.1, 1, .2)}\n",
    "\n",
    "    cv = ShuffleSplit(n_splits=10, test_size=.3)\n",
    "\n",
    "    search = GridSearchCV(pipeline, \n",
    "                          param_grid,\n",
    "                          cv=cv,\n",
    "                          return_train_score=True\n",
    "                          )\n",
    "\n",
    "    search.fit(X_train,y_train)\n",
    "\n",
    "    y_pred = search.predict(X_test)\n",
    "    \n",
    "    \n",
    "    print('Run 4: Naive Bayes Classifier')\n",
    "    print('Train: Gender correctly identified: ', \"{:.1%}\".format(search.score(X_train, y_train)))\n",
    "    print('Test: Gender correctly identified: ', \"{:.1%}\".format(search.score(X_test, y_test)))\n",
    "    print('')\n",
    "    print('Confusion Matrix')\n",
    "    print(confusion_matrix(y_test, y_pred))"
   ]
  },
  {
   "cell_type": "code",
   "execution_count": 25,
   "metadata": {
    "ExecuteTime": {
     "end_time": "2020-07-03T17:59:15.461850Z",
     "start_time": "2020-07-03T17:59:13.670318Z"
    }
   },
   "outputs": [
    {
     "name": "stdout",
     "output_type": "stream",
     "text": [
      "Run 4: Naive Bayes Classifier\n",
      "Train: Gender correctly identified:  78.1%\n",
      "Test: Gender correctly identified:  74.4%\n",
      "\n",
      "Confusion Matrix\n",
      "[[250  52]\n",
      " [ 76 122]]\n"
     ]
    }
   ],
   "source": [
    "m_naive_bayes_classifier(train_name_df, test_name_df)"
   ]
  },
  {
   "cell_type": "markdown",
   "metadata": {},
   "source": [
    "### Run 5 - Random Forest Classifier with additional features"
   ]
  },
  {
   "cell_type": "code",
   "execution_count": 26,
   "metadata": {
    "ExecuteTime": {
     "end_time": "2020-07-03T17:59:22.474848Z",
     "start_time": "2020-07-03T17:59:22.466348Z"
    }
   },
   "outputs": [],
   "source": [
    "def random_forest_classifier(train_df, test_df):\n",
    "    \n",
    "    X_train = train_df.drop(labels=['gender','name'],\n",
    "                axis=1)\n",
    "        \n",
    "    y_train = train_df['gender']\n",
    "    \n",
    "    X_test = test_df.drop(labels=['gender','name'],\n",
    "                axis=1)\n",
    "        \n",
    "    y_test = test_df['gender']\n",
    "    \n",
    "    rf=RandomForestClassifier()\n",
    "   \n",
    "\n",
    "    # Create a pipeline that standardizes, then runs logistic regression\n",
    "    pipeline = Pipeline(steps=[('rf', rf)])\n",
    "    \n",
    "    param_grid = {\n",
    "    'rf__min_samples_split': np.arange(2, 10, 2),\n",
    "    'rf__n_estimators': np.arange(10, 20, 5)}\n",
    "\n",
    "    cv = ShuffleSplit(n_splits=10, test_size=.3)\n",
    "\n",
    "    search = GridSearchCV(pipeline, \n",
    "                          param_grid,\n",
    "                          cv=cv,\n",
    "                          return_train_score=True\n",
    "                          )\n",
    "\n",
    "    search.fit(X_train,y_train)\n",
    "    y_pred = search.predict(X_test)\n",
    "    print('Run 5: Random Forest Classifier')\n",
    "    print('Train: Gender correctly identified: ', \"{:.1%}\".format(search.score(X_train, y_train)))\n",
    "    print('Test: Gender correctly identified: ', \"{:.1%}\".format(search.score(X_test, y_test)))\n",
    "    print('')\n",
    "    print('Confusion Matrix')\n",
    "    print(confusion_matrix(y_test, y_pred))"
   ]
  },
  {
   "cell_type": "code",
   "execution_count": 27,
   "metadata": {
    "ExecuteTime": {
     "end_time": "2020-07-03T17:59:30.989252Z",
     "start_time": "2020-07-03T17:59:23.987498Z"
    }
   },
   "outputs": [
    {
     "name": "stdout",
     "output_type": "stream",
     "text": [
      "Run 5: Random Forest Classifier\n",
      "Train: Gender correctly identified:  87.1%\n",
      "Test: Gender correctly identified:  76.0%\n",
      "\n",
      "Confusion Matrix\n",
      "[[246  56]\n",
      " [ 64 134]]\n"
     ]
    }
   ],
   "source": [
    "random_forest_classifier(train_name_df, test_name_df)"
   ]
  },
  {
   "cell_type": "markdown",
   "metadata": {},
   "source": [
    "In all cases, the minority class has been misclassified a little bit. In the future, we'll upsample the minority class.\n",
    "\n",
    "Up"
   ]
  },
  {
   "cell_type": "code",
   "execution_count": 50,
   "metadata": {
    "ExecuteTime": {
     "end_time": "2020-07-04T00:26:55.087317Z",
     "start_time": "2020-07-04T00:26:55.078671Z"
    }
   },
   "outputs": [],
   "source": [
    "df_minority = train_name_df[train_name_df['gender']=='male']\n",
    "\n",
    "df_minority_upsampled = resample(df_minority, \n",
    "                                 replace=True,\n",
    "                                 n_samples=2000,\n",
    "                                 random_state=123) \n",
    "\n",
    "df_upsampled = pd.concat([train_name_df, \n",
    "                          df_minority_upsampled])"
   ]
  },
  {
   "cell_type": "code",
   "execution_count": 51,
   "metadata": {
    "ExecuteTime": {
     "end_time": "2020-07-04T00:28:26.072714Z",
     "start_time": "2020-07-04T00:28:14.084583Z"
    }
   },
   "outputs": [
    {
     "name": "stdout",
     "output_type": "stream",
     "text": [
      "Run 3: Logistic Classifier\n",
      "Train: Gender correctly identified:  78.4%\n",
      "Test: Gender correctly identified:  73.4%\n",
      "\n",
      "Confusion Matrix\n",
      "[[213  89]\n",
      " [ 44 154]]\n"
     ]
    }
   ],
   "source": [
    "logistic_classifier(df_upsampled, test_name_df)"
   ]
  },
  {
   "cell_type": "code",
   "execution_count": 52,
   "metadata": {
    "ExecuteTime": {
     "end_time": "2020-07-04T00:28:04.162461Z",
     "start_time": "2020-07-04T00:28:02.156600Z"
    }
   },
   "outputs": [
    {
     "name": "stdout",
     "output_type": "stream",
     "text": [
      "Run 4: Naive Bayes Classifier\n",
      "Train: Gender correctly identified:  77.5%\n",
      "Test: Gender correctly identified:  71.0%\n",
      "\n",
      "Confusion Matrix\n",
      "[[201 101]\n",
      " [ 44 154]]\n"
     ]
    }
   ],
   "source": [
    "m_naive_bayes_classifier(df_upsampled, test_name_df)"
   ]
  },
  {
   "cell_type": "code",
   "execution_count": 53,
   "metadata": {
    "ExecuteTime": {
     "end_time": "2020-07-04T00:28:12.020211Z",
     "start_time": "2020-07-04T00:28:04.164856Z"
    }
   },
   "outputs": [
    {
     "name": "stdout",
     "output_type": "stream",
     "text": [
      "Run 5: Random Forest Classifier\n",
      "Train: Gender correctly identified:  87.9%\n",
      "Test: Gender correctly identified:  73.0%\n",
      "\n",
      "Confusion Matrix\n",
      "[[216  86]\n",
      " [ 49 149]]\n"
     ]
    }
   ],
   "source": [
    "random_forest_classifier(df_upsampled, test_name_df)"
   ]
  },
  {
   "cell_type": "code",
   "execution_count": null,
   "metadata": {},
   "outputs": [],
   "source": []
  }
 ],
 "metadata": {
  "kernelspec": {
   "display_name": "Python 3.7.4 64-bit ('base': conda)",
   "language": "python",
   "name": "python37464bitbaseconda0f2540ca00c14c548fd578f4a6b1a719"
  },
  "language_info": {
   "codemirror_mode": {
    "name": "ipython",
    "version": 3
   },
   "file_extension": ".py",
   "mimetype": "text/x-python",
   "name": "python",
   "nbconvert_exporter": "python",
   "pygments_lexer": "ipython3",
   "version": "3.7.6"
  },
  "toc": {
   "base_numbering": 1,
   "nav_menu": {},
   "number_sections": true,
   "sideBar": true,
   "skip_h1_title": false,
   "title_cell": "Table of Contents",
   "title_sidebar": "Contents",
   "toc_cell": false,
   "toc_position": {},
   "toc_section_display": true,
   "toc_window_display": false
  }
 },
 "nbformat": 4,
 "nbformat_minor": 4
}
