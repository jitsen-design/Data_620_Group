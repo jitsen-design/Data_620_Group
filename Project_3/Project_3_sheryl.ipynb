{
 "cells": [
  {
   "cell_type": "markdown",
   "metadata": {},
   "source": [
    "# Data 620 Project 3\n",
    "## Classification\n",
    "Jit Seneviratne and Sheryl Piechocki \n",
    "June 29, 2020\n",
    "\n",
    "Using any of the three classifiers described in chapter 6 of Natural Language Processing with Python,\n",
    "and any features you can think of, build the best name gender classifier you can.\n",
    "Begin by splitting the Names Corpus into three subsets: 500 words for the test set, 500 words for the devtest set, and the remaining 6900 words for the training set. Then, starting with the example name gender\n",
    "classifier, make incremental improvements. Use the dev-test set to check your progress. Once you are\n",
    "satisfied with your classifier, check its final performance on the test set.\n",
    "How does the performance on the test set compare to the performance on the dev-test set? Is this what\n",
    "you'd expect? \n",
    "\n",
    "**Dataset**\n",
    "The data used in this project is the names corpus included in the NLTK package.\n",
    "\n",
    "**Analysis:**\n"
   ]
  },
  {
   "cell_type": "code",
   "execution_count": 1,
   "metadata": {},
   "outputs": [
    {
     "data": {
      "text/html": [
       "        <script type=\"text/javascript\">\n",
       "        window.PlotlyConfig = {MathJaxConfig: 'local'};\n",
       "        if (window.MathJax) {MathJax.Hub.Config({SVG: {font: \"STIX-Web\"}});}\n",
       "        if (typeof require !== 'undefined') {\n",
       "        require.undef(\"plotly\");\n",
       "        requirejs.config({\n",
       "            paths: {\n",
       "                'plotly': ['https://cdn.plot.ly/plotly-latest.min']\n",
       "            }\n",
       "        });\n",
       "        require(['plotly'], function(Plotly) {\n",
       "            window._Plotly = Plotly;\n",
       "        });\n",
       "        }\n",
       "        </script>\n",
       "        "
      ]
     },
     "metadata": {},
     "output_type": "display_data"
    }
   ],
   "source": [
    "from nltk.corpus import names\n",
    "import random\n",
    "from nltk.classify import apply_features\n",
    "    \n",
    "%matplotlib inline\n",
    "import pandas as pd\n",
    "import plotly as py\n",
    "import plotly.graph_objs as go \n",
    "from plotly.offline import init_notebook_mode, plot, iplot\n",
    "import matplotlib.pyplot as plt\n",
    "init_notebook_mode(connected=True)\n",
    "import nltk, re, pprint\n",
    "from nltk import word_tokenize\n",
    "import string\n",
    "import re\n",
    "import numpy as np\n"
   ]
  },
  {
   "cell_type": "markdown",
   "metadata": {},
   "source": [
    "### Investigate the NLTK Names Corpus"
   ]
  },
  {
   "cell_type": "code",
   "execution_count": 2,
   "metadata": {},
   "outputs": [],
   "source": [
    " names = ([(name, 'male') for name in names.words('male.txt')] + [(name, 'female') for name in names.words('female.txt')])"
   ]
  },
  {
   "cell_type": "code",
   "execution_count": 3,
   "metadata": {},
   "outputs": [
    {
     "name": "stdout",
     "output_type": "stream",
     "text": [
      "Count of total names in the corpus is:  7944\n",
      "Count of female names in the corpus is:  5001\n",
      "Count of male names in the corpus is:  2943\n"
     ]
    }
   ],
   "source": [
    "#print(names[:10])\n",
    "print('Count of total names in the corpus is: ' , (len(names)))\n",
    "\n",
    "females = [(name, gender) for name, gender in names if gender == 'female']\n",
    "print('Count of female names in the corpus is: ' , (len(females)))\n",
    "males = [(name, gender) for name, gender in names if gender == 'male']\n",
    "print('Count of male names in the corpus is: ' , (len(males)))"
   ]
  },
  {
   "cell_type": "markdown",
   "metadata": {},
   "source": [
    "### Split the names data set into train, test, and devtest"
   ]
  },
  {
   "cell_type": "code",
   "execution_count": 4,
   "metadata": {},
   "outputs": [],
   "source": [
    "random.shuffle(names)\n",
    "train_names = names[1000:]\n",
    "devtest_names = names[500:1000]\n",
    "test_names = names[:500]"
   ]
  },
  {
   "cell_type": "markdown",
   "metadata": {},
   "source": [
    "### Last letter function\n",
    "Use the function provided in the book that takes an input word and returns the last letter"
   ]
  },
  {
   "cell_type": "code",
   "execution_count": 5,
   "metadata": {},
   "outputs": [],
   "source": [
    " def gender_features(name):\n",
    "        return {'last_letter': name[-1]}"
   ]
  },
  {
   "cell_type": "markdown",
   "metadata": {},
   "source": [
    "### Name gender classifier from the book\n",
    "Begin with the name gender classifier provided in the book *Natural Language Processing with Python*."
   ]
  },
  {
   "cell_type": "code",
   "execution_count": 6,
   "metadata": {},
   "outputs": [],
   "source": [
    "train_set = apply_features(gender_features, train_names)\n",
    "test_set = apply_features(gender_features, test_names)\n",
    "devtest_set = apply_features(gender_features, devtest_names)\n",
    "\n",
    "classifier = nltk.NaiveBayesClassifier.train(train_set)\n"
   ]
  },
  {
   "cell_type": "code",
   "execution_count": 7,
   "metadata": {},
   "outputs": [
    {
     "name": "stdout",
     "output_type": "stream",
     "text": [
      "male\n",
      "male\n",
      "male\n"
     ]
    }
   ],
   "source": [
    "print(classifier.classify(gender_features('Sheryl')))\n",
    "print(classifier.classify(gender_features('Larz')))\n",
    "print(classifier.classify(gender_features('Brian')))"
   ]
  },
  {
   "cell_type": "markdown",
   "metadata": {},
   "source": [
    "### Check the accuracy of the classifier"
   ]
  },
  {
   "cell_type": "code",
   "execution_count": 8,
   "metadata": {},
   "outputs": [
    {
     "name": "stdout",
     "output_type": "stream",
     "text": [
      "Gender correctly identified:  76.4%\n"
     ]
    }
   ],
   "source": [
    "print('Gender correctly identified: ', \"{:.1%}\".format(nltk.classify.accuracy(classifier, test_set)))"
   ]
  },
  {
   "cell_type": "code",
   "execution_count": 9,
   "metadata": {},
   "outputs": [
    {
     "name": "stdout",
     "output_type": "stream",
     "text": [
      "Most Informative Features\n",
      "             last_letter = 'a'            female : male   =     34.6 : 1.0\n",
      "             last_letter = 'k'              male : female =     28.2 : 1.0\n",
      "             last_letter = 'f'              male : female =     13.8 : 1.0\n",
      "             last_letter = 'p'              male : female =     10.4 : 1.0\n",
      "             last_letter = 'v'              male : female =      9.8 : 1.0\n"
     ]
    }
   ],
   "source": [
    "classifier.show_most_informative_features(5)"
   ]
  },
  {
   "cell_type": "markdown",
   "metadata": {},
   "source": [
    "### Add additional features for first letter and length of the name\n"
   ]
  },
  {
   "cell_type": "code",
   "execution_count": 10,
   "metadata": {},
   "outputs": [],
   "source": [
    "def gender_features2(name):\n",
    "    features = {}\n",
    "    features[\"last_letter\"] = name[-1].lower()\n",
    "    features[\"first_letter\"] = name[0].lower()\n",
    "    features[\"name_length\"] = len(name)\n",
    "    return features\n"
   ]
  },
  {
   "cell_type": "code",
   "execution_count": 11,
   "metadata": {},
   "outputs": [
    {
     "name": "stdout",
     "output_type": "stream",
     "text": [
      "Gender correctly identified:  78.4%\n"
     ]
    }
   ],
   "source": [
    "random.shuffle(names)\n",
    "train_set2 = apply_features(gender_features2, train_names)\n",
    "test_set2 = apply_features(gender_features2, test_names)\n",
    "devtest_set2 = apply_features(gender_features2, devtest_names)\n",
    "\n",
    "classifier2 = nltk.NaiveBayesClassifier.train(train_set2)\n",
    "print('Gender correctly identified: ', \"{:.1%}\".format(nltk.classify.accuracy(classifier2, test_set2)))"
   ]
  },
  {
   "cell_type": "markdown",
   "metadata": {},
   "source": [
    "### Check the errors"
   ]
  },
  {
   "cell_type": "code",
   "execution_count": 12,
   "metadata": {},
   "outputs": [
    {
     "name": "stdout",
     "output_type": "stream",
     "text": [
      "correct=female   guess=male     name=Alisun                        \n",
      "correct=female   guess=male     name=Anais                         \n",
      "correct=female   guess=male     name=Birgit                        \n",
      "correct=female   guess=male     name=Bliss                         \n",
      "correct=female   guess=male     name=Brenn                         \n",
      "correct=female   guess=male     name=Brett                         \n",
      "correct=female   guess=male     name=Clio                          \n",
      "correct=female   guess=male     name=Garnet                        \n",
      "correct=female   guess=male     name=Gladys                        \n",
      "correct=female   guess=male     name=Hanny                         \n",
      "correct=female   guess=male     name=Harriett                      \n",
      "correct=female   guess=male     name=Heather                       \n",
      "correct=female   guess=male     name=Honey                         \n",
      "correct=female   guess=male     name=Janeen                        \n",
      "correct=female   guess=male     name=Koo                           \n",
      "correct=female   guess=male     name=Leanor                        \n",
      "correct=female   guess=male     name=Mair                          \n",
      "correct=female   guess=male     name=Marys                         \n",
      "correct=female   guess=male     name=Min                           \n",
      "correct=female   guess=male     name=Phillis                       \n",
      "correct=female   guess=male     name=Pru                           \n",
      "correct=female   guess=male     name=Reiko                         \n",
      "correct=female   guess=male     name=Robyn                         \n",
      "correct=female   guess=male     name=Ryann                         \n",
      "correct=female   guess=male     name=Sarah                         \n",
      "correct=female   guess=male     name=Shamit                        \n",
      "correct=female   guess=male     name=Sisely                        \n",
      "correct=female   guess=male     name=Tarah                         \n",
      "correct=female   guess=male     name=Tessy                         \n",
      "correct=female   guess=male     name=Tomiko                        \n",
      "correct=female   guess=male     name=Trixy                         \n",
      "correct=female   guess=male     name=Wallis                        \n",
      "correct=female   guess=male     name=Whitney                       \n",
      "correct=female   guess=male     name=Willy                         \n",
      "correct=female   guess=male     name=Zarah                         \n",
      "correct=male     guess=female   name=Anatole                       \n",
      "correct=male     guess=female   name=Ashby                         \n",
      "correct=male     guess=female   name=Avi                           \n",
      "correct=male     guess=female   name=Barde                         \n",
      "correct=male     guess=female   name=Benjie                        \n",
      "correct=male     guess=female   name=Billy                         \n",
      "correct=male     guess=female   name=Blaine                        \n",
      "correct=male     guess=female   name=Burnaby                       \n",
      "correct=male     guess=female   name=Calvin                        \n",
      "correct=male     guess=female   name=Cameron                       \n",
      "correct=male     guess=female   name=Cammy                         \n",
      "correct=male     guess=female   name=Chevy                         \n",
      "correct=male     guess=female   name=Clay                          \n",
      "correct=male     guess=female   name=Clayborn                      \n",
      "correct=male     guess=female   name=Cobby                         \n",
      "correct=male     guess=female   name=Dewey                         \n",
      "correct=male     guess=female   name=Dickey                        \n",
      "correct=male     guess=female   name=Edsel                         \n",
      "correct=male     guess=female   name=Ernie                         \n",
      "correct=male     guess=female   name=Filmore                       \n",
      "correct=male     guess=female   name=Garcia                        \n",
      "correct=male     guess=female   name=Georgy                        \n",
      "correct=male     guess=female   name=Giorgi                        \n",
      "correct=male     guess=female   name=Gordie                        \n",
      "correct=male     guess=female   name=Irvin                         \n",
      "correct=male     guess=female   name=Isaiah                        \n",
      "correct=male     guess=female   name=Jamie                         \n",
      "correct=male     guess=female   name=Jefferson                     \n",
      "correct=male     guess=female   name=Jeremie                       \n",
      "correct=male     guess=female   name=Jermaine                      \n",
      "correct=male     guess=female   name=Jesse                         \n",
      "correct=male     guess=female   name=Jeth                          \n",
      "correct=male     guess=female   name=Joel                          \n",
      "correct=male     guess=female   name=Johny                         \n",
      "correct=male     guess=female   name=Judy                          \n",
      "correct=male     guess=female   name=Kalle                         \n",
      "correct=male     guess=female   name=Kelly                         \n",
      "correct=male     guess=female   name=Kenny                         \n",
      "correct=male     guess=female   name=Kerry                         \n",
      "correct=male     guess=female   name=Kevan                         \n",
      "correct=male     guess=female   name=Klaus                         \n",
      "correct=male     guess=female   name=Lauren                        \n",
      "correct=male     guess=female   name=Lion                          \n",
      "correct=male     guess=female   name=Llewellyn                     \n",
      "correct=male     guess=female   name=Louie                         \n",
      "correct=male     guess=female   name=Lucien                        \n",
      "correct=male     guess=female   name=Matty                         \n",
      "correct=male     guess=female   name=Michail                       \n",
      "correct=male     guess=female   name=Montgomery                    \n",
      "correct=male     guess=female   name=Morly                         \n",
      "correct=male     guess=female   name=Morty                         \n",
      "correct=male     guess=female   name=Myke                          \n",
      "correct=male     guess=female   name=Nigel                         \n",
      "correct=male     guess=female   name=Nikolai                       \n",
      "correct=male     guess=female   name=Noble                         \n",
      "correct=male     guess=female   name=Odie                          \n",
      "correct=male     guess=female   name=Ole                           \n",
      "correct=male     guess=female   name=Olle                          \n",
      "correct=male     guess=female   name=Paddy                         \n",
      "correct=male     guess=female   name=Patrice                       \n",
      "correct=male     guess=female   name=Richy                         \n",
      "correct=male     guess=female   name=Scottie                       \n",
      "correct=male     guess=female   name=Serge                         \n",
      "correct=male     guess=female   name=Stanleigh                     \n",
      "correct=male     guess=female   name=Temple                        \n",
      "correct=male     guess=female   name=Torrance                      \n",
      "correct=male     guess=female   name=Vince                         \n",
      "correct=male     guess=female   name=Vinnie                        \n"
     ]
    }
   ],
   "source": [
    "errors = []\n",
    "for (name, tag) in devtest_names:\n",
    "    guess =  classifier2.classify(gender_features2(name))\n",
    "    if guess != tag:\n",
    "        errors.append( (tag, guess, name) )\n",
    "\n",
    "for (tag, guess, name) in sorted(errors): \n",
    "    print('correct=%-8s guess=%-8s name=%-30s'  %\n",
    "          (tag, guess, name))\n"
   ]
  },
  {
   "cell_type": "code",
   "execution_count": null,
   "metadata": {},
   "outputs": [],
   "source": []
  }
 ],
 "metadata": {
  "kernelspec": {
   "display_name": "Python 3.7.4 64-bit ('base': conda)",
   "language": "python",
   "name": "python37464bitbaseconda0f2540ca00c14c548fd578f4a6b1a719"
  },
  "language_info": {
   "codemirror_mode": {
    "name": "ipython",
    "version": 3
   },
   "file_extension": ".py",
   "mimetype": "text/x-python",
   "name": "python",
   "nbconvert_exporter": "python",
   "pygments_lexer": "ipython3",
   "version": "3.7.6"
  }
 },
 "nbformat": 4,
 "nbformat_minor": 4
}
