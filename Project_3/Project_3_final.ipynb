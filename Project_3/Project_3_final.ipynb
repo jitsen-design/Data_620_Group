{
 "cells": [
  {
   "cell_type": "markdown",
   "metadata": {},
   "source": [
    "# Data 620 Project 3\n",
    "## Classification\n",
    "Jit Seneviratne and Sheryl Piechocki  \n",
    "June 29, 2020\n",
    "\n",
    "**Dataset** \n",
    "The data used in this project is the names corpus included in the NLTK package.\n",
    "\n",
    "**Analysis:** \n",
    "After the names corpus is split into train, dev-test, and test subsets, initial classification using NLTK's maximum entropy classifier is performed with one feature.  Additional features are added to improve the maximum entropy classifier.  Further features are added and sklearn's Logistic Regression, Naive Bayes, and Random Forest classification techniques are attempted.  Accuracy and confusion matrices are produced.  "
   ]
  },
  {
   "cell_type": "code",
   "execution_count": 1,
   "metadata": {
    "ExecuteTime": {
     "end_time": "2020-07-04T16:43:39.092034Z",
     "start_time": "2020-07-04T16:43:36.741159Z"
    }
   },
   "outputs": [
    {
     "data": {
      "text/html": [
       "        <script type=\"text/javascript\">\n",
       "        window.PlotlyConfig = {MathJaxConfig: 'local'};\n",
       "        if (window.MathJax) {MathJax.Hub.Config({SVG: {font: \"STIX-Web\"}});}\n",
       "        if (typeof require !== 'undefined') {\n",
       "        require.undef(\"plotly\");\n",
       "        requirejs.config({\n",
       "            paths: {\n",
       "                'plotly': ['https://cdn.plot.ly/plotly-latest.min']\n",
       "            }\n",
       "        });\n",
       "        require(['plotly'], function(Plotly) {\n",
       "            window._Plotly = Plotly;\n",
       "        });\n",
       "        }\n",
       "        </script>\n",
       "        "
      ]
     },
     "metadata": {},
     "output_type": "display_data"
    }
   ],
   "source": [
    "from nltk.corpus import names\n",
    "import random\n",
    "from nltk.classify import apply_features\n",
    "from plotly.offline import init_notebook_mode, plot, iplot\n",
    "%matplotlib inline\n",
    "import pandas as pd\n",
    "from sklearn.pipeline import Pipeline\n",
    "import matplotlib.pyplot as plt\n",
    "init_notebook_mode(connected=True)\n",
    "import nltk, re, pprint\n",
    "from nltk import word_tokenize\n",
    "import string\n",
    "import re\n",
    "import numpy as np\n",
    "from sklearn.linear_model import LogisticRegression\n",
    "from sklearn.metrics import confusion_matrix\n",
    "from sklearn.model_selection import GridSearchCV, ShuffleSplit\n",
    "from sklearn.naive_bayes import MultinomialNB, GaussianNB\n",
    "from sklearn.ensemble import RandomForestClassifier\n",
    "from sklearn.utils import resample"
   ]
  },
  {
   "cell_type": "markdown",
   "metadata": {},
   "source": [
    "### Investigate the NLTK Names Corpus"
   ]
  },
  {
   "cell_type": "code",
   "execution_count": 2,
   "metadata": {
    "ExecuteTime": {
     "end_time": "2020-07-04T16:43:39.105823Z",
     "start_time": "2020-07-04T16:43:39.093840Z"
    }
   },
   "outputs": [],
   "source": [
    " names = ([(name, 'male') for name in names.words('male.txt')] + [(name, 'female') for name in names.words('female.txt')])"
   ]
  },
  {
   "cell_type": "code",
   "execution_count": 3,
   "metadata": {
    "ExecuteTime": {
     "end_time": "2020-07-04T16:43:39.115541Z",
     "start_time": "2020-07-04T16:43:39.107503Z"
    }
   },
   "outputs": [
    {
     "name": "stdout",
     "output_type": "stream",
     "text": [
      "Count of total names in the corpus is:  7944\n",
      "Count of female names in the corpus is:  5001\n",
      "Count of male names in the corpus is:  2943\n"
     ]
    }
   ],
   "source": [
    "#print(names[:10])\n",
    "print('Count of total names in the corpus is: ' , (len(names)))\n",
    "\n",
    "females = [(name, gender) for name, gender in names if gender == 'female']\n",
    "print('Count of female names in the corpus is: ' , (len(females)))\n",
    "males = [(name, gender) for name, gender in names if gender == 'male']\n",
    "print('Count of male names in the corpus is: ' , (len(males)))"
   ]
  },
  {
   "cell_type": "markdown",
   "metadata": {},
   "source": [
    "The corpus has more female names (~63%) than male names (37%)."
   ]
  },
  {
   "cell_type": "markdown",
   "metadata": {},
   "source": [
    "### Remove any trailing spaces from names"
   ]
  },
  {
   "cell_type": "code",
   "execution_count": 4,
   "metadata": {
    "ExecuteTime": {
     "end_time": "2020-07-04T16:43:39.131677Z",
     "start_time": "2020-07-04T16:43:39.117577Z"
    }
   },
   "outputs": [],
   "source": [
    "names = list(tuple(\"\".join(i.rsplit()) for i in a) for a in names)"
   ]
  },
  {
   "cell_type": "markdown",
   "metadata": {},
   "source": [
    "### Split the names data set into train, test, and devtest  \n",
    "The corpus is split into three subsets per the instructions.  \n",
    "500 dev-test  \n",
    "500 test  \n",
    "6,944 train  "
   ]
  },
  {
   "cell_type": "code",
   "execution_count": 5,
   "metadata": {
    "ExecuteTime": {
     "end_time": "2020-07-04T16:43:39.141758Z",
     "start_time": "2020-07-04T16:43:39.133481Z"
    }
   },
   "outputs": [],
   "source": [
    "random.shuffle(names)\n",
    "train_names = names[1000:]\n",
    "devtest_names = names[500:1000]\n",
    "test_names = names[:500]"
   ]
  },
  {
   "cell_type": "code",
   "execution_count": 6,
   "metadata": {
    "ExecuteTime": {
     "end_time": "2020-07-04T16:43:39.148217Z",
     "start_time": "2020-07-04T16:43:39.143710Z"
    }
   },
   "outputs": [
    {
     "name": "stdout",
     "output_type": "stream",
     "text": [
      "6944\n",
      "500\n",
      "500\n"
     ]
    }
   ],
   "source": [
    "print(len(train_names))\n",
    "print(len(devtest_names))\n",
    "print(len(test_names))"
   ]
  },
  {
   "cell_type": "markdown",
   "metadata": {},
   "source": [
    "### Create dataframes for later use"
   ]
  },
  {
   "cell_type": "code",
   "execution_count": 7,
   "metadata": {
    "ExecuteTime": {
     "end_time": "2020-07-04T16:43:39.157195Z",
     "start_time": "2020-07-04T16:43:39.149875Z"
    }
   },
   "outputs": [],
   "source": [
    "train_name_df = pd.DataFrame(train_names)\n",
    "train_name_df.columns = ['name', 'gender']\n",
    "test_name_df = pd.DataFrame(test_names)\n",
    "test_name_df.columns = ['name', 'gender']"
   ]
  },
  {
   "cell_type": "markdown",
   "metadata": {},
   "source": [
    "### Last letter feature\n",
    "Use the function provided in the book that takes an input word and returns the last letter"
   ]
  },
  {
   "cell_type": "code",
   "execution_count": 8,
   "metadata": {
    "ExecuteTime": {
     "end_time": "2020-07-04T16:43:39.163204Z",
     "start_time": "2020-07-04T16:43:39.160246Z"
    }
   },
   "outputs": [],
   "source": [
    " def gender_features(name):\n",
    "        return {'last_letter': name[-1]}"
   ]
  },
  {
   "cell_type": "markdown",
   "metadata": {},
   "source": [
    "### Run 1 - Max Entropy Classifier  \n",
    "Feature: last letter.  \n",
    "We started with the maximum entropy classifier because it does not assume the features are independent. (The Naive Bayes classifier assumes features are independent and this may be an unreasonable assumption for classifying gender from names.)  The maximum entropy classifier uses an interative technique to maximize the likelihood of the training corpus."
   ]
  },
  {
   "cell_type": "code",
   "execution_count": 9,
   "metadata": {
    "ExecuteTime": {
     "end_time": "2020-07-04T16:46:44.426202Z",
     "start_time": "2020-07-04T16:43:39.165119Z"
    }
   },
   "outputs": [
    {
     "name": "stdout",
     "output_type": "stream",
     "text": [
      "Run 1: Gender correctly identified:  76.8%\n"
     ]
    }
   ],
   "source": [
    "train_set = apply_features(gender_features, train_names)\n",
    "test_set = apply_features(gender_features, test_names)\n",
    "devtest_set = apply_features(gender_features, devtest_names)\n",
    "\n",
    "classifier = nltk.MaxentClassifier.train(train_set, algorithm='iis', trace=0, max_iter=1000)\n",
    "print('Run 1: Gender correctly identified: ', \"{:.1%}\".format(nltk.classify.accuracy(classifier, devtest_set)))"
   ]
  },
  {
   "cell_type": "markdown",
   "metadata": {},
   "source": [
    "With just a single feature of last letter of the name, the dev-test set yields an accuracy of 72.2%."
   ]
  },
  {
   "cell_type": "markdown",
   "metadata": {},
   "source": [
    "### Run 1 - Most informative features  \n",
    "Using the last letter feature, the classifier ranks names ending in 'c' as the most informative feature and is positive for males.  Last letter 'a' is also important, but is negative for males."
   ]
  },
  {
   "cell_type": "code",
   "execution_count": 10,
   "metadata": {
    "ExecuteTime": {
     "end_time": "2020-07-04T16:46:44.433259Z",
     "start_time": "2020-07-04T16:46:44.428370Z"
    }
   },
   "outputs": [
    {
     "name": "stdout",
     "output_type": "stream",
     "text": [
      "   9.966 last_letter=='j' and label is 'male'\n",
      "   9.966 last_letter=='c' and label is 'male'\n",
      "  -4.852 last_letter=='a' and label is 'male'\n",
      "  -3.503 last_letter=='k' and label is 'female'\n",
      "  -2.907 last_letter=='v' and label is 'female'\n"
     ]
    }
   ],
   "source": [
    "classifier.show_most_informative_features(5)"
   ]
  },
  {
   "cell_type": "markdown",
   "metadata": {},
   "source": [
    "### Add additional features for first letter and length of the name\n"
   ]
  },
  {
   "cell_type": "code",
   "execution_count": 11,
   "metadata": {
    "ExecuteTime": {
     "end_time": "2020-07-04T16:46:44.441254Z",
     "start_time": "2020-07-04T16:46:44.435281Z"
    }
   },
   "outputs": [],
   "source": [
    "def gender_features2(name):\n",
    "    features = {}\n",
    "    features[\"last_letter\"] = name[-1].lower()\n",
    "    features[\"first_letter\"] = name[0].lower()\n",
    "    features[\"name_length\"] = len(name)\n",
    "    return features\n"
   ]
  },
  {
   "cell_type": "markdown",
   "metadata": {},
   "source": [
    "### Run 2 - Max Entropy Classifier  \n",
    "Features: last letter, first letter, length of name"
   ]
  },
  {
   "cell_type": "code",
   "execution_count": 12,
   "metadata": {
    "ExecuteTime": {
     "end_time": "2020-07-04T16:51:42.376865Z",
     "start_time": "2020-07-04T16:46:44.443005Z"
    }
   },
   "outputs": [
    {
     "name": "stdout",
     "output_type": "stream",
     "text": [
      "Run 2: Gender correctly identified:  80.6%\n"
     ]
    }
   ],
   "source": [
    "train_set2 = apply_features(gender_features2, train_names)\n",
    "test_set2 = apply_features(gender_features2, test_names)\n",
    "devtest_set2 = apply_features(gender_features2, devtest_names)\n",
    "\n",
    "#classifier2 = nltk.NaiveBayesClassifier.train(train_set2)\n",
    "classifier2 = nltk.MaxentClassifier.train(train_set2, algorithm='iis', trace=0, max_iter=1000)\n",
    "print('Run 2: Gender correctly identified: ', \"{:.1%}\".format(nltk.classify.accuracy(classifier2, devtest_set2)))"
   ]
  },
  {
   "cell_type": "markdown",
   "metadata": {},
   "source": [
    "The additional features of first letter and length of the name have increased the accuracy to 76.4%."
   ]
  },
  {
   "cell_type": "markdown",
   "metadata": {},
   "source": [
    "### Run 2 - Create Confusion Matrix"
   ]
  },
  {
   "cell_type": "code",
   "execution_count": 13,
   "metadata": {
    "ExecuteTime": {
     "end_time": "2020-07-04T16:51:42.391653Z",
     "start_time": "2020-07-04T16:51:42.378804Z"
    }
   },
   "outputs": [
    {
     "name": "stdout",
     "output_type": "stream",
     "text": [
      "       |   f     |\n",
      "       |   e     |\n",
      "       |   m   m |\n",
      "       |   a   a |\n",
      "       |   l   l |\n",
      "       |   e   e |\n",
      "-------+---------+\n",
      "female |<273> 48 |\n",
      "  male |  49<130>|\n",
      "-------+---------+\n",
      "(row = reference; col = test)\n",
      "\n"
     ]
    }
   ],
   "source": [
    "tag2 = []\n",
    "guess2 = []\n",
    "for  (name, label) in devtest_names:\n",
    "    observed2 = classifier2.classify(gender_features2(name))\n",
    "    tag2.append(label)\n",
    "    guess2.append(observed2)\n",
    "\n",
    "print(nltk.ConfusionMatrix(tag2, guess2))"
   ]
  },
  {
   "cell_type": "markdown",
   "metadata": {},
   "source": [
    "The classifier is not as good at determining male gender from name as it is female gender.  This could be because the corpus was more heavily skewed to female names."
   ]
  },
  {
   "cell_type": "markdown",
   "metadata": {},
   "source": [
    "### Run 2 - Check the errors"
   ]
  },
  {
   "cell_type": "code",
   "execution_count": 14,
   "metadata": {
    "ExecuteTime": {
     "end_time": "2020-07-04T16:51:42.416534Z",
     "start_time": "2020-07-04T16:51:42.393594Z"
    }
   },
   "outputs": [
    {
     "name": "stdout",
     "output_type": "stream",
     "text": [
      "correct=female   guess=male     name=Adrian                        \n",
      "correct=female   guess=male     name=Alexis                        \n",
      "correct=female   guess=male     name=Alyson                        \n",
      "correct=female   guess=male     name=Ariel                         \n",
      "correct=female   guess=male     name=Bab                           \n",
      "correct=female   guess=male     name=Barb                          \n",
      "correct=female   guess=male     name=Blondell                      \n",
      "correct=female   guess=male     name=Cameo                         \n",
      "correct=female   guess=male     name=Cat                           \n",
      "correct=female   guess=male     name=Cher                          \n",
      "correct=female   guess=male     name=Delores                       \n",
      "correct=female   guess=male     name=Doreen                        \n",
      "correct=female   guess=male     name=Doris                         \n",
      "correct=female   guess=male     name=Elyn                          \n",
      "correct=female   guess=male     name=Faun                          \n",
      "correct=female   guess=male     name=Francis                       \n",
      "correct=female   guess=male     name=Garnet                        \n",
      "correct=female   guess=male     name=Ginger                        \n",
      "correct=female   guess=male     name=Guendolen                     \n",
      "correct=female   guess=male     name=Harriot                       \n",
      "correct=female   guess=male     name=Hazel                         \n",
      "correct=female   guess=male     name=Hilary                        \n",
      "correct=female   guess=male     name=JoAnn                         \n",
      "correct=female   guess=male     name=Joyous                        \n",
      "correct=female   guess=male     name=Juliet                        \n",
      "correct=female   guess=male     name=Margalit                      \n",
      "correct=female   guess=male     name=Margalo                       \n",
      "correct=female   guess=male     name=Marget                        \n",
      "correct=female   guess=male     name=Marj                          \n",
      "correct=female   guess=male     name=Maryjo                        \n",
      "correct=female   guess=male     name=Mellicent                     \n",
      "correct=female   guess=male     name=Nariko                        \n",
      "correct=female   guess=male     name=Nicol                         \n",
      "correct=female   guess=male     name=Olly                          \n",
      "correct=female   guess=male     name=Orly                          \n",
      "correct=female   guess=male     name=Phylys                        \n",
      "correct=female   guess=male     name=Rayshell                      \n",
      "correct=female   guess=male     name=Rhianon                       \n",
      "correct=female   guess=male     name=Robinett                      \n",
      "correct=female   guess=male     name=Ruthann                       \n",
      "correct=female   guess=male     name=Ruthy                         \n",
      "correct=female   guess=male     name=Ryann                         \n",
      "correct=female   guess=male     name=Tildy                         \n",
      "correct=female   guess=male     name=Tracy                         \n",
      "correct=female   guess=male     name=Trish                         \n",
      "correct=female   guess=male     name=Wally                         \n",
      "correct=female   guess=male     name=Windy                         \n",
      "correct=female   guess=male     name=Winny                         \n",
      "correct=male     guess=female   name=Bartholemy                    \n",
      "correct=male     guess=female   name=Berke                         \n",
      "correct=male     guess=female   name=Bernie                        \n",
      "correct=male     guess=female   name=Binky                         \n",
      "correct=male     guess=female   name=Christoph                     \n",
      "correct=male     guess=female   name=Clarance                      \n",
      "correct=male     guess=female   name=Duffy                         \n",
      "correct=male     guess=female   name=Farley                        \n",
      "correct=male     guess=female   name=Fonzie                        \n",
      "correct=male     guess=female   name=Freddy                        \n",
      "correct=male     guess=female   name=Garry                         \n",
      "correct=male     guess=female   name=Geoffry                       \n",
      "correct=male     guess=female   name=Guthry                        \n",
      "correct=male     guess=female   name=Iggy                          \n",
      "correct=male     guess=female   name=Isa                           \n",
      "correct=male     guess=female   name=Jereme                        \n",
      "correct=male     guess=female   name=Johnnie                       \n",
      "correct=male     guess=female   name=Jule                          \n",
      "correct=male     guess=female   name=Kaleb                         \n",
      "correct=male     guess=female   name=Karl                          \n",
      "correct=male     guess=female   name=Kelly                         \n",
      "correct=male     guess=female   name=Kenneth                       \n",
      "correct=male     guess=female   name=Kermit                        \n",
      "correct=male     guess=female   name=Kerry                         \n",
      "correct=male     guess=female   name=Kraig                         \n",
      "correct=male     guess=female   name=Kris                          \n",
      "correct=male     guess=female   name=Linoel                        \n",
      "correct=male     guess=female   name=Logan                         \n",
      "correct=male     guess=female   name=Lynn                          \n",
      "correct=male     guess=female   name=Mendel                        \n",
      "correct=male     guess=female   name=Meredeth                      \n",
      "correct=male     guess=female   name=Monte                         \n",
      "correct=male     guess=female   name=Mugsy                         \n",
      "correct=male     guess=female   name=Murphy                        \n",
      "correct=male     guess=female   name=Nate                          \n",
      "correct=male     guess=female   name=Nevile                        \n",
      "correct=male     guess=female   name=Paige                         \n",
      "correct=male     guess=female   name=Patsy                         \n",
      "correct=male     guess=female   name=Price                         \n",
      "correct=male     guess=female   name=Richie                        \n",
      "correct=male     guess=female   name=Salvatore                     \n",
      "correct=male     guess=female   name=Sayre                         \n",
      "correct=male     guess=female   name=Sheffy                        \n",
      "correct=male     guess=female   name=Si                            \n",
      "correct=male     guess=female   name=Simone                        \n",
      "correct=male     guess=female   name=Steve                         \n",
      "correct=male     guess=female   name=Thornie                       \n",
      "correct=male     guess=female   name=Vance                         \n",
      "correct=male     guess=female   name=Yale                          \n",
      "97\n"
     ]
    }
   ],
   "source": [
    "errors = []\n",
    "for (name, tag) in devtest_names:\n",
    "    guess =  classifier2.classify(gender_features2(name))\n",
    "    if guess != tag:\n",
    "        errors.append( (tag, guess, name) )\n",
    "\n",
    "for (tag, guess, name) in sorted(errors): \n",
    "    print('correct=%-8s guess=%-8s name=%-30s'  %\n",
    "          (tag, guess, name))\n",
    "print(len(errors))"
   ]
  },
  {
   "cell_type": "markdown",
   "metadata": {},
   "source": [
    "### Run 2 - Most Important Features"
   ]
  },
  {
   "cell_type": "code",
   "execution_count": 15,
   "metadata": {
    "ExecuteTime": {
     "end_time": "2020-07-04T16:51:42.422065Z",
     "start_time": "2020-07-04T16:51:42.417997Z"
    }
   },
   "outputs": [
    {
     "name": "stdout",
     "output_type": "stream",
     "text": [
      "   9.267 name_length==14 and label is 'female'\n",
      "   8.752 last_letter=='c' and label is 'male'\n",
      "   8.324 last_letter=='j' and label is 'male'\n",
      "  -5.297 last_letter=='a' and label is 'male'\n",
      "  -4.052 last_letter=='k' and label is 'female'\n"
     ]
    }
   ],
   "source": [
    "classifier2.show_most_informative_features(5)"
   ]
  },
  {
   "cell_type": "markdown",
   "metadata": {},
   "source": [
    "Now the most important feature is around the length of the name.  Name lengths of 15 are positive for females.  The last letter of 'c' is still important and is positive for males.  Last letter of 'a' is negative for males."
   ]
  },
  {
   "cell_type": "markdown",
   "metadata": {},
   "source": [
    "### Test the Maximum Entropy Classifier  \n",
    "Now use the test set to get the accuracy of the classifier."
   ]
  },
  {
   "cell_type": "code",
   "execution_count": 16,
   "metadata": {
    "ExecuteTime": {
     "end_time": "2020-07-04T16:51:42.434833Z",
     "start_time": "2020-07-04T16:51:42.423988Z"
    }
   },
   "outputs": [
    {
     "name": "stdout",
     "output_type": "stream",
     "text": [
      "Maximum Entropy test: Gender correctly identified:  78.8%\n"
     ]
    }
   ],
   "source": [
    "print('Maximum Entropy test: Gender correctly identified: ', \"{:.1%}\".format(nltk.classify.accuracy(classifier2, test_set2)))"
   ]
  },
  {
   "cell_type": "markdown",
   "metadata": {},
   "source": [
    "On the test set, the maximum entropy classifier with features of first letter, last letter, and name length, we achieve an accuracy of 75.8%."
   ]
  },
  {
   "cell_type": "markdown",
   "metadata": {},
   "source": [
    "### Add additional features - counts of \"a\", \"i\", \"o\", \"y\" and create dummy columns for first and last letter features"
   ]
  },
  {
   "cell_type": "code",
   "execution_count": 17,
   "metadata": {
    "ExecuteTime": {
     "end_time": "2020-07-04T16:51:42.496851Z",
     "start_time": "2020-07-04T16:51:42.436330Z"
    }
   },
   "outputs": [],
   "source": [
    "train_name_df['last_letter'] = train_name_df['name'].apply(lambda x: x[-1])\n",
    "train_name_df['first_letter'] = train_name_df['name'].apply(lambda x: x[0])\n",
    "train_name_df['len_name'] = train_name_df['name'].apply(lambda x: len(x))\n",
    "train_name_df['a_count'] = train_name_df['name'].apply(lambda x: len(re.findall('a',x)))\n",
    "train_name_df['i_count'] = train_name_df['name'].apply(lambda x: len(re.findall('i',x)))\n",
    "train_name_df['o_count'] = train_name_df['name'].apply(lambda x: len(re.findall('o',x)))\n",
    "train_name_df['y_count'] = train_name_df['name'].apply(lambda x: len(re.findall('y',x)))\n",
    "train_name_df = pd.get_dummies(train_name_df, columns=['last_letter','first_letter'])"
   ]
  },
  {
   "cell_type": "code",
   "execution_count": 18,
   "metadata": {
    "ExecuteTime": {
     "end_time": "2020-07-04T16:51:42.521265Z",
     "start_time": "2020-07-04T16:51:42.499038Z"
    }
   },
   "outputs": [
    {
     "data": {
      "text/html": [
       "<div>\n",
       "<style scoped>\n",
       "    .dataframe tbody tr th:only-of-type {\n",
       "        vertical-align: middle;\n",
       "    }\n",
       "\n",
       "    .dataframe tbody tr th {\n",
       "        vertical-align: top;\n",
       "    }\n",
       "\n",
       "    .dataframe thead th {\n",
       "        text-align: right;\n",
       "    }\n",
       "</style>\n",
       "<table border=\"1\" class=\"dataframe\">\n",
       "  <thead>\n",
       "    <tr style=\"text-align: right;\">\n",
       "      <th></th>\n",
       "      <th>name</th>\n",
       "      <th>gender</th>\n",
       "      <th>len_name</th>\n",
       "      <th>a_count</th>\n",
       "      <th>i_count</th>\n",
       "      <th>o_count</th>\n",
       "      <th>y_count</th>\n",
       "      <th>last_letter_a</th>\n",
       "      <th>last_letter_b</th>\n",
       "      <th>last_letter_c</th>\n",
       "      <th>...</th>\n",
       "      <th>first_letter_Q</th>\n",
       "      <th>first_letter_R</th>\n",
       "      <th>first_letter_S</th>\n",
       "      <th>first_letter_T</th>\n",
       "      <th>first_letter_U</th>\n",
       "      <th>first_letter_V</th>\n",
       "      <th>first_letter_W</th>\n",
       "      <th>first_letter_X</th>\n",
       "      <th>first_letter_Y</th>\n",
       "      <th>first_letter_Z</th>\n",
       "    </tr>\n",
       "  </thead>\n",
       "  <tbody>\n",
       "    <tr>\n",
       "      <th>0</th>\n",
       "      <td>Halvard</td>\n",
       "      <td>male</td>\n",
       "      <td>7</td>\n",
       "      <td>2</td>\n",
       "      <td>0</td>\n",
       "      <td>0</td>\n",
       "      <td>0</td>\n",
       "      <td>0</td>\n",
       "      <td>0</td>\n",
       "      <td>0</td>\n",
       "      <td>...</td>\n",
       "      <td>0</td>\n",
       "      <td>0</td>\n",
       "      <td>0</td>\n",
       "      <td>0</td>\n",
       "      <td>0</td>\n",
       "      <td>0</td>\n",
       "      <td>0</td>\n",
       "      <td>0</td>\n",
       "      <td>0</td>\n",
       "      <td>0</td>\n",
       "    </tr>\n",
       "    <tr>\n",
       "      <th>1</th>\n",
       "      <td>Kirstie</td>\n",
       "      <td>female</td>\n",
       "      <td>7</td>\n",
       "      <td>0</td>\n",
       "      <td>2</td>\n",
       "      <td>0</td>\n",
       "      <td>0</td>\n",
       "      <td>0</td>\n",
       "      <td>0</td>\n",
       "      <td>0</td>\n",
       "      <td>...</td>\n",
       "      <td>0</td>\n",
       "      <td>0</td>\n",
       "      <td>0</td>\n",
       "      <td>0</td>\n",
       "      <td>0</td>\n",
       "      <td>0</td>\n",
       "      <td>0</td>\n",
       "      <td>0</td>\n",
       "      <td>0</td>\n",
       "      <td>0</td>\n",
       "    </tr>\n",
       "    <tr>\n",
       "      <th>2</th>\n",
       "      <td>Betsey</td>\n",
       "      <td>female</td>\n",
       "      <td>6</td>\n",
       "      <td>0</td>\n",
       "      <td>0</td>\n",
       "      <td>0</td>\n",
       "      <td>1</td>\n",
       "      <td>0</td>\n",
       "      <td>0</td>\n",
       "      <td>0</td>\n",
       "      <td>...</td>\n",
       "      <td>0</td>\n",
       "      <td>0</td>\n",
       "      <td>0</td>\n",
       "      <td>0</td>\n",
       "      <td>0</td>\n",
       "      <td>0</td>\n",
       "      <td>0</td>\n",
       "      <td>0</td>\n",
       "      <td>0</td>\n",
       "      <td>0</td>\n",
       "    </tr>\n",
       "    <tr>\n",
       "      <th>3</th>\n",
       "      <td>Marni</td>\n",
       "      <td>female</td>\n",
       "      <td>5</td>\n",
       "      <td>1</td>\n",
       "      <td>1</td>\n",
       "      <td>0</td>\n",
       "      <td>0</td>\n",
       "      <td>0</td>\n",
       "      <td>0</td>\n",
       "      <td>0</td>\n",
       "      <td>...</td>\n",
       "      <td>0</td>\n",
       "      <td>0</td>\n",
       "      <td>0</td>\n",
       "      <td>0</td>\n",
       "      <td>0</td>\n",
       "      <td>0</td>\n",
       "      <td>0</td>\n",
       "      <td>0</td>\n",
       "      <td>0</td>\n",
       "      <td>0</td>\n",
       "    </tr>\n",
       "    <tr>\n",
       "      <th>4</th>\n",
       "      <td>Lucie</td>\n",
       "      <td>female</td>\n",
       "      <td>5</td>\n",
       "      <td>0</td>\n",
       "      <td>1</td>\n",
       "      <td>0</td>\n",
       "      <td>0</td>\n",
       "      <td>0</td>\n",
       "      <td>0</td>\n",
       "      <td>0</td>\n",
       "      <td>...</td>\n",
       "      <td>0</td>\n",
       "      <td>0</td>\n",
       "      <td>0</td>\n",
       "      <td>0</td>\n",
       "      <td>0</td>\n",
       "      <td>0</td>\n",
       "      <td>0</td>\n",
       "      <td>0</td>\n",
       "      <td>0</td>\n",
       "      <td>0</td>\n",
       "    </tr>\n",
       "  </tbody>\n",
       "</table>\n",
       "<p>5 rows × 58 columns</p>\n",
       "</div>"
      ],
      "text/plain": [
       "      name  gender  len_name  a_count  i_count  o_count  y_count  \\\n",
       "0  Halvard    male         7        2        0        0        0   \n",
       "1  Kirstie  female         7        0        2        0        0   \n",
       "2   Betsey  female         6        0        0        0        1   \n",
       "3    Marni  female         5        1        1        0        0   \n",
       "4    Lucie  female         5        0        1        0        0   \n",
       "\n",
       "   last_letter_a  last_letter_b  last_letter_c  ...  first_letter_Q  \\\n",
       "0              0              0              0  ...               0   \n",
       "1              0              0              0  ...               0   \n",
       "2              0              0              0  ...               0   \n",
       "3              0              0              0  ...               0   \n",
       "4              0              0              0  ...               0   \n",
       "\n",
       "   first_letter_R  first_letter_S  first_letter_T  first_letter_U  \\\n",
       "0               0               0               0               0   \n",
       "1               0               0               0               0   \n",
       "2               0               0               0               0   \n",
       "3               0               0               0               0   \n",
       "4               0               0               0               0   \n",
       "\n",
       "   first_letter_V  first_letter_W  first_letter_X  first_letter_Y  \\\n",
       "0               0               0               0               0   \n",
       "1               0               0               0               0   \n",
       "2               0               0               0               0   \n",
       "3               0               0               0               0   \n",
       "4               0               0               0               0   \n",
       "\n",
       "   first_letter_Z  \n",
       "0               0  \n",
       "1               0  \n",
       "2               0  \n",
       "3               0  \n",
       "4               0  \n",
       "\n",
       "[5 rows x 58 columns]"
      ]
     },
     "execution_count": 18,
     "metadata": {},
     "output_type": "execute_result"
    }
   ],
   "source": [
    "train_name_df.head()"
   ]
  },
  {
   "cell_type": "code",
   "execution_count": 19,
   "metadata": {
    "ExecuteTime": {
     "end_time": "2020-07-04T16:51:42.541710Z",
     "start_time": "2020-07-04T16:51:42.522722Z"
    }
   },
   "outputs": [],
   "source": [
    "test_name_df['last_letter'] = test_name_df['name'].apply(lambda x: x[-1])\n",
    "test_name_df['first_letter'] = test_name_df['name'].apply(lambda x: x[0])\n",
    "test_name_df['len_name'] = test_name_df['name'].apply(lambda x: len(x))\n",
    "test_name_df['a_count'] = test_name_df['name'].apply(lambda x: len(re.findall('a',x)))\n",
    "test_name_df['i_count'] = test_name_df['name'].apply(lambda x: len(re.findall('i',x)))\n",
    "test_name_df['o_count'] = test_name_df['name'].apply(lambda x: len(re.findall('o',x)))\n",
    "test_name_df['y_count'] = test_name_df['name'].apply(lambda x: len(re.findall('y',x)))\n",
    "test_name_df = pd.get_dummies(test_name_df, columns=['last_letter','first_letter'])"
   ]
  },
  {
   "cell_type": "code",
   "execution_count": 20,
   "metadata": {
    "ExecuteTime": {
     "end_time": "2020-07-04T16:51:42.547975Z",
     "start_time": "2020-07-04T16:51:42.543134Z"
    }
   },
   "outputs": [],
   "source": [
    "test_name_df = test_name_df.reindex(columns = train_name_df.columns, fill_value=0)"
   ]
  },
  {
   "cell_type": "code",
   "execution_count": 21,
   "metadata": {
    "ExecuteTime": {
     "end_time": "2020-07-04T16:51:42.567156Z",
     "start_time": "2020-07-04T16:51:42.549550Z"
    }
   },
   "outputs": [
    {
     "data": {
      "text/html": [
       "<div>\n",
       "<style scoped>\n",
       "    .dataframe tbody tr th:only-of-type {\n",
       "        vertical-align: middle;\n",
       "    }\n",
       "\n",
       "    .dataframe tbody tr th {\n",
       "        vertical-align: top;\n",
       "    }\n",
       "\n",
       "    .dataframe thead th {\n",
       "        text-align: right;\n",
       "    }\n",
       "</style>\n",
       "<table border=\"1\" class=\"dataframe\">\n",
       "  <thead>\n",
       "    <tr style=\"text-align: right;\">\n",
       "      <th></th>\n",
       "      <th>name</th>\n",
       "      <th>gender</th>\n",
       "      <th>len_name</th>\n",
       "      <th>a_count</th>\n",
       "      <th>i_count</th>\n",
       "      <th>o_count</th>\n",
       "      <th>y_count</th>\n",
       "      <th>last_letter_a</th>\n",
       "      <th>last_letter_b</th>\n",
       "      <th>last_letter_c</th>\n",
       "      <th>...</th>\n",
       "      <th>first_letter_Q</th>\n",
       "      <th>first_letter_R</th>\n",
       "      <th>first_letter_S</th>\n",
       "      <th>first_letter_T</th>\n",
       "      <th>first_letter_U</th>\n",
       "      <th>first_letter_V</th>\n",
       "      <th>first_letter_W</th>\n",
       "      <th>first_letter_X</th>\n",
       "      <th>first_letter_Y</th>\n",
       "      <th>first_letter_Z</th>\n",
       "    </tr>\n",
       "  </thead>\n",
       "  <tbody>\n",
       "    <tr>\n",
       "      <th>0</th>\n",
       "      <td>Nike</td>\n",
       "      <td>female</td>\n",
       "      <td>4</td>\n",
       "      <td>0</td>\n",
       "      <td>1</td>\n",
       "      <td>0</td>\n",
       "      <td>0</td>\n",
       "      <td>0</td>\n",
       "      <td>0</td>\n",
       "      <td>0</td>\n",
       "      <td>...</td>\n",
       "      <td>0</td>\n",
       "      <td>0</td>\n",
       "      <td>0</td>\n",
       "      <td>0</td>\n",
       "      <td>0</td>\n",
       "      <td>0</td>\n",
       "      <td>0</td>\n",
       "      <td>0</td>\n",
       "      <td>0</td>\n",
       "      <td>0</td>\n",
       "    </tr>\n",
       "    <tr>\n",
       "      <th>1</th>\n",
       "      <td>Lonni</td>\n",
       "      <td>female</td>\n",
       "      <td>5</td>\n",
       "      <td>0</td>\n",
       "      <td>1</td>\n",
       "      <td>1</td>\n",
       "      <td>0</td>\n",
       "      <td>0</td>\n",
       "      <td>0</td>\n",
       "      <td>0</td>\n",
       "      <td>...</td>\n",
       "      <td>0</td>\n",
       "      <td>0</td>\n",
       "      <td>0</td>\n",
       "      <td>0</td>\n",
       "      <td>0</td>\n",
       "      <td>0</td>\n",
       "      <td>0</td>\n",
       "      <td>0</td>\n",
       "      <td>0</td>\n",
       "      <td>0</td>\n",
       "    </tr>\n",
       "    <tr>\n",
       "      <th>2</th>\n",
       "      <td>Blisse</td>\n",
       "      <td>female</td>\n",
       "      <td>6</td>\n",
       "      <td>0</td>\n",
       "      <td>1</td>\n",
       "      <td>0</td>\n",
       "      <td>0</td>\n",
       "      <td>0</td>\n",
       "      <td>0</td>\n",
       "      <td>0</td>\n",
       "      <td>...</td>\n",
       "      <td>0</td>\n",
       "      <td>0</td>\n",
       "      <td>0</td>\n",
       "      <td>0</td>\n",
       "      <td>0</td>\n",
       "      <td>0</td>\n",
       "      <td>0</td>\n",
       "      <td>0</td>\n",
       "      <td>0</td>\n",
       "      <td>0</td>\n",
       "    </tr>\n",
       "    <tr>\n",
       "      <th>3</th>\n",
       "      <td>Ricardo</td>\n",
       "      <td>male</td>\n",
       "      <td>7</td>\n",
       "      <td>1</td>\n",
       "      <td>1</td>\n",
       "      <td>1</td>\n",
       "      <td>0</td>\n",
       "      <td>0</td>\n",
       "      <td>0</td>\n",
       "      <td>0</td>\n",
       "      <td>...</td>\n",
       "      <td>0</td>\n",
       "      <td>1</td>\n",
       "      <td>0</td>\n",
       "      <td>0</td>\n",
       "      <td>0</td>\n",
       "      <td>0</td>\n",
       "      <td>0</td>\n",
       "      <td>0</td>\n",
       "      <td>0</td>\n",
       "      <td>0</td>\n",
       "    </tr>\n",
       "    <tr>\n",
       "      <th>4</th>\n",
       "      <td>Celestyna</td>\n",
       "      <td>female</td>\n",
       "      <td>9</td>\n",
       "      <td>1</td>\n",
       "      <td>0</td>\n",
       "      <td>0</td>\n",
       "      <td>1</td>\n",
       "      <td>1</td>\n",
       "      <td>0</td>\n",
       "      <td>0</td>\n",
       "      <td>...</td>\n",
       "      <td>0</td>\n",
       "      <td>0</td>\n",
       "      <td>0</td>\n",
       "      <td>0</td>\n",
       "      <td>0</td>\n",
       "      <td>0</td>\n",
       "      <td>0</td>\n",
       "      <td>0</td>\n",
       "      <td>0</td>\n",
       "      <td>0</td>\n",
       "    </tr>\n",
       "  </tbody>\n",
       "</table>\n",
       "<p>5 rows × 58 columns</p>\n",
       "</div>"
      ],
      "text/plain": [
       "        name  gender  len_name  a_count  i_count  o_count  y_count  \\\n",
       "0       Nike  female         4        0        1        0        0   \n",
       "1      Lonni  female         5        0        1        1        0   \n",
       "2     Blisse  female         6        0        1        0        0   \n",
       "3    Ricardo    male         7        1        1        1        0   \n",
       "4  Celestyna  female         9        1        0        0        1   \n",
       "\n",
       "   last_letter_a  last_letter_b  last_letter_c  ...  first_letter_Q  \\\n",
       "0              0              0              0  ...               0   \n",
       "1              0              0              0  ...               0   \n",
       "2              0              0              0  ...               0   \n",
       "3              0              0              0  ...               0   \n",
       "4              1              0              0  ...               0   \n",
       "\n",
       "   first_letter_R  first_letter_S  first_letter_T  first_letter_U  \\\n",
       "0               0               0               0               0   \n",
       "1               0               0               0               0   \n",
       "2               0               0               0               0   \n",
       "3               1               0               0               0   \n",
       "4               0               0               0               0   \n",
       "\n",
       "   first_letter_V  first_letter_W  first_letter_X  first_letter_Y  \\\n",
       "0               0               0               0               0   \n",
       "1               0               0               0               0   \n",
       "2               0               0               0               0   \n",
       "3               0               0               0               0   \n",
       "4               0               0               0               0   \n",
       "\n",
       "   first_letter_Z  \n",
       "0               0  \n",
       "1               0  \n",
       "2               0  \n",
       "3               0  \n",
       "4               0  \n",
       "\n",
       "[5 rows x 58 columns]"
      ]
     },
     "execution_count": 21,
     "metadata": {},
     "output_type": "execute_result"
    }
   ],
   "source": [
    "test_name_df.head()"
   ]
  },
  {
   "cell_type": "markdown",
   "metadata": {},
   "source": [
    "### SK-Learn Models \n",
    "\n",
    "Let's use SK-Learn's random forest classifier, logistic regressor and naive bayes classifier on our recently engineered data. Each model will use tenfold cross-validation with a grid-search on specified parameters"
   ]
  },
  {
   "cell_type": "markdown",
   "metadata": {},
   "source": [
    "#### Run 3 - Logistic Classifier with Additional Features\n",
    "\n",
    "The function will run a grid-search on the best L2 penalty parameter"
   ]
  },
  {
   "cell_type": "code",
   "execution_count": 122,
   "metadata": {
    "ExecuteTime": {
     "end_time": "2020-07-04T17:57:16.376369Z",
     "start_time": "2020-07-04T17:57:16.368642Z"
    }
   },
   "outputs": [],
   "source": [
    "def logistic_classifier(train_df, test_df):\n",
    "    \n",
    "    X_train = train_df.drop(labels=['gender','name'],\n",
    "                axis=1)\n",
    "        \n",
    "    y_train = train_df['gender']\n",
    "    \n",
    "    X_test = test_df.drop(labels=['gender','name'],\n",
    "                axis=1)\n",
    "        \n",
    "    y_test = test_df['gender']\n",
    "    \n",
    "    lr = LogisticRegression(penalty='l2',\n",
    "                            dual=False,\n",
    "                            max_iter=1000,\n",
    "                            tol=.0001)\n",
    "    \n",
    "    pipeline = Pipeline(steps=[('logistic', lr)])\n",
    "    \n",
    "    param_grid = {\n",
    "    'logistic__C': np.arange(1, 50, 10)}\n",
    "\n",
    "    cv = ShuffleSplit(n_splits=10, test_size=.3, random_state=0)\n",
    "\n",
    "    search = GridSearchCV(pipeline, \n",
    "                          param_grid,\n",
    "                          cv=cv,\n",
    "                          return_train_score=True\n",
    "                          )\n",
    "\n",
    "    search.fit(X_train,y_train)\n",
    "\n",
    "    y_pred = search.predict(X_test)\n",
    "    \n",
    "    print('Run 3: Logistic Classifier')\n",
    "    print('Train: Gender correctly identified: ', \"{:.1%}\".format(search.score(X_train, y_train)))\n",
    "    print('Test: Gender correctly identified: ', \"{:.1%}\".format(search.score(X_test, y_test)))\n",
    "    print('')\n",
    "    print('Confusion Matrix')\n",
    "    print(confusion_matrix(y_test, y_pred))\n",
    "    \n",
    "    return search\n",
    "    "
   ]
  },
  {
   "cell_type": "code",
   "execution_count": 123,
   "metadata": {
    "ExecuteTime": {
     "end_time": "2020-07-04T17:57:30.429222Z",
     "start_time": "2020-07-04T17:57:17.751139Z"
    }
   },
   "outputs": [
    {
     "name": "stdout",
     "output_type": "stream",
     "text": [
      "Run 3: Logistic Classifier\n",
      "Train: Gender correctly identified:  78.5%\n",
      "Test: Gender correctly identified:  81.4%\n",
      "\n",
      "Confusion Matrix\n",
      "[[285  45]\n",
      " [ 48 122]]\n"
     ]
    }
   ],
   "source": [
    "lr = logistic_classifier(train_name_df, test_name_df)"
   ]
  },
  {
   "cell_type": "markdown",
   "metadata": {},
   "source": [
    "The logistic classifier shows accuracy of 81%. However, the minority class has been misclassified with specificity of 71.7%"
   ]
  },
  {
   "cell_type": "markdown",
   "metadata": {},
   "source": [
    "#### Run 4 - Naive Bayes Classifier with additional features\n",
    "\n",
    "The model will run a grid-search on the best smoothing parameter"
   ]
  },
  {
   "cell_type": "code",
   "execution_count": 124,
   "metadata": {
    "ExecuteTime": {
     "end_time": "2020-07-04T17:57:30.443271Z",
     "start_time": "2020-07-04T17:57:30.431679Z"
    }
   },
   "outputs": [],
   "source": [
    "def m_naive_bayes_classifier(train_df, test_df):\n",
    "    \n",
    "    X_train = train_df.drop(labels=['gender','name'],\n",
    "                axis=1)\n",
    "        \n",
    "    y_train = train_df['gender']\n",
    "    \n",
    "    X_test = test_df.drop(labels=['gender','name'],\n",
    "                axis=1)\n",
    "        \n",
    "    y_test = test_df['gender']\n",
    "    \n",
    "    nb = MultinomialNB()\n",
    "    \n",
    "    # Create a pipeline that standardizes, then runs logistic regression\n",
    "    pipeline = Pipeline(steps=[('nb', nb)])\n",
    "    \n",
    "    param_grid = {\n",
    "   'nb__alpha': np.arange(.1, 1, .2)}\n",
    "\n",
    "    cv = ShuffleSplit(n_splits=10, test_size=.3, random_state=0)\n",
    "\n",
    "    search = GridSearchCV(pipeline, \n",
    "                          param_grid,\n",
    "                          cv=cv,\n",
    "                          return_train_score=True\n",
    "                          )\n",
    "\n",
    "    search.fit(X_train,y_train)\n",
    "\n",
    "    y_pred = search.predict(X_test)\n",
    "    \n",
    "    \n",
    "    print('Run 4: Naive Bayes Classifier')\n",
    "    print('Train: Gender correctly identified: ', \"{:.1%}\".format(search.score(X_train, y_train)))\n",
    "    print('Test: Gender correctly identified: ', \"{:.1%}\".format(search.score(X_test, y_test)))\n",
    "    print('')\n",
    "    print('Confusion Matrix')\n",
    "    print(confusion_matrix(y_test, y_pred))\n",
    "    \n",
    "    return search"
   ]
  },
  {
   "cell_type": "code",
   "execution_count": 125,
   "metadata": {
    "ExecuteTime": {
     "end_time": "2020-07-04T17:57:32.262743Z",
     "start_time": "2020-07-04T17:57:30.445733Z"
    }
   },
   "outputs": [
    {
     "name": "stdout",
     "output_type": "stream",
     "text": [
      "Run 4: Naive Bayes Classifier\n",
      "Train: Gender correctly identified:  77.5%\n",
      "Test: Gender correctly identified:  79.0%\n",
      "\n",
      "Confusion Matrix\n",
      "[[279  51]\n",
      " [ 54 116]]\n"
     ]
    }
   ],
   "source": [
    "nb = m_naive_bayes_classifier(train_name_df, test_name_df)"
   ]
  },
  {
   "cell_type": "markdown",
   "metadata": {},
   "source": [
    "The naive bayes classifier has done well, but once again, it is misclassifying the minority class with specificity of 68%"
   ]
  },
  {
   "cell_type": "markdown",
   "metadata": {},
   "source": [
    "#### Run 5 - Random Forest Classifier with additional features\n",
    "\n",
    "The function will run a grid-search on the best number of trees as well at the ideal tree depth."
   ]
  },
  {
   "cell_type": "code",
   "execution_count": 126,
   "metadata": {
    "ExecuteTime": {
     "end_time": "2020-07-04T17:57:41.011367Z",
     "start_time": "2020-07-04T17:57:41.004138Z"
    }
   },
   "outputs": [],
   "source": [
    "def random_forest_classifier(train_df, test_df):\n",
    "    \n",
    "    X_train = train_df.drop(labels=['gender','name'],\n",
    "                axis=1)\n",
    "        \n",
    "    y_train = train_df['gender']\n",
    "    \n",
    "    X_test = test_df.drop(labels=['gender','name'],\n",
    "                axis=1)\n",
    "        \n",
    "    y_test = test_df['gender']\n",
    "    \n",
    "    rf=RandomForestClassifier()\n",
    "   \n",
    "\n",
    "    # Create a pipeline that standardizes, then runs logistic regression\n",
    "    pipeline = Pipeline(steps=[('rf', rf)])\n",
    "    \n",
    "    param_grid = {\n",
    "    'rf__min_samples_split': np.arange(2, 10, 2),\n",
    "    'rf__n_estimators': np.arange(10, 20, 5)}\n",
    "\n",
    "    cv = ShuffleSplit(n_splits=10, test_size=.3, random_state=0)\n",
    "\n",
    "    search = GridSearchCV(pipeline, \n",
    "                          param_grid,\n",
    "                          cv=cv,\n",
    "                          return_train_score=True\n",
    "                          )\n",
    "\n",
    "    search.fit(X_train,y_train)\n",
    "    y_pred = search.predict(X_test)\n",
    "    print('Run 5: Random Forest Classifier')\n",
    "    print('Train: Gender correctly identified: ', \"{:.1%}\".format(search.score(X_train, y_train)))\n",
    "    print('Test: Gender correctly identified: ', \"{:.1%}\".format(search.score(X_test, y_test)))\n",
    "    print('')\n",
    "    print('Confusion Matrix')\n",
    "    print(confusion_matrix(y_test, y_pred))\n",
    "    \n",
    "    return search"
   ]
  },
  {
   "cell_type": "code",
   "execution_count": 127,
   "metadata": {
    "ExecuteTime": {
     "end_time": "2020-07-04T17:57:50.041812Z",
     "start_time": "2020-07-04T17:57:43.025018Z"
    }
   },
   "outputs": [
    {
     "name": "stdout",
     "output_type": "stream",
     "text": [
      "Run 5: Random Forest Classifier\n",
      "Train: Gender correctly identified:  86.8%\n",
      "Test: Gender correctly identified:  79.2%\n",
      "\n",
      "Confusion Matrix\n",
      "[[274  56]\n",
      " [ 48 122]]\n"
     ]
    }
   ],
   "source": [
    "rf = random_forest_classifier(train_name_df, test_name_df)"
   ]
  },
  {
   "cell_type": "markdown",
   "metadata": {},
   "source": [
    "We have a similar test accuracy and misclassification rate for the minority class as the other two models"
   ]
  },
  {
   "cell_type": "markdown",
   "metadata": {},
   "source": [
    "### Upsampling Minority Class\n",
    "\n",
    "In all cases, the minority class has been misclassified to a fair degree. Let's upsample the minority class."
   ]
  },
  {
   "cell_type": "code",
   "execution_count": 128,
   "metadata": {
    "ExecuteTime": {
     "end_time": "2020-07-04T17:57:54.625170Z",
     "start_time": "2020-07-04T17:57:54.615839Z"
    }
   },
   "outputs": [],
   "source": [
    "df_minority = train_name_df[train_name_df['gender']=='male']\n",
    "\n",
    "df_minority_upsampled = resample(df_minority, \n",
    "                                 replace=True,\n",
    "                                 n_samples=2000,\n",
    "                                 random_state=123) \n",
    "\n",
    "df_upsampled = pd.concat([train_name_df, \n",
    "                          df_minority_upsampled])"
   ]
  },
  {
   "cell_type": "markdown",
   "metadata": {},
   "source": [
    "### Re-Run Models with Upsampled Data"
   ]
  },
  {
   "cell_type": "markdown",
   "metadata": {
    "ExecuteTime": {
     "end_time": "2020-07-04T18:59:27.325624Z",
     "start_time": "2020-07-04T18:59:27.323050Z"
    }
   },
   "source": [
    "#### Logistic Rerun"
   ]
  },
  {
   "cell_type": "code",
   "execution_count": 129,
   "metadata": {
    "ExecuteTime": {
     "end_time": "2020-07-04T17:58:13.261938Z",
     "start_time": "2020-07-04T17:57:57.324246Z"
    }
   },
   "outputs": [
    {
     "name": "stdout",
     "output_type": "stream",
     "text": [
      "Run 3: Logistic Classifier\n",
      "Train: Gender correctly identified:  77.5%\n",
      "Test: Gender correctly identified:  78.2%\n",
      "\n",
      "Confusion Matrix\n",
      "[[253  77]\n",
      " [ 32 138]]\n"
     ]
    }
   ],
   "source": [
    "lr = logistic_classifier(df_upsampled, test_name_df)"
   ]
  },
  {
   "cell_type": "markdown",
   "metadata": {},
   "source": [
    "We see a drop in accuracy, but more of a balance in terms of an error rate for the two classes. Specificity is at 81%"
   ]
  },
  {
   "cell_type": "markdown",
   "metadata": {},
   "source": [
    "#### Logistic Regressor Coefficients"
   ]
  },
  {
   "cell_type": "code",
   "execution_count": 130,
   "metadata": {
    "ExecuteTime": {
     "end_time": "2020-07-04T17:58:13.276885Z",
     "start_time": "2020-07-04T17:58:13.263862Z"
    }
   },
   "outputs": [
    {
     "data": {
      "text/html": [
       "<div>\n",
       "<style scoped>\n",
       "    .dataframe tbody tr th:only-of-type {\n",
       "        vertical-align: middle;\n",
       "    }\n",
       "\n",
       "    .dataframe tbody tr th {\n",
       "        vertical-align: top;\n",
       "    }\n",
       "\n",
       "    .dataframe thead th {\n",
       "        text-align: right;\n",
       "    }\n",
       "</style>\n",
       "<table border=\"1\" class=\"dataframe\">\n",
       "  <thead>\n",
       "    <tr style=\"text-align: right;\">\n",
       "      <th></th>\n",
       "      <th>Coef</th>\n",
       "    </tr>\n",
       "  </thead>\n",
       "  <tbody>\n",
       "    <tr>\n",
       "      <th>last_letter_a</th>\n",
       "      <td>-4.663564</td>\n",
       "    </tr>\n",
       "    <tr>\n",
       "      <th>last_letter_i</th>\n",
       "      <td>-2.373821</td>\n",
       "    </tr>\n",
       "    <tr>\n",
       "      <th>last_letter_k</th>\n",
       "      <td>1.868934</td>\n",
       "    </tr>\n",
       "    <tr>\n",
       "      <th>last_letter_c</th>\n",
       "      <td>1.860789</td>\n",
       "    </tr>\n",
       "    <tr>\n",
       "      <th>last_letter_e</th>\n",
       "      <td>-1.688131</td>\n",
       "    </tr>\n",
       "  </tbody>\n",
       "</table>\n",
       "</div>"
      ],
      "text/plain": [
       "                   Coef\n",
       "last_letter_a -4.663564\n",
       "last_letter_i -2.373821\n",
       "last_letter_k  1.868934\n",
       "last_letter_c  1.860789\n",
       "last_letter_e -1.688131"
      ]
     },
     "execution_count": 130,
     "metadata": {},
     "output_type": "execute_result"
    }
   ],
   "source": [
    "pd.DataFrame.from_dict({feature:(abs(coef), coef) for \n",
    "                        feature, coef in zip(test_name_df.iloc[:,2:].columns, \n",
    "                                  lr.best_estimator_['logistic'].coef_[0])},\n",
    "                        orient='index').rename({0:'Abs Coef', 1:'Coef'},\n",
    "                                                axis=1).sort_values(by='Abs Coef',\n",
    "                                                        ascending=False)[['Coef']][:5]"
   ]
  },
  {
   "cell_type": "markdown",
   "metadata": {},
   "source": [
    "The logistic classifier tells us that the features capable of differentiating  males from females the most are features specifying whether the last letters are a, i, k, c, and e."
   ]
  },
  {
   "cell_type": "markdown",
   "metadata": {},
   "source": [
    "#### Naive Bayes Rerun"
   ]
  },
  {
   "cell_type": "code",
   "execution_count": 131,
   "metadata": {
    "ExecuteTime": {
     "end_time": "2020-07-04T17:58:15.506641Z",
     "start_time": "2020-07-04T17:58:13.279491Z"
    }
   },
   "outputs": [
    {
     "name": "stdout",
     "output_type": "stream",
     "text": [
      "Run 4: Naive Bayes Classifier\n",
      "Train: Gender correctly identified:  76.5%\n",
      "Test: Gender correctly identified:  77.2%\n",
      "\n",
      "Confusion Matrix\n",
      "[[245  85]\n",
      " [ 29 141]]\n"
     ]
    }
   ],
   "source": [
    "nb = m_naive_bayes_classifier(df_upsampled, test_name_df)"
   ]
  },
  {
   "cell_type": "markdown",
   "metadata": {},
   "source": [
    "Once again, we see a drop in accuracy, but more of a balance in terms of an error rate for the two classes. Specificity is at 83%"
   ]
  },
  {
   "cell_type": "markdown",
   "metadata": {},
   "source": [
    "#### Naive Bayes Feature Log Probabilities"
   ]
  },
  {
   "cell_type": "code",
   "execution_count": 168,
   "metadata": {
    "ExecuteTime": {
     "end_time": "2020-07-04T18:30:23.870337Z",
     "start_time": "2020-07-04T18:30:23.859264Z"
    }
   },
   "outputs": [
    {
     "data": {
      "text/plain": [
       "last_letter_c    1.716548\n",
       "last_letter_k    1.616015\n",
       "last_letter_d    1.458959\n",
       "last_letter_o    1.432279\n",
       "last_letter_f    1.426924\n",
       "dtype: float64"
      ]
     },
     "execution_count": 168,
     "metadata": {},
     "output_type": "execute_result"
    }
   ],
   "source": [
    "nb_df = pd.DataFrame.from_dict({feature:[coef1, coef2] for \n",
    "                        feature, coef1, coef2 in zip(test_name_df.iloc[:,2:].columns, \n",
    "                                  nb.best_estimator_['nb'].feature_log_prob_[0],\n",
    "                                  nb.best_estimator_['nb'].feature_log_prob_[1])},\n",
    "                        orient='index').rename({0:'Coef1', 1:'Coef2'},\n",
    "                                                axis=1)\n",
    "\n",
    "(nb_df['Coef1']/nb_df['Coef2']).sort_values(ascending=False)[:5]"
   ]
  },
  {
   "cell_type": "markdown",
   "metadata": {},
   "source": [
    "The naive bayes classifier tells us that the features capable of differentiating  males from females the most are features specifying whether the last letters are c, k, d, o, and f."
   ]
  },
  {
   "cell_type": "markdown",
   "metadata": {},
   "source": [
    "#### Rendom Forest Rerun"
   ]
  },
  {
   "cell_type": "code",
   "execution_count": 133,
   "metadata": {
    "ExecuteTime": {
     "end_time": "2020-07-04T17:58:24.327071Z",
     "start_time": "2020-07-04T17:58:15.525673Z"
    }
   },
   "outputs": [
    {
     "name": "stdout",
     "output_type": "stream",
     "text": [
      "Run 5: Random Forest Classifier\n",
      "Train: Gender correctly identified:  89.3%\n",
      "Test: Gender correctly identified:  76.4%\n",
      "\n",
      "Confusion Matrix\n",
      "[[255  75]\n",
      " [ 43 127]]\n"
     ]
    }
   ],
   "source": [
    "rf = random_forest_classifier(df_upsampled, test_name_df)"
   ]
  },
  {
   "cell_type": "markdown",
   "metadata": {},
   "source": [
    "Accuracy has suffered again, but specificity is at 75%"
   ]
  },
  {
   "cell_type": "markdown",
   "metadata": {},
   "source": [
    "#### Random Forest Feature Importances"
   ]
  },
  {
   "cell_type": "code",
   "execution_count": 134,
   "metadata": {
    "ExecuteTime": {
     "end_time": "2020-07-04T17:58:24.348479Z",
     "start_time": "2020-07-04T17:58:24.329646Z"
    }
   },
   "outputs": [
    {
     "data": {
      "text/html": [
       "<div>\n",
       "<style scoped>\n",
       "    .dataframe tbody tr th:only-of-type {\n",
       "        vertical-align: middle;\n",
       "    }\n",
       "\n",
       "    .dataframe tbody tr th {\n",
       "        vertical-align: top;\n",
       "    }\n",
       "\n",
       "    .dataframe thead th {\n",
       "        text-align: right;\n",
       "    }\n",
       "</style>\n",
       "<table border=\"1\" class=\"dataframe\">\n",
       "  <thead>\n",
       "    <tr style=\"text-align: right;\">\n",
       "      <th></th>\n",
       "      <th>Coef</th>\n",
       "    </tr>\n",
       "  </thead>\n",
       "  <tbody>\n",
       "    <tr>\n",
       "      <th>last_letter_a</th>\n",
       "      <td>0.188018</td>\n",
       "    </tr>\n",
       "    <tr>\n",
       "      <th>len_name</th>\n",
       "      <td>0.143636</td>\n",
       "    </tr>\n",
       "    <tr>\n",
       "      <th>a_count</th>\n",
       "      <td>0.075006</td>\n",
       "    </tr>\n",
       "    <tr>\n",
       "      <th>last_letter_e</th>\n",
       "      <td>0.048652</td>\n",
       "    </tr>\n",
       "    <tr>\n",
       "      <th>i_count</th>\n",
       "      <td>0.044153</td>\n",
       "    </tr>\n",
       "  </tbody>\n",
       "</table>\n",
       "</div>"
      ],
      "text/plain": [
       "                   Coef\n",
       "last_letter_a  0.188018\n",
       "len_name       0.143636\n",
       "a_count        0.075006\n",
       "last_letter_e  0.048652\n",
       "i_count        0.044153"
      ]
     },
     "execution_count": 134,
     "metadata": {},
     "output_type": "execute_result"
    }
   ],
   "source": [
    "pd.DataFrame.from_dict({feature: coef for \n",
    "                        feature, coef in zip(test_name_df.iloc[:,2:].columns, \n",
    "                                  rf.best_estimator_['rf'].feature_importances_)},\n",
    "                        orient='index').rename({0: 'Coef'},\n",
    "                                                axis=1).sort_values(by='Coef',\n",
    "                                                        ascending=False)[:5]"
   ]
  },
  {
   "cell_type": "markdown",
   "metadata": {},
   "source": [
    "The random forest classifier's feature importances give us more of a variety for the top features than the other two classifiers. It seems to prioritize the length of the name, the counts of vowels a and i, along with the features specifying whether the last letters are a and i."
   ]
  },
  {
   "cell_type": "markdown",
   "metadata": {},
   "source": [
    "### Conclusions of SK-Learn Models\n",
    "\n",
    "* All models classified test data with accuracy above 76%, but specificity was low on average\n",
    "* After upsampling the minority class, accuracy suffered, but specificity rose significantly\n",
    "* Significant features varied across all three models"
   ]
  },
  {
   "cell_type": "code",
   "execution_count": null,
   "metadata": {},
   "outputs": [],
   "source": []
  }
 ],
 "metadata": {
  "kernelspec": {
   "display_name": "ml-env",
   "language": "python",
   "name": "ml-env"
  },
  "language_info": {
   "codemirror_mode": {
    "name": "ipython",
    "version": 3
   },
   "file_extension": ".py",
   "mimetype": "text/x-python",
   "name": "python",
   "nbconvert_exporter": "python",
   "pygments_lexer": "ipython3",
   "version": "3.7.7"
  },
  "toc": {
   "base_numbering": 1,
   "nav_menu": {},
   "number_sections": true,
   "sideBar": true,
   "skip_h1_title": false,
   "title_cell": "Table of Contents",
   "title_sidebar": "Contents",
   "toc_cell": false,
   "toc_position": {},
   "toc_section_display": true,
   "toc_window_display": false
  }
 },
 "nbformat": 4,
 "nbformat_minor": 4
}
