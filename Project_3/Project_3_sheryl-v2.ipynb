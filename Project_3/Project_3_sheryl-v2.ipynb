{
 "cells": [
  {
   "cell_type": "markdown",
   "metadata": {},
   "source": [
    "# Data 620 Project 3\n",
    "## Classification\n",
    "Jit Seneviratne and Sheryl Piechocki \n",
    "June 29, 2020\n",
    "\n",
    "Using any of the three classifiers described in chapter 6 of Natural Language Processing with Python,\n",
    "and any features you can think of, build the best name gender classifier you can.\n",
    "Begin by splitting the Names Corpus into three subsets: 500 words for the test set, 500 words for the devtest set, and the remaining 6900 words for the training set. Then, starting with the example name gender\n",
    "classifier, make incremental improvements. Use the dev-test set to check your progress. Once you are\n",
    "satisfied with your classifier, check its final performance on the test set.\n",
    "How does the performance on the test set compare to the performance on the dev-test set? Is this what\n",
    "you'd expect? \n",
    "\n",
    "**Dataset**\n",
    "The data used in this project is the names corpus included in the NLTK package.\n",
    "\n",
    "**Analysis:**\n"
   ]
  },
  {
   "cell_type": "code",
   "execution_count": 24,
   "metadata": {},
   "outputs": [
    {
     "data": {
      "text/html": [
       "        <script type=\"text/javascript\">\n",
       "        window.PlotlyConfig = {MathJaxConfig: 'local'};\n",
       "        if (window.MathJax) {MathJax.Hub.Config({SVG: {font: \"STIX-Web\"}});}\n",
       "        if (typeof require !== 'undefined') {\n",
       "        require.undef(\"plotly\");\n",
       "        requirejs.config({\n",
       "            paths: {\n",
       "                'plotly': ['https://cdn.plot.ly/plotly-latest.min']\n",
       "            }\n",
       "        });\n",
       "        require(['plotly'], function(Plotly) {\n",
       "            window._Plotly = Plotly;\n",
       "        });\n",
       "        }\n",
       "        </script>\n",
       "        "
      ]
     },
     "metadata": {},
     "output_type": "display_data"
    }
   ],
   "source": [
    "from nltk.corpus import names\n",
    "import random\n",
    "from nltk.classify import apply_features\n",
    "    \n",
    "%matplotlib inline\n",
    "import pandas as pd\n",
    "import plotly as py\n",
    "import plotly.graph_objs as go \n",
    "from plotly.offline import init_notebook_mode, plot, iplot\n",
    "import matplotlib.pyplot as plt\n",
    "init_notebook_mode(connected=True)\n",
    "import nltk, re, pprint\n",
    "from nltk import word_tokenize\n",
    "import string\n",
    "import re\n",
    "import numpy as np\n",
    "from sklearn.linear_model import LogisticRegression\n",
    "from sklearn.metrics import confusion_matrix\n",
    "from sklearn.model_selection import train_test_split\n",
    "from sklearn.naive_bayes import MultinomialNB, GaussianNB\n",
    "from sklearn.ensemble import RandomForestClassifier"
   ]
  },
  {
   "cell_type": "markdown",
   "metadata": {},
   "source": [
    "### Investigate the NLTK Names Corpus"
   ]
  },
  {
   "cell_type": "code",
   "execution_count": 2,
   "metadata": {},
   "outputs": [],
   "source": [
    " names = ([(name, 'male') for name in names.words('male.txt')] + [(name, 'female') for name in names.words('female.txt')])"
   ]
  },
  {
   "cell_type": "code",
   "execution_count": 3,
   "metadata": {},
   "outputs": [
    {
     "name": "stdout",
     "output_type": "stream",
     "text": [
      "Count of total names in the corpus is:  7944\n",
      "Count of female names in the corpus is:  5001\n",
      "Count of male names in the corpus is:  2943\n"
     ]
    }
   ],
   "source": [
    "#print(names[:10])\n",
    "print('Count of total names in the corpus is: ' , (len(names)))\n",
    "\n",
    "females = [(name, gender) for name, gender in names if gender == 'female']\n",
    "print('Count of female names in the corpus is: ' , (len(females)))\n",
    "males = [(name, gender) for name, gender in names if gender == 'male']\n",
    "print('Count of male names in the corpus is: ' , (len(males)))"
   ]
  },
  {
   "cell_type": "markdown",
   "metadata": {},
   "source": [
    "### Remove any trailing spaces from names"
   ]
  },
  {
   "cell_type": "code",
   "execution_count": 4,
   "metadata": {},
   "outputs": [],
   "source": [
    "names = list(tuple(\"\".join(i.rsplit()) for i in a) for a in names)"
   ]
  },
  {
   "cell_type": "markdown",
   "metadata": {},
   "source": [
    "### Split the names data set into train, test, and devtest"
   ]
  },
  {
   "cell_type": "code",
   "execution_count": 5,
   "metadata": {},
   "outputs": [],
   "source": [
    "random.shuffle(names)\n",
    "train_names = names[1000:]\n",
    "devtest_names = names[500:1000]\n",
    "test_names = names[:500]"
   ]
  },
  {
   "cell_type": "code",
   "execution_count": 12,
   "metadata": {},
   "outputs": [
    {
     "name": "stdout",
     "output_type": "stream",
     "text": [
      "6944\n",
      "500\n",
      "500\n"
     ]
    }
   ],
   "source": [
    "print(len(train_names))\n",
    "print(len(devtest_names))\n",
    "print(len(test_names))"
   ]
  },
  {
   "cell_type": "markdown",
   "metadata": {},
   "source": [
    "### Create dataframes for later use"
   ]
  },
  {
   "cell_type": "code",
   "execution_count": 38,
   "metadata": {},
   "outputs": [],
   "source": [
    "train_name_df = pd.DataFrame(train_names)\n",
    "train_name_df.columns = ['name', 'gender']\n",
    "test_name_df = pd.DataFrame(test_names)\n",
    "test_name_df.columns = ['name', 'gender']"
   ]
  },
  {
   "cell_type": "markdown",
   "metadata": {},
   "source": [
    "### Last letter feature\n",
    "Use the function provided in the book that takes an input word and returns the last letter"
   ]
  },
  {
   "cell_type": "code",
   "execution_count": 6,
   "metadata": {},
   "outputs": [],
   "source": [
    " def gender_features(name):\n",
    "        return {'last_letter': name[-1]}"
   ]
  },
  {
   "cell_type": "markdown",
   "metadata": {},
   "source": [
    "### Run 1 - Max Entropy Classifier  \n",
    "Feature: last letter.\n"
   ]
  },
  {
   "cell_type": "code",
   "execution_count": 7,
   "metadata": {},
   "outputs": [],
   "source": [
    "train_set = apply_features(gender_features, train_names)\n",
    "test_set = apply_features(gender_features, test_names)\n",
    "devtest_set = apply_features(gender_features, devtest_names)\n",
    "\n",
    "#classifier = nltk.NaiveBayesClassifier.train(train_set)\n",
    "classifier = nltk.MaxentClassifier.train(train_set, algorithm='iis', trace=0, max_iter=1000)\n",
    "print('Run 1: Gender correctly identified: ', \"{:.1%}\".format(nltk.classify.accuracy(classifier, test_set)))"
   ]
  },
  {
   "cell_type": "code",
   "execution_count": 8,
   "metadata": {},
   "outputs": [
    {
     "name": "stdout",
     "output_type": "stream",
     "text": [
      "Run 1: Gender correctly identified:  77.4%\n"
     ]
    }
   ],
   "source": [
    "print('Run 1: Gender correctly identified: ', \"{:.1%}\".format(nltk.classify.accuracy(classifier, test_set)))"
   ]
  },
  {
   "cell_type": "markdown",
   "metadata": {},
   "source": [
    "### Run 1 - Most informative features  \n",
    "Using the last letter feature, the classifier ranks names ending in 'c' as the most informative feature and is positive for males.  "
   ]
  },
  {
   "cell_type": "code",
   "execution_count": 9,
   "metadata": {},
   "outputs": [
    {
     "name": "stdout",
     "output_type": "stream",
     "text": [
      "   9.966 last_letter=='c' and label is 'male'\n",
      "   9.966 last_letter=='p' and label is 'male'\n",
      "  -4.824 last_letter=='a' and label is 'male'\n",
      "  -3.392 last_letter=='k' and label is 'female'\n",
      "  -2.644 last_letter=='f' and label is 'female'\n"
     ]
    }
   ],
   "source": [
    "classifier.show_most_informative_features(5)"
   ]
  },
  {
   "cell_type": "markdown",
   "metadata": {},
   "source": [
    "### Add additional features for first letter and length of the name\n"
   ]
  },
  {
   "cell_type": "code",
   "execution_count": 10,
   "metadata": {},
   "outputs": [],
   "source": [
    "def gender_features2(name):\n",
    "    features = {}\n",
    "    features[\"last_letter\"] = name[-1].lower()\n",
    "    features[\"first_letter\"] = name[0].lower()\n",
    "    features[\"name_length\"] = len(name)\n",
    "    return features\n"
   ]
  },
  {
   "cell_type": "markdown",
   "metadata": {},
   "source": [
    "### Run 2 - Max Entropy Classifier  \n",
    "Features: last letter, first letter, length of name"
   ]
  },
  {
   "cell_type": "code",
   "execution_count": 11,
   "metadata": {},
   "outputs": [
    {
     "name": "stdout",
     "output_type": "stream",
     "text": [
      "Run 2: Gender correctly identified:  79.0%\n"
     ]
    }
   ],
   "source": [
    "\n",
    "train_set2 = apply_features(gender_features2, train_names)\n",
    "test_set2 = apply_features(gender_features2, test_names)\n",
    "devtest_set2 = apply_features(gender_features2, devtest_names)\n",
    "\n",
    "#classifier2 = nltk.NaiveBayesClassifier.train(train_set2)\n",
    "classifier2 = nltk.MaxentClassifier.train(train_set2, algorithm='iis', trace=0, max_iter=1000)\n",
    "print('Run 2: Gender correctly identified: ', \"{:.1%}\".format(nltk.classify.accuracy(classifier2, test_set2)))"
   ]
  },
  {
   "cell_type": "markdown",
   "metadata": {},
   "source": [
    "### Run 2 - Create Confusion Matrix"
   ]
  },
  {
   "cell_type": "code",
   "execution_count": 61,
   "metadata": {},
   "outputs": [
    {
     "name": "stdout",
     "output_type": "stream",
     "text": [
      "       |   f     |\n",
      "       |   e     |\n",
      "       |   m   m |\n",
      "       |   a   a |\n",
      "       |   l   l |\n",
      "       |   e   e |\n",
      "-------+---------+\n",
      "female |<253> 53 |\n",
      "  male |  52<142>|\n",
      "-------+---------+\n",
      "(row = reference; col = test)\n",
      "\n"
     ]
    }
   ],
   "source": [
    "tag2 = []\n",
    "guess2 = []\n",
    "for  (name, label) in test_names:\n",
    "    observed2 = classifier2.classify(gender_features2(name))\n",
    "    tag2.append(label)\n",
    "    guess2.append(observed2)\n",
    "\n",
    "\n",
    "print(nltk.ConfusionMatrix(tag2, guess2))"
   ]
  },
  {
   "cell_type": "markdown",
   "metadata": {},
   "source": [
    "### Run 2 - Check the errors"
   ]
  },
  {
   "cell_type": "code",
   "execution_count": 14,
   "metadata": {},
   "outputs": [
    {
     "name": "stdout",
     "output_type": "stream",
     "text": [
      "correct=female   guess=male     name=Arlyn                         \n",
      "correct=female   guess=male     name=Astrix                        \n",
      "correct=female   guess=male     name=Bert                          \n",
      "correct=female   guess=male     name=Bird                          \n",
      "correct=female   guess=male     name=Bo                            \n",
      "correct=female   guess=male     name=Brandais                      \n",
      "correct=female   guess=male     name=Charo                         \n",
      "correct=female   guess=male     name=Cher                          \n",
      "correct=female   guess=male     name=Consuelo                      \n",
      "correct=female   guess=male     name=Deb                           \n",
      "correct=female   guess=male     name=Demeter                       \n",
      "correct=female   guess=male     name=Devin                         \n",
      "correct=female   guess=male     name=Drew                          \n",
      "correct=female   guess=male     name=Ester                         \n",
      "correct=female   guess=male     name=Gabriell                      \n",
      "correct=female   guess=male     name=Garnet                        \n",
      "correct=female   guess=male     name=Ginger                        \n",
      "correct=female   guess=male     name=Glyn                          \n",
      "correct=female   guess=male     name=Gus                           \n",
      "correct=female   guess=male     name=Gwyn                          \n",
      "correct=female   guess=male     name=Hanny                         \n",
      "correct=female   guess=male     name=Harriot                       \n",
      "correct=female   guess=male     name=Hayley                        \n",
      "correct=female   guess=male     name=Hedvig                        \n",
      "correct=female   guess=male     name=Hephzibah                     \n",
      "correct=female   guess=male     name=Hillary                       \n",
      "correct=female   guess=male     name=Ingaberg                      \n",
      "correct=female   guess=male     name=Jenifer                       \n",
      "correct=female   guess=male     name=JoAnn                         \n",
      "correct=female   guess=male     name=Joslyn                        \n",
      "correct=female   guess=male     name=Kameko                        \n",
      "correct=female   guess=male     name=Kipp                          \n",
      "correct=female   guess=male     name=Lust                          \n",
      "correct=female   guess=male     name=Madlen                        \n",
      "correct=female   guess=male     name=Marigold                      \n",
      "correct=female   guess=male     name=Nert                          \n",
      "correct=female   guess=male     name=Noellyn                       \n",
      "correct=female   guess=male     name=Noreen                        \n",
      "correct=female   guess=male     name=Olly                          \n",
      "correct=female   guess=male     name=Queenie                       \n",
      "correct=female   guess=male     name=Rhody                         \n",
      "correct=female   guess=male     name=Robbin                        \n",
      "correct=female   guess=male     name=Robin                         \n",
      "correct=female   guess=male     name=Robyn                         \n",
      "correct=female   guess=male     name=Shannen                       \n",
      "correct=female   guess=male     name=Tarah                         \n",
      "correct=female   guess=male     name=Teriann                       \n",
      "correct=female   guess=male     name=Tobey                         \n",
      "correct=female   guess=male     name=Torey                         \n",
      "correct=female   guess=male     name=Winifred                      \n",
      "correct=female   guess=male     name=Zorah                         \n",
      "correct=female   guess=male     name=Zorine                        \n",
      "correct=male     guess=female   name=Abdel                         \n",
      "correct=male     guess=female   name=Ace                           \n",
      "correct=male     guess=female   name=Addie                         \n",
      "correct=male     guess=female   name=Andre                         \n",
      "correct=male     guess=female   name=Ariel                         \n",
      "correct=male     guess=female   name=Arvie                         \n",
      "correct=male     guess=female   name=Bailey                        \n",
      "correct=male     guess=female   name=Baily                         \n",
      "correct=male     guess=female   name=Barth                         \n",
      "correct=male     guess=female   name=Brooke                        \n",
      "correct=male     guess=female   name=Bucky                         \n",
      "correct=male     guess=female   name=Cammy                         \n",
      "correct=male     guess=female   name=Carl                          \n",
      "correct=male     guess=female   name=Carson                        \n",
      "correct=male     guess=female   name=Chauncey                      \n",
      "correct=male     guess=female   name=Chelton                       \n",
      "correct=male     guess=female   name=Cheston                       \n",
      "correct=male     guess=female   name=Clancy                        \n",
      "correct=male     guess=female   name=Curtice                       \n",
      "correct=male     guess=female   name=Daffy                         \n",
      "correct=male     guess=female   name=Darryl                        \n",
      "correct=male     guess=female   name=Davide                        \n",
      "correct=male     guess=female   name=Donal                         \n",
      "correct=male     guess=female   name=Dwane                         \n",
      "correct=male     guess=female   name=Eddy                          \n",
      "correct=male     guess=female   name=Ernie                         \n",
      "correct=male     guess=female   name=Erny                          \n",
      "correct=male     guess=female   name=Georgie                       \n",
      "correct=male     guess=female   name=Gere                          \n",
      "correct=male     guess=female   name=Ishmael                       \n",
      "correct=male     guess=female   name=Jamie                         \n",
      "correct=male     guess=female   name=Jean-Francois                 \n",
      "correct=male     guess=female   name=Jerri                         \n",
      "correct=male     guess=female   name=Jessee                        \n",
      "correct=male     guess=female   name=Johnny                        \n",
      "correct=male     guess=female   name=Johny                         \n",
      "correct=male     guess=female   name=Judah                         \n",
      "correct=male     guess=female   name=Kevin                         \n",
      "correct=male     guess=female   name=Langston                      \n",
      "correct=male     guess=female   name=Lee                           \n",
      "correct=male     guess=female   name=Lionel                        \n",
      "correct=male     guess=female   name=Lorne                         \n",
      "correct=male     guess=female   name=Maximilian                    \n",
      "correct=male     guess=female   name=Meryl                         \n",
      "correct=male     guess=female   name=Mitchel                       \n",
      "correct=male     guess=female   name=Morlee                        \n",
      "correct=male     guess=female   name=Pepe                          \n",
      "correct=male     guess=female   name=Robbie                        \n",
      "correct=male     guess=female   name=Roderich                      \n",
      "correct=male     guess=female   name=Sammie                        \n",
      "correct=male     guess=female   name=Skippy                        \n",
      "correct=male     guess=female   name=Smitty                        \n",
      "correct=male     guess=female   name=Stinky                        \n",
      "correct=male     guess=female   name=Thayne                        \n",
      "correct=male     guess=female   name=Verney                        \n",
      "correct=male     guess=female   name=Yankee                        \n",
      "108\n"
     ]
    }
   ],
   "source": [
    "errors = []\n",
    "for (name, tag) in devtest_names:\n",
    "    guess =  classifier2.classify(gender_features2(name))\n",
    "    if guess != tag:\n",
    "        errors.append( (tag, guess, name) )\n",
    "\n",
    "for (tag, guess, name) in sorted(errors): \n",
    "    print('correct=%-8s guess=%-8s name=%-30s'  %\n",
    "          (tag, guess, name))\n",
    "print(len(errors))"
   ]
  },
  {
   "cell_type": "markdown",
   "metadata": {},
   "source": [
    "### Run 2 - Most Important Features"
   ]
  },
  {
   "cell_type": "code",
   "execution_count": 15,
   "metadata": {},
   "outputs": [
    {
     "name": "stdout",
     "output_type": "stream",
     "text": [
      "   9.351 name_length==14 and label is 'female'\n",
      "   8.777 name_length==13 and label is 'female'\n",
      "   8.742 last_letter=='c' and label is 'male'\n",
      "   8.513 last_letter=='p' and label is 'male'\n",
      "  -5.240 last_letter=='a' and label is 'male'\n"
     ]
    }
   ],
   "source": [
    "classifier2.show_most_informative_features(5)"
   ]
  },
  {
   "cell_type": "markdown",
   "metadata": {},
   "source": [
    "### Add additional features - counts of \"a\", \"i\", \"o\", \"y\" and create dummy columns for first and last letter features"
   ]
  },
  {
   "cell_type": "code",
   "execution_count": 39,
   "metadata": {},
   "outputs": [],
   "source": [
    "train_name_df['last_letter'] = train_name_df['name'].apply(lambda x: x[-1])\n",
    "train_name_df['first_letter'] = train_name_df['name'].apply(lambda x: x[0])\n",
    "train_name_df['len_name'] = train_name_df['name'].apply(lambda x: len(x))\n",
    "train_name_df['a_count'] = train_name_df['name'].apply(lambda x: len(re.findall('a',x)))\n",
    "train_name_df['i_count'] = train_name_df['name'].apply(lambda x: len(re.findall('i',x)))\n",
    "train_name_df['o_count'] = train_name_df['name'].apply(lambda x: len(re.findall('o',x)))\n",
    "train_name_df['y_count'] = train_name_df['name'].apply(lambda x: len(re.findall('y',x)))\n",
    "train_name_df = pd.get_dummies(train_name_df, columns=['last_letter','first_letter'])"
   ]
  },
  {
   "cell_type": "code",
   "execution_count": 40,
   "metadata": {},
   "outputs": [
    {
     "data": {
      "text/html": [
       "<div>\n",
       "<style scoped>\n",
       "    .dataframe tbody tr th:only-of-type {\n",
       "        vertical-align: middle;\n",
       "    }\n",
       "\n",
       "    .dataframe tbody tr th {\n",
       "        vertical-align: top;\n",
       "    }\n",
       "\n",
       "    .dataframe thead th {\n",
       "        text-align: right;\n",
       "    }\n",
       "</style>\n",
       "<table border=\"1\" class=\"dataframe\">\n",
       "  <thead>\n",
       "    <tr style=\"text-align: right;\">\n",
       "      <th></th>\n",
       "      <th>name</th>\n",
       "      <th>gender</th>\n",
       "      <th>len_name</th>\n",
       "      <th>a_count</th>\n",
       "      <th>i_count</th>\n",
       "      <th>o_count</th>\n",
       "      <th>y_count</th>\n",
       "      <th>last_letter_a</th>\n",
       "      <th>last_letter_b</th>\n",
       "      <th>last_letter_c</th>\n",
       "      <th>...</th>\n",
       "      <th>first_letter_Q</th>\n",
       "      <th>first_letter_R</th>\n",
       "      <th>first_letter_S</th>\n",
       "      <th>first_letter_T</th>\n",
       "      <th>first_letter_U</th>\n",
       "      <th>first_letter_V</th>\n",
       "      <th>first_letter_W</th>\n",
       "      <th>first_letter_X</th>\n",
       "      <th>first_letter_Y</th>\n",
       "      <th>first_letter_Z</th>\n",
       "    </tr>\n",
       "  </thead>\n",
       "  <tbody>\n",
       "    <tr>\n",
       "      <th>0</th>\n",
       "      <td>Wyatan</td>\n",
       "      <td>male</td>\n",
       "      <td>6</td>\n",
       "      <td>2</td>\n",
       "      <td>0</td>\n",
       "      <td>0</td>\n",
       "      <td>1</td>\n",
       "      <td>0</td>\n",
       "      <td>0</td>\n",
       "      <td>0</td>\n",
       "      <td>...</td>\n",
       "      <td>0</td>\n",
       "      <td>0</td>\n",
       "      <td>0</td>\n",
       "      <td>0</td>\n",
       "      <td>0</td>\n",
       "      <td>0</td>\n",
       "      <td>1</td>\n",
       "      <td>0</td>\n",
       "      <td>0</td>\n",
       "      <td>0</td>\n",
       "    </tr>\n",
       "    <tr>\n",
       "      <th>1</th>\n",
       "      <td>Woodman</td>\n",
       "      <td>male</td>\n",
       "      <td>7</td>\n",
       "      <td>1</td>\n",
       "      <td>0</td>\n",
       "      <td>2</td>\n",
       "      <td>0</td>\n",
       "      <td>0</td>\n",
       "      <td>0</td>\n",
       "      <td>0</td>\n",
       "      <td>...</td>\n",
       "      <td>0</td>\n",
       "      <td>0</td>\n",
       "      <td>0</td>\n",
       "      <td>0</td>\n",
       "      <td>0</td>\n",
       "      <td>0</td>\n",
       "      <td>1</td>\n",
       "      <td>0</td>\n",
       "      <td>0</td>\n",
       "      <td>0</td>\n",
       "    </tr>\n",
       "    <tr>\n",
       "      <th>2</th>\n",
       "      <td>Chuck</td>\n",
       "      <td>male</td>\n",
       "      <td>5</td>\n",
       "      <td>0</td>\n",
       "      <td>0</td>\n",
       "      <td>0</td>\n",
       "      <td>0</td>\n",
       "      <td>0</td>\n",
       "      <td>0</td>\n",
       "      <td>0</td>\n",
       "      <td>...</td>\n",
       "      <td>0</td>\n",
       "      <td>0</td>\n",
       "      <td>0</td>\n",
       "      <td>0</td>\n",
       "      <td>0</td>\n",
       "      <td>0</td>\n",
       "      <td>0</td>\n",
       "      <td>0</td>\n",
       "      <td>0</td>\n",
       "      <td>0</td>\n",
       "    </tr>\n",
       "    <tr>\n",
       "      <th>3</th>\n",
       "      <td>James</td>\n",
       "      <td>male</td>\n",
       "      <td>5</td>\n",
       "      <td>1</td>\n",
       "      <td>0</td>\n",
       "      <td>0</td>\n",
       "      <td>0</td>\n",
       "      <td>0</td>\n",
       "      <td>0</td>\n",
       "      <td>0</td>\n",
       "      <td>...</td>\n",
       "      <td>0</td>\n",
       "      <td>0</td>\n",
       "      <td>0</td>\n",
       "      <td>0</td>\n",
       "      <td>0</td>\n",
       "      <td>0</td>\n",
       "      <td>0</td>\n",
       "      <td>0</td>\n",
       "      <td>0</td>\n",
       "      <td>0</td>\n",
       "    </tr>\n",
       "    <tr>\n",
       "      <th>4</th>\n",
       "      <td>Ulrich</td>\n",
       "      <td>male</td>\n",
       "      <td>6</td>\n",
       "      <td>0</td>\n",
       "      <td>1</td>\n",
       "      <td>0</td>\n",
       "      <td>0</td>\n",
       "      <td>0</td>\n",
       "      <td>0</td>\n",
       "      <td>0</td>\n",
       "      <td>...</td>\n",
       "      <td>0</td>\n",
       "      <td>0</td>\n",
       "      <td>0</td>\n",
       "      <td>0</td>\n",
       "      <td>1</td>\n",
       "      <td>0</td>\n",
       "      <td>0</td>\n",
       "      <td>0</td>\n",
       "      <td>0</td>\n",
       "      <td>0</td>\n",
       "    </tr>\n",
       "  </tbody>\n",
       "</table>\n",
       "<p>5 rows × 58 columns</p>\n",
       "</div>"
      ],
      "text/plain": [
       "      name gender  len_name  a_count  i_count  o_count  y_count  \\\n",
       "0   Wyatan   male         6        2        0        0        1   \n",
       "1  Woodman   male         7        1        0        2        0   \n",
       "2    Chuck   male         5        0        0        0        0   \n",
       "3    James   male         5        1        0        0        0   \n",
       "4   Ulrich   male         6        0        1        0        0   \n",
       "\n",
       "   last_letter_a  last_letter_b  last_letter_c  ...  first_letter_Q  \\\n",
       "0              0              0              0  ...               0   \n",
       "1              0              0              0  ...               0   \n",
       "2              0              0              0  ...               0   \n",
       "3              0              0              0  ...               0   \n",
       "4              0              0              0  ...               0   \n",
       "\n",
       "   first_letter_R  first_letter_S  first_letter_T  first_letter_U  \\\n",
       "0               0               0               0               0   \n",
       "1               0               0               0               0   \n",
       "2               0               0               0               0   \n",
       "3               0               0               0               0   \n",
       "4               0               0               0               1   \n",
       "\n",
       "   first_letter_V  first_letter_W  first_letter_X  first_letter_Y  \\\n",
       "0               0               1               0               0   \n",
       "1               0               1               0               0   \n",
       "2               0               0               0               0   \n",
       "3               0               0               0               0   \n",
       "4               0               0               0               0   \n",
       "\n",
       "   first_letter_Z  \n",
       "0               0  \n",
       "1               0  \n",
       "2               0  \n",
       "3               0  \n",
       "4               0  \n",
       "\n",
       "[5 rows x 58 columns]"
      ]
     },
     "execution_count": 40,
     "metadata": {},
     "output_type": "execute_result"
    }
   ],
   "source": [
    "train_name_df.head()"
   ]
  },
  {
   "cell_type": "code",
   "execution_count": 41,
   "metadata": {},
   "outputs": [],
   "source": [
    "test_name_df['last_letter'] = test_name_df['name'].apply(lambda x: x[-1])\n",
    "test_name_df['first_letter'] = test_name_df['name'].apply(lambda x: x[0])\n",
    "test_name_df['len_name'] = test_name_df['name'].apply(lambda x: len(x))\n",
    "test_name_df['a_count'] = test_name_df['name'].apply(lambda x: len(re.findall('a',x)))\n",
    "test_name_df['i_count'] = test_name_df['name'].apply(lambda x: len(re.findall('i',x)))\n",
    "test_name_df['o_count'] = test_name_df['name'].apply(lambda x: len(re.findall('o',x)))\n",
    "test_name_df['y_count'] = test_name_df['name'].apply(lambda x: len(re.findall('y',x)))\n",
    "test_name_df = pd.get_dummies(test_name_df, columns=['last_letter','first_letter'])"
   ]
  },
  {
   "cell_type": "code",
   "execution_count": 42,
   "metadata": {},
   "outputs": [],
   "source": [
    "test_name_df = test_name_df.reindex(columns = train_name_df.columns, fill_value=0)"
   ]
  },
  {
   "cell_type": "code",
   "execution_count": 43,
   "metadata": {},
   "outputs": [
    {
     "data": {
      "text/html": [
       "<div>\n",
       "<style scoped>\n",
       "    .dataframe tbody tr th:only-of-type {\n",
       "        vertical-align: middle;\n",
       "    }\n",
       "\n",
       "    .dataframe tbody tr th {\n",
       "        vertical-align: top;\n",
       "    }\n",
       "\n",
       "    .dataframe thead th {\n",
       "        text-align: right;\n",
       "    }\n",
       "</style>\n",
       "<table border=\"1\" class=\"dataframe\">\n",
       "  <thead>\n",
       "    <tr style=\"text-align: right;\">\n",
       "      <th></th>\n",
       "      <th>name</th>\n",
       "      <th>gender</th>\n",
       "      <th>len_name</th>\n",
       "      <th>a_count</th>\n",
       "      <th>i_count</th>\n",
       "      <th>o_count</th>\n",
       "      <th>y_count</th>\n",
       "      <th>last_letter_a</th>\n",
       "      <th>last_letter_b</th>\n",
       "      <th>last_letter_c</th>\n",
       "      <th>...</th>\n",
       "      <th>first_letter_Q</th>\n",
       "      <th>first_letter_R</th>\n",
       "      <th>first_letter_S</th>\n",
       "      <th>first_letter_T</th>\n",
       "      <th>first_letter_U</th>\n",
       "      <th>first_letter_V</th>\n",
       "      <th>first_letter_W</th>\n",
       "      <th>first_letter_X</th>\n",
       "      <th>first_letter_Y</th>\n",
       "      <th>first_letter_Z</th>\n",
       "    </tr>\n",
       "  </thead>\n",
       "  <tbody>\n",
       "    <tr>\n",
       "      <th>0</th>\n",
       "      <td>Orville</td>\n",
       "      <td>male</td>\n",
       "      <td>7</td>\n",
       "      <td>0</td>\n",
       "      <td>1</td>\n",
       "      <td>0</td>\n",
       "      <td>0</td>\n",
       "      <td>0</td>\n",
       "      <td>0</td>\n",
       "      <td>0</td>\n",
       "      <td>...</td>\n",
       "      <td>0</td>\n",
       "      <td>0</td>\n",
       "      <td>0</td>\n",
       "      <td>0</td>\n",
       "      <td>0</td>\n",
       "      <td>0</td>\n",
       "      <td>0</td>\n",
       "      <td>0</td>\n",
       "      <td>0</td>\n",
       "      <td>0</td>\n",
       "    </tr>\n",
       "    <tr>\n",
       "      <th>1</th>\n",
       "      <td>Edeline</td>\n",
       "      <td>female</td>\n",
       "      <td>7</td>\n",
       "      <td>0</td>\n",
       "      <td>1</td>\n",
       "      <td>0</td>\n",
       "      <td>0</td>\n",
       "      <td>0</td>\n",
       "      <td>0</td>\n",
       "      <td>0</td>\n",
       "      <td>...</td>\n",
       "      <td>0</td>\n",
       "      <td>0</td>\n",
       "      <td>0</td>\n",
       "      <td>0</td>\n",
       "      <td>0</td>\n",
       "      <td>0</td>\n",
       "      <td>0</td>\n",
       "      <td>0</td>\n",
       "      <td>0</td>\n",
       "      <td>0</td>\n",
       "    </tr>\n",
       "    <tr>\n",
       "      <th>2</th>\n",
       "      <td>Shandie</td>\n",
       "      <td>female</td>\n",
       "      <td>7</td>\n",
       "      <td>1</td>\n",
       "      <td>1</td>\n",
       "      <td>0</td>\n",
       "      <td>0</td>\n",
       "      <td>0</td>\n",
       "      <td>0</td>\n",
       "      <td>0</td>\n",
       "      <td>...</td>\n",
       "      <td>0</td>\n",
       "      <td>0</td>\n",
       "      <td>1</td>\n",
       "      <td>0</td>\n",
       "      <td>0</td>\n",
       "      <td>0</td>\n",
       "      <td>0</td>\n",
       "      <td>0</td>\n",
       "      <td>0</td>\n",
       "      <td>0</td>\n",
       "    </tr>\n",
       "    <tr>\n",
       "      <th>3</th>\n",
       "      <td>Modesty</td>\n",
       "      <td>female</td>\n",
       "      <td>7</td>\n",
       "      <td>0</td>\n",
       "      <td>0</td>\n",
       "      <td>1</td>\n",
       "      <td>1</td>\n",
       "      <td>0</td>\n",
       "      <td>0</td>\n",
       "      <td>0</td>\n",
       "      <td>...</td>\n",
       "      <td>0</td>\n",
       "      <td>0</td>\n",
       "      <td>0</td>\n",
       "      <td>0</td>\n",
       "      <td>0</td>\n",
       "      <td>0</td>\n",
       "      <td>0</td>\n",
       "      <td>0</td>\n",
       "      <td>0</td>\n",
       "      <td>0</td>\n",
       "    </tr>\n",
       "    <tr>\n",
       "      <th>4</th>\n",
       "      <td>Netti</td>\n",
       "      <td>female</td>\n",
       "      <td>5</td>\n",
       "      <td>0</td>\n",
       "      <td>1</td>\n",
       "      <td>0</td>\n",
       "      <td>0</td>\n",
       "      <td>0</td>\n",
       "      <td>0</td>\n",
       "      <td>0</td>\n",
       "      <td>...</td>\n",
       "      <td>0</td>\n",
       "      <td>0</td>\n",
       "      <td>0</td>\n",
       "      <td>0</td>\n",
       "      <td>0</td>\n",
       "      <td>0</td>\n",
       "      <td>0</td>\n",
       "      <td>0</td>\n",
       "      <td>0</td>\n",
       "      <td>0</td>\n",
       "    </tr>\n",
       "  </tbody>\n",
       "</table>\n",
       "<p>5 rows × 58 columns</p>\n",
       "</div>"
      ],
      "text/plain": [
       "      name  gender  len_name  a_count  i_count  o_count  y_count  \\\n",
       "0  Orville    male         7        0        1        0        0   \n",
       "1  Edeline  female         7        0        1        0        0   \n",
       "2  Shandie  female         7        1        1        0        0   \n",
       "3  Modesty  female         7        0        0        1        1   \n",
       "4    Netti  female         5        0        1        0        0   \n",
       "\n",
       "   last_letter_a  last_letter_b  last_letter_c  ...  first_letter_Q  \\\n",
       "0              0              0              0  ...               0   \n",
       "1              0              0              0  ...               0   \n",
       "2              0              0              0  ...               0   \n",
       "3              0              0              0  ...               0   \n",
       "4              0              0              0  ...               0   \n",
       "\n",
       "   first_letter_R  first_letter_S  first_letter_T  first_letter_U  \\\n",
       "0               0               0               0               0   \n",
       "1               0               0               0               0   \n",
       "2               0               1               0               0   \n",
       "3               0               0               0               0   \n",
       "4               0               0               0               0   \n",
       "\n",
       "   first_letter_V  first_letter_W  first_letter_X  first_letter_Y  \\\n",
       "0               0               0               0               0   \n",
       "1               0               0               0               0   \n",
       "2               0               0               0               0   \n",
       "3               0               0               0               0   \n",
       "4               0               0               0               0   \n",
       "\n",
       "   first_letter_Z  \n",
       "0               0  \n",
       "1               0  \n",
       "2               0  \n",
       "3               0  \n",
       "4               0  \n",
       "\n",
       "[5 rows x 58 columns]"
      ]
     },
     "execution_count": 43,
     "metadata": {},
     "output_type": "execute_result"
    }
   ],
   "source": [
    "test_name_df.head()"
   ]
  },
  {
   "cell_type": "markdown",
   "metadata": {},
   "source": [
    "### Run 3 - Logistic Classifier with additional features"
   ]
  },
  {
   "cell_type": "code",
   "execution_count": 62,
   "metadata": {},
   "outputs": [],
   "source": [
    "def logistic_classifier(train_df, test_df):\n",
    "    \n",
    "    X_train = train_df.drop(labels=['gender','name'],\n",
    "                axis=1)        \n",
    "    y_train = train_df['gender']\n",
    "    \n",
    "    X_test = test_df.drop(labels=['gender','name'],\n",
    "                axis=1)       \n",
    "    y_test = test_df['gender']\n",
    "    \n",
    "    lr = LogisticRegression(penalty='l2',\n",
    "                            dual=False,\n",
    "                            max_iter=1000,\n",
    "                            tol=.0001,\n",
    "                            C=1)\n",
    "\n",
    "    lr.fit(X_train,y_train)\n",
    "    y_pred = lr.predict(X_test)\n",
    "    print('Run 3: Gender correctly identified: ', \"{:.1%}\".format(lr.score(X_test, y_test)))\n",
    "    #print('Train Accuracy',lr.score(X_train, y_train))\n",
    "    print(\"\")\n",
    "    print('Confusion Matrix')\n",
    "    print(confusion_matrix(y_test, y_pred))"
   ]
  },
  {
   "cell_type": "code",
   "execution_count": 63,
   "metadata": {},
   "outputs": [
    {
     "name": "stdout",
     "output_type": "stream",
     "text": [
      "Run 3: Gender correctly identified:  80.0%\n",
      "\n",
      "Confusion Matrix\n",
      "[[257  49]\n",
      " [ 51 143]]\n"
     ]
    }
   ],
   "source": [
    "logistic_classifier(train_name_df, test_name_df)"
   ]
  },
  {
   "cell_type": "markdown",
   "metadata": {},
   "source": [
    "### Run 4 - Naive Bayes Classifier with additional features"
   ]
  },
  {
   "cell_type": "code",
   "execution_count": 64,
   "metadata": {},
   "outputs": [],
   "source": [
    "def m_naive_bayes_classifier(train_df, test_df):\n",
    "    \n",
    "    X_train = train_df.drop(labels=['gender','name'],\n",
    "                axis=1)        \n",
    "    y_train = train_df['gender']\n",
    "    \n",
    "    X_test = test_df.drop(labels=['gender','name'],\n",
    "                axis=1)       \n",
    "    y_test = test_df['gender']\n",
    "    \n",
    "    nb = MultinomialNB()\n",
    "    \n",
    "    nb.fit(X_train,y_train)\n",
    "    y_pred = nb.predict(X_test)\n",
    "    print('Run 4: Gender correctly identified: ', \"{:.1%}\".format(nb.score(X_test, y_test)))\n",
    "    #print('Train Accuracy',nb.score(X_train, y_train))\n",
    "    print(\"\")\n",
    "    print('Confusion Matrix')\n",
    "    print(confusion_matrix(y_test, y_pred))"
   ]
  },
  {
   "cell_type": "code",
   "execution_count": 65,
   "metadata": {},
   "outputs": [
    {
     "name": "stdout",
     "output_type": "stream",
     "text": [
      "Run 4: Gender correctly identified:  79.2%\n",
      "\n",
      "Confusion Matrix\n",
      "[[254  52]\n",
      " [ 52 142]]\n"
     ]
    }
   ],
   "source": [
    "m_naive_bayes_classifier(train_name_df, test_name_df)"
   ]
  },
  {
   "cell_type": "markdown",
   "metadata": {},
   "source": [
    "### Run 5 - Random Forest Classifier with additional features"
   ]
  },
  {
   "cell_type": "code",
   "execution_count": 66,
   "metadata": {},
   "outputs": [],
   "source": [
    "def random_forest_classifier(train_df, test_df):\n",
    "    \n",
    "    X_train = train_df.drop(labels=['gender','name'],\n",
    "                axis=1)        \n",
    "    y_train = train_df['gender']\n",
    "    \n",
    "    X_test = test_df.drop(labels=['gender','name'],\n",
    "                axis=1)       \n",
    "    y_test = test_df['gender']\n",
    "    rf=RandomForestClassifier(n_estimators=20,\n",
    "                              min_samples_split=10)\n",
    "\n",
    "\n",
    "    rf.fit(X_train,y_train)\n",
    "    y_pred = rf.predict(X_test)\n",
    "    print('Run 5: Gender correctly identified: ', \"{:.1%}\".format(rf.score(X_test, y_test)))\n",
    "    #print('Train Accuracy',rf.score(X_train, y_train))\n",
    "\n",
    "    print(\"\")\n",
    "    print('Confusion Matrix')\n",
    "    print(confusion_matrix(y_test, y_pred))"
   ]
  },
  {
   "cell_type": "code",
   "execution_count": 67,
   "metadata": {},
   "outputs": [
    {
     "name": "stdout",
     "output_type": "stream",
     "text": [
      "Run 5: Gender correctly identified:  78.8%\n",
      "\n",
      "Confusion Matrix\n",
      "[[256  50]\n",
      " [ 56 138]]\n"
     ]
    }
   ],
   "source": [
    "random_forest_classifier(train_name_df, test_name_df)"
   ]
  },
  {
   "cell_type": "code",
   "execution_count": null,
   "metadata": {},
   "outputs": [],
   "source": []
  }
 ],
 "metadata": {
  "kernelspec": {
   "display_name": "Python 3.7.4 64-bit ('base': conda)",
   "language": "python",
   "name": "python37464bitbaseconda0f2540ca00c14c548fd578f4a6b1a719"
  },
  "language_info": {
   "codemirror_mode": {
    "name": "ipython",
    "version": 3
   },
   "file_extension": ".py",
   "mimetype": "text/x-python",
   "name": "python",
   "nbconvert_exporter": "python",
   "pygments_lexer": "ipython3",
   "version": "3.7.6"
  }
 },
 "nbformat": 4,
 "nbformat_minor": 4
}
